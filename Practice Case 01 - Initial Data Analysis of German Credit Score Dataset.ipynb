{
 "cells": [
  {
   "cell_type": "markdown",
   "metadata": {
    "collapsed": true
   },
   "source": [
    "# Practice 01 - Initial Data Analysis of German Credit Score Dataset"
   ]
  },
  {
   "cell_type": "markdown",
   "metadata": {},
   "source": [
    "This file contains answers for Practice 01 of Home Credit Indonesia Data Science Bootcamp 2019 in IYKRA\n",
    "\n",
    "Author: Nirta Ika Yunita\n",
    "<br> Date: 2019, October 24"
   ]
  },
  {
   "cell_type": "markdown",
   "metadata": {},
   "source": [
    "## German Credit Score Case"
   ]
  },
  {
   "cell_type": "code",
   "execution_count": 1,
   "metadata": {
    "collapsed": true
   },
   "outputs": [],
   "source": [
    "# Import packages\n",
    "import numpy as np\n",
    "import pandas as pd"
   ]
  },
  {
   "cell_type": "code",
   "execution_count": 2,
   "metadata": {
    "collapsed": true
   },
   "outputs": [],
   "source": [
    "# Define class\n",
    "class color:\n",
    "   BLUE = '\\033[94m'\n",
    "   END = '\\033[0m'"
   ]
  },
  {
   "cell_type": "code",
   "execution_count": 3,
   "metadata": {
    "collapsed": true
   },
   "outputs": [],
   "source": [
    "# Import data\n",
    "data = pd.read_csv(\"german_credit_data_with_risk.csv\", encoding = \"latin1\")"
   ]
  },
  {
   "cell_type": "code",
   "execution_count": 4,
   "metadata": {},
   "outputs": [
    {
     "name": "stdout",
     "output_type": "stream",
     "text": [
      "(1000, 11)\n"
     ]
    },
    {
     "data": {
      "text/html": [
       "<div>\n",
       "<style>\n",
       "    .dataframe thead tr:only-child th {\n",
       "        text-align: right;\n",
       "    }\n",
       "\n",
       "    .dataframe thead th {\n",
       "        text-align: left;\n",
       "    }\n",
       "\n",
       "    .dataframe tbody tr th {\n",
       "        vertical-align: top;\n",
       "    }\n",
       "</style>\n",
       "<table border=\"1\" class=\"dataframe\">\n",
       "  <thead>\n",
       "    <tr style=\"text-align: right;\">\n",
       "      <th></th>\n",
       "      <th>Unnamed: 0</th>\n",
       "      <th>Age</th>\n",
       "      <th>Sex</th>\n",
       "      <th>Job</th>\n",
       "      <th>Housing</th>\n",
       "      <th>Saving accounts</th>\n",
       "      <th>Checking account</th>\n",
       "      <th>Credit amount</th>\n",
       "      <th>Duration</th>\n",
       "      <th>Purpose</th>\n",
       "      <th>Risk</th>\n",
       "    </tr>\n",
       "  </thead>\n",
       "  <tbody>\n",
       "    <tr>\n",
       "      <th>0</th>\n",
       "      <td>0</td>\n",
       "      <td>67</td>\n",
       "      <td>male</td>\n",
       "      <td>2</td>\n",
       "      <td>own</td>\n",
       "      <td>NaN</td>\n",
       "      <td>little</td>\n",
       "      <td>1169</td>\n",
       "      <td>6</td>\n",
       "      <td>radio/TV</td>\n",
       "      <td>good</td>\n",
       "    </tr>\n",
       "    <tr>\n",
       "      <th>1</th>\n",
       "      <td>1</td>\n",
       "      <td>22</td>\n",
       "      <td>female</td>\n",
       "      <td>2</td>\n",
       "      <td>own</td>\n",
       "      <td>little</td>\n",
       "      <td>moderate</td>\n",
       "      <td>5951</td>\n",
       "      <td>48</td>\n",
       "      <td>radio/TV</td>\n",
       "      <td>bad</td>\n",
       "    </tr>\n",
       "    <tr>\n",
       "      <th>2</th>\n",
       "      <td>2</td>\n",
       "      <td>49</td>\n",
       "      <td>male</td>\n",
       "      <td>1</td>\n",
       "      <td>own</td>\n",
       "      <td>little</td>\n",
       "      <td>NaN</td>\n",
       "      <td>2096</td>\n",
       "      <td>12</td>\n",
       "      <td>education</td>\n",
       "      <td>good</td>\n",
       "    </tr>\n",
       "    <tr>\n",
       "      <th>3</th>\n",
       "      <td>3</td>\n",
       "      <td>45</td>\n",
       "      <td>male</td>\n",
       "      <td>2</td>\n",
       "      <td>free</td>\n",
       "      <td>little</td>\n",
       "      <td>little</td>\n",
       "      <td>7882</td>\n",
       "      <td>42</td>\n",
       "      <td>furniture/equipment</td>\n",
       "      <td>good</td>\n",
       "    </tr>\n",
       "    <tr>\n",
       "      <th>4</th>\n",
       "      <td>4</td>\n",
       "      <td>53</td>\n",
       "      <td>male</td>\n",
       "      <td>2</td>\n",
       "      <td>free</td>\n",
       "      <td>little</td>\n",
       "      <td>little</td>\n",
       "      <td>4870</td>\n",
       "      <td>24</td>\n",
       "      <td>car</td>\n",
       "      <td>bad</td>\n",
       "    </tr>\n",
       "  </tbody>\n",
       "</table>\n",
       "</div>"
      ],
      "text/plain": [
       "   Unnamed: 0  Age     Sex  Job Housing Saving accounts Checking account  \\\n",
       "0           0   67    male    2     own             NaN           little   \n",
       "1           1   22  female    2     own          little         moderate   \n",
       "2           2   49    male    1     own          little              NaN   \n",
       "3           3   45    male    2    free          little           little   \n",
       "4           4   53    male    2    free          little           little   \n",
       "\n",
       "   Credit amount  Duration              Purpose  Risk  \n",
       "0           1169         6             radio/TV  good  \n",
       "1           5951        48             radio/TV   bad  \n",
       "2           2096        12            education  good  \n",
       "3           7882        42  furniture/equipment  good  \n",
       "4           4870        24                  car   bad  "
      ]
     },
     "execution_count": 4,
     "metadata": {},
     "output_type": "execute_result"
    }
   ],
   "source": [
    "# Display data and the properties\n",
    "print(data.shape)\n",
    "data.head()"
   ]
  },
  {
   "cell_type": "code",
   "execution_count": 5,
   "metadata": {},
   "outputs": [
    {
     "data": {
      "text/plain": [
       "Unnamed: 0           int64\n",
       "Age                  int64\n",
       "Sex                 object\n",
       "Job                  int64\n",
       "Housing             object\n",
       "Saving accounts     object\n",
       "Checking account    object\n",
       "Credit amount        int64\n",
       "Duration             int64\n",
       "Purpose             object\n",
       "Risk                object\n",
       "dtype: object"
      ]
     },
     "execution_count": 5,
     "metadata": {},
     "output_type": "execute_result"
    }
   ],
   "source": [
    "# Data types\n",
    "data.dtypes"
   ]
  },
  {
   "cell_type": "code",
   "execution_count": 6,
   "metadata": {},
   "outputs": [
    {
     "name": "stdout",
     "output_type": "stream",
     "text": [
      "<class 'pandas.core.frame.DataFrame'>\n",
      "RangeIndex: 1000 entries, 0 to 999\n",
      "Data columns (total 11 columns):\n",
      "Unnamed: 0          1000 non-null int64\n",
      "Age                 1000 non-null int64\n",
      "Sex                 1000 non-null object\n",
      "Job                 1000 non-null int64\n",
      "Housing             1000 non-null object\n",
      "Saving accounts     817 non-null object\n",
      "Checking account    606 non-null object\n",
      "Credit amount       1000 non-null int64\n",
      "Duration            1000 non-null int64\n",
      "Purpose             1000 non-null object\n",
      "Risk                1000 non-null object\n",
      "dtypes: int64(5), object(6)\n",
      "memory usage: 86.0+ KB\n"
     ]
    }
   ],
   "source": [
    "# Data information\n",
    "data.info()"
   ]
  },
  {
   "cell_type": "code",
   "execution_count": 8,
   "metadata": {},
   "outputs": [
    {
     "name": "stdout",
     "output_type": "stream",
     "text": [
      "(1000, 10)\n"
     ]
    },
    {
     "data": {
      "text/html": [
       "<div>\n",
       "<style>\n",
       "    .dataframe thead tr:only-child th {\n",
       "        text-align: right;\n",
       "    }\n",
       "\n",
       "    .dataframe thead th {\n",
       "        text-align: left;\n",
       "    }\n",
       "\n",
       "    .dataframe tbody tr th {\n",
       "        vertical-align: top;\n",
       "    }\n",
       "</style>\n",
       "<table border=\"1\" class=\"dataframe\">\n",
       "  <thead>\n",
       "    <tr style=\"text-align: right;\">\n",
       "      <th></th>\n",
       "      <th>Age</th>\n",
       "      <th>Sex</th>\n",
       "      <th>Job</th>\n",
       "      <th>Housing</th>\n",
       "      <th>Saving accounts</th>\n",
       "      <th>Checking account</th>\n",
       "      <th>Credit amount</th>\n",
       "      <th>Duration</th>\n",
       "      <th>Purpose</th>\n",
       "      <th>Risk</th>\n",
       "    </tr>\n",
       "    <tr>\n",
       "      <th>Unnamed: 0</th>\n",
       "      <th></th>\n",
       "      <th></th>\n",
       "      <th></th>\n",
       "      <th></th>\n",
       "      <th></th>\n",
       "      <th></th>\n",
       "      <th></th>\n",
       "      <th></th>\n",
       "      <th></th>\n",
       "      <th></th>\n",
       "    </tr>\n",
       "  </thead>\n",
       "  <tbody>\n",
       "    <tr>\n",
       "      <th>0</th>\n",
       "      <td>67</td>\n",
       "      <td>male</td>\n",
       "      <td>2</td>\n",
       "      <td>own</td>\n",
       "      <td>NaN</td>\n",
       "      <td>little</td>\n",
       "      <td>1169</td>\n",
       "      <td>6</td>\n",
       "      <td>radio/TV</td>\n",
       "      <td>good</td>\n",
       "    </tr>\n",
       "    <tr>\n",
       "      <th>1</th>\n",
       "      <td>22</td>\n",
       "      <td>female</td>\n",
       "      <td>2</td>\n",
       "      <td>own</td>\n",
       "      <td>little</td>\n",
       "      <td>moderate</td>\n",
       "      <td>5951</td>\n",
       "      <td>48</td>\n",
       "      <td>radio/TV</td>\n",
       "      <td>bad</td>\n",
       "    </tr>\n",
       "    <tr>\n",
       "      <th>2</th>\n",
       "      <td>49</td>\n",
       "      <td>male</td>\n",
       "      <td>1</td>\n",
       "      <td>own</td>\n",
       "      <td>little</td>\n",
       "      <td>NaN</td>\n",
       "      <td>2096</td>\n",
       "      <td>12</td>\n",
       "      <td>education</td>\n",
       "      <td>good</td>\n",
       "    </tr>\n",
       "    <tr>\n",
       "      <th>3</th>\n",
       "      <td>45</td>\n",
       "      <td>male</td>\n",
       "      <td>2</td>\n",
       "      <td>free</td>\n",
       "      <td>little</td>\n",
       "      <td>little</td>\n",
       "      <td>7882</td>\n",
       "      <td>42</td>\n",
       "      <td>furniture/equipment</td>\n",
       "      <td>good</td>\n",
       "    </tr>\n",
       "    <tr>\n",
       "      <th>4</th>\n",
       "      <td>53</td>\n",
       "      <td>male</td>\n",
       "      <td>2</td>\n",
       "      <td>free</td>\n",
       "      <td>little</td>\n",
       "      <td>little</td>\n",
       "      <td>4870</td>\n",
       "      <td>24</td>\n",
       "      <td>car</td>\n",
       "      <td>bad</td>\n",
       "    </tr>\n",
       "  </tbody>\n",
       "</table>\n",
       "</div>"
      ],
      "text/plain": [
       "            Age     Sex  Job Housing Saving accounts Checking account  \\\n",
       "Unnamed: 0                                                              \n",
       "0            67    male    2     own             NaN           little   \n",
       "1            22  female    2     own          little         moderate   \n",
       "2            49    male    1     own          little              NaN   \n",
       "3            45    male    2    free          little           little   \n",
       "4            53    male    2    free          little           little   \n",
       "\n",
       "            Credit amount  Duration              Purpose  Risk  \n",
       "Unnamed: 0                                                      \n",
       "0                    1169         6             radio/TV  good  \n",
       "1                    5951        48             radio/TV   bad  \n",
       "2                    2096        12            education  good  \n",
       "3                    7882        42  furniture/equipment  good  \n",
       "4                    4870        24                  car   bad  "
      ]
     },
     "execution_count": 8,
     "metadata": {},
     "output_type": "execute_result"
    }
   ],
   "source": [
    "# Set column index\n",
    "data = data.set_index(\"Unnamed: 0\")\n",
    "\n",
    "print(data.shape)\n",
    "data.head()"
   ]
  },
  {
   "cell_type": "markdown",
   "metadata": {},
   "source": [
    "### Part A"
   ]
  },
  {
   "cell_type": "markdown",
   "metadata": {},
   "source": [
    "On your Jupyter notebook, answer the following questions! "
   ]
  },
  {
   "cell_type": "markdown",
   "metadata": {},
   "source": [
    "1\\. How many rows and columns reflected in the dataset?"
   ]
  },
  {
   "cell_type": "code",
   "execution_count": 7,
   "metadata": {},
   "outputs": [
    {
     "name": "stdout",
     "output_type": "stream",
     "text": [
      "Number of rows reflected on dataset are \u001b[94m1000\u001b[0m.\n",
      "\n",
      "Number of columns reflected on dataset are \u001b[94m11\u001b[0m.\n"
     ]
    }
   ],
   "source": [
    "row = data.shape[0]\n",
    "column = data.shape[1]\n",
    "\n",
    "print(\"Number of rows reflected on dataset are \" + color.BLUE + str(row) + color.END + \".\") \n",
    "print(\"\\nNumber of columns reflected on dataset are \" + color.BLUE + str(column) + color.END + \".\") "
   ]
  },
  {
   "cell_type": "markdown",
   "metadata": {},
   "source": [
    "2\\. What is the minimum, maximum, and mean of the customer's age? "
   ]
  },
  {
   "cell_type": "code",
   "execution_count": 9,
   "metadata": {},
   "outputs": [
    {
     "name": "stdout",
     "output_type": "stream",
     "text": [
      "The minimum of customer's age is \u001b[94m19\u001b[0m.\n",
      "\n",
      "The maximum of customer's age is \u001b[94m75\u001b[0m.\n",
      "\n",
      "The mean of customer's age is \u001b[94m35.546\u001b[0m.\n"
     ]
    }
   ],
   "source": [
    "min_age = data[\"Age\"].min()\n",
    "max_age = data[\"Age\"].max()\n",
    "mean_age = data[\"Age\"].mean()\n",
    "\n",
    "print(\"The minimum of customer's age is \" + color.BLUE + str(min_age) + color.END + \".\")\n",
    "print(\"\\nThe maximum of customer's age is \" + color.BLUE + str(max_age) + color.END + \".\")\n",
    "print(\"\\nThe mean of customer's age is \" + color.BLUE + str(mean_age) + color.END + \".\")"
   ]
  },
  {
   "cell_type": "markdown",
   "metadata": {},
   "source": [
    "3\\. How many are male and how many are female? Why?"
   ]
  },
  {
   "cell_type": "code",
   "execution_count": 10,
   "metadata": {},
   "outputs": [
    {
     "name": "stdout",
     "output_type": "stream",
     "text": [
      "There are \u001b[94m690\u001b[0m male customers and \u001b[94m310\u001b[0m female customers.\n",
      "\n",
      "Based on demographic statistics of Germany in 1995, there were 94.13 males per 100 females.\n",
      "So, the reason why there are more males than females customers is not based on the population that time.\n",
      "One of possibe reason is the female customer might be using their husband id card to apply credit in bank.\n"
     ]
    }
   ],
   "source": [
    "male = data[data.Sex == 'male']\n",
    "female = data[data.Sex == 'female']\n",
    "\n",
    "print(\"There are \" + color.BLUE + str(male.shape[0]) + color.END + \" male customers and \" + color.BLUE + str(female.shape[0]) + color.END + \" female customers.\")\n",
    "print(\"\\nBased on demographic statistics of Germany in 1995, there were 94.13 males per 100 females.\\nSo, the reason why there are more males than females customers is not based on the population that time.\\nOne of possibe reason is the female customer might be using their husband id card to apply credit in bank.\")"
   ]
  },
  {
   "cell_type": "markdown",
   "metadata": {},
   "source": [
    "4\\. How many high skilled workers customers reflected in the dataset?"
   ]
  },
  {
   "cell_type": "code",
   "execution_count": 11,
   "metadata": {},
   "outputs": [
    {
     "name": "stdout",
     "output_type": "stream",
     "text": [
      "There are \u001b[94m148\u001b[0m high skilled workers customers reflected in the dataset.\n"
     ]
    }
   ],
   "source": [
    "job = data[data.Job == 3]\n",
    "\n",
    "print(\"There are \" + color.BLUE + str(job.shape[0]) + color.END + \" high skilled workers customers reflected in the dataset.\")"
   ]
  },
  {
   "cell_type": "markdown",
   "metadata": {},
   "source": [
    "5\\. How many customers who own the house? "
   ]
  },
  {
   "cell_type": "code",
   "execution_count": 12,
   "metadata": {},
   "outputs": [
    {
     "name": "stdout",
     "output_type": "stream",
     "text": [
      "There are \u001b[94m713\u001b[0m customers who own the house.\n"
     ]
    }
   ],
   "source": [
    "own = data[data.Housing == 'own']\n",
    "\n",
    "print(\"There are \" + color.BLUE + str(own.shape[0]) + color.END + \" customers who own the house.\")"
   ]
  },
  {
   "cell_type": "markdown",
   "metadata": {},
   "source": [
    "6\\. How many customers who have 'rich' Saving accounts? "
   ]
  },
  {
   "cell_type": "code",
   "execution_count": 13,
   "metadata": {},
   "outputs": [
    {
     "name": "stdout",
     "output_type": "stream",
     "text": [
      "There are \u001b[94m48\u001b[0m customer who have 'rich' saving accounts.\n"
     ]
    }
   ],
   "source": [
    "rich_save = data[data[\"Saving accounts\"] == 'rich']\n",
    "\n",
    "print(\"There are \" + color.BLUE + str(rich_save.shape[0]) + color.END + \" customer who have 'rich' saving accounts.\")"
   ]
  },
  {
   "cell_type": "markdown",
   "metadata": {},
   "source": [
    "7\\. How many customers who do not have checking accounts or have zero checking account? "
   ]
  },
  {
   "cell_type": "code",
   "execution_count": 14,
   "metadata": {},
   "outputs": [
    {
     "name": "stdout",
     "output_type": "stream",
     "text": [
      "There are \u001b[94m394\u001b[0m customers who do not have checking accounts or have zero checking account.\n"
     ]
    }
   ],
   "source": [
    "zero_check = data[\"Checking account\"].isnull().sum()\n",
    "\n",
    "print(\"There are \" + color.BLUE + str(zero_check) + color.END + \" customers who do not have checking accounts or have zero checking account.\")"
   ]
  },
  {
   "cell_type": "markdown",
   "metadata": {},
   "source": [
    "8\\. Who is the one who have highest credit amount? Show us the profile of the age, sex, job, housing, saving\n",
    "account, and checking account!"
   ]
  },
  {
   "cell_type": "code",
   "execution_count": 15,
   "metadata": {},
   "outputs": [
    {
     "name": "stdout",
     "output_type": "stream",
     "text": [
      "The profile of customer who has the highest credit amount (\u001b[94m18424\u001b[0m Deutsch Mark) is shown below.\n",
      "Age : \u001b[94m32\u001b[0m\n",
      "Sex : \u001b[94mfemale\u001b[0m\n",
      "Job : \u001b[94m3\u001b[0m\n",
      "Housing : \u001b[94mown\u001b[0m\n",
      "Saving account : \u001b[94mlittle\u001b[0m\n",
      "Checking account : \u001b[94mmoderate\u001b[0m\n"
     ]
    }
   ],
   "source": [
    "highest_credit = data.sort_values(by =[\"Credit amount\"], ascending = False).head(1)\n",
    "age_hc = highest_credit.iloc[0][0]\n",
    "sex_hc = highest_credit.iloc[0][1]\n",
    "job_hc = highest_credit.iloc[0][2]\n",
    "housing_hc = highest_credit.iloc[0][3]\n",
    "saving_hc = highest_credit.iloc[0][4]\n",
    "checking_hc = highest_credit.iloc[0][5]\n",
    "amount_hc = highest_credit.iloc[0][6]\n",
    "\n",
    "print(\"The profile of customer who has the highest credit amount (\" + color.BLUE + str(amount_hc) + color.END + \" Deutsch Mark) is shown below.\")\n",
    "print(\"Age : \" + color.BLUE + str(age_hc) + color.END)\n",
    "print(\"Sex : \" + color.BLUE + str(sex_hc) + color.END)\n",
    "print(\"Job : \" + color.BLUE + str(job_hc) + color.END)\n",
    "print(\"Housing : \" + color.BLUE + str(housing_hc) + color.END)\n",
    "print(\"Saving account : \" + color.BLUE + str(saving_hc) + color.END)\n",
    "print(\"Checking account : \" + color.BLUE + str(checking_hc) + color.END)"
   ]
  },
  {
   "cell_type": "markdown",
   "metadata": {},
   "source": [
    "9\\. How many customers are classified as good risk and bad risk? "
   ]
  },
  {
   "cell_type": "code",
   "execution_count": 17,
   "metadata": {},
   "outputs": [
    {
     "name": "stdout",
     "output_type": "stream",
     "text": [
      "There are \u001b[94m700\u001b[0m customers that classified as good risk and \u001b[94m300\u001b[0m customers that classified as bad ones.\n"
     ]
    }
   ],
   "source": [
    "good = data[data.Risk == 'good']\n",
    "bad = data[data.Risk == 'bad']\n",
    "\n",
    "print(\"There are \" + color.BLUE + str(good.shape[0]) + color.END + \" customers that classified as good risk and \" + color.BLUE + str(bad.shape[0]) + color.END + \" customers that classified as bad ones.\")"
   ]
  },
  {
   "cell_type": "markdown",
   "metadata": {},
   "source": [
    "10\\. Is the average of credit amount for good risk is higher than bad risk?"
   ]
  },
  {
   "cell_type": "code",
   "execution_count": 21,
   "metadata": {},
   "outputs": [
    {
     "name": "stdout",
     "output_type": "stream",
     "text": [
      "The average of credit amount for good risk is \u001b[94m2985.457\u001b[0m Deutsch Mark.\n",
      "The average of credit amount for bad risk is \u001b[94m3938.127\u001b[0m Deutsch Mark.\n",
      "\n",
      "No, the average of credit amount for good risk is not higher than bad risk.\n"
     ]
    }
   ],
   "source": [
    "mean_credit_good = round(good[\"Credit amount\"].mean(), 3)\n",
    "mean_credit_bad = round(bad[\"Credit amount\"].mean(), 3)\n",
    "\n",
    "print(\"The average of credit amount for good risk is \" + color.BLUE + str(mean_credit_good) + color.END + \" Deutsch Mark.\")\n",
    "print(\"The average of credit amount for bad risk is \" + color.BLUE + str(mean_credit_bad) + color.END + \" Deutsch Mark.\\n\")\n",
    "\n",
    "if mean_credit_good > mean_credit_bad:\n",
    "    print(\"Yes, the average of credit amount for good risk is higher than bad risk.\")\n",
    "else:\n",
    "    print(\"No, the average of credit amount for good risk is not higher than bad risk.\")"
   ]
  },
  {
   "cell_type": "markdown",
   "metadata": {},
   "source": [
    "### Part B"
   ]
  },
  {
   "cell_type": "markdown",
   "metadata": {},
   "source": [
    "Create 10 more questions and answers to understand more about the dataset."
   ]
  },
  {
   "cell_type": "code",
   "execution_count": 22,
   "metadata": {},
   "outputs": [
    {
     "data": {
      "text/html": [
       "<div>\n",
       "<style>\n",
       "    .dataframe thead tr:only-child th {\n",
       "        text-align: right;\n",
       "    }\n",
       "\n",
       "    .dataframe thead th {\n",
       "        text-align: left;\n",
       "    }\n",
       "\n",
       "    .dataframe tbody tr th {\n",
       "        vertical-align: top;\n",
       "    }\n",
       "</style>\n",
       "<table border=\"1\" class=\"dataframe\">\n",
       "  <thead>\n",
       "    <tr style=\"text-align: right;\">\n",
       "      <th></th>\n",
       "      <th>Age</th>\n",
       "      <th>Sex</th>\n",
       "      <th>Job</th>\n",
       "      <th>Housing</th>\n",
       "      <th>Saving accounts</th>\n",
       "      <th>Checking account</th>\n",
       "      <th>Credit amount</th>\n",
       "      <th>Duration</th>\n",
       "      <th>Purpose</th>\n",
       "      <th>Risk</th>\n",
       "    </tr>\n",
       "    <tr>\n",
       "      <th>Unnamed: 0</th>\n",
       "      <th></th>\n",
       "      <th></th>\n",
       "      <th></th>\n",
       "      <th></th>\n",
       "      <th></th>\n",
       "      <th></th>\n",
       "      <th></th>\n",
       "      <th></th>\n",
       "      <th></th>\n",
       "      <th></th>\n",
       "    </tr>\n",
       "  </thead>\n",
       "  <tbody>\n",
       "    <tr>\n",
       "      <th>0</th>\n",
       "      <td>67</td>\n",
       "      <td>male</td>\n",
       "      <td>2</td>\n",
       "      <td>own</td>\n",
       "      <td>NaN</td>\n",
       "      <td>little</td>\n",
       "      <td>1169</td>\n",
       "      <td>6</td>\n",
       "      <td>radio/TV</td>\n",
       "      <td>good</td>\n",
       "    </tr>\n",
       "    <tr>\n",
       "      <th>1</th>\n",
       "      <td>22</td>\n",
       "      <td>female</td>\n",
       "      <td>2</td>\n",
       "      <td>own</td>\n",
       "      <td>little</td>\n",
       "      <td>moderate</td>\n",
       "      <td>5951</td>\n",
       "      <td>48</td>\n",
       "      <td>radio/TV</td>\n",
       "      <td>bad</td>\n",
       "    </tr>\n",
       "    <tr>\n",
       "      <th>2</th>\n",
       "      <td>49</td>\n",
       "      <td>male</td>\n",
       "      <td>1</td>\n",
       "      <td>own</td>\n",
       "      <td>little</td>\n",
       "      <td>NaN</td>\n",
       "      <td>2096</td>\n",
       "      <td>12</td>\n",
       "      <td>education</td>\n",
       "      <td>good</td>\n",
       "    </tr>\n",
       "    <tr>\n",
       "      <th>3</th>\n",
       "      <td>45</td>\n",
       "      <td>male</td>\n",
       "      <td>2</td>\n",
       "      <td>free</td>\n",
       "      <td>little</td>\n",
       "      <td>little</td>\n",
       "      <td>7882</td>\n",
       "      <td>42</td>\n",
       "      <td>furniture/equipment</td>\n",
       "      <td>good</td>\n",
       "    </tr>\n",
       "    <tr>\n",
       "      <th>4</th>\n",
       "      <td>53</td>\n",
       "      <td>male</td>\n",
       "      <td>2</td>\n",
       "      <td>free</td>\n",
       "      <td>little</td>\n",
       "      <td>little</td>\n",
       "      <td>4870</td>\n",
       "      <td>24</td>\n",
       "      <td>car</td>\n",
       "      <td>bad</td>\n",
       "    </tr>\n",
       "  </tbody>\n",
       "</table>\n",
       "</div>"
      ],
      "text/plain": [
       "            Age     Sex  Job Housing Saving accounts Checking account  \\\n",
       "Unnamed: 0                                                              \n",
       "0            67    male    2     own             NaN           little   \n",
       "1            22  female    2     own          little         moderate   \n",
       "2            49    male    1     own          little              NaN   \n",
       "3            45    male    2    free          little           little   \n",
       "4            53    male    2    free          little           little   \n",
       "\n",
       "            Credit amount  Duration              Purpose  Risk  \n",
       "Unnamed: 0                                                      \n",
       "0                    1169         6             radio/TV  good  \n",
       "1                    5951        48             radio/TV   bad  \n",
       "2                    2096        12            education  good  \n",
       "3                    7882        42  furniture/equipment  good  \n",
       "4                    4870        24                  car   bad  "
      ]
     },
     "execution_count": 22,
     "metadata": {},
     "output_type": "execute_result"
    }
   ],
   "source": [
    "data.head()"
   ]
  },
  {
   "cell_type": "markdown",
   "metadata": {},
   "source": [
    "1\\. What is the mean loan duration of customers who buy furniture/equipment?"
   ]
  },
  {
   "cell_type": "code",
   "execution_count": 29,
   "metadata": {},
   "outputs": [
    {
     "name": "stdout",
     "output_type": "stream",
     "text": [
      "The mean loan duration of customers who buy furniture/equipment is about \u001b[94m19\u001b[0m months.\n"
     ]
    }
   ],
   "source": [
    "fur = data[data[\"Purpose\"] == \"furniture/equipment\"]\n",
    "fur_mean = int(fur[\"Duration\"].mean())\n",
    "\n",
    "print(\"The mean loan duration of customers who buy furniture/equipment is about \" + color.BLUE + str(fur_mean) + color.END + \" months.\")"
   ]
  },
  {
   "cell_type": "markdown",
   "metadata": {},
   "source": [
    "2\\. What is the highest credit amount of unskilled workers customers reflected in dataset? What is the purpose?"
   ]
  },
  {
   "cell_type": "code",
   "execution_count": 36,
   "metadata": {},
   "outputs": [
    {
     "name": "stdout",
     "output_type": "stream",
     "text": [
      "The highest credit amount of unskilled worker customer reflected in dataset is \u001b[94m14555\u001b[0m Deutsch Mark. \n",
      "The purpose of loan is for \u001b[94mcar\u001b[0m.\n"
     ]
    }
   ],
   "source": [
    "unskilled = data[data[\"Job\"] == 0]\n",
    "unskilled = unskilled.sort_values(by =[\"Credit amount\"], ascending = False).head(1)\n",
    "credit_unskilled = unskilled.iloc[0][6]\n",
    "purpose_unskilled = unskilled.iloc[0][8]\n",
    "\n",
    "print(\"The highest credit amount of unskilled worker customer reflected in dataset is \" + color.BLUE + str(credit_unskilled) + color.END + \" Deutsch Mark. \\nThe purpose of loan is for \" + color.BLUE + str(purpose_unskilled) + color.END + \".\")"
   ]
  },
  {
   "cell_type": "markdown",
   "metadata": {},
   "source": [
    "3\\. What is the average age of female customers who have good risk?"
   ]
  },
  {
   "cell_type": "code",
   "execution_count": 39,
   "metadata": {},
   "outputs": [
    {
     "name": "stdout",
     "output_type": "stream",
     "text": [
      "The average age of female customers who have good risk is \u001b[94m34.318\u001b[0m.\n"
     ]
    }
   ],
   "source": [
    "good_female = female[female.Risk == 'good']\n",
    "mean_gf = round(good_female[\"Age\"].mean(), 3)\n",
    "\n",
    "print(\"The average age of female customers who have good risk is \" + color.BLUE + str(mean_gf) + color.END + \".\")"
   ]
  },
  {
   "cell_type": "markdown",
   "metadata": {},
   "source": [
    "4\\. How many bad risk male customers are that own, free, and rent house?"
   ]
  },
  {
   "cell_type": "code",
   "execution_count": 45,
   "metadata": {},
   "outputs": [
    {
     "name": "stdout",
     "output_type": "stream",
     "text": [
      "There are \u001b[94m127\u001b[0m bad risk male customers that own house.\n",
      "There are \u001b[94m33\u001b[0m bad risk male customers with free housing type.\n",
      "There are \u001b[94m31\u001b[0m bad risk male customers that rent house.\n"
     ]
    }
   ],
   "source": [
    "bad_male = male[male.Risk == 'bad']\n",
    "own_bm = bad_male[bad_male.Housing == 'own']\n",
    "free_bm = bad_male[bad_male.Housing == 'free']\n",
    "rent_bm = bad_male[bad_male.Housing == 'rent']\n",
    "\n",
    "print(\"There are \" + color.BLUE + str(own_bm.shape[0]) + color.END + \" bad risk male customers that own house.\")\n",
    "print(\"There are \" + color.BLUE + str(free_bm.shape[0]) + color.END + \" bad risk male customers with free housing type.\")\n",
    "print(\"There are \" + color.BLUE + str(rent_bm.shape[0]) + color.END + \" bad risk male customers that rent house.\")"
   ]
  },
  {
   "cell_type": "markdown",
   "metadata": {},
   "source": [
    "5\\. Is number of bad risk male customers that own house is higher than other housing type?"
   ]
  },
  {
   "cell_type": "code",
   "execution_count": 46,
   "metadata": {},
   "outputs": [
    {
     "name": "stdout",
     "output_type": "stream",
     "text": [
      "Yes, number of bad risk male customers that own house is higher than other housing type.\n"
     ]
    }
   ],
   "source": [
    "if own_bm.shape[0] > free_bm.shape[0] and own_bm.shape[0] > rent_bm.shape[0]:\n",
    "    print(\"Yes, number of bad risk male customers that own house is higher than other housing type.\")\n",
    "else:\n",
    "    print(\"No, number of bad risk male customers that own house is lower than other housing type.\")"
   ]
  },
  {
   "cell_type": "markdown",
   "metadata": {},
   "source": [
    "6\\. What is the longest duration (tenor) of loan taken by a customer?"
   ]
  },
  {
   "cell_type": "code",
   "execution_count": 49,
   "metadata": {},
   "outputs": [
    {
     "name": "stdout",
     "output_type": "stream",
     "text": [
      "The longest duration (tenor) of loan taken by a customer is \u001b[94m72\u001b[0m month.\n"
     ]
    }
   ],
   "source": [
    "max_dur = data[\"Duration\"].max()\n",
    "\n",
    "print(\"The longest duration (tenor) of loan taken by a customer is \" + color.BLUE + str(max_dur) + color.END + \" month.\")"
   ]
  },
  {
   "cell_type": "markdown",
   "metadata": {},
   "source": [
    "7\\. How many are customers that do not have saving account nor checking account?"
   ]
  },
  {
   "cell_type": "code",
   "execution_count": 56,
   "metadata": {},
   "outputs": [
    {
     "name": "stdout",
     "output_type": "stream",
     "text": [
      "There are \u001b[94m99\u001b[0m customers that do not have saving account nor checking account.\n"
     ]
    }
   ],
   "source": [
    "no_save_no_check = data[\"Saving accounts\"].isnull() & data[\"Checking account\"] .isnull()\n",
    "print(\"There are \" + color.BLUE + str(no_save_no_check.sum()) + color.END + \" customers that do not have saving account nor checking account.\")"
   ]
  },
  {
   "cell_type": "markdown",
   "metadata": {},
   "source": [
    "8\\. What is the highest credit amount with purpose loan to vacation/others?"
   ]
  },
  {
   "cell_type": "code",
   "execution_count": 66,
   "metadata": {},
   "outputs": [
    {
     "name": "stdout",
     "output_type": "stream",
     "text": [
      "The highest credit amount with purpose loan to vacation/others is \u001b[94m18424\u001b[0m Deutsch Mark.\n"
     ]
    }
   ],
   "source": [
    "vacay = data[data.Purpose == 'vacation/others']\n",
    "high_vacay = vacay.sort_values(by = \"Credit amount\", ascending = False).head(1)\n",
    "\n",
    "print(\"The highest credit amount with purpose loan to vacation/others is \" + color.BLUE + str(high_vacay.iloc[0][6]) + color.END + \" Deutsch Mark.\")"
   ]
  },
  {
   "cell_type": "markdown",
   "metadata": {},
   "source": [
    "9\\. What is the average loan duration of 21 years old customer?"
   ]
  },
  {
   "cell_type": "code",
   "execution_count": 73,
   "metadata": {},
   "outputs": [
    {
     "name": "stdout",
     "output_type": "stream",
     "text": [
      "The average loan duration of 21 years old customers is \u001b[94m26.14\u001b[0m months.\n"
     ]
    }
   ],
   "source": [
    "age_21 = data[data.Age == 21]\n",
    "mean_dur_21 = round(age_21[\"Duration\"].mean(), 2)\n",
    "\n",
    "print(\"The average loan duration of 21 years old customers is \" + color.BLUE + str(mean_dur_21) + color.END + \" months.\")"
   ]
  },
  {
   "cell_type": "markdown",
   "metadata": {},
   "source": [
    "10\\. Who is the one who have lowest credit amount? Show the profile of the age, sex, job, housing, saving account, and checking account!"
   ]
  },
  {
   "cell_type": "code",
   "execution_count": 74,
   "metadata": {},
   "outputs": [
    {
     "name": "stdout",
     "output_type": "stream",
     "text": [
      "The profile of customer who has the lowest credit amount (\u001b[94m250\u001b[0m Deutsch Mark) is shown below.\n",
      "Age : \u001b[94m41\u001b[0m\n",
      "Sex : \u001b[94mfemale\u001b[0m\n",
      "Job : \u001b[94m1\u001b[0m\n",
      "Housing : \u001b[94mown\u001b[0m\n",
      "Saving account : \u001b[94mrich\u001b[0m\n",
      "Checking account : \u001b[94mnan\u001b[0m\n"
     ]
    }
   ],
   "source": [
    "lowest_credit = data.sort_values(by =[\"Credit amount\"]).head(1)\n",
    "age_lc = lowest_credit.iloc[0][0]\n",
    "sex_lc = lowest_credit.iloc[0][1]\n",
    "job_lc = lowest_credit.iloc[0][2]\n",
    "housing_lc = lowest_credit.iloc[0][3]\n",
    "saving_lc = lowest_credit.iloc[0][4]\n",
    "checking_lc = lowest_credit.iloc[0][5]\n",
    "amount_lc = lowest_credit.iloc[0][6]\n",
    "\n",
    "print(\"The profile of customer who has the lowest credit amount (\" + color.BLUE + str(amount_lc) + color.END + \" Deutsch Mark) is shown below.\")\n",
    "print(\"Age : \" + color.BLUE + str(age_lc) + color.END)\n",
    "print(\"Sex : \" + color.BLUE + str(sex_lc) + color.END)\n",
    "print(\"Job : \" + color.BLUE + str(job_lc) + color.END)\n",
    "print(\"Housing : \" + color.BLUE + str(housing_lc) + color.END)\n",
    "print(\"Saving account : \" + color.BLUE + str(saving_lc) + color.END)\n",
    "print(\"Checking account : \" + color.BLUE + str(checking_lc) + color.END)"
   ]
  },
  {
   "cell_type": "markdown",
   "metadata": {},
   "source": [
    "### Part C"
   ]
  },
  {
   "cell_type": "markdown",
   "metadata": {},
   "source": [
    "Define at least 3 business problems that you can find based on the dataset! "
   ]
  },
  {
   "cell_type": "markdown",
   "metadata": {},
   "source": [
    "1\\. What is the correlation between gender and risk? Do women have better risk potential than male?"
   ]
  },
  {
   "cell_type": "markdown",
   "metadata": {},
   "source": [
    "2\\. Is the older customer will give the better risk? Why?"
   ]
  },
  {
   "cell_type": "markdown",
   "metadata": {},
   "source": [
    "3\\. What are attributes that impactful on risk?"
   ]
  }
 ],
 "metadata": {
  "kernelspec": {
   "display_name": "Python 3",
   "language": "python",
   "name": "python3"
  },
  "language_info": {
   "codemirror_mode": {
    "name": "ipython",
    "version": 3
   },
   "file_extension": ".py",
   "mimetype": "text/x-python",
   "name": "python",
   "nbconvert_exporter": "python",
   "pygments_lexer": "ipython3",
   "version": "3.6.3"
  }
 },
 "nbformat": 4,
 "nbformat_minor": 2
}
