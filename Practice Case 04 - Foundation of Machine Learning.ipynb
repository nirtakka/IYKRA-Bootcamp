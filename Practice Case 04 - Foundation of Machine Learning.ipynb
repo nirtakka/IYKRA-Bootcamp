{
 "cells": [
  {
   "cell_type": "markdown",
   "metadata": {},
   "source": [
    "# Historical Flight Data in Malaysia from October 2018 - November 2018\n",
    "\n",
    "Author: Nirta Ika Yunita\n",
    "<br> Date: October 4, 2019"
   ]
  },
  {
   "cell_type": "markdown",
   "metadata": {},
   "source": [
    "## Load Package"
   ]
  },
  {
   "cell_type": "code",
   "execution_count": 1,
   "metadata": {
    "ExecuteTime": {
     "end_time": "2019-11-04T10:47:51.810000Z",
     "start_time": "2019-11-04T10:47:50.310500Z"
    }
   },
   "outputs": [],
   "source": [
    "import numpy as np # math calculation\n",
    "import pandas as pd # data wrangling\n",
    "import matplotlib.pyplot as plt # plot visualization\n",
    "import seaborn as sns # visualization\n",
    "import datetime # package for extract time\n",
    "import calendar"
   ]
  },
  {
   "cell_type": "markdown",
   "metadata": {},
   "source": [
    "## Load Train Dataset\n",
    "\n",
    "Data that will be used for regression analysis is training_dataset.csv."
   ]
  },
  {
   "cell_type": "code",
   "execution_count": 2,
   "metadata": {
    "ExecuteTime": {
     "end_time": "2019-11-04T10:47:52.447500Z",
     "start_time": "2019-11-04T10:47:51.812500Z"
    }
   },
   "outputs": [],
   "source": [
    "train = pd.read_csv('training_dataset.csv')"
   ]
  },
  {
   "cell_type": "code",
   "execution_count": 3,
   "metadata": {
    "ExecuteTime": {
     "end_time": "2019-11-04T10:47:52.482500Z",
     "start_time": "2019-11-04T10:47:52.450000Z"
    }
   },
   "outputs": [
    {
     "data": {
      "text/html": [
       "<div>\n",
       "<style scoped>\n",
       "    .dataframe tbody tr th:only-of-type {\n",
       "        vertical-align: middle;\n",
       "    }\n",
       "\n",
       "    .dataframe tbody tr th {\n",
       "        vertical-align: top;\n",
       "    }\n",
       "\n",
       "    .dataframe thead th {\n",
       "        text-align: right;\n",
       "    }\n",
       "</style>\n",
       "<table border=\"1\" class=\"dataframe\">\n",
       "  <thead>\n",
       "    <tr style=\"text-align: right;\">\n",
       "      <th></th>\n",
       "      <th>id</th>\n",
       "      <th>number</th>\n",
       "      <th>airline</th>\n",
       "      <th>airline_name</th>\n",
       "      <th>scheduled_departure_time</th>\n",
       "      <th>scheduled_arrival_time</th>\n",
       "      <th>departure_airport_city</th>\n",
       "      <th>departure_airport_code</th>\n",
       "      <th>departure_airport_country</th>\n",
       "      <th>departure_airport_gate</th>\n",
       "      <th>...</th>\n",
       "      <th>arrival_airport_country</th>\n",
       "      <th>arrival_airport_gate</th>\n",
       "      <th>arrival_airport_name</th>\n",
       "      <th>arrival_airport_region</th>\n",
       "      <th>arrival_airport_terminal</th>\n",
       "      <th>arrival_airport_timezone</th>\n",
       "      <th>flight_equipment_iata</th>\n",
       "      <th>flight_equipment_name</th>\n",
       "      <th>flight_duration</th>\n",
       "      <th>delay</th>\n",
       "    </tr>\n",
       "  </thead>\n",
       "  <tbody>\n",
       "    <tr>\n",
       "      <th>0</th>\n",
       "      <td>1</td>\n",
       "      <td>AK6430</td>\n",
       "      <td>AK</td>\n",
       "      <td>AirAsia</td>\n",
       "      <td>2018-10-05 22:00:00</td>\n",
       "      <td>2018-10-05 23:05:00</td>\n",
       "      <td>Kuala Lumpur</td>\n",
       "      <td>KUL</td>\n",
       "      <td>MY</td>\n",
       "      <td>J15</td>\n",
       "      <td>...</td>\n",
       "      <td>MY</td>\n",
       "      <td>2</td>\n",
       "      <td>Sultan Ismail Petra Airport</td>\n",
       "      <td>Asia</td>\n",
       "      <td>NaN</td>\n",
       "      <td>Asia/Kuala_Lumpur</td>\n",
       "      <td>32S</td>\n",
       "      <td>Airbus A318 / A319 / A320 / A321</td>\n",
       "      <td>58m</td>\n",
       "      <td>2</td>\n",
       "    </tr>\n",
       "    <tr>\n",
       "      <th>1</th>\n",
       "      <td>2</td>\n",
       "      <td>ID*7164</td>\n",
       "      <td>ID*</td>\n",
       "      <td>Batik Air</td>\n",
       "      <td>2018-10-05 22:00:00</td>\n",
       "      <td>2018-10-05 23:55:00</td>\n",
       "      <td>Kuala Lumpur</td>\n",
       "      <td>KUL</td>\n",
       "      <td>MY</td>\n",
       "      <td>C33</td>\n",
       "      <td>...</td>\n",
       "      <td>ID</td>\n",
       "      <td>5</td>\n",
       "      <td>Soekarno-Hatta International Airport</td>\n",
       "      <td>Asia</td>\n",
       "      <td>2</td>\n",
       "      <td>Asia/Jakarta</td>\n",
       "      <td>32S</td>\n",
       "      <td>Airbus A318 / A319 / A320 / A321</td>\n",
       "      <td>1h 55m</td>\n",
       "      <td>8</td>\n",
       "    </tr>\n",
       "    <tr>\n",
       "      <th>2</th>\n",
       "      <td>3</td>\n",
       "      <td>MXD9116</td>\n",
       "      <td>MXD</td>\n",
       "      <td>Malindo Air</td>\n",
       "      <td>2018-10-05 22:00:00</td>\n",
       "      <td>2018-10-05 23:55:00</td>\n",
       "      <td>Kuala Lumpur</td>\n",
       "      <td>KUL</td>\n",
       "      <td>MY</td>\n",
       "      <td>C33</td>\n",
       "      <td>...</td>\n",
       "      <td>ID</td>\n",
       "      <td>5</td>\n",
       "      <td>Soekarno-Hatta International Airport</td>\n",
       "      <td>Asia</td>\n",
       "      <td>2</td>\n",
       "      <td>Asia/Jakarta</td>\n",
       "      <td>32S</td>\n",
       "      <td>Airbus A318 / A319 / A320 / A321</td>\n",
       "      <td>1h 55m</td>\n",
       "      <td>8</td>\n",
       "    </tr>\n",
       "    <tr>\n",
       "      <th>3</th>\n",
       "      <td>4</td>\n",
       "      <td>AK5198</td>\n",
       "      <td>AK</td>\n",
       "      <td>AirAsia</td>\n",
       "      <td>2018-10-05 22:05:00</td>\n",
       "      <td>2018-10-06 01:00:00</td>\n",
       "      <td>Kuala Lumpur</td>\n",
       "      <td>KUL</td>\n",
       "      <td>MY</td>\n",
       "      <td>J9</td>\n",
       "      <td>...</td>\n",
       "      <td>MY</td>\n",
       "      <td>INT</td>\n",
       "      <td>Sandakan Airport</td>\n",
       "      <td>Asia</td>\n",
       "      <td>NaN</td>\n",
       "      <td>Asia/Kuala_Lumpur</td>\n",
       "      <td>32S</td>\n",
       "      <td>Airbus A318 / A319 / A320 / A321</td>\n",
       "      <td>2h 54m</td>\n",
       "      <td>0</td>\n",
       "    </tr>\n",
       "    <tr>\n",
       "      <th>4</th>\n",
       "      <td>5</td>\n",
       "      <td>AK516</td>\n",
       "      <td>AK</td>\n",
       "      <td>AirAsia</td>\n",
       "      <td>2018-10-05 22:10:00</td>\n",
       "      <td>2018-10-06 01:25:00</td>\n",
       "      <td>Kuala Lumpur</td>\n",
       "      <td>KUL</td>\n",
       "      <td>MY</td>\n",
       "      <td>P1</td>\n",
       "      <td>...</td>\n",
       "      <td>VN</td>\n",
       "      <td>NaN</td>\n",
       "      <td>Noi Bai International Airport</td>\n",
       "      <td>Asia</td>\n",
       "      <td>T2</td>\n",
       "      <td>Asia/Ho_Chi_Minh</td>\n",
       "      <td>32S</td>\n",
       "      <td>Airbus A318 / A319 / A320 / A321</td>\n",
       "      <td>3h 17m</td>\n",
       "      <td>0</td>\n",
       "    </tr>\n",
       "  </tbody>\n",
       "</table>\n",
       "<p>5 rows × 26 columns</p>\n",
       "</div>"
      ],
      "text/plain": [
       "   id   number airline airline_name scheduled_departure_time  \\\n",
       "0   1   AK6430      AK      AirAsia      2018-10-05 22:00:00   \n",
       "1   2  ID*7164     ID*    Batik Air      2018-10-05 22:00:00   \n",
       "2   3  MXD9116     MXD  Malindo Air      2018-10-05 22:00:00   \n",
       "3   4   AK5198      AK      AirAsia      2018-10-05 22:05:00   \n",
       "4   5    AK516      AK      AirAsia      2018-10-05 22:10:00   \n",
       "\n",
       "  scheduled_arrival_time departure_airport_city departure_airport_code  \\\n",
       "0    2018-10-05 23:05:00           Kuala Lumpur                    KUL   \n",
       "1    2018-10-05 23:55:00           Kuala Lumpur                    KUL   \n",
       "2    2018-10-05 23:55:00           Kuala Lumpur                    KUL   \n",
       "3    2018-10-06 01:00:00           Kuala Lumpur                    KUL   \n",
       "4    2018-10-06 01:25:00           Kuala Lumpur                    KUL   \n",
       "\n",
       "  departure_airport_country departure_airport_gate  ...  \\\n",
       "0                        MY                    J15  ...   \n",
       "1                        MY                    C33  ...   \n",
       "2                        MY                    C33  ...   \n",
       "3                        MY                     J9  ...   \n",
       "4                        MY                     P1  ...   \n",
       "\n",
       "  arrival_airport_country arrival_airport_gate  \\\n",
       "0                      MY                    2   \n",
       "1                      ID                    5   \n",
       "2                      ID                    5   \n",
       "3                      MY                  INT   \n",
       "4                      VN                  NaN   \n",
       "\n",
       "                   arrival_airport_name arrival_airport_region  \\\n",
       "0           Sultan Ismail Petra Airport                   Asia   \n",
       "1  Soekarno-Hatta International Airport                   Asia   \n",
       "2  Soekarno-Hatta International Airport                   Asia   \n",
       "3                      Sandakan Airport                   Asia   \n",
       "4         Noi Bai International Airport                   Asia   \n",
       "\n",
       "  arrival_airport_terminal arrival_airport_timezone flight_equipment_iata  \\\n",
       "0                      NaN        Asia/Kuala_Lumpur                   32S   \n",
       "1                        2             Asia/Jakarta                   32S   \n",
       "2                        2             Asia/Jakarta                   32S   \n",
       "3                      NaN        Asia/Kuala_Lumpur                   32S   \n",
       "4                       T2         Asia/Ho_Chi_Minh                   32S   \n",
       "\n",
       "              flight_equipment_name flight_duration delay  \n",
       "0  Airbus A318 / A319 / A320 / A321             58m     2  \n",
       "1  Airbus A318 / A319 / A320 / A321          1h 55m     8  \n",
       "2  Airbus A318 / A319 / A320 / A321          1h 55m     8  \n",
       "3  Airbus A318 / A319 / A320 / A321          2h 54m     0  \n",
       "4  Airbus A318 / A319 / A320 / A321          3h 17m     0  \n",
       "\n",
       "[5 rows x 26 columns]"
      ]
     },
     "execution_count": 3,
     "metadata": {},
     "output_type": "execute_result"
    }
   ],
   "source": [
    "train.head()"
   ]
  },
  {
   "cell_type": "code",
   "execution_count": 4,
   "metadata": {
    "ExecuteTime": {
     "end_time": "2019-11-04T10:47:52.635000Z",
     "start_time": "2019-11-04T10:47:52.485000Z"
    }
   },
   "outputs": [
    {
     "data": {
      "text/plain": [
       "(111068, 26)"
      ]
     },
     "execution_count": 4,
     "metadata": {},
     "output_type": "execute_result"
    }
   ],
   "source": [
    "train.shape"
   ]
  },
  {
   "cell_type": "code",
   "execution_count": 5,
   "metadata": {
    "ExecuteTime": {
     "end_time": "2019-11-04T10:47:52.732500Z",
     "start_time": "2019-11-04T10:47:52.640000Z"
    }
   },
   "outputs": [
    {
     "data": {
      "text/plain": [
       "id                             int64\n",
       "number                        object\n",
       "airline                       object\n",
       "airline_name                  object\n",
       "scheduled_departure_time      object\n",
       "scheduled_arrival_time        object\n",
       "departure_airport_city        object\n",
       "departure_airport_code        object\n",
       "departure_airport_country     object\n",
       "departure_airport_gate        object\n",
       "departure_airport_name        object\n",
       "departure_airport_region      object\n",
       "departure_airport_terminal    object\n",
       "departure_airport_timezone    object\n",
       "arrival_airport_city          object\n",
       "arrival_airport_code          object\n",
       "arrival_airport_country       object\n",
       "arrival_airport_gate          object\n",
       "arrival_airport_name          object\n",
       "arrival_airport_region        object\n",
       "arrival_airport_terminal      object\n",
       "arrival_airport_timezone      object\n",
       "flight_equipment_iata         object\n",
       "flight_equipment_name         object\n",
       "flight_duration               object\n",
       "delay                          int64\n",
       "dtype: object"
      ]
     },
     "execution_count": 5,
     "metadata": {},
     "output_type": "execute_result"
    }
   ],
   "source": [
    "train.dtypes"
   ]
  },
  {
   "cell_type": "code",
   "execution_count": 6,
   "metadata": {
    "ExecuteTime": {
     "end_time": "2019-11-04T10:47:52.985000Z",
     "start_time": "2019-11-04T10:47:52.735000Z"
    }
   },
   "outputs": [
    {
     "name": "stdout",
     "output_type": "stream",
     "text": [
      "<class 'pandas.core.frame.DataFrame'>\n",
      "RangeIndex: 111068 entries, 0 to 111067\n",
      "Data columns (total 26 columns):\n",
      "id                            111068 non-null int64\n",
      "number                        111068 non-null object\n",
      "airline                       111068 non-null object\n",
      "airline_name                  111068 non-null object\n",
      "scheduled_departure_time      111068 non-null object\n",
      "scheduled_arrival_time        111063 non-null object\n",
      "departure_airport_city        111068 non-null object\n",
      "departure_airport_code        111068 non-null object\n",
      "departure_airport_country     111068 non-null object\n",
      "departure_airport_gate        66859 non-null object\n",
      "departure_airport_name        111068 non-null object\n",
      "departure_airport_region      111068 non-null object\n",
      "departure_airport_terminal    69728 non-null object\n",
      "departure_airport_timezone    111068 non-null object\n",
      "arrival_airport_city          111068 non-null object\n",
      "arrival_airport_code          111068 non-null object\n",
      "arrival_airport_country       111068 non-null object\n",
      "arrival_airport_gate          12087 non-null object\n",
      "arrival_airport_name          111068 non-null object\n",
      "arrival_airport_region        111068 non-null object\n",
      "arrival_airport_terminal      53050 non-null object\n",
      "arrival_airport_timezone      111068 non-null object\n",
      "flight_equipment_iata         111049 non-null object\n",
      "flight_equipment_name         111049 non-null object\n",
      "flight_duration               111065 non-null object\n",
      "delay                         111068 non-null int64\n",
      "dtypes: int64(2), object(24)\n",
      "memory usage: 22.0+ MB\n"
     ]
    }
   ],
   "source": [
    "train.info()\n",
    "\n",
    "# please check if the type is suit for our needs"
   ]
  },
  {
   "cell_type": "code",
   "execution_count": 7,
   "metadata": {
    "ExecuteTime": {
     "end_time": "2019-11-04T10:47:53.077500Z",
     "start_time": "2019-11-04T10:47:52.987500Z"
    }
   },
   "outputs": [
    {
     "data": {
      "text/html": [
       "<div>\n",
       "<style scoped>\n",
       "    .dataframe tbody tr th:only-of-type {\n",
       "        vertical-align: middle;\n",
       "    }\n",
       "\n",
       "    .dataframe tbody tr th {\n",
       "        vertical-align: top;\n",
       "    }\n",
       "\n",
       "    .dataframe thead th {\n",
       "        text-align: right;\n",
       "    }\n",
       "</style>\n",
       "<table border=\"1\" class=\"dataframe\">\n",
       "  <thead>\n",
       "    <tr style=\"text-align: right;\">\n",
       "      <th></th>\n",
       "      <th>id</th>\n",
       "      <th>delay</th>\n",
       "    </tr>\n",
       "  </thead>\n",
       "  <tbody>\n",
       "    <tr>\n",
       "      <th>count</th>\n",
       "      <td>111068.000000</td>\n",
       "      <td>111068.000000</td>\n",
       "    </tr>\n",
       "    <tr>\n",
       "      <th>mean</th>\n",
       "      <td>202365.798475</td>\n",
       "      <td>11.540210</td>\n",
       "    </tr>\n",
       "    <tr>\n",
       "      <th>std</th>\n",
       "      <td>149258.072773</td>\n",
       "      <td>26.806913</td>\n",
       "    </tr>\n",
       "    <tr>\n",
       "      <th>min</th>\n",
       "      <td>1.000000</td>\n",
       "      <td>0.000000</td>\n",
       "    </tr>\n",
       "    <tr>\n",
       "      <th>25%</th>\n",
       "      <td>61496.750000</td>\n",
       "      <td>0.000000</td>\n",
       "    </tr>\n",
       "    <tr>\n",
       "      <th>50%</th>\n",
       "      <td>189313.500000</td>\n",
       "      <td>1.000000</td>\n",
       "    </tr>\n",
       "    <tr>\n",
       "      <th>75%</th>\n",
       "      <td>329683.250000</td>\n",
       "      <td>13.000000</td>\n",
       "    </tr>\n",
       "    <tr>\n",
       "      <th>max</th>\n",
       "      <td>496596.000000</td>\n",
       "      <td>978.000000</td>\n",
       "    </tr>\n",
       "  </tbody>\n",
       "</table>\n",
       "</div>"
      ],
      "text/plain": [
       "                  id          delay\n",
       "count  111068.000000  111068.000000\n",
       "mean   202365.798475      11.540210\n",
       "std    149258.072773      26.806913\n",
       "min         1.000000       0.000000\n",
       "25%     61496.750000       0.000000\n",
       "50%    189313.500000       1.000000\n",
       "75%    329683.250000      13.000000\n",
       "max    496596.000000     978.000000"
      ]
     },
     "execution_count": 7,
     "metadata": {},
     "output_type": "execute_result"
    }
   ],
   "source": [
    "train.describe()"
   ]
  },
  {
   "cell_type": "code",
   "execution_count": 8,
   "metadata": {
    "ExecuteTime": {
     "end_time": "2019-11-04T10:47:53.175000Z",
     "start_time": "2019-11-04T10:47:53.080000Z"
    }
   },
   "outputs": [],
   "source": [
    "# from the train data (after we check one by one), we decide some features that will be used are:\n",
    "# - airline\n",
    "# - airline_name\n",
    "# - scheduled_departure_time\n",
    "# - scheduled_arrival_time\n",
    "# - departure_airport_city\n",
    "# - departure_airport_name\n",
    "# - delay\n",
    "\n",
    "train1 = train[['airline', 'airline_name', 'scheduled_departure_time', 'scheduled_arrival_time',\n",
    "                'departure_airport_city', 'departure_airport_name', 'delay']].copy()"
   ]
  },
  {
   "cell_type": "code",
   "execution_count": 9,
   "metadata": {
    "ExecuteTime": {
     "end_time": "2019-11-04T10:47:53.372500Z",
     "start_time": "2019-11-04T10:47:53.177500Z"
    }
   },
   "outputs": [],
   "source": [
    "# Convert type of scheduled_departure_time and scheduled_arrival_time to datetime\n",
    "\n",
    "train1['scheduled_departure_time'] = pd.to_datetime(train1['scheduled_departure_time'])\n",
    "train1['scheduled_arrival_time'] = pd.to_datetime(train1['scheduled_arrival_time'])"
   ]
  },
  {
   "cell_type": "code",
   "execution_count": 10,
   "metadata": {
    "ExecuteTime": {
     "end_time": "2019-11-04T10:47:53.450000Z",
     "start_time": "2019-11-04T10:47:53.375000Z"
    }
   },
   "outputs": [
    {
     "data": {
      "text/plain": [
       "airline                     0\n",
       "airline_name                0\n",
       "scheduled_departure_time    0\n",
       "scheduled_arrival_time      5\n",
       "departure_airport_city      0\n",
       "departure_airport_name      0\n",
       "delay                       0\n",
       "dtype: int64"
      ]
     },
     "execution_count": 10,
     "metadata": {},
     "output_type": "execute_result"
    }
   ],
   "source": [
    "train1.isnull().sum()"
   ]
  },
  {
   "cell_type": "code",
   "execution_count": 11,
   "metadata": {
    "ExecuteTime": {
     "end_time": "2019-11-04T10:47:53.562500Z",
     "start_time": "2019-11-04T10:47:53.450000Z"
    }
   },
   "outputs": [
    {
     "name": "stdout",
     "output_type": "stream",
     "text": [
      "       airline     airline_name scheduled_departure_time  \\\n",
      "8167        CX   Cathay Pacific      2018-10-09 12:45:00   \n",
      "8168        KA    Cathay Dragon      2018-10-09 12:45:00   \n",
      "38176       VI      Volga-Dnepr      2018-10-25 23:00:00   \n",
      "100795      NZ  Air New Zealand      2018-11-26 04:00:00   \n",
      "100798      NZ  Air New Zealand      2018-11-26 04:00:00   \n",
      "\n",
      "       scheduled_arrival_time departure_airport_city  \\\n",
      "8167                      NaT           Kuala Lumpur   \n",
      "8168                      NaT           Kuala Lumpur   \n",
      "38176                     NaT           Kuala Lumpur   \n",
      "100795                    NaT           Kuala Lumpur   \n",
      "100798                    NaT           Kuala Lumpur   \n",
      "\n",
      "                    departure_airport_name  delay  \n",
      "8167    Kuala Lumpur International Airport     32  \n",
      "8168    Kuala Lumpur International Airport     32  \n",
      "38176   Kuala Lumpur International Airport     10  \n",
      "100795  Kuala Lumpur International Airport      0  \n",
      "100798  Kuala Lumpur International Airport      0  \n"
     ]
    }
   ],
   "source": [
    "# clean null\n",
    "# find rows where 'scheduled_arrival_time' is null\n",
    "print(train1[train1['scheduled_arrival_time'].isnull()])"
   ]
  },
  {
   "cell_type": "markdown",
   "metadata": {},
   "source": [
    "**We know that all null flight_duration (3 rows) have null scheduled_arrival_time. We decide to drop all rows with null scheduled_arrival_time (5 rows).**"
   ]
  },
  {
   "cell_type": "code",
   "execution_count": 12,
   "metadata": {
    "ExecuteTime": {
     "end_time": "2019-11-04T10:47:53.705000Z",
     "start_time": "2019-11-04T10:47:53.567500Z"
    }
   },
   "outputs": [],
   "source": [
    "train1 = train1.dropna(axis = 0, how ='any')"
   ]
  },
  {
   "cell_type": "code",
   "execution_count": 13,
   "metadata": {
    "ExecuteTime": {
     "end_time": "2019-11-04T10:47:53.812500Z",
     "start_time": "2019-11-04T10:47:53.707500Z"
    }
   },
   "outputs": [
    {
     "data": {
      "text/html": [
       "<div>\n",
       "<style scoped>\n",
       "    .dataframe tbody tr th:only-of-type {\n",
       "        vertical-align: middle;\n",
       "    }\n",
       "\n",
       "    .dataframe tbody tr th {\n",
       "        vertical-align: top;\n",
       "    }\n",
       "\n",
       "    .dataframe thead th {\n",
       "        text-align: right;\n",
       "    }\n",
       "</style>\n",
       "<table border=\"1\" class=\"dataframe\">\n",
       "  <thead>\n",
       "    <tr style=\"text-align: right;\">\n",
       "      <th></th>\n",
       "      <th>airline</th>\n",
       "      <th>airline_name</th>\n",
       "      <th>scheduled_departure_time</th>\n",
       "      <th>scheduled_arrival_time</th>\n",
       "      <th>departure_airport_city</th>\n",
       "      <th>departure_airport_name</th>\n",
       "      <th>delay</th>\n",
       "    </tr>\n",
       "  </thead>\n",
       "  <tbody>\n",
       "    <tr>\n",
       "      <th>0</th>\n",
       "      <td>AK</td>\n",
       "      <td>AirAsia</td>\n",
       "      <td>2018-10-05 22:00:00</td>\n",
       "      <td>2018-10-05 23:05:00</td>\n",
       "      <td>Kuala Lumpur</td>\n",
       "      <td>Kuala Lumpur International Airport</td>\n",
       "      <td>2</td>\n",
       "    </tr>\n",
       "    <tr>\n",
       "      <th>1</th>\n",
       "      <td>ID*</td>\n",
       "      <td>Batik Air</td>\n",
       "      <td>2018-10-05 22:00:00</td>\n",
       "      <td>2018-10-05 23:55:00</td>\n",
       "      <td>Kuala Lumpur</td>\n",
       "      <td>Kuala Lumpur International Airport</td>\n",
       "      <td>8</td>\n",
       "    </tr>\n",
       "    <tr>\n",
       "      <th>2</th>\n",
       "      <td>MXD</td>\n",
       "      <td>Malindo Air</td>\n",
       "      <td>2018-10-05 22:00:00</td>\n",
       "      <td>2018-10-05 23:55:00</td>\n",
       "      <td>Kuala Lumpur</td>\n",
       "      <td>Kuala Lumpur International Airport</td>\n",
       "      <td>8</td>\n",
       "    </tr>\n",
       "    <tr>\n",
       "      <th>3</th>\n",
       "      <td>AK</td>\n",
       "      <td>AirAsia</td>\n",
       "      <td>2018-10-05 22:05:00</td>\n",
       "      <td>2018-10-06 01:00:00</td>\n",
       "      <td>Kuala Lumpur</td>\n",
       "      <td>Kuala Lumpur International Airport</td>\n",
       "      <td>0</td>\n",
       "    </tr>\n",
       "    <tr>\n",
       "      <th>4</th>\n",
       "      <td>AK</td>\n",
       "      <td>AirAsia</td>\n",
       "      <td>2018-10-05 22:10:00</td>\n",
       "      <td>2018-10-06 01:25:00</td>\n",
       "      <td>Kuala Lumpur</td>\n",
       "      <td>Kuala Lumpur International Airport</td>\n",
       "      <td>0</td>\n",
       "    </tr>\n",
       "  </tbody>\n",
       "</table>\n",
       "</div>"
      ],
      "text/plain": [
       "  airline airline_name scheduled_departure_time scheduled_arrival_time  \\\n",
       "0      AK      AirAsia      2018-10-05 22:00:00    2018-10-05 23:05:00   \n",
       "1     ID*    Batik Air      2018-10-05 22:00:00    2018-10-05 23:55:00   \n",
       "2     MXD  Malindo Air      2018-10-05 22:00:00    2018-10-05 23:55:00   \n",
       "3      AK      AirAsia      2018-10-05 22:05:00    2018-10-06 01:00:00   \n",
       "4      AK      AirAsia      2018-10-05 22:10:00    2018-10-06 01:25:00   \n",
       "\n",
       "  departure_airport_city              departure_airport_name  delay  \n",
       "0           Kuala Lumpur  Kuala Lumpur International Airport      2  \n",
       "1           Kuala Lumpur  Kuala Lumpur International Airport      8  \n",
       "2           Kuala Lumpur  Kuala Lumpur International Airport      8  \n",
       "3           Kuala Lumpur  Kuala Lumpur International Airport      0  \n",
       "4           Kuala Lumpur  Kuala Lumpur International Airport      0  "
      ]
     },
     "execution_count": 13,
     "metadata": {},
     "output_type": "execute_result"
    }
   ],
   "source": [
    "train1.head()"
   ]
  },
  {
   "cell_type": "code",
   "execution_count": 14,
   "metadata": {
    "ExecuteTime": {
     "end_time": "2019-11-04T10:47:53.960000Z",
     "start_time": "2019-11-04T10:47:53.817500Z"
    }
   },
   "outputs": [
    {
     "data": {
      "text/plain": [
       "(111063, 7)"
      ]
     },
     "execution_count": 14,
     "metadata": {},
     "output_type": "execute_result"
    }
   ],
   "source": [
    "train1.shape"
   ]
  },
  {
   "cell_type": "code",
   "execution_count": 15,
   "metadata": {
    "ExecuteTime": {
     "end_time": "2019-11-04T10:47:54.052500Z",
     "start_time": "2019-11-04T10:47:53.965000Z"
    }
   },
   "outputs": [
    {
     "data": {
      "text/plain": [
       "airline                             object\n",
       "airline_name                        object\n",
       "scheduled_departure_time    datetime64[ns]\n",
       "scheduled_arrival_time      datetime64[ns]\n",
       "departure_airport_city              object\n",
       "departure_airport_name              object\n",
       "delay                                int64\n",
       "dtype: object"
      ]
     },
     "execution_count": 15,
     "metadata": {},
     "output_type": "execute_result"
    }
   ],
   "source": [
    "train1.dtypes"
   ]
  },
  {
   "cell_type": "code",
   "execution_count": 16,
   "metadata": {
    "ExecuteTime": {
     "end_time": "2019-11-04T10:47:54.242500Z",
     "start_time": "2019-11-04T10:47:54.057500Z"
    }
   },
   "outputs": [
    {
     "name": "stdout",
     "output_type": "stream",
     "text": [
      "<class 'pandas.core.frame.DataFrame'>\n",
      "Int64Index: 111063 entries, 0 to 111067\n",
      "Data columns (total 7 columns):\n",
      "airline                     111063 non-null object\n",
      "airline_name                111063 non-null object\n",
      "scheduled_departure_time    111063 non-null datetime64[ns]\n",
      "scheduled_arrival_time      111063 non-null datetime64[ns]\n",
      "departure_airport_city      111063 non-null object\n",
      "departure_airport_name      111063 non-null object\n",
      "delay                       111063 non-null int64\n",
      "dtypes: datetime64[ns](2), int64(1), object(4)\n",
      "memory usage: 6.8+ MB\n"
     ]
    }
   ],
   "source": [
    "train1.info()"
   ]
  },
  {
   "cell_type": "code",
   "execution_count": 17,
   "metadata": {
    "ExecuteTime": {
     "end_time": "2019-11-04T10:47:54.437500Z",
     "start_time": "2019-11-04T10:47:54.247500Z"
    }
   },
   "outputs": [
    {
     "data": {
      "text/html": [
       "<div>\n",
       "<style scoped>\n",
       "    .dataframe tbody tr th:only-of-type {\n",
       "        vertical-align: middle;\n",
       "    }\n",
       "\n",
       "    .dataframe tbody tr th {\n",
       "        vertical-align: top;\n",
       "    }\n",
       "\n",
       "    .dataframe thead th {\n",
       "        text-align: right;\n",
       "    }\n",
       "</style>\n",
       "<table border=\"1\" class=\"dataframe\">\n",
       "  <thead>\n",
       "    <tr style=\"text-align: right;\">\n",
       "      <th></th>\n",
       "      <th>delay</th>\n",
       "    </tr>\n",
       "  </thead>\n",
       "  <tbody>\n",
       "    <tr>\n",
       "      <th>count</th>\n",
       "      <td>111063.000000</td>\n",
       "    </tr>\n",
       "    <tr>\n",
       "      <th>mean</th>\n",
       "      <td>11.540063</td>\n",
       "    </tr>\n",
       "    <tr>\n",
       "      <th>std</th>\n",
       "      <td>26.807331</td>\n",
       "    </tr>\n",
       "    <tr>\n",
       "      <th>min</th>\n",
       "      <td>0.000000</td>\n",
       "    </tr>\n",
       "    <tr>\n",
       "      <th>25%</th>\n",
       "      <td>0.000000</td>\n",
       "    </tr>\n",
       "    <tr>\n",
       "      <th>50%</th>\n",
       "      <td>1.000000</td>\n",
       "    </tr>\n",
       "    <tr>\n",
       "      <th>75%</th>\n",
       "      <td>13.000000</td>\n",
       "    </tr>\n",
       "    <tr>\n",
       "      <th>max</th>\n",
       "      <td>978.000000</td>\n",
       "    </tr>\n",
       "  </tbody>\n",
       "</table>\n",
       "</div>"
      ],
      "text/plain": [
       "               delay\n",
       "count  111063.000000\n",
       "mean       11.540063\n",
       "std        26.807331\n",
       "min         0.000000\n",
       "25%         0.000000\n",
       "50%         1.000000\n",
       "75%        13.000000\n",
       "max       978.000000"
      ]
     },
     "execution_count": 17,
     "metadata": {},
     "output_type": "execute_result"
    }
   ],
   "source": [
    "train1.describe()"
   ]
  },
  {
   "cell_type": "markdown",
   "metadata": {},
   "source": [
    "## Feature Engineering"
   ]
  },
  {
   "cell_type": "code",
   "execution_count": 18,
   "metadata": {
    "ExecuteTime": {
     "end_time": "2019-11-04T10:47:55.535000Z",
     "start_time": "2019-11-04T10:47:54.445000Z"
    }
   },
   "outputs": [
    {
     "data": {
      "text/html": [
       "<div>\n",
       "<style scoped>\n",
       "    .dataframe tbody tr th:only-of-type {\n",
       "        vertical-align: middle;\n",
       "    }\n",
       "\n",
       "    .dataframe tbody tr th {\n",
       "        vertical-align: top;\n",
       "    }\n",
       "\n",
       "    .dataframe thead th {\n",
       "        text-align: right;\n",
       "    }\n",
       "</style>\n",
       "<table border=\"1\" class=\"dataframe\">\n",
       "  <thead>\n",
       "    <tr style=\"text-align: right;\">\n",
       "      <th></th>\n",
       "      <th>airline</th>\n",
       "      <th>airline_name</th>\n",
       "      <th>scheduled_departure_time</th>\n",
       "      <th>scheduled_arrival_time</th>\n",
       "      <th>departure_airport_city</th>\n",
       "      <th>departure_airport_name</th>\n",
       "      <th>delay</th>\n",
       "      <th>departure_day</th>\n",
       "      <th>departure_hour</th>\n",
       "      <th>arrival_day</th>\n",
       "      <th>arrival_hour</th>\n",
       "    </tr>\n",
       "  </thead>\n",
       "  <tbody>\n",
       "    <tr>\n",
       "      <th>0</th>\n",
       "      <td>AK</td>\n",
       "      <td>AirAsia</td>\n",
       "      <td>2018-10-05 22:00:00</td>\n",
       "      <td>2018-10-05 23:05:00</td>\n",
       "      <td>Kuala Lumpur</td>\n",
       "      <td>Kuala Lumpur International Airport</td>\n",
       "      <td>2</td>\n",
       "      <td>Friday</td>\n",
       "      <td>22</td>\n",
       "      <td>Friday</td>\n",
       "      <td>23</td>\n",
       "    </tr>\n",
       "    <tr>\n",
       "      <th>1</th>\n",
       "      <td>ID*</td>\n",
       "      <td>Batik Air</td>\n",
       "      <td>2018-10-05 22:00:00</td>\n",
       "      <td>2018-10-05 23:55:00</td>\n",
       "      <td>Kuala Lumpur</td>\n",
       "      <td>Kuala Lumpur International Airport</td>\n",
       "      <td>8</td>\n",
       "      <td>Friday</td>\n",
       "      <td>22</td>\n",
       "      <td>Friday</td>\n",
       "      <td>23</td>\n",
       "    </tr>\n",
       "    <tr>\n",
       "      <th>2</th>\n",
       "      <td>MXD</td>\n",
       "      <td>Malindo Air</td>\n",
       "      <td>2018-10-05 22:00:00</td>\n",
       "      <td>2018-10-05 23:55:00</td>\n",
       "      <td>Kuala Lumpur</td>\n",
       "      <td>Kuala Lumpur International Airport</td>\n",
       "      <td>8</td>\n",
       "      <td>Friday</td>\n",
       "      <td>22</td>\n",
       "      <td>Friday</td>\n",
       "      <td>23</td>\n",
       "    </tr>\n",
       "    <tr>\n",
       "      <th>3</th>\n",
       "      <td>AK</td>\n",
       "      <td>AirAsia</td>\n",
       "      <td>2018-10-05 22:05:00</td>\n",
       "      <td>2018-10-06 01:00:00</td>\n",
       "      <td>Kuala Lumpur</td>\n",
       "      <td>Kuala Lumpur International Airport</td>\n",
       "      <td>0</td>\n",
       "      <td>Friday</td>\n",
       "      <td>22</td>\n",
       "      <td>Saturday</td>\n",
       "      <td>1</td>\n",
       "    </tr>\n",
       "    <tr>\n",
       "      <th>4</th>\n",
       "      <td>AK</td>\n",
       "      <td>AirAsia</td>\n",
       "      <td>2018-10-05 22:10:00</td>\n",
       "      <td>2018-10-06 01:25:00</td>\n",
       "      <td>Kuala Lumpur</td>\n",
       "      <td>Kuala Lumpur International Airport</td>\n",
       "      <td>0</td>\n",
       "      <td>Friday</td>\n",
       "      <td>22</td>\n",
       "      <td>Saturday</td>\n",
       "      <td>1</td>\n",
       "    </tr>\n",
       "  </tbody>\n",
       "</table>\n",
       "</div>"
      ],
      "text/plain": [
       "  airline airline_name scheduled_departure_time scheduled_arrival_time  \\\n",
       "0      AK      AirAsia      2018-10-05 22:00:00    2018-10-05 23:05:00   \n",
       "1     ID*    Batik Air      2018-10-05 22:00:00    2018-10-05 23:55:00   \n",
       "2     MXD  Malindo Air      2018-10-05 22:00:00    2018-10-05 23:55:00   \n",
       "3      AK      AirAsia      2018-10-05 22:05:00    2018-10-06 01:00:00   \n",
       "4      AK      AirAsia      2018-10-05 22:10:00    2018-10-06 01:25:00   \n",
       "\n",
       "  departure_airport_city              departure_airport_name  delay  \\\n",
       "0           Kuala Lumpur  Kuala Lumpur International Airport      2   \n",
       "1           Kuala Lumpur  Kuala Lumpur International Airport      8   \n",
       "2           Kuala Lumpur  Kuala Lumpur International Airport      8   \n",
       "3           Kuala Lumpur  Kuala Lumpur International Airport      0   \n",
       "4           Kuala Lumpur  Kuala Lumpur International Airport      0   \n",
       "\n",
       "  departure_day  departure_hour arrival_day  arrival_hour  \n",
       "0        Friday              22      Friday            23  \n",
       "1        Friday              22      Friday            23  \n",
       "2        Friday              22      Friday            23  \n",
       "3        Friday              22    Saturday             1  \n",
       "4        Friday              22    Saturday             1  "
      ]
     },
     "execution_count": 18,
     "metadata": {},
     "output_type": "execute_result"
    }
   ],
   "source": [
    "# # Just in case, departure_month will affect delay time. In peak season (like christmas) will delay get longer?\n",
    "# train1['departure_month'] = train1.scheduled_departure_time.apply(lambda x: x.month)\n",
    "# train1['departure_month'] = train1['departure_month'].apply(lambda x: calendar.month_abbr[x])\n",
    "\n",
    "# Just in case, departure_day will affect delay time. In weekend will delay get longer?\n",
    "train1['departure_day'] = train1.scheduled_departure_time.dt.weekday_name\n",
    "\n",
    "# Just in case, departure_hour will affect delay time. We will use this feature for recommendation to passenges.\n",
    "train1['departure_hour'] = train1.scheduled_departure_time.apply(lambda x: x.hour)\n",
    "\n",
    "# # Just in case, arrival_month will affect delay time. In peak season (like christmas) will delay get longer?\n",
    "# train1['arrival_month'] = train1.scheduled_arrival_time.apply(lambda x: x.month)\n",
    "# train1['arrival_month'] = train1['arrival_month'].apply(lambda x: calendar.month_abbr[x])\n",
    "\n",
    "# Just in case, arrival_day will affect delay time. In weekend will delay get longer?\n",
    "train1['arrival_day'] = train1.scheduled_arrival_time.dt.weekday_name\n",
    "\n",
    "# Just in case, arrival_hour will affect delay time. Will it affect delay time?\n",
    "train1['arrival_hour'] = train1.scheduled_arrival_time.apply(lambda x: x.hour)\n",
    "\n",
    "train1.head()"
   ]
  },
  {
   "cell_type": "code",
   "execution_count": 19,
   "metadata": {
    "ExecuteTime": {
     "end_time": "2019-11-04T10:47:55.550000Z",
     "start_time": "2019-11-04T10:47:55.540000Z"
    }
   },
   "outputs": [
    {
     "data": {
      "text/plain": [
       "(111063, 11)"
      ]
     },
     "execution_count": 19,
     "metadata": {},
     "output_type": "execute_result"
    }
   ],
   "source": [
    "train1.shape"
   ]
  },
  {
   "cell_type": "code",
   "execution_count": 20,
   "metadata": {
    "ExecuteTime": {
     "end_time": "2019-11-04T10:47:55.570000Z",
     "start_time": "2019-11-04T10:47:55.555000Z"
    }
   },
   "outputs": [
    {
     "data": {
      "text/plain": [
       "airline                             object\n",
       "airline_name                        object\n",
       "scheduled_departure_time    datetime64[ns]\n",
       "scheduled_arrival_time      datetime64[ns]\n",
       "departure_airport_city              object\n",
       "departure_airport_name              object\n",
       "delay                                int64\n",
       "departure_day                       object\n",
       "departure_hour                       int64\n",
       "arrival_day                         object\n",
       "arrival_hour                         int64\n",
       "dtype: object"
      ]
     },
     "execution_count": 20,
     "metadata": {},
     "output_type": "execute_result"
    }
   ],
   "source": [
    "train1.dtypes"
   ]
  },
  {
   "cell_type": "code",
   "execution_count": 21,
   "metadata": {
    "ExecuteTime": {
     "end_time": "2019-11-04T10:47:55.722500Z",
     "start_time": "2019-11-04T10:47:55.570000Z"
    }
   },
   "outputs": [
    {
     "name": "stdout",
     "output_type": "stream",
     "text": [
      "<class 'pandas.core.frame.DataFrame'>\n",
      "Int64Index: 111063 entries, 0 to 111067\n",
      "Data columns (total 11 columns):\n",
      "airline                     111063 non-null object\n",
      "airline_name                111063 non-null object\n",
      "scheduled_departure_time    111063 non-null datetime64[ns]\n",
      "scheduled_arrival_time      111063 non-null datetime64[ns]\n",
      "departure_airport_city      111063 non-null object\n",
      "departure_airport_name      111063 non-null object\n",
      "delay                       111063 non-null int64\n",
      "departure_day               111063 non-null object\n",
      "departure_hour              111063 non-null int64\n",
      "arrival_day                 111063 non-null object\n",
      "arrival_hour                111063 non-null int64\n",
      "dtypes: datetime64[ns](2), int64(3), object(6)\n",
      "memory usage: 10.2+ MB\n"
     ]
    }
   ],
   "source": [
    "train1.info()"
   ]
  },
  {
   "cell_type": "code",
   "execution_count": 22,
   "metadata": {
    "ExecuteTime": {
     "end_time": "2019-11-04T10:47:55.802500Z",
     "start_time": "2019-11-04T10:47:55.725000Z"
    }
   },
   "outputs": [
    {
     "data": {
      "text/html": [
       "<div>\n",
       "<style scoped>\n",
       "    .dataframe tbody tr th:only-of-type {\n",
       "        vertical-align: middle;\n",
       "    }\n",
       "\n",
       "    .dataframe tbody tr th {\n",
       "        vertical-align: top;\n",
       "    }\n",
       "\n",
       "    .dataframe thead th {\n",
       "        text-align: right;\n",
       "    }\n",
       "</style>\n",
       "<table border=\"1\" class=\"dataframe\">\n",
       "  <thead>\n",
       "    <tr style=\"text-align: right;\">\n",
       "      <th></th>\n",
       "      <th>delay</th>\n",
       "      <th>departure_hour</th>\n",
       "      <th>arrival_hour</th>\n",
       "    </tr>\n",
       "  </thead>\n",
       "  <tbody>\n",
       "    <tr>\n",
       "      <th>count</th>\n",
       "      <td>111063.000000</td>\n",
       "      <td>111063.000000</td>\n",
       "      <td>111063.000000</td>\n",
       "    </tr>\n",
       "    <tr>\n",
       "      <th>mean</th>\n",
       "      <td>11.540063</td>\n",
       "      <td>8.586919</td>\n",
       "      <td>9.016495</td>\n",
       "    </tr>\n",
       "    <tr>\n",
       "      <th>std</th>\n",
       "      <td>26.807331</td>\n",
       "      <td>6.313133</td>\n",
       "      <td>5.776410</td>\n",
       "    </tr>\n",
       "    <tr>\n",
       "      <th>min</th>\n",
       "      <td>0.000000</td>\n",
       "      <td>0.000000</td>\n",
       "      <td>0.000000</td>\n",
       "    </tr>\n",
       "    <tr>\n",
       "      <th>25%</th>\n",
       "      <td>0.000000</td>\n",
       "      <td>4.000000</td>\n",
       "      <td>4.000000</td>\n",
       "    </tr>\n",
       "    <tr>\n",
       "      <th>50%</th>\n",
       "      <td>1.000000</td>\n",
       "      <td>8.000000</td>\n",
       "      <td>9.000000</td>\n",
       "    </tr>\n",
       "    <tr>\n",
       "      <th>75%</th>\n",
       "      <td>13.000000</td>\n",
       "      <td>12.000000</td>\n",
       "      <td>13.000000</td>\n",
       "    </tr>\n",
       "    <tr>\n",
       "      <th>max</th>\n",
       "      <td>978.000000</td>\n",
       "      <td>23.000000</td>\n",
       "      <td>23.000000</td>\n",
       "    </tr>\n",
       "  </tbody>\n",
       "</table>\n",
       "</div>"
      ],
      "text/plain": [
       "               delay  departure_hour   arrival_hour\n",
       "count  111063.000000   111063.000000  111063.000000\n",
       "mean       11.540063        8.586919       9.016495\n",
       "std        26.807331        6.313133       5.776410\n",
       "min         0.000000        0.000000       0.000000\n",
       "25%         0.000000        4.000000       4.000000\n",
       "50%         1.000000        8.000000       9.000000\n",
       "75%        13.000000       12.000000      13.000000\n",
       "max       978.000000       23.000000      23.000000"
      ]
     },
     "execution_count": 22,
     "metadata": {},
     "output_type": "execute_result"
    }
   ],
   "source": [
    "train1.describe()"
   ]
  },
  {
   "cell_type": "markdown",
   "metadata": {},
   "source": [
    "## Correlation Plot"
   ]
  },
  {
   "cell_type": "code",
   "execution_count": 23,
   "metadata": {
    "ExecuteTime": {
     "end_time": "2019-11-04T10:47:55.942500Z",
     "start_time": "2019-11-04T10:47:55.805000Z"
    }
   },
   "outputs": [
    {
     "data": {
      "text/html": [
       "<div>\n",
       "<style scoped>\n",
       "    .dataframe tbody tr th:only-of-type {\n",
       "        vertical-align: middle;\n",
       "    }\n",
       "\n",
       "    .dataframe tbody tr th {\n",
       "        vertical-align: top;\n",
       "    }\n",
       "\n",
       "    .dataframe thead th {\n",
       "        text-align: right;\n",
       "    }\n",
       "</style>\n",
       "<table border=\"1\" class=\"dataframe\">\n",
       "  <thead>\n",
       "    <tr style=\"text-align: right;\">\n",
       "      <th></th>\n",
       "      <th>delay</th>\n",
       "      <th>departure_hour</th>\n",
       "      <th>arrival_hour</th>\n",
       "    </tr>\n",
       "  </thead>\n",
       "  <tbody>\n",
       "    <tr>\n",
       "      <th>delay</th>\n",
       "      <td>1.000000</td>\n",
       "      <td>-0.007581</td>\n",
       "      <td>0.073419</td>\n",
       "    </tr>\n",
       "    <tr>\n",
       "      <th>departure_hour</th>\n",
       "      <td>-0.007581</td>\n",
       "      <td>1.000000</td>\n",
       "      <td>0.464271</td>\n",
       "    </tr>\n",
       "    <tr>\n",
       "      <th>arrival_hour</th>\n",
       "      <td>0.073419</td>\n",
       "      <td>0.464271</td>\n",
       "      <td>1.000000</td>\n",
       "    </tr>\n",
       "  </tbody>\n",
       "</table>\n",
       "</div>"
      ],
      "text/plain": [
       "                   delay  departure_hour  arrival_hour\n",
       "delay           1.000000       -0.007581      0.073419\n",
       "departure_hour -0.007581        1.000000      0.464271\n",
       "arrival_hour    0.073419        0.464271      1.000000"
      ]
     },
     "execution_count": 23,
     "metadata": {},
     "output_type": "execute_result"
    }
   ],
   "source": [
    "corr = train1.corr()\n",
    "corr"
   ]
  },
  {
   "cell_type": "code",
   "execution_count": 24,
   "metadata": {
    "ExecuteTime": {
     "end_time": "2019-11-04T10:47:56.267500Z",
     "start_time": "2019-11-04T10:47:55.947500Z"
    }
   },
   "outputs": [
    {
     "data": {
      "text/plain": [
       "<matplotlib.axes._subplots.AxesSubplot at 0xe699be0>"
      ]
     },
     "execution_count": 24,
     "metadata": {},
     "output_type": "execute_result"
    },
    {
     "data": {
      "image/png": "[encoded data removed]",
      "text/plain": [
       "<Figure size 432x288 with 2 Axes>"
      ]
     },
     "metadata": {
      "needs_background": "light"
     },
     "output_type": "display_data"
    }
   ],
   "source": [
    "sns.heatmap(corr, xticklabels = corr.columns.values, yticklabels = corr.columns.values)"
   ]
  },
  {
   "cell_type": "code",
   "execution_count": 25,
   "metadata": {
    "ExecuteTime": {
     "end_time": "2019-11-04T10:48:07.182500Z",
     "start_time": "2019-11-04T10:47:56.267500Z"
    }
   },
   "outputs": [
    {
     "data": {
      "text/plain": [
       "<seaborn.axisgrid.PairGrid at 0xe6a8128>"
      ]
     },
     "execution_count": 25,
     "metadata": {},
     "output_type": "execute_result"
    },
    {
     "data": {
      "image/png": "[encoded data removed]",
      "text/plain": [
       "<Figure size 540x540 with 12 Axes>"
      ]
     },
     "metadata": {
      "needs_background": "light"
     },
     "output_type": "display_data"
    }
   ],
   "source": [
    "sns.pairplot(train1)"
   ]
  },
  {
   "cell_type": "markdown",
   "metadata": {},
   "source": [
    "## Recommendation to Passengers"
   ]
  },
  {
   "cell_type": "markdown",
   "metadata": {},
   "source": [
    "### Best time to take a flight\n",
    "\n",
    "Best time to take a flight is time where the sum of delay is lower than anyother time."
   ]
  },
  {
   "cell_type": "code",
   "execution_count": 26,
   "metadata": {
    "ExecuteTime": {
     "end_time": "2019-11-04T10:48:07.210000Z",
     "start_time": "2019-11-04T10:48:07.185000Z"
    }
   },
   "outputs": [
    {
     "data": {
      "text/html": [
       "<div>\n",
       "<style scoped>\n",
       "    .dataframe tbody tr th:only-of-type {\n",
       "        vertical-align: middle;\n",
       "    }\n",
       "\n",
       "    .dataframe tbody tr th {\n",
       "        vertical-align: top;\n",
       "    }\n",
       "\n",
       "    .dataframe thead th {\n",
       "        text-align: right;\n",
       "    }\n",
       "</style>\n",
       "<table border=\"1\" class=\"dataframe\">\n",
       "  <thead>\n",
       "    <tr style=\"text-align: right;\">\n",
       "      <th></th>\n",
       "      <th>airline</th>\n",
       "      <th>airline_name</th>\n",
       "      <th>scheduled_departure_time</th>\n",
       "      <th>scheduled_arrival_time</th>\n",
       "      <th>departure_airport_city</th>\n",
       "      <th>departure_airport_name</th>\n",
       "      <th>delay</th>\n",
       "      <th>departure_day</th>\n",
       "      <th>departure_hour</th>\n",
       "      <th>arrival_day</th>\n",
       "      <th>arrival_hour</th>\n",
       "    </tr>\n",
       "  </thead>\n",
       "  <tbody>\n",
       "    <tr>\n",
       "      <th>0</th>\n",
       "      <td>AK</td>\n",
       "      <td>AirAsia</td>\n",
       "      <td>2018-10-05 22:00:00</td>\n",
       "      <td>2018-10-05 23:05:00</td>\n",
       "      <td>Kuala Lumpur</td>\n",
       "      <td>Kuala Lumpur International Airport</td>\n",
       "      <td>2</td>\n",
       "      <td>Friday</td>\n",
       "      <td>22</td>\n",
       "      <td>Friday</td>\n",
       "      <td>23</td>\n",
       "    </tr>\n",
       "    <tr>\n",
       "      <th>1</th>\n",
       "      <td>ID*</td>\n",
       "      <td>Batik Air</td>\n",
       "      <td>2018-10-05 22:00:00</td>\n",
       "      <td>2018-10-05 23:55:00</td>\n",
       "      <td>Kuala Lumpur</td>\n",
       "      <td>Kuala Lumpur International Airport</td>\n",
       "      <td>8</td>\n",
       "      <td>Friday</td>\n",
       "      <td>22</td>\n",
       "      <td>Friday</td>\n",
       "      <td>23</td>\n",
       "    </tr>\n",
       "    <tr>\n",
       "      <th>2</th>\n",
       "      <td>MXD</td>\n",
       "      <td>Malindo Air</td>\n",
       "      <td>2018-10-05 22:00:00</td>\n",
       "      <td>2018-10-05 23:55:00</td>\n",
       "      <td>Kuala Lumpur</td>\n",
       "      <td>Kuala Lumpur International Airport</td>\n",
       "      <td>8</td>\n",
       "      <td>Friday</td>\n",
       "      <td>22</td>\n",
       "      <td>Friday</td>\n",
       "      <td>23</td>\n",
       "    </tr>\n",
       "    <tr>\n",
       "      <th>3</th>\n",
       "      <td>AK</td>\n",
       "      <td>AirAsia</td>\n",
       "      <td>2018-10-05 22:05:00</td>\n",
       "      <td>2018-10-06 01:00:00</td>\n",
       "      <td>Kuala Lumpur</td>\n",
       "      <td>Kuala Lumpur International Airport</td>\n",
       "      <td>0</td>\n",
       "      <td>Friday</td>\n",
       "      <td>22</td>\n",
       "      <td>Saturday</td>\n",
       "      <td>1</td>\n",
       "    </tr>\n",
       "    <tr>\n",
       "      <th>4</th>\n",
       "      <td>AK</td>\n",
       "      <td>AirAsia</td>\n",
       "      <td>2018-10-05 22:10:00</td>\n",
       "      <td>2018-10-06 01:25:00</td>\n",
       "      <td>Kuala Lumpur</td>\n",
       "      <td>Kuala Lumpur International Airport</td>\n",
       "      <td>0</td>\n",
       "      <td>Friday</td>\n",
       "      <td>22</td>\n",
       "      <td>Saturday</td>\n",
       "      <td>1</td>\n",
       "    </tr>\n",
       "  </tbody>\n",
       "</table>\n",
       "</div>"
      ],
      "text/plain": [
       "  airline airline_name scheduled_departure_time scheduled_arrival_time  \\\n",
       "0      AK      AirAsia      2018-10-05 22:00:00    2018-10-05 23:05:00   \n",
       "1     ID*    Batik Air      2018-10-05 22:00:00    2018-10-05 23:55:00   \n",
       "2     MXD  Malindo Air      2018-10-05 22:00:00    2018-10-05 23:55:00   \n",
       "3      AK      AirAsia      2018-10-05 22:05:00    2018-10-06 01:00:00   \n",
       "4      AK      AirAsia      2018-10-05 22:10:00    2018-10-06 01:25:00   \n",
       "\n",
       "  departure_airport_city              departure_airport_name  delay  \\\n",
       "0           Kuala Lumpur  Kuala Lumpur International Airport      2   \n",
       "1           Kuala Lumpur  Kuala Lumpur International Airport      8   \n",
       "2           Kuala Lumpur  Kuala Lumpur International Airport      8   \n",
       "3           Kuala Lumpur  Kuala Lumpur International Airport      0   \n",
       "4           Kuala Lumpur  Kuala Lumpur International Airport      0   \n",
       "\n",
       "  departure_day  departure_hour arrival_day  arrival_hour  \n",
       "0        Friday              22      Friday            23  \n",
       "1        Friday              22      Friday            23  \n",
       "2        Friday              22      Friday            23  \n",
       "3        Friday              22    Saturday             1  \n",
       "4        Friday              22    Saturday             1  "
      ]
     },
     "execution_count": 26,
     "metadata": {},
     "output_type": "execute_result"
    }
   ],
   "source": [
    "df = train1.copy()\n",
    "df.head()"
   ]
  },
  {
   "cell_type": "code",
   "execution_count": 27,
   "metadata": {
    "ExecuteTime": {
     "end_time": "2019-11-04T10:48:07.355000Z",
     "start_time": "2019-11-04T10:48:07.212500Z"
    }
   },
   "outputs": [
    {
     "data": {
      "text/html": [
       "<div>\n",
       "<style scoped>\n",
       "    .dataframe tbody tr th:only-of-type {\n",
       "        vertical-align: middle;\n",
       "    }\n",
       "\n",
       "    .dataframe tbody tr th {\n",
       "        vertical-align: top;\n",
       "    }\n",
       "\n",
       "    .dataframe thead th {\n",
       "        text-align: right;\n",
       "    }\n",
       "</style>\n",
       "<table border=\"1\" class=\"dataframe\">\n",
       "  <thead>\n",
       "    <tr style=\"text-align: right;\">\n",
       "      <th></th>\n",
       "      <th>delay</th>\n",
       "    </tr>\n",
       "    <tr>\n",
       "      <th>departure_hour</th>\n",
       "      <th></th>\n",
       "    </tr>\n",
       "  </thead>\n",
       "  <tbody>\n",
       "    <tr>\n",
       "      <th>0</th>\n",
       "      <td>8.97</td>\n",
       "    </tr>\n",
       "    <tr>\n",
       "      <th>1</th>\n",
       "      <td>10.08</td>\n",
       "    </tr>\n",
       "    <tr>\n",
       "      <th>2</th>\n",
       "      <td>8.01</td>\n",
       "    </tr>\n",
       "    <tr>\n",
       "      <th>3</th>\n",
       "      <td>11.17</td>\n",
       "    </tr>\n",
       "    <tr>\n",
       "      <th>4</th>\n",
       "      <td>10.75</td>\n",
       "    </tr>\n",
       "    <tr>\n",
       "      <th>5</th>\n",
       "      <td>10.04</td>\n",
       "    </tr>\n",
       "    <tr>\n",
       "      <th>6</th>\n",
       "      <td>10.08</td>\n",
       "    </tr>\n",
       "    <tr>\n",
       "      <th>7</th>\n",
       "      <td>11.54</td>\n",
       "    </tr>\n",
       "    <tr>\n",
       "      <th>8</th>\n",
       "      <td>13.27</td>\n",
       "    </tr>\n",
       "    <tr>\n",
       "      <th>9</th>\n",
       "      <td>16.11</td>\n",
       "    </tr>\n",
       "    <tr>\n",
       "      <th>10</th>\n",
       "      <td>14.90</td>\n",
       "    </tr>\n",
       "    <tr>\n",
       "      <th>11</th>\n",
       "      <td>15.48</td>\n",
       "    </tr>\n",
       "    <tr>\n",
       "      <th>12</th>\n",
       "      <td>14.41</td>\n",
       "    </tr>\n",
       "    <tr>\n",
       "      <th>13</th>\n",
       "      <td>14.77</td>\n",
       "    </tr>\n",
       "    <tr>\n",
       "      <th>14</th>\n",
       "      <td>16.43</td>\n",
       "    </tr>\n",
       "    <tr>\n",
       "      <th>15</th>\n",
       "      <td>13.05</td>\n",
       "    </tr>\n",
       "    <tr>\n",
       "      <th>16</th>\n",
       "      <td>19.59</td>\n",
       "    </tr>\n",
       "    <tr>\n",
       "      <th>17</th>\n",
       "      <td>11.10</td>\n",
       "    </tr>\n",
       "    <tr>\n",
       "      <th>18</th>\n",
       "      <td>18.39</td>\n",
       "    </tr>\n",
       "    <tr>\n",
       "      <th>19</th>\n",
       "      <td>10.38</td>\n",
       "    </tr>\n",
       "    <tr>\n",
       "      <th>20</th>\n",
       "      <td>8.27</td>\n",
       "    </tr>\n",
       "    <tr>\n",
       "      <th>21</th>\n",
       "      <td>2.25</td>\n",
       "    </tr>\n",
       "    <tr>\n",
       "      <th>22</th>\n",
       "      <td>3.08</td>\n",
       "    </tr>\n",
       "    <tr>\n",
       "      <th>23</th>\n",
       "      <td>5.80</td>\n",
       "    </tr>\n",
       "  </tbody>\n",
       "</table>\n",
       "</div>"
      ],
      "text/plain": [
       "                delay\n",
       "departure_hour       \n",
       "0                8.97\n",
       "1               10.08\n",
       "2                8.01\n",
       "3               11.17\n",
       "4               10.75\n",
       "5               10.04\n",
       "6               10.08\n",
       "7               11.54\n",
       "8               13.27\n",
       "9               16.11\n",
       "10              14.90\n",
       "11              15.48\n",
       "12              14.41\n",
       "13              14.77\n",
       "14              16.43\n",
       "15              13.05\n",
       "16              19.59\n",
       "17              11.10\n",
       "18              18.39\n",
       "19              10.38\n",
       "20               8.27\n",
       "21               2.25\n",
       "22               3.08\n",
       "23               5.80"
      ]
     },
     "execution_count": 27,
     "metadata": {},
     "output_type": "execute_result"
    }
   ],
   "source": [
    "group_time = df[['departure_hour', 'delay']].groupby(by='departure_hour').mean().round(2).sort_values(by =['departure_hour'])\n",
    "\n",
    "group_time"
   ]
  },
  {
   "cell_type": "code",
   "execution_count": 28,
   "metadata": {
    "ExecuteTime": {
     "end_time": "2019-11-04T10:48:07.745000Z",
     "start_time": "2019-11-04T10:48:07.357500Z"
    }
   },
   "outputs": [
    {
     "name": "stdout",
     "output_type": "stream",
     "text": [
      "Best 3 time to take a flight with mean delay is lower than any other time are\n",
      "\n",
      "                delay\n",
      "departure_hour       \n",
      "21               2.25\n",
      "22               3.08\n",
      "23               5.80\n"
     ]
    },
    {
     "data": {
      "image/png": "[encoded data removed]",
      "text/plain": [
       "<Figure size 720x720 with 1 Axes>"
      ]
     },
     "metadata": {
      "needs_background": "light"
     },
     "output_type": "display_data"
    }
   ],
   "source": [
    "print('Best 3 time to take a flight with mean delay is lower than any other time are\\n')\n",
    "print(group_time.sort_values(by =['delay']).head(3))\n",
    "\n",
    "\n",
    "# figure size\n",
    "plt.figure(figsize = (10, 10))\n",
    "\n",
    "# x-coordinates of bars   \n",
    "x = group_time.index\n",
    "  \n",
    "# y-coordinates of bars \n",
    "y = group_time['delay'] \n",
    "  \n",
    "# plotting a bar chart \n",
    "plt.bar(x, y, width = 0.8, color = ['maroon', 'lightcoral']) \n",
    "  \n",
    "# naming the x-axis \n",
    "plt.xlabel('Departure Hour') \n",
    "# naming the y-axis \n",
    "plt.ylabel('Mean Delay Time (in minutes)') \n",
    "# plot title \n",
    "plt.title('Bar Chart of Departure Hour x Delay Time') \n",
    "\n",
    "# function to show the plot \n",
    "plt.show() "
   ]
  },
  {
   "cell_type": "markdown",
   "metadata": {},
   "source": [
    "### Best airline to take a flight\n",
    "\n",
    "Best airline to take a flight is where the sum of delay is lowest."
   ]
  },
  {
   "cell_type": "code",
   "execution_count": 29,
   "metadata": {
    "ExecuteTime": {
     "end_time": "2019-11-04T10:48:07.792500Z",
     "start_time": "2019-11-04T10:48:07.747500Z"
    }
   },
   "outputs": [
    {
     "data": {
      "text/html": [
       "<div>\n",
       "<style scoped>\n",
       "    .dataframe tbody tr th:only-of-type {\n",
       "        vertical-align: middle;\n",
       "    }\n",
       "\n",
       "    .dataframe tbody tr th {\n",
       "        vertical-align: top;\n",
       "    }\n",
       "\n",
       "    .dataframe thead th {\n",
       "        text-align: right;\n",
       "    }\n",
       "</style>\n",
       "<table border=\"1\" class=\"dataframe\">\n",
       "  <thead>\n",
       "    <tr style=\"text-align: right;\">\n",
       "      <th></th>\n",
       "      <th>airline</th>\n",
       "      <th>airline_name</th>\n",
       "      <th>scheduled_departure_time</th>\n",
       "      <th>scheduled_arrival_time</th>\n",
       "      <th>departure_airport_city</th>\n",
       "      <th>departure_airport_name</th>\n",
       "      <th>delay</th>\n",
       "      <th>departure_day</th>\n",
       "      <th>departure_hour</th>\n",
       "      <th>arrival_day</th>\n",
       "      <th>arrival_hour</th>\n",
       "    </tr>\n",
       "  </thead>\n",
       "  <tbody>\n",
       "    <tr>\n",
       "      <th>0</th>\n",
       "      <td>AK</td>\n",
       "      <td>AirAsia</td>\n",
       "      <td>2018-10-05 22:00:00</td>\n",
       "      <td>2018-10-05 23:05:00</td>\n",
       "      <td>Kuala Lumpur</td>\n",
       "      <td>Kuala Lumpur International Airport</td>\n",
       "      <td>2</td>\n",
       "      <td>Friday</td>\n",
       "      <td>22</td>\n",
       "      <td>Friday</td>\n",
       "      <td>23</td>\n",
       "    </tr>\n",
       "    <tr>\n",
       "      <th>1</th>\n",
       "      <td>ID*</td>\n",
       "      <td>Batik Air</td>\n",
       "      <td>2018-10-05 22:00:00</td>\n",
       "      <td>2018-10-05 23:55:00</td>\n",
       "      <td>Kuala Lumpur</td>\n",
       "      <td>Kuala Lumpur International Airport</td>\n",
       "      <td>8</td>\n",
       "      <td>Friday</td>\n",
       "      <td>22</td>\n",
       "      <td>Friday</td>\n",
       "      <td>23</td>\n",
       "    </tr>\n",
       "    <tr>\n",
       "      <th>2</th>\n",
       "      <td>MXD</td>\n",
       "      <td>Malindo Air</td>\n",
       "      <td>2018-10-05 22:00:00</td>\n",
       "      <td>2018-10-05 23:55:00</td>\n",
       "      <td>Kuala Lumpur</td>\n",
       "      <td>Kuala Lumpur International Airport</td>\n",
       "      <td>8</td>\n",
       "      <td>Friday</td>\n",
       "      <td>22</td>\n",
       "      <td>Friday</td>\n",
       "      <td>23</td>\n",
       "    </tr>\n",
       "    <tr>\n",
       "      <th>3</th>\n",
       "      <td>AK</td>\n",
       "      <td>AirAsia</td>\n",
       "      <td>2018-10-05 22:05:00</td>\n",
       "      <td>2018-10-06 01:00:00</td>\n",
       "      <td>Kuala Lumpur</td>\n",
       "      <td>Kuala Lumpur International Airport</td>\n",
       "      <td>0</td>\n",
       "      <td>Friday</td>\n",
       "      <td>22</td>\n",
       "      <td>Saturday</td>\n",
       "      <td>1</td>\n",
       "    </tr>\n",
       "    <tr>\n",
       "      <th>4</th>\n",
       "      <td>AK</td>\n",
       "      <td>AirAsia</td>\n",
       "      <td>2018-10-05 22:10:00</td>\n",
       "      <td>2018-10-06 01:25:00</td>\n",
       "      <td>Kuala Lumpur</td>\n",
       "      <td>Kuala Lumpur International Airport</td>\n",
       "      <td>0</td>\n",
       "      <td>Friday</td>\n",
       "      <td>22</td>\n",
       "      <td>Saturday</td>\n",
       "      <td>1</td>\n",
       "    </tr>\n",
       "  </tbody>\n",
       "</table>\n",
       "</div>"
      ],
      "text/plain": [
       "  airline airline_name scheduled_departure_time scheduled_arrival_time  \\\n",
       "0      AK      AirAsia      2018-10-05 22:00:00    2018-10-05 23:05:00   \n",
       "1     ID*    Batik Air      2018-10-05 22:00:00    2018-10-05 23:55:00   \n",
       "2     MXD  Malindo Air      2018-10-05 22:00:00    2018-10-05 23:55:00   \n",
       "3      AK      AirAsia      2018-10-05 22:05:00    2018-10-06 01:00:00   \n",
       "4      AK      AirAsia      2018-10-05 22:10:00    2018-10-06 01:25:00   \n",
       "\n",
       "  departure_airport_city              departure_airport_name  delay  \\\n",
       "0           Kuala Lumpur  Kuala Lumpur International Airport      2   \n",
       "1           Kuala Lumpur  Kuala Lumpur International Airport      8   \n",
       "2           Kuala Lumpur  Kuala Lumpur International Airport      8   \n",
       "3           Kuala Lumpur  Kuala Lumpur International Airport      0   \n",
       "4           Kuala Lumpur  Kuala Lumpur International Airport      0   \n",
       "\n",
       "  departure_day  departure_hour arrival_day  arrival_hour  \n",
       "0        Friday              22      Friday            23  \n",
       "1        Friday              22      Friday            23  \n",
       "2        Friday              22      Friday            23  \n",
       "3        Friday              22    Saturday             1  \n",
       "4        Friday              22    Saturday             1  "
      ]
     },
     "execution_count": 29,
     "metadata": {},
     "output_type": "execute_result"
    }
   ],
   "source": [
    "df = train1.copy()\n",
    "df.head()"
   ]
  },
  {
   "cell_type": "code",
   "execution_count": 30,
   "metadata": {
    "ExecuteTime": {
     "end_time": "2019-11-04T10:48:07.872500Z",
     "start_time": "2019-11-04T10:48:07.792500Z"
    }
   },
   "outputs": [
    {
     "data": {
      "text/html": [
       "<div>\n",
       "<style scoped>\n",
       "    .dataframe tbody tr th:only-of-type {\n",
       "        vertical-align: middle;\n",
       "    }\n",
       "\n",
       "    .dataframe tbody tr th {\n",
       "        vertical-align: top;\n",
       "    }\n",
       "\n",
       "    .dataframe thead th {\n",
       "        text-align: right;\n",
       "    }\n",
       "</style>\n",
       "<table border=\"1\" class=\"dataframe\">\n",
       "  <thead>\n",
       "    <tr style=\"text-align: right;\">\n",
       "      <th></th>\n",
       "      <th>delay</th>\n",
       "    </tr>\n",
       "    <tr>\n",
       "      <th>airline_name</th>\n",
       "      <th></th>\n",
       "    </tr>\n",
       "  </thead>\n",
       "  <tbody>\n",
       "    <tr>\n",
       "      <th>AHK</th>\n",
       "      <td>9.00</td>\n",
       "    </tr>\n",
       "    <tr>\n",
       "      <th>ANA</th>\n",
       "      <td>5.82</td>\n",
       "    </tr>\n",
       "    <tr>\n",
       "      <th>Air Astana</th>\n",
       "      <td>24.64</td>\n",
       "    </tr>\n",
       "    <tr>\n",
       "      <th>Air Canada</th>\n",
       "      <td>6.99</td>\n",
       "    </tr>\n",
       "    <tr>\n",
       "      <th>Air China</th>\n",
       "      <td>19.60</td>\n",
       "    </tr>\n",
       "    <tr>\n",
       "      <th>...</th>\n",
       "      <td>...</td>\n",
       "    </tr>\n",
       "    <tr>\n",
       "      <th>Virgin Australia</th>\n",
       "      <td>15.98</td>\n",
       "    </tr>\n",
       "    <tr>\n",
       "      <th>Wings Air (Indonesia)</th>\n",
       "      <td>12.51</td>\n",
       "    </tr>\n",
       "    <tr>\n",
       "      <th>Xiamen Airlines</th>\n",
       "      <td>11.78</td>\n",
       "    </tr>\n",
       "    <tr>\n",
       "      <th>YTO Cargo</th>\n",
       "      <td>0.00</td>\n",
       "    </tr>\n",
       "    <tr>\n",
       "      <th>flynas</th>\n",
       "      <td>24.12</td>\n",
       "    </tr>\n",
       "  </tbody>\n",
       "</table>\n",
       "<p>103 rows × 1 columns</p>\n",
       "</div>"
      ],
      "text/plain": [
       "                       delay\n",
       "airline_name                \n",
       "AHK                     9.00\n",
       "ANA                     5.82\n",
       "Air Astana             24.64\n",
       "Air Canada              6.99\n",
       "Air China              19.60\n",
       "...                      ...\n",
       "Virgin Australia       15.98\n",
       "Wings Air (Indonesia)  12.51\n",
       "Xiamen Airlines        11.78\n",
       "YTO Cargo               0.00\n",
       "flynas                 24.12\n",
       "\n",
       "[103 rows x 1 columns]"
      ]
     },
     "execution_count": 30,
     "metadata": {},
     "output_type": "execute_result"
    }
   ],
   "source": [
    "group_airline = df[['airline_name', 'delay']].groupby(by='airline_name').mean().round(2).sort_values(by =['airline_name'])\n",
    "\n",
    "group_airline"
   ]
  },
  {
   "cell_type": "code",
   "execution_count": 31,
   "metadata": {
    "ExecuteTime": {
     "end_time": "2019-11-04T10:48:08.202500Z",
     "start_time": "2019-11-04T10:48:07.875000Z"
    }
   },
   "outputs": [
    {
     "name": "stdout",
     "output_type": "stream",
     "text": [
      "Best airlines with 0 delay time to take a flight are\n",
      "\n",
      "                             delay\n",
      "airline_name                      \n",
      "Firefly                        0.0\n",
      "Guangxi Beibu Gulf Airlines    0.0\n",
      "Hong Kong Airlines             0.0\n",
      "Silk Way West                  0.0\n",
      "YTO Cargo                      0.0\n"
     ]
    },
    {
     "data": {
      "image/png": "[encoded data removed]",
      "text/plain": [
       "<Figure size 720x720 with 1 Axes>"
      ]
     },
     "metadata": {
      "needs_background": "light"
     },
     "output_type": "display_data"
    }
   ],
   "source": [
    "print('Best airlines with 0 delay time to take a flight are\\n')\n",
    "print(group_airline[group_airline.delay == 0])\n",
    "\n",
    "best_airline = group_airline.sort_values(by =['delay']).head(10)\n",
    "\n",
    "# figure size\n",
    "plt.figure(figsize = (10, 10))\n",
    "\n",
    "# x-coordinates of bars   \n",
    "x = best_airline.index\n",
    "  \n",
    "# y-coordinates of bars \n",
    "y = best_airline['delay'] \n",
    "  \n",
    "# plotting a bar chart \n",
    "plt.bar(x, y, width = 0.8, color = ['crimson', 'indianred']) \n",
    "  \n",
    "# naming the x-axis \n",
    "plt.xlabel('Airline Name') \n",
    "# naming the y-axis \n",
    "plt.ylabel('Mean Delay Time (in minutes)') \n",
    "# plot title \n",
    "plt.title('Bar Chart of 10 Best Airline x Delay Time') \n",
    "\n",
    "# function to show the plot \n",
    "plt.show() "
   ]
  },
  {
   "cell_type": "markdown",
   "metadata": {
    "ExecuteTime": {
     "end_time": "2019-11-04T03:59:04.126500Z",
     "start_time": "2019-11-04T03:59:04.118500Z"
    }
   },
   "source": [
    "### Best time and best airline to take a flight"
   ]
  },
  {
   "cell_type": "code",
   "execution_count": 32,
   "metadata": {
    "ExecuteTime": {
     "end_time": "2019-11-04T10:48:08.245000Z",
     "start_time": "2019-11-04T10:48:08.207500Z"
    }
   },
   "outputs": [
    {
     "data": {
      "text/html": [
       "<div>\n",
       "<style scoped>\n",
       "    .dataframe tbody tr th:only-of-type {\n",
       "        vertical-align: middle;\n",
       "    }\n",
       "\n",
       "    .dataframe tbody tr th {\n",
       "        vertical-align: top;\n",
       "    }\n",
       "\n",
       "    .dataframe thead th {\n",
       "        text-align: right;\n",
       "    }\n",
       "</style>\n",
       "<table border=\"1\" class=\"dataframe\">\n",
       "  <thead>\n",
       "    <tr style=\"text-align: right;\">\n",
       "      <th></th>\n",
       "      <th>airline</th>\n",
       "      <th>airline_name</th>\n",
       "      <th>scheduled_departure_time</th>\n",
       "      <th>scheduled_arrival_time</th>\n",
       "      <th>departure_airport_city</th>\n",
       "      <th>departure_airport_name</th>\n",
       "      <th>delay</th>\n",
       "      <th>departure_day</th>\n",
       "      <th>departure_hour</th>\n",
       "      <th>arrival_day</th>\n",
       "      <th>arrival_hour</th>\n",
       "    </tr>\n",
       "  </thead>\n",
       "  <tbody>\n",
       "    <tr>\n",
       "      <th>0</th>\n",
       "      <td>AK</td>\n",
       "      <td>AirAsia</td>\n",
       "      <td>2018-10-05 22:00:00</td>\n",
       "      <td>2018-10-05 23:05:00</td>\n",
       "      <td>Kuala Lumpur</td>\n",
       "      <td>Kuala Lumpur International Airport</td>\n",
       "      <td>2</td>\n",
       "      <td>Friday</td>\n",
       "      <td>22</td>\n",
       "      <td>Friday</td>\n",
       "      <td>23</td>\n",
       "    </tr>\n",
       "    <tr>\n",
       "      <th>1</th>\n",
       "      <td>ID*</td>\n",
       "      <td>Batik Air</td>\n",
       "      <td>2018-10-05 22:00:00</td>\n",
       "      <td>2018-10-05 23:55:00</td>\n",
       "      <td>Kuala Lumpur</td>\n",
       "      <td>Kuala Lumpur International Airport</td>\n",
       "      <td>8</td>\n",
       "      <td>Friday</td>\n",
       "      <td>22</td>\n",
       "      <td>Friday</td>\n",
       "      <td>23</td>\n",
       "    </tr>\n",
       "    <tr>\n",
       "      <th>2</th>\n",
       "      <td>MXD</td>\n",
       "      <td>Malindo Air</td>\n",
       "      <td>2018-10-05 22:00:00</td>\n",
       "      <td>2018-10-05 23:55:00</td>\n",
       "      <td>Kuala Lumpur</td>\n",
       "      <td>Kuala Lumpur International Airport</td>\n",
       "      <td>8</td>\n",
       "      <td>Friday</td>\n",
       "      <td>22</td>\n",
       "      <td>Friday</td>\n",
       "      <td>23</td>\n",
       "    </tr>\n",
       "    <tr>\n",
       "      <th>3</th>\n",
       "      <td>AK</td>\n",
       "      <td>AirAsia</td>\n",
       "      <td>2018-10-05 22:05:00</td>\n",
       "      <td>2018-10-06 01:00:00</td>\n",
       "      <td>Kuala Lumpur</td>\n",
       "      <td>Kuala Lumpur International Airport</td>\n",
       "      <td>0</td>\n",
       "      <td>Friday</td>\n",
       "      <td>22</td>\n",
       "      <td>Saturday</td>\n",
       "      <td>1</td>\n",
       "    </tr>\n",
       "    <tr>\n",
       "      <th>4</th>\n",
       "      <td>AK</td>\n",
       "      <td>AirAsia</td>\n",
       "      <td>2018-10-05 22:10:00</td>\n",
       "      <td>2018-10-06 01:25:00</td>\n",
       "      <td>Kuala Lumpur</td>\n",
       "      <td>Kuala Lumpur International Airport</td>\n",
       "      <td>0</td>\n",
       "      <td>Friday</td>\n",
       "      <td>22</td>\n",
       "      <td>Saturday</td>\n",
       "      <td>1</td>\n",
       "    </tr>\n",
       "  </tbody>\n",
       "</table>\n",
       "</div>"
      ],
      "text/plain": [
       "  airline airline_name scheduled_departure_time scheduled_arrival_time  \\\n",
       "0      AK      AirAsia      2018-10-05 22:00:00    2018-10-05 23:05:00   \n",
       "1     ID*    Batik Air      2018-10-05 22:00:00    2018-10-05 23:55:00   \n",
       "2     MXD  Malindo Air      2018-10-05 22:00:00    2018-10-05 23:55:00   \n",
       "3      AK      AirAsia      2018-10-05 22:05:00    2018-10-06 01:00:00   \n",
       "4      AK      AirAsia      2018-10-05 22:10:00    2018-10-06 01:25:00   \n",
       "\n",
       "  departure_airport_city              departure_airport_name  delay  \\\n",
       "0           Kuala Lumpur  Kuala Lumpur International Airport      2   \n",
       "1           Kuala Lumpur  Kuala Lumpur International Airport      8   \n",
       "2           Kuala Lumpur  Kuala Lumpur International Airport      8   \n",
       "3           Kuala Lumpur  Kuala Lumpur International Airport      0   \n",
       "4           Kuala Lumpur  Kuala Lumpur International Airport      0   \n",
       "\n",
       "  departure_day  departure_hour arrival_day  arrival_hour  \n",
       "0        Friday              22      Friday            23  \n",
       "1        Friday              22      Friday            23  \n",
       "2        Friday              22      Friday            23  \n",
       "3        Friday              22    Saturday             1  \n",
       "4        Friday              22    Saturday             1  "
      ]
     },
     "execution_count": 32,
     "metadata": {},
     "output_type": "execute_result"
    }
   ],
   "source": [
    "df = train1.copy()\n",
    "df.head()"
   ]
  },
  {
   "cell_type": "code",
   "execution_count": 33,
   "metadata": {
    "ExecuteTime": {
     "end_time": "2019-11-04T10:48:08.362500Z",
     "start_time": "2019-11-04T10:48:08.250000Z"
    }
   },
   "outputs": [
    {
     "data": {
      "text/html": [
       "<div>\n",
       "<style scoped>\n",
       "    .dataframe tbody tr th:only-of-type {\n",
       "        vertical-align: middle;\n",
       "    }\n",
       "\n",
       "    .dataframe tbody tr th {\n",
       "        vertical-align: top;\n",
       "    }\n",
       "\n",
       "    .dataframe thead th {\n",
       "        text-align: right;\n",
       "    }\n",
       "</style>\n",
       "<table border=\"1\" class=\"dataframe\">\n",
       "  <thead>\n",
       "    <tr style=\"text-align: right;\">\n",
       "      <th></th>\n",
       "      <th></th>\n",
       "      <th>delay</th>\n",
       "    </tr>\n",
       "    <tr>\n",
       "      <th>departure_hour</th>\n",
       "      <th>airline_name</th>\n",
       "      <th></th>\n",
       "    </tr>\n",
       "  </thead>\n",
       "  <tbody>\n",
       "    <tr>\n",
       "      <th rowspan=\"5\" valign=\"top\">0</th>\n",
       "      <th>ANA</th>\n",
       "      <td>5.85</td>\n",
       "    </tr>\n",
       "    <tr>\n",
       "      <th>Air Canada</th>\n",
       "      <td>6.99</td>\n",
       "    </tr>\n",
       "    <tr>\n",
       "      <th>Air India</th>\n",
       "      <td>3.12</td>\n",
       "    </tr>\n",
       "    <tr>\n",
       "      <th>Air New Zealand</th>\n",
       "      <td>14.42</td>\n",
       "    </tr>\n",
       "    <tr>\n",
       "      <th>AirAsia</th>\n",
       "      <td>6.09</td>\n",
       "    </tr>\n",
       "    <tr>\n",
       "      <th>...</th>\n",
       "      <th>...</th>\n",
       "      <td>...</td>\n",
       "    </tr>\n",
       "    <tr>\n",
       "      <th rowspan=\"5\" valign=\"top\">23</th>\n",
       "      <th>SilkAir</th>\n",
       "      <td>12.13</td>\n",
       "    </tr>\n",
       "    <tr>\n",
       "      <th>Singapore Airlines</th>\n",
       "      <td>12.13</td>\n",
       "    </tr>\n",
       "    <tr>\n",
       "      <th>United Airlines</th>\n",
       "      <td>3.96</td>\n",
       "    </tr>\n",
       "    <tr>\n",
       "      <th>Virgin Australia</th>\n",
       "      <td>12.13</td>\n",
       "    </tr>\n",
       "    <tr>\n",
       "      <th>Xiamen Airlines</th>\n",
       "      <td>6.71</td>\n",
       "    </tr>\n",
       "  </tbody>\n",
       "</table>\n",
       "<p>676 rows × 1 columns</p>\n",
       "</div>"
      ],
      "text/plain": [
       "                                   delay\n",
       "departure_hour airline_name             \n",
       "0              ANA                  5.85\n",
       "               Air Canada           6.99\n",
       "               Air India            3.12\n",
       "               Air New Zealand     14.42\n",
       "               AirAsia              6.09\n",
       "...                                  ...\n",
       "23             SilkAir             12.13\n",
       "               Singapore Airlines  12.13\n",
       "               United Airlines      3.96\n",
       "               Virgin Australia    12.13\n",
       "               Xiamen Airlines      6.71\n",
       "\n",
       "[676 rows x 1 columns]"
      ]
     },
     "execution_count": 33,
     "metadata": {},
     "output_type": "execute_result"
    }
   ],
   "source": [
    "group_time_airline = df[['departure_hour', 'airline_name', 'delay']]\n",
    "group_time_airline = group_time_airline.groupby(['departure_hour', 'airline_name']).mean().round(2).sort_values(by =['departure_hour', 'airline_name'])\n",
    "\n",
    "group_time_airline"
   ]
  },
  {
   "cell_type": "code",
   "execution_count": 34,
   "metadata": {
    "ExecuteTime": {
     "end_time": "2019-11-04T10:48:08.477500Z",
     "start_time": "2019-11-04T10:48:08.365000Z"
    },
    "scrolled": false
   },
   "outputs": [
    {
     "name": "stdout",
     "output_type": "stream",
     "text": [
      "Best airlines with minimum mean delay time to take a flight per hour are listed below:\n"
     ]
    },
    {
     "data": {
      "text/html": [
       "<div>\n",
       "<style scoped>\n",
       "    .dataframe tbody tr th:only-of-type {\n",
       "        vertical-align: middle;\n",
       "    }\n",
       "\n",
       "    .dataframe tbody tr th {\n",
       "        vertical-align: top;\n",
       "    }\n",
       "\n",
       "    .dataframe thead th {\n",
       "        text-align: right;\n",
       "    }\n",
       "</style>\n",
       "<table border=\"1\" class=\"dataframe\">\n",
       "  <thead>\n",
       "    <tr style=\"text-align: right;\">\n",
       "      <th></th>\n",
       "      <th>departure_hour</th>\n",
       "      <th>airline_name</th>\n",
       "      <th>mean delay in minute(s)</th>\n",
       "    </tr>\n",
       "  </thead>\n",
       "  <tbody>\n",
       "    <tr>\n",
       "      <th>0</th>\n",
       "      <td>0</td>\n",
       "      <td>Firefly</td>\n",
       "      <td>0.00</td>\n",
       "    </tr>\n",
       "    <tr>\n",
       "      <th>1</th>\n",
       "      <td>1</td>\n",
       "      <td>Firefly</td>\n",
       "      <td>0.00</td>\n",
       "    </tr>\n",
       "    <tr>\n",
       "      <th>2</th>\n",
       "      <td>2</td>\n",
       "      <td>Firefly</td>\n",
       "      <td>0.00</td>\n",
       "    </tr>\n",
       "    <tr>\n",
       "      <th>3</th>\n",
       "      <td>3</td>\n",
       "      <td>Firefly</td>\n",
       "      <td>0.00</td>\n",
       "    </tr>\n",
       "    <tr>\n",
       "      <th>4</th>\n",
       "      <td>4</td>\n",
       "      <td>Firefly</td>\n",
       "      <td>0.00</td>\n",
       "    </tr>\n",
       "    <tr>\n",
       "      <th>5</th>\n",
       "      <td>5</td>\n",
       "      <td>Firefly</td>\n",
       "      <td>0.00</td>\n",
       "    </tr>\n",
       "    <tr>\n",
       "      <th>6</th>\n",
       "      <td>6</td>\n",
       "      <td>Firefly</td>\n",
       "      <td>0.00</td>\n",
       "    </tr>\n",
       "    <tr>\n",
       "      <th>7</th>\n",
       "      <td>7</td>\n",
       "      <td>Firefly</td>\n",
       "      <td>0.00</td>\n",
       "    </tr>\n",
       "    <tr>\n",
       "      <th>8</th>\n",
       "      <td>8</td>\n",
       "      <td>Firefly</td>\n",
       "      <td>0.00</td>\n",
       "    </tr>\n",
       "    <tr>\n",
       "      <th>9</th>\n",
       "      <td>9</td>\n",
       "      <td>Firefly</td>\n",
       "      <td>0.00</td>\n",
       "    </tr>\n",
       "    <tr>\n",
       "      <th>10</th>\n",
       "      <td>10</td>\n",
       "      <td>Firefly</td>\n",
       "      <td>0.00</td>\n",
       "    </tr>\n",
       "    <tr>\n",
       "      <th>11</th>\n",
       "      <td>11</td>\n",
       "      <td>Firefly</td>\n",
       "      <td>0.00</td>\n",
       "    </tr>\n",
       "    <tr>\n",
       "      <th>12</th>\n",
       "      <td>12</td>\n",
       "      <td>Cathay Pacific</td>\n",
       "      <td>0.00</td>\n",
       "    </tr>\n",
       "    <tr>\n",
       "      <th>13</th>\n",
       "      <td>13</td>\n",
       "      <td>Firefly</td>\n",
       "      <td>0.00</td>\n",
       "    </tr>\n",
       "    <tr>\n",
       "      <th>14</th>\n",
       "      <td>14</td>\n",
       "      <td>Royal Brunei Airlines</td>\n",
       "      <td>0.00</td>\n",
       "    </tr>\n",
       "    <tr>\n",
       "      <th>15</th>\n",
       "      <td>15</td>\n",
       "      <td>Ethiopian Airlines</td>\n",
       "      <td>2.12</td>\n",
       "    </tr>\n",
       "    <tr>\n",
       "      <th>16</th>\n",
       "      <td>16</td>\n",
       "      <td>Silk Way West</td>\n",
       "      <td>0.00</td>\n",
       "    </tr>\n",
       "    <tr>\n",
       "      <th>17</th>\n",
       "      <td>17</td>\n",
       "      <td>Raya Airways</td>\n",
       "      <td>0.00</td>\n",
       "    </tr>\n",
       "    <tr>\n",
       "      <th>18</th>\n",
       "      <td>18</td>\n",
       "      <td>China Southern Airlines</td>\n",
       "      <td>0.00</td>\n",
       "    </tr>\n",
       "    <tr>\n",
       "      <th>19</th>\n",
       "      <td>19</td>\n",
       "      <td>Malaysia Airlines</td>\n",
       "      <td>0.00</td>\n",
       "    </tr>\n",
       "    <tr>\n",
       "      <th>20</th>\n",
       "      <td>20</td>\n",
       "      <td>Uni-Top Airlines</td>\n",
       "      <td>8.08</td>\n",
       "    </tr>\n",
       "    <tr>\n",
       "      <th>21</th>\n",
       "      <td>21</td>\n",
       "      <td>Philippine Airlines</td>\n",
       "      <td>0.44</td>\n",
       "    </tr>\n",
       "    <tr>\n",
       "      <th>22</th>\n",
       "      <td>22</td>\n",
       "      <td>Cargolux</td>\n",
       "      <td>0.00</td>\n",
       "    </tr>\n",
       "    <tr>\n",
       "      <th>23</th>\n",
       "      <td>23</td>\n",
       "      <td>Firefly</td>\n",
       "      <td>0.00</td>\n",
       "    </tr>\n",
       "  </tbody>\n",
       "</table>\n",
       "</div>"
      ],
      "text/plain": [
       "    departure_hour             airline_name  mean delay in minute(s)\n",
       "0                0                  Firefly                     0.00\n",
       "1                1                  Firefly                     0.00\n",
       "2                2                  Firefly                     0.00\n",
       "3                3                  Firefly                     0.00\n",
       "4                4                  Firefly                     0.00\n",
       "5                5                  Firefly                     0.00\n",
       "6                6                  Firefly                     0.00\n",
       "7                7                  Firefly                     0.00\n",
       "8                8                  Firefly                     0.00\n",
       "9                9                  Firefly                     0.00\n",
       "10              10                  Firefly                     0.00\n",
       "11              11                  Firefly                     0.00\n",
       "12              12           Cathay Pacific                     0.00\n",
       "13              13                  Firefly                     0.00\n",
       "14              14    Royal Brunei Airlines                     0.00\n",
       "15              15       Ethiopian Airlines                     2.12\n",
       "16              16            Silk Way West                     0.00\n",
       "17              17             Raya Airways                     0.00\n",
       "18              18  China Southern Airlines                     0.00\n",
       "19              19        Malaysia Airlines                     0.00\n",
       "20              20         Uni-Top Airlines                     8.08\n",
       "21              21      Philippine Airlines                     0.44\n",
       "22              22                 Cargolux                     0.00\n",
       "23              23                  Firefly                     0.00"
      ]
     },
     "execution_count": 34,
     "metadata": {},
     "output_type": "execute_result"
    }
   ],
   "source": [
    "print('Best airlines with minimum mean delay time to take a flight per hour are listed below:')\n",
    "\n",
    "time = []\n",
    "planes = []\n",
    "delays = []\n",
    "\n",
    "for i in range(24):\n",
    "    time.append(i)\n",
    "    \n",
    "    plane = group_time_airline.loc[i].idxmin()[\"delay\"]\n",
    "    planes.append(plane)\n",
    "    \n",
    "    delay = group_time_airline.loc[i].min()[\"delay\"]\n",
    "    delays.append(delay)\n",
    "    \n",
    "    \n",
    "pd.DataFrame({\"departure_hour\": time, \"airline_name\": planes, \"mean delay in minute(s)\": delays})"
   ]
  },
  {
   "cell_type": "markdown",
   "metadata": {},
   "source": [
    "## Load and Clean Test Dataset\n",
    "\n",
    "Data that will be the test dataset is test_dataset.csv."
   ]
  },
  {
   "cell_type": "code",
   "execution_count": 70,
   "metadata": {
    "ExecuteTime": {
     "end_time": "2019-11-04T10:55:16.382500Z",
     "start_time": "2019-11-04T10:55:16.140000Z"
    }
   },
   "outputs": [],
   "source": [
    "test = pd.read_csv('test_dataset.csv')"
   ]
  },
  {
   "cell_type": "code",
   "execution_count": 71,
   "metadata": {
    "ExecuteTime": {
     "end_time": "2019-11-04T10:55:17.132500Z",
     "start_time": "2019-11-04T10:55:17.092500Z"
    }
   },
   "outputs": [
    {
     "data": {
      "text/html": [
       "<div>\n",
       "<style scoped>\n",
       "    .dataframe tbody tr th:only-of-type {\n",
       "        vertical-align: middle;\n",
       "    }\n",
       "\n",
       "    .dataframe tbody tr th {\n",
       "        vertical-align: top;\n",
       "    }\n",
       "\n",
       "    .dataframe thead th {\n",
       "        text-align: right;\n",
       "    }\n",
       "</style>\n",
       "<table border=\"1\" class=\"dataframe\">\n",
       "  <thead>\n",
       "    <tr style=\"text-align: right;\">\n",
       "      <th></th>\n",
       "      <th>id</th>\n",
       "      <th>number</th>\n",
       "      <th>airline</th>\n",
       "      <th>airline_name</th>\n",
       "      <th>scheduled_departure_time</th>\n",
       "      <th>scheduled_arrival_time</th>\n",
       "      <th>departure_airport_city</th>\n",
       "      <th>departure_airport_code</th>\n",
       "      <th>departure_airport_country</th>\n",
       "      <th>departure_airport_gate</th>\n",
       "      <th>...</th>\n",
       "      <th>arrival_airport_country</th>\n",
       "      <th>arrival_airport_gate</th>\n",
       "      <th>arrival_airport_name</th>\n",
       "      <th>arrival_airport_region</th>\n",
       "      <th>arrival_airport_terminal</th>\n",
       "      <th>arrival_airport_timezone</th>\n",
       "      <th>flight_equipment_iata</th>\n",
       "      <th>flight_equipment_name</th>\n",
       "      <th>flight_duration</th>\n",
       "      <th>delay</th>\n",
       "    </tr>\n",
       "  </thead>\n",
       "  <tbody>\n",
       "    <tr>\n",
       "      <th>0</th>\n",
       "      <td>483244</td>\n",
       "      <td>CZ7412</td>\n",
       "      <td>CZ</td>\n",
       "      <td>China Southern Airlines</td>\n",
       "      <td>2018-12-01 00:00:00</td>\n",
       "      <td>2018-12-01 04:40:00</td>\n",
       "      <td>Kuala Lumpur</td>\n",
       "      <td>KUL</td>\n",
       "      <td>MY</td>\n",
       "      <td>C11</td>\n",
       "      <td>...</td>\n",
       "      <td>CN</td>\n",
       "      <td>NaN</td>\n",
       "      <td>Changle International Airport</td>\n",
       "      <td>Asia</td>\n",
       "      <td>NaN</td>\n",
       "      <td>Asia/Shanghai</td>\n",
       "      <td>738</td>\n",
       "      <td>Boeing 737-800 Passenger</td>\n",
       "      <td>4h 40m</td>\n",
       "      <td>15</td>\n",
       "    </tr>\n",
       "    <tr>\n",
       "      <th>1</th>\n",
       "      <td>483245</td>\n",
       "      <td>MH5712</td>\n",
       "      <td>MH</td>\n",
       "      <td>Malaysia Airlines</td>\n",
       "      <td>2018-12-01 00:00:00</td>\n",
       "      <td>2018-12-01 04:40:00</td>\n",
       "      <td>Kuala Lumpur</td>\n",
       "      <td>KUL</td>\n",
       "      <td>MY</td>\n",
       "      <td>C11</td>\n",
       "      <td>...</td>\n",
       "      <td>CN</td>\n",
       "      <td>NaN</td>\n",
       "      <td>Changle International Airport</td>\n",
       "      <td>Asia</td>\n",
       "      <td>NaN</td>\n",
       "      <td>Asia/Shanghai</td>\n",
       "      <td>738</td>\n",
       "      <td>Boeing 737-800 Passenger</td>\n",
       "      <td>4h 40m</td>\n",
       "      <td>15</td>\n",
       "    </tr>\n",
       "    <tr>\n",
       "      <th>2</th>\n",
       "      <td>483246</td>\n",
       "      <td>TK8186</td>\n",
       "      <td>TK</td>\n",
       "      <td>Turkish Airlines</td>\n",
       "      <td>2018-12-01 00:00:00</td>\n",
       "      <td>2018-12-01 02:40:00</td>\n",
       "      <td>Kuala Lumpur</td>\n",
       "      <td>KUL</td>\n",
       "      <td>MY</td>\n",
       "      <td>A4</td>\n",
       "      <td>...</td>\n",
       "      <td>MY</td>\n",
       "      <td>NaN</td>\n",
       "      <td>Kota Kinabalu International Airport</td>\n",
       "      <td>Asia</td>\n",
       "      <td>NaN</td>\n",
       "      <td>Asia/Kuala_Lumpur</td>\n",
       "      <td>738</td>\n",
       "      <td>Boeing 737-800 Passenger</td>\n",
       "      <td>2h 40m</td>\n",
       "      <td>27</td>\n",
       "    </tr>\n",
       "    <tr>\n",
       "      <th>3</th>\n",
       "      <td>483247</td>\n",
       "      <td>AK6324</td>\n",
       "      <td>AK</td>\n",
       "      <td>AirAsia</td>\n",
       "      <td>2018-12-01 00:00:00</td>\n",
       "      <td>2018-12-01 01:05:00</td>\n",
       "      <td>Kuala Lumpur</td>\n",
       "      <td>KUL</td>\n",
       "      <td>MY</td>\n",
       "      <td>J1</td>\n",
       "      <td>...</td>\n",
       "      <td>MY</td>\n",
       "      <td>NaN</td>\n",
       "      <td>Langkawi International Airport</td>\n",
       "      <td>Asia</td>\n",
       "      <td>NaN</td>\n",
       "      <td>Asia/Kuala_Lumpur</td>\n",
       "      <td>32S</td>\n",
       "      <td>Airbus A318 / A319 / A320 / A321</td>\n",
       "      <td>1h 10m</td>\n",
       "      <td>95</td>\n",
       "    </tr>\n",
       "    <tr>\n",
       "      <th>4</th>\n",
       "      <td>483248</td>\n",
       "      <td>UA7967</td>\n",
       "      <td>UA</td>\n",
       "      <td>United Airlines</td>\n",
       "      <td>2018-12-01 00:00:00</td>\n",
       "      <td>2018-12-01 06:40:00</td>\n",
       "      <td>Kuala Lumpur</td>\n",
       "      <td>KUL</td>\n",
       "      <td>MY</td>\n",
       "      <td>C22</td>\n",
       "      <td>...</td>\n",
       "      <td>JP</td>\n",
       "      <td>58B</td>\n",
       "      <td>Narita International Airport</td>\n",
       "      <td>Asia</td>\n",
       "      <td>1</td>\n",
       "      <td>Asia/Tokyo</td>\n",
       "      <td>788</td>\n",
       "      <td>Boeing 787-8</td>\n",
       "      <td>6h 23m</td>\n",
       "      <td>20</td>\n",
       "    </tr>\n",
       "  </tbody>\n",
       "</table>\n",
       "<p>5 rows × 26 columns</p>\n",
       "</div>"
      ],
      "text/plain": [
       "       id  number airline             airline_name scheduled_departure_time  \\\n",
       "0  483244  CZ7412      CZ  China Southern Airlines      2018-12-01 00:00:00   \n",
       "1  483245  MH5712      MH        Malaysia Airlines      2018-12-01 00:00:00   \n",
       "2  483246  TK8186      TK         Turkish Airlines      2018-12-01 00:00:00   \n",
       "3  483247  AK6324      AK                  AirAsia      2018-12-01 00:00:00   \n",
       "4  483248  UA7967      UA          United Airlines      2018-12-01 00:00:00   \n",
       "\n",
       "  scheduled_arrival_time departure_airport_city departure_airport_code  \\\n",
       "0    2018-12-01 04:40:00           Kuala Lumpur                    KUL   \n",
       "1    2018-12-01 04:40:00           Kuala Lumpur                    KUL   \n",
       "2    2018-12-01 02:40:00           Kuala Lumpur                    KUL   \n",
       "3    2018-12-01 01:05:00           Kuala Lumpur                    KUL   \n",
       "4    2018-12-01 06:40:00           Kuala Lumpur                    KUL   \n",
       "\n",
       "  departure_airport_country departure_airport_gate  ...  \\\n",
       "0                        MY                    C11  ...   \n",
       "1                        MY                    C11  ...   \n",
       "2                        MY                     A4  ...   \n",
       "3                        MY                     J1  ...   \n",
       "4                        MY                    C22  ...   \n",
       "\n",
       "  arrival_airport_country arrival_airport_gate  \\\n",
       "0                      CN                  NaN   \n",
       "1                      CN                  NaN   \n",
       "2                      MY                  NaN   \n",
       "3                      MY                  NaN   \n",
       "4                      JP                  58B   \n",
       "\n",
       "                  arrival_airport_name arrival_airport_region  \\\n",
       "0        Changle International Airport                   Asia   \n",
       "1        Changle International Airport                   Asia   \n",
       "2  Kota Kinabalu International Airport                   Asia   \n",
       "3       Langkawi International Airport                   Asia   \n",
       "4         Narita International Airport                   Asia   \n",
       "\n",
       "  arrival_airport_terminal arrival_airport_timezone flight_equipment_iata  \\\n",
       "0                      NaN            Asia/Shanghai                   738   \n",
       "1                      NaN            Asia/Shanghai                   738   \n",
       "2                      NaN        Asia/Kuala_Lumpur                   738   \n",
       "3                      NaN        Asia/Kuala_Lumpur                   32S   \n",
       "4                        1               Asia/Tokyo                   788   \n",
       "\n",
       "              flight_equipment_name flight_duration delay  \n",
       "0          Boeing 737-800 Passenger          4h 40m    15  \n",
       "1          Boeing 737-800 Passenger          4h 40m    15  \n",
       "2          Boeing 737-800 Passenger          2h 40m    27  \n",
       "3  Airbus A318 / A319 / A320 / A321          1h 10m    95  \n",
       "4                      Boeing 787-8          6h 23m    20  \n",
       "\n",
       "[5 rows x 26 columns]"
      ]
     },
     "execution_count": 71,
     "metadata": {},
     "output_type": "execute_result"
    }
   ],
   "source": [
    "test.head()"
   ]
  },
  {
   "cell_type": "code",
   "execution_count": 72,
   "metadata": {
    "ExecuteTime": {
     "end_time": "2019-11-04T10:55:17.385000Z",
     "start_time": "2019-11-04T10:55:17.377500Z"
    }
   },
   "outputs": [
    {
     "data": {
      "text/plain": [
       "(41557, 26)"
      ]
     },
     "execution_count": 72,
     "metadata": {},
     "output_type": "execute_result"
    }
   ],
   "source": [
    "test.shape"
   ]
  },
  {
   "cell_type": "code",
   "execution_count": 38,
   "metadata": {
    "ExecuteTime": {
     "end_time": "2019-11-04T10:48:09.107500Z",
     "start_time": "2019-11-04T10:48:08.992500Z"
    }
   },
   "outputs": [
    {
     "data": {
      "text/plain": [
       "id                             int64\n",
       "number                        object\n",
       "airline                       object\n",
       "airline_name                  object\n",
       "scheduled_departure_time      object\n",
       "scheduled_arrival_time        object\n",
       "departure_airport_city        object\n",
       "departure_airport_code        object\n",
       "departure_airport_country     object\n",
       "departure_airport_gate        object\n",
       "departure_airport_name        object\n",
       "departure_airport_region      object\n",
       "departure_airport_terminal    object\n",
       "departure_airport_timezone    object\n",
       "arrival_airport_city          object\n",
       "arrival_airport_code          object\n",
       "arrival_airport_country       object\n",
       "arrival_airport_gate          object\n",
       "arrival_airport_name          object\n",
       "arrival_airport_region        object\n",
       "arrival_airport_terminal      object\n",
       "arrival_airport_timezone      object\n",
       "flight_equipment_iata         object\n",
       "flight_equipment_name         object\n",
       "flight_duration               object\n",
       "delay                          int64\n",
       "dtype: object"
      ]
     },
     "execution_count": 38,
     "metadata": {},
     "output_type": "execute_result"
    }
   ],
   "source": [
    "test.dtypes"
   ]
  },
  {
   "cell_type": "code",
   "execution_count": 39,
   "metadata": {
    "ExecuteTime": {
     "end_time": "2019-11-04T10:48:09.300000Z",
     "start_time": "2019-11-04T10:48:09.115000Z"
    }
   },
   "outputs": [
    {
     "name": "stdout",
     "output_type": "stream",
     "text": [
      "<class 'pandas.core.frame.DataFrame'>\n",
      "RangeIndex: 41557 entries, 0 to 41556\n",
      "Data columns (total 26 columns):\n",
      "id                            41557 non-null int64\n",
      "number                        41557 non-null object\n",
      "airline                       41557 non-null object\n",
      "airline_name                  41557 non-null object\n",
      "scheduled_departure_time      41557 non-null object\n",
      "scheduled_arrival_time        41555 non-null object\n",
      "departure_airport_city        41557 non-null object\n",
      "departure_airport_code        41557 non-null object\n",
      "departure_airport_country     41557 non-null object\n",
      "departure_airport_gate        25147 non-null object\n",
      "departure_airport_name        41557 non-null object\n",
      "departure_airport_region      41557 non-null object\n",
      "departure_airport_terminal    26309 non-null object\n",
      "departure_airport_timezone    41557 non-null object\n",
      "arrival_airport_city          41557 non-null object\n",
      "arrival_airport_code          41557 non-null object\n",
      "arrival_airport_country       41557 non-null object\n",
      "arrival_airport_gate          3263 non-null object\n",
      "arrival_airport_name          41557 non-null object\n",
      "arrival_airport_region        41557 non-null object\n",
      "arrival_airport_terminal      20165 non-null object\n",
      "arrival_airport_timezone      41557 non-null object\n",
      "flight_equipment_iata         41554 non-null object\n",
      "flight_equipment_name         41554 non-null object\n",
      "flight_duration               41555 non-null object\n",
      "delay                         41557 non-null int64\n",
      "dtypes: int64(2), object(24)\n",
      "memory usage: 8.2+ MB\n"
     ]
    }
   ],
   "source": [
    "test.info()\n",
    "\n",
    "# please check if the type is suit for our needs"
   ]
  },
  {
   "cell_type": "code",
   "execution_count": 40,
   "metadata": {
    "ExecuteTime": {
     "end_time": "2019-11-04T10:48:09.415000Z",
     "start_time": "2019-11-04T10:48:09.305000Z"
    }
   },
   "outputs": [
    {
     "data": {
      "text/html": [
       "<div>\n",
       "<style scoped>\n",
       "    .dataframe tbody tr th:only-of-type {\n",
       "        vertical-align: middle;\n",
       "    }\n",
       "\n",
       "    .dataframe tbody tr th {\n",
       "        vertical-align: top;\n",
       "    }\n",
       "\n",
       "    .dataframe thead th {\n",
       "        text-align: right;\n",
       "    }\n",
       "</style>\n",
       "<table border=\"1\" class=\"dataframe\">\n",
       "  <thead>\n",
       "    <tr style=\"text-align: right;\">\n",
       "      <th></th>\n",
       "      <th>id</th>\n",
       "      <th>delay</th>\n",
       "    </tr>\n",
       "  </thead>\n",
       "  <tbody>\n",
       "    <tr>\n",
       "      <th>count</th>\n",
       "      <td>41557.000000</td>\n",
       "      <td>41557.000000</td>\n",
       "    </tr>\n",
       "    <tr>\n",
       "      <th>mean</th>\n",
       "      <td>594559.814255</td>\n",
       "      <td>17.367447</td>\n",
       "    </tr>\n",
       "    <tr>\n",
       "      <th>std</th>\n",
       "      <td>65697.780915</td>\n",
       "      <td>31.157943</td>\n",
       "    </tr>\n",
       "    <tr>\n",
       "      <th>min</th>\n",
       "      <td>483244.000000</td>\n",
       "      <td>0.000000</td>\n",
       "    </tr>\n",
       "    <tr>\n",
       "      <th>25%</th>\n",
       "      <td>540734.000000</td>\n",
       "      <td>0.000000</td>\n",
       "    </tr>\n",
       "    <tr>\n",
       "      <th>50%</th>\n",
       "      <td>598120.000000</td>\n",
       "      <td>7.000000</td>\n",
       "    </tr>\n",
       "    <tr>\n",
       "      <th>75%</th>\n",
       "      <td>655374.000000</td>\n",
       "      <td>23.000000</td>\n",
       "    </tr>\n",
       "    <tr>\n",
       "      <th>max</th>\n",
       "      <td>708033.000000</td>\n",
       "      <td>800.000000</td>\n",
       "    </tr>\n",
       "  </tbody>\n",
       "</table>\n",
       "</div>"
      ],
      "text/plain": [
       "                  id         delay\n",
       "count   41557.000000  41557.000000\n",
       "mean   594559.814255     17.367447\n",
       "std     65697.780915     31.157943\n",
       "min    483244.000000      0.000000\n",
       "25%    540734.000000      0.000000\n",
       "50%    598120.000000      7.000000\n",
       "75%    655374.000000     23.000000\n",
       "max    708033.000000    800.000000"
      ]
     },
     "execution_count": 40,
     "metadata": {},
     "output_type": "execute_result"
    }
   ],
   "source": [
    "test.describe()"
   ]
  },
  {
   "cell_type": "code",
   "execution_count": 41,
   "metadata": {
    "ExecuteTime": {
     "end_time": "2019-11-04T10:48:09.497500Z",
     "start_time": "2019-11-04T10:48:09.422500Z"
    }
   },
   "outputs": [],
   "source": [
    "# from the test data, we include features that are used in train data. They are:\n",
    "# - airline\n",
    "# - airline_name\n",
    "# - scheduled_departure_time\n",
    "# - scheduled_arrival_time\n",
    "# - departure_airport_city\n",
    "# - departure_airport_name\n",
    "# - delay\n",
    "\n",
    "test1 = test[['airline', 'airline_name', 'scheduled_departure_time', 'scheduled_arrival_time',\n",
    "              'departure_airport_city', 'departure_airport_name', 'delay']].copy()"
   ]
  },
  {
   "cell_type": "code",
   "execution_count": 42,
   "metadata": {
    "ExecuteTime": {
     "end_time": "2019-11-04T10:48:09.650000Z",
     "start_time": "2019-11-04T10:48:09.500000Z"
    }
   },
   "outputs": [],
   "source": [
    "# Convert type of scheduled_departure_time and scheduled_arrival_time to datetime\n",
    "\n",
    "test1['scheduled_departure_time'] = pd.to_datetime(test1['scheduled_departure_time'])\n",
    "test1['scheduled_arrival_time'] = pd.to_datetime(test1['scheduled_arrival_time'])"
   ]
  },
  {
   "cell_type": "code",
   "execution_count": 43,
   "metadata": {
    "ExecuteTime": {
     "end_time": "2019-11-04T10:48:09.700000Z",
     "start_time": "2019-11-04T10:48:09.652500Z"
    }
   },
   "outputs": [
    {
     "data": {
      "text/plain": [
       "airline                     0\n",
       "airline_name                0\n",
       "scheduled_departure_time    0\n",
       "scheduled_arrival_time      2\n",
       "departure_airport_city      0\n",
       "departure_airport_name      0\n",
       "delay                       0\n",
       "dtype: int64"
      ]
     },
     "execution_count": 43,
     "metadata": {},
     "output_type": "execute_result"
    }
   ],
   "source": [
    "test1.isnull().sum()"
   ]
  },
  {
   "cell_type": "code",
   "execution_count": 44,
   "metadata": {
    "ExecuteTime": {
     "end_time": "2019-11-04T10:48:09.777500Z",
     "start_time": "2019-11-04T10:48:09.710000Z"
    }
   },
   "outputs": [
    {
     "name": "stdout",
     "output_type": "stream",
     "text": [
      "    airline     airline_name scheduled_departure_time scheduled_arrival_time  \\\n",
      "328      NZ  Air New Zealand      2018-12-01 04:00:00                    NaT   \n",
      "330      NZ  Air New Zealand      2018-12-01 04:00:00                    NaT   \n",
      "\n",
      "    departure_airport_city              departure_airport_name  delay  \n",
      "328           Kuala Lumpur  Kuala Lumpur International Airport      0  \n",
      "330           Kuala Lumpur  Kuala Lumpur International Airport      0  \n"
     ]
    }
   ],
   "source": [
    "# clean null\n",
    "# find rows where 'scheduled_arrival_time' is null\n",
    "print(test1[test1['scheduled_arrival_time'].isnull()])"
   ]
  },
  {
   "cell_type": "markdown",
   "metadata": {
    "ExecuteTime": {
     "end_time": "2019-11-04T09:49:35.518000Z",
     "start_time": "2019-11-04T09:49:35.507000Z"
    }
   },
   "source": [
    "**We know that all null flight_duration (2 rows) have null scheduled_arrival_time. We decide to drop all rows with null scheduled_arrival_time (2 rows).**"
   ]
  },
  {
   "cell_type": "code",
   "execution_count": 45,
   "metadata": {
    "ExecuteTime": {
     "end_time": "2019-11-04T10:48:09.952500Z",
     "start_time": "2019-11-04T10:48:09.785000Z"
    }
   },
   "outputs": [],
   "source": [
    "test1 = test1.dropna(axis = 0, how ='any')"
   ]
  },
  {
   "cell_type": "code",
   "execution_count": 46,
   "metadata": {
    "ExecuteTime": {
     "end_time": "2019-11-04T10:48:10.545000Z",
     "start_time": "2019-11-04T10:48:09.955000Z"
    }
   },
   "outputs": [
    {
     "data": {
      "text/html": [
       "<div>\n",
       "<style scoped>\n",
       "    .dataframe tbody tr th:only-of-type {\n",
       "        vertical-align: middle;\n",
       "    }\n",
       "\n",
       "    .dataframe tbody tr th {\n",
       "        vertical-align: top;\n",
       "    }\n",
       "\n",
       "    .dataframe thead th {\n",
       "        text-align: right;\n",
       "    }\n",
       "</style>\n",
       "<table border=\"1\" class=\"dataframe\">\n",
       "  <thead>\n",
       "    <tr style=\"text-align: right;\">\n",
       "      <th></th>\n",
       "      <th>airline</th>\n",
       "      <th>airline_name</th>\n",
       "      <th>scheduled_departure_time</th>\n",
       "      <th>scheduled_arrival_time</th>\n",
       "      <th>departure_airport_city</th>\n",
       "      <th>departure_airport_name</th>\n",
       "      <th>delay</th>\n",
       "      <th>departure_day</th>\n",
       "      <th>departure_hour</th>\n",
       "      <th>arrival_day</th>\n",
       "      <th>arrival_hour</th>\n",
       "    </tr>\n",
       "  </thead>\n",
       "  <tbody>\n",
       "    <tr>\n",
       "      <th>0</th>\n",
       "      <td>CZ</td>\n",
       "      <td>China Southern Airlines</td>\n",
       "      <td>2018-12-01</td>\n",
       "      <td>2018-12-01 04:40:00</td>\n",
       "      <td>Kuala Lumpur</td>\n",
       "      <td>Kuala Lumpur International Airport</td>\n",
       "      <td>15</td>\n",
       "      <td>Saturday</td>\n",
       "      <td>0</td>\n",
       "      <td>Saturday</td>\n",
       "      <td>4</td>\n",
       "    </tr>\n",
       "    <tr>\n",
       "      <th>1</th>\n",
       "      <td>MH</td>\n",
       "      <td>Malaysia Airlines</td>\n",
       "      <td>2018-12-01</td>\n",
       "      <td>2018-12-01 04:40:00</td>\n",
       "      <td>Kuala Lumpur</td>\n",
       "      <td>Kuala Lumpur International Airport</td>\n",
       "      <td>15</td>\n",
       "      <td>Saturday</td>\n",
       "      <td>0</td>\n",
       "      <td>Saturday</td>\n",
       "      <td>4</td>\n",
       "    </tr>\n",
       "    <tr>\n",
       "      <th>2</th>\n",
       "      <td>TK</td>\n",
       "      <td>Turkish Airlines</td>\n",
       "      <td>2018-12-01</td>\n",
       "      <td>2018-12-01 02:40:00</td>\n",
       "      <td>Kuala Lumpur</td>\n",
       "      <td>Kuala Lumpur International Airport</td>\n",
       "      <td>27</td>\n",
       "      <td>Saturday</td>\n",
       "      <td>0</td>\n",
       "      <td>Saturday</td>\n",
       "      <td>2</td>\n",
       "    </tr>\n",
       "    <tr>\n",
       "      <th>3</th>\n",
       "      <td>AK</td>\n",
       "      <td>AirAsia</td>\n",
       "      <td>2018-12-01</td>\n",
       "      <td>2018-12-01 01:05:00</td>\n",
       "      <td>Kuala Lumpur</td>\n",
       "      <td>Kuala Lumpur International Airport</td>\n",
       "      <td>95</td>\n",
       "      <td>Saturday</td>\n",
       "      <td>0</td>\n",
       "      <td>Saturday</td>\n",
       "      <td>1</td>\n",
       "    </tr>\n",
       "    <tr>\n",
       "      <th>4</th>\n",
       "      <td>UA</td>\n",
       "      <td>United Airlines</td>\n",
       "      <td>2018-12-01</td>\n",
       "      <td>2018-12-01 06:40:00</td>\n",
       "      <td>Kuala Lumpur</td>\n",
       "      <td>Kuala Lumpur International Airport</td>\n",
       "      <td>20</td>\n",
       "      <td>Saturday</td>\n",
       "      <td>0</td>\n",
       "      <td>Saturday</td>\n",
       "      <td>6</td>\n",
       "    </tr>\n",
       "  </tbody>\n",
       "</table>\n",
       "</div>"
      ],
      "text/plain": [
       "  airline             airline_name scheduled_departure_time  \\\n",
       "0      CZ  China Southern Airlines               2018-12-01   \n",
       "1      MH        Malaysia Airlines               2018-12-01   \n",
       "2      TK         Turkish Airlines               2018-12-01   \n",
       "3      AK                  AirAsia               2018-12-01   \n",
       "4      UA          United Airlines               2018-12-01   \n",
       "\n",
       "  scheduled_arrival_time departure_airport_city  \\\n",
       "0    2018-12-01 04:40:00           Kuala Lumpur   \n",
       "1    2018-12-01 04:40:00           Kuala Lumpur   \n",
       "2    2018-12-01 02:40:00           Kuala Lumpur   \n",
       "3    2018-12-01 01:05:00           Kuala Lumpur   \n",
       "4    2018-12-01 06:40:00           Kuala Lumpur   \n",
       "\n",
       "               departure_airport_name  delay departure_day  departure_hour  \\\n",
       "0  Kuala Lumpur International Airport     15      Saturday               0   \n",
       "1  Kuala Lumpur International Airport     15      Saturday               0   \n",
       "2  Kuala Lumpur International Airport     27      Saturday               0   \n",
       "3  Kuala Lumpur International Airport     95      Saturday               0   \n",
       "4  Kuala Lumpur International Airport     20      Saturday               0   \n",
       "\n",
       "  arrival_day  arrival_hour  \n",
       "0    Saturday             4  \n",
       "1    Saturday             4  \n",
       "2    Saturday             2  \n",
       "3    Saturday             1  \n",
       "4    Saturday             6  "
      ]
     },
     "execution_count": 46,
     "metadata": {},
     "output_type": "execute_result"
    }
   ],
   "source": [
    "# # Just in case, departure_month will affect delay time. In peak season (like christmas) will delay get longer?\n",
    "# test1['departure_month'] = test1.scheduled_departure_time.apply(lambda x: x.month)\n",
    "# test1['departure_month'] = test1['departure_month'].apply(lambda x: calendar.month_abbr[x])\n",
    "\n",
    "# Just in case, departure_day will affect delay time. In weekend will delay get longer?\n",
    "test1['departure_day'] = test1.scheduled_departure_time.dt.weekday_name\n",
    "\n",
    "# Just in case, departure_hour will affect delay time. We will use this feature for recommendation to passenges.\n",
    "test1['departure_hour'] = test1.scheduled_departure_time.apply(lambda x: x.hour)\n",
    "\n",
    "# # Just in case, arrival_month will affect delay time. In peak season (like christmas) will delay get longer?\n",
    "# test1['arrival_month'] = test1.scheduled_arrival_time.apply(lambda x: x.month)\n",
    "# test1['arrival_month'] = test1['arrival_month'].apply(lambda x: calendar.month_abbr[x])\n",
    "\n",
    "# Just in case, arrival_day will affect delay time. In weekend will delay get longer?\n",
    "test1['arrival_day'] = test1.scheduled_arrival_time.dt.weekday_name\n",
    "\n",
    "# Just in case, arrival_hour will affect delay time. Will it affect delay time?\n",
    "test1['arrival_hour'] = test1.scheduled_arrival_time.apply(lambda x: x.hour)\n",
    "\n",
    "test1.head()"
   ]
  },
  {
   "cell_type": "code",
   "execution_count": 47,
   "metadata": {
    "ExecuteTime": {
     "end_time": "2019-11-04T10:48:10.585000Z",
     "start_time": "2019-11-04T10:48:10.550000Z"
    }
   },
   "outputs": [
    {
     "data": {
      "text/plain": [
       "(41555, 11)"
      ]
     },
     "execution_count": 47,
     "metadata": {},
     "output_type": "execute_result"
    }
   ],
   "source": [
    "test1.shape"
   ]
  },
  {
   "cell_type": "code",
   "execution_count": 48,
   "metadata": {
    "ExecuteTime": {
     "end_time": "2019-11-04T10:48:10.732500Z",
     "start_time": "2019-11-04T10:48:10.587500Z"
    }
   },
   "outputs": [
    {
     "data": {
      "text/plain": [
       "airline                             object\n",
       "airline_name                        object\n",
       "scheduled_departure_time    datetime64[ns]\n",
       "scheduled_arrival_time      datetime64[ns]\n",
       "departure_airport_city              object\n",
       "departure_airport_name              object\n",
       "delay                                int64\n",
       "departure_day                       object\n",
       "departure_hour                       int64\n",
       "arrival_day                         object\n",
       "arrival_hour                         int64\n",
       "dtype: object"
      ]
     },
     "execution_count": 48,
     "metadata": {},
     "output_type": "execute_result"
    }
   ],
   "source": [
    "test1.dtypes"
   ]
  },
  {
   "cell_type": "code",
   "execution_count": 49,
   "metadata": {
    "ExecuteTime": {
     "end_time": "2019-11-04T10:48:10.875000Z",
     "start_time": "2019-11-04T10:48:10.737500Z"
    }
   },
   "outputs": [
    {
     "name": "stdout",
     "output_type": "stream",
     "text": [
      "<class 'pandas.core.frame.DataFrame'>\n",
      "Int64Index: 41555 entries, 0 to 41556\n",
      "Data columns (total 11 columns):\n",
      "airline                     41555 non-null object\n",
      "airline_name                41555 non-null object\n",
      "scheduled_departure_time    41555 non-null datetime64[ns]\n",
      "scheduled_arrival_time      41555 non-null datetime64[ns]\n",
      "departure_airport_city      41555 non-null object\n",
      "departure_airport_name      41555 non-null object\n",
      "delay                       41555 non-null int64\n",
      "departure_day               41555 non-null object\n",
      "departure_hour              41555 non-null int64\n",
      "arrival_day                 41555 non-null object\n",
      "arrival_hour                41555 non-null int64\n",
      "dtypes: datetime64[ns](2), int64(3), object(6)\n",
      "memory usage: 3.8+ MB\n"
     ]
    }
   ],
   "source": [
    "test1.info()"
   ]
  },
  {
   "cell_type": "code",
   "execution_count": 50,
   "metadata": {
    "ExecuteTime": {
     "end_time": "2019-11-04T10:48:10.970000Z",
     "start_time": "2019-11-04T10:48:10.877500Z"
    }
   },
   "outputs": [
    {
     "data": {
      "text/html": [
       "<div>\n",
       "<style scoped>\n",
       "    .dataframe tbody tr th:only-of-type {\n",
       "        vertical-align: middle;\n",
       "    }\n",
       "\n",
       "    .dataframe tbody tr th {\n",
       "        vertical-align: top;\n",
       "    }\n",
       "\n",
       "    .dataframe thead th {\n",
       "        text-align: right;\n",
       "    }\n",
       "</style>\n",
       "<table border=\"1\" class=\"dataframe\">\n",
       "  <thead>\n",
       "    <tr style=\"text-align: right;\">\n",
       "      <th></th>\n",
       "      <th>delay</th>\n",
       "      <th>departure_hour</th>\n",
       "      <th>arrival_hour</th>\n",
       "    </tr>\n",
       "  </thead>\n",
       "  <tbody>\n",
       "    <tr>\n",
       "      <th>count</th>\n",
       "      <td>41555.000000</td>\n",
       "      <td>41555.000000</td>\n",
       "      <td>41555.000000</td>\n",
       "    </tr>\n",
       "    <tr>\n",
       "      <th>mean</th>\n",
       "      <td>17.368283</td>\n",
       "      <td>8.405848</td>\n",
       "      <td>9.030201</td>\n",
       "    </tr>\n",
       "    <tr>\n",
       "      <th>std</th>\n",
       "      <td>31.158459</td>\n",
       "      <td>6.189162</td>\n",
       "      <td>5.734074</td>\n",
       "    </tr>\n",
       "    <tr>\n",
       "      <th>min</th>\n",
       "      <td>0.000000</td>\n",
       "      <td>0.000000</td>\n",
       "      <td>0.000000</td>\n",
       "    </tr>\n",
       "    <tr>\n",
       "      <th>25%</th>\n",
       "      <td>0.000000</td>\n",
       "      <td>3.000000</td>\n",
       "      <td>4.000000</td>\n",
       "    </tr>\n",
       "    <tr>\n",
       "      <th>50%</th>\n",
       "      <td>7.000000</td>\n",
       "      <td>8.000000</td>\n",
       "      <td>9.000000</td>\n",
       "    </tr>\n",
       "    <tr>\n",
       "      <th>75%</th>\n",
       "      <td>23.000000</td>\n",
       "      <td>12.000000</td>\n",
       "      <td>13.000000</td>\n",
       "    </tr>\n",
       "    <tr>\n",
       "      <th>max</th>\n",
       "      <td>800.000000</td>\n",
       "      <td>23.000000</td>\n",
       "      <td>23.000000</td>\n",
       "    </tr>\n",
       "  </tbody>\n",
       "</table>\n",
       "</div>"
      ],
      "text/plain": [
       "              delay  departure_hour  arrival_hour\n",
       "count  41555.000000    41555.000000  41555.000000\n",
       "mean      17.368283        8.405848      9.030201\n",
       "std       31.158459        6.189162      5.734074\n",
       "min        0.000000        0.000000      0.000000\n",
       "25%        0.000000        3.000000      4.000000\n",
       "50%        7.000000        8.000000      9.000000\n",
       "75%       23.000000       12.000000     13.000000\n",
       "max      800.000000       23.000000     23.000000"
      ]
     },
     "execution_count": 50,
     "metadata": {},
     "output_type": "execute_result"
    }
   ],
   "source": [
    "test1.describe()"
   ]
  },
  {
   "cell_type": "markdown",
   "metadata": {},
   "source": [
    "## Multivariate Regression\n",
    "\n",
    "A model to estimate the delay duration."
   ]
  },
  {
   "cell_type": "markdown",
   "metadata": {},
   "source": [
    "### OneHotEncoder"
   ]
  },
  {
   "cell_type": "code",
   "execution_count": 51,
   "metadata": {
    "ExecuteTime": {
     "end_time": "2019-11-04T10:48:11.067500Z",
     "start_time": "2019-11-04T10:48:10.975000Z"
    }
   },
   "outputs": [],
   "source": [
    "train2 = train1[['airline', 'departure_airport_name', 'departure_day', 'departure_hour', 'arrival_hour', 'delay']].copy()\n",
    "test2 = test1[['airline', 'departure_airport_name', 'departure_day', 'departure_hour', 'arrival_hour', 'delay']].copy()"
   ]
  },
  {
   "cell_type": "code",
   "execution_count": 52,
   "metadata": {
    "ExecuteTime": {
     "end_time": "2019-11-04T10:48:11.165000Z",
     "start_time": "2019-11-04T10:48:11.070000Z"
    }
   },
   "outputs": [],
   "source": [
    "mul_reg_train = train2.copy()\n",
    "mul_reg_test = test2.copy()"
   ]
  },
  {
   "cell_type": "code",
   "execution_count": 53,
   "metadata": {
    "ExecuteTime": {
     "end_time": "2019-11-04T10:48:11.277500Z",
     "start_time": "2019-11-04T10:48:11.170000Z"
    }
   },
   "outputs": [],
   "source": [
    "target_train = mul_reg_train['delay']\n",
    "temp_train = mul_reg_train.drop(['delay'], axis = 1)\n",
    "\n",
    "target_test = mul_reg_test['delay']\n",
    "temp_test= mul_reg_test.drop(['delay'], axis = 1)"
   ]
  },
  {
   "cell_type": "code",
   "execution_count": 54,
   "metadata": {
    "ExecuteTime": {
     "end_time": "2019-11-04T10:48:12.112500Z",
     "start_time": "2019-11-04T10:48:11.277500Z"
    }
   },
   "outputs": [],
   "source": [
    "from sklearn.preprocessing import OneHotEncoder\n",
    "\n",
    "dummy_train = temp_train.select_dtypes(exclude = ['int', 'int64', 'float64'])\n",
    "integer_train = temp_train.select_dtypes(include = ['int', 'int64', 'float64'])\n",
    "\n",
    "dummy_test = temp_test.select_dtypes(exclude = ['int', 'int64', 'float64'])\n",
    "integer_test = temp_test.select_dtypes(include = ['int', 'int64', 'float64'])"
   ]
  },
  {
   "cell_type": "code",
   "execution_count": 55,
   "metadata": {
    "ExecuteTime": {
     "end_time": "2019-11-04T10:48:12.272500Z",
     "start_time": "2019-11-04T10:48:12.115000Z"
    }
   },
   "outputs": [],
   "source": [
    "dummy2_train = pd.get_dummies(dummy_train, drop_first = True)\n",
    "\n",
    "dummy2_test = pd.get_dummies(dummy_test, drop_first = True)"
   ]
  },
  {
   "cell_type": "code",
   "execution_count": 56,
   "metadata": {
    "ExecuteTime": {
     "end_time": "2019-11-04T10:48:12.312500Z",
     "start_time": "2019-11-04T10:48:12.272500Z"
    }
   },
   "outputs": [],
   "source": [
    "model_train = pd.concat([integer_train, dummy2_train, target_train], axis = 1)\n",
    "\n",
    "model_test = pd.concat([integer_test, dummy2_test, target_test], axis = 1)"
   ]
  },
  {
   "cell_type": "code",
   "execution_count": 57,
   "metadata": {
    "ExecuteTime": {
     "end_time": "2019-11-04T10:48:12.402500Z",
     "start_time": "2019-11-04T10:48:12.315000Z"
    }
   },
   "outputs": [],
   "source": [
    "X_train = model_train.iloc[:, 0:len(model_train.columns)-1]\n",
    "y_train = model_train.iloc[:, len(model_train.columns)-1]\n",
    "\n",
    "X_test = model_test.iloc[:, 0:len(model_test.columns)-1]\n",
    "y_test = model_test.iloc[:, len(model_test.columns)-1]"
   ]
  },
  {
   "cell_type": "code",
   "execution_count": 74,
   "metadata": {
    "ExecuteTime": {
     "end_time": "2019-11-04T10:57:48.053000Z",
     "start_time": "2019-11-04T10:57:47.318000Z"
    }
   },
   "outputs": [
    {
     "ename": "ValueError",
     "evalue": "shapes (41555,124) and (125,) not aligned: 124 (dim 1) != 125 (dim 0)",
     "output_type": "error",
     "traceback": [
      "\u001b[1;31m---------------------------------------------------------------------------\u001b[0m",
      "\u001b[1;31mValueError\u001b[0m                                Traceback (most recent call last)",
      "\u001b[1;32m<ipython-input-74-f5d05ac6adf2>\u001b[0m in \u001b[0;36m<module>\u001b[1;34m\u001b[0m\n\u001b[0;32m      6\u001b[0m \u001b[1;33m\u001b[0m\u001b[0m\n\u001b[0;32m      7\u001b[0m \u001b[1;31m# y_pred_train = multi_regression.predict(X_train)\u001b[0m\u001b[1;33m\u001b[0m\u001b[1;33m\u001b[0m\u001b[1;33m\u001b[0m\u001b[0m\n\u001b[1;32m----> 8\u001b[1;33m \u001b[0my_pred_test\u001b[0m \u001b[1;33m=\u001b[0m \u001b[0mmulti_regression\u001b[0m\u001b[1;33m.\u001b[0m\u001b[0mpredict\u001b[0m\u001b[1;33m(\u001b[0m\u001b[0mX_test\u001b[0m\u001b[1;33m)\u001b[0m\u001b[1;33m\u001b[0m\u001b[1;33m\u001b[0m\u001b[0m\n\u001b[0m\u001b[0;32m      9\u001b[0m \u001b[1;33m\u001b[0m\u001b[0m\n\u001b[0;32m     10\u001b[0m print(\n",
      "\u001b[1;32mD:\\anaconda3\\lib\\site-packages\\sklearn\\linear_model\\base.py\u001b[0m in \u001b[0;36mpredict\u001b[1;34m(self, X)\u001b[0m\n\u001b[0;32m    211\u001b[0m             \u001b[0mReturns\u001b[0m \u001b[0mpredicted\u001b[0m \u001b[0mvalues\u001b[0m\u001b[1;33m.\u001b[0m\u001b[1;33m\u001b[0m\u001b[1;33m\u001b[0m\u001b[0m\n\u001b[0;32m    212\u001b[0m         \"\"\"\n\u001b[1;32m--> 213\u001b[1;33m         \u001b[1;32mreturn\u001b[0m \u001b[0mself\u001b[0m\u001b[1;33m.\u001b[0m\u001b[0m_decision_function\u001b[0m\u001b[1;33m(\u001b[0m\u001b[0mX\u001b[0m\u001b[1;33m)\u001b[0m\u001b[1;33m\u001b[0m\u001b[1;33m\u001b[0m\u001b[0m\n\u001b[0m\u001b[0;32m    214\u001b[0m \u001b[1;33m\u001b[0m\u001b[0m\n\u001b[0;32m    215\u001b[0m     \u001b[0m_preprocess_data\u001b[0m \u001b[1;33m=\u001b[0m \u001b[0mstaticmethod\u001b[0m\u001b[1;33m(\u001b[0m\u001b[0m_preprocess_data\u001b[0m\u001b[1;33m)\u001b[0m\u001b[1;33m\u001b[0m\u001b[1;33m\u001b[0m\u001b[0m\n",
      "\u001b[1;32mD:\\anaconda3\\lib\\site-packages\\sklearn\\linear_model\\base.py\u001b[0m in \u001b[0;36m_decision_function\u001b[1;34m(self, X)\u001b[0m\n\u001b[0;32m    196\u001b[0m         \u001b[0mX\u001b[0m \u001b[1;33m=\u001b[0m \u001b[0mcheck_array\u001b[0m\u001b[1;33m(\u001b[0m\u001b[0mX\u001b[0m\u001b[1;33m,\u001b[0m \u001b[0maccept_sparse\u001b[0m\u001b[1;33m=\u001b[0m\u001b[1;33m[\u001b[0m\u001b[1;34m'csr'\u001b[0m\u001b[1;33m,\u001b[0m \u001b[1;34m'csc'\u001b[0m\u001b[1;33m,\u001b[0m \u001b[1;34m'coo'\u001b[0m\u001b[1;33m]\u001b[0m\u001b[1;33m)\u001b[0m\u001b[1;33m\u001b[0m\u001b[1;33m\u001b[0m\u001b[0m\n\u001b[0;32m    197\u001b[0m         return safe_sparse_dot(X, self.coef_.T,\n\u001b[1;32m--> 198\u001b[1;33m                                dense_output=True) + self.intercept_\n\u001b[0m\u001b[0;32m    199\u001b[0m \u001b[1;33m\u001b[0m\u001b[0m\n\u001b[0;32m    200\u001b[0m     \u001b[1;32mdef\u001b[0m \u001b[0mpredict\u001b[0m\u001b[1;33m(\u001b[0m\u001b[0mself\u001b[0m\u001b[1;33m,\u001b[0m \u001b[0mX\u001b[0m\u001b[1;33m)\u001b[0m\u001b[1;33m:\u001b[0m\u001b[1;33m\u001b[0m\u001b[1;33m\u001b[0m\u001b[0m\n",
      "\u001b[1;32mD:\\anaconda3\\lib\\site-packages\\sklearn\\utils\\extmath.py\u001b[0m in \u001b[0;36msafe_sparse_dot\u001b[1;34m(a, b, dense_output)\u001b[0m\n\u001b[0;32m    171\u001b[0m         \u001b[1;32mreturn\u001b[0m \u001b[0mret\u001b[0m\u001b[1;33m\u001b[0m\u001b[1;33m\u001b[0m\u001b[0m\n\u001b[0;32m    172\u001b[0m     \u001b[1;32melse\u001b[0m\u001b[1;33m:\u001b[0m\u001b[1;33m\u001b[0m\u001b[1;33m\u001b[0m\u001b[0m\n\u001b[1;32m--> 173\u001b[1;33m         \u001b[1;32mreturn\u001b[0m \u001b[0mnp\u001b[0m\u001b[1;33m.\u001b[0m\u001b[0mdot\u001b[0m\u001b[1;33m(\u001b[0m\u001b[0ma\u001b[0m\u001b[1;33m,\u001b[0m \u001b[0mb\u001b[0m\u001b[1;33m)\u001b[0m\u001b[1;33m\u001b[0m\u001b[1;33m\u001b[0m\u001b[0m\n\u001b[0m\u001b[0;32m    174\u001b[0m \u001b[1;33m\u001b[0m\u001b[0m\n\u001b[0;32m    175\u001b[0m \u001b[1;33m\u001b[0m\u001b[0m\n",
      "\u001b[1;31mValueError\u001b[0m: shapes (41555,124) and (125,) not aligned: 124 (dim 1) != 125 (dim 0)"
     ]
    }
   ],
   "source": [
    "from sklearn.linear_model import LinearRegression\n",
    "from sklearn.metrics import mean_squared_error\n",
    "\n",
    "multi_regression = LinearRegression()\n",
    "multi_regression.fit(X_train, y_train)\n",
    "\n",
    "# y_pred_train = multi_regression.predict(X_train)\n",
    "y_pred_test = multi_regression.predict(X_test)\n",
    "\n",
    "print(\n",
    "#     'mse train = {}'.format(mean_squared_error(y_pred_train, y_train)),\n",
    "       'mse test = {}'. format(mean_squared_error(y_pred_test, y_test))\n",
    "     )\n",
    "\n",
    "# what we want: the mse train value and the mse test should be close "
   ]
  },
  {
   "cell_type": "markdown",
   "metadata": {},
   "source": [
    "### Using another library"
   ]
  },
  {
   "cell_type": "code",
   "execution_count": 77,
   "metadata": {
    "ExecuteTime": {
     "end_time": "2019-11-04T11:26:54.856000Z",
     "start_time": "2019-11-04T11:26:53.641000Z"
    }
   },
   "outputs": [
    {
     "name": "stderr",
     "output_type": "stream",
     "text": [
      "D:\\anaconda3\\lib\\site-packages\\statsmodels\\compat\\pandas.py:49: FutureWarning: The Panel class is removed from pandas. Accessing it from the top-level namespace will also be removed in the next version\n",
      "  data_klasses = (pandas.Series, pandas.DataFrame, pandas.Panel)\n"
     ]
    }
   ],
   "source": [
    "import statsmodels.api as sm"
   ]
  },
  {
   "cell_type": "code",
   "execution_count": 78,
   "metadata": {
    "ExecuteTime": {
     "end_time": "2019-11-04T11:27:46.593000Z",
     "start_time": "2019-11-04T11:27:43.478000Z"
    }
   },
   "outputs": [
    {
     "name": "stdout",
     "output_type": "stream",
     "text": [
      "                            OLS Regression Results                            \n",
      "==============================================================================\n",
      "Dep. Variable:                  delay   R-squared:                       0.210\n",
      "Model:                            OLS   Adj. R-squared:                  0.209\n",
      "Method:                 Least Squares   F-statistic:                     236.4\n",
      "Date:                Mon, 04 Nov 2019   Prob (F-statistic):               0.00\n",
      "Time:                        18:27:46   Log-Likelihood:            -5.1917e+05\n",
      "No. Observations:              111063   AIC:                         1.039e+06\n",
      "Df Residuals:                  110938   BIC:                         1.040e+06\n",
      "Df Model:                         125                                         \n",
      "Covariance Type:            nonrobust                                         \n",
      "==============================================================================================================================\n",
      "                                                                 coef    std err          t      P>|t|      [0.025      0.975]\n",
      "------------------------------------------------------------------------------------------------------------------------------\n",
      "departure_hour                                                -0.2196      0.014    -15.230      0.000      -0.248      -0.191\n",
      "arrival_hour                                                   0.4844      0.016     30.115      0.000       0.453       0.516\n",
      "airline_5J                                                    14.8067      4.524      3.273      0.001       5.939      23.674\n",
      "airline_6E                                                    12.0457      4.861      2.478      0.013       2.518      21.574\n",
      "airline_7C*                                                   -1.5097      4.533     -0.333      0.739     -10.395       7.376\n",
      "airline_7L*                                                    1.0738      7.026      0.153      0.879     -12.697      14.845\n",
      "airline_8L                                                    12.6030      3.100      4.066      0.000       6.528      18.678\n",
      "airline_8M                                                     4.8004      1.572      3.053      0.002       1.719       7.882\n",
      "airline_9C                                                     6.1309      4.534      1.352      0.176      -2.756      15.017\n",
      "airline_9W                                                     6.4234      1.327      4.839      0.000       3.822       9.025\n",
      "airline_AA                                                     7.1060      1.545      4.600      0.000       4.078      10.134\n",
      "airline_AC                                                     2.2944      1.981      1.158      0.247      -1.587       6.176\n",
      "airline_AF                                                     7.3915      2.067      3.575      0.000       3.340      11.444\n",
      "airline_AI                                                     1.0778      2.355      0.458      0.647      -3.538       5.694\n",
      "airline_AK                                                    11.2610      1.098     10.255      0.000       9.109      13.413\n",
      "airline_AY                                                     9.1451      1.530      5.977      0.000       6.146      12.144\n",
      "airline_AZ                                                    15.0682      3.608      4.176      0.000       7.996      22.141\n",
      "airline_BA                                                     2.8280      2.974      0.951      0.342      -3.001       8.657\n",
      "airline_BG                                                    36.8992      4.525      8.154      0.000      28.030      45.769\n",
      "airline_BI                                                     2.8877      1.380      2.093      0.036       0.184       5.592\n",
      "airline_BR                                                    19.0906      3.244      5.884      0.000      12.732      25.450\n",
      "airline_BS*                                                    6.3026      3.605      1.748      0.080      -0.763      13.368\n",
      "airline_CA                                                    14.0924      2.733      5.156      0.000       8.736      19.449\n",
      "airline_CI                                                    14.4271      1.537      9.389      0.000      11.415      17.439\n",
      "airline_CTV                                                   10.2823      3.609      2.849      0.004       3.209      17.356\n",
      "airline_CV                                                   182.4818      6.791     26.871      0.000     169.172     195.792\n",
      "airline_CX                                                     7.9532      1.551      5.126      0.000       4.912      10.994\n",
      "airline_CZ                                                    10.9909      1.544      7.118      0.000       7.965      14.017\n",
      "airline_D7                                                     3.7168      1.288      2.886      0.004       1.192       6.241\n",
      "airline_DE                                                    15.0171      7.281      2.063      0.039       0.747      29.287\n",
      "airline_DL                                                     7.9249      1.861      4.259      0.000       4.278      11.572\n",
      "airline_EK                                                     3.8309      1.135      3.375      0.001       1.606       6.056\n",
      "airline_ET                                                    -0.2434      2.840     -0.086      0.932      -5.810       5.324\n",
      "airline_EY                                                     3.7351      1.197      3.121      0.002       1.390       6.081\n",
      "airline_FD                                                     4.5158      1.615      2.797      0.005       1.351       7.681\n",
      "airline_FM                                                    10.1846      2.552      3.990      0.000       5.182      15.187\n",
      "airline_FY                                                     2.4553      1.170      2.098      0.036       0.161       4.749\n",
      "airline_GA                                                     5.2530      1.363      3.855      0.000       2.582       7.924\n",
      "airline_GX*                                                   -7.4683      4.462     -1.674      0.094     -16.213       1.276\n",
      "airline_H9*                                                    9.6265      5.639      1.707      0.088      -1.427      20.680\n",
      "airline_HA                                                     3.3977      2.665      1.275      0.202      -1.826       8.622\n",
      "airline_HM                                                    15.0576      3.867      3.894      0.000       7.479      22.636\n",
      "airline_HX                                                    -4.9602      6.579     -0.754      0.451     -17.855       7.935\n",
      "airline_HY                                                     5.3121      3.247      1.636      0.102      -1.052      11.676\n",
      "airline_IA                                                    20.3003      6.215      3.266      0.001       8.119      32.482\n",
      "airline_IB                                                     2.0679      2.001      1.033      0.301      -1.854       5.990\n",
      "airline_ID*                                                   12.0161      1.724      6.970      0.000       8.637      15.395\n",
      "airline_IW                                                    12.6659      3.620      3.499      0.000       5.572      19.760\n",
      "airline_JL                                                     7.4558      1.316      5.667      0.000       4.877      10.034\n",
      "airline_JT*                                                   26.1097      1.584     16.488      0.000      23.006      29.213\n",
      "airline_K6                                                    -0.3539      2.803     -0.126      0.900      -5.849       5.141\n",
      "airline_KA                                                     7.9774      1.554      5.132      0.000       4.931      11.024\n",
      "airline_KC                                                    17.2744      5.302      3.258      0.001       6.882      27.667\n",
      "airline_KE                                                     5.6493      1.845      3.062      0.002       2.033       9.265\n",
      "airline_KL                                                     6.4870      1.217      5.331      0.000       4.102       8.872\n",
      "airline_KQ                                                     8.4771      2.737      3.097      0.002       3.112      13.842\n",
      "airline_LD                                                     6.1862     11.659      0.531      0.596     -16.665      29.037\n",
      "airline_LH                                                     1.2567      3.605      0.349      0.727      -5.810       8.323\n",
      "airline_LJ                                                     7.8916      2.667      2.959      0.003       2.665      13.118\n",
      "airline_LX                                                     9.1233      1.777      5.135      0.000       5.641      12.606\n",
      "airline_MF                                                     7.6834      1.582      4.858      0.000       4.584      10.783\n",
      "airline_MH                                                     5.6158      1.087      5.167      0.000       3.486       7.746\n",
      "airline_MI                                                     9.4402      1.260      7.493      0.000       6.971      11.909\n",
      "airline_MK                                                     1.8309      1.621      1.130      0.259      -1.346       5.008\n",
      "airline_MS                                                     2.0294      5.410      0.375      0.708      -8.574      12.633\n",
      "airline_MU                                                    10.1286      2.577      3.930      0.000       5.077      15.180\n",
      "airline_MXD                                                   19.8036      1.122     17.644      0.000      17.604      22.003\n",
      "airline_NH                                                    -0.1120      2.117     -0.053      0.958      -4.261       4.037\n",
      "airline_NZ                                                    12.6452      1.374      9.201      0.000       9.952      15.339\n",
      "airline_OS                                                    -0.1918      3.697     -0.052      0.959      -7.438       7.054\n",
      "airline_OZ                                                    22.6903      4.533      5.005      0.000      13.805      31.576\n",
      "airline_PG                                                     4.7824      1.530      3.125      0.002       1.783       7.782\n",
      "airline_PK                                                    54.1058      5.407     10.007      0.000      43.508      64.703\n",
      "airline_PR                                                     3.9345      1.218      3.230      0.001       1.547       6.322\n",
      "airline_QF                                                     5.9447      1.771      3.356      0.001       2.473       9.416\n",
      "airline_QR                                                     3.8551      1.136      3.395      0.001       1.630       6.081\n",
      "airline_QZ                                                    11.0326      1.280      8.618      0.000       8.524      13.542\n",
      "airline_RA                                                    92.0596      5.023     18.329      0.000      82.216     101.904\n",
      "airline_RJ                                                     5.1796      1.983      2.612      0.009       1.293       9.066\n",
      "airline_RS*                                                   22.6903      4.533      5.005      0.000      13.805      31.576\n",
      "airline_RX                                                    19.2056      3.562      5.392      0.000      12.224      26.187\n",
      "airline_SJ                                                    27.4316      3.609      7.601      0.000      20.358      34.505\n",
      "airline_SK                                                     3.3967      3.606      0.942      0.346      -3.672      10.465\n",
      "airline_SQ                                                     9.4402      1.260      7.493      0.000       6.971      11.909\n",
      "airline_SV                                                     9.0390      2.235      4.045      0.000       4.659      13.419\n",
      "airline_TG                                                     5.3884      1.397      3.857      0.000       2.650       8.127\n",
      "airline_TH                                                     6.5364      1.940      3.370      0.001       2.735      10.338\n",
      "airline_TK                                                    20.9121      1.551     13.485      0.000      17.873      23.952\n",
      "airline_TP                                                     2.7086      4.526      0.598      0.550      -6.162      11.580\n",
      "airline_TR                                                    18.5905      1.666     11.160      0.000      15.325      21.856\n",
      "airline_UA                                                    -0.0661      2.399     -0.028      0.978      -4.769       4.637\n",
      "airline_UL                                                     3.2820      1.307      2.511      0.012       0.720       5.844\n",
      "airline_UW*                                                    7.3871      7.283      1.014      0.310      -6.887      21.662\n",
      "airline_VA                                                    12.6452      1.374      9.201      0.000       9.952      15.339\n",
      "airline_VJC                                                   35.5379      3.604      9.861      0.000      28.474      42.602\n",
      "airline_VN                                                    -0.5253      2.715     -0.194      0.847      -5.846       4.796\n",
      "airline_W5                                                     6.2449      3.980      1.569      0.117      -1.556      14.046\n",
      "airline_WE*                                                    9.3551      2.258      4.143      0.000       4.929      13.781\n",
      "airline_WY                                                     5.5966      1.251      4.473      0.000       3.144       8.049\n",
      "airline_XY                                                    15.0682      3.608      4.176      0.000       7.996      22.141\n",
      "airline_YG*                                                   -5.7812      5.407     -1.069      0.285     -16.379       4.817\n",
      "airline_Z2                                                    29.0418      2.098     13.844      0.000      24.930      33.153\n",
      "airline_ZE                                                     8.1190      2.964      2.739      0.006       2.309      13.929\n",
      "airline_ZH                                                    14.5125      2.942      4.933      0.000       8.746      20.279\n",
      "departure_airport_name_Kota Kinabalu International Airport    -0.0498      1.127     -0.044      0.965      -2.258       2.158\n",
      "departure_airport_name_Kuala Lumpur International Airport      4.2180      1.089      3.872      0.000       2.083       6.353\n",
      "departure_airport_name_Kuching International Airport           0.2269      1.141      0.199      0.842      -2.009       2.462\n",
      "departure_airport_name_Kudat Airport                           3.7657      5.409      0.696      0.486      -6.836      14.367\n",
      "departure_airport_name_Labuan Airport                          6.7384      2.070      3.255      0.001       2.681      10.796\n",
      "departure_airport_name_Langkawi International Airport          2.5624      1.180      2.172      0.030       0.250       4.875\n",
      "departure_airport_name_Lawas Airport                           3.4189      5.409      0.632      0.527      -7.183      14.020\n",
      "departure_airport_name_Marudi Airport                         -0.0524      4.019     -0.013      0.990      -7.930       7.825\n",
      "departure_airport_name_Miri Airport                            4.2994      1.179      3.646      0.000       1.988       6.610\n",
      "departure_airport_name_Penang International Airport            0.7244      1.107      0.654      0.513      -1.446       2.894\n",
      "departure_airport_name_Sandakan Airport                       14.9047      2.448      6.089      0.000      10.107      19.703\n",
      "departure_airport_name_Senai Airport                          -1.9923      1.162     -1.714      0.087      -4.271       0.286\n",
      "departure_airport_name_Sibu Airport                            2.2147      1.246      1.777      0.076      -0.228       4.657\n",
      "departure_airport_name_Sultan Abdul Aziz Shah Airport         -4.6668      1.144     -4.080      0.000      -6.909      -2.425\n",
      "departure_airport_name_Sultan Ismail Petra Airport            -0.9917      1.204     -0.823      0.410      -3.352       1.369\n",
      "departure_day_Monday                                          -3.1532      0.284    -11.094      0.000      -3.710      -2.596\n",
      "departure_day_Saturday                                        -2.4669      0.288     -8.559      0.000      -3.032      -1.902\n",
      "departure_day_Sunday                                          -2.5872      0.284     -9.110      0.000      -3.144      -2.031\n",
      "departure_day_Thursday                                         0.6832      0.283      2.413      0.016       0.128       1.238\n",
      "departure_day_Tuesday                                         -1.3425      0.287     -4.681      0.000      -1.905      -0.780\n",
      "departure_day_Wednesday                                       -2.9817      0.284    -10.487      0.000      -3.539      -2.424\n",
      "==============================================================================\n",
      "Omnibus:                   153678.818   Durbin-Watson:                   1.575\n",
      "Prob(Omnibus):                  0.000   Jarque-Bera (JB):         75604413.844\n",
      "Skew:                           7.885   Prob(JB):                         0.00\n",
      "Kurtosis:                     129.842   Cond. No.                     2.31e+03\n",
      "==============================================================================\n",
      "\n",
      "Warnings:\n",
      "[1] Standard Errors assume that the covariance matrix of the errors is correctly specified.\n",
      "[2] The condition number is large, 2.31e+03. This might indicate that there are\n",
      "strong multicollinearity or other numerical problems.\n"
     ]
    }
   ],
   "source": [
    "result = sm.OLS(y_train, X_train).fit()\n",
    "print(result.summary())\n",
    "\n",
    "# bagusnya R-squared mendekati 1"
   ]
  },
  {
   "cell_type": "code",
   "execution_count": 79,
   "metadata": {
    "ExecuteTime": {
     "end_time": "2019-11-04T11:27:59.375500Z",
     "start_time": "2019-11-04T11:27:59.220500Z"
    }
   },
   "outputs": [
    {
     "data": {
      "text/html": [
       "<table class=\"simpletable\">\n",
       "<caption>OLS Regression Results</caption>\n",
       "<tr>\n",
       "  <th>Dep. Variable:</th>          <td>delay</td>      <th>  R-squared:         </th>  <td>   0.210</td>  \n",
       "</tr>\n",
       "<tr>\n",
       "  <th>Model:</th>                   <td>OLS</td>       <th>  Adj. R-squared:    </th>  <td>   0.209</td>  \n",
       "</tr>\n",
       "<tr>\n",
       "  <th>Method:</th>             <td>Least Squares</td>  <th>  F-statistic:       </th>  <td>   236.4</td>  \n",
       "</tr>\n",
       "<tr>\n",
       "  <th>Date:</th>             <td>Mon, 04 Nov 2019</td> <th>  Prob (F-statistic):</th>   <td>  0.00</td>   \n",
       "</tr>\n",
       "<tr>\n",
       "  <th>Time:</th>                 <td>18:27:59</td>     <th>  Log-Likelihood:    </th> <td>-5.1917e+05</td>\n",
       "</tr>\n",
       "<tr>\n",
       "  <th>No. Observations:</th>      <td>111063</td>      <th>  AIC:               </th>  <td>1.039e+06</td> \n",
       "</tr>\n",
       "<tr>\n",
       "  <th>Df Residuals:</th>          <td>110938</td>      <th>  BIC:               </th>  <td>1.040e+06</td> \n",
       "</tr>\n",
       "<tr>\n",
       "  <th>Df Model:</th>              <td>   125</td>      <th>                     </th>      <td> </td>     \n",
       "</tr>\n",
       "<tr>\n",
       "  <th>Covariance Type:</th>      <td>nonrobust</td>    <th>                     </th>      <td> </td>     \n",
       "</tr>\n",
       "</table>\n",
       "<table class=\"simpletable\">\n",
       "<tr>\n",
       "                               <td></td>                                 <th>coef</th>     <th>std err</th>      <th>t</th>      <th>P>|t|</th>  <th>[0.025</th>    <th>0.975]</th>  \n",
       "</tr>\n",
       "<tr>\n",
       "  <th>departure_hour</th>                                             <td>   -0.2196</td> <td>    0.014</td> <td>  -15.230</td> <td> 0.000</td> <td>   -0.248</td> <td>   -0.191</td>\n",
       "</tr>\n",
       "<tr>\n",
       "  <th>arrival_hour</th>                                               <td>    0.4844</td> <td>    0.016</td> <td>   30.115</td> <td> 0.000</td> <td>    0.453</td> <td>    0.516</td>\n",
       "</tr>\n",
       "<tr>\n",
       "  <th>airline_5J</th>                                                 <td>   14.8067</td> <td>    4.524</td> <td>    3.273</td> <td> 0.001</td> <td>    5.939</td> <td>   23.674</td>\n",
       "</tr>\n",
       "<tr>\n",
       "  <th>airline_6E</th>                                                 <td>   12.0457</td> <td>    4.861</td> <td>    2.478</td> <td> 0.013</td> <td>    2.518</td> <td>   21.574</td>\n",
       "</tr>\n",
       "<tr>\n",
       "  <th>airline_7C*</th>                                                <td>   -1.5097</td> <td>    4.533</td> <td>   -0.333</td> <td> 0.739</td> <td>  -10.395</td> <td>    7.376</td>\n",
       "</tr>\n",
       "<tr>\n",
       "  <th>airline_7L*</th>                                                <td>    1.0738</td> <td>    7.026</td> <td>    0.153</td> <td> 0.879</td> <td>  -12.697</td> <td>   14.845</td>\n",
       "</tr>\n",
       "<tr>\n",
       "  <th>airline_8L</th>                                                 <td>   12.6030</td> <td>    3.100</td> <td>    4.066</td> <td> 0.000</td> <td>    6.528</td> <td>   18.678</td>\n",
       "</tr>\n",
       "<tr>\n",
       "  <th>airline_8M</th>                                                 <td>    4.8004</td> <td>    1.572</td> <td>    3.053</td> <td> 0.002</td> <td>    1.719</td> <td>    7.882</td>\n",
       "</tr>\n",
       "<tr>\n",
       "  <th>airline_9C</th>                                                 <td>    6.1309</td> <td>    4.534</td> <td>    1.352</td> <td> 0.176</td> <td>   -2.756</td> <td>   15.017</td>\n",
       "</tr>\n",
       "<tr>\n",
       "  <th>airline_9W</th>                                                 <td>    6.4234</td> <td>    1.327</td> <td>    4.839</td> <td> 0.000</td> <td>    3.822</td> <td>    9.025</td>\n",
       "</tr>\n",
       "<tr>\n",
       "  <th>airline_AA</th>                                                 <td>    7.1060</td> <td>    1.545</td> <td>    4.600</td> <td> 0.000</td> <td>    4.078</td> <td>   10.134</td>\n",
       "</tr>\n",
       "<tr>\n",
       "  <th>airline_AC</th>                                                 <td>    2.2944</td> <td>    1.981</td> <td>    1.158</td> <td> 0.247</td> <td>   -1.587</td> <td>    6.176</td>\n",
       "</tr>\n",
       "<tr>\n",
       "  <th>airline_AF</th>                                                 <td>    7.3915</td> <td>    2.067</td> <td>    3.575</td> <td> 0.000</td> <td>    3.340</td> <td>   11.444</td>\n",
       "</tr>\n",
       "<tr>\n",
       "  <th>airline_AI</th>                                                 <td>    1.0778</td> <td>    2.355</td> <td>    0.458</td> <td> 0.647</td> <td>   -3.538</td> <td>    5.694</td>\n",
       "</tr>\n",
       "<tr>\n",
       "  <th>airline_AK</th>                                                 <td>   11.2610</td> <td>    1.098</td> <td>   10.255</td> <td> 0.000</td> <td>    9.109</td> <td>   13.413</td>\n",
       "</tr>\n",
       "<tr>\n",
       "  <th>airline_AY</th>                                                 <td>    9.1451</td> <td>    1.530</td> <td>    5.977</td> <td> 0.000</td> <td>    6.146</td> <td>   12.144</td>\n",
       "</tr>\n",
       "<tr>\n",
       "  <th>airline_AZ</th>                                                 <td>   15.0682</td> <td>    3.608</td> <td>    4.176</td> <td> 0.000</td> <td>    7.996</td> <td>   22.141</td>\n",
       "</tr>\n",
       "<tr>\n",
       "  <th>airline_BA</th>                                                 <td>    2.8280</td> <td>    2.974</td> <td>    0.951</td> <td> 0.342</td> <td>   -3.001</td> <td>    8.657</td>\n",
       "</tr>\n",
       "<tr>\n",
       "  <th>airline_BG</th>                                                 <td>   36.8992</td> <td>    4.525</td> <td>    8.154</td> <td> 0.000</td> <td>   28.030</td> <td>   45.769</td>\n",
       "</tr>\n",
       "<tr>\n",
       "  <th>airline_BI</th>                                                 <td>    2.8877</td> <td>    1.380</td> <td>    2.093</td> <td> 0.036</td> <td>    0.184</td> <td>    5.592</td>\n",
       "</tr>\n",
       "<tr>\n",
       "  <th>airline_BR</th>                                                 <td>   19.0906</td> <td>    3.244</td> <td>    5.884</td> <td> 0.000</td> <td>   12.732</td> <td>   25.450</td>\n",
       "</tr>\n",
       "<tr>\n",
       "  <th>airline_BS*</th>                                                <td>    6.3026</td> <td>    3.605</td> <td>    1.748</td> <td> 0.080</td> <td>   -0.763</td> <td>   13.368</td>\n",
       "</tr>\n",
       "<tr>\n",
       "  <th>airline_CA</th>                                                 <td>   14.0924</td> <td>    2.733</td> <td>    5.156</td> <td> 0.000</td> <td>    8.736</td> <td>   19.449</td>\n",
       "</tr>\n",
       "<tr>\n",
       "  <th>airline_CI</th>                                                 <td>   14.4271</td> <td>    1.537</td> <td>    9.389</td> <td> 0.000</td> <td>   11.415</td> <td>   17.439</td>\n",
       "</tr>\n",
       "<tr>\n",
       "  <th>airline_CTV</th>                                                <td>   10.2823</td> <td>    3.609</td> <td>    2.849</td> <td> 0.004</td> <td>    3.209</td> <td>   17.356</td>\n",
       "</tr>\n",
       "<tr>\n",
       "  <th>airline_CV</th>                                                 <td>  182.4818</td> <td>    6.791</td> <td>   26.871</td> <td> 0.000</td> <td>  169.172</td> <td>  195.792</td>\n",
       "</tr>\n",
       "<tr>\n",
       "  <th>airline_CX</th>                                                 <td>    7.9532</td> <td>    1.551</td> <td>    5.126</td> <td> 0.000</td> <td>    4.912</td> <td>   10.994</td>\n",
       "</tr>\n",
       "<tr>\n",
       "  <th>airline_CZ</th>                                                 <td>   10.9909</td> <td>    1.544</td> <td>    7.118</td> <td> 0.000</td> <td>    7.965</td> <td>   14.017</td>\n",
       "</tr>\n",
       "<tr>\n",
       "  <th>airline_D7</th>                                                 <td>    3.7168</td> <td>    1.288</td> <td>    2.886</td> <td> 0.004</td> <td>    1.192</td> <td>    6.241</td>\n",
       "</tr>\n",
       "<tr>\n",
       "  <th>airline_DE</th>                                                 <td>   15.0171</td> <td>    7.281</td> <td>    2.063</td> <td> 0.039</td> <td>    0.747</td> <td>   29.287</td>\n",
       "</tr>\n",
       "<tr>\n",
       "  <th>airline_DL</th>                                                 <td>    7.9249</td> <td>    1.861</td> <td>    4.259</td> <td> 0.000</td> <td>    4.278</td> <td>   11.572</td>\n",
       "</tr>\n",
       "<tr>\n",
       "  <th>airline_EK</th>                                                 <td>    3.8309</td> <td>    1.135</td> <td>    3.375</td> <td> 0.001</td> <td>    1.606</td> <td>    6.056</td>\n",
       "</tr>\n",
       "<tr>\n",
       "  <th>airline_ET</th>                                                 <td>   -0.2434</td> <td>    2.840</td> <td>   -0.086</td> <td> 0.932</td> <td>   -5.810</td> <td>    5.324</td>\n",
       "</tr>\n",
       "<tr>\n",
       "  <th>airline_EY</th>                                                 <td>    3.7351</td> <td>    1.197</td> <td>    3.121</td> <td> 0.002</td> <td>    1.390</td> <td>    6.081</td>\n",
       "</tr>\n",
       "<tr>\n",
       "  <th>airline_FD</th>                                                 <td>    4.5158</td> <td>    1.615</td> <td>    2.797</td> <td> 0.005</td> <td>    1.351</td> <td>    7.681</td>\n",
       "</tr>\n",
       "<tr>\n",
       "  <th>airline_FM</th>                                                 <td>   10.1846</td> <td>    2.552</td> <td>    3.990</td> <td> 0.000</td> <td>    5.182</td> <td>   15.187</td>\n",
       "</tr>\n",
       "<tr>\n",
       "  <th>airline_FY</th>                                                 <td>    2.4553</td> <td>    1.170</td> <td>    2.098</td> <td> 0.036</td> <td>    0.161</td> <td>    4.749</td>\n",
       "</tr>\n",
       "<tr>\n",
       "  <th>airline_GA</th>                                                 <td>    5.2530</td> <td>    1.363</td> <td>    3.855</td> <td> 0.000</td> <td>    2.582</td> <td>    7.924</td>\n",
       "</tr>\n",
       "<tr>\n",
       "  <th>airline_GX*</th>                                                <td>   -7.4683</td> <td>    4.462</td> <td>   -1.674</td> <td> 0.094</td> <td>  -16.213</td> <td>    1.276</td>\n",
       "</tr>\n",
       "<tr>\n",
       "  <th>airline_H9*</th>                                                <td>    9.6265</td> <td>    5.639</td> <td>    1.707</td> <td> 0.088</td> <td>   -1.427</td> <td>   20.680</td>\n",
       "</tr>\n",
       "<tr>\n",
       "  <th>airline_HA</th>                                                 <td>    3.3977</td> <td>    2.665</td> <td>    1.275</td> <td> 0.202</td> <td>   -1.826</td> <td>    8.622</td>\n",
       "</tr>\n",
       "<tr>\n",
       "  <th>airline_HM</th>                                                 <td>   15.0576</td> <td>    3.867</td> <td>    3.894</td> <td> 0.000</td> <td>    7.479</td> <td>   22.636</td>\n",
       "</tr>\n",
       "<tr>\n",
       "  <th>airline_HX</th>                                                 <td>   -4.9602</td> <td>    6.579</td> <td>   -0.754</td> <td> 0.451</td> <td>  -17.855</td> <td>    7.935</td>\n",
       "</tr>\n",
       "<tr>\n",
       "  <th>airline_HY</th>                                                 <td>    5.3121</td> <td>    3.247</td> <td>    1.636</td> <td> 0.102</td> <td>   -1.052</td> <td>   11.676</td>\n",
       "</tr>\n",
       "<tr>\n",
       "  <th>airline_IA</th>                                                 <td>   20.3003</td> <td>    6.215</td> <td>    3.266</td> <td> 0.001</td> <td>    8.119</td> <td>   32.482</td>\n",
       "</tr>\n",
       "<tr>\n",
       "  <th>airline_IB</th>                                                 <td>    2.0679</td> <td>    2.001</td> <td>    1.033</td> <td> 0.301</td> <td>   -1.854</td> <td>    5.990</td>\n",
       "</tr>\n",
       "<tr>\n",
       "  <th>airline_ID*</th>                                                <td>   12.0161</td> <td>    1.724</td> <td>    6.970</td> <td> 0.000</td> <td>    8.637</td> <td>   15.395</td>\n",
       "</tr>\n",
       "<tr>\n",
       "  <th>airline_IW</th>                                                 <td>   12.6659</td> <td>    3.620</td> <td>    3.499</td> <td> 0.000</td> <td>    5.572</td> <td>   19.760</td>\n",
       "</tr>\n",
       "<tr>\n",
       "  <th>airline_JL</th>                                                 <td>    7.4558</td> <td>    1.316</td> <td>    5.667</td> <td> 0.000</td> <td>    4.877</td> <td>   10.034</td>\n",
       "</tr>\n",
       "<tr>\n",
       "  <th>airline_JT*</th>                                                <td>   26.1097</td> <td>    1.584</td> <td>   16.488</td> <td> 0.000</td> <td>   23.006</td> <td>   29.213</td>\n",
       "</tr>\n",
       "<tr>\n",
       "  <th>airline_K6</th>                                                 <td>   -0.3539</td> <td>    2.803</td> <td>   -0.126</td> <td> 0.900</td> <td>   -5.849</td> <td>    5.141</td>\n",
       "</tr>\n",
       "<tr>\n",
       "  <th>airline_KA</th>                                                 <td>    7.9774</td> <td>    1.554</td> <td>    5.132</td> <td> 0.000</td> <td>    4.931</td> <td>   11.024</td>\n",
       "</tr>\n",
       "<tr>\n",
       "  <th>airline_KC</th>                                                 <td>   17.2744</td> <td>    5.302</td> <td>    3.258</td> <td> 0.001</td> <td>    6.882</td> <td>   27.667</td>\n",
       "</tr>\n",
       "<tr>\n",
       "  <th>airline_KE</th>                                                 <td>    5.6493</td> <td>    1.845</td> <td>    3.062</td> <td> 0.002</td> <td>    2.033</td> <td>    9.265</td>\n",
       "</tr>\n",
       "<tr>\n",
       "  <th>airline_KL</th>                                                 <td>    6.4870</td> <td>    1.217</td> <td>    5.331</td> <td> 0.000</td> <td>    4.102</td> <td>    8.872</td>\n",
       "</tr>\n",
       "<tr>\n",
       "  <th>airline_KQ</th>                                                 <td>    8.4771</td> <td>    2.737</td> <td>    3.097</td> <td> 0.002</td> <td>    3.112</td> <td>   13.842</td>\n",
       "</tr>\n",
       "<tr>\n",
       "  <th>airline_LD</th>                                                 <td>    6.1862</td> <td>   11.659</td> <td>    0.531</td> <td> 0.596</td> <td>  -16.665</td> <td>   29.037</td>\n",
       "</tr>\n",
       "<tr>\n",
       "  <th>airline_LH</th>                                                 <td>    1.2567</td> <td>    3.605</td> <td>    0.349</td> <td> 0.727</td> <td>   -5.810</td> <td>    8.323</td>\n",
       "</tr>\n",
       "<tr>\n",
       "  <th>airline_LJ</th>                                                 <td>    7.8916</td> <td>    2.667</td> <td>    2.959</td> <td> 0.003</td> <td>    2.665</td> <td>   13.118</td>\n",
       "</tr>\n",
       "<tr>\n",
       "  <th>airline_LX</th>                                                 <td>    9.1233</td> <td>    1.777</td> <td>    5.135</td> <td> 0.000</td> <td>    5.641</td> <td>   12.606</td>\n",
       "</tr>\n",
       "<tr>\n",
       "  <th>airline_MF</th>                                                 <td>    7.6834</td> <td>    1.582</td> <td>    4.858</td> <td> 0.000</td> <td>    4.584</td> <td>   10.783</td>\n",
       "</tr>\n",
       "<tr>\n",
       "  <th>airline_MH</th>                                                 <td>    5.6158</td> <td>    1.087</td> <td>    5.167</td> <td> 0.000</td> <td>    3.486</td> <td>    7.746</td>\n",
       "</tr>\n",
       "<tr>\n",
       "  <th>airline_MI</th>                                                 <td>    9.4402</td> <td>    1.260</td> <td>    7.493</td> <td> 0.000</td> <td>    6.971</td> <td>   11.909</td>\n",
       "</tr>\n",
       "<tr>\n",
       "  <th>airline_MK</th>                                                 <td>    1.8309</td> <td>    1.621</td> <td>    1.130</td> <td> 0.259</td> <td>   -1.346</td> <td>    5.008</td>\n",
       "</tr>\n",
       "<tr>\n",
       "  <th>airline_MS</th>                                                 <td>    2.0294</td> <td>    5.410</td> <td>    0.375</td> <td> 0.708</td> <td>   -8.574</td> <td>   12.633</td>\n",
       "</tr>\n",
       "<tr>\n",
       "  <th>airline_MU</th>                                                 <td>   10.1286</td> <td>    2.577</td> <td>    3.930</td> <td> 0.000</td> <td>    5.077</td> <td>   15.180</td>\n",
       "</tr>\n",
       "<tr>\n",
       "  <th>airline_MXD</th>                                                <td>   19.8036</td> <td>    1.122</td> <td>   17.644</td> <td> 0.000</td> <td>   17.604</td> <td>   22.003</td>\n",
       "</tr>\n",
       "<tr>\n",
       "  <th>airline_NH</th>                                                 <td>   -0.1120</td> <td>    2.117</td> <td>   -0.053</td> <td> 0.958</td> <td>   -4.261</td> <td>    4.037</td>\n",
       "</tr>\n",
       "<tr>\n",
       "  <th>airline_NZ</th>                                                 <td>   12.6452</td> <td>    1.374</td> <td>    9.201</td> <td> 0.000</td> <td>    9.952</td> <td>   15.339</td>\n",
       "</tr>\n",
       "<tr>\n",
       "  <th>airline_OS</th>                                                 <td>   -0.1918</td> <td>    3.697</td> <td>   -0.052</td> <td> 0.959</td> <td>   -7.438</td> <td>    7.054</td>\n",
       "</tr>\n",
       "<tr>\n",
       "  <th>airline_OZ</th>                                                 <td>   22.6903</td> <td>    4.533</td> <td>    5.005</td> <td> 0.000</td> <td>   13.805</td> <td>   31.576</td>\n",
       "</tr>\n",
       "<tr>\n",
       "  <th>airline_PG</th>                                                 <td>    4.7824</td> <td>    1.530</td> <td>    3.125</td> <td> 0.002</td> <td>    1.783</td> <td>    7.782</td>\n",
       "</tr>\n",
       "<tr>\n",
       "  <th>airline_PK</th>                                                 <td>   54.1058</td> <td>    5.407</td> <td>   10.007</td> <td> 0.000</td> <td>   43.508</td> <td>   64.703</td>\n",
       "</tr>\n",
       "<tr>\n",
       "  <th>airline_PR</th>                                                 <td>    3.9345</td> <td>    1.218</td> <td>    3.230</td> <td> 0.001</td> <td>    1.547</td> <td>    6.322</td>\n",
       "</tr>\n",
       "<tr>\n",
       "  <th>airline_QF</th>                                                 <td>    5.9447</td> <td>    1.771</td> <td>    3.356</td> <td> 0.001</td> <td>    2.473</td> <td>    9.416</td>\n",
       "</tr>\n",
       "<tr>\n",
       "  <th>airline_QR</th>                                                 <td>    3.8551</td> <td>    1.136</td> <td>    3.395</td> <td> 0.001</td> <td>    1.630</td> <td>    6.081</td>\n",
       "</tr>\n",
       "<tr>\n",
       "  <th>airline_QZ</th>                                                 <td>   11.0326</td> <td>    1.280</td> <td>    8.618</td> <td> 0.000</td> <td>    8.524</td> <td>   13.542</td>\n",
       "</tr>\n",
       "<tr>\n",
       "  <th>airline_RA</th>                                                 <td>   92.0596</td> <td>    5.023</td> <td>   18.329</td> <td> 0.000</td> <td>   82.216</td> <td>  101.904</td>\n",
       "</tr>\n",
       "<tr>\n",
       "  <th>airline_RJ</th>                                                 <td>    5.1796</td> <td>    1.983</td> <td>    2.612</td> <td> 0.009</td> <td>    1.293</td> <td>    9.066</td>\n",
       "</tr>\n",
       "<tr>\n",
       "  <th>airline_RS*</th>                                                <td>   22.6903</td> <td>    4.533</td> <td>    5.005</td> <td> 0.000</td> <td>   13.805</td> <td>   31.576</td>\n",
       "</tr>\n",
       "<tr>\n",
       "  <th>airline_RX</th>                                                 <td>   19.2056</td> <td>    3.562</td> <td>    5.392</td> <td> 0.000</td> <td>   12.224</td> <td>   26.187</td>\n",
       "</tr>\n",
       "<tr>\n",
       "  <th>airline_SJ</th>                                                 <td>   27.4316</td> <td>    3.609</td> <td>    7.601</td> <td> 0.000</td> <td>   20.358</td> <td>   34.505</td>\n",
       "</tr>\n",
       "<tr>\n",
       "  <th>airline_SK</th>                                                 <td>    3.3967</td> <td>    3.606</td> <td>    0.942</td> <td> 0.346</td> <td>   -3.672</td> <td>   10.465</td>\n",
       "</tr>\n",
       "<tr>\n",
       "  <th>airline_SQ</th>                                                 <td>    9.4402</td> <td>    1.260</td> <td>    7.493</td> <td> 0.000</td> <td>    6.971</td> <td>   11.909</td>\n",
       "</tr>\n",
       "<tr>\n",
       "  <th>airline_SV</th>                                                 <td>    9.0390</td> <td>    2.235</td> <td>    4.045</td> <td> 0.000</td> <td>    4.659</td> <td>   13.419</td>\n",
       "</tr>\n",
       "<tr>\n",
       "  <th>airline_TG</th>                                                 <td>    5.3884</td> <td>    1.397</td> <td>    3.857</td> <td> 0.000</td> <td>    2.650</td> <td>    8.127</td>\n",
       "</tr>\n",
       "<tr>\n",
       "  <th>airline_TH</th>                                                 <td>    6.5364</td> <td>    1.940</td> <td>    3.370</td> <td> 0.001</td> <td>    2.735</td> <td>   10.338</td>\n",
       "</tr>\n",
       "<tr>\n",
       "  <th>airline_TK</th>                                                 <td>   20.9121</td> <td>    1.551</td> <td>   13.485</td> <td> 0.000</td> <td>   17.873</td> <td>   23.952</td>\n",
       "</tr>\n",
       "<tr>\n",
       "  <th>airline_TP</th>                                                 <td>    2.7086</td> <td>    4.526</td> <td>    0.598</td> <td> 0.550</td> <td>   -6.162</td> <td>   11.580</td>\n",
       "</tr>\n",
       "<tr>\n",
       "  <th>airline_TR</th>                                                 <td>   18.5905</td> <td>    1.666</td> <td>   11.160</td> <td> 0.000</td> <td>   15.325</td> <td>   21.856</td>\n",
       "</tr>\n",
       "<tr>\n",
       "  <th>airline_UA</th>                                                 <td>   -0.0661</td> <td>    2.399</td> <td>   -0.028</td> <td> 0.978</td> <td>   -4.769</td> <td>    4.637</td>\n",
       "</tr>\n",
       "<tr>\n",
       "  <th>airline_UL</th>                                                 <td>    3.2820</td> <td>    1.307</td> <td>    2.511</td> <td> 0.012</td> <td>    0.720</td> <td>    5.844</td>\n",
       "</tr>\n",
       "<tr>\n",
       "  <th>airline_UW*</th>                                                <td>    7.3871</td> <td>    7.283</td> <td>    1.014</td> <td> 0.310</td> <td>   -6.887</td> <td>   21.662</td>\n",
       "</tr>\n",
       "<tr>\n",
       "  <th>airline_VA</th>                                                 <td>   12.6452</td> <td>    1.374</td> <td>    9.201</td> <td> 0.000</td> <td>    9.952</td> <td>   15.339</td>\n",
       "</tr>\n",
       "<tr>\n",
       "  <th>airline_VJC</th>                                                <td>   35.5379</td> <td>    3.604</td> <td>    9.861</td> <td> 0.000</td> <td>   28.474</td> <td>   42.602</td>\n",
       "</tr>\n",
       "<tr>\n",
       "  <th>airline_VN</th>                                                 <td>   -0.5253</td> <td>    2.715</td> <td>   -0.194</td> <td> 0.847</td> <td>   -5.846</td> <td>    4.796</td>\n",
       "</tr>\n",
       "<tr>\n",
       "  <th>airline_W5</th>                                                 <td>    6.2449</td> <td>    3.980</td> <td>    1.569</td> <td> 0.117</td> <td>   -1.556</td> <td>   14.046</td>\n",
       "</tr>\n",
       "<tr>\n",
       "  <th>airline_WE*</th>                                                <td>    9.3551</td> <td>    2.258</td> <td>    4.143</td> <td> 0.000</td> <td>    4.929</td> <td>   13.781</td>\n",
       "</tr>\n",
       "<tr>\n",
       "  <th>airline_WY</th>                                                 <td>    5.5966</td> <td>    1.251</td> <td>    4.473</td> <td> 0.000</td> <td>    3.144</td> <td>    8.049</td>\n",
       "</tr>\n",
       "<tr>\n",
       "  <th>airline_XY</th>                                                 <td>   15.0682</td> <td>    3.608</td> <td>    4.176</td> <td> 0.000</td> <td>    7.996</td> <td>   22.141</td>\n",
       "</tr>\n",
       "<tr>\n",
       "  <th>airline_YG*</th>                                                <td>   -5.7812</td> <td>    5.407</td> <td>   -1.069</td> <td> 0.285</td> <td>  -16.379</td> <td>    4.817</td>\n",
       "</tr>\n",
       "<tr>\n",
       "  <th>airline_Z2</th>                                                 <td>   29.0418</td> <td>    2.098</td> <td>   13.844</td> <td> 0.000</td> <td>   24.930</td> <td>   33.153</td>\n",
       "</tr>\n",
       "<tr>\n",
       "  <th>airline_ZE</th>                                                 <td>    8.1190</td> <td>    2.964</td> <td>    2.739</td> <td> 0.006</td> <td>    2.309</td> <td>   13.929</td>\n",
       "</tr>\n",
       "<tr>\n",
       "  <th>airline_ZH</th>                                                 <td>   14.5125</td> <td>    2.942</td> <td>    4.933</td> <td> 0.000</td> <td>    8.746</td> <td>   20.279</td>\n",
       "</tr>\n",
       "<tr>\n",
       "  <th>departure_airport_name_Kota Kinabalu International Airport</th> <td>   -0.0498</td> <td>    1.127</td> <td>   -0.044</td> <td> 0.965</td> <td>   -2.258</td> <td>    2.158</td>\n",
       "</tr>\n",
       "<tr>\n",
       "  <th>departure_airport_name_Kuala Lumpur International Airport</th>  <td>    4.2180</td> <td>    1.089</td> <td>    3.872</td> <td> 0.000</td> <td>    2.083</td> <td>    6.353</td>\n",
       "</tr>\n",
       "<tr>\n",
       "  <th>departure_airport_name_Kuching International Airport</th>       <td>    0.2269</td> <td>    1.141</td> <td>    0.199</td> <td> 0.842</td> <td>   -2.009</td> <td>    2.462</td>\n",
       "</tr>\n",
       "<tr>\n",
       "  <th>departure_airport_name_Kudat Airport</th>                       <td>    3.7657</td> <td>    5.409</td> <td>    0.696</td> <td> 0.486</td> <td>   -6.836</td> <td>   14.367</td>\n",
       "</tr>\n",
       "<tr>\n",
       "  <th>departure_airport_name_Labuan Airport</th>                      <td>    6.7384</td> <td>    2.070</td> <td>    3.255</td> <td> 0.001</td> <td>    2.681</td> <td>   10.796</td>\n",
       "</tr>\n",
       "<tr>\n",
       "  <th>departure_airport_name_Langkawi International Airport</th>      <td>    2.5624</td> <td>    1.180</td> <td>    2.172</td> <td> 0.030</td> <td>    0.250</td> <td>    4.875</td>\n",
       "</tr>\n",
       "<tr>\n",
       "  <th>departure_airport_name_Lawas Airport</th>                       <td>    3.4189</td> <td>    5.409</td> <td>    0.632</td> <td> 0.527</td> <td>   -7.183</td> <td>   14.020</td>\n",
       "</tr>\n",
       "<tr>\n",
       "  <th>departure_airport_name_Marudi Airport</th>                      <td>   -0.0524</td> <td>    4.019</td> <td>   -0.013</td> <td> 0.990</td> <td>   -7.930</td> <td>    7.825</td>\n",
       "</tr>\n",
       "<tr>\n",
       "  <th>departure_airport_name_Miri Airport</th>                        <td>    4.2994</td> <td>    1.179</td> <td>    3.646</td> <td> 0.000</td> <td>    1.988</td> <td>    6.610</td>\n",
       "</tr>\n",
       "<tr>\n",
       "  <th>departure_airport_name_Penang International Airport</th>        <td>    0.7244</td> <td>    1.107</td> <td>    0.654</td> <td> 0.513</td> <td>   -1.446</td> <td>    2.894</td>\n",
       "</tr>\n",
       "<tr>\n",
       "  <th>departure_airport_name_Sandakan Airport</th>                    <td>   14.9047</td> <td>    2.448</td> <td>    6.089</td> <td> 0.000</td> <td>   10.107</td> <td>   19.703</td>\n",
       "</tr>\n",
       "<tr>\n",
       "  <th>departure_airport_name_Senai Airport</th>                       <td>   -1.9923</td> <td>    1.162</td> <td>   -1.714</td> <td> 0.087</td> <td>   -4.271</td> <td>    0.286</td>\n",
       "</tr>\n",
       "<tr>\n",
       "  <th>departure_airport_name_Sibu Airport</th>                        <td>    2.2147</td> <td>    1.246</td> <td>    1.777</td> <td> 0.076</td> <td>   -0.228</td> <td>    4.657</td>\n",
       "</tr>\n",
       "<tr>\n",
       "  <th>departure_airport_name_Sultan Abdul Aziz Shah Airport</th>      <td>   -4.6668</td> <td>    1.144</td> <td>   -4.080</td> <td> 0.000</td> <td>   -6.909</td> <td>   -2.425</td>\n",
       "</tr>\n",
       "<tr>\n",
       "  <th>departure_airport_name_Sultan Ismail Petra Airport</th>         <td>   -0.9917</td> <td>    1.204</td> <td>   -0.823</td> <td> 0.410</td> <td>   -3.352</td> <td>    1.369</td>\n",
       "</tr>\n",
       "<tr>\n",
       "  <th>departure_day_Monday</th>                                       <td>   -3.1532</td> <td>    0.284</td> <td>  -11.094</td> <td> 0.000</td> <td>   -3.710</td> <td>   -2.596</td>\n",
       "</tr>\n",
       "<tr>\n",
       "  <th>departure_day_Saturday</th>                                     <td>   -2.4669</td> <td>    0.288</td> <td>   -8.559</td> <td> 0.000</td> <td>   -3.032</td> <td>   -1.902</td>\n",
       "</tr>\n",
       "<tr>\n",
       "  <th>departure_day_Sunday</th>                                       <td>   -2.5872</td> <td>    0.284</td> <td>   -9.110</td> <td> 0.000</td> <td>   -3.144</td> <td>   -2.031</td>\n",
       "</tr>\n",
       "<tr>\n",
       "  <th>departure_day_Thursday</th>                                     <td>    0.6832</td> <td>    0.283</td> <td>    2.413</td> <td> 0.016</td> <td>    0.128</td> <td>    1.238</td>\n",
       "</tr>\n",
       "<tr>\n",
       "  <th>departure_day_Tuesday</th>                                      <td>   -1.3425</td> <td>    0.287</td> <td>   -4.681</td> <td> 0.000</td> <td>   -1.905</td> <td>   -0.780</td>\n",
       "</tr>\n",
       "<tr>\n",
       "  <th>departure_day_Wednesday</th>                                    <td>   -2.9817</td> <td>    0.284</td> <td>  -10.487</td> <td> 0.000</td> <td>   -3.539</td> <td>   -2.424</td>\n",
       "</tr>\n",
       "</table>\n",
       "<table class=\"simpletable\">\n",
       "<tr>\n",
       "  <th>Omnibus:</th>       <td>153678.818</td> <th>  Durbin-Watson:     </th>   <td>   1.575</td>  \n",
       "</tr>\n",
       "<tr>\n",
       "  <th>Prob(Omnibus):</th>   <td> 0.000</td>   <th>  Jarque-Bera (JB):  </th> <td>75604413.844</td>\n",
       "</tr>\n",
       "<tr>\n",
       "  <th>Skew:</th>            <td> 7.885</td>   <th>  Prob(JB):          </th>   <td>    0.00</td>  \n",
       "</tr>\n",
       "<tr>\n",
       "  <th>Kurtosis:</th>        <td>129.842</td>  <th>  Cond. No.          </th>   <td>2.31e+03</td>  \n",
       "</tr>\n",
       "</table><br/><br/>Warnings:<br/>[1] Standard Errors assume that the covariance matrix of the errors is correctly specified.<br/>[2] The condition number is large, 2.31e+03. This might indicate that there are<br/>strong multicollinearity or other numerical problems."
      ],
      "text/plain": [
       "<class 'statsmodels.iolib.summary.Summary'>\n",
       "\"\"\"\n",
       "                            OLS Regression Results                            \n",
       "==============================================================================\n",
       "Dep. Variable:                  delay   R-squared:                       0.210\n",
       "Model:                            OLS   Adj. R-squared:                  0.209\n",
       "Method:                 Least Squares   F-statistic:                     236.4\n",
       "Date:                Mon, 04 Nov 2019   Prob (F-statistic):               0.00\n",
       "Time:                        18:27:59   Log-Likelihood:            -5.1917e+05\n",
       "No. Observations:              111063   AIC:                         1.039e+06\n",
       "Df Residuals:                  110938   BIC:                         1.040e+06\n",
       "Df Model:                         125                                         \n",
       "Covariance Type:            nonrobust                                         \n",
       "==============================================================================================================================\n",
       "                                                                 coef    std err          t      P>|t|      [0.025      0.975]\n",
       "------------------------------------------------------------------------------------------------------------------------------\n",
       "departure_hour                                                -0.2196      0.014    -15.230      0.000      -0.248      -0.191\n",
       "arrival_hour                                                   0.4844      0.016     30.115      0.000       0.453       0.516\n",
       "airline_5J                                                    14.8067      4.524      3.273      0.001       5.939      23.674\n",
       "airline_6E                                                    12.0457      4.861      2.478      0.013       2.518      21.574\n",
       "airline_7C*                                                   -1.5097      4.533     -0.333      0.739     -10.395       7.376\n",
       "airline_7L*                                                    1.0738      7.026      0.153      0.879     -12.697      14.845\n",
       "airline_8L                                                    12.6030      3.100      4.066      0.000       6.528      18.678\n",
       "airline_8M                                                     4.8004      1.572      3.053      0.002       1.719       7.882\n",
       "airline_9C                                                     6.1309      4.534      1.352      0.176      -2.756      15.017\n",
       "airline_9W                                                     6.4234      1.327      4.839      0.000       3.822       9.025\n",
       "airline_AA                                                     7.1060      1.545      4.600      0.000       4.078      10.134\n",
       "airline_AC                                                     2.2944      1.981      1.158      0.247      -1.587       6.176\n",
       "airline_AF                                                     7.3915      2.067      3.575      0.000       3.340      11.444\n",
       "airline_AI                                                     1.0778      2.355      0.458      0.647      -3.538       5.694\n",
       "airline_AK                                                    11.2610      1.098     10.255      0.000       9.109      13.413\n",
       "airline_AY                                                     9.1451      1.530      5.977      0.000       6.146      12.144\n",
       "airline_AZ                                                    15.0682      3.608      4.176      0.000       7.996      22.141\n",
       "airline_BA                                                     2.8280      2.974      0.951      0.342      -3.001       8.657\n",
       "airline_BG                                                    36.8992      4.525      8.154      0.000      28.030      45.769\n",
       "airline_BI                                                     2.8877      1.380      2.093      0.036       0.184       5.592\n",
       "airline_BR                                                    19.0906      3.244      5.884      0.000      12.732      25.450\n",
       "airline_BS*                                                    6.3026      3.605      1.748      0.080      -0.763      13.368\n",
       "airline_CA                                                    14.0924      2.733      5.156      0.000       8.736      19.449\n",
       "airline_CI                                                    14.4271      1.537      9.389      0.000      11.415      17.439\n",
       "airline_CTV                                                   10.2823      3.609      2.849      0.004       3.209      17.356\n",
       "airline_CV                                                   182.4818      6.791     26.871      0.000     169.172     195.792\n",
       "airline_CX                                                     7.9532      1.551      5.126      0.000       4.912      10.994\n",
       "airline_CZ                                                    10.9909      1.544      7.118      0.000       7.965      14.017\n",
       "airline_D7                                                     3.7168      1.288      2.886      0.004       1.192       6.241\n",
       "airline_DE                                                    15.0171      7.281      2.063      0.039       0.747      29.287\n",
       "airline_DL                                                     7.9249      1.861      4.259      0.000       4.278      11.572\n",
       "airline_EK                                                     3.8309      1.135      3.375      0.001       1.606       6.056\n",
       "airline_ET                                                    -0.2434      2.840     -0.086      0.932      -5.810       5.324\n",
       "airline_EY                                                     3.7351      1.197      3.121      0.002       1.390       6.081\n",
       "airline_FD                                                     4.5158      1.615      2.797      0.005       1.351       7.681\n",
       "airline_FM                                                    10.1846      2.552      3.990      0.000       5.182      15.187\n",
       "airline_FY                                                     2.4553      1.170      2.098      0.036       0.161       4.749\n",
       "airline_GA                                                     5.2530      1.363      3.855      0.000       2.582       7.924\n",
       "airline_GX*                                                   -7.4683      4.462     -1.674      0.094     -16.213       1.276\n",
       "airline_H9*                                                    9.6265      5.639      1.707      0.088      -1.427      20.680\n",
       "airline_HA                                                     3.3977      2.665      1.275      0.202      -1.826       8.622\n",
       "airline_HM                                                    15.0576      3.867      3.894      0.000       7.479      22.636\n",
       "airline_HX                                                    -4.9602      6.579     -0.754      0.451     -17.855       7.935\n",
       "airline_HY                                                     5.3121      3.247      1.636      0.102      -1.052      11.676\n",
       "airline_IA                                                    20.3003      6.215      3.266      0.001       8.119      32.482\n",
       "airline_IB                                                     2.0679      2.001      1.033      0.301      -1.854       5.990\n",
       "airline_ID*                                                   12.0161      1.724      6.970      0.000       8.637      15.395\n",
       "airline_IW                                                    12.6659      3.620      3.499      0.000       5.572      19.760\n",
       "airline_JL                                                     7.4558      1.316      5.667      0.000       4.877      10.034\n",
       "airline_JT*                                                   26.1097      1.584     16.488      0.000      23.006      29.213\n",
       "airline_K6                                                    -0.3539      2.803     -0.126      0.900      -5.849       5.141\n",
       "airline_KA                                                     7.9774      1.554      5.132      0.000       4.931      11.024\n",
       "airline_KC                                                    17.2744      5.302      3.258      0.001       6.882      27.667\n",
       "airline_KE                                                     5.6493      1.845      3.062      0.002       2.033       9.265\n",
       "airline_KL                                                     6.4870      1.217      5.331      0.000       4.102       8.872\n",
       "airline_KQ                                                     8.4771      2.737      3.097      0.002       3.112      13.842\n",
       "airline_LD                                                     6.1862     11.659      0.531      0.596     -16.665      29.037\n",
       "airline_LH                                                     1.2567      3.605      0.349      0.727      -5.810       8.323\n",
       "airline_LJ                                                     7.8916      2.667      2.959      0.003       2.665      13.118\n",
       "airline_LX                                                     9.1233      1.777      5.135      0.000       5.641      12.606\n",
       "airline_MF                                                     7.6834      1.582      4.858      0.000       4.584      10.783\n",
       "airline_MH                                                     5.6158      1.087      5.167      0.000       3.486       7.746\n",
       "airline_MI                                                     9.4402      1.260      7.493      0.000       6.971      11.909\n",
       "airline_MK                                                     1.8309      1.621      1.130      0.259      -1.346       5.008\n",
       "airline_MS                                                     2.0294      5.410      0.375      0.708      -8.574      12.633\n",
       "airline_MU                                                    10.1286      2.577      3.930      0.000       5.077      15.180\n",
       "airline_MXD                                                   19.8036      1.122     17.644      0.000      17.604      22.003\n",
       "airline_NH                                                    -0.1120      2.117     -0.053      0.958      -4.261       4.037\n",
       "airline_NZ                                                    12.6452      1.374      9.201      0.000       9.952      15.339\n",
       "airline_OS                                                    -0.1918      3.697     -0.052      0.959      -7.438       7.054\n",
       "airline_OZ                                                    22.6903      4.533      5.005      0.000      13.805      31.576\n",
       "airline_PG                                                     4.7824      1.530      3.125      0.002       1.783       7.782\n",
       "airline_PK                                                    54.1058      5.407     10.007      0.000      43.508      64.703\n",
       "airline_PR                                                     3.9345      1.218      3.230      0.001       1.547       6.322\n",
       "airline_QF                                                     5.9447      1.771      3.356      0.001       2.473       9.416\n",
       "airline_QR                                                     3.8551      1.136      3.395      0.001       1.630       6.081\n",
       "airline_QZ                                                    11.0326      1.280      8.618      0.000       8.524      13.542\n",
       "airline_RA                                                    92.0596      5.023     18.329      0.000      82.216     101.904\n",
       "airline_RJ                                                     5.1796      1.983      2.612      0.009       1.293       9.066\n",
       "airline_RS*                                                   22.6903      4.533      5.005      0.000      13.805      31.576\n",
       "airline_RX                                                    19.2056      3.562      5.392      0.000      12.224      26.187\n",
       "airline_SJ                                                    27.4316      3.609      7.601      0.000      20.358      34.505\n",
       "airline_SK                                                     3.3967      3.606      0.942      0.346      -3.672      10.465\n",
       "airline_SQ                                                     9.4402      1.260      7.493      0.000       6.971      11.909\n",
       "airline_SV                                                     9.0390      2.235      4.045      0.000       4.659      13.419\n",
       "airline_TG                                                     5.3884      1.397      3.857      0.000       2.650       8.127\n",
       "airline_TH                                                     6.5364      1.940      3.370      0.001       2.735      10.338\n",
       "airline_TK                                                    20.9121      1.551     13.485      0.000      17.873      23.952\n",
       "airline_TP                                                     2.7086      4.526      0.598      0.550      -6.162      11.580\n",
       "airline_TR                                                    18.5905      1.666     11.160      0.000      15.325      21.856\n",
       "airline_UA                                                    -0.0661      2.399     -0.028      0.978      -4.769       4.637\n",
       "airline_UL                                                     3.2820      1.307      2.511      0.012       0.720       5.844\n",
       "airline_UW*                                                    7.3871      7.283      1.014      0.310      -6.887      21.662\n",
       "airline_VA                                                    12.6452      1.374      9.201      0.000       9.952      15.339\n",
       "airline_VJC                                                   35.5379      3.604      9.861      0.000      28.474      42.602\n",
       "airline_VN                                                    -0.5253      2.715     -0.194      0.847      -5.846       4.796\n",
       "airline_W5                                                     6.2449      3.980      1.569      0.117      -1.556      14.046\n",
       "airline_WE*                                                    9.3551      2.258      4.143      0.000       4.929      13.781\n",
       "airline_WY                                                     5.5966      1.251      4.473      0.000       3.144       8.049\n",
       "airline_XY                                                    15.0682      3.608      4.176      0.000       7.996      22.141\n",
       "airline_YG*                                                   -5.7812      5.407     -1.069      0.285     -16.379       4.817\n",
       "airline_Z2                                                    29.0418      2.098     13.844      0.000      24.930      33.153\n",
       "airline_ZE                                                     8.1190      2.964      2.739      0.006       2.309      13.929\n",
       "airline_ZH                                                    14.5125      2.942      4.933      0.000       8.746      20.279\n",
       "departure_airport_name_Kota Kinabalu International Airport    -0.0498      1.127     -0.044      0.965      -2.258       2.158\n",
       "departure_airport_name_Kuala Lumpur International Airport      4.2180      1.089      3.872      0.000       2.083       6.353\n",
       "departure_airport_name_Kuching International Airport           0.2269      1.141      0.199      0.842      -2.009       2.462\n",
       "departure_airport_name_Kudat Airport                           3.7657      5.409      0.696      0.486      -6.836      14.367\n",
       "departure_airport_name_Labuan Airport                          6.7384      2.070      3.255      0.001       2.681      10.796\n",
       "departure_airport_name_Langkawi International Airport          2.5624      1.180      2.172      0.030       0.250       4.875\n",
       "departure_airport_name_Lawas Airport                           3.4189      5.409      0.632      0.527      -7.183      14.020\n",
       "departure_airport_name_Marudi Airport                         -0.0524      4.019     -0.013      0.990      -7.930       7.825\n",
       "departure_airport_name_Miri Airport                            4.2994      1.179      3.646      0.000       1.988       6.610\n",
       "departure_airport_name_Penang International Airport            0.7244      1.107      0.654      0.513      -1.446       2.894\n",
       "departure_airport_name_Sandakan Airport                       14.9047      2.448      6.089      0.000      10.107      19.703\n",
       "departure_airport_name_Senai Airport                          -1.9923      1.162     -1.714      0.087      -4.271       0.286\n",
       "departure_airport_name_Sibu Airport                            2.2147      1.246      1.777      0.076      -0.228       4.657\n",
       "departure_airport_name_Sultan Abdul Aziz Shah Airport         -4.6668      1.144     -4.080      0.000      -6.909      -2.425\n",
       "departure_airport_name_Sultan Ismail Petra Airport            -0.9917      1.204     -0.823      0.410      -3.352       1.369\n",
       "departure_day_Monday                                          -3.1532      0.284    -11.094      0.000      -3.710      -2.596\n",
       "departure_day_Saturday                                        -2.4669      0.288     -8.559      0.000      -3.032      -1.902\n",
       "departure_day_Sunday                                          -2.5872      0.284     -9.110      0.000      -3.144      -2.031\n",
       "departure_day_Thursday                                         0.6832      0.283      2.413      0.016       0.128       1.238\n",
       "departure_day_Tuesday                                         -1.3425      0.287     -4.681      0.000      -1.905      -0.780\n",
       "departure_day_Wednesday                                       -2.9817      0.284    -10.487      0.000      -3.539      -2.424\n",
       "==============================================================================\n",
       "Omnibus:                   153678.818   Durbin-Watson:                   1.575\n",
       "Prob(Omnibus):                  0.000   Jarque-Bera (JB):         75604413.844\n",
       "Skew:                           7.885   Prob(JB):                         0.00\n",
       "Kurtosis:                     129.842   Cond. No.                     2.31e+03\n",
       "==============================================================================\n",
       "\n",
       "Warnings:\n",
       "[1] Standard Errors assume that the covariance matrix of the errors is correctly specified.\n",
       "[2] The condition number is large, 2.31e+03. This might indicate that there are\n",
       "strong multicollinearity or other numerical problems.\n",
       "\"\"\""
      ]
     },
     "execution_count": 79,
     "metadata": {},
     "output_type": "execute_result"
    }
   ],
   "source": [
    "result.summary()\n",
    "\n",
    "# misal alpha = 0.05\n",
    "# jika nilai p value > alpha, maka  feature tersebut harus didrop"
   ]
  },
  {
   "cell_type": "markdown",
   "metadata": {},
   "source": [
    "## Logistic Regression\n",
    "\n",
    "A model to predict delay > 60 min."
   ]
  },
  {
   "cell_type": "code",
   "execution_count": null,
   "metadata": {},
   "outputs": [],
   "source": [
    "from sklearn.linear_model import LogisticRegression"
   ]
  },
  {
   "cell_type": "code",
   "execution_count": null,
   "metadata": {},
   "outputs": [],
   "source": [
    "log_reg = data.copy()"
   ]
  },
  {
   "cell_type": "code",
   "execution_count": null,
   "metadata": {},
   "outputs": [],
   "source": [
    "target = log_reg['default']\n",
    "temp = log_reg.drop(['default'], axis = 1)"
   ]
  },
  {
   "cell_type": "code",
   "execution_count": null,
   "metadata": {},
   "outputs": [],
   "source": [
    "from sklearn.preprocessing import OneHotEncoder, StandardScaler"
   ]
  },
  {
   "cell_type": "code",
   "execution_count": null,
   "metadata": {},
   "outputs": [],
   "source": [
    "dummy = temp.select_dtypes(exclude = ['int', 'int64', 'float64'])\n",
    "integer = temp.select_dtypes(include = ['int', 'int64', 'float64'])"
   ]
  },
  {
   "cell_type": "code",
   "execution_count": null,
   "metadata": {},
   "outputs": [],
   "source": [
    "dummy2 = pd.get_dummies(dummy, drop_first = True)"
   ]
  },
  {
   "cell_type": "code",
   "execution_count": null,
   "metadata": {},
   "outputs": [],
   "source": [
    "model = pd.concat([integer, dummy2, target], axis = 1)"
   ]
  },
  {
   "cell_type": "code",
   "execution_count": null,
   "metadata": {},
   "outputs": [],
   "source": [
    "X = model.iloc[:, 0:len(model.columns)-1]\n",
    "y = model.iloc[:, len(model.columns)-1]"
   ]
  },
  {
   "cell_type": "code",
   "execution_count": null,
   "metadata": {},
   "outputs": [],
   "source": [
    "X_train, X_test, y_train, y_test = train_test_split(X, y, test_size = 0.2, random_state = 0)"
   ]
  },
  {
   "cell_type": "code",
   "execution_count": null,
   "metadata": {},
   "outputs": [],
   "source": [
    "SC = StandardScaler()"
   ]
  },
  {
   "cell_type": "code",
   "execution_count": null,
   "metadata": {},
   "outputs": [],
   "source": [
    "X_train = SC.fit_transform(X_train)\n",
    "X_test = SC.fit_transform(X_test)"
   ]
  },
  {
   "cell_type": "code",
   "execution_count": null,
   "metadata": {},
   "outputs": [],
   "source": [
    "logistic_regression = LogisticRegression()\n",
    "logistic_regression.fit(X_train, y_train)\n",
    "\n",
    "y_pred_test = logistic_regression.predict(X_test) # langsung keluar kelasnya, defaultnya 0.5\n",
    "y_pred_train = logistic_regression.predict(X_train) # kalau predict proba akan keluar probability, bisa mengubah default"
   ]
  },
  {
   "cell_type": "code",
   "execution_count": null,
   "metadata": {},
   "outputs": [],
   "source": [
    "from sklearn.metrics import auc, confusion_matrix\n",
    "from sklearn import metrics"
   ]
  },
  {
   "cell_type": "code",
   "execution_count": null,
   "metadata": {},
   "outputs": [],
   "source": [
    "cm = confusion_matrix(y_train, y_pred_train)\n",
    "print(cm)"
   ]
  },
  {
   "cell_type": "code",
   "execution_count": null,
   "metadata": {},
   "outputs": [],
   "source": [
    "cm = confusion_matrix(y_test, y_pred_test)\n",
    "print(cm)"
   ]
  },
  {
   "cell_type": "code",
   "execution_count": null,
   "metadata": {},
   "outputs": [],
   "source": [
    "fpr_train, tpr_train, threshold = metrics.roc_curve(y_train, y_pred_train)\n",
    "fpr_test, tpr_test, threshold = metrics.roc_curve(y_test, y_pred_test)"
   ]
  },
  {
   "cell_type": "code",
   "execution_count": null,
   "metadata": {},
   "outputs": [],
   "source": [
    "print('AUC train = {}'.format(metrics.auc(fpr_train, tpr_train)))\n",
    "print('AUC test = {}'.format(metrics.auc(fpr_test, tpr_test)))"
   ]
  },
  {
   "cell_type": "code",
   "execution_count": null,
   "metadata": {},
   "outputs": [],
   "source": [
    "from sklearn.metrics import classification_report\n",
    "\n",
    "report = classification_report(y_test, y_pred_test)\n",
    "print(report)"
   ]
  },
  {
   "cell_type": "code",
   "execution_count": null,
   "metadata": {},
   "outputs": [],
   "source": [
    "report = classification_report(y_train, y_pred_train)\n",
    "print(report)"
   ]
  },
  {
   "cell_type": "code",
   "execution_count": null,
   "metadata": {},
   "outputs": [],
   "source": [
    "plt.figure()\n",
    "lw = 2\n",
    "plt.plot(fpr_train,tpr_train, color ='darkorange',\n",
    "        lw=lw, label = 'ROC Curve (area =%0.2f)' %metrics.auc(fpr_train,tpr_train))\n",
    "plt.plot([0,1],[0,1], color='navy',lw=lw,linestyle='--')\n",
    "plt.xlim([0.0,1.0])\n",
    "plt.ylim([0.0,1.05])\n",
    "plt.xlabel('False Positive Rate')\n",
    "plt.ylabel('True Positive Rate')\n",
    "plt.title('ROC, AUC Curve')\n",
    "plt.legend(loc=\"lower right\")\n",
    "plt.show()"
   ]
  },
  {
   "cell_type": "code",
   "execution_count": null,
   "metadata": {},
   "outputs": [],
   "source": [
    "plt.figure()\n",
    "lw = 2\n",
    "plt.plot(fpr_test,tpr_test, color ='darkorange',\n",
    "        lw=lw, label = 'ROC Curve (area =%0.2f)' %metrics.auc(fpr_test,tpr_test))\n",
    "plt.plot([0,1],[0,1], color='navy',lw=lw,linestyle='--')\n",
    "plt.xlim([0.0,1.0])\n",
    "plt.ylim([0.0,1.05])\n",
    "plt.xlabel('False Positive Rate')\n",
    "plt.ylabel('True Positive Rate')\n",
    "plt.title('ROC, AUC Curve')\n",
    "plt.legend(loc=\"lower right\")\n",
    "plt.show()"
   ]
  },
  {
   "cell_type": "markdown",
   "metadata": {},
   "source": [
    "## Random Forest\n",
    "\n",
    "A model to predict delay > 60 min."
   ]
  }
 ],
 "metadata": {
  "kernelspec": {
   "display_name": "Python 3",
   "language": "python",
   "name": "python3"
  },
  "language_info": {
   "codemirror_mode": {
    "name": "ipython",
    "version": 3
   },
   "file_extension": ".py",
   "mimetype": "text/x-python",
   "name": "python",
   "nbconvert_exporter": "python",
   "pygments_lexer": "ipython3",
   "version": "3.7.3"
  },
  "toc": {
   "base_numbering": 1,
   "nav_menu": {},
   "number_sections": true,
   "sideBar": true,
   "skip_h1_title": false,
   "title_cell": "Table of Contents",
   "title_sidebar": "Contents",
   "toc_cell": false,
   "toc_position": {},
   "toc_section_display": true,
   "toc_window_display": true
  }
 },
 "nbformat": 4,
 "nbformat_minor": 2
}
