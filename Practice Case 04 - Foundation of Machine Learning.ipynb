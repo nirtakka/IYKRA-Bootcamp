{
 "cells": [
  {
   "cell_type": "markdown",
   "metadata": {},
   "source": [
    "# Historical Flight Data in Malaysia from October 2018 - November 2018\n",
    "\n",
    "Author: Nirta Ika Yunita\n",
    "<br> Date: October 4, 2019"
   ]
  },
  {
   "cell_type": "markdown",
   "metadata": {},
   "source": [
    "## Load Package"
   ]
  },
  {
   "cell_type": "code",
   "execution_count": 1,
   "metadata": {
    "ExecuteTime": {
     "end_time": "2019-11-14T10:19:34.983000Z",
     "start_time": "2019-11-14T10:19:31.871500Z"
    }
   },
   "outputs": [],
   "source": [
    "import numpy as np # math calculation\n",
    "import pandas as pd # data wrangling\n",
    "import matplotlib.pyplot as plt # plot visualization\n",
    "import seaborn as sns # visualization\n",
    "import datetime # package for extract time\n",
    "import calendar\n",
    "import warnings\n",
    "warnings.filterwarnings(\"ignore\")"
   ]
  },
  {
   "cell_type": "markdown",
   "metadata": {},
   "source": [
    "## Load Dataset\n",
    "\n",
    "Data that will be used for regression analysis are training_dataset.csv as train data and test_dataset.csv as test data."
   ]
  },
  {
   "cell_type": "code",
   "execution_count": 2,
   "metadata": {
    "ExecuteTime": {
     "end_time": "2019-11-14T10:19:36.559000Z",
     "start_time": "2019-11-14T10:19:34.985500Z"
    }
   },
   "outputs": [],
   "source": [
    "train = pd.read_csv('training_dataset.csv')\n",
    "test = pd.read_csv('test_dataset.csv')"
   ]
  },
  {
   "cell_type": "code",
   "execution_count": 3,
   "metadata": {
    "ExecuteTime": {
     "end_time": "2019-11-14T10:19:36.576500Z",
     "start_time": "2019-11-14T10:19:36.564000Z"
    }
   },
   "outputs": [],
   "source": [
    "train['flag_train'] = 1\n",
    "test['flag_train'] = 0"
   ]
  },
  {
   "cell_type": "code",
   "execution_count": 4,
   "metadata": {
    "ExecuteTime": {
     "end_time": "2019-11-14T10:19:36.954000Z",
     "start_time": "2019-11-14T10:19:36.584000Z"
    }
   },
   "outputs": [],
   "source": [
    "data = train.append(test)"
   ]
  },
  {
   "cell_type": "code",
   "execution_count": 5,
   "metadata": {
    "ExecuteTime": {
     "end_time": "2019-11-14T10:19:37.068500Z",
     "start_time": "2019-11-14T10:19:36.961000Z"
    }
   },
   "outputs": [
    {
     "data": {
      "text/html": [
       "<div>\n",
       "<style scoped>\n",
       "    .dataframe tbody tr th:only-of-type {\n",
       "        vertical-align: middle;\n",
       "    }\n",
       "\n",
       "    .dataframe tbody tr th {\n",
       "        vertical-align: top;\n",
       "    }\n",
       "\n",
       "    .dataframe thead th {\n",
       "        text-align: right;\n",
       "    }\n",
       "</style>\n",
       "<table border=\"1\" class=\"dataframe\">\n",
       "  <thead>\n",
       "    <tr style=\"text-align: right;\">\n",
       "      <th></th>\n",
       "      <th>id</th>\n",
       "      <th>number</th>\n",
       "      <th>airline</th>\n",
       "      <th>airline_name</th>\n",
       "      <th>scheduled_departure_time</th>\n",
       "      <th>scheduled_arrival_time</th>\n",
       "      <th>departure_airport_city</th>\n",
       "      <th>departure_airport_code</th>\n",
       "      <th>departure_airport_country</th>\n",
       "      <th>departure_airport_gate</th>\n",
       "      <th>...</th>\n",
       "      <th>arrival_airport_gate</th>\n",
       "      <th>arrival_airport_name</th>\n",
       "      <th>arrival_airport_region</th>\n",
       "      <th>arrival_airport_terminal</th>\n",
       "      <th>arrival_airport_timezone</th>\n",
       "      <th>flight_equipment_iata</th>\n",
       "      <th>flight_equipment_name</th>\n",
       "      <th>flight_duration</th>\n",
       "      <th>delay</th>\n",
       "      <th>flag_train</th>\n",
       "    </tr>\n",
       "  </thead>\n",
       "  <tbody>\n",
       "    <tr>\n",
       "      <th>0</th>\n",
       "      <td>1</td>\n",
       "      <td>AK6430</td>\n",
       "      <td>AK</td>\n",
       "      <td>AirAsia</td>\n",
       "      <td>2018-10-05 22:00:00</td>\n",
       "      <td>2018-10-05 23:05:00</td>\n",
       "      <td>Kuala Lumpur</td>\n",
       "      <td>KUL</td>\n",
       "      <td>MY</td>\n",
       "      <td>J15</td>\n",
       "      <td>...</td>\n",
       "      <td>2</td>\n",
       "      <td>Sultan Ismail Petra Airport</td>\n",
       "      <td>Asia</td>\n",
       "      <td>NaN</td>\n",
       "      <td>Asia/Kuala_Lumpur</td>\n",
       "      <td>32S</td>\n",
       "      <td>Airbus A318 / A319 / A320 / A321</td>\n",
       "      <td>58m</td>\n",
       "      <td>2</td>\n",
       "      <td>1</td>\n",
       "    </tr>\n",
       "    <tr>\n",
       "      <th>1</th>\n",
       "      <td>2</td>\n",
       "      <td>ID*7164</td>\n",
       "      <td>ID*</td>\n",
       "      <td>Batik Air</td>\n",
       "      <td>2018-10-05 22:00:00</td>\n",
       "      <td>2018-10-05 23:55:00</td>\n",
       "      <td>Kuala Lumpur</td>\n",
       "      <td>KUL</td>\n",
       "      <td>MY</td>\n",
       "      <td>C33</td>\n",
       "      <td>...</td>\n",
       "      <td>5</td>\n",
       "      <td>Soekarno-Hatta International Airport</td>\n",
       "      <td>Asia</td>\n",
       "      <td>2</td>\n",
       "      <td>Asia/Jakarta</td>\n",
       "      <td>32S</td>\n",
       "      <td>Airbus A318 / A319 / A320 / A321</td>\n",
       "      <td>1h 55m</td>\n",
       "      <td>8</td>\n",
       "      <td>1</td>\n",
       "    </tr>\n",
       "    <tr>\n",
       "      <th>2</th>\n",
       "      <td>3</td>\n",
       "      <td>MXD9116</td>\n",
       "      <td>MXD</td>\n",
       "      <td>Malindo Air</td>\n",
       "      <td>2018-10-05 22:00:00</td>\n",
       "      <td>2018-10-05 23:55:00</td>\n",
       "      <td>Kuala Lumpur</td>\n",
       "      <td>KUL</td>\n",
       "      <td>MY</td>\n",
       "      <td>C33</td>\n",
       "      <td>...</td>\n",
       "      <td>5</td>\n",
       "      <td>Soekarno-Hatta International Airport</td>\n",
       "      <td>Asia</td>\n",
       "      <td>2</td>\n",
       "      <td>Asia/Jakarta</td>\n",
       "      <td>32S</td>\n",
       "      <td>Airbus A318 / A319 / A320 / A321</td>\n",
       "      <td>1h 55m</td>\n",
       "      <td>8</td>\n",
       "      <td>1</td>\n",
       "    </tr>\n",
       "    <tr>\n",
       "      <th>3</th>\n",
       "      <td>4</td>\n",
       "      <td>AK5198</td>\n",
       "      <td>AK</td>\n",
       "      <td>AirAsia</td>\n",
       "      <td>2018-10-05 22:05:00</td>\n",
       "      <td>2018-10-06 01:00:00</td>\n",
       "      <td>Kuala Lumpur</td>\n",
       "      <td>KUL</td>\n",
       "      <td>MY</td>\n",
       "      <td>J9</td>\n",
       "      <td>...</td>\n",
       "      <td>INT</td>\n",
       "      <td>Sandakan Airport</td>\n",
       "      <td>Asia</td>\n",
       "      <td>NaN</td>\n",
       "      <td>Asia/Kuala_Lumpur</td>\n",
       "      <td>32S</td>\n",
       "      <td>Airbus A318 / A319 / A320 / A321</td>\n",
       "      <td>2h 54m</td>\n",
       "      <td>0</td>\n",
       "      <td>1</td>\n",
       "    </tr>\n",
       "    <tr>\n",
       "      <th>4</th>\n",
       "      <td>5</td>\n",
       "      <td>AK516</td>\n",
       "      <td>AK</td>\n",
       "      <td>AirAsia</td>\n",
       "      <td>2018-10-05 22:10:00</td>\n",
       "      <td>2018-10-06 01:25:00</td>\n",
       "      <td>Kuala Lumpur</td>\n",
       "      <td>KUL</td>\n",
       "      <td>MY</td>\n",
       "      <td>P1</td>\n",
       "      <td>...</td>\n",
       "      <td>NaN</td>\n",
       "      <td>Noi Bai International Airport</td>\n",
       "      <td>Asia</td>\n",
       "      <td>T2</td>\n",
       "      <td>Asia/Ho_Chi_Minh</td>\n",
       "      <td>32S</td>\n",
       "      <td>Airbus A318 / A319 / A320 / A321</td>\n",
       "      <td>3h 17m</td>\n",
       "      <td>0</td>\n",
       "      <td>1</td>\n",
       "    </tr>\n",
       "  </tbody>\n",
       "</table>\n",
       "<p>5 rows × 27 columns</p>\n",
       "</div>"
      ],
      "text/plain": [
       "   id   number airline airline_name scheduled_departure_time  \\\n",
       "0   1   AK6430      AK      AirAsia      2018-10-05 22:00:00   \n",
       "1   2  ID*7164     ID*    Batik Air      2018-10-05 22:00:00   \n",
       "2   3  MXD9116     MXD  Malindo Air      2018-10-05 22:00:00   \n",
       "3   4   AK5198      AK      AirAsia      2018-10-05 22:05:00   \n",
       "4   5    AK516      AK      AirAsia      2018-10-05 22:10:00   \n",
       "\n",
       "  scheduled_arrival_time departure_airport_city departure_airport_code  \\\n",
       "0    2018-10-05 23:05:00           Kuala Lumpur                    KUL   \n",
       "1    2018-10-05 23:55:00           Kuala Lumpur                    KUL   \n",
       "2    2018-10-05 23:55:00           Kuala Lumpur                    KUL   \n",
       "3    2018-10-06 01:00:00           Kuala Lumpur                    KUL   \n",
       "4    2018-10-06 01:25:00           Kuala Lumpur                    KUL   \n",
       "\n",
       "  departure_airport_country departure_airport_gate  ... arrival_airport_gate  \\\n",
       "0                        MY                    J15  ...                    2   \n",
       "1                        MY                    C33  ...                    5   \n",
       "2                        MY                    C33  ...                    5   \n",
       "3                        MY                     J9  ...                  INT   \n",
       "4                        MY                     P1  ...                  NaN   \n",
       "\n",
       "                   arrival_airport_name arrival_airport_region  \\\n",
       "0           Sultan Ismail Petra Airport                   Asia   \n",
       "1  Soekarno-Hatta International Airport                   Asia   \n",
       "2  Soekarno-Hatta International Airport                   Asia   \n",
       "3                      Sandakan Airport                   Asia   \n",
       "4         Noi Bai International Airport                   Asia   \n",
       "\n",
       "  arrival_airport_terminal arrival_airport_timezone flight_equipment_iata  \\\n",
       "0                      NaN        Asia/Kuala_Lumpur                   32S   \n",
       "1                        2             Asia/Jakarta                   32S   \n",
       "2                        2             Asia/Jakarta                   32S   \n",
       "3                      NaN        Asia/Kuala_Lumpur                   32S   \n",
       "4                       T2         Asia/Ho_Chi_Minh                   32S   \n",
       "\n",
       "              flight_equipment_name flight_duration delay flag_train  \n",
       "0  Airbus A318 / A319 / A320 / A321             58m     2          1  \n",
       "1  Airbus A318 / A319 / A320 / A321          1h 55m     8          1  \n",
       "2  Airbus A318 / A319 / A320 / A321          1h 55m     8          1  \n",
       "3  Airbus A318 / A319 / A320 / A321          2h 54m     0          1  \n",
       "4  Airbus A318 / A319 / A320 / A321          3h 17m     0          1  \n",
       "\n",
       "[5 rows x 27 columns]"
      ]
     },
     "execution_count": 5,
     "metadata": {},
     "output_type": "execute_result"
    }
   ],
   "source": [
    "data.head()"
   ]
  },
  {
   "cell_type": "code",
   "execution_count": 6,
   "metadata": {
    "ExecuteTime": {
     "end_time": "2019-11-14T10:19:37.175500Z",
     "start_time": "2019-11-14T10:19:37.081000Z"
    }
   },
   "outputs": [
    {
     "data": {
      "text/plain": [
       "(152625, 27)"
      ]
     },
     "execution_count": 6,
     "metadata": {},
     "output_type": "execute_result"
    }
   ],
   "source": [
    "data.shape"
   ]
  },
  {
   "cell_type": "code",
   "execution_count": 7,
   "metadata": {
    "ExecuteTime": {
     "end_time": "2019-11-14T10:19:37.295000Z",
     "start_time": "2019-11-14T10:19:37.183000Z"
    }
   },
   "outputs": [
    {
     "data": {
      "text/plain": [
       "id                             int64\n",
       "number                        object\n",
       "airline                       object\n",
       "airline_name                  object\n",
       "scheduled_departure_time      object\n",
       "scheduled_arrival_time        object\n",
       "departure_airport_city        object\n",
       "departure_airport_code        object\n",
       "departure_airport_country     object\n",
       "departure_airport_gate        object\n",
       "departure_airport_name        object\n",
       "departure_airport_region      object\n",
       "departure_airport_terminal    object\n",
       "departure_airport_timezone    object\n",
       "arrival_airport_city          object\n",
       "arrival_airport_code          object\n",
       "arrival_airport_country       object\n",
       "arrival_airport_gate          object\n",
       "arrival_airport_name          object\n",
       "arrival_airport_region        object\n",
       "arrival_airport_terminal      object\n",
       "arrival_airport_timezone      object\n",
       "flight_equipment_iata         object\n",
       "flight_equipment_name         object\n",
       "flight_duration               object\n",
       "delay                          int64\n",
       "flag_train                     int64\n",
       "dtype: object"
      ]
     },
     "execution_count": 7,
     "metadata": {},
     "output_type": "execute_result"
    }
   ],
   "source": [
    "data.dtypes"
   ]
  },
  {
   "cell_type": "code",
   "execution_count": 8,
   "metadata": {
    "ExecuteTime": {
     "end_time": "2019-11-14T10:19:37.764000Z",
     "start_time": "2019-11-14T10:19:37.302500Z"
    }
   },
   "outputs": [
    {
     "name": "stdout",
     "output_type": "stream",
     "text": [
      "<class 'pandas.core.frame.DataFrame'>\n",
      "Int64Index: 152625 entries, 0 to 41556\n",
      "Data columns (total 27 columns):\n",
      "id                            152625 non-null int64\n",
      "number                        152625 non-null object\n",
      "airline                       152625 non-null object\n",
      "airline_name                  152625 non-null object\n",
      "scheduled_departure_time      152625 non-null object\n",
      "scheduled_arrival_time        152618 non-null object\n",
      "departure_airport_city        152625 non-null object\n",
      "departure_airport_code        152625 non-null object\n",
      "departure_airport_country     152625 non-null object\n",
      "departure_airport_gate        92006 non-null object\n",
      "departure_airport_name        152625 non-null object\n",
      "departure_airport_region      152625 non-null object\n",
      "departure_airport_terminal    96037 non-null object\n",
      "departure_airport_timezone    152625 non-null object\n",
      "arrival_airport_city          152625 non-null object\n",
      "arrival_airport_code          152625 non-null object\n",
      "arrival_airport_country       152625 non-null object\n",
      "arrival_airport_gate          15350 non-null object\n",
      "arrival_airport_name          152625 non-null object\n",
      "arrival_airport_region        152625 non-null object\n",
      "arrival_airport_terminal      73215 non-null object\n",
      "arrival_airport_timezone      152625 non-null object\n",
      "flight_equipment_iata         152603 non-null object\n",
      "flight_equipment_name         152603 non-null object\n",
      "flight_duration               152620 non-null object\n",
      "delay                         152625 non-null int64\n",
      "flag_train                    152625 non-null int64\n",
      "dtypes: int64(3), object(24)\n",
      "memory usage: 32.6+ MB\n"
     ]
    }
   ],
   "source": [
    "data.info()\n",
    "# please check if the type is suit for our needs"
   ]
  },
  {
   "cell_type": "code",
   "execution_count": 9,
   "metadata": {
    "ExecuteTime": {
     "end_time": "2019-11-14T10:19:37.809000Z",
     "start_time": "2019-11-14T10:19:37.766500Z"
    }
   },
   "outputs": [
    {
     "data": {
      "text/html": [
       "<div>\n",
       "<style scoped>\n",
       "    .dataframe tbody tr th:only-of-type {\n",
       "        vertical-align: middle;\n",
       "    }\n",
       "\n",
       "    .dataframe tbody tr th {\n",
       "        vertical-align: top;\n",
       "    }\n",
       "\n",
       "    .dataframe thead th {\n",
       "        text-align: right;\n",
       "    }\n",
       "</style>\n",
       "<table border=\"1\" class=\"dataframe\">\n",
       "  <thead>\n",
       "    <tr style=\"text-align: right;\">\n",
       "      <th></th>\n",
       "      <th>id</th>\n",
       "      <th>delay</th>\n",
       "      <th>flag_train</th>\n",
       "    </tr>\n",
       "  </thead>\n",
       "  <tbody>\n",
       "    <tr>\n",
       "      <th>count</th>\n",
       "      <td>152625.000000</td>\n",
       "      <td>152625.000000</td>\n",
       "      <td>152625.000000</td>\n",
       "    </tr>\n",
       "    <tr>\n",
       "      <th>mean</th>\n",
       "      <td>309153.066051</td>\n",
       "      <td>13.126860</td>\n",
       "      <td>0.727718</td>\n",
       "    </tr>\n",
       "    <tr>\n",
       "      <th>std</th>\n",
       "      <td>218781.295975</td>\n",
       "      <td>28.178083</td>\n",
       "      <td>0.445136</td>\n",
       "    </tr>\n",
       "    <tr>\n",
       "      <th>min</th>\n",
       "      <td>1.000000</td>\n",
       "      <td>0.000000</td>\n",
       "      <td>0.000000</td>\n",
       "    </tr>\n",
       "    <tr>\n",
       "      <th>25%</th>\n",
       "      <td>111971.000000</td>\n",
       "      <td>0.000000</td>\n",
       "      <td>0.000000</td>\n",
       "    </tr>\n",
       "    <tr>\n",
       "      <th>50%</th>\n",
       "      <td>296056.000000</td>\n",
       "      <td>2.000000</td>\n",
       "      <td>1.000000</td>\n",
       "    </tr>\n",
       "    <tr>\n",
       "      <th>75%</th>\n",
       "      <td>496286.000000</td>\n",
       "      <td>16.000000</td>\n",
       "      <td>1.000000</td>\n",
       "    </tr>\n",
       "    <tr>\n",
       "      <th>max</th>\n",
       "      <td>708033.000000</td>\n",
       "      <td>978.000000</td>\n",
       "      <td>1.000000</td>\n",
       "    </tr>\n",
       "  </tbody>\n",
       "</table>\n",
       "</div>"
      ],
      "text/plain": [
       "                  id          delay     flag_train\n",
       "count  152625.000000  152625.000000  152625.000000\n",
       "mean   309153.066051      13.126860       0.727718\n",
       "std    218781.295975      28.178083       0.445136\n",
       "min         1.000000       0.000000       0.000000\n",
       "25%    111971.000000       0.000000       0.000000\n",
       "50%    296056.000000       2.000000       1.000000\n",
       "75%    496286.000000      16.000000       1.000000\n",
       "max    708033.000000     978.000000       1.000000"
      ]
     },
     "execution_count": 9,
     "metadata": {},
     "output_type": "execute_result"
    }
   ],
   "source": [
    "data.describe()"
   ]
  },
  {
   "cell_type": "code",
   "execution_count": 10,
   "metadata": {
    "ExecuteTime": {
     "end_time": "2019-11-14T10:19:38.158000Z",
     "start_time": "2019-11-14T10:19:37.811500Z"
    }
   },
   "outputs": [
    {
     "data": {
      "text/plain": [
       "id                                 0\n",
       "number                             0\n",
       "airline                            0\n",
       "airline_name                       0\n",
       "scheduled_departure_time           0\n",
       "scheduled_arrival_time             7\n",
       "departure_airport_city             0\n",
       "departure_airport_code             0\n",
       "departure_airport_country          0\n",
       "departure_airport_gate         60619\n",
       "departure_airport_name             0\n",
       "departure_airport_region           0\n",
       "departure_airport_terminal     56588\n",
       "departure_airport_timezone         0\n",
       "arrival_airport_city               0\n",
       "arrival_airport_code               0\n",
       "arrival_airport_country            0\n",
       "arrival_airport_gate          137275\n",
       "arrival_airport_name               0\n",
       "arrival_airport_region             0\n",
       "arrival_airport_terminal       79410\n",
       "arrival_airport_timezone           0\n",
       "flight_equipment_iata             22\n",
       "flight_equipment_name             22\n",
       "flight_duration                    5\n",
       "delay                              0\n",
       "flag_train                         0\n",
       "dtype: int64"
      ]
     },
     "execution_count": 10,
     "metadata": {},
     "output_type": "execute_result"
    }
   ],
   "source": [
    "data.isnull().sum()"
   ]
  },
  {
   "cell_type": "markdown",
   "metadata": {},
   "source": [
    "- convert scheduled_departure_time and scheduled_arrival_time to datetime\n",
    "- categorical features with too much null and unique value must be dropped\n",
    "- count the scheduled_flight_duration"
   ]
  },
  {
   "cell_type": "markdown",
   "metadata": {},
   "source": [
    "## Feature Engineering"
   ]
  },
  {
   "cell_type": "code",
   "execution_count": 11,
   "metadata": {
    "ExecuteTime": {
     "end_time": "2019-11-14T10:19:38.363000Z",
     "start_time": "2019-11-14T10:19:38.160500Z"
    }
   },
   "outputs": [],
   "source": [
    "# from the data (after we check one by one), we decide some features that will be used are:\n",
    "# - airline_name\n",
    "# - scheduled_departure_time\n",
    "# - scheduled_arrival_time\n",
    "# - departure_airport_name\n",
    "# - arrival_airport_name\n",
    "# - delay\n",
    "# - flag_train\n",
    "\n",
    "data1 = data[['airline_name', 'scheduled_departure_time', 'scheduled_arrival_time', 'departure_airport_name',\n",
    "              'arrival_airport_name', 'delay', 'flag_train']].copy()"
   ]
  },
  {
   "cell_type": "code",
   "execution_count": 12,
   "metadata": {
    "ExecuteTime": {
     "end_time": "2019-11-14T10:19:38.612500Z",
     "start_time": "2019-11-14T10:19:38.368000Z"
    }
   },
   "outputs": [
    {
     "data": {
      "text/html": [
       "<div>\n",
       "<style scoped>\n",
       "    .dataframe tbody tr th:only-of-type {\n",
       "        vertical-align: middle;\n",
       "    }\n",
       "\n",
       "    .dataframe tbody tr th {\n",
       "        vertical-align: top;\n",
       "    }\n",
       "\n",
       "    .dataframe thead th {\n",
       "        text-align: right;\n",
       "    }\n",
       "</style>\n",
       "<table border=\"1\" class=\"dataframe\">\n",
       "  <thead>\n",
       "    <tr style=\"text-align: right;\">\n",
       "      <th></th>\n",
       "      <th>airline_name</th>\n",
       "      <th>scheduled_departure_time</th>\n",
       "      <th>scheduled_arrival_time</th>\n",
       "      <th>departure_airport_name</th>\n",
       "      <th>arrival_airport_name</th>\n",
       "      <th>delay</th>\n",
       "      <th>flag_train</th>\n",
       "    </tr>\n",
       "  </thead>\n",
       "  <tbody>\n",
       "    <tr>\n",
       "      <th>0</th>\n",
       "      <td>AirAsia</td>\n",
       "      <td>2018-10-05 22:00:00</td>\n",
       "      <td>2018-10-05 23:05:00</td>\n",
       "      <td>Kuala Lumpur International Airport</td>\n",
       "      <td>Sultan Ismail Petra Airport</td>\n",
       "      <td>2</td>\n",
       "      <td>1</td>\n",
       "    </tr>\n",
       "    <tr>\n",
       "      <th>1</th>\n",
       "      <td>Batik Air</td>\n",
       "      <td>2018-10-05 22:00:00</td>\n",
       "      <td>2018-10-05 23:55:00</td>\n",
       "      <td>Kuala Lumpur International Airport</td>\n",
       "      <td>Soekarno-Hatta International Airport</td>\n",
       "      <td>8</td>\n",
       "      <td>1</td>\n",
       "    </tr>\n",
       "    <tr>\n",
       "      <th>2</th>\n",
       "      <td>Malindo Air</td>\n",
       "      <td>2018-10-05 22:00:00</td>\n",
       "      <td>2018-10-05 23:55:00</td>\n",
       "      <td>Kuala Lumpur International Airport</td>\n",
       "      <td>Soekarno-Hatta International Airport</td>\n",
       "      <td>8</td>\n",
       "      <td>1</td>\n",
       "    </tr>\n",
       "    <tr>\n",
       "      <th>3</th>\n",
       "      <td>AirAsia</td>\n",
       "      <td>2018-10-05 22:05:00</td>\n",
       "      <td>2018-10-06 01:00:00</td>\n",
       "      <td>Kuala Lumpur International Airport</td>\n",
       "      <td>Sandakan Airport</td>\n",
       "      <td>0</td>\n",
       "      <td>1</td>\n",
       "    </tr>\n",
       "    <tr>\n",
       "      <th>4</th>\n",
       "      <td>AirAsia</td>\n",
       "      <td>2018-10-05 22:10:00</td>\n",
       "      <td>2018-10-06 01:25:00</td>\n",
       "      <td>Kuala Lumpur International Airport</td>\n",
       "      <td>Noi Bai International Airport</td>\n",
       "      <td>0</td>\n",
       "      <td>1</td>\n",
       "    </tr>\n",
       "  </tbody>\n",
       "</table>\n",
       "</div>"
      ],
      "text/plain": [
       "  airline_name scheduled_departure_time scheduled_arrival_time  \\\n",
       "0      AirAsia      2018-10-05 22:00:00    2018-10-05 23:05:00   \n",
       "1    Batik Air      2018-10-05 22:00:00    2018-10-05 23:55:00   \n",
       "2  Malindo Air      2018-10-05 22:00:00    2018-10-05 23:55:00   \n",
       "3      AirAsia      2018-10-05 22:05:00    2018-10-06 01:00:00   \n",
       "4      AirAsia      2018-10-05 22:10:00    2018-10-06 01:25:00   \n",
       "\n",
       "               departure_airport_name                  arrival_airport_name  \\\n",
       "0  Kuala Lumpur International Airport           Sultan Ismail Petra Airport   \n",
       "1  Kuala Lumpur International Airport  Soekarno-Hatta International Airport   \n",
       "2  Kuala Lumpur International Airport  Soekarno-Hatta International Airport   \n",
       "3  Kuala Lumpur International Airport                      Sandakan Airport   \n",
       "4  Kuala Lumpur International Airport         Noi Bai International Airport   \n",
       "\n",
       "   delay  flag_train  \n",
       "0      2           1  \n",
       "1      8           1  \n",
       "2      8           1  \n",
       "3      0           1  \n",
       "4      0           1  "
      ]
     },
     "execution_count": 12,
     "metadata": {},
     "output_type": "execute_result"
    }
   ],
   "source": [
    "data1.head()"
   ]
  },
  {
   "cell_type": "code",
   "execution_count": 13,
   "metadata": {
    "ExecuteTime": {
     "end_time": "2019-11-14T10:19:38.856500Z",
     "start_time": "2019-11-14T10:19:38.620000Z"
    }
   },
   "outputs": [],
   "source": [
    "# convert type of scheduled_departure_time and scheduled_arrival_time to datetime\n",
    "data1['scheduled_departure_time'] = pd.to_datetime(data1['scheduled_departure_time'])\n",
    "data1['scheduled_arrival_time'] = pd.to_datetime(data1['scheduled_arrival_time'])"
   ]
  },
  {
   "cell_type": "code",
   "execution_count": 14,
   "metadata": {
    "ExecuteTime": {
     "end_time": "2019-11-14T10:19:38.926500Z",
     "start_time": "2019-11-14T10:19:38.859000Z"
    }
   },
   "outputs": [
    {
     "data": {
      "text/plain": [
       "airline_name                0\n",
       "scheduled_departure_time    0\n",
       "scheduled_arrival_time      7\n",
       "departure_airport_name      0\n",
       "arrival_airport_name        0\n",
       "delay                       0\n",
       "flag_train                  0\n",
       "dtype: int64"
      ]
     },
     "execution_count": 14,
     "metadata": {},
     "output_type": "execute_result"
    }
   ],
   "source": [
    "data1.isnull().sum()"
   ]
  },
  {
   "cell_type": "code",
   "execution_count": 15,
   "metadata": {
    "ExecuteTime": {
     "end_time": "2019-11-14T10:19:39.026500Z",
     "start_time": "2019-11-14T10:19:38.929000Z"
    }
   },
   "outputs": [
    {
     "name": "stdout",
     "output_type": "stream",
     "text": [
      "           airline_name scheduled_departure_time scheduled_arrival_time  \\\n",
      "8167     Cathay Pacific      2018-10-09 12:45:00                    NaT   \n",
      "8168      Cathay Dragon      2018-10-09 12:45:00                    NaT   \n",
      "38176       Volga-Dnepr      2018-10-25 23:00:00                    NaT   \n",
      "100795  Air New Zealand      2018-11-26 04:00:00                    NaT   \n",
      "100798  Air New Zealand      2018-11-26 04:00:00                    NaT   \n",
      "328     Air New Zealand      2018-12-01 04:00:00                    NaT   \n",
      "330     Air New Zealand      2018-12-01 04:00:00                    NaT   \n",
      "\n",
      "                    departure_airport_name  \\\n",
      "8167    Kuala Lumpur International Airport   \n",
      "8168    Kuala Lumpur International Airport   \n",
      "38176   Kuala Lumpur International Airport   \n",
      "100795  Kuala Lumpur International Airport   \n",
      "100798  Kuala Lumpur International Airport   \n",
      "328     Kuala Lumpur International Airport   \n",
      "330     Kuala Lumpur International Airport   \n",
      "\n",
      "                      arrival_airport_name  delay  flag_train  \n",
      "8167          Penang International Airport     32           1  \n",
      "8168          Penang International Airport     32           1  \n",
      "38176   A.B. Won Pat International Airport     10           1  \n",
      "100795                      Cairns Airport      0           1  \n",
      "100798                      Cairns Airport      0           1  \n",
      "328                         Cairns Airport      0           0  \n",
      "330                         Cairns Airport      0           0  \n"
     ]
    }
   ],
   "source": [
    "# clean null\n",
    "# find rows where 'scheduled_arrival_time' is null as it the only one that has missing values\n",
    "print(data1[data1['scheduled_arrival_time'].isnull()])"
   ]
  },
  {
   "cell_type": "code",
   "execution_count": 16,
   "metadata": {
    "ExecuteTime": {
     "end_time": "2019-11-14T10:19:39.239000Z",
     "start_time": "2019-11-14T10:19:39.029000Z"
    }
   },
   "outputs": [],
   "source": [
    "# drop the missing values\n",
    "data1 = data1.dropna(axis = 0, how ='any')"
   ]
  },
  {
   "cell_type": "code",
   "execution_count": 17,
   "metadata": {
    "ExecuteTime": {
     "end_time": "2019-11-14T10:19:43.919000Z",
     "start_time": "2019-11-14T10:19:39.241500Z"
    }
   },
   "outputs": [],
   "source": [
    "# count the scheduled_flight_duration\n",
    "# perhaps longer flight duration can cause delay\n",
    "data1['scheduled_flight_duration'] = data1['scheduled_arrival_time'] - data1['scheduled_departure_time']\n",
    "data1['scheduled_flight_duration_mins'] = data1['scheduled_flight_duration'].dt.components['hours'] * 60 + data1['scheduled_flight_duration'].dt.components['minutes']\n",
    "data1['scheduled_flight_duration_hours'] = round(data1['scheduled_flight_duration_mins'] / 60, 2)"
   ]
  },
  {
   "cell_type": "code",
   "execution_count": 18,
   "metadata": {
    "ExecuteTime": {
     "end_time": "2019-11-14T10:19:44.748500Z",
     "start_time": "2019-11-14T10:19:43.926000Z"
    }
   },
   "outputs": [
    {
     "data": {
      "text/html": [
       "<div>\n",
       "<style scoped>\n",
       "    .dataframe tbody tr th:only-of-type {\n",
       "        vertical-align: middle;\n",
       "    }\n",
       "\n",
       "    .dataframe tbody tr th {\n",
       "        vertical-align: top;\n",
       "    }\n",
       "\n",
       "    .dataframe thead th {\n",
       "        text-align: right;\n",
       "    }\n",
       "</style>\n",
       "<table border=\"1\" class=\"dataframe\">\n",
       "  <thead>\n",
       "    <tr style=\"text-align: right;\">\n",
       "      <th></th>\n",
       "      <th>airline_name</th>\n",
       "      <th>scheduled_departure_time</th>\n",
       "      <th>scheduled_arrival_time</th>\n",
       "      <th>departure_airport_name</th>\n",
       "      <th>arrival_airport_name</th>\n",
       "      <th>delay</th>\n",
       "      <th>flag_train</th>\n",
       "      <th>scheduled_flight_duration</th>\n",
       "      <th>scheduled_flight_duration_mins</th>\n",
       "      <th>scheduled_flight_duration_hours</th>\n",
       "      <th>departure_day</th>\n",
       "      <th>dep_weekend</th>\n",
       "      <th>departure_hour</th>\n",
       "    </tr>\n",
       "  </thead>\n",
       "  <tbody>\n",
       "    <tr>\n",
       "      <th>0</th>\n",
       "      <td>AirAsia</td>\n",
       "      <td>2018-10-05 22:00:00</td>\n",
       "      <td>2018-10-05 23:05:00</td>\n",
       "      <td>Kuala Lumpur International Airport</td>\n",
       "      <td>Sultan Ismail Petra Airport</td>\n",
       "      <td>2</td>\n",
       "      <td>1</td>\n",
       "      <td>01:05:00</td>\n",
       "      <td>65</td>\n",
       "      <td>1.08</td>\n",
       "      <td>Friday</td>\n",
       "      <td>0</td>\n",
       "      <td>22</td>\n",
       "    </tr>\n",
       "    <tr>\n",
       "      <th>1</th>\n",
       "      <td>Batik Air</td>\n",
       "      <td>2018-10-05 22:00:00</td>\n",
       "      <td>2018-10-05 23:55:00</td>\n",
       "      <td>Kuala Lumpur International Airport</td>\n",
       "      <td>Soekarno-Hatta International Airport</td>\n",
       "      <td>8</td>\n",
       "      <td>1</td>\n",
       "      <td>01:55:00</td>\n",
       "      <td>115</td>\n",
       "      <td>1.92</td>\n",
       "      <td>Friday</td>\n",
       "      <td>0</td>\n",
       "      <td>22</td>\n",
       "    </tr>\n",
       "    <tr>\n",
       "      <th>2</th>\n",
       "      <td>Malindo Air</td>\n",
       "      <td>2018-10-05 22:00:00</td>\n",
       "      <td>2018-10-05 23:55:00</td>\n",
       "      <td>Kuala Lumpur International Airport</td>\n",
       "      <td>Soekarno-Hatta International Airport</td>\n",
       "      <td>8</td>\n",
       "      <td>1</td>\n",
       "      <td>01:55:00</td>\n",
       "      <td>115</td>\n",
       "      <td>1.92</td>\n",
       "      <td>Friday</td>\n",
       "      <td>0</td>\n",
       "      <td>22</td>\n",
       "    </tr>\n",
       "    <tr>\n",
       "      <th>3</th>\n",
       "      <td>AirAsia</td>\n",
       "      <td>2018-10-05 22:05:00</td>\n",
       "      <td>2018-10-06 01:00:00</td>\n",
       "      <td>Kuala Lumpur International Airport</td>\n",
       "      <td>Sandakan Airport</td>\n",
       "      <td>0</td>\n",
       "      <td>1</td>\n",
       "      <td>02:55:00</td>\n",
       "      <td>175</td>\n",
       "      <td>2.92</td>\n",
       "      <td>Friday</td>\n",
       "      <td>0</td>\n",
       "      <td>22</td>\n",
       "    </tr>\n",
       "    <tr>\n",
       "      <th>4</th>\n",
       "      <td>AirAsia</td>\n",
       "      <td>2018-10-05 22:10:00</td>\n",
       "      <td>2018-10-06 01:25:00</td>\n",
       "      <td>Kuala Lumpur International Airport</td>\n",
       "      <td>Noi Bai International Airport</td>\n",
       "      <td>0</td>\n",
       "      <td>1</td>\n",
       "      <td>03:15:00</td>\n",
       "      <td>195</td>\n",
       "      <td>3.25</td>\n",
       "      <td>Friday</td>\n",
       "      <td>0</td>\n",
       "      <td>22</td>\n",
       "    </tr>\n",
       "  </tbody>\n",
       "</table>\n",
       "</div>"
      ],
      "text/plain": [
       "  airline_name scheduled_departure_time scheduled_arrival_time  \\\n",
       "0      AirAsia      2018-10-05 22:00:00    2018-10-05 23:05:00   \n",
       "1    Batik Air      2018-10-05 22:00:00    2018-10-05 23:55:00   \n",
       "2  Malindo Air      2018-10-05 22:00:00    2018-10-05 23:55:00   \n",
       "3      AirAsia      2018-10-05 22:05:00    2018-10-06 01:00:00   \n",
       "4      AirAsia      2018-10-05 22:10:00    2018-10-06 01:25:00   \n",
       "\n",
       "               departure_airport_name                  arrival_airport_name  \\\n",
       "0  Kuala Lumpur International Airport           Sultan Ismail Petra Airport   \n",
       "1  Kuala Lumpur International Airport  Soekarno-Hatta International Airport   \n",
       "2  Kuala Lumpur International Airport  Soekarno-Hatta International Airport   \n",
       "3  Kuala Lumpur International Airport                      Sandakan Airport   \n",
       "4  Kuala Lumpur International Airport         Noi Bai International Airport   \n",
       "\n",
       "   delay  flag_train scheduled_flight_duration  \\\n",
       "0      2           1                  01:05:00   \n",
       "1      8           1                  01:55:00   \n",
       "2      8           1                  01:55:00   \n",
       "3      0           1                  02:55:00   \n",
       "4      0           1                  03:15:00   \n",
       "\n",
       "   scheduled_flight_duration_mins  scheduled_flight_duration_hours  \\\n",
       "0                              65                             1.08   \n",
       "1                             115                             1.92   \n",
       "2                             115                             1.92   \n",
       "3                             175                             2.92   \n",
       "4                             195                             3.25   \n",
       "\n",
       "  departure_day  dep_weekend  departure_hour  \n",
       "0        Friday            0              22  \n",
       "1        Friday            0              22  \n",
       "2        Friday            0              22  \n",
       "3        Friday            0              22  \n",
       "4        Friday            0              22  "
      ]
     },
     "execution_count": 18,
     "metadata": {},
     "output_type": "execute_result"
    }
   ],
   "source": [
    "# # just in case, departure_month will affect delay time. In peak season (like christmas) will delay get longer?\n",
    "# data1['departure_month'] = data1.scheduled_departure_time.apply(lambda x: x.month)\n",
    "# data1['departure_month'] = data1['departure_month'].apply(lambda x: calendar.month_abbr[x])\n",
    "\n",
    "# just in case, departure_day will affect delay time. In weekend will delay get longer?\n",
    "data1['departure_day'] = data1.scheduled_departure_time.dt.weekday_name\n",
    "data1['dep_weekend'] = np.where((data1['departure_day'] == 'Saturday') | (data1['departure_day'] == 'Sunday'), 1, 0)\n",
    "\n",
    "# just in case, departure_hour will affect delay time. We will use this feature for recommendation to passengers\n",
    "# in day light, will the delay get longer?\n",
    "data1['departure_hour'] = data1.scheduled_departure_time.apply(lambda x: x.hour)\n",
    "\n",
    "# # just in case, arrival_month will affect delay time. In peak season (like christmas) will delay get longer?\n",
    "# data1['arrival_month'] = data1.scheduled_arrival_time.apply(lambda x: x.month)\n",
    "# data1['arrival_month'] = data1['arrival_month'].apply(lambda x: calendar.month_abbr[x])\n",
    "\n",
    "# # just in case, arrival_day will affect delay time. In weekend will delay get longer?\n",
    "# data1['arrival_day'] = data1.scheduled_arrival_time.dt.weekday_name\n",
    "# data1['arr_weekend'] = np.where((data1['arrival_day'] == 'Saturday') | (data1['arrival_day'] == 'Sunday'), 1, 0)\n",
    "\n",
    "# # just in case, arrival_hour will affect delay time. Will it affect delay time?\n",
    "# data1['arrival_hour'] = data1.scheduled_arrival_time.apply(lambda x: x.hour)\n",
    "\n",
    "data1.head()"
   ]
  },
  {
   "cell_type": "code",
   "execution_count": 19,
   "metadata": {
    "ExecuteTime": {
     "end_time": "2019-11-14T10:19:44.761000Z",
     "start_time": "2019-11-14T10:19:44.748500Z"
    }
   },
   "outputs": [],
   "source": [
    "# give flag for delay flight > 0\n",
    "data1['flag_delay'] = np.where((data1['delay'] > 0), 1, 0)"
   ]
  },
  {
   "cell_type": "code",
   "execution_count": 20,
   "metadata": {
    "ExecuteTime": {
     "end_time": "2019-11-14T10:19:45.071000Z",
     "start_time": "2019-11-14T10:19:44.766000Z"
    }
   },
   "outputs": [],
   "source": [
    "# group delay based on regulation Permenhub No PM 89 Tahun 2015\n",
    "def group_delay(delay):\n",
    "    if delay == 0:\n",
    "        return 'on time'\n",
    "    elif delay <= 30:\n",
    "        return 'delay level 1'\n",
    "    elif delay <= 60:\n",
    "        return 'delay level 2'\n",
    "    elif delay <= 120:\n",
    "        return 'delay level 3'\n",
    "    elif delay <= 180:\n",
    "        return 'delay level 4'\n",
    "    elif delay <= 240:\n",
    "        return 'delay level 5'\n",
    "    else:\n",
    "        return 'flight cancelled'\n",
    "    \n",
    "data1['group_delay'] = data1['delay'].apply(group_delay)"
   ]
  },
  {
   "cell_type": "markdown",
   "metadata": {},
   "source": [
    "## Data Cleaning"
   ]
  },
  {
   "cell_type": "markdown",
   "metadata": {},
   "source": [
    "Drop categorical features with too much unique value."
   ]
  },
  {
   "cell_type": "code",
   "execution_count": 21,
   "metadata": {
    "ExecuteTime": {
     "end_time": "2019-11-14T10:19:45.303500Z",
     "start_time": "2019-11-14T10:19:45.073500Z"
    }
   },
   "outputs": [],
   "source": [
    "data1 = data1.drop(['scheduled_departure_time', 'scheduled_arrival_time', 'scheduled_flight_duration'], axis=1)"
   ]
  },
  {
   "cell_type": "code",
   "execution_count": 22,
   "metadata": {
    "ExecuteTime": {
     "end_time": "2019-11-14T10:19:45.396000Z",
     "start_time": "2019-11-14T10:19:45.306000Z"
    }
   },
   "outputs": [
    {
     "data": {
      "text/html": [
       "<div>\n",
       "<style scoped>\n",
       "    .dataframe tbody tr th:only-of-type {\n",
       "        vertical-align: middle;\n",
       "    }\n",
       "\n",
       "    .dataframe tbody tr th {\n",
       "        vertical-align: top;\n",
       "    }\n",
       "\n",
       "    .dataframe thead th {\n",
       "        text-align: right;\n",
       "    }\n",
       "</style>\n",
       "<table border=\"1\" class=\"dataframe\">\n",
       "  <thead>\n",
       "    <tr style=\"text-align: right;\">\n",
       "      <th></th>\n",
       "      <th>airline_name</th>\n",
       "      <th>departure_airport_name</th>\n",
       "      <th>arrival_airport_name</th>\n",
       "      <th>delay</th>\n",
       "      <th>flag_train</th>\n",
       "      <th>scheduled_flight_duration_mins</th>\n",
       "      <th>scheduled_flight_duration_hours</th>\n",
       "      <th>departure_day</th>\n",
       "      <th>dep_weekend</th>\n",
       "      <th>departure_hour</th>\n",
       "      <th>flag_delay</th>\n",
       "      <th>group_delay</th>\n",
       "    </tr>\n",
       "  </thead>\n",
       "  <tbody>\n",
       "    <tr>\n",
       "      <th>0</th>\n",
       "      <td>AirAsia</td>\n",
       "      <td>Kuala Lumpur International Airport</td>\n",
       "      <td>Sultan Ismail Petra Airport</td>\n",
       "      <td>2</td>\n",
       "      <td>1</td>\n",
       "      <td>65</td>\n",
       "      <td>1.08</td>\n",
       "      <td>Friday</td>\n",
       "      <td>0</td>\n",
       "      <td>22</td>\n",
       "      <td>1</td>\n",
       "      <td>delay level 1</td>\n",
       "    </tr>\n",
       "    <tr>\n",
       "      <th>1</th>\n",
       "      <td>Batik Air</td>\n",
       "      <td>Kuala Lumpur International Airport</td>\n",
       "      <td>Soekarno-Hatta International Airport</td>\n",
       "      <td>8</td>\n",
       "      <td>1</td>\n",
       "      <td>115</td>\n",
       "      <td>1.92</td>\n",
       "      <td>Friday</td>\n",
       "      <td>0</td>\n",
       "      <td>22</td>\n",
       "      <td>1</td>\n",
       "      <td>delay level 1</td>\n",
       "    </tr>\n",
       "    <tr>\n",
       "      <th>2</th>\n",
       "      <td>Malindo Air</td>\n",
       "      <td>Kuala Lumpur International Airport</td>\n",
       "      <td>Soekarno-Hatta International Airport</td>\n",
       "      <td>8</td>\n",
       "      <td>1</td>\n",
       "      <td>115</td>\n",
       "      <td>1.92</td>\n",
       "      <td>Friday</td>\n",
       "      <td>0</td>\n",
       "      <td>22</td>\n",
       "      <td>1</td>\n",
       "      <td>delay level 1</td>\n",
       "    </tr>\n",
       "    <tr>\n",
       "      <th>3</th>\n",
       "      <td>AirAsia</td>\n",
       "      <td>Kuala Lumpur International Airport</td>\n",
       "      <td>Sandakan Airport</td>\n",
       "      <td>0</td>\n",
       "      <td>1</td>\n",
       "      <td>175</td>\n",
       "      <td>2.92</td>\n",
       "      <td>Friday</td>\n",
       "      <td>0</td>\n",
       "      <td>22</td>\n",
       "      <td>0</td>\n",
       "      <td>on time</td>\n",
       "    </tr>\n",
       "    <tr>\n",
       "      <th>4</th>\n",
       "      <td>AirAsia</td>\n",
       "      <td>Kuala Lumpur International Airport</td>\n",
       "      <td>Noi Bai International Airport</td>\n",
       "      <td>0</td>\n",
       "      <td>1</td>\n",
       "      <td>195</td>\n",
       "      <td>3.25</td>\n",
       "      <td>Friday</td>\n",
       "      <td>0</td>\n",
       "      <td>22</td>\n",
       "      <td>0</td>\n",
       "      <td>on time</td>\n",
       "    </tr>\n",
       "  </tbody>\n",
       "</table>\n",
       "</div>"
      ],
      "text/plain": [
       "  airline_name              departure_airport_name  \\\n",
       "0      AirAsia  Kuala Lumpur International Airport   \n",
       "1    Batik Air  Kuala Lumpur International Airport   \n",
       "2  Malindo Air  Kuala Lumpur International Airport   \n",
       "3      AirAsia  Kuala Lumpur International Airport   \n",
       "4      AirAsia  Kuala Lumpur International Airport   \n",
       "\n",
       "                   arrival_airport_name  delay  flag_train  \\\n",
       "0           Sultan Ismail Petra Airport      2           1   \n",
       "1  Soekarno-Hatta International Airport      8           1   \n",
       "2  Soekarno-Hatta International Airport      8           1   \n",
       "3                      Sandakan Airport      0           1   \n",
       "4         Noi Bai International Airport      0           1   \n",
       "\n",
       "   scheduled_flight_duration_mins  scheduled_flight_duration_hours  \\\n",
       "0                              65                             1.08   \n",
       "1                             115                             1.92   \n",
       "2                             115                             1.92   \n",
       "3                             175                             2.92   \n",
       "4                             195                             3.25   \n",
       "\n",
       "  departure_day  dep_weekend  departure_hour  flag_delay    group_delay  \n",
       "0        Friday            0              22           1  delay level 1  \n",
       "1        Friday            0              22           1  delay level 1  \n",
       "2        Friday            0              22           1  delay level 1  \n",
       "3        Friday            0              22           0        on time  \n",
       "4        Friday            0              22           0        on time  "
      ]
     },
     "execution_count": 22,
     "metadata": {},
     "output_type": "execute_result"
    }
   ],
   "source": [
    "data1.head()"
   ]
  },
  {
   "cell_type": "markdown",
   "metadata": {},
   "source": [
    "Drop outliers based on 'delay' variable."
   ]
  },
  {
   "cell_type": "code",
   "execution_count": 23,
   "metadata": {
    "ExecuteTime": {
     "end_time": "2019-11-14T10:19:45.506000Z",
     "start_time": "2019-11-14T10:19:45.408500Z"
    }
   },
   "outputs": [
    {
     "data": {
      "text/plain": [
       "(152618, 12)"
      ]
     },
     "execution_count": 23,
     "metadata": {},
     "output_type": "execute_result"
    }
   ],
   "source": [
    "# number of rows and columns before drop outliers\n",
    "data1.shape"
   ]
  },
  {
   "cell_type": "code",
   "execution_count": 24,
   "metadata": {
    "ExecuteTime": {
     "end_time": "2019-11-14T10:19:45.861000Z",
     "start_time": "2019-11-14T10:19:45.508500Z"
    }
   },
   "outputs": [
    {
     "data": {
      "image/png": "[encoded data removed]",
      "text/plain": [
       "<Figure size 720x576 with 1 Axes>"
      ]
     },
     "metadata": {
      "needs_background": "light"
     },
     "output_type": "display_data"
    }
   ],
   "source": [
    "plt.figure(figsize=[10, 8])\n",
    "sns.distplot(data1['delay'], hist = False)\n",
    "plt.title('Distribution of the Delay\\n(before drop outliers)')\n",
    "plt.show()"
   ]
  },
  {
   "cell_type": "code",
   "execution_count": 25,
   "metadata": {
    "ExecuteTime": {
     "end_time": "2019-11-14T10:19:45.896000Z",
     "start_time": "2019-11-14T10:19:45.863500Z"
    }
   },
   "outputs": [],
   "source": [
    "# calculate quartile 1 and quartile 3\n",
    "q1 = data1['delay'].quantile(0.25)\n",
    "q3 = data1['delay'].quantile(0.75)\n",
    "\n",
    "# calculate iqr value\n",
    "iqr = q3 - q1\n",
    "\n",
    "# drop outliers\n",
    "data1 = data1[~(data1['delay'] > (q3 + 6 * iqr))]"
   ]
  },
  {
   "cell_type": "code",
   "execution_count": 26,
   "metadata": {
    "ExecuteTime": {
     "end_time": "2019-11-14T10:19:45.996000Z",
     "start_time": "2019-11-14T10:19:45.898500Z"
    }
   },
   "outputs": [
    {
     "data": {
      "text/plain": [
       "(150727, 12)"
      ]
     },
     "execution_count": 26,
     "metadata": {},
     "output_type": "execute_result"
    }
   ],
   "source": [
    "# number of rows and columns after drop outliers\n",
    "data1.shape"
   ]
  },
  {
   "cell_type": "code",
   "execution_count": 27,
   "metadata": {
    "ExecuteTime": {
     "end_time": "2019-11-14T10:19:46.351000Z",
     "start_time": "2019-11-14T10:19:45.998500Z"
    }
   },
   "outputs": [
    {
     "data": {
      "image/png": "[encoded data removed]",
      "text/plain": [
       "<Figure size 720x576 with 1 Axes>"
      ]
     },
     "metadata": {
      "needs_background": "light"
     },
     "output_type": "display_data"
    }
   ],
   "source": [
    "plt.figure(figsize=[10, 8])\n",
    "sns.distplot(data1['delay'], hist = False)\n",
    "plt.title('Distribution of the Delay\\n(after drop outliers)')\n",
    "plt.show()"
   ]
  },
  {
   "cell_type": "code",
   "execution_count": 28,
   "metadata": {
    "ExecuteTime": {
     "end_time": "2019-11-14T10:19:46.408500Z",
     "start_time": "2019-11-14T10:19:46.353500Z"
    }
   },
   "outputs": [],
   "source": [
    "data2 = data1.copy()\n",
    "\n",
    "# split data2 to dataframe train and test again\n",
    "train1 = data2[data2['flag_train'] == 1].drop('flag_train', axis=1)\n",
    "test1 = data2[data2['flag_train'] == 0].drop('flag_train', axis=1)"
   ]
  },
  {
   "cell_type": "markdown",
   "metadata": {},
   "source": [
    "## Correlation Plot"
   ]
  },
  {
   "cell_type": "code",
   "execution_count": 29,
   "metadata": {
    "ExecuteTime": {
     "end_time": "2019-11-14T10:19:46.533500Z",
     "start_time": "2019-11-14T10:19:46.411000Z"
    }
   },
   "outputs": [
    {
     "data": {
      "text/html": [
       "<div>\n",
       "<style scoped>\n",
       "    .dataframe tbody tr th:only-of-type {\n",
       "        vertical-align: middle;\n",
       "    }\n",
       "\n",
       "    .dataframe tbody tr th {\n",
       "        vertical-align: top;\n",
       "    }\n",
       "\n",
       "    .dataframe thead th {\n",
       "        text-align: right;\n",
       "    }\n",
       "</style>\n",
       "<table border=\"1\" class=\"dataframe\">\n",
       "  <thead>\n",
       "    <tr style=\"text-align: right;\">\n",
       "      <th></th>\n",
       "      <th>delay</th>\n",
       "      <th>scheduled_flight_duration_mins</th>\n",
       "      <th>scheduled_flight_duration_hours</th>\n",
       "      <th>dep_weekend</th>\n",
       "      <th>departure_hour</th>\n",
       "      <th>flag_delay</th>\n",
       "    </tr>\n",
       "  </thead>\n",
       "  <tbody>\n",
       "    <tr>\n",
       "      <th>delay</th>\n",
       "      <td>1.000000</td>\n",
       "      <td>0.092544</td>\n",
       "      <td>0.092531</td>\n",
       "      <td>-0.022097</td>\n",
       "      <td>-0.011451</td>\n",
       "      <td>0.568264</td>\n",
       "    </tr>\n",
       "    <tr>\n",
       "      <th>scheduled_flight_duration_mins</th>\n",
       "      <td>0.092544</td>\n",
       "      <td>1.000000</td>\n",
       "      <td>0.999999</td>\n",
       "      <td>0.001686</td>\n",
       "      <td>0.055976</td>\n",
       "      <td>0.178747</td>\n",
       "    </tr>\n",
       "    <tr>\n",
       "      <th>scheduled_flight_duration_hours</th>\n",
       "      <td>0.092531</td>\n",
       "      <td>0.999999</td>\n",
       "      <td>1.000000</td>\n",
       "      <td>0.001687</td>\n",
       "      <td>0.056025</td>\n",
       "      <td>0.178722</td>\n",
       "    </tr>\n",
       "    <tr>\n",
       "      <th>dep_weekend</th>\n",
       "      <td>-0.022097</td>\n",
       "      <td>0.001686</td>\n",
       "      <td>0.001687</td>\n",
       "      <td>1.000000</td>\n",
       "      <td>-0.007606</td>\n",
       "      <td>-0.016625</td>\n",
       "    </tr>\n",
       "    <tr>\n",
       "      <th>departure_hour</th>\n",
       "      <td>-0.011451</td>\n",
       "      <td>0.055976</td>\n",
       "      <td>0.056025</td>\n",
       "      <td>-0.007606</td>\n",
       "      <td>1.000000</td>\n",
       "      <td>-0.054954</td>\n",
       "    </tr>\n",
       "    <tr>\n",
       "      <th>flag_delay</th>\n",
       "      <td>0.568264</td>\n",
       "      <td>0.178747</td>\n",
       "      <td>0.178722</td>\n",
       "      <td>-0.016625</td>\n",
       "      <td>-0.054954</td>\n",
       "      <td>1.000000</td>\n",
       "    </tr>\n",
       "  </tbody>\n",
       "</table>\n",
       "</div>"
      ],
      "text/plain": [
       "                                    delay  scheduled_flight_duration_mins  \\\n",
       "delay                            1.000000                        0.092544   \n",
       "scheduled_flight_duration_mins   0.092544                        1.000000   \n",
       "scheduled_flight_duration_hours  0.092531                        0.999999   \n",
       "dep_weekend                     -0.022097                        0.001686   \n",
       "departure_hour                  -0.011451                        0.055976   \n",
       "flag_delay                       0.568264                        0.178747   \n",
       "\n",
       "                                 scheduled_flight_duration_hours  dep_weekend  \\\n",
       "delay                                                   0.092531    -0.022097   \n",
       "scheduled_flight_duration_mins                          0.999999     0.001686   \n",
       "scheduled_flight_duration_hours                         1.000000     0.001687   \n",
       "dep_weekend                                             0.001687     1.000000   \n",
       "departure_hour                                          0.056025    -0.007606   \n",
       "flag_delay                                              0.178722    -0.016625   \n",
       "\n",
       "                                 departure_hour  flag_delay  \n",
       "delay                                 -0.011451    0.568264  \n",
       "scheduled_flight_duration_mins         0.055976    0.178747  \n",
       "scheduled_flight_duration_hours        0.056025    0.178722  \n",
       "dep_weekend                           -0.007606   -0.016625  \n",
       "departure_hour                         1.000000   -0.054954  \n",
       "flag_delay                            -0.054954    1.000000  "
      ]
     },
     "execution_count": 29,
     "metadata": {},
     "output_type": "execute_result"
    }
   ],
   "source": [
    "corr = train1.corr()\n",
    "corr"
   ]
  },
  {
   "cell_type": "code",
   "execution_count": 30,
   "metadata": {
    "ExecuteTime": {
     "end_time": "2019-11-14T10:19:46.996000Z",
     "start_time": "2019-11-14T10:19:46.536000Z"
    }
   },
   "outputs": [
    {
     "data": {
      "text/plain": [
       "<matplotlib.axes._subplots.AxesSubplot at 0x14187160>"
      ]
     },
     "execution_count": 30,
     "metadata": {},
     "output_type": "execute_result"
    },
    {
     "data": {
      "image/png": "[encoded data removed]",
      "text/plain": [
       "<Figure size 720x576 with 2 Axes>"
      ]
     },
     "metadata": {
      "needs_background": "light"
     },
     "output_type": "display_data"
    }
   ],
   "source": [
    "plt.figure(figsize=[10, 8])\n",
    "sns.heatmap(corr, xticklabels = corr.columns.values, yticklabels = corr.columns.values)"
   ]
  },
  {
   "cell_type": "code",
   "execution_count": 31,
   "metadata": {
    "ExecuteTime": {
     "end_time": "2019-11-14T10:20:43.119000Z",
     "start_time": "2019-11-14T10:19:46.998500Z"
    }
   },
   "outputs": [
    {
     "data": {
      "text/plain": [
       "<seaborn.axisgrid.PairGrid at 0x140ae438>"
      ]
     },
     "execution_count": 31,
     "metadata": {},
     "output_type": "execute_result"
    },
    {
     "data": {
      "image/png": "[encoded data removed]",
      "text/plain": [
       "<Figure size 1080x1080 with 42 Axes>"
      ]
     },
     "metadata": {
      "needs_background": "light"
     },
     "output_type": "display_data"
    }
   ],
   "source": [
    "sns.pairplot(train1)"
   ]
  },
  {
   "cell_type": "markdown",
   "metadata": {},
   "source": [
    "## Recommendation to Passengers"
   ]
  },
  {
   "cell_type": "markdown",
   "metadata": {},
   "source": [
    "### Best time to take a flight\n",
    "\n",
    "Best time to take a flight is time where the average of delay is lower than anyother time."
   ]
  },
  {
   "cell_type": "code",
   "execution_count": 32,
   "metadata": {
    "ExecuteTime": {
     "end_time": "2019-11-14T10:20:43.149000Z",
     "start_time": "2019-11-14T10:20:43.121500Z"
    }
   },
   "outputs": [
    {
     "data": {
      "text/html": [
       "<div>\n",
       "<style scoped>\n",
       "    .dataframe tbody tr th:only-of-type {\n",
       "        vertical-align: middle;\n",
       "    }\n",
       "\n",
       "    .dataframe tbody tr th {\n",
       "        vertical-align: top;\n",
       "    }\n",
       "\n",
       "    .dataframe thead th {\n",
       "        text-align: right;\n",
       "    }\n",
       "</style>\n",
       "<table border=\"1\" class=\"dataframe\">\n",
       "  <thead>\n",
       "    <tr style=\"text-align: right;\">\n",
       "      <th></th>\n",
       "      <th>airline_name</th>\n",
       "      <th>departure_airport_name</th>\n",
       "      <th>arrival_airport_name</th>\n",
       "      <th>delay</th>\n",
       "      <th>scheduled_flight_duration_mins</th>\n",
       "      <th>scheduled_flight_duration_hours</th>\n",
       "      <th>departure_day</th>\n",
       "      <th>dep_weekend</th>\n",
       "      <th>departure_hour</th>\n",
       "      <th>flag_delay</th>\n",
       "      <th>group_delay</th>\n",
       "    </tr>\n",
       "  </thead>\n",
       "  <tbody>\n",
       "    <tr>\n",
       "      <th>0</th>\n",
       "      <td>AirAsia</td>\n",
       "      <td>Kuala Lumpur International Airport</td>\n",
       "      <td>Sultan Ismail Petra Airport</td>\n",
       "      <td>2</td>\n",
       "      <td>65</td>\n",
       "      <td>1.08</td>\n",
       "      <td>Friday</td>\n",
       "      <td>0</td>\n",
       "      <td>22</td>\n",
       "      <td>1</td>\n",
       "      <td>delay level 1</td>\n",
       "    </tr>\n",
       "    <tr>\n",
       "      <th>1</th>\n",
       "      <td>Batik Air</td>\n",
       "      <td>Kuala Lumpur International Airport</td>\n",
       "      <td>Soekarno-Hatta International Airport</td>\n",
       "      <td>8</td>\n",
       "      <td>115</td>\n",
       "      <td>1.92</td>\n",
       "      <td>Friday</td>\n",
       "      <td>0</td>\n",
       "      <td>22</td>\n",
       "      <td>1</td>\n",
       "      <td>delay level 1</td>\n",
       "    </tr>\n",
       "    <tr>\n",
       "      <th>2</th>\n",
       "      <td>Malindo Air</td>\n",
       "      <td>Kuala Lumpur International Airport</td>\n",
       "      <td>Soekarno-Hatta International Airport</td>\n",
       "      <td>8</td>\n",
       "      <td>115</td>\n",
       "      <td>1.92</td>\n",
       "      <td>Friday</td>\n",
       "      <td>0</td>\n",
       "      <td>22</td>\n",
       "      <td>1</td>\n",
       "      <td>delay level 1</td>\n",
       "    </tr>\n",
       "    <tr>\n",
       "      <th>3</th>\n",
       "      <td>AirAsia</td>\n",
       "      <td>Kuala Lumpur International Airport</td>\n",
       "      <td>Sandakan Airport</td>\n",
       "      <td>0</td>\n",
       "      <td>175</td>\n",
       "      <td>2.92</td>\n",
       "      <td>Friday</td>\n",
       "      <td>0</td>\n",
       "      <td>22</td>\n",
       "      <td>0</td>\n",
       "      <td>on time</td>\n",
       "    </tr>\n",
       "    <tr>\n",
       "      <th>4</th>\n",
       "      <td>AirAsia</td>\n",
       "      <td>Kuala Lumpur International Airport</td>\n",
       "      <td>Noi Bai International Airport</td>\n",
       "      <td>0</td>\n",
       "      <td>195</td>\n",
       "      <td>3.25</td>\n",
       "      <td>Friday</td>\n",
       "      <td>0</td>\n",
       "      <td>22</td>\n",
       "      <td>0</td>\n",
       "      <td>on time</td>\n",
       "    </tr>\n",
       "  </tbody>\n",
       "</table>\n",
       "</div>"
      ],
      "text/plain": [
       "  airline_name              departure_airport_name  \\\n",
       "0      AirAsia  Kuala Lumpur International Airport   \n",
       "1    Batik Air  Kuala Lumpur International Airport   \n",
       "2  Malindo Air  Kuala Lumpur International Airport   \n",
       "3      AirAsia  Kuala Lumpur International Airport   \n",
       "4      AirAsia  Kuala Lumpur International Airport   \n",
       "\n",
       "                   arrival_airport_name  delay  \\\n",
       "0           Sultan Ismail Petra Airport      2   \n",
       "1  Soekarno-Hatta International Airport      8   \n",
       "2  Soekarno-Hatta International Airport      8   \n",
       "3                      Sandakan Airport      0   \n",
       "4         Noi Bai International Airport      0   \n",
       "\n",
       "   scheduled_flight_duration_mins  scheduled_flight_duration_hours  \\\n",
       "0                              65                             1.08   \n",
       "1                             115                             1.92   \n",
       "2                             115                             1.92   \n",
       "3                             175                             2.92   \n",
       "4                             195                             3.25   \n",
       "\n",
       "  departure_day  dep_weekend  departure_hour  flag_delay    group_delay  \n",
       "0        Friday            0              22           1  delay level 1  \n",
       "1        Friday            0              22           1  delay level 1  \n",
       "2        Friday            0              22           1  delay level 1  \n",
       "3        Friday            0              22           0        on time  \n",
       "4        Friday            0              22           0        on time  "
      ]
     },
     "execution_count": 32,
     "metadata": {},
     "output_type": "execute_result"
    }
   ],
   "source": [
    "df = train1.copy()\n",
    "df.head()"
   ]
  },
  {
   "cell_type": "code",
   "execution_count": 33,
   "metadata": {
    "ExecuteTime": {
     "end_time": "2019-11-14T10:20:43.289000Z",
     "start_time": "2019-11-14T10:20:43.151500Z"
    }
   },
   "outputs": [
    {
     "data": {
      "text/html": [
       "<div>\n",
       "<style scoped>\n",
       "    .dataframe tbody tr th:only-of-type {\n",
       "        vertical-align: middle;\n",
       "    }\n",
       "\n",
       "    .dataframe tbody tr th {\n",
       "        vertical-align: top;\n",
       "    }\n",
       "\n",
       "    .dataframe thead th {\n",
       "        text-align: right;\n",
       "    }\n",
       "</style>\n",
       "<table border=\"1\" class=\"dataframe\">\n",
       "  <thead>\n",
       "    <tr style=\"text-align: right;\">\n",
       "      <th></th>\n",
       "      <th>delay</th>\n",
       "    </tr>\n",
       "    <tr>\n",
       "      <th>departure_hour</th>\n",
       "      <th></th>\n",
       "    </tr>\n",
       "  </thead>\n",
       "  <tbody>\n",
       "    <tr>\n",
       "      <th>0</th>\n",
       "      <td>7.37</td>\n",
       "    </tr>\n",
       "    <tr>\n",
       "      <th>1</th>\n",
       "      <td>8.48</td>\n",
       "    </tr>\n",
       "    <tr>\n",
       "      <th>2</th>\n",
       "      <td>6.56</td>\n",
       "    </tr>\n",
       "    <tr>\n",
       "      <th>3</th>\n",
       "      <td>9.15</td>\n",
       "    </tr>\n",
       "    <tr>\n",
       "      <th>4</th>\n",
       "      <td>8.51</td>\n",
       "    </tr>\n",
       "    <tr>\n",
       "      <th>5</th>\n",
       "      <td>8.47</td>\n",
       "    </tr>\n",
       "    <tr>\n",
       "      <th>6</th>\n",
       "      <td>8.67</td>\n",
       "    </tr>\n",
       "    <tr>\n",
       "      <th>7</th>\n",
       "      <td>9.31</td>\n",
       "    </tr>\n",
       "    <tr>\n",
       "      <th>8</th>\n",
       "      <td>10.77</td>\n",
       "    </tr>\n",
       "    <tr>\n",
       "      <th>9</th>\n",
       "      <td>13.28</td>\n",
       "    </tr>\n",
       "    <tr>\n",
       "      <th>10</th>\n",
       "      <td>12.45</td>\n",
       "    </tr>\n",
       "    <tr>\n",
       "      <th>11</th>\n",
       "      <td>12.77</td>\n",
       "    </tr>\n",
       "    <tr>\n",
       "      <th>12</th>\n",
       "      <td>11.85</td>\n",
       "    </tr>\n",
       "    <tr>\n",
       "      <th>13</th>\n",
       "      <td>13.45</td>\n",
       "    </tr>\n",
       "    <tr>\n",
       "      <th>14</th>\n",
       "      <td>14.71</td>\n",
       "    </tr>\n",
       "    <tr>\n",
       "      <th>15</th>\n",
       "      <td>10.84</td>\n",
       "    </tr>\n",
       "    <tr>\n",
       "      <th>16</th>\n",
       "      <td>9.41</td>\n",
       "    </tr>\n",
       "    <tr>\n",
       "      <th>17</th>\n",
       "      <td>9.38</td>\n",
       "    </tr>\n",
       "    <tr>\n",
       "      <th>18</th>\n",
       "      <td>10.29</td>\n",
       "    </tr>\n",
       "    <tr>\n",
       "      <th>19</th>\n",
       "      <td>5.24</td>\n",
       "    </tr>\n",
       "    <tr>\n",
       "      <th>20</th>\n",
       "      <td>8.27</td>\n",
       "    </tr>\n",
       "    <tr>\n",
       "      <th>21</th>\n",
       "      <td>1.87</td>\n",
       "    </tr>\n",
       "    <tr>\n",
       "      <th>22</th>\n",
       "      <td>2.21</td>\n",
       "    </tr>\n",
       "    <tr>\n",
       "      <th>23</th>\n",
       "      <td>4.51</td>\n",
       "    </tr>\n",
       "  </tbody>\n",
       "</table>\n",
       "</div>"
      ],
      "text/plain": [
       "                delay\n",
       "departure_hour       \n",
       "0                7.37\n",
       "1                8.48\n",
       "2                6.56\n",
       "3                9.15\n",
       "4                8.51\n",
       "5                8.47\n",
       "6                8.67\n",
       "7                9.31\n",
       "8               10.77\n",
       "9               13.28\n",
       "10              12.45\n",
       "11              12.77\n",
       "12              11.85\n",
       "13              13.45\n",
       "14              14.71\n",
       "15              10.84\n",
       "16               9.41\n",
       "17               9.38\n",
       "18              10.29\n",
       "19               5.24\n",
       "20               8.27\n",
       "21               1.87\n",
       "22               2.21\n",
       "23               4.51"
      ]
     },
     "execution_count": 33,
     "metadata": {},
     "output_type": "execute_result"
    }
   ],
   "source": [
    "group_time = df[['departure_hour', 'delay']].groupby(by='departure_hour').mean().round(2).sort_values(by =['departure_hour'])\n",
    "\n",
    "group_time"
   ]
  },
  {
   "cell_type": "code",
   "execution_count": 34,
   "metadata": {
    "ExecuteTime": {
     "end_time": "2019-11-14T10:20:44.084000Z",
     "start_time": "2019-11-14T10:20:43.289000Z"
    }
   },
   "outputs": [
    {
     "name": "stdout",
     "output_type": "stream",
     "text": [
      "Best 3 time to take a flight with mean delay is lower than any other time are\n",
      "\n",
      "                delay\n",
      "departure_hour       \n",
      "21               1.87\n",
      "22               2.21\n",
      "23               4.51\n"
     ]
    },
    {
     "data": {
      "image/png": "[encoded data removed]",
      "text/plain": [
       "<Figure size 720x720 with 1 Axes>"
      ]
     },
     "metadata": {
      "needs_background": "light"
     },
     "output_type": "display_data"
    }
   ],
   "source": [
    "print('Best 3 time to take a flight with mean delay is lower than any other time are\\n')\n",
    "print(group_time.sort_values(by =['delay']).head(3))\n",
    "\n",
    "\n",
    "# figure size\n",
    "plt.figure(figsize = (10, 10))\n",
    "\n",
    "# x-coordinates of bars   \n",
    "x = group_time.index\n",
    "  \n",
    "# y-coordinates of bars \n",
    "y = group_time['delay'] \n",
    "  \n",
    "# plotting a bar chart \n",
    "plt.bar(x, y, width = 0.8, color = ['maroon', 'lightcoral']) \n",
    "  \n",
    "# naming the x-axis \n",
    "plt.xlabel('Departure Hour') \n",
    "# naming the y-axis \n",
    "plt.ylabel('Mean Delay Time (in minutes)') \n",
    "# plot title \n",
    "plt.title('Bar Chart of Departure Hour x Delay Time') \n",
    "\n",
    "# function to show the plot \n",
    "plt.show() "
   ]
  },
  {
   "cell_type": "markdown",
   "metadata": {},
   "source": [
    "### Best airline to take a flight\n",
    "\n",
    "Best airline to take a flight is where the average of delay is lowest."
   ]
  },
  {
   "cell_type": "code",
   "execution_count": 35,
   "metadata": {
    "ExecuteTime": {
     "end_time": "2019-11-14T10:20:44.109000Z",
     "start_time": "2019-11-14T10:20:44.086500Z"
    }
   },
   "outputs": [
    {
     "data": {
      "text/html": [
       "<div>\n",
       "<style scoped>\n",
       "    .dataframe tbody tr th:only-of-type {\n",
       "        vertical-align: middle;\n",
       "    }\n",
       "\n",
       "    .dataframe tbody tr th {\n",
       "        vertical-align: top;\n",
       "    }\n",
       "\n",
       "    .dataframe thead th {\n",
       "        text-align: right;\n",
       "    }\n",
       "</style>\n",
       "<table border=\"1\" class=\"dataframe\">\n",
       "  <thead>\n",
       "    <tr style=\"text-align: right;\">\n",
       "      <th></th>\n",
       "      <th>airline_name</th>\n",
       "      <th>departure_airport_name</th>\n",
       "      <th>arrival_airport_name</th>\n",
       "      <th>delay</th>\n",
       "      <th>scheduled_flight_duration_mins</th>\n",
       "      <th>scheduled_flight_duration_hours</th>\n",
       "      <th>departure_day</th>\n",
       "      <th>dep_weekend</th>\n",
       "      <th>departure_hour</th>\n",
       "      <th>flag_delay</th>\n",
       "      <th>group_delay</th>\n",
       "    </tr>\n",
       "  </thead>\n",
       "  <tbody>\n",
       "    <tr>\n",
       "      <th>0</th>\n",
       "      <td>AirAsia</td>\n",
       "      <td>Kuala Lumpur International Airport</td>\n",
       "      <td>Sultan Ismail Petra Airport</td>\n",
       "      <td>2</td>\n",
       "      <td>65</td>\n",
       "      <td>1.08</td>\n",
       "      <td>Friday</td>\n",
       "      <td>0</td>\n",
       "      <td>22</td>\n",
       "      <td>1</td>\n",
       "      <td>delay level 1</td>\n",
       "    </tr>\n",
       "    <tr>\n",
       "      <th>1</th>\n",
       "      <td>Batik Air</td>\n",
       "      <td>Kuala Lumpur International Airport</td>\n",
       "      <td>Soekarno-Hatta International Airport</td>\n",
       "      <td>8</td>\n",
       "      <td>115</td>\n",
       "      <td>1.92</td>\n",
       "      <td>Friday</td>\n",
       "      <td>0</td>\n",
       "      <td>22</td>\n",
       "      <td>1</td>\n",
       "      <td>delay level 1</td>\n",
       "    </tr>\n",
       "    <tr>\n",
       "      <th>2</th>\n",
       "      <td>Malindo Air</td>\n",
       "      <td>Kuala Lumpur International Airport</td>\n",
       "      <td>Soekarno-Hatta International Airport</td>\n",
       "      <td>8</td>\n",
       "      <td>115</td>\n",
       "      <td>1.92</td>\n",
       "      <td>Friday</td>\n",
       "      <td>0</td>\n",
       "      <td>22</td>\n",
       "      <td>1</td>\n",
       "      <td>delay level 1</td>\n",
       "    </tr>\n",
       "    <tr>\n",
       "      <th>3</th>\n",
       "      <td>AirAsia</td>\n",
       "      <td>Kuala Lumpur International Airport</td>\n",
       "      <td>Sandakan Airport</td>\n",
       "      <td>0</td>\n",
       "      <td>175</td>\n",
       "      <td>2.92</td>\n",
       "      <td>Friday</td>\n",
       "      <td>0</td>\n",
       "      <td>22</td>\n",
       "      <td>0</td>\n",
       "      <td>on time</td>\n",
       "    </tr>\n",
       "    <tr>\n",
       "      <th>4</th>\n",
       "      <td>AirAsia</td>\n",
       "      <td>Kuala Lumpur International Airport</td>\n",
       "      <td>Noi Bai International Airport</td>\n",
       "      <td>0</td>\n",
       "      <td>195</td>\n",
       "      <td>3.25</td>\n",
       "      <td>Friday</td>\n",
       "      <td>0</td>\n",
       "      <td>22</td>\n",
       "      <td>0</td>\n",
       "      <td>on time</td>\n",
       "    </tr>\n",
       "  </tbody>\n",
       "</table>\n",
       "</div>"
      ],
      "text/plain": [
       "  airline_name              departure_airport_name  \\\n",
       "0      AirAsia  Kuala Lumpur International Airport   \n",
       "1    Batik Air  Kuala Lumpur International Airport   \n",
       "2  Malindo Air  Kuala Lumpur International Airport   \n",
       "3      AirAsia  Kuala Lumpur International Airport   \n",
       "4      AirAsia  Kuala Lumpur International Airport   \n",
       "\n",
       "                   arrival_airport_name  delay  \\\n",
       "0           Sultan Ismail Petra Airport      2   \n",
       "1  Soekarno-Hatta International Airport      8   \n",
       "2  Soekarno-Hatta International Airport      8   \n",
       "3                      Sandakan Airport      0   \n",
       "4         Noi Bai International Airport      0   \n",
       "\n",
       "   scheduled_flight_duration_mins  scheduled_flight_duration_hours  \\\n",
       "0                              65                             1.08   \n",
       "1                             115                             1.92   \n",
       "2                             115                             1.92   \n",
       "3                             175                             2.92   \n",
       "4                             195                             3.25   \n",
       "\n",
       "  departure_day  dep_weekend  departure_hour  flag_delay    group_delay  \n",
       "0        Friday            0              22           1  delay level 1  \n",
       "1        Friday            0              22           1  delay level 1  \n",
       "2        Friday            0              22           1  delay level 1  \n",
       "3        Friday            0              22           0        on time  \n",
       "4        Friday            0              22           0        on time  "
      ]
     },
     "execution_count": 35,
     "metadata": {},
     "output_type": "execute_result"
    }
   ],
   "source": [
    "df = train1.copy()\n",
    "df.head()"
   ]
  },
  {
   "cell_type": "code",
   "execution_count": 36,
   "metadata": {
    "ExecuteTime": {
     "end_time": "2019-11-14T10:20:44.276500Z",
     "start_time": "2019-11-14T10:20:44.111500Z"
    }
   },
   "outputs": [
    {
     "data": {
      "text/html": [
       "<div>\n",
       "<style scoped>\n",
       "    .dataframe tbody tr th:only-of-type {\n",
       "        vertical-align: middle;\n",
       "    }\n",
       "\n",
       "    .dataframe tbody tr th {\n",
       "        vertical-align: top;\n",
       "    }\n",
       "\n",
       "    .dataframe thead th {\n",
       "        text-align: right;\n",
       "    }\n",
       "</style>\n",
       "<table border=\"1\" class=\"dataframe\">\n",
       "  <thead>\n",
       "    <tr style=\"text-align: right;\">\n",
       "      <th></th>\n",
       "      <th>delay</th>\n",
       "    </tr>\n",
       "    <tr>\n",
       "      <th>airline_name</th>\n",
       "      <th></th>\n",
       "    </tr>\n",
       "  </thead>\n",
       "  <tbody>\n",
       "    <tr>\n",
       "      <th>AHK</th>\n",
       "      <td>9.00</td>\n",
       "    </tr>\n",
       "    <tr>\n",
       "      <th>ANA</th>\n",
       "      <td>5.82</td>\n",
       "    </tr>\n",
       "    <tr>\n",
       "      <th>Air Astana</th>\n",
       "      <td>10.79</td>\n",
       "    </tr>\n",
       "    <tr>\n",
       "      <th>Air Canada</th>\n",
       "      <td>6.99</td>\n",
       "    </tr>\n",
       "    <tr>\n",
       "      <th>Air China</th>\n",
       "      <td>19.60</td>\n",
       "    </tr>\n",
       "    <tr>\n",
       "      <th>...</th>\n",
       "      <td>...</td>\n",
       "    </tr>\n",
       "    <tr>\n",
       "      <th>Virgin Australia</th>\n",
       "      <td>15.07</td>\n",
       "    </tr>\n",
       "    <tr>\n",
       "      <th>Wings Air (Indonesia)</th>\n",
       "      <td>9.12</td>\n",
       "    </tr>\n",
       "    <tr>\n",
       "      <th>Xiamen Airlines</th>\n",
       "      <td>11.03</td>\n",
       "    </tr>\n",
       "    <tr>\n",
       "      <th>YTO Cargo</th>\n",
       "      <td>0.00</td>\n",
       "    </tr>\n",
       "    <tr>\n",
       "      <th>flynas</th>\n",
       "      <td>24.12</td>\n",
       "    </tr>\n",
       "  </tbody>\n",
       "</table>\n",
       "<p>103 rows × 1 columns</p>\n",
       "</div>"
      ],
      "text/plain": [
       "                       delay\n",
       "airline_name                \n",
       "AHK                     9.00\n",
       "ANA                     5.82\n",
       "Air Astana             10.79\n",
       "Air Canada              6.99\n",
       "Air China              19.60\n",
       "...                      ...\n",
       "Virgin Australia       15.07\n",
       "Wings Air (Indonesia)   9.12\n",
       "Xiamen Airlines        11.03\n",
       "YTO Cargo               0.00\n",
       "flynas                 24.12\n",
       "\n",
       "[103 rows x 1 columns]"
      ]
     },
     "execution_count": 36,
     "metadata": {},
     "output_type": "execute_result"
    }
   ],
   "source": [
    "group_airline = df[['airline_name', 'delay']].groupby(by='airline_name').mean().round(2).sort_values(by =['airline_name'])\n",
    "\n",
    "group_airline"
   ]
  },
  {
   "cell_type": "code",
   "execution_count": 37,
   "metadata": {
    "ExecuteTime": {
     "end_time": "2019-11-14T10:20:44.826500Z",
     "start_time": "2019-11-14T10:20:44.279000Z"
    }
   },
   "outputs": [
    {
     "name": "stdout",
     "output_type": "stream",
     "text": [
      "Best airlines with 0 delay time to take a flight are\n",
      "\n",
      "                             delay\n",
      "airline_name                      \n",
      "Firefly                        0.0\n",
      "Guangxi Beibu Gulf Airlines    0.0\n",
      "Hong Kong Airlines             0.0\n",
      "Silk Way West                  0.0\n",
      "YTO Cargo                      0.0\n"
     ]
    },
    {
     "data": {
      "image/png": "[encoded data removed]",
      "text/plain": [
       "<Figure size 1440x720 with 1 Axes>"
      ]
     },
     "metadata": {
      "needs_background": "light"
     },
     "output_type": "display_data"
    }
   ],
   "source": [
    "print('Best airlines with 0 delay time to take a flight are\\n')\n",
    "print(group_airline[group_airline.delay == 0])\n",
    "\n",
    "best_airline = group_airline.sort_values(by =['delay']).head(10)\n",
    "\n",
    "# figure size\n",
    "plt.figure(figsize = (20, 10))\n",
    "\n",
    "# x-coordinates of bars   \n",
    "x = best_airline.index\n",
    "  \n",
    "# y-coordinates of bars \n",
    "y = best_airline['delay'] \n",
    "  \n",
    "# plotting a bar chart \n",
    "plt.bar(x, y, width = 0.8, color = ['red', 'indianred']) \n",
    "  \n",
    "# naming the x-axis \n",
    "plt.xlabel('Airline Name') \n",
    "# naming the y-axis \n",
    "plt.ylabel('Mean Delay Time (in minutes)') \n",
    "# plot title \n",
    "plt.title('Bar Chart of 10 Best Airline x Delay Time') \n",
    "\n",
    "# function to show the plot \n",
    "plt.show() "
   ]
  },
  {
   "cell_type": "markdown",
   "metadata": {},
   "source": [
    "### Best time and best airline to take a flight"
   ]
  },
  {
   "cell_type": "code",
   "execution_count": 38,
   "metadata": {
    "ExecuteTime": {
     "end_time": "2019-11-14T10:20:44.849000Z",
     "start_time": "2019-11-14T10:20:44.829000Z"
    }
   },
   "outputs": [
    {
     "data": {
      "text/html": [
       "<div>\n",
       "<style scoped>\n",
       "    .dataframe tbody tr th:only-of-type {\n",
       "        vertical-align: middle;\n",
       "    }\n",
       "\n",
       "    .dataframe tbody tr th {\n",
       "        vertical-align: top;\n",
       "    }\n",
       "\n",
       "    .dataframe thead th {\n",
       "        text-align: right;\n",
       "    }\n",
       "</style>\n",
       "<table border=\"1\" class=\"dataframe\">\n",
       "  <thead>\n",
       "    <tr style=\"text-align: right;\">\n",
       "      <th></th>\n",
       "      <th>airline_name</th>\n",
       "      <th>departure_airport_name</th>\n",
       "      <th>arrival_airport_name</th>\n",
       "      <th>delay</th>\n",
       "      <th>scheduled_flight_duration_mins</th>\n",
       "      <th>scheduled_flight_duration_hours</th>\n",
       "      <th>departure_day</th>\n",
       "      <th>dep_weekend</th>\n",
       "      <th>departure_hour</th>\n",
       "      <th>flag_delay</th>\n",
       "      <th>group_delay</th>\n",
       "    </tr>\n",
       "  </thead>\n",
       "  <tbody>\n",
       "    <tr>\n",
       "      <th>0</th>\n",
       "      <td>AirAsia</td>\n",
       "      <td>Kuala Lumpur International Airport</td>\n",
       "      <td>Sultan Ismail Petra Airport</td>\n",
       "      <td>2</td>\n",
       "      <td>65</td>\n",
       "      <td>1.08</td>\n",
       "      <td>Friday</td>\n",
       "      <td>0</td>\n",
       "      <td>22</td>\n",
       "      <td>1</td>\n",
       "      <td>delay level 1</td>\n",
       "    </tr>\n",
       "    <tr>\n",
       "      <th>1</th>\n",
       "      <td>Batik Air</td>\n",
       "      <td>Kuala Lumpur International Airport</td>\n",
       "      <td>Soekarno-Hatta International Airport</td>\n",
       "      <td>8</td>\n",
       "      <td>115</td>\n",
       "      <td>1.92</td>\n",
       "      <td>Friday</td>\n",
       "      <td>0</td>\n",
       "      <td>22</td>\n",
       "      <td>1</td>\n",
       "      <td>delay level 1</td>\n",
       "    </tr>\n",
       "    <tr>\n",
       "      <th>2</th>\n",
       "      <td>Malindo Air</td>\n",
       "      <td>Kuala Lumpur International Airport</td>\n",
       "      <td>Soekarno-Hatta International Airport</td>\n",
       "      <td>8</td>\n",
       "      <td>115</td>\n",
       "      <td>1.92</td>\n",
       "      <td>Friday</td>\n",
       "      <td>0</td>\n",
       "      <td>22</td>\n",
       "      <td>1</td>\n",
       "      <td>delay level 1</td>\n",
       "    </tr>\n",
       "    <tr>\n",
       "      <th>3</th>\n",
       "      <td>AirAsia</td>\n",
       "      <td>Kuala Lumpur International Airport</td>\n",
       "      <td>Sandakan Airport</td>\n",
       "      <td>0</td>\n",
       "      <td>175</td>\n",
       "      <td>2.92</td>\n",
       "      <td>Friday</td>\n",
       "      <td>0</td>\n",
       "      <td>22</td>\n",
       "      <td>0</td>\n",
       "      <td>on time</td>\n",
       "    </tr>\n",
       "    <tr>\n",
       "      <th>4</th>\n",
       "      <td>AirAsia</td>\n",
       "      <td>Kuala Lumpur International Airport</td>\n",
       "      <td>Noi Bai International Airport</td>\n",
       "      <td>0</td>\n",
       "      <td>195</td>\n",
       "      <td>3.25</td>\n",
       "      <td>Friday</td>\n",
       "      <td>0</td>\n",
       "      <td>22</td>\n",
       "      <td>0</td>\n",
       "      <td>on time</td>\n",
       "    </tr>\n",
       "  </tbody>\n",
       "</table>\n",
       "</div>"
      ],
      "text/plain": [
       "  airline_name              departure_airport_name  \\\n",
       "0      AirAsia  Kuala Lumpur International Airport   \n",
       "1    Batik Air  Kuala Lumpur International Airport   \n",
       "2  Malindo Air  Kuala Lumpur International Airport   \n",
       "3      AirAsia  Kuala Lumpur International Airport   \n",
       "4      AirAsia  Kuala Lumpur International Airport   \n",
       "\n",
       "                   arrival_airport_name  delay  \\\n",
       "0           Sultan Ismail Petra Airport      2   \n",
       "1  Soekarno-Hatta International Airport      8   \n",
       "2  Soekarno-Hatta International Airport      8   \n",
       "3                      Sandakan Airport      0   \n",
       "4         Noi Bai International Airport      0   \n",
       "\n",
       "   scheduled_flight_duration_mins  scheduled_flight_duration_hours  \\\n",
       "0                              65                             1.08   \n",
       "1                             115                             1.92   \n",
       "2                             115                             1.92   \n",
       "3                             175                             2.92   \n",
       "4                             195                             3.25   \n",
       "\n",
       "  departure_day  dep_weekend  departure_hour  flag_delay    group_delay  \n",
       "0        Friday            0              22           1  delay level 1  \n",
       "1        Friday            0              22           1  delay level 1  \n",
       "2        Friday            0              22           1  delay level 1  \n",
       "3        Friday            0              22           0        on time  \n",
       "4        Friday            0              22           0        on time  "
      ]
     },
     "execution_count": 38,
     "metadata": {},
     "output_type": "execute_result"
    }
   ],
   "source": [
    "df = train1.copy()\n",
    "df.head()"
   ]
  },
  {
   "cell_type": "code",
   "execution_count": 39,
   "metadata": {
    "ExecuteTime": {
     "end_time": "2019-11-14T10:20:45.009000Z",
     "start_time": "2019-11-14T10:20:44.851500Z"
    }
   },
   "outputs": [
    {
     "data": {
      "text/html": [
       "<div>\n",
       "<style scoped>\n",
       "    .dataframe tbody tr th:only-of-type {\n",
       "        vertical-align: middle;\n",
       "    }\n",
       "\n",
       "    .dataframe tbody tr th {\n",
       "        vertical-align: top;\n",
       "    }\n",
       "\n",
       "    .dataframe thead th {\n",
       "        text-align: right;\n",
       "    }\n",
       "</style>\n",
       "<table border=\"1\" class=\"dataframe\">\n",
       "  <thead>\n",
       "    <tr style=\"text-align: right;\">\n",
       "      <th></th>\n",
       "      <th></th>\n",
       "      <th>delay</th>\n",
       "    </tr>\n",
       "    <tr>\n",
       "      <th>departure_hour</th>\n",
       "      <th>airline_name</th>\n",
       "      <th></th>\n",
       "    </tr>\n",
       "  </thead>\n",
       "  <tbody>\n",
       "    <tr>\n",
       "      <th rowspan=\"5\" valign=\"top\">0</th>\n",
       "      <th>ANA</th>\n",
       "      <td>5.85</td>\n",
       "    </tr>\n",
       "    <tr>\n",
       "      <th>Air Canada</th>\n",
       "      <td>6.99</td>\n",
       "    </tr>\n",
       "    <tr>\n",
       "      <th>Air India</th>\n",
       "      <td>3.12</td>\n",
       "    </tr>\n",
       "    <tr>\n",
       "      <th>Air New Zealand</th>\n",
       "      <td>14.42</td>\n",
       "    </tr>\n",
       "    <tr>\n",
       "      <th>AirAsia</th>\n",
       "      <td>4.51</td>\n",
       "    </tr>\n",
       "    <tr>\n",
       "      <th>...</th>\n",
       "      <th>...</th>\n",
       "      <td>...</td>\n",
       "    </tr>\n",
       "    <tr>\n",
       "      <th rowspan=\"5\" valign=\"top\">23</th>\n",
       "      <th>SilkAir</th>\n",
       "      <td>12.13</td>\n",
       "    </tr>\n",
       "    <tr>\n",
       "      <th>Singapore Airlines</th>\n",
       "      <td>12.13</td>\n",
       "    </tr>\n",
       "    <tr>\n",
       "      <th>United Airlines</th>\n",
       "      <td>3.96</td>\n",
       "    </tr>\n",
       "    <tr>\n",
       "      <th>Virgin Australia</th>\n",
       "      <td>12.13</td>\n",
       "    </tr>\n",
       "    <tr>\n",
       "      <th>Xiamen Airlines</th>\n",
       "      <td>6.71</td>\n",
       "    </tr>\n",
       "  </tbody>\n",
       "</table>\n",
       "<p>675 rows × 1 columns</p>\n",
       "</div>"
      ],
      "text/plain": [
       "                                   delay\n",
       "departure_hour airline_name             \n",
       "0              ANA                  5.85\n",
       "               Air Canada           6.99\n",
       "               Air India            3.12\n",
       "               Air New Zealand     14.42\n",
       "               AirAsia              4.51\n",
       "...                                  ...\n",
       "23             SilkAir             12.13\n",
       "               Singapore Airlines  12.13\n",
       "               United Airlines      3.96\n",
       "               Virgin Australia    12.13\n",
       "               Xiamen Airlines      6.71\n",
       "\n",
       "[675 rows x 1 columns]"
      ]
     },
     "execution_count": 39,
     "metadata": {},
     "output_type": "execute_result"
    }
   ],
   "source": [
    "group_time_airline = df[['departure_hour', 'airline_name', 'delay']]\n",
    "group_time_airline = group_time_airline.groupby(['departure_hour', 'airline_name']).mean().round(2).sort_values(by =['departure_hour', 'airline_name'])\n",
    "\n",
    "group_time_airline"
   ]
  },
  {
   "cell_type": "code",
   "execution_count": 40,
   "metadata": {
    "ExecuteTime": {
     "end_time": "2019-11-14T10:20:45.334000Z",
     "start_time": "2019-11-14T10:20:45.011500Z"
    }
   },
   "outputs": [
    {
     "name": "stdout",
     "output_type": "stream",
     "text": [
      "Best airlines with minimum mean delay time to take a flight per hour are listed below:\n"
     ]
    },
    {
     "data": {
      "text/html": [
       "<div>\n",
       "<style scoped>\n",
       "    .dataframe tbody tr th:only-of-type {\n",
       "        vertical-align: middle;\n",
       "    }\n",
       "\n",
       "    .dataframe tbody tr th {\n",
       "        vertical-align: top;\n",
       "    }\n",
       "\n",
       "    .dataframe thead th {\n",
       "        text-align: right;\n",
       "    }\n",
       "</style>\n",
       "<table border=\"1\" class=\"dataframe\">\n",
       "  <thead>\n",
       "    <tr style=\"text-align: right;\">\n",
       "      <th></th>\n",
       "      <th>departure_hour</th>\n",
       "      <th>airline_name</th>\n",
       "      <th>mean delay in minute(s)</th>\n",
       "    </tr>\n",
       "  </thead>\n",
       "  <tbody>\n",
       "    <tr>\n",
       "      <th>0</th>\n",
       "      <td>0</td>\n",
       "      <td>Firefly</td>\n",
       "      <td>0.00</td>\n",
       "    </tr>\n",
       "    <tr>\n",
       "      <th>1</th>\n",
       "      <td>1</td>\n",
       "      <td>Firefly</td>\n",
       "      <td>0.00</td>\n",
       "    </tr>\n",
       "    <tr>\n",
       "      <th>2</th>\n",
       "      <td>2</td>\n",
       "      <td>Firefly</td>\n",
       "      <td>0.00</td>\n",
       "    </tr>\n",
       "    <tr>\n",
       "      <th>3</th>\n",
       "      <td>3</td>\n",
       "      <td>Firefly</td>\n",
       "      <td>0.00</td>\n",
       "    </tr>\n",
       "    <tr>\n",
       "      <th>4</th>\n",
       "      <td>4</td>\n",
       "      <td>Firefly</td>\n",
       "      <td>0.00</td>\n",
       "    </tr>\n",
       "    <tr>\n",
       "      <th>5</th>\n",
       "      <td>5</td>\n",
       "      <td>Firefly</td>\n",
       "      <td>0.00</td>\n",
       "    </tr>\n",
       "    <tr>\n",
       "      <th>6</th>\n",
       "      <td>6</td>\n",
       "      <td>Firefly</td>\n",
       "      <td>0.00</td>\n",
       "    </tr>\n",
       "    <tr>\n",
       "      <th>7</th>\n",
       "      <td>7</td>\n",
       "      <td>Firefly</td>\n",
       "      <td>0.00</td>\n",
       "    </tr>\n",
       "    <tr>\n",
       "      <th>8</th>\n",
       "      <td>8</td>\n",
       "      <td>Firefly</td>\n",
       "      <td>0.00</td>\n",
       "    </tr>\n",
       "    <tr>\n",
       "      <th>9</th>\n",
       "      <td>9</td>\n",
       "      <td>Firefly</td>\n",
       "      <td>0.00</td>\n",
       "    </tr>\n",
       "    <tr>\n",
       "      <th>10</th>\n",
       "      <td>10</td>\n",
       "      <td>Firefly</td>\n",
       "      <td>0.00</td>\n",
       "    </tr>\n",
       "    <tr>\n",
       "      <th>11</th>\n",
       "      <td>11</td>\n",
       "      <td>Firefly</td>\n",
       "      <td>0.00</td>\n",
       "    </tr>\n",
       "    <tr>\n",
       "      <th>12</th>\n",
       "      <td>12</td>\n",
       "      <td>Cathay Pacific</td>\n",
       "      <td>0.00</td>\n",
       "    </tr>\n",
       "    <tr>\n",
       "      <th>13</th>\n",
       "      <td>13</td>\n",
       "      <td>Firefly</td>\n",
       "      <td>0.00</td>\n",
       "    </tr>\n",
       "    <tr>\n",
       "      <th>14</th>\n",
       "      <td>14</td>\n",
       "      <td>Royal Brunei Airlines</td>\n",
       "      <td>0.00</td>\n",
       "    </tr>\n",
       "    <tr>\n",
       "      <th>15</th>\n",
       "      <td>15</td>\n",
       "      <td>Ethiopian Airlines</td>\n",
       "      <td>2.12</td>\n",
       "    </tr>\n",
       "    <tr>\n",
       "      <th>16</th>\n",
       "      <td>16</td>\n",
       "      <td>Silk Way West</td>\n",
       "      <td>0.00</td>\n",
       "    </tr>\n",
       "    <tr>\n",
       "      <th>17</th>\n",
       "      <td>17</td>\n",
       "      <td>Raya Airways</td>\n",
       "      <td>0.00</td>\n",
       "    </tr>\n",
       "    <tr>\n",
       "      <th>18</th>\n",
       "      <td>18</td>\n",
       "      <td>China Southern Airlines</td>\n",
       "      <td>0.00</td>\n",
       "    </tr>\n",
       "    <tr>\n",
       "      <th>19</th>\n",
       "      <td>19</td>\n",
       "      <td>Malaysia Airlines</td>\n",
       "      <td>0.00</td>\n",
       "    </tr>\n",
       "    <tr>\n",
       "      <th>20</th>\n",
       "      <td>20</td>\n",
       "      <td>Uni-Top Airlines</td>\n",
       "      <td>8.08</td>\n",
       "    </tr>\n",
       "    <tr>\n",
       "      <th>21</th>\n",
       "      <td>21</td>\n",
       "      <td>Philippine Airlines</td>\n",
       "      <td>0.44</td>\n",
       "    </tr>\n",
       "    <tr>\n",
       "      <th>22</th>\n",
       "      <td>22</td>\n",
       "      <td>Cargolux</td>\n",
       "      <td>0.00</td>\n",
       "    </tr>\n",
       "    <tr>\n",
       "      <th>23</th>\n",
       "      <td>23</td>\n",
       "      <td>Firefly</td>\n",
       "      <td>0.00</td>\n",
       "    </tr>\n",
       "  </tbody>\n",
       "</table>\n",
       "</div>"
      ],
      "text/plain": [
       "    departure_hour             airline_name  mean delay in minute(s)\n",
       "0                0                  Firefly                     0.00\n",
       "1                1                  Firefly                     0.00\n",
       "2                2                  Firefly                     0.00\n",
       "3                3                  Firefly                     0.00\n",
       "4                4                  Firefly                     0.00\n",
       "5                5                  Firefly                     0.00\n",
       "6                6                  Firefly                     0.00\n",
       "7                7                  Firefly                     0.00\n",
       "8                8                  Firefly                     0.00\n",
       "9                9                  Firefly                     0.00\n",
       "10              10                  Firefly                     0.00\n",
       "11              11                  Firefly                     0.00\n",
       "12              12           Cathay Pacific                     0.00\n",
       "13              13                  Firefly                     0.00\n",
       "14              14    Royal Brunei Airlines                     0.00\n",
       "15              15       Ethiopian Airlines                     2.12\n",
       "16              16            Silk Way West                     0.00\n",
       "17              17             Raya Airways                     0.00\n",
       "18              18  China Southern Airlines                     0.00\n",
       "19              19        Malaysia Airlines                     0.00\n",
       "20              20         Uni-Top Airlines                     8.08\n",
       "21              21      Philippine Airlines                     0.44\n",
       "22              22                 Cargolux                     0.00\n",
       "23              23                  Firefly                     0.00"
      ]
     },
     "execution_count": 40,
     "metadata": {},
     "output_type": "execute_result"
    }
   ],
   "source": [
    "print('Best airlines with minimum mean delay time to take a flight per hour are listed below:')\n",
    "\n",
    "time = []\n",
    "planes = []\n",
    "delays = []\n",
    "\n",
    "for i in range(24):\n",
    "    time.append(i)\n",
    "    \n",
    "    plane = group_time_airline.loc[i].idxmin()[\"delay\"]\n",
    "    planes.append(plane)\n",
    "    \n",
    "    delay = group_time_airline.loc[i].min()[\"delay\"]\n",
    "    delays.append(delay)\n",
    "    \n",
    "    \n",
    "pd.DataFrame({\"departure_hour\": time, \"airline_name\": planes, \"mean delay in minute(s)\": delays})"
   ]
  },
  {
   "cell_type": "markdown",
   "metadata": {},
   "source": [
    "### Weekend vs Weekday"
   ]
  },
  {
   "cell_type": "code",
   "execution_count": 41,
   "metadata": {
    "ExecuteTime": {
     "end_time": "2019-11-14T10:20:45.366500Z",
     "start_time": "2019-11-14T10:20:45.336500Z"
    }
   },
   "outputs": [
    {
     "data": {
      "text/html": [
       "<div>\n",
       "<style scoped>\n",
       "    .dataframe tbody tr th:only-of-type {\n",
       "        vertical-align: middle;\n",
       "    }\n",
       "\n",
       "    .dataframe tbody tr th {\n",
       "        vertical-align: top;\n",
       "    }\n",
       "\n",
       "    .dataframe thead th {\n",
       "        text-align: right;\n",
       "    }\n",
       "</style>\n",
       "<table border=\"1\" class=\"dataframe\">\n",
       "  <thead>\n",
       "    <tr style=\"text-align: right;\">\n",
       "      <th></th>\n",
       "      <th>airline_name</th>\n",
       "      <th>departure_airport_name</th>\n",
       "      <th>arrival_airport_name</th>\n",
       "      <th>delay</th>\n",
       "      <th>scheduled_flight_duration_mins</th>\n",
       "      <th>scheduled_flight_duration_hours</th>\n",
       "      <th>departure_day</th>\n",
       "      <th>dep_weekend</th>\n",
       "      <th>departure_hour</th>\n",
       "      <th>flag_delay</th>\n",
       "      <th>group_delay</th>\n",
       "    </tr>\n",
       "  </thead>\n",
       "  <tbody>\n",
       "    <tr>\n",
       "      <th>0</th>\n",
       "      <td>AirAsia</td>\n",
       "      <td>Kuala Lumpur International Airport</td>\n",
       "      <td>Sultan Ismail Petra Airport</td>\n",
       "      <td>2</td>\n",
       "      <td>65</td>\n",
       "      <td>1.08</td>\n",
       "      <td>Friday</td>\n",
       "      <td>0</td>\n",
       "      <td>22</td>\n",
       "      <td>1</td>\n",
       "      <td>delay level 1</td>\n",
       "    </tr>\n",
       "    <tr>\n",
       "      <th>1</th>\n",
       "      <td>Batik Air</td>\n",
       "      <td>Kuala Lumpur International Airport</td>\n",
       "      <td>Soekarno-Hatta International Airport</td>\n",
       "      <td>8</td>\n",
       "      <td>115</td>\n",
       "      <td>1.92</td>\n",
       "      <td>Friday</td>\n",
       "      <td>0</td>\n",
       "      <td>22</td>\n",
       "      <td>1</td>\n",
       "      <td>delay level 1</td>\n",
       "    </tr>\n",
       "    <tr>\n",
       "      <th>2</th>\n",
       "      <td>Malindo Air</td>\n",
       "      <td>Kuala Lumpur International Airport</td>\n",
       "      <td>Soekarno-Hatta International Airport</td>\n",
       "      <td>8</td>\n",
       "      <td>115</td>\n",
       "      <td>1.92</td>\n",
       "      <td>Friday</td>\n",
       "      <td>0</td>\n",
       "      <td>22</td>\n",
       "      <td>1</td>\n",
       "      <td>delay level 1</td>\n",
       "    </tr>\n",
       "    <tr>\n",
       "      <th>3</th>\n",
       "      <td>AirAsia</td>\n",
       "      <td>Kuala Lumpur International Airport</td>\n",
       "      <td>Sandakan Airport</td>\n",
       "      <td>0</td>\n",
       "      <td>175</td>\n",
       "      <td>2.92</td>\n",
       "      <td>Friday</td>\n",
       "      <td>0</td>\n",
       "      <td>22</td>\n",
       "      <td>0</td>\n",
       "      <td>on time</td>\n",
       "    </tr>\n",
       "    <tr>\n",
       "      <th>4</th>\n",
       "      <td>AirAsia</td>\n",
       "      <td>Kuala Lumpur International Airport</td>\n",
       "      <td>Noi Bai International Airport</td>\n",
       "      <td>0</td>\n",
       "      <td>195</td>\n",
       "      <td>3.25</td>\n",
       "      <td>Friday</td>\n",
       "      <td>0</td>\n",
       "      <td>22</td>\n",
       "      <td>0</td>\n",
       "      <td>on time</td>\n",
       "    </tr>\n",
       "  </tbody>\n",
       "</table>\n",
       "</div>"
      ],
      "text/plain": [
       "  airline_name              departure_airport_name  \\\n",
       "0      AirAsia  Kuala Lumpur International Airport   \n",
       "1    Batik Air  Kuala Lumpur International Airport   \n",
       "2  Malindo Air  Kuala Lumpur International Airport   \n",
       "3      AirAsia  Kuala Lumpur International Airport   \n",
       "4      AirAsia  Kuala Lumpur International Airport   \n",
       "\n",
       "                   arrival_airport_name  delay  \\\n",
       "0           Sultan Ismail Petra Airport      2   \n",
       "1  Soekarno-Hatta International Airport      8   \n",
       "2  Soekarno-Hatta International Airport      8   \n",
       "3                      Sandakan Airport      0   \n",
       "4         Noi Bai International Airport      0   \n",
       "\n",
       "   scheduled_flight_duration_mins  scheduled_flight_duration_hours  \\\n",
       "0                              65                             1.08   \n",
       "1                             115                             1.92   \n",
       "2                             115                             1.92   \n",
       "3                             175                             2.92   \n",
       "4                             195                             3.25   \n",
       "\n",
       "  departure_day  dep_weekend  departure_hour  flag_delay    group_delay  \n",
       "0        Friday            0              22           1  delay level 1  \n",
       "1        Friday            0              22           1  delay level 1  \n",
       "2        Friday            0              22           1  delay level 1  \n",
       "3        Friday            0              22           0        on time  \n",
       "4        Friday            0              22           0        on time  "
      ]
     },
     "execution_count": 41,
     "metadata": {},
     "output_type": "execute_result"
    }
   ],
   "source": [
    "df = train1.copy()\n",
    "df.head()"
   ]
  },
  {
   "cell_type": "code",
   "execution_count": 42,
   "metadata": {
    "ExecuteTime": {
     "end_time": "2019-11-14T10:20:45.546500Z",
     "start_time": "2019-11-14T10:20:45.369000Z"
    }
   },
   "outputs": [
    {
     "data": {
      "text/html": [
       "<div>\n",
       "<style scoped>\n",
       "    .dataframe tbody tr th:only-of-type {\n",
       "        vertical-align: middle;\n",
       "    }\n",
       "\n",
       "    .dataframe tbody tr th {\n",
       "        vertical-align: top;\n",
       "    }\n",
       "\n",
       "    .dataframe thead th {\n",
       "        text-align: right;\n",
       "    }\n",
       "</style>\n",
       "<table border=\"1\" class=\"dataframe\">\n",
       "  <thead>\n",
       "    <tr style=\"text-align: right;\">\n",
       "      <th></th>\n",
       "      <th></th>\n",
       "      <th>airline_name</th>\n",
       "      <th>percentage</th>\n",
       "    </tr>\n",
       "    <tr>\n",
       "      <th>dep_weekend</th>\n",
       "      <th>flag_delay</th>\n",
       "      <th></th>\n",
       "      <th></th>\n",
       "    </tr>\n",
       "  </thead>\n",
       "  <tbody>\n",
       "    <tr>\n",
       "      <th rowspan=\"2\" valign=\"top\">0</th>\n",
       "      <th>0</th>\n",
       "      <td>39149</td>\n",
       "      <td>0.493415</td>\n",
       "    </tr>\n",
       "    <tr>\n",
       "      <th>1</th>\n",
       "      <td>40194</td>\n",
       "      <td>0.506585</td>\n",
       "    </tr>\n",
       "    <tr>\n",
       "      <th rowspan=\"2\" valign=\"top\">1</th>\n",
       "      <th>0</th>\n",
       "      <td>15599</td>\n",
       "      <td>0.511980</td>\n",
       "    </tr>\n",
       "    <tr>\n",
       "      <th>1</th>\n",
       "      <td>14869</td>\n",
       "      <td>0.488020</td>\n",
       "    </tr>\n",
       "  </tbody>\n",
       "</table>\n",
       "</div>"
      ],
      "text/plain": [
       "                        airline_name  percentage\n",
       "dep_weekend flag_delay                          \n",
       "0           0                  39149    0.493415\n",
       "            1                  40194    0.506585\n",
       "1           0                  15599    0.511980\n",
       "            1                  14869    0.488020"
      ]
     },
     "execution_count": 42,
     "metadata": {},
     "output_type": "execute_result"
    }
   ],
   "source": [
    "week_delay = df[['dep_weekend', 'flag_delay', 'airline_name']]\n",
    "week_delay = week_delay.groupby(['dep_weekend', 'flag_delay']).count()\n",
    "week_delay['percentage'] = week_delay / week_delay.groupby(level = 0).sum()\n",
    "\n",
    "week_delay"
   ]
  },
  {
   "cell_type": "code",
   "execution_count": 43,
   "metadata": {
    "ExecuteTime": {
     "end_time": "2019-11-14T10:20:45.989000Z",
     "start_time": "2019-11-14T10:20:45.549000Z"
    }
   },
   "outputs": [
    {
     "data": {
      "image/png": "[encoded data removed]",
      "text/plain": [
       "<Figure size 720x576 with 1 Axes>"
      ]
     },
     "metadata": {
      "needs_background": "light"
     },
     "output_type": "display_data"
    }
   ],
   "source": [
    "fig = plt.figure(1, figsize=(10, 8))\n",
    "ax = sns.countplot(y='dep_weekend', hue='flag_delay', palette= 'Set3', data = df)\n",
    "# naming the x-axis \n",
    "plt.xlabel('Count') \n",
    "# naming the y-axis \n",
    "plt.ylabel('Flag Weekend') \n",
    "# plot title \n",
    "plt.title('Weekend vs Weekday Group of Delay') \n",
    "plt.show()"
   ]
  },
  {
   "cell_type": "code",
   "execution_count": 44,
   "metadata": {
    "ExecuteTime": {
     "end_time": "2019-11-14T10:20:46.029000Z",
     "start_time": "2019-11-14T10:20:45.989000Z"
    }
   },
   "outputs": [
    {
     "data": {
      "text/html": [
       "<div>\n",
       "<style scoped>\n",
       "    .dataframe tbody tr th:only-of-type {\n",
       "        vertical-align: middle;\n",
       "    }\n",
       "\n",
       "    .dataframe tbody tr th {\n",
       "        vertical-align: top;\n",
       "    }\n",
       "\n",
       "    .dataframe thead th {\n",
       "        text-align: right;\n",
       "    }\n",
       "</style>\n",
       "<table border=\"1\" class=\"dataframe\">\n",
       "  <thead>\n",
       "    <tr style=\"text-align: right;\">\n",
       "      <th></th>\n",
       "      <th></th>\n",
       "      <th>airline_name</th>\n",
       "      <th>percentage</th>\n",
       "    </tr>\n",
       "    <tr>\n",
       "      <th>dep_weekend</th>\n",
       "      <th>group_delay</th>\n",
       "      <th></th>\n",
       "      <th></th>\n",
       "    </tr>\n",
       "  </thead>\n",
       "  <tbody>\n",
       "    <tr>\n",
       "      <th rowspan=\"4\" valign=\"top\">0</th>\n",
       "      <th>delay level 1</th>\n",
       "      <td>32300</td>\n",
       "      <td>0.407093</td>\n",
       "    </tr>\n",
       "    <tr>\n",
       "      <th>delay level 2</th>\n",
       "      <td>5825</td>\n",
       "      <td>0.073415</td>\n",
       "    </tr>\n",
       "    <tr>\n",
       "      <th>delay level 3</th>\n",
       "      <td>2069</td>\n",
       "      <td>0.026077</td>\n",
       "    </tr>\n",
       "    <tr>\n",
       "      <th>on time</th>\n",
       "      <td>39149</td>\n",
       "      <td>0.493415</td>\n",
       "    </tr>\n",
       "    <tr>\n",
       "      <th rowspan=\"4\" valign=\"top\">1</th>\n",
       "      <th>delay level 1</th>\n",
       "      <td>12222</td>\n",
       "      <td>0.401142</td>\n",
       "    </tr>\n",
       "    <tr>\n",
       "      <th>delay level 2</th>\n",
       "      <td>1990</td>\n",
       "      <td>0.065314</td>\n",
       "    </tr>\n",
       "    <tr>\n",
       "      <th>delay level 3</th>\n",
       "      <td>657</td>\n",
       "      <td>0.021564</td>\n",
       "    </tr>\n",
       "    <tr>\n",
       "      <th>on time</th>\n",
       "      <td>15599</td>\n",
       "      <td>0.511980</td>\n",
       "    </tr>\n",
       "  </tbody>\n",
       "</table>\n",
       "</div>"
      ],
      "text/plain": [
       "                           airline_name  percentage\n",
       "dep_weekend group_delay                            \n",
       "0           delay level 1         32300    0.407093\n",
       "            delay level 2          5825    0.073415\n",
       "            delay level 3          2069    0.026077\n",
       "            on time               39149    0.493415\n",
       "1           delay level 1         12222    0.401142\n",
       "            delay level 2          1990    0.065314\n",
       "            delay level 3           657    0.021564\n",
       "            on time               15599    0.511980"
      ]
     },
     "execution_count": 44,
     "metadata": {},
     "output_type": "execute_result"
    }
   ],
   "source": [
    "week_delay = df[['dep_weekend', 'group_delay', 'airline_name']]\n",
    "week_delay = week_delay.groupby(['dep_weekend', 'group_delay']).count()\n",
    "week_delay['percentage'] = week_delay / week_delay.groupby(level = 0).sum()\n",
    "week_delay"
   ]
  },
  {
   "cell_type": "code",
   "execution_count": 45,
   "metadata": {
    "ExecuteTime": {
     "end_time": "2019-11-14T10:20:46.496500Z",
     "start_time": "2019-11-14T10:20:46.031500Z"
    }
   },
   "outputs": [
    {
     "data": {
      "image/png": "[encoded data removed]",
      "text/plain": [
       "<Figure size 720x576 with 1 Axes>"
      ]
     },
     "metadata": {
      "needs_background": "light"
     },
     "output_type": "display_data"
    }
   ],
   "source": [
    "fig = plt.figure(1, figsize=(10, 8))\n",
    "ax = sns.countplot(y='dep_weekend', hue='group_delay', palette= 'Set3', data = df)\n",
    "# naming the x-axis \n",
    "plt.xlabel('Count') \n",
    "# naming the y-axis \n",
    "plt.ylabel('Flag Weekend') \n",
    "# plot title \n",
    "plt.title('Weekend vs Weekday Group of Delay') \n",
    "plt.show()"
   ]
  },
  {
   "cell_type": "markdown",
   "metadata": {},
   "source": [
    "We can see that the delay is not affected by weekday or weekend as the percentage is almost similar."
   ]
  },
  {
   "cell_type": "markdown",
   "metadata": {},
   "source": [
    "## Multivariate Regression\n",
    "\n",
    "A model to estimate the delay duration."
   ]
  },
  {
   "cell_type": "code",
   "execution_count": 46,
   "metadata": {
    "ExecuteTime": {
     "end_time": "2019-11-14T10:20:47.021500Z",
     "start_time": "2019-11-14T10:20:46.496500Z"
    }
   },
   "outputs": [],
   "source": [
    "from sklearn.linear_model import LinearRegression\n",
    "from sklearn.metrics import mean_squared_error, mean_absolute_error, r2_score\n",
    "import statsmodels.api as sm"
   ]
  },
  {
   "cell_type": "code",
   "execution_count": 47,
   "metadata": {
    "ExecuteTime": {
     "end_time": "2019-11-14T10:20:47.039000Z",
     "start_time": "2019-11-14T10:20:47.024000Z"
    }
   },
   "outputs": [],
   "source": [
    "mul_reg_train = train1.copy()\n",
    "mul_reg_test = test1.copy()"
   ]
  },
  {
   "cell_type": "code",
   "execution_count": 48,
   "metadata": {
    "ExecuteTime": {
     "end_time": "2019-11-14T10:20:47.179000Z",
     "start_time": "2019-11-14T10:20:47.041500Z"
    }
   },
   "outputs": [],
   "source": [
    "target_train = mul_reg_train['delay']\n",
    "temp_train = mul_reg_train.drop(['delay', 'flag_delay', 'group_delay'], axis = 1)\n",
    "\n",
    "target_test = mul_reg_test['delay']\n",
    "temp_test= mul_reg_test.drop(['delay', 'flag_delay', 'group_delay'], axis = 1)"
   ]
  },
  {
   "cell_type": "code",
   "execution_count": 49,
   "metadata": {
    "ExecuteTime": {
     "end_time": "2019-11-14T10:20:47.776500Z",
     "start_time": "2019-11-14T10:20:47.179000Z"
    }
   },
   "outputs": [],
   "source": [
    "X_train = pd.get_dummies(temp_train, dummy_na = True, drop_first = True)\n",
    "y_train = target_train\n",
    "\n",
    "X_test = pd.get_dummies(temp_test, dummy_na = True, drop_first = True)\n",
    "y_test = target_test\n",
    "\n",
    "# get missing columns in the training test\n",
    "miss_cols = set(X_train.columns) - set(X_test.columns )\n",
    "\n",
    "# add a missing column in test set with default value equal to 0\n",
    "for col in miss_cols:\n",
    "    X_test[col] = 0\n",
    "    \n",
    "# ensure the order of column in the test set is in the same order than in train set\n",
    "X_test = X_test[X_train.columns]"
   ]
  },
  {
   "cell_type": "code",
   "execution_count": 50,
   "metadata": {
    "ExecuteTime": {
     "end_time": "2019-11-14T10:20:49.726500Z",
     "start_time": "2019-11-14T10:20:47.776500Z"
    }
   },
   "outputs": [],
   "source": [
    "multi_regression = LinearRegression()\n",
    "multi_regression.fit(X_train, y_train)\n",
    "\n",
    "# y_pred_train = multi_regression.predict(X_train)\n",
    "y_pred_test = multi_regression.predict(X_test)"
   ]
  },
  {
   "cell_type": "code",
   "execution_count": 51,
   "metadata": {
    "ExecuteTime": {
     "end_time": "2019-11-14T10:20:49.736500Z",
     "start_time": "2019-11-14T10:20:49.726500Z"
    }
   },
   "outputs": [
    {
     "name": "stdout",
     "output_type": "stream",
     "text": [
      "Mean Squared Error:  393.5664\n",
      "Mean Absolute Error:  12.5433\n"
     ]
    }
   ],
   "source": [
    "print('Mean Squared Error: ', round(mean_squared_error(y_test, y_pred_test), 4))\n",
    "print('Mean Absolute Error: ', round(mean_absolute_error(y_test, y_pred_test), 4))"
   ]
  },
  {
   "cell_type": "code",
   "execution_count": 52,
   "metadata": {
    "ExecuteTime": {
     "end_time": "2019-11-14T10:20:57.493500Z",
     "start_time": "2019-11-14T10:20:49.739000Z"
    }
   },
   "outputs": [
    {
     "name": "stdout",
     "output_type": "stream",
     "text": [
      "                            OLS Regression Results                            \n",
      "==============================================================================\n",
      "Dep. Variable:                  delay   R-squared:                       0.336\n",
      "Model:                            OLS   Adj. R-squared:                  0.334\n",
      "Method:                 Least Squares   F-statistic:                     205.4\n",
      "Date:                Thu, 14 Nov 2019   Prob (F-statistic):               0.00\n",
      "Time:                        17:20:57   Log-Likelihood:            -4.5864e+05\n",
      "No. Observations:              109811   AIC:                         9.178e+05\n",
      "Df Residuals:                  109541   BIC:                         9.204e+05\n",
      "Df Model:                         270                                         \n",
      "Covariance Type:            nonrobust                                         \n",
      "============================================================================================================================================\n",
      "                                                                               coef    std err          t      P>|t|      [0.025      0.975]\n",
      "--------------------------------------------------------------------------------------------------------------------------------------------\n",
      "scheduled_flight_duration_mins                                               0.9632      0.325      2.961      0.003       0.326       1.601\n",
      "scheduled_flight_duration_hours                                            -57.7680     19.508     -2.961      0.003     -96.003     -19.532\n",
      "dep_weekend                                                                 -1.3039      0.100    -13.005      0.000      -1.500      -1.107\n",
      "departure_hour                                                              -0.0283      0.008     -3.456      0.001      -0.044      -0.012\n",
      "airline_name_ANA                                                            20.5747      2.123      9.691      0.000      16.414      24.736\n",
      "airline_name_Air Astana                                                      5.1125      1.762      2.901      0.004       1.658       8.567\n",
      "airline_name_Air Canada                                                     21.0587      2.038     10.333      0.000      17.064      25.053\n",
      "airline_name_Air China                                                      33.5935      2.439     13.774      0.000      28.813      38.374\n",
      "airline_name_Air France                                                     26.6790      2.084     12.803      0.000      22.595      30.763\n",
      "airline_name_Air India                                                      19.3899      2.200      8.815      0.000      15.078      23.701\n",
      "airline_name_Air Mauritius                                                  21.0517      1.886     11.159      0.000      17.354      24.749\n",
      "airline_name_Air New Zealand                                                30.8756      1.826     16.906      0.000      27.296      34.455\n",
      "airline_name_Air Seoul                                                      44.3878      3.271     13.570      0.000      37.976      50.799\n",
      "airline_name_Air Seychelles                                                 23.8169      2.633      9.047      0.000      18.657      28.977\n",
      "airline_name_AirAsia                                                        26.8532      1.756     15.296      0.000      23.412      30.294\n",
      "airline_name_AirAsia X                                                      18.7383      1.828     10.250      0.000      15.155      22.321\n",
      "airline_name_Alitalia                                                       23.7945      2.494      9.541      0.000      18.907      28.682\n",
      "airline_name_American Airlines                                              25.0075      1.888     13.243      0.000      21.306      28.709\n",
      "airline_name_Asiana Airlines                                                44.3878      3.271     13.570      0.000      37.976      50.799\n",
      "airline_name_Austrian                                                       23.4734      2.797      8.394      0.000      17.992      28.955\n",
      "airline_name_Bangkok Airways                                                24.7273      1.889     13.088      0.000      21.024      28.430\n",
      "airline_name_Batik Air                                                      30.7976      1.940     15.878      0.000      26.996      34.599\n",
      "airline_name_Biman Bangladesh Airlines                                      29.0900      3.439      8.458      0.000      22.349      35.831\n",
      "airline_name_British Airways                                                16.6393      2.504      6.646      0.000      11.732      21.546\n",
      "airline_name_Cambodia Angkor Air                                            22.5748      2.367      9.536      0.000      17.935      27.215\n",
      "airline_name_Cargolux                                                       34.8719      5.542      6.292      0.000      24.010      45.734\n",
      "airline_name_Cathay Dragon                                                  24.3784      1.920     12.696      0.000      20.615      28.142\n",
      "airline_name_Cathay Pacific                                                 24.4017      1.919     12.716      0.000      20.641      28.163\n",
      "airline_name_Cebu Pacific Air                                               32.4505      3.266      9.937      0.000      26.050      38.851\n",
      "airline_name_China Airlines                                                 24.4897      1.877     13.046      0.000      20.811      28.169\n",
      "airline_name_China Eastern Airlines                                         27.8674      2.404     11.593      0.000      23.156      32.579\n",
      "airline_name_China Southern Airlines                                        27.2421      1.950     13.970      0.000      23.420      31.064\n",
      "airline_name_Citilink                                                       26.0262      2.784      9.348      0.000      20.569      31.483\n",
      "airline_name_Condor                                                          8.3367      2.404      3.468      0.001       3.625      13.048\n",
      "airline_name_Delta Air Lines                                                25.8324      2.012     12.842      0.000      21.890      29.775\n",
      "airline_name_EASTAR JET                                                     24.6895      2.908      8.489      0.000      18.989      30.390\n",
      "airline_name_EVA Air                                                        25.1960      2.637      9.555      0.000      20.028      30.364\n",
      "airline_name_EgyptAir                                                       25.9521      3.687      7.039      0.000      18.726      33.179\n",
      "airline_name_Emirates                                                       22.5567      1.763     12.792      0.000      19.101      26.013\n",
      "airline_name_Ethiopian Airlines                                             20.9574      2.369      8.848      0.000      16.315      25.600\n",
      "airline_name_Etihad Airways                                                 22.7419      1.757     12.943      0.000      19.298      26.186\n",
      "airline_name_Finnair                                                        27.4761      1.871     14.688      0.000      23.810      31.143\n",
      "airline_name_Firefly                                                        23.8284      1.763     13.517      0.000      20.373      27.283\n",
      "airline_name_Garuda Indonesia                                               22.0956      1.778     12.424      0.000      18.610      25.581\n",
      "airline_name_Guangxi Beibu Gulf Airlines                                    16.6953      3.662      4.559      0.000       9.518      23.873\n",
      "airline_name_Hawaiian Airlines                                              23.7559      2.331     10.191      0.000      19.187      28.325\n",
      "airline_name_Himalaya Airlines                                              19.5706      3.956      4.947      0.000      11.817      27.325\n",
      "airline_name_Hong Kong Airlines                                             14.4079      4.333      3.325      0.001       5.914      22.901\n",
      "airline_name_Iberia                                                         19.8321      2.106      9.416      0.000      15.704      23.960\n",
      "airline_name_IndiGo                                                         25.0724      3.466      7.234      0.000      18.280      31.865\n",
      "airline_name_Indonesia AirAsia                                              29.2427      1.829     15.992      0.000      25.659      32.827\n",
      "airline_name_Iraqi Airways                                                   5.8323      2.102      2.775      0.006       1.713       9.952\n",
      "airline_name_JAL                                                            25.8747      1.806     14.326      0.000      22.335      29.415\n",
      "airline_name_Jeju Air                                                       19.7983      3.283      6.031      0.000      13.365      26.232\n",
      "airline_name_Jet Airways (India)                                            23.1279      1.809     12.783      0.000      19.582      26.674\n",
      "airline_name_Jetstar Asia                                                   23.9499      1.953     12.263      0.000      20.122      27.778\n",
      "airline_name_Jin Air                                                        26.3123      2.428     10.836      0.000      21.553      31.072\n",
      "airline_name_KLM                                                            25.2838      1.776     14.234      0.000      21.802      28.765\n",
      "airline_name_Kenya Airways                                                  23.6852      2.118     11.183      0.000      19.534      27.836\n",
      "airline_name_Korean Air                                                     23.6437      2.139     11.055      0.000      19.452      27.835\n",
      "airline_name_Lion Air                                                       39.9127      1.903     20.973      0.000      36.183      43.643\n",
      "airline_name_Lucky Air                                                      38.3506      3.186     12.037      0.000      32.106      44.595\n",
      "airline_name_Lufthansa                                                      21.4262      2.765      7.749      0.000      16.006      26.846\n",
      "airline_name_Mahan Air                                                       4.7907      1.369      3.500      0.000       2.108       7.473\n",
      "airline_name_Malaysia Airlines                                              24.0936      1.734     13.897      0.000      20.695      27.492\n",
      "airline_name_Malindo Air                                                    37.7671      1.754     21.528      0.000      34.329      41.206\n",
      "airline_name_Myanmar Airways International                                  23.6606      1.871     12.646      0.000      19.993      27.328\n",
      "airline_name_Nepal Airlines                                                 29.0483      3.783      7.679      0.000      21.634      36.462\n",
      "airline_name_Oman Air                                                       23.2430      1.786     13.011      0.000      19.742      26.744\n",
      "airline_name_Pakistan International Airlines                                75.0248     15.882      4.724      0.000      43.896     106.153\n",
      "airline_name_Philippine Airlines                                            21.9768      1.785     12.311      0.000      18.478      25.476\n",
      "airline_name_Philippines AirAsia                                            33.2788      2.211     15.050      0.000      28.945      37.613\n",
      "airline_name_Qantas                                                         23.9499      1.953     12.263      0.000      20.122      27.778\n",
      "airline_name_Qatar Airways                                                  22.3319      1.762     12.672      0.000      18.878      25.786\n",
      "airline_name_Raya Airways                                                   24.7155      2.006     12.320      0.000      20.783      28.647\n",
      "airline_name_Regent Airways                                                 23.1720      2.856      8.112      0.000      17.573      28.771\n",
      "airline_name_Royal Brunei Airlines                                          23.0118      1.817     12.666      0.000      19.451      26.573\n",
      "airline_name_Royal Jordanian                                                26.7005      2.016     13.244      0.000      22.749      30.652\n",
      "airline_name_SAS                                                            24.2885      2.720      8.929      0.000      18.957      29.620\n",
      "airline_name_SWISS                                                          29.8041      1.960     15.203      0.000      25.962      33.647\n",
      "airline_name_Saudia                                                         22.2040      2.461      9.021      0.000      17.380      27.028\n",
      "airline_name_Scoot                                                          37.6540      1.931     19.504      0.000      33.870      41.438\n",
      "airline_name_Shanghai Airlines                                              28.0244      2.393     11.713      0.000      23.335      32.714\n",
      "airline_name_Shenzhen Airlines                                              33.6611      2.563     13.133      0.000      28.637      38.685\n",
      "airline_name_Silk Way West                                                   0.2094      2.248      0.093      0.926      -4.196       4.615\n",
      "airline_name_SilkAir                                                        28.0578      1.794     15.638      0.000      24.541      31.574\n",
      "airline_name_Singapore Airlines                                             28.0578      1.794     15.638      0.000      24.541      31.574\n",
      "airline_name_Spring Airlines                                                23.3867      3.316      7.053      0.000      16.888      29.886\n",
      "airline_name_SriLankan Airlines                                             22.3672      1.795     12.463      0.000      18.850      25.885\n",
      "airline_name_Sriwijaya Air                                                  42.9316      2.780     15.444      0.000      37.483      48.380\n",
      "airline_name_TAP Portugal                                                   22.6362      3.329      6.799      0.000      16.111      29.161\n",
      "airline_name_Thai AirAsia                                                   25.4741      2.031     12.541      0.000      21.493      29.455\n",
      "airline_name_Thai Airways International                                     25.3173      1.853     13.662      0.000      21.685      28.949\n",
      "airline_name_Thai Smile                                                     29.0232      2.154     13.472      0.000      24.801      33.245\n",
      "airline_name_Turkish Airlines                                               37.8707      1.887     20.074      0.000      34.173      41.568\n",
      "airline_name_US-Bangla Airlines                                             21.9847      2.860      7.687      0.000      16.379      27.591\n",
      "airline_name_Uni-Top Airlines                                               23.2623      4.790      4.856      0.000      13.874      32.650\n",
      "airline_name_United Airlines                                                19.4623      2.281      8.532      0.000      14.992      23.933\n",
      "airline_name_Uzbekistan Airways                                             23.1638      2.599      8.912      0.000      18.069      28.258\n",
      "airline_name_VietJet Air                                                    56.9352      2.748     20.718      0.000      51.549      62.322\n",
      "airline_name_Vietnam Airlines                                               22.4100      2.328      9.627      0.000      17.847      26.973\n",
      "airline_name_Virgin Australia                                               30.8756      1.826     16.906      0.000      27.296      34.455\n",
      "airline_name_Wings Air (Indonesia)                                          28.3083      3.101      9.128      0.000      22.230      34.387\n",
      "airline_name_Xiamen Airlines                                                24.8609      1.940     12.815      0.000      21.059      28.663\n",
      "airline_name_YTO Cargo                                                      16.8956      4.036      4.186      0.000       8.985      24.806\n",
      "airline_name_flynas                                                         23.7945      2.494      9.541      0.000      18.907      28.682\n",
      "airline_name_nan                                                          1.087e-11   3.41e-12      3.184      0.001    4.18e-12    1.76e-11\n",
      "departure_airport_name_Kota Kinabalu International Airport                  -3.2587      1.083     -3.010      0.003      -5.381      -1.137\n",
      "departure_airport_name_Kuala Lumpur International Airport                    1.6578      1.070      1.550      0.121      -0.438       3.754\n",
      "departure_airport_name_Kuching International Airport                        -2.9771      1.078     -2.762      0.006      -5.090      -0.864\n",
      "departure_airport_name_Kudat Airport                                        -2.9072      3.507     -0.829      0.407      -9.781       3.967\n",
      "departure_airport_name_Labuan Airport                                        1.9645      1.506      1.304      0.192      -0.988       4.917\n",
      "departure_airport_name_Langkawi International Airport                       -2.4334      1.102     -2.209      0.027      -4.593      -0.274\n",
      "departure_airport_name_Lawas Airport                                        -7.6139      1.819     -4.185      0.000     -11.180      -4.048\n",
      "departure_airport_name_Marudi Airport                                       -4.3738      4.730     -0.925      0.355     -13.645       4.897\n",
      "departure_airport_name_Miri Airport                                         -1.7868      1.111     -1.608      0.108      -3.964       0.390\n",
      "departure_airport_name_Penang International Airport                         -1.6677      1.075     -1.552      0.121      -3.774       0.439\n",
      "departure_airport_name_Sandakan Airport                                      2.4931      1.788      1.394      0.163      -1.012       5.998\n",
      "departure_airport_name_Senai Airport                                        -2.7243      1.094     -2.491      0.013      -4.868      -0.581\n",
      "departure_airport_name_Sibu Airport                                         -1.6041      1.116     -1.437      0.151      -3.792       0.584\n",
      "departure_airport_name_Sultan Abdul Aziz Shah Airport                       -6.9894      1.095     -6.384      0.000      -9.135      -4.843\n",
      "departure_airport_name_Sultan Ismail Petra Airport                          -3.0262      1.114     -2.717      0.007      -5.209      -0.843\n",
      "departure_airport_name_nan                                               -9.015e-12   2.84e-12     -3.171      0.002   -1.46e-11   -3.44e-12\n",
      "arrival_airport_name_Achmad Yani International Airport                     -21.2478      2.442     -8.700      0.000     -26.035     -16.461\n",
      "arrival_airport_name_Adelaide Airport                                       -5.8819      1.700     -3.459      0.001      -9.215      -2.549\n",
      "arrival_airport_name_Adisutjipto International Airport                     -17.5768      1.916     -9.176      0.000     -21.331     -13.822\n",
      "arrival_airport_name_Allama Iqbal International Airport                     -1.9010      2.646     -0.718      0.473      -7.088       3.286\n",
      "arrival_airport_name_Almaty Airport                                          5.1125      1.762      2.901      0.004       1.658       8.567\n",
      "arrival_airport_name_Amsterdam Airport Schiphol                            -17.3547      1.584    -10.954      0.000     -20.460     -14.249\n",
      "arrival_airport_name_Auckland Airport                                      -11.2156      1.825     -6.146      0.000     -14.792      -7.639\n",
      "arrival_airport_name_Avalon Airport                                         16.4714     15.824      1.041      0.298     -14.544      47.486\n",
      "arrival_airport_name_Baghdad International Airport                           5.8323      2.102      2.775      0.006       1.713       9.952\n",
      "arrival_airport_name_Bakalalan Airport                                      -7.6139      1.819     -4.185      0.000     -11.180      -4.048\n",
      "arrival_airport_name_Bandaranaike International Airport                    -15.6381      1.365    -11.459      0.000     -18.313     -12.963\n",
      "arrival_airport_name_Bario Airport                                         -15.4568      2.058     -7.512      0.000     -19.490     -11.424\n",
      "arrival_airport_name_Beijing Capital International Airport                 -11.7313      1.496     -7.839      0.000     -14.664      -8.798\n",
      "arrival_airport_name_Biju Patnaik International Airport                     -5.7624      3.010     -1.915      0.056     -11.662       0.137\n",
      "arrival_airport_name_Bintulu Airport                                       -15.1571      1.430    -10.599      0.000     -17.960     -12.354\n",
      "arrival_airport_name_Brisbane Airport                                      -11.0004      1.977     -5.565      0.000     -14.875      -7.126\n",
      "arrival_airport_name_Brunei International Airport                          -19.1619      1.498    -12.796      0.000     -22.097     -16.227\n",
      "arrival_airport_name_Cam Ranh International Airport                        -22.2955      2.491     -8.950      0.000     -27.178     -17.413\n",
      "arrival_airport_name_Changi International Airport                          -14.6167      1.386    -10.543      0.000     -17.334     -11.899\n",
      "arrival_airport_name_Changle International Airport                         -14.6906      1.786     -8.227      0.000     -18.191     -11.191\n",
      "arrival_airport_name_Changsha Huanghua Airport                             -16.7760      2.098     -7.997      0.000     -20.888     -12.664\n",
      "arrival_airport_name_Chengdu Shuangliu International Airport               -16.5772      1.979     -8.377      0.000     -20.456     -12.699\n",
      "arrival_airport_name_Chennai Airport                                       -11.2206      1.392     -8.061      0.000     -13.949      -8.492\n",
      "arrival_airport_name_Chhatrapati Shivaji International Airport              -5.4166      1.485     -3.648      0.000      -8.327      -2.507\n",
      "arrival_airport_name_Chiang Mai International Airport                      -17.0011      2.078     -8.183      0.000     -21.073     -12.929\n",
      "arrival_airport_name_Chongqing Jiangbei International Airport              -15.0397      2.155     -6.979      0.000     -19.264     -10.816\n",
      "arrival_airport_name_Cochin International Airport                          -14.5039      1.737     -8.350      0.000     -17.908     -11.099\n",
      "arrival_airport_name_Da Nang International Airport                         -17.6563      2.191     -8.060      0.000     -21.950     -13.363\n",
      "arrival_airport_name_Don Mueang International Airport                      -14.1821      1.441     -9.844      0.000     -17.006     -11.358\n",
      "arrival_airport_name_Dubai Airport                                         -21.3515      1.459    -14.631      0.000     -24.212     -18.491\n",
      "arrival_airport_name_Francisco Bangoy Intl Airport                         -22.0933      5.401     -4.090      0.000     -32.680     -11.507\n",
      "arrival_airport_name_Frankfurt Airport                                       8.3367      2.404      3.468      0.001       3.625      13.048\n",
      "arrival_airport_name_Gimhae International Airport                           -3.6570      2.826     -1.294      0.196      -9.195       1.881\n",
      "arrival_airport_name_Gold Coast Airport                                    -14.9621      2.457     -6.090      0.000     -19.778     -10.147\n",
      "arrival_airport_name_Guangzhou Baiyun International Airport                -14.7104      1.373    -10.714      0.000     -17.401     -12.019\n",
      "arrival_airport_name_Guilin Liangjiang International Airport               -24.1471      3.509     -6.881      0.000     -31.025     -17.269\n",
      "arrival_airport_name_Guiyang Longdongbao International Airport             -11.4637      4.132     -2.775      0.006     -19.562      -3.366\n",
      "arrival_airport_name_Haikou Meilan International Airport                   -14.2922      2.531     -5.648      0.000     -19.252      -9.332\n",
      "arrival_airport_name_Hamad International Airport                           -17.3353      1.348    -12.858      0.000     -19.978     -14.693\n",
      "arrival_airport_name_Haneda Airport                                        -12.8711      1.813     -7.100      0.000     -16.424      -9.318\n",
      "arrival_airport_name_Hang Nadim International Airport                      -21.7801      2.518     -8.650      0.000     -26.715     -16.845\n",
      "arrival_airport_name_Hangzhou Xiaoshan International Airport               -11.8006      1.877     -6.285      0.000     -15.480      -8.121\n",
      "arrival_airport_name_Hat Yai International Airport                         -22.8628      2.057    -11.113      0.000     -26.895     -18.831\n",
      "arrival_airport_name_Hazrat Shahjalal International Airport                 -9.5741      1.496     -6.398      0.000     -12.507      -6.641\n",
      "arrival_airport_name_Heydar Aliyev International Airport                     0.2094      2.248      0.093      0.926      -4.196       4.615\n",
      "arrival_airport_name_Hong Kong International Airport                       -13.8504      1.277    -10.850      0.000     -16.352     -11.348\n",
      "arrival_airport_name_Hua Hin Airport                                       -24.1435      3.054     -7.904      0.000     -30.130     -18.157\n",
      "arrival_airport_name_Husein Sastranegara Airport                           -13.9034      1.726     -8.056      0.000     -17.286     -10.521\n",
      "arrival_airport_name_Imam Khomeini International Airport                     4.7907      1.369      3.500      0.000       2.108       7.473\n",
      "arrival_airport_name_Incheon International Airport                         -11.3664      1.447     -7.853      0.000     -14.203      -8.529\n",
      "arrival_airport_name_Indira Gandhi International Airport                    -8.0694      1.394     -5.791      0.000     -10.801      -5.338\n",
      "arrival_airport_name_Ipoh Airport                                          -14.3923      1.944     -7.402      0.000     -18.203     -10.582\n",
      "arrival_airport_name_Istanbul Ataturk Airport                              -30.2320      1.994    -15.159      0.000     -34.141     -26.323\n",
      "arrival_airport_name_Jaipur Airport                                        -14.7260      3.029     -4.861      0.000     -20.664      -8.788\n",
      "arrival_airport_name_Jeju International Airport                             -5.8538      2.547     -2.298      0.022     -10.847      -0.861\n",
      "arrival_airport_name_Jieyang Chaoshan Airport                              -13.2194      2.450     -5.395      0.000     -18.022      -8.417\n",
      "arrival_airport_name_Jinnah International Airport                          -44.2017     16.216     -2.726      0.006     -75.985     -12.418\n",
      "arrival_airport_name_Juanda International Airport                          -20.8959      1.474    -14.175      0.000     -23.785     -18.007\n",
      "arrival_airport_name_Kansai International Airport                          -13.5103      1.662     -8.127      0.000     -16.768     -10.252\n",
      "arrival_airport_name_Kaohsiung International Airport                       -16.3644      2.595     -6.305      0.000     -21.451     -11.277\n",
      "arrival_airport_name_Kempegowda International Airport                      -12.1147      1.510     -8.025      0.000     -15.073      -9.156\n",
      "arrival_airport_name_Kerteh Airport                                        -21.2811      2.422     -8.786      0.000     -26.029     -16.533\n",
      "arrival_airport_name_King Abdulaziz International Airport                  -14.0170      1.849     -7.581      0.000     -17.641     -10.393\n",
      "arrival_airport_name_Koh Samui Airport                                     -21.4218      1.718    -12.467      0.000     -24.790     -18.054\n",
      "arrival_airport_name_Kota Kinabalu International Airport                   -14.8728      1.315    -11.309      0.000     -17.451     -12.295\n",
      "arrival_airport_name_Krabi Airport                                         -16.5704      1.840     -9.006      0.000     -20.176     -12.964\n",
      "arrival_airport_name_Kuala Lumpur International Airport                    -11.6250      1.342     -8.664      0.000     -14.255      -8.995\n",
      "arrival_airport_name_Kuala Namu International Airport                      -15.8514      1.483    -10.686      0.000     -18.759     -12.944\n",
      "arrival_airport_name_Kuching International Airport                         -15.0025      1.368    -10.963      0.000     -17.685     -12.320\n",
      "arrival_airport_name_Kunming Changshui International Airport               -18.0953      2.002     -9.040      0.000     -22.018     -14.172\n",
      "arrival_airport_name_Labuan Airport                                        -14.6809      1.427    -10.291      0.000     -17.477     -11.885\n",
      "arrival_airport_name_Lahad Datu Airport                                    -15.5533      1.719     -9.048      0.000     -18.922     -12.184\n",
      "arrival_airport_name_Langkawi International Airport                        -16.6243      1.419    -11.714      0.000     -19.406     -13.843\n",
      "arrival_airport_name_Lawas Airport                                         -15.8245      1.702     -9.296      0.000     -19.161     -12.488\n",
      "arrival_airport_name_Lijiang Sanyi Airport                                 -31.5019      4.403     -7.155      0.000     -40.131     -22.872\n",
      "arrival_airport_name_Limbang Airport                                       -17.9367      1.975     -9.080      0.000     -21.808     -14.065\n",
      "arrival_airport_name_Lombok International Airport                           -9.3327      2.330     -4.006      0.000     -13.899      -4.767\n",
      "arrival_airport_name_London Heathrow Airport                                -5.5215      1.702     -3.244      0.001      -8.857      -2.186\n",
      "arrival_airport_name_Long Akah Airport                                     -19.6648      4.789     -4.106      0.000     -29.051     -10.278\n",
      "arrival_airport_name_Long Banga Airfield                                    -8.8385      6.223     -1.420      0.156     -21.035       3.358\n",
      "arrival_airport_name_Long Lellang Airport                                  -17.5353      4.809     -3.646      0.000     -26.961      -8.110\n",
      "arrival_airport_name_Long Seridan Airport                                   -6.2723      5.151     -1.218      0.223     -16.368       3.824\n",
      "arrival_airport_name_Macau International Airport                           -16.1765      1.743     -9.280      0.000     -19.593     -12.760\n",
      "arrival_airport_name_Mactan-Cebu International Airport                     -11.0955      3.207     -3.460      0.001     -17.381      -4.810\n",
      "arrival_airport_name_Malacca International Airport                         -25.3679      2.517    -10.077      0.000     -30.302     -20.434\n",
      "arrival_airport_name_Marudi Airport                                        -14.8340      1.889     -7.855      0.000     -18.536     -11.132\n",
      "arrival_airport_name_Melbourne Tullamarine Airport                          -8.4187      1.290     -6.527      0.000     -10.947      -5.891\n",
      "arrival_airport_name_Minangkabau International Airport                     -19.6922      1.842    -10.692      0.000     -23.302     -16.082\n",
      "arrival_airport_name_Miri Airport                                          -14.9289      1.377    -10.839      0.000     -17.629     -12.229\n",
      "arrival_airport_name_Mukah Airport                                         -18.8920      1.676    -11.271      0.000     -22.177     -15.607\n",
      "arrival_airport_name_Mulu Airport                                          -14.5700      1.754     -8.305      0.000     -18.008     -11.132\n",
      "arrival_airport_name_Muscat International Airport                            0.4116      1.504      0.274      0.784      -2.536       3.360\n",
      "arrival_airport_name_Nanjing Lukou International Airport                    -1.1748      3.425     -0.343      0.732      -7.887       5.538\n",
      "arrival_airport_name_Nanning Airport                                       -16.9660      2.201     -7.707      0.000     -21.281     -12.651\n",
      "arrival_airport_name_Narita International Airport                          -15.2794      1.286    -11.877      0.000     -17.801     -12.758\n",
      "arrival_airport_name_Netaji Subhas Chandra Bose Airport                     -8.9578      1.950     -4.594      0.000     -12.779      -5.136\n",
      "arrival_airport_name_New Chitose Airport                                   -14.8893      3.060     -4.866      0.000     -20.887      -8.891\n",
      "arrival_airport_name_Ngurah Rai International Airport                      -15.7340      1.326    -11.869      0.000     -18.332     -13.136\n",
      "arrival_airport_name_Ninoy Aquino International Airport                     -8.7389      1.393     -6.272      0.000     -11.470      -6.008\n",
      "arrival_airport_name_Noi Bai International Airport                         -15.6533      1.382    -11.325      0.000     -18.362     -12.944\n",
      "arrival_airport_name_Penang International Airport                          -15.8163      1.406    -11.250      0.000     -18.572     -13.061\n",
      "arrival_airport_name_Perth Airport                                         -12.2395      1.346     -9.090      0.000     -14.879      -9.600\n",
      "arrival_airport_name_Phnom Penh International Airport                      -15.5098      1.557     -9.960      0.000     -18.562     -12.458\n",
      "arrival_airport_name_Phu Quoc International Airport                        -16.0647      4.061     -3.956      0.000     -24.025      -8.105\n",
      "arrival_airport_name_Phuket International Airport                          -15.9612      1.443    -11.062      0.000     -18.789     -13.133\n",
      "arrival_airport_name_Prince Mohammad Bin Abdulaziz International Airport     0.8234      2.901      0.284      0.777      -4.863       6.510\n",
      "arrival_airport_name_Rajiv Gandhi International Airport                     -2.6149      1.588     -1.647      0.100      -5.727       0.497\n",
      "arrival_airport_name_Sandakan Airport                                      -17.6720      1.469    -12.033      0.000     -20.550     -14.794\n",
      "arrival_airport_name_Sanya Phoenix International Airport                   -18.0036      9.199     -1.957      0.050     -36.034       0.027\n",
      "arrival_airport_name_Seletar Airport                                       -16.2356     11.249     -1.443      0.149     -38.283       5.812\n",
      "arrival_airport_name_Senai Airport                                         -15.5282      1.413    -10.987      0.000     -18.298     -12.758\n",
      "arrival_airport_name_Shanghai Pudong International Airport                 -12.9528      1.429     -9.065      0.000     -15.753     -10.152\n",
      "arrival_airport_name_Shenzhen Bao'an International Airport                 -14.9927      1.465    -10.232      0.000     -17.865     -12.121\n",
      "arrival_airport_name_Sibu Airport                                          -16.1550      1.416    -11.413      0.000     -18.929     -13.381\n",
      "arrival_airport_name_Siem Reap International Airport                       -19.1691      1.810    -10.588      0.000     -22.718     -15.621\n",
      "arrival_airport_name_Sihanouk International Airport                        -23.0592      2.694     -8.561      0.000     -28.338     -17.780\n",
      "arrival_airport_name_Silangit Airport                                      -21.5479      3.505     -6.147      0.000     -28.419     -14.677\n",
      "arrival_airport_name_Soekarno-Hatta International Airport                  -13.1598      1.344     -9.792      0.000     -15.794     -10.526\n",
      "arrival_airport_name_Sri Guru Ram Dass Jee International Airport            -0.7691      1.879     -0.409      0.682      -4.452       2.913\n",
      "arrival_airport_name_Sultan Abdul Aziz Shah Airport                        -20.3314      1.392    -14.601      0.000     -23.061     -17.602\n",
      "arrival_airport_name_Sultan Abdul Halim Airport                            -15.6606      1.455    -10.762      0.000     -18.513     -12.808\n",
      "arrival_airport_name_Sultan Haji Ahmad Shah Airport                        -16.8946      1.589    -10.635      0.000     -20.008     -13.781\n",
      "arrival_airport_name_Sultan Hasanuddin International Airport                -8.9955      3.143     -2.862      0.004     -15.156      -2.835\n",
      "arrival_airport_name_Sultan Iskandar Muda International Airport            -18.0734      1.721    -10.500      0.000     -21.447     -14.700\n",
      "arrival_airport_name_Sultan Ismail Petra Airport                           -16.5951      1.421    -11.679      0.000     -19.380     -13.810\n",
      "arrival_airport_name_Sultan Mahmud Airport                                 -16.9301      1.455    -11.633      0.000     -19.783     -14.078\n",
      "arrival_airport_name_Sultan Mahmud Badaruddin II Airport                   -19.6917      2.237     -8.803      0.000     -24.076     -15.307\n",
      "arrival_airport_name_Sultan Syarif Kasim II International Airport          -16.1945      2.053     -7.886      0.000     -20.219     -12.170\n",
      "arrival_airport_name_Supadio International Airport                         -14.6331      2.025     -7.228      0.000     -18.601     -10.665\n",
      "arrival_airport_name_Surat Thani Airport                                   -14.3233      4.955     -2.890      0.004     -24.036      -4.611\n",
      "arrival_airport_name_Suvarnabhumi Airport                                  -16.6868      1.376    -12.127      0.000     -19.384     -13.990\n",
      "arrival_airport_name_Sydney (Kingsford Smith) Airport                      -13.5368      1.322    -10.237      0.000     -16.129     -10.945\n",
      "arrival_airport_name_Taiwan Taoyuan International Airport                   -9.5049      1.318     -7.210      0.000     -12.089      -6.921\n",
      "arrival_airport_name_Tan Son Nhat International Airport                    -16.5969      1.396    -11.886      0.000     -19.334     -13.860\n",
      "arrival_airport_name_Tanjung Manis Airport                                 -18.9307      2.529     -7.486      0.000     -23.887     -13.974\n",
      "arrival_airport_name_Tashkent International Airport                          4.8299      4.008      1.205      0.228      -3.026      12.686\n",
      "arrival_airport_name_Tawau Airport                                         -16.4777      1.388    -11.870      0.000     -19.198     -13.757\n",
      "arrival_airport_name_Tianjin Binhai International Airport                  -32.6643      4.708     -6.937      0.000     -41.893     -23.436\n",
      "arrival_airport_name_Tiruchirapalli International Airport                  -13.9700      1.517     -9.209      0.000     -16.943     -10.997\n",
      "arrival_airport_name_Tribhuvan International Airport                        -2.4217      1.648     -1.469      0.142      -5.653       0.809\n",
      "arrival_airport_name_Trivandrum International Airport                      -10.3930      3.448     -3.014      0.003     -17.151      -3.635\n",
      "arrival_airport_name_Utapao Airport                                        -21.8515      3.056     -7.150      0.000     -27.842     -15.861\n",
      "arrival_airport_name_Velana International Airport                          -10.3927      2.411     -4.310      0.000     -15.118      -5.667\n",
      "arrival_airport_name_Vishakhapatnam Airport                                  0.3413      3.047      0.112      0.911      -5.631       6.314\n",
      "arrival_airport_name_Wattay International Airport                          -24.4486      4.274     -5.720      0.000     -32.826     -16.071\n",
      "arrival_airport_name_Wuhan Tianhe International Airport                    -15.2468      2.030     -7.510      0.000     -19.226     -11.268\n",
      "arrival_airport_name_Xiamen Gaoqi International Airport                     -1.7899      1.552     -1.153      0.249      -4.832       1.252\n",
      "arrival_airport_name_Xianyang International Airport                        -16.4590      2.469     -6.667      0.000     -21.298     -11.620\n",
      "arrival_airport_name_Yangon International Airport                          -15.0145      1.529     -9.820      0.000     -18.011     -12.018\n",
      "arrival_airport_name_Zhengzhou Xinzheng Airport                            -11.4820      4.785     -2.399      0.016     -20.861      -2.103\n",
      "arrival_airport_name_nan                                                          0          0        nan        nan           0           0\n",
      "departure_day_Monday                                                        -2.3102      0.174    -13.253      0.000      -2.652      -1.969\n",
      "departure_day_Saturday                                                      -0.5391      0.104     -5.162      0.000      -0.744      -0.334\n",
      "departure_day_Sunday                                                        -0.7648      0.103     -7.433      0.000      -0.966      -0.563\n",
      "departure_day_Thursday                                                       0.5566      0.174      3.199      0.001       0.216       0.898\n",
      "departure_day_Tuesday                                                       -1.5537      0.176     -8.808      0.000      -1.899      -1.208\n",
      "departure_day_Wednesday                                                     -2.2329      0.174    -12.800      0.000      -2.575      -1.891\n",
      "departure_day_nan                                                                 0          0        nan        nan           0           0\n",
      "==============================================================================\n",
      "Omnibus:                    64437.890   Durbin-Watson:                   1.328\n",
      "Prob(Omnibus):                  0.000   Jarque-Bera (JB):           578985.411\n",
      "Skew:                           2.762   Prob(JB):                         0.00\n",
      "Kurtosis:                      12.799   Cond. No.                     5.87e+18\n",
      "==============================================================================\n",
      "\n",
      "Warnings:\n",
      "[1] Standard Errors assume that the covariance matrix of the errors is correctly specified.\n",
      "[2] The smallest eigenvalue is 1.05e-28. This might indicate that there are\n",
      "strong multicollinearity problems or that the design matrix is singular.\n"
     ]
    }
   ],
   "source": [
    "result = sm.OLS(y_train, X_train).fit()\n",
    "print(result.summary())"
   ]
  },
  {
   "cell_type": "markdown",
   "metadata": {},
   "source": [
    "## Logistic Regression\n",
    "\n",
    "A model to predict delay > 60 min."
   ]
  },
  {
   "cell_type": "code",
   "execution_count": 53,
   "metadata": {
    "ExecuteTime": {
     "end_time": "2019-11-14T10:20:57.501000Z",
     "start_time": "2019-11-14T10:20:57.496000Z"
    }
   },
   "outputs": [],
   "source": [
    "from sklearn.linear_model import LogisticRegression\n",
    "from sklearn.preprocessing import StandardScaler\n",
    "from sklearn.metrics import auc, confusion_matrix, roc_auc_score, classification_report, roc_curve, accuracy_score\n",
    "from sklearn import metrics"
   ]
  },
  {
   "cell_type": "code",
   "execution_count": 54,
   "metadata": {
    "ExecuteTime": {
     "end_time": "2019-11-14T10:20:57.738500Z",
     "start_time": "2019-11-14T10:20:57.503500Z"
    }
   },
   "outputs": [],
   "source": [
    "log_reg_train = train1.copy()\n",
    "log_reg_test = test1.copy()"
   ]
  },
  {
   "cell_type": "code",
   "execution_count": 55,
   "metadata": {
    "ExecuteTime": {
     "end_time": "2019-11-14T10:20:57.996000Z",
     "start_time": "2019-11-14T10:20:57.743500Z"
    }
   },
   "outputs": [],
   "source": [
    "target_train = log_reg_train['delay'].apply(lambda x: 1 if x > 60 else 0)\n",
    "temp_train = log_reg_train.drop(['delay', 'flag_delay', 'group_delay'], axis = 1)\n",
    "\n",
    "target_test = log_reg_test['delay'].apply(lambda x: 1 if x > 60 else 0)\n",
    "temp_test= log_reg_test.drop(['delay', 'flag_delay', 'group_delay'], axis = 1)"
   ]
  },
  {
   "cell_type": "code",
   "execution_count": 56,
   "metadata": {
    "ExecuteTime": {
     "end_time": "2019-11-14T10:20:58.501000Z",
     "start_time": "2019-11-14T10:20:57.998500Z"
    }
   },
   "outputs": [],
   "source": [
    "X_train = pd.get_dummies(temp_train, dummy_na = True, drop_first = True)\n",
    "y_train = target_train\n",
    "\n",
    "X_test = pd.get_dummies(temp_test, dummy_na = True, drop_first = True)\n",
    "y_test = target_test\n",
    "\n",
    "# get missing columns in the training test\n",
    "miss_cols = set(X_train.columns) - set(X_test.columns )\n",
    "\n",
    "# add a missing column in test set with default value equal to 0\n",
    "for col in miss_cols:\n",
    "    X_test[col] = 0\n",
    "    \n",
    "# ensure the order of column in the test set is in the same order than in train set\n",
    "X_test = X_test[X_train.columns]"
   ]
  },
  {
   "cell_type": "code",
   "execution_count": 57,
   "metadata": {
    "ExecuteTime": {
     "end_time": "2019-11-14T10:21:33.749500Z",
     "start_time": "2019-11-14T10:20:58.501000Z"
    }
   },
   "outputs": [],
   "source": [
    "SC = StandardScaler()\n",
    "\n",
    "X_train = SC.fit_transform(X_train)\n",
    "X_test = SC.fit_transform(X_test)\n",
    "\n",
    "log_reg = LogisticRegression()\n",
    "log_reg.fit(X_train, y_train)\n",
    "\n",
    "y_pred_train = log_reg.predict(X_train)\n",
    "y_pred_test = log_reg.predict(X_test) "
   ]
  },
  {
   "cell_type": "code",
   "execution_count": 58,
   "metadata": {
    "ExecuteTime": {
     "end_time": "2019-11-14T10:21:33.859500Z",
     "start_time": "2019-11-14T10:21:33.752000Z"
    }
   },
   "outputs": [
    {
     "name": "stdout",
     "output_type": "stream",
     "text": [
      "[[107085      0]\n",
      " [  2725      1]]\n"
     ]
    }
   ],
   "source": [
    "cm_train = confusion_matrix(y_train, y_pred_train)\n",
    "print(cm_train)"
   ]
  },
  {
   "cell_type": "code",
   "execution_count": 59,
   "metadata": {
    "ExecuteTime": {
     "end_time": "2019-11-14T10:21:33.962000Z",
     "start_time": "2019-11-14T10:21:33.859500Z"
    }
   },
   "outputs": [
    {
     "name": "stdout",
     "output_type": "stream",
     "text": [
      "[[39123     1]\n",
      " [ 1792     0]]\n"
     ]
    }
   ],
   "source": [
    "cm_test = confusion_matrix(y_test, y_pred_test)\n",
    "print(cm_test)"
   ]
  },
  {
   "cell_type": "code",
   "execution_count": 60,
   "metadata": {
    "ExecuteTime": {
     "end_time": "2019-11-14T10:21:34.292000Z",
     "start_time": "2019-11-14T10:21:33.964500Z"
    }
   },
   "outputs": [],
   "source": [
    "fpr_train, tpr_train, threshold = metrics.roc_curve(y_train, y_pred_train)\n",
    "fpr_test, tpr_test, threshold = metrics.roc_curve(y_test, y_pred_test)\n",
    "\n",
    "report_train = classification_report(y_train, y_pred_train)\n",
    "report_test = classification_report(y_test, y_pred_test)"
   ]
  },
  {
   "cell_type": "code",
   "execution_count": 61,
   "metadata": {
    "ExecuteTime": {
     "end_time": "2019-11-14T10:21:34.304500Z",
     "start_time": "2019-11-14T10:21:34.294500Z"
    }
   },
   "outputs": [
    {
     "name": "stdout",
     "output_type": "stream",
     "text": [
      "Accuracy =  0.9562\n"
     ]
    }
   ],
   "source": [
    "score = accuracy_score(y_test, y_pred_test)\n",
    "print('Accuracy = ', round(score, 4))"
   ]
  },
  {
   "cell_type": "code",
   "execution_count": 62,
   "metadata": {
    "ExecuteTime": {
     "end_time": "2019-11-14T10:21:34.467000Z",
     "start_time": "2019-11-14T10:21:34.307000Z"
    }
   },
   "outputs": [
    {
     "name": "stdout",
     "output_type": "stream",
     "text": [
      "AUC train = 0.5001834189288334\n",
      "              precision    recall  f1-score   support\n",
      "\n",
      "           0       0.98      1.00      0.99    107085\n",
      "           1       1.00      0.00      0.00      2726\n",
      "\n",
      "   micro avg       0.98      0.98      0.98    109811\n",
      "   macro avg       0.99      0.50      0.49    109811\n",
      "weighted avg       0.98      0.98      0.96    109811\n",
      "\n",
      "\n",
      "\n",
      "AUC test = 0.49998722012064206\n",
      "              precision    recall  f1-score   support\n",
      "\n",
      "           0       0.96      1.00      0.98     39124\n",
      "           1       0.00      0.00      0.00      1792\n",
      "\n",
      "   micro avg       0.96      0.96      0.96     40916\n",
      "   macro avg       0.48      0.50      0.49     40916\n",
      "weighted avg       0.91      0.96      0.93     40916\n",
      "\n"
     ]
    }
   ],
   "source": [
    "print('AUC train = {}'.format(metrics.auc(fpr_train, tpr_train)))\n",
    "print(report_train)\n",
    "\n",
    "print()\n",
    "print()\n",
    "\n",
    "print('AUC test = {}'.format(metrics.auc(fpr_test, tpr_test)))\n",
    "print(report_test)"
   ]
  },
  {
   "cell_type": "code",
   "execution_count": 63,
   "metadata": {
    "ExecuteTime": {
     "end_time": "2019-11-14T10:21:34.844500Z",
     "start_time": "2019-11-14T10:21:34.469500Z"
    }
   },
   "outputs": [
    {
     "data": {
      "image/png": "[encoded data removed]",
      "text/plain": [
       "<Figure size 432x288 with 1 Axes>"
      ]
     },
     "metadata": {
      "needs_background": "light"
     },
     "output_type": "display_data"
    }
   ],
   "source": [
    "plt.figure()\n",
    "lw = 2\n",
    "plt.plot(fpr_train, tpr_train, color = 'darkorange',\n",
    "        lw = lw, label = 'ROC Curve (area = %0.2f)' %metrics.auc(fpr_train, tpr_train))\n",
    "plt.plot([0,1], [0,1], color = 'navy',lw = lw, linestyle = '--')\n",
    "plt.xlim([0.0, 1.0])\n",
    "plt.ylim([0.0, 1.05])\n",
    "plt.xlabel('False Positive Rate')\n",
    "plt.ylabel('True Positive Rate')\n",
    "plt.title('ROC, AUC Curve Train')\n",
    "plt.legend(loc = 'lower right')\n",
    "plt.show()"
   ]
  },
  {
   "cell_type": "code",
   "execution_count": 64,
   "metadata": {
    "ExecuteTime": {
     "end_time": "2019-11-14T10:21:35.012000Z",
     "start_time": "2019-11-14T10:21:34.847000Z"
    }
   },
   "outputs": [
    {
     "data": {
      "image/png": "[encoded data removed]",
      "text/plain": [
       "<Figure size 432x288 with 1 Axes>"
      ]
     },
     "metadata": {
      "needs_background": "light"
     },
     "output_type": "display_data"
    }
   ],
   "source": [
    "plt.figure()\n",
    "lw = 2\n",
    "plt.plot(fpr_test, tpr_test, color = 'darkorange',\n",
    "        lw = lw, label = 'ROC Curve (area = %0.2f)' %metrics.auc(fpr_test, tpr_test))\n",
    "plt.plot([0,1], [0,1], color = 'navy', lw = lw, linestyle = '--')\n",
    "plt.xlim([0.0, 1.0])\n",
    "plt.ylim([0.0, 1.05])\n",
    "plt.xlabel('False Positive Rate')\n",
    "plt.ylabel('True Positive Rate')\n",
    "plt.title('ROC, AUC Curve Test')\n",
    "plt.legend(loc = 'lower right')\n",
    "plt.show()"
   ]
  },
  {
   "cell_type": "markdown",
   "metadata": {},
   "source": [
    "## Decision Tree\n",
    "\n",
    "A model to predict delay > 60 min."
   ]
  },
  {
   "cell_type": "code",
   "execution_count": 65,
   "metadata": {
    "ExecuteTime": {
     "end_time": "2019-11-14T10:21:35.032000Z",
     "start_time": "2019-11-14T10:21:35.014500Z"
    }
   },
   "outputs": [],
   "source": [
    "from sklearn.tree import DecisionTreeClassifier"
   ]
  },
  {
   "cell_type": "code",
   "execution_count": 66,
   "metadata": {
    "ExecuteTime": {
     "end_time": "2019-11-14T10:21:35.149500Z",
     "start_time": "2019-11-14T10:21:35.034500Z"
    }
   },
   "outputs": [],
   "source": [
    "dec_tree_train = train1.copy()\n",
    "dec_tree_test = test1.copy()"
   ]
  },
  {
   "cell_type": "code",
   "execution_count": 67,
   "metadata": {
    "ExecuteTime": {
     "end_time": "2019-11-14T10:21:35.324500Z",
     "start_time": "2019-11-14T10:21:35.154500Z"
    }
   },
   "outputs": [],
   "source": [
    "target_train = dec_tree_train['delay'].apply(lambda x: 1 if x > 60 else 0)\n",
    "temp_train = dec_tree_train.drop(['delay', 'flag_delay', 'group_delay'], axis = 1)\n",
    "\n",
    "target_test = dec_tree_test['delay'].apply(lambda x: 1 if x > 60 else 0)\n",
    "temp_test= dec_tree_test.drop(['delay', 'flag_delay', 'group_delay'], axis = 1)"
   ]
  },
  {
   "cell_type": "code",
   "execution_count": 68,
   "metadata": {
    "ExecuteTime": {
     "end_time": "2019-11-14T10:21:35.961500Z",
     "start_time": "2019-11-14T10:21:35.332000Z"
    }
   },
   "outputs": [],
   "source": [
    "X_train = pd.get_dummies(temp_train, dummy_na = True, drop_first = True)\n",
    "y_train = target_train\n",
    "\n",
    "X_test = pd.get_dummies(temp_test, dummy_na = True, drop_first = True)\n",
    "y_test = target_test\n",
    "\n",
    "# get missing columns in the training test\n",
    "miss_cols = set(X_train.columns) - set(X_test.columns )\n",
    "\n",
    "# add a missing column in test set with default value equal to 0\n",
    "for col in miss_cols:\n",
    "    X_test[col] = 0\n",
    "    \n",
    "# ensure the order of column in the test set is in the same order than in train set\n",
    "X_test = X_test[X_train.columns]"
   ]
  },
  {
   "cell_type": "code",
   "execution_count": 69,
   "metadata": {
    "ExecuteTime": {
     "end_time": "2019-11-14T10:21:40.108500Z",
     "start_time": "2019-11-14T10:21:35.966500Z"
    }
   },
   "outputs": [],
   "source": [
    "SC = StandardScaler()\n",
    "\n",
    "X_train = SC.fit_transform(X_train)\n",
    "X_test = SC.fit_transform(X_test)\n",
    "\n",
    "dec_tree = DecisionTreeClassifier(max_depth=3)\n",
    "dec_tree.fit(X_train, y_train)\n",
    "\n",
    "y_pred_train = dec_tree.predict(X_train)\n",
    "y_pred_test = dec_tree.predict(X_test) "
   ]
  },
  {
   "cell_type": "code",
   "execution_count": 70,
   "metadata": {
    "ExecuteTime": {
     "end_time": "2019-11-14T10:21:40.211000Z",
     "start_time": "2019-11-14T10:21:40.111000Z"
    }
   },
   "outputs": [
    {
     "name": "stdout",
     "output_type": "stream",
     "text": [
      "[[107085      0]\n",
      " [  2726      0]]\n"
     ]
    }
   ],
   "source": [
    "cm_train = confusion_matrix(y_train, y_pred_train)\n",
    "print(cm_train)"
   ]
  },
  {
   "cell_type": "code",
   "execution_count": 71,
   "metadata": {
    "ExecuteTime": {
     "end_time": "2019-11-14T10:21:40.296000Z",
     "start_time": "2019-11-14T10:21:40.216000Z"
    }
   },
   "outputs": [
    {
     "name": "stdout",
     "output_type": "stream",
     "text": [
      "[[39124     0]\n",
      " [ 1792     0]]\n"
     ]
    }
   ],
   "source": [
    "cm_test = confusion_matrix(y_test, y_pred_test)\n",
    "print(cm_test)"
   ]
  },
  {
   "cell_type": "code",
   "execution_count": 72,
   "metadata": {
    "ExecuteTime": {
     "end_time": "2019-11-14T10:21:40.581000Z",
     "start_time": "2019-11-14T10:21:40.296000Z"
    }
   },
   "outputs": [],
   "source": [
    "fpr_train, tpr_train, threshold = metrics.roc_curve(y_train, y_pred_train)\n",
    "fpr_test, tpr_test, threshold = metrics.roc_curve(y_test, y_pred_test)\n",
    "\n",
    "report_train = classification_report(y_train, y_pred_train)\n",
    "report_test = classification_report(y_test, y_pred_test)"
   ]
  },
  {
   "cell_type": "code",
   "execution_count": 73,
   "metadata": {
    "ExecuteTime": {
     "end_time": "2019-11-14T10:21:40.596000Z",
     "start_time": "2019-11-14T10:21:40.583500Z"
    }
   },
   "outputs": [
    {
     "name": "stdout",
     "output_type": "stream",
     "text": [
      "Accuracy =  0.9562\n"
     ]
    }
   ],
   "source": [
    "score = accuracy_score(y_test, y_pred_test)\n",
    "print('Accuracy = ', round(score, 4))"
   ]
  },
  {
   "cell_type": "code",
   "execution_count": 74,
   "metadata": {
    "ExecuteTime": {
     "end_time": "2019-11-14T10:21:40.723500Z",
     "start_time": "2019-11-14T10:21:40.598500Z"
    }
   },
   "outputs": [
    {
     "name": "stdout",
     "output_type": "stream",
     "text": [
      "AUC train = 0.5\n",
      "              precision    recall  f1-score   support\n",
      "\n",
      "           0       0.98      1.00      0.99    107085\n",
      "           1       0.00      0.00      0.00      2726\n",
      "\n",
      "   micro avg       0.98      0.98      0.98    109811\n",
      "   macro avg       0.49      0.50      0.49    109811\n",
      "weighted avg       0.95      0.98      0.96    109811\n",
      "\n",
      "\n",
      "\n",
      "AUC test = 0.5\n",
      "              precision    recall  f1-score   support\n",
      "\n",
      "           0       0.96      1.00      0.98     39124\n",
      "           1       0.00      0.00      0.00      1792\n",
      "\n",
      "   micro avg       0.96      0.96      0.96     40916\n",
      "   macro avg       0.48      0.50      0.49     40916\n",
      "weighted avg       0.91      0.96      0.93     40916\n",
      "\n"
     ]
    }
   ],
   "source": [
    "print('AUC train = {}'.format(metrics.auc(fpr_train, tpr_train)))\n",
    "print(report_train)\n",
    "\n",
    "print()\n",
    "print()\n",
    "\n",
    "print('AUC test = {}'.format(metrics.auc(fpr_test, tpr_test)))\n",
    "print(report_test)"
   ]
  },
  {
   "cell_type": "code",
   "execution_count": 75,
   "metadata": {
    "ExecuteTime": {
     "end_time": "2019-11-14T10:21:41.068500Z",
     "start_time": "2019-11-14T10:21:40.728500Z"
    }
   },
   "outputs": [
    {
     "data": {
      "image/png": "[encoded data removed]",
      "text/plain": [
       "<Figure size 432x288 with 1 Axes>"
      ]
     },
     "metadata": {
      "needs_background": "light"
     },
     "output_type": "display_data"
    }
   ],
   "source": [
    "plt.figure()\n",
    "lw = 2\n",
    "plt.plot(fpr_train, tpr_train, color = 'darkorange',\n",
    "        lw = lw, label = 'ROC Curve (area = %0.2f)' %metrics.auc(fpr_train, tpr_train))\n",
    "plt.plot([0,1], [0,1], color = 'navy',lw = lw, linestyle = '--')\n",
    "plt.xlim([0.0, 1.0])\n",
    "plt.ylim([0.0, 1.05])\n",
    "plt.xlabel('False Positive Rate')\n",
    "plt.ylabel('True Positive Rate')\n",
    "plt.title('ROC, AUC Curve Train')\n",
    "plt.legend(loc = 'lower right')\n",
    "plt.show()"
   ]
  },
  {
   "cell_type": "code",
   "execution_count": 76,
   "metadata": {
    "ExecuteTime": {
     "end_time": "2019-11-14T10:21:41.243500Z",
     "start_time": "2019-11-14T10:21:41.071000Z"
    }
   },
   "outputs": [
    {
     "data": {
      "image/png": "[encoded data removed]",
      "text/plain": [
       "<Figure size 432x288 with 1 Axes>"
      ]
     },
     "metadata": {
      "needs_background": "light"
     },
     "output_type": "display_data"
    }
   ],
   "source": [
    "plt.figure()\n",
    "lw = 2\n",
    "plt.plot(fpr_test, tpr_test, color = 'darkorange',\n",
    "        lw = lw, label = 'ROC Curve (area = %0.2f)' %metrics.auc(fpr_test, tpr_test))\n",
    "plt.plot([0,1], [0,1], color = 'navy', lw = lw, linestyle = '--')\n",
    "plt.xlim([0.0, 1.0])\n",
    "plt.ylim([0.0, 1.05])\n",
    "plt.xlabel('False Positive Rate')\n",
    "plt.ylabel('True Positive Rate')\n",
    "plt.title('ROC, AUC Curve Test')\n",
    "plt.legend(loc = 'lower right')\n",
    "plt.show()"
   ]
  },
  {
   "cell_type": "markdown",
   "metadata": {},
   "source": [
    "## Predict Delay in December for Delay > 60\n",
    "\n",
    "Predict 'delay > 60' using test data. We will use our **(1.8) Logistic Regression** model."
   ]
  },
  {
   "cell_type": "code",
   "execution_count": 77,
   "metadata": {
    "ExecuteTime": {
     "end_time": "2019-11-14T10:21:41.266000Z",
     "start_time": "2019-11-14T10:21:41.246000Z"
    }
   },
   "outputs": [],
   "source": [
    "log_reg_train = train1.copy()\n",
    "log_reg_test = test1.copy()"
   ]
  },
  {
   "cell_type": "code",
   "execution_count": 78,
   "metadata": {
    "ExecuteTime": {
     "end_time": "2019-11-14T10:21:41.443500Z",
     "start_time": "2019-11-14T10:21:41.266000Z"
    }
   },
   "outputs": [],
   "source": [
    "target_train = log_reg_train['delay'].apply(lambda x: 1 if x > 60 else 0)\n",
    "temp_train = log_reg_train.drop(['delay', 'flag_delay', 'group_delay'], axis = 1)\n",
    "\n",
    "target_test = log_reg_test['delay'].apply(lambda x: 1 if x > 60 else 0)\n",
    "temp_test= log_reg_test.drop(['delay', 'flag_delay', 'group_delay'], axis = 1)"
   ]
  },
  {
   "cell_type": "code",
   "execution_count": 79,
   "metadata": {
    "ExecuteTime": {
     "end_time": "2019-11-14T10:21:41.981000Z",
     "start_time": "2019-11-14T10:21:41.443500Z"
    }
   },
   "outputs": [],
   "source": [
    "X_train = pd.get_dummies(temp_train, dummy_na = True, drop_first = True)\n",
    "y_train = target_train\n",
    "\n",
    "X_test = pd.get_dummies(temp_test, dummy_na = True, drop_first = True)\n",
    "y_test = target_test\n",
    "\n",
    "# get missing columns in the training test\n",
    "miss_cols = set(X_train.columns) - set(X_test.columns )\n",
    "\n",
    "# add a missing column in test set with default value equal to 0\n",
    "for col in miss_cols:\n",
    "    X_test[col] = 0\n",
    "    \n",
    "# ensure the order of column in the test set is in the same order than in train set\n",
    "X_test = X_test[X_train.columns]"
   ]
  },
  {
   "cell_type": "code",
   "execution_count": 80,
   "metadata": {
    "ExecuteTime": {
     "end_time": "2019-11-14T10:22:18.802000Z",
     "start_time": "2019-11-14T10:21:41.981000Z"
    }
   },
   "outputs": [],
   "source": [
    "SC = StandardScaler()\n",
    "\n",
    "X_train = SC.fit_transform(X_train)\n",
    "X_test = SC.fit_transform(X_test)\n",
    "\n",
    "log_reg = LogisticRegression()\n",
    "log_reg.fit(X_train, y_train)\n",
    "\n",
    "y_pred_train = log_reg.predict(X_train)\n",
    "y_pred_test = log_reg.predict(X_test) "
   ]
  },
  {
   "cell_type": "code",
   "execution_count": 81,
   "metadata": {
    "ExecuteTime": {
     "end_time": "2019-11-14T10:22:18.809500Z",
     "start_time": "2019-11-14T10:22:18.802000Z"
    }
   },
   "outputs": [],
   "source": [
    "target_pred = y_pred_test.copy()\n",
    "data_pred = temp_test.copy()"
   ]
  },
  {
   "cell_type": "code",
   "execution_count": 82,
   "metadata": {
    "ExecuteTime": {
     "end_time": "2019-11-14T10:22:18.932000Z",
     "start_time": "2019-11-14T10:22:18.812000Z"
    }
   },
   "outputs": [],
   "source": [
    "data_pred['delay_pred'] = target_pred"
   ]
  },
  {
   "cell_type": "code",
   "execution_count": 83,
   "metadata": {
    "ExecuteTime": {
     "end_time": "2019-11-14T10:22:19.072000Z",
     "start_time": "2019-11-14T10:22:18.934500Z"
    }
   },
   "outputs": [
    {
     "data": {
      "text/html": [
       "<div>\n",
       "<style scoped>\n",
       "    .dataframe tbody tr th:only-of-type {\n",
       "        vertical-align: middle;\n",
       "    }\n",
       "\n",
       "    .dataframe tbody tr th {\n",
       "        vertical-align: top;\n",
       "    }\n",
       "\n",
       "    .dataframe thead th {\n",
       "        text-align: right;\n",
       "    }\n",
       "</style>\n",
       "<table border=\"1\" class=\"dataframe\">\n",
       "  <thead>\n",
       "    <tr style=\"text-align: right;\">\n",
       "      <th></th>\n",
       "      <th>airline_name</th>\n",
       "      <th>departure_airport_name</th>\n",
       "      <th>arrival_airport_name</th>\n",
       "      <th>scheduled_flight_duration_mins</th>\n",
       "      <th>scheduled_flight_duration_hours</th>\n",
       "      <th>departure_day</th>\n",
       "      <th>dep_weekend</th>\n",
       "      <th>departure_hour</th>\n",
       "      <th>delay_pred</th>\n",
       "    </tr>\n",
       "  </thead>\n",
       "  <tbody>\n",
       "    <tr>\n",
       "      <th>37641</th>\n",
       "      <td>Pakistan International Airlines</td>\n",
       "      <td>Kuala Lumpur International Airport</td>\n",
       "      <td>Soekarno-Hatta International Airport</td>\n",
       "      <td>135</td>\n",
       "      <td>2.25</td>\n",
       "      <td>Wednesday</td>\n",
       "      <td>0</td>\n",
       "      <td>1</td>\n",
       "      <td>1</td>\n",
       "    </tr>\n",
       "  </tbody>\n",
       "</table>\n",
       "</div>"
      ],
      "text/plain": [
       "                          airline_name              departure_airport_name  \\\n",
       "37641  Pakistan International Airlines  Kuala Lumpur International Airport   \n",
       "\n",
       "                       arrival_airport_name  scheduled_flight_duration_mins  \\\n",
       "37641  Soekarno-Hatta International Airport                             135   \n",
       "\n",
       "       scheduled_flight_duration_hours departure_day  dep_weekend  \\\n",
       "37641                             2.25     Wednesday            0   \n",
       "\n",
       "       departure_hour  delay_pred  \n",
       "37641               1           1  "
      ]
     },
     "metadata": {},
     "output_type": "display_data"
    }
   ],
   "source": [
    "# show the flight in December that predicted will suffer delay > 60 minutes\n",
    "display(data_pred.loc[data_pred['delay_pred'] == 1])"
   ]
  },
  {
   "cell_type": "markdown",
   "metadata": {},
   "source": [
    "The model still needs improvement because it can only predict 1 flight that will suffer delay more than 60 minutes (and it is impossible)."
   ]
  }
 ],
 "metadata": {
  "kernelspec": {
   "display_name": "Python 3",
   "language": "python",
   "name": "python3"
  },
  "language_info": {
   "codemirror_mode": {
    "name": "ipython",
    "version": 3
   },
   "file_extension": ".py",
   "mimetype": "text/x-python",
   "name": "python",
   "nbconvert_exporter": "python",
   "pygments_lexer": "ipython3",
   "version": "3.7.3"
  },
  "toc": {
   "base_numbering": 1,
   "nav_menu": {},
   "number_sections": true,
   "sideBar": true,
   "skip_h1_title": false,
   "title_cell": "Table of Contents",
   "title_sidebar": "Contents",
   "toc_cell": false,
   "toc_position": {},
   "toc_section_display": true,
   "toc_window_display": true
  }
 },
 "nbformat": 4,
 "nbformat_minor": 2
}
