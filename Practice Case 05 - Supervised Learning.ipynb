{
 "cells": [
  {
   "cell_type": "markdown",
   "metadata": {},
   "source": [
    "# Supervised Learning\n",
    "\n",
    "Author: Nirta Ika Yunita\n",
    "<br> Date: November 11, 2019"
   ]
  },
  {
   "cell_type": "markdown",
   "metadata": {},
   "source": [
    "Given the train.csv and test.csv, perform the following actions.\n",
    "\n",
    "<br>1\\. Create classifiers from train.csv data, in order to predict att10 as label based on the rest of the attributes. \n",
    "<br>Use at least 5 algorithms (k-NN, Decision Tree, Logistic Regression, Voting, Averaging, Bagging, Random Forest, Averaging, Voting, AdaBoost, XGBoost, LightGBM, CatBoost, or Stacking).\n",
    "<br>Use AUC for your model evaluation performance.\n",
    "\n",
    "<br>2\\. Choose the best Classifier based on highest AUC and use it for predicting the test.csv data."
   ]
  },
  {
   "cell_type": "markdown",
   "metadata": {},
   "source": [
    "## Load Library"
   ]
  },
  {
   "cell_type": "code",
   "execution_count": 1,
   "metadata": {
    "ExecuteTime": {
     "end_time": "2019-11-17T10:13:45.556000Z",
     "start_time": "2019-11-17T10:13:43.491000Z"
    }
   },
   "outputs": [],
   "source": [
    "import numpy as np\n",
    "import pandas as pd\n",
    "import matplotlib.pyplot as plt\n",
    "import seaborn as sns\n",
    "import warnings\n",
    "warnings.filterwarnings(\"ignore\")"
   ]
  },
  {
   "cell_type": "markdown",
   "metadata": {},
   "source": [
    "## Import Data"
   ]
  },
  {
   "cell_type": "code",
   "execution_count": 2,
   "metadata": {
    "ExecuteTime": {
     "end_time": "2019-11-17T10:13:45.593500Z",
     "start_time": "2019-11-17T10:13:45.558500Z"
    }
   },
   "outputs": [],
   "source": [
    "d_train = pd.read_csv('train.csv')\n",
    "d_test = pd.read_csv('test.csv')"
   ]
  },
  {
   "cell_type": "code",
   "execution_count": 3,
   "metadata": {
    "ExecuteTime": {
     "end_time": "2019-11-17T10:13:45.863500Z",
     "start_time": "2019-11-17T10:13:45.598500Z"
    }
   },
   "outputs": [
    {
     "data": {
      "text/html": [
       "<div>\n",
       "<style scoped>\n",
       "    .dataframe tbody tr th:only-of-type {\n",
       "        vertical-align: middle;\n",
       "    }\n",
       "\n",
       "    .dataframe tbody tr th {\n",
       "        vertical-align: top;\n",
       "    }\n",
       "\n",
       "    .dataframe thead th {\n",
       "        text-align: right;\n",
       "    }\n",
       "</style>\n",
       "<table border=\"1\" class=\"dataframe\">\n",
       "  <thead>\n",
       "    <tr style=\"text-align: right;\">\n",
       "      <th></th>\n",
       "      <th>att1</th>\n",
       "      <th>att2</th>\n",
       "      <th>att3</th>\n",
       "      <th>att4</th>\n",
       "      <th>att5</th>\n",
       "      <th>att6</th>\n",
       "      <th>att7</th>\n",
       "      <th>att8a</th>\n",
       "      <th>att8b</th>\n",
       "      <th>att8c</th>\n",
       "      <th>...</th>\n",
       "      <th>att8e</th>\n",
       "      <th>att8f</th>\n",
       "      <th>att8g</th>\n",
       "      <th>att8h</th>\n",
       "      <th>att8i</th>\n",
       "      <th>att8j</th>\n",
       "      <th>att9a</th>\n",
       "      <th>att9b</th>\n",
       "      <th>att9c</th>\n",
       "      <th>att10</th>\n",
       "    </tr>\n",
       "  </thead>\n",
       "  <tbody>\n",
       "    <tr>\n",
       "      <th>0</th>\n",
       "      <td>0.16</td>\n",
       "      <td>0.82</td>\n",
       "      <td>6</td>\n",
       "      <td>202</td>\n",
       "      <td>4</td>\n",
       "      <td>1</td>\n",
       "      <td>1</td>\n",
       "      <td>0</td>\n",
       "      <td>0</td>\n",
       "      <td>0</td>\n",
       "      <td>...</td>\n",
       "      <td>0</td>\n",
       "      <td>0</td>\n",
       "      <td>0</td>\n",
       "      <td>1</td>\n",
       "      <td>0</td>\n",
       "      <td>0</td>\n",
       "      <td>0</td>\n",
       "      <td>0</td>\n",
       "      <td>1</td>\n",
       "      <td>0</td>\n",
       "    </tr>\n",
       "    <tr>\n",
       "      <th>1</th>\n",
       "      <td>0.43</td>\n",
       "      <td>0.48</td>\n",
       "      <td>2</td>\n",
       "      <td>153</td>\n",
       "      <td>3</td>\n",
       "      <td>0</td>\n",
       "      <td>0</td>\n",
       "      <td>0</td>\n",
       "      <td>0</td>\n",
       "      <td>1</td>\n",
       "      <td>...</td>\n",
       "      <td>0</td>\n",
       "      <td>0</td>\n",
       "      <td>0</td>\n",
       "      <td>0</td>\n",
       "      <td>0</td>\n",
       "      <td>0</td>\n",
       "      <td>0</td>\n",
       "      <td>1</td>\n",
       "      <td>0</td>\n",
       "      <td>1</td>\n",
       "    </tr>\n",
       "    <tr>\n",
       "      <th>2</th>\n",
       "      <td>0.39</td>\n",
       "      <td>0.54</td>\n",
       "      <td>2</td>\n",
       "      <td>127</td>\n",
       "      <td>3</td>\n",
       "      <td>0</td>\n",
       "      <td>0</td>\n",
       "      <td>0</td>\n",
       "      <td>0</td>\n",
       "      <td>0</td>\n",
       "      <td>...</td>\n",
       "      <td>0</td>\n",
       "      <td>0</td>\n",
       "      <td>0</td>\n",
       "      <td>1</td>\n",
       "      <td>0</td>\n",
       "      <td>0</td>\n",
       "      <td>0</td>\n",
       "      <td>1</td>\n",
       "      <td>0</td>\n",
       "      <td>1</td>\n",
       "    </tr>\n",
       "    <tr>\n",
       "      <th>3</th>\n",
       "      <td>0.73</td>\n",
       "      <td>1.00</td>\n",
       "      <td>5</td>\n",
       "      <td>253</td>\n",
       "      <td>6</td>\n",
       "      <td>0</td>\n",
       "      <td>0</td>\n",
       "      <td>0</td>\n",
       "      <td>0</td>\n",
       "      <td>0</td>\n",
       "      <td>...</td>\n",
       "      <td>0</td>\n",
       "      <td>0</td>\n",
       "      <td>0</td>\n",
       "      <td>0</td>\n",
       "      <td>1</td>\n",
       "      <td>0</td>\n",
       "      <td>0</td>\n",
       "      <td>1</td>\n",
       "      <td>0</td>\n",
       "      <td>1</td>\n",
       "    </tr>\n",
       "    <tr>\n",
       "      <th>4</th>\n",
       "      <td>0.44</td>\n",
       "      <td>0.46</td>\n",
       "      <td>2</td>\n",
       "      <td>149</td>\n",
       "      <td>3</td>\n",
       "      <td>0</td>\n",
       "      <td>0</td>\n",
       "      <td>0</td>\n",
       "      <td>0</td>\n",
       "      <td>0</td>\n",
       "      <td>...</td>\n",
       "      <td>0</td>\n",
       "      <td>0</td>\n",
       "      <td>0</td>\n",
       "      <td>0</td>\n",
       "      <td>0</td>\n",
       "      <td>1</td>\n",
       "      <td>0</td>\n",
       "      <td>1</td>\n",
       "      <td>0</td>\n",
       "      <td>1</td>\n",
       "    </tr>\n",
       "  </tbody>\n",
       "</table>\n",
       "<p>5 rows × 21 columns</p>\n",
       "</div>"
      ],
      "text/plain": [
       "   att1  att2  att3  att4  att5  att6  att7  att8a  att8b  att8c  ...  att8e  \\\n",
       "0  0.16  0.82     6   202     4     1     1      0      0      0  ...      0   \n",
       "1  0.43  0.48     2   153     3     0     0      0      0      1  ...      0   \n",
       "2  0.39  0.54     2   127     3     0     0      0      0      0  ...      0   \n",
       "3  0.73  1.00     5   253     6     0     0      0      0      0  ...      0   \n",
       "4  0.44  0.46     2   149     3     0     0      0      0      0  ...      0   \n",
       "\n",
       "   att8f  att8g  att8h  att8i  att8j  att9a  att9b  att9c  att10  \n",
       "0      0      0      1      0      0      0      0      1      0  \n",
       "1      0      0      0      0      0      0      1      0      1  \n",
       "2      0      0      1      0      0      0      1      0      1  \n",
       "3      0      0      0      1      0      0      1      0      1  \n",
       "4      0      0      0      0      1      0      1      0      1  \n",
       "\n",
       "[5 rows x 21 columns]"
      ]
     },
     "execution_count": 3,
     "metadata": {},
     "output_type": "execute_result"
    }
   ],
   "source": [
    "d_train.head()"
   ]
  },
  {
   "cell_type": "code",
   "execution_count": 4,
   "metadata": {
    "ExecuteTime": {
     "end_time": "2019-11-17T10:13:46.336000Z",
     "start_time": "2019-11-17T10:13:45.866000Z"
    }
   },
   "outputs": [
    {
     "data": {
      "text/html": [
       "<div>\n",
       "<style scoped>\n",
       "    .dataframe tbody tr th:only-of-type {\n",
       "        vertical-align: middle;\n",
       "    }\n",
       "\n",
       "    .dataframe tbody tr th {\n",
       "        vertical-align: top;\n",
       "    }\n",
       "\n",
       "    .dataframe thead th {\n",
       "        text-align: right;\n",
       "    }\n",
       "</style>\n",
       "<table border=\"1\" class=\"dataframe\">\n",
       "  <thead>\n",
       "    <tr style=\"text-align: right;\">\n",
       "      <th></th>\n",
       "      <th>att1</th>\n",
       "      <th>att2</th>\n",
       "      <th>att3</th>\n",
       "      <th>att4</th>\n",
       "      <th>att5</th>\n",
       "      <th>att6</th>\n",
       "      <th>att7</th>\n",
       "      <th>att8a</th>\n",
       "      <th>att8b</th>\n",
       "      <th>att8c</th>\n",
       "      <th>att8d</th>\n",
       "      <th>att8e</th>\n",
       "      <th>att8f</th>\n",
       "      <th>att8g</th>\n",
       "      <th>att8h</th>\n",
       "      <th>att8i</th>\n",
       "      <th>att8j</th>\n",
       "      <th>att9a</th>\n",
       "      <th>att9b</th>\n",
       "      <th>att9c</th>\n",
       "    </tr>\n",
       "  </thead>\n",
       "  <tbody>\n",
       "    <tr>\n",
       "      <th>0</th>\n",
       "      <td>0.66</td>\n",
       "      <td>0.62</td>\n",
       "      <td>4</td>\n",
       "      <td>250</td>\n",
       "      <td>2</td>\n",
       "      <td>0</td>\n",
       "      <td>0</td>\n",
       "      <td>0</td>\n",
       "      <td>1</td>\n",
       "      <td>0</td>\n",
       "      <td>0</td>\n",
       "      <td>0</td>\n",
       "      <td>0</td>\n",
       "      <td>0</td>\n",
       "      <td>0</td>\n",
       "      <td>0</td>\n",
       "      <td>0</td>\n",
       "      <td>0</td>\n",
       "      <td>0</td>\n",
       "      <td>1</td>\n",
       "    </tr>\n",
       "    <tr>\n",
       "      <th>1</th>\n",
       "      <td>0.66</td>\n",
       "      <td>0.50</td>\n",
       "      <td>4</td>\n",
       "      <td>263</td>\n",
       "      <td>3</td>\n",
       "      <td>0</td>\n",
       "      <td>0</td>\n",
       "      <td>0</td>\n",
       "      <td>0</td>\n",
       "      <td>0</td>\n",
       "      <td>0</td>\n",
       "      <td>0</td>\n",
       "      <td>0</td>\n",
       "      <td>0</td>\n",
       "      <td>1</td>\n",
       "      <td>0</td>\n",
       "      <td>0</td>\n",
       "      <td>1</td>\n",
       "      <td>0</td>\n",
       "      <td>0</td>\n",
       "    </tr>\n",
       "    <tr>\n",
       "      <th>2</th>\n",
       "      <td>0.32</td>\n",
       "      <td>0.74</td>\n",
       "      <td>3</td>\n",
       "      <td>211</td>\n",
       "      <td>3</td>\n",
       "      <td>0</td>\n",
       "      <td>0</td>\n",
       "      <td>0</td>\n",
       "      <td>0</td>\n",
       "      <td>0</td>\n",
       "      <td>0</td>\n",
       "      <td>0</td>\n",
       "      <td>0</td>\n",
       "      <td>0</td>\n",
       "      <td>0</td>\n",
       "      <td>0</td>\n",
       "      <td>1</td>\n",
       "      <td>0</td>\n",
       "      <td>1</td>\n",
       "      <td>0</td>\n",
       "    </tr>\n",
       "    <tr>\n",
       "      <th>3</th>\n",
       "      <td>0.37</td>\n",
       "      <td>0.57</td>\n",
       "      <td>2</td>\n",
       "      <td>155</td>\n",
       "      <td>3</td>\n",
       "      <td>0</td>\n",
       "      <td>0</td>\n",
       "      <td>0</td>\n",
       "      <td>0</td>\n",
       "      <td>0</td>\n",
       "      <td>0</td>\n",
       "      <td>0</td>\n",
       "      <td>0</td>\n",
       "      <td>0</td>\n",
       "      <td>0</td>\n",
       "      <td>1</td>\n",
       "      <td>0</td>\n",
       "      <td>0</td>\n",
       "      <td>1</td>\n",
       "      <td>0</td>\n",
       "    </tr>\n",
       "    <tr>\n",
       "      <th>4</th>\n",
       "      <td>0.41</td>\n",
       "      <td>0.49</td>\n",
       "      <td>2</td>\n",
       "      <td>130</td>\n",
       "      <td>3</td>\n",
       "      <td>0</td>\n",
       "      <td>0</td>\n",
       "      <td>0</td>\n",
       "      <td>0</td>\n",
       "      <td>0</td>\n",
       "      <td>0</td>\n",
       "      <td>0</td>\n",
       "      <td>1</td>\n",
       "      <td>0</td>\n",
       "      <td>0</td>\n",
       "      <td>0</td>\n",
       "      <td>0</td>\n",
       "      <td>0</td>\n",
       "      <td>1</td>\n",
       "      <td>0</td>\n",
       "    </tr>\n",
       "  </tbody>\n",
       "</table>\n",
       "</div>"
      ],
      "text/plain": [
       "   att1  att2  att3  att4  att5  att6  att7  att8a  att8b  att8c  att8d  \\\n",
       "0  0.66  0.62     4   250     2     0     0      0      1      0      0   \n",
       "1  0.66  0.50     4   263     3     0     0      0      0      0      0   \n",
       "2  0.32  0.74     3   211     3     0     0      0      0      0      0   \n",
       "3  0.37  0.57     2   155     3     0     0      0      0      0      0   \n",
       "4  0.41  0.49     2   130     3     0     0      0      0      0      0   \n",
       "\n",
       "   att8e  att8f  att8g  att8h  att8i  att8j  att9a  att9b  att9c  \n",
       "0      0      0      0      0      0      0      0      0      1  \n",
       "1      0      0      0      1      0      0      1      0      0  \n",
       "2      0      0      0      0      0      1      0      1      0  \n",
       "3      0      0      0      0      1      0      0      1      0  \n",
       "4      0      1      0      0      0      0      0      1      0  "
      ]
     },
     "execution_count": 4,
     "metadata": {},
     "output_type": "execute_result"
    }
   ],
   "source": [
    "d_test.head()"
   ]
  },
  {
   "cell_type": "code",
   "execution_count": 5,
   "metadata": {
    "ExecuteTime": {
     "end_time": "2019-11-17T10:13:46.466000Z",
     "start_time": "2019-11-17T10:13:46.341000Z"
    }
   },
   "outputs": [
    {
     "name": "stdout",
     "output_type": "stream",
     "text": [
      "Train data shape (8000, 21)\n",
      "Test data shape (2000, 20)\n"
     ]
    }
   ],
   "source": [
    "print('Train data shape {}' .format(d_train.shape))\n",
    "print('Test data shape {}' .format(d_test.shape))"
   ]
  },
  {
   "cell_type": "markdown",
   "metadata": {
    "ExecuteTime": {
     "end_time": "2019-11-17T01:04:56.976000Z",
     "start_time": "2019-11-17T01:04:56.959000Z"
    }
   },
   "source": [
    "There is no **att10** column in d_test. Other columns are same between **d_train** and **d_test**.\n",
    "<br>We will use **d_train** dataset and split it become train and test data. Then, predict the result using **d_test** dataset"
   ]
  },
  {
   "cell_type": "code",
   "execution_count": 6,
   "metadata": {
    "ExecuteTime": {
     "end_time": "2019-11-17T10:13:46.586000Z",
     "start_time": "2019-11-17T10:13:46.468500Z"
    }
   },
   "outputs": [
    {
     "name": "stdout",
     "output_type": "stream",
     "text": [
      "<class 'pandas.core.frame.DataFrame'>\n",
      "RangeIndex: 8000 entries, 0 to 7999\n",
      "Data columns (total 21 columns):\n",
      "att1     8000 non-null float64\n",
      "att2     8000 non-null float64\n",
      "att3     8000 non-null int64\n",
      "att4     8000 non-null int64\n",
      "att5     8000 non-null int64\n",
      "att6     8000 non-null int64\n",
      "att7     8000 non-null int64\n",
      "att8a    8000 non-null int64\n",
      "att8b    8000 non-null int64\n",
      "att8c    8000 non-null int64\n",
      "att8d    8000 non-null int64\n",
      "att8e    8000 non-null int64\n",
      "att8f    8000 non-null int64\n",
      "att8g    8000 non-null int64\n",
      "att8h    8000 non-null int64\n",
      "att8i    8000 non-null int64\n",
      "att8j    8000 non-null int64\n",
      "att9a    8000 non-null int64\n",
      "att9b    8000 non-null int64\n",
      "att9c    8000 non-null int64\n",
      "att10    8000 non-null int64\n",
      "dtypes: float64(2), int64(19)\n",
      "memory usage: 1.3 MB\n"
     ]
    }
   ],
   "source": [
    "d_train.info()"
   ]
  },
  {
   "cell_type": "markdown",
   "metadata": {},
   "source": [
    "**att10** is the target. **att8a** until **att9c** are the results of one hot encode."
   ]
  },
  {
   "cell_type": "code",
   "execution_count": 7,
   "metadata": {
    "ExecuteTime": {
     "end_time": "2019-11-17T10:13:46.763500Z",
     "start_time": "2019-11-17T10:13:46.588500Z"
    }
   },
   "outputs": [
    {
     "data": {
      "text/html": [
       "<div>\n",
       "<style scoped>\n",
       "    .dataframe tbody tr th:only-of-type {\n",
       "        vertical-align: middle;\n",
       "    }\n",
       "\n",
       "    .dataframe tbody tr th {\n",
       "        vertical-align: top;\n",
       "    }\n",
       "\n",
       "    .dataframe thead th {\n",
       "        text-align: right;\n",
       "    }\n",
       "</style>\n",
       "<table border=\"1\" class=\"dataframe\">\n",
       "  <thead>\n",
       "    <tr style=\"text-align: right;\">\n",
       "      <th></th>\n",
       "      <th>att1</th>\n",
       "      <th>att2</th>\n",
       "      <th>att3</th>\n",
       "      <th>att4</th>\n",
       "      <th>att5</th>\n",
       "      <th>att6</th>\n",
       "      <th>att7</th>\n",
       "    </tr>\n",
       "  </thead>\n",
       "  <tbody>\n",
       "    <tr>\n",
       "      <th>count</th>\n",
       "      <td>8000.000000</td>\n",
       "      <td>8000.000000</td>\n",
       "      <td>8000.000000</td>\n",
       "      <td>8000.000000</td>\n",
       "      <td>8000.000000</td>\n",
       "      <td>8000.000000</td>\n",
       "      <td>8000.000000</td>\n",
       "    </tr>\n",
       "    <tr>\n",
       "      <th>mean</th>\n",
       "      <td>0.612260</td>\n",
       "      <td>0.717594</td>\n",
       "      <td>3.791375</td>\n",
       "      <td>201.245000</td>\n",
       "      <td>3.486375</td>\n",
       "      <td>0.145375</td>\n",
       "      <td>0.020625</td>\n",
       "    </tr>\n",
       "    <tr>\n",
       "      <th>std</th>\n",
       "      <td>0.248338</td>\n",
       "      <td>0.170957</td>\n",
       "      <td>1.230463</td>\n",
       "      <td>49.837947</td>\n",
       "      <td>1.446055</td>\n",
       "      <td>0.352501</td>\n",
       "      <td>0.142134</td>\n",
       "    </tr>\n",
       "    <tr>\n",
       "      <th>min</th>\n",
       "      <td>0.090000</td>\n",
       "      <td>0.360000</td>\n",
       "      <td>2.000000</td>\n",
       "      <td>96.000000</td>\n",
       "      <td>2.000000</td>\n",
       "      <td>0.000000</td>\n",
       "      <td>0.000000</td>\n",
       "    </tr>\n",
       "    <tr>\n",
       "      <th>25%</th>\n",
       "      <td>0.440000</td>\n",
       "      <td>0.560000</td>\n",
       "      <td>3.000000</td>\n",
       "      <td>156.000000</td>\n",
       "      <td>3.000000</td>\n",
       "      <td>0.000000</td>\n",
       "      <td>0.000000</td>\n",
       "    </tr>\n",
       "    <tr>\n",
       "      <th>50%</th>\n",
       "      <td>0.640000</td>\n",
       "      <td>0.720000</td>\n",
       "      <td>4.000000</td>\n",
       "      <td>201.000000</td>\n",
       "      <td>3.000000</td>\n",
       "      <td>0.000000</td>\n",
       "      <td>0.000000</td>\n",
       "    </tr>\n",
       "    <tr>\n",
       "      <th>75%</th>\n",
       "      <td>0.820000</td>\n",
       "      <td>0.870000</td>\n",
       "      <td>5.000000</td>\n",
       "      <td>245.000000</td>\n",
       "      <td>4.000000</td>\n",
       "      <td>0.000000</td>\n",
       "      <td>0.000000</td>\n",
       "    </tr>\n",
       "    <tr>\n",
       "      <th>max</th>\n",
       "      <td>1.000000</td>\n",
       "      <td>1.000000</td>\n",
       "      <td>7.000000</td>\n",
       "      <td>310.000000</td>\n",
       "      <td>10.000000</td>\n",
       "      <td>1.000000</td>\n",
       "      <td>1.000000</td>\n",
       "    </tr>\n",
       "  </tbody>\n",
       "</table>\n",
       "</div>"
      ],
      "text/plain": [
       "              att1         att2         att3         att4         att5  \\\n",
       "count  8000.000000  8000.000000  8000.000000  8000.000000  8000.000000   \n",
       "mean      0.612260     0.717594     3.791375   201.245000     3.486375   \n",
       "std       0.248338     0.170957     1.230463    49.837947     1.446055   \n",
       "min       0.090000     0.360000     2.000000    96.000000     2.000000   \n",
       "25%       0.440000     0.560000     3.000000   156.000000     3.000000   \n",
       "50%       0.640000     0.720000     4.000000   201.000000     3.000000   \n",
       "75%       0.820000     0.870000     5.000000   245.000000     4.000000   \n",
       "max       1.000000     1.000000     7.000000   310.000000    10.000000   \n",
       "\n",
       "              att6         att7  \n",
       "count  8000.000000  8000.000000  \n",
       "mean      0.145375     0.020625  \n",
       "std       0.352501     0.142134  \n",
       "min       0.000000     0.000000  \n",
       "25%       0.000000     0.000000  \n",
       "50%       0.000000     0.000000  \n",
       "75%       0.000000     0.000000  \n",
       "max       1.000000     1.000000  "
      ]
     },
     "execution_count": 7,
     "metadata": {},
     "output_type": "execute_result"
    }
   ],
   "source": [
    "d_train[d_train.columns[:7]].describe()"
   ]
  },
  {
   "cell_type": "code",
   "execution_count": 8,
   "metadata": {
    "ExecuteTime": {
     "end_time": "2019-11-17T10:13:47.051000Z",
     "start_time": "2019-11-17T10:13:46.776000Z"
    }
   },
   "outputs": [],
   "source": [
    "# split d_train dataset\n",
    "from sklearn.model_selection import train_test_split\n",
    "X = d_train.iloc[:, 0:-1]\n",
    "y = d_train.iloc[:, -1]\n",
    "\n",
    "X_train, X_test, y_train, y_test = train_test_split(X, y, test_size = 0.2, random_state = 42)"
   ]
  },
  {
   "cell_type": "markdown",
   "metadata": {},
   "source": [
    "## k-NN"
   ]
  },
  {
   "cell_type": "code",
   "execution_count": 9,
   "metadata": {
    "ExecuteTime": {
     "end_time": "2019-11-17T10:13:47.138500Z",
     "start_time": "2019-11-17T10:13:47.053500Z"
    }
   },
   "outputs": [
    {
     "data": {
      "text/plain": [
       "KNeighborsClassifier(algorithm='auto', leaf_size=30, metric='minkowski',\n",
       "                     metric_params=None, n_jobs=None, n_neighbors=5, p=2,\n",
       "                     weights='uniform')"
      ]
     },
     "execution_count": 9,
     "metadata": {},
     "output_type": "execute_result"
    }
   ],
   "source": [
    "from sklearn.neighbors import KNeighborsClassifier\n",
    "\n",
    "model_knn = KNeighborsClassifier(n_neighbors = 5)\n",
    "model_knn.fit(X_train, y_train)"
   ]
  },
  {
   "cell_type": "code",
   "execution_count": 10,
   "metadata": {
    "ExecuteTime": {
     "end_time": "2019-11-17T10:13:47.506000Z",
     "start_time": "2019-11-17T10:13:47.141000Z"
    }
   },
   "outputs": [],
   "source": [
    "y_pred_train = model_knn.predict(X_train)\n",
    "y_pred_test = model_knn.predict(X_test)"
   ]
  },
  {
   "cell_type": "code",
   "execution_count": 11,
   "metadata": {
    "ExecuteTime": {
     "end_time": "2019-11-17T10:13:47.533500Z",
     "start_time": "2019-11-17T10:13:47.508500Z"
    }
   },
   "outputs": [
    {
     "name": "stdout",
     "output_type": "stream",
     "text": [
      "Classification report for train\n",
      "              precision    recall  f1-score   support\n",
      "\n",
      "           0       0.98      0.95      0.97      4848\n",
      "           1       0.87      0.94      0.90      1552\n",
      "\n",
      "    accuracy                           0.95      6400\n",
      "   macro avg       0.92      0.95      0.93      6400\n",
      "weighted avg       0.95      0.95      0.95      6400\n",
      "\n",
      "\n",
      "Classification report for test\n",
      "              precision    recall  f1-score   support\n",
      "\n",
      "           0       0.97      0.94      0.95      1233\n",
      "           1       0.81      0.92      0.86       367\n",
      "\n",
      "    accuracy                           0.93      1600\n",
      "   macro avg       0.89      0.93      0.91      1600\n",
      "weighted avg       0.94      0.93      0.93      1600\n",
      "\n"
     ]
    }
   ],
   "source": [
    "from sklearn.metrics import classification_report\n",
    "\n",
    "print('Classification report for train')\n",
    "print(classification_report(y_train, y_pred_train))\n",
    "\n",
    "print('\\nClassification report for test')\n",
    "print(classification_report(y_test, y_pred_test))"
   ]
  },
  {
   "cell_type": "code",
   "execution_count": 12,
   "metadata": {
    "ExecuteTime": {
     "end_time": "2019-11-17T10:13:47.658500Z",
     "start_time": "2019-11-17T10:13:47.536000Z"
    }
   },
   "outputs": [
    {
     "name": "stdout",
     "output_type": "stream",
     "text": [
      "Accuracy score train = 0.9498\n",
      "Accuracy score test = 0.9319\n"
     ]
    }
   ],
   "source": [
    "from sklearn.metrics import accuracy_score\n",
    "\n",
    "acc_train_knn = round(accuracy_score(y_train, y_pred_train), 4)\n",
    "acc_test_knn = round(accuracy_score(y_test, y_pred_test), 4)\n",
    "\n",
    "print('Accuracy score train = {}' .format(acc_train_knn))\n",
    "print('Accuracy score test = {}' .format(acc_test_knn))"
   ]
  },
  {
   "cell_type": "code",
   "execution_count": 13,
   "metadata": {
    "ExecuteTime": {
     "end_time": "2019-11-17T10:13:47.773500Z",
     "start_time": "2019-11-17T10:13:47.666000Z"
    }
   },
   "outputs": [
    {
     "name": "stdout",
     "output_type": "stream",
     "text": [
      "AUC train = 0.9461\n",
      "AUC test = 0.9271\n"
     ]
    }
   ],
   "source": [
    "from sklearn.metrics import roc_auc_score\n",
    "\n",
    "auc_train_knn = round(roc_auc_score(y_train, y_pred_train), 4)\n",
    "auc_test_knn = round(roc_auc_score(y_test, y_pred_test), 4)\n",
    "\n",
    "print('AUC train = {}' .format(auc_train_knn))\n",
    "print('AUC test = {}' .format(auc_test_knn))"
   ]
  },
  {
   "cell_type": "markdown",
   "metadata": {},
   "source": [
    "## Decision Tree"
   ]
  },
  {
   "cell_type": "code",
   "execution_count": 14,
   "metadata": {
    "ExecuteTime": {
     "end_time": "2019-11-17T10:13:48.018500Z",
     "start_time": "2019-11-17T10:13:47.778500Z"
    }
   },
   "outputs": [
    {
     "data": {
      "text/plain": [
       "DecisionTreeClassifier(class_weight=None, criterion='gini', max_depth=5,\n",
       "                       max_features=None, max_leaf_nodes=None,\n",
       "                       min_impurity_decrease=0.0, min_impurity_split=None,\n",
       "                       min_samples_leaf=1, min_samples_split=2,\n",
       "                       min_weight_fraction_leaf=0.0, presort=False,\n",
       "                       random_state=None, splitter='best')"
      ]
     },
     "execution_count": 14,
     "metadata": {},
     "output_type": "execute_result"
    }
   ],
   "source": [
    "from sklearn.tree import DecisionTreeClassifier\n",
    "\n",
    "model_dt = DecisionTreeClassifier(max_depth = 5)\n",
    "model_dt.fit(X_train, y_train)"
   ]
  },
  {
   "cell_type": "code",
   "execution_count": 15,
   "metadata": {
    "ExecuteTime": {
     "end_time": "2019-11-17T10:13:48.066000Z",
     "start_time": "2019-11-17T10:13:48.021000Z"
    }
   },
   "outputs": [],
   "source": [
    "y_pred_train = model_dt.predict(X_train)\n",
    "y_pred_test = model_dt.predict(X_test)"
   ]
  },
  {
   "cell_type": "code",
   "execution_count": 16,
   "metadata": {
    "ExecuteTime": {
     "end_time": "2019-11-17T10:13:48.196000Z",
     "start_time": "2019-11-17T10:13:48.068500Z"
    }
   },
   "outputs": [
    {
     "name": "stdout",
     "output_type": "stream",
     "text": [
      "Classification report for train\n",
      "              precision    recall  f1-score   support\n",
      "\n",
      "           0       0.98      0.99      0.98      4848\n",
      "           1       0.97      0.92      0.95      1552\n",
      "\n",
      "    accuracy                           0.97      6400\n",
      "   macro avg       0.97      0.96      0.97      6400\n",
      "weighted avg       0.97      0.97      0.97      6400\n",
      "\n",
      "\n",
      "Classification report for test\n",
      "              precision    recall  f1-score   support\n",
      "\n",
      "           0       0.98      0.99      0.99      1233\n",
      "           1       0.97      0.93      0.95       367\n",
      "\n",
      "    accuracy                           0.98      1600\n",
      "   macro avg       0.97      0.96      0.97      1600\n",
      "weighted avg       0.98      0.98      0.98      1600\n",
      "\n"
     ]
    }
   ],
   "source": [
    "print('Classification report for train')\n",
    "print(classification_report(y_train, y_pred_train))\n",
    "\n",
    "print('\\nClassification report for test')\n",
    "print(classification_report(y_test, y_pred_test))"
   ]
  },
  {
   "cell_type": "code",
   "execution_count": 17,
   "metadata": {
    "ExecuteTime": {
     "end_time": "2019-11-17T10:13:48.338500Z",
     "start_time": "2019-11-17T10:13:48.196000Z"
    }
   },
   "outputs": [
    {
     "name": "stdout",
     "output_type": "stream",
     "text": [
      "Accuracy score train = 0.975\n",
      "Accuracy score test = 0.9781\n"
     ]
    }
   ],
   "source": [
    "acc_train_dt = round(accuracy_score(y_train, y_pred_train), 4)\n",
    "acc_test_dt = round(accuracy_score(y_test, y_pred_test), 4)\n",
    "\n",
    "print('Accuracy score train = {}' .format(acc_train_dt))\n",
    "print('Accuracy score test = {}' .format(acc_test_dt))"
   ]
  },
  {
   "cell_type": "code",
   "execution_count": 18,
   "metadata": {
    "ExecuteTime": {
     "end_time": "2019-11-17T10:13:48.458500Z",
     "start_time": "2019-11-17T10:13:48.346000Z"
    }
   },
   "outputs": [
    {
     "name": "stdout",
     "output_type": "stream",
     "text": [
      "AUC train = 0.9577\n",
      "AUC test = 0.9628\n"
     ]
    }
   ],
   "source": [
    "auc_train_dt = round(roc_auc_score(y_train, y_pred_train), 4)\n",
    "auc_test_dt = round(roc_auc_score(y_test, y_pred_test), 4)\n",
    "\n",
    "print('AUC train = {}' .format(auc_train_dt))\n",
    "print('AUC test = {}' .format(auc_test_dt))"
   ]
  },
  {
   "cell_type": "markdown",
   "metadata": {},
   "source": [
    "## Logistic Regression"
   ]
  },
  {
   "cell_type": "code",
   "execution_count": 19,
   "metadata": {
    "ExecuteTime": {
     "end_time": "2019-11-17T10:13:48.636000Z",
     "start_time": "2019-11-17T10:13:48.461000Z"
    }
   },
   "outputs": [
    {
     "data": {
      "text/plain": [
       "LogisticRegression(C=1.0, class_weight=None, dual=False, fit_intercept=True,\n",
       "                   intercept_scaling=1, l1_ratio=None, max_iter=100,\n",
       "                   multi_class='warn', n_jobs=None, penalty='l2',\n",
       "                   random_state=None, solver='warn', tol=0.0001, verbose=0,\n",
       "                   warm_start=False)"
      ]
     },
     "execution_count": 19,
     "metadata": {},
     "output_type": "execute_result"
    }
   ],
   "source": [
    "from sklearn.linear_model import LogisticRegression\n",
    "\n",
    "model_lr = LogisticRegression()\n",
    "model_lr.fit(X_train, y_train)"
   ]
  },
  {
   "cell_type": "code",
   "execution_count": 20,
   "metadata": {
    "ExecuteTime": {
     "end_time": "2019-11-17T10:13:48.753500Z",
     "start_time": "2019-11-17T10:13:48.638500Z"
    }
   },
   "outputs": [],
   "source": [
    "y_pred_train = model_lr.predict(X_train)\n",
    "y_pred_test = model_lr.predict(X_test)"
   ]
  },
  {
   "cell_type": "code",
   "execution_count": 21,
   "metadata": {
    "ExecuteTime": {
     "end_time": "2019-11-17T10:13:48.858500Z",
     "start_time": "2019-11-17T10:13:48.756000Z"
    }
   },
   "outputs": [
    {
     "name": "stdout",
     "output_type": "stream",
     "text": [
      "Classification report for train\n",
      "              precision    recall  f1-score   support\n",
      "\n",
      "           0       0.83      0.93      0.87      4848\n",
      "           1       0.64      0.40      0.49      1552\n",
      "\n",
      "    accuracy                           0.80      6400\n",
      "   macro avg       0.73      0.66      0.68      6400\n",
      "weighted avg       0.78      0.80      0.78      6400\n",
      "\n",
      "\n",
      "Classification report for test\n",
      "              precision    recall  f1-score   support\n",
      "\n",
      "           0       0.84      0.92      0.88      1233\n",
      "           1       0.61      0.40      0.48       367\n",
      "\n",
      "    accuracy                           0.80      1600\n",
      "   macro avg       0.72      0.66      0.68      1600\n",
      "weighted avg       0.79      0.80      0.79      1600\n",
      "\n"
     ]
    }
   ],
   "source": [
    "print('Classification report for train')\n",
    "print(classification_report(y_train, y_pred_train))\n",
    "\n",
    "print('\\nClassification report for test')\n",
    "print(classification_report(y_test, y_pred_test))"
   ]
  },
  {
   "cell_type": "markdown",
   "metadata": {},
   "source": [
    "We see that the value of recall is quite low, lower than 0.5. We need to do something about this one. We need to do over-sampling (example: to ADASYN)."
   ]
  },
  {
   "cell_type": "code",
   "execution_count": 22,
   "metadata": {
    "ExecuteTime": {
     "end_time": "2019-11-17T10:13:48.966000Z",
     "start_time": "2019-11-17T10:13:48.861000Z"
    }
   },
   "outputs": [
    {
     "name": "stdout",
     "output_type": "stream",
     "text": [
      "Accuracy score train = 0.7992\n",
      "Accuracy score test = 0.8031\n"
     ]
    }
   ],
   "source": [
    "acc_train_lr = round(accuracy_score(y_train, y_pred_train), 4)\n",
    "acc_test_lr = round(accuracy_score(y_test, y_pred_test), 4)\n",
    "\n",
    "print('Accuracy score train = {}' .format(acc_train_lr))\n",
    "print('Accuracy score test = {}' .format(acc_test_lr))"
   ]
  },
  {
   "cell_type": "code",
   "execution_count": 23,
   "metadata": {
    "ExecuteTime": {
     "end_time": "2019-11-17T10:13:49.076000Z",
     "start_time": "2019-11-17T10:13:48.971000Z"
    }
   },
   "outputs": [
    {
     "name": "stdout",
     "output_type": "stream",
     "text": [
      "AUC train = 0.6649\n",
      "AUC test = 0.6617\n"
     ]
    }
   ],
   "source": [
    "auc_train_lr = round(roc_auc_score(y_train, y_pred_train), 4)\n",
    "auc_test_lr = round(roc_auc_score(y_test, y_pred_test), 4)\n",
    "\n",
    "print('AUC train = {}' .format(auc_train_lr))\n",
    "print('AUC test = {}' .format(auc_test_lr))"
   ]
  },
  {
   "cell_type": "markdown",
   "metadata": {},
   "source": [
    "### Over-sampling to ADASYN"
   ]
  },
  {
   "cell_type": "code",
   "execution_count": 24,
   "metadata": {
    "ExecuteTime": {
     "end_time": "2019-11-17T10:13:49.407000Z",
     "start_time": "2019-11-17T10:13:49.081000Z"
    }
   },
   "outputs": [],
   "source": [
    "from imblearn.over_sampling import ADASYN\n",
    "\n",
    "X_train, y_train = ADASYN().fit_sample(X_train, y_train)"
   ]
  },
  {
   "cell_type": "code",
   "execution_count": 25,
   "metadata": {
    "ExecuteTime": {
     "end_time": "2019-11-17T10:13:49.468000Z",
     "start_time": "2019-11-17T10:13:49.410000Z"
    }
   },
   "outputs": [
    {
     "data": {
      "text/plain": [
       "LogisticRegression(C=1.0, class_weight=None, dual=False, fit_intercept=True,\n",
       "                   intercept_scaling=1, l1_ratio=None, max_iter=100,\n",
       "                   multi_class='warn', n_jobs=None, penalty='l2',\n",
       "                   random_state=None, solver='warn', tol=0.0001, verbose=0,\n",
       "                   warm_start=False)"
      ]
     },
     "execution_count": 25,
     "metadata": {},
     "output_type": "execute_result"
    }
   ],
   "source": [
    "model_lr = LogisticRegression()\n",
    "model_lr.fit(X_train, y_train)"
   ]
  },
  {
   "cell_type": "code",
   "execution_count": 26,
   "metadata": {
    "ExecuteTime": {
     "end_time": "2019-11-17T10:13:49.545500Z",
     "start_time": "2019-11-17T10:13:49.468000Z"
    }
   },
   "outputs": [],
   "source": [
    "y_pred_train = model_lr.predict(X_train)\n",
    "y_pred_test = model_lr.predict(X_test)"
   ]
  },
  {
   "cell_type": "code",
   "execution_count": 27,
   "metadata": {
    "ExecuteTime": {
     "end_time": "2019-11-17T10:13:49.698000Z",
     "start_time": "2019-11-17T10:13:49.545500Z"
    }
   },
   "outputs": [
    {
     "name": "stdout",
     "output_type": "stream",
     "text": [
      "Classification report for train\n",
      "              precision    recall  f1-score   support\n",
      "\n",
      "           0       0.80      0.73      0.76      4848\n",
      "           1       0.75      0.81      0.78      4742\n",
      "\n",
      "    accuracy                           0.77      9590\n",
      "   macro avg       0.77      0.77      0.77      9590\n",
      "weighted avg       0.77      0.77      0.77      9590\n",
      "\n",
      "\n",
      "Classification report for test\n",
      "              precision    recall  f1-score   support\n",
      "\n",
      "           0       0.94      0.72      0.82      1233\n",
      "           1       0.47      0.85      0.61       367\n",
      "\n",
      "    accuracy                           0.75      1600\n",
      "   macro avg       0.71      0.79      0.71      1600\n",
      "weighted avg       0.84      0.75      0.77      1600\n",
      "\n"
     ]
    }
   ],
   "source": [
    "print('Classification report for train')\n",
    "print(classification_report(y_train, y_pred_train))\n",
    "\n",
    "print('\\nClassification report for test')\n",
    "print(classification_report(y_test, y_pred_test))"
   ]
  },
  {
   "cell_type": "markdown",
   "metadata": {},
   "source": [
    "We see that the recall score now is better than before even if the accuracy is a little lower."
   ]
  },
  {
   "cell_type": "code",
   "execution_count": 28,
   "metadata": {
    "ExecuteTime": {
     "end_time": "2019-11-17T10:13:49.813000Z",
     "start_time": "2019-11-17T10:13:49.703000Z"
    }
   },
   "outputs": [
    {
     "name": "stdout",
     "output_type": "stream",
     "text": [
      "Accuracy score train = 0.7709\n",
      "Accuracy score test = 0.7494\n"
     ]
    }
   ],
   "source": [
    "acc_train_lr = round(accuracy_score(y_train, y_pred_train), 4)\n",
    "acc_test_lr = round(accuracy_score(y_test, y_pred_test), 4)\n",
    "\n",
    "print('Accuracy score train = {}' .format(acc_train_lr))\n",
    "print('Accuracy score test = {}' .format(acc_test_lr))"
   ]
  },
  {
   "cell_type": "code",
   "execution_count": 29,
   "metadata": {
    "ExecuteTime": {
     "end_time": "2019-11-17T10:13:49.985500Z",
     "start_time": "2019-11-17T10:13:49.815500Z"
    }
   },
   "outputs": [
    {
     "name": "stdout",
     "output_type": "stream",
     "text": [
      "AUC train = 0.7714\n",
      "AUC test = 0.7857\n"
     ]
    }
   ],
   "source": [
    "auc_train_lr = round(roc_auc_score(y_train, y_pred_train), 4)\n",
    "auc_test_lr = round(roc_auc_score(y_test, y_pred_test), 4)\n",
    "\n",
    "print('AUC train = {}' .format(auc_train_lr))\n",
    "print('AUC test = {}' .format(auc_test_lr))"
   ]
  },
  {
   "cell_type": "markdown",
   "metadata": {},
   "source": [
    "## Voting"
   ]
  },
  {
   "cell_type": "code",
   "execution_count": 30,
   "metadata": {
    "ExecuteTime": {
     "end_time": "2019-11-17T10:13:50.183000Z",
     "start_time": "2019-11-17T10:13:49.988000Z"
    }
   },
   "outputs": [
    {
     "data": {
      "text/plain": [
       "VotingClassifier(estimators=[('knn',\n",
       "                              KNeighborsClassifier(algorithm='auto',\n",
       "                                                   leaf_size=30,\n",
       "                                                   metric='minkowski',\n",
       "                                                   metric_params=None,\n",
       "                                                   n_jobs=None, n_neighbors=5,\n",
       "                                                   p=2, weights='uniform')),\n",
       "                             ('dt',\n",
       "                              DecisionTreeClassifier(class_weight=None,\n",
       "                                                     criterion='gini',\n",
       "                                                     max_depth=5,\n",
       "                                                     max_features=None,\n",
       "                                                     max_leaf_nodes=None,\n",
       "                                                     min_impurity_decrease=0.0,\n",
       "                                                     min_impurity_split=None,\n",
       "                                                     min_samples...\n",
       "                                                     presort=False,\n",
       "                                                     random_state=None,\n",
       "                                                     splitter='best')),\n",
       "                             ('lr',\n",
       "                              LogisticRegression(C=1.0, class_weight=None,\n",
       "                                                 dual=False, fit_intercept=True,\n",
       "                                                 intercept_scaling=1,\n",
       "                                                 l1_ratio=None, max_iter=100,\n",
       "                                                 multi_class='warn',\n",
       "                                                 n_jobs=None, penalty='l2',\n",
       "                                                 random_state=None,\n",
       "                                                 solver='warn', tol=0.0001,\n",
       "                                                 verbose=0,\n",
       "                                                 warm_start=False))],\n",
       "                 flatten_transform=True, n_jobs=None, voting='hard',\n",
       "                 weights=None)"
      ]
     },
     "execution_count": 30,
     "metadata": {},
     "output_type": "execute_result"
    }
   ],
   "source": [
    "from sklearn.ensemble import VotingClassifier\n",
    "\n",
    "model_voting = VotingClassifier(estimators = [('knn', model_knn), ('dt', model_dt), ('lr', model_lr)])\n",
    "model_voting.fit(X_train, y_train)"
   ]
  },
  {
   "cell_type": "code",
   "execution_count": 31,
   "metadata": {
    "ExecuteTime": {
     "end_time": "2019-11-17T10:13:50.738000Z",
     "start_time": "2019-11-17T10:13:50.185500Z"
    }
   },
   "outputs": [],
   "source": [
    "y_pred_train = model_voting.predict(X_train)\n",
    "y_pred_test = model_voting.predict(X_test)"
   ]
  },
  {
   "cell_type": "code",
   "execution_count": 32,
   "metadata": {
    "ExecuteTime": {
     "end_time": "2019-11-17T10:13:50.768000Z",
     "start_time": "2019-11-17T10:13:50.738000Z"
    }
   },
   "outputs": [
    {
     "name": "stdout",
     "output_type": "stream",
     "text": [
      "Classification report for train\n",
      "              precision    recall  f1-score   support\n",
      "\n",
      "           0       0.97      0.89      0.93      4848\n",
      "           1       0.90      0.97      0.93      4742\n",
      "\n",
      "    accuracy                           0.93      9590\n",
      "   macro avg       0.93      0.93      0.93      9590\n",
      "weighted avg       0.93      0.93      0.93      9590\n",
      "\n",
      "\n",
      "Classification report for test\n",
      "              precision    recall  f1-score   support\n",
      "\n",
      "           0       0.99      0.88      0.93      1233\n",
      "           1       0.70      0.96      0.81       367\n",
      "\n",
      "    accuracy                           0.90      1600\n",
      "   macro avg       0.84      0.92      0.87      1600\n",
      "weighted avg       0.92      0.90      0.90      1600\n",
      "\n"
     ]
    }
   ],
   "source": [
    "print('Classification report for train')\n",
    "print(classification_report(y_train, y_pred_train))\n",
    "\n",
    "print('\\nClassification report for test')\n",
    "print(classification_report(y_test, y_pred_test))"
   ]
  },
  {
   "cell_type": "code",
   "execution_count": 33,
   "metadata": {
    "ExecuteTime": {
     "end_time": "2019-11-17T10:13:51.213000Z",
     "start_time": "2019-11-17T10:13:50.770500Z"
    }
   },
   "outputs": [
    {
     "name": "stdout",
     "output_type": "stream",
     "text": [
      "Accuracy score train = 0.9308\n",
      "Accuracy score test = 0.8975\n"
     ]
    }
   ],
   "source": [
    "acc_train_voting = round(accuracy_score(y_train, y_pred_train), 4)\n",
    "acc_test_voting = round(accuracy_score(y_test, y_pred_test), 4)\n",
    "\n",
    "print('Accuracy score train = {}' .format(acc_train_voting))\n",
    "print('Accuracy score test = {}' .format(acc_test_voting))"
   ]
  },
  {
   "cell_type": "code",
   "execution_count": 34,
   "metadata": {
    "ExecuteTime": {
     "end_time": "2019-11-17T10:13:51.495500Z",
     "start_time": "2019-11-17T10:13:51.218000Z"
    }
   },
   "outputs": [
    {
     "name": "stdout",
     "output_type": "stream",
     "text": [
      "AUC train = 0.9312\n",
      "AUC test = 0.9211\n"
     ]
    }
   ],
   "source": [
    "auc_train_voting = round(roc_auc_score(y_train, y_pred_train), 4)\n",
    "auc_test_voting = round(roc_auc_score(y_test, y_pred_test), 4)\n",
    "\n",
    "print('AUC train = {}' .format(auc_train_voting))\n",
    "print('AUC test = {}' .format(auc_test_voting))"
   ]
  },
  {
   "cell_type": "markdown",
   "metadata": {},
   "source": [
    "## Random Forest"
   ]
  },
  {
   "cell_type": "code",
   "execution_count": 35,
   "metadata": {
    "ExecuteTime": {
     "end_time": "2019-11-17T10:13:52.038000Z",
     "start_time": "2019-11-17T10:13:51.503000Z"
    }
   },
   "outputs": [
    {
     "data": {
      "text/plain": [
       "RandomForestClassifier(bootstrap=True, class_weight=None, criterion='gini',\n",
       "                       max_depth=None, max_features='auto', max_leaf_nodes=None,\n",
       "                       min_impurity_decrease=0.0, min_impurity_split=None,\n",
       "                       min_samples_leaf=1, min_samples_split=2,\n",
       "                       min_weight_fraction_leaf=0.0, n_estimators=10,\n",
       "                       n_jobs=None, oob_score=False, random_state=None,\n",
       "                       verbose=0, warm_start=False)"
      ]
     },
     "execution_count": 35,
     "metadata": {},
     "output_type": "execute_result"
    }
   ],
   "source": [
    "from sklearn.ensemble import RandomForestClassifier\n",
    "\n",
    "model_rf = RandomForestClassifier()\n",
    "model_rf.fit(X_train, y_train)"
   ]
  },
  {
   "cell_type": "code",
   "execution_count": 36,
   "metadata": {
    "ExecuteTime": {
     "end_time": "2019-11-17T10:13:52.183000Z",
     "start_time": "2019-11-17T10:13:52.040500Z"
    }
   },
   "outputs": [],
   "source": [
    "y_pred_train = model_rf.predict(X_train)\n",
    "y_pred_test = model_rf.predict(X_test)"
   ]
  },
  {
   "cell_type": "code",
   "execution_count": 37,
   "metadata": {
    "ExecuteTime": {
     "end_time": "2019-11-17T10:13:52.363000Z",
     "start_time": "2019-11-17T10:13:52.185500Z"
    }
   },
   "outputs": [
    {
     "name": "stdout",
     "output_type": "stream",
     "text": [
      "Classification report for train\n",
      "              precision    recall  f1-score   support\n",
      "\n",
      "           0       1.00      1.00      1.00      4848\n",
      "           1       1.00      1.00      1.00      4742\n",
      "\n",
      "    accuracy                           1.00      9590\n",
      "   macro avg       1.00      1.00      1.00      9590\n",
      "weighted avg       1.00      1.00      1.00      9590\n",
      "\n",
      "\n",
      "Classification report for test\n",
      "              precision    recall  f1-score   support\n",
      "\n",
      "           0       0.99      0.99      0.99      1233\n",
      "           1       0.96      0.95      0.95       367\n",
      "\n",
      "    accuracy                           0.98      1600\n",
      "   macro avg       0.97      0.97      0.97      1600\n",
      "weighted avg       0.98      0.98      0.98      1600\n",
      "\n"
     ]
    }
   ],
   "source": [
    "print('Classification report for train')\n",
    "print(classification_report(y_train, y_pred_train))\n",
    "\n",
    "print('\\nClassification report for test')\n",
    "print(classification_report(y_test, y_pred_test))"
   ]
  },
  {
   "cell_type": "code",
   "execution_count": 38,
   "metadata": {
    "ExecuteTime": {
     "end_time": "2019-11-17T10:13:52.468000Z",
     "start_time": "2019-11-17T10:13:52.368000Z"
    }
   },
   "outputs": [
    {
     "name": "stdout",
     "output_type": "stream",
     "text": [
      "Accuracy score train = 0.9989\n",
      "Accuracy score test = 0.9794\n"
     ]
    }
   ],
   "source": [
    "acc_train_rf = round(accuracy_score(y_train, y_pred_train), 4)\n",
    "acc_test_rf = round(accuracy_score(y_test, y_pred_test), 4)\n",
    "\n",
    "print('Accuracy score train = {}' .format(acc_train_rf))\n",
    "print('Accuracy score test = {}' .format(acc_test_rf))"
   ]
  },
  {
   "cell_type": "code",
   "execution_count": 39,
   "metadata": {
    "ExecuteTime": {
     "end_time": "2019-11-17T10:13:52.595500Z",
     "start_time": "2019-11-17T10:13:52.468000Z"
    }
   },
   "outputs": [
    {
     "name": "stdout",
     "output_type": "stream",
     "text": [
      "AUC train = 0.9988\n",
      "AUC test = 0.9694\n"
     ]
    }
   ],
   "source": [
    "auc_train_rf = round(roc_auc_score(y_train, y_pred_train), 4)\n",
    "auc_test_rf = round(roc_auc_score(y_test, y_pred_test), 4)\n",
    "\n",
    "print('AUC train = {}' .format(auc_train_rf))\n",
    "print('AUC test = {}' .format(auc_test_rf))"
   ]
  },
  {
   "cell_type": "markdown",
   "metadata": {},
   "source": [
    "## Each Algorithm AUC Summary"
   ]
  },
  {
   "cell_type": "code",
   "execution_count": 40,
   "metadata": {
    "ExecuteTime": {
     "end_time": "2019-11-17T10:13:52.728000Z",
     "start_time": "2019-11-17T10:13:52.598000Z"
    }
   },
   "outputs": [
    {
     "name": "stdout",
     "output_type": "stream",
     "text": [
      "This is summary of each algorithm AUC (data train).\n",
      "\n",
      "AUC train k-NN = 0.9461\n",
      "AUC train Decision Tree = 0.9577\n",
      "AUC train Logistic Regression = 0.7714\n",
      "AUC train Voting = 0.9312\n",
      "AUC train Random Forest = 0.9988\n"
     ]
    }
   ],
   "source": [
    "print(\"This is summary of each algorithm AUC (data train).\\n\")\n",
    "print(\"AUC train k-NN = {}\" .format(auc_train_knn))\n",
    "print(\"AUC train Decision Tree = {}\" .format(auc_train_dt))\n",
    "print(\"AUC train Logistic Regression = {}\" .format(auc_train_lr))\n",
    "print(\"AUC train Voting = {}\" .format(auc_train_voting))\n",
    "print(\"AUC train Random Forest = {}\" .format(auc_train_rf))"
   ]
  },
  {
   "cell_type": "code",
   "execution_count": 41,
   "metadata": {
    "ExecuteTime": {
     "end_time": "2019-11-17T10:13:52.873000Z",
     "start_time": "2019-11-17T10:13:52.743000Z"
    }
   },
   "outputs": [
    {
     "name": "stdout",
     "output_type": "stream",
     "text": [
      "This is summary of each algorithm AUC (data test).\n",
      "\n",
      "AUC test k-NN = 0.9271\n",
      "AUC test Decision Tree = 0.9628\n",
      "AUC test Logistic Regression = 0.7857\n",
      "AUC test Voting = 0.9211\n",
      "AUC test Random Forest = 0.9694\n"
     ]
    }
   ],
   "source": [
    "print(\"This is summary of each algorithm AUC (data test).\\n\")\n",
    "print(\"AUC test k-NN = {}\" .format(auc_test_knn))\n",
    "print(\"AUC test Decision Tree = {}\" .format(auc_test_dt))\n",
    "print(\"AUC test Logistic Regression = {}\" .format(auc_test_lr))\n",
    "print(\"AUC test Voting = {}\" .format(auc_test_voting))\n",
    "print(\"AUC test Random Forest = {}\" .format(auc_test_rf))"
   ]
  },
  {
   "cell_type": "markdown",
   "metadata": {},
   "source": [
    "From the result above, we will use random forest for predicting the test.csv."
   ]
  },
  {
   "cell_type": "markdown",
   "metadata": {},
   "source": [
    "## Predicting Test Dataset"
   ]
  },
  {
   "cell_type": "code",
   "execution_count": 42,
   "metadata": {
    "ExecuteTime": {
     "end_time": "2019-11-17T10:13:53.023000Z",
     "start_time": "2019-11-17T10:13:52.883000Z"
    }
   },
   "outputs": [
    {
     "data": {
      "text/html": [
       "<div>\n",
       "<style scoped>\n",
       "    .dataframe tbody tr th:only-of-type {\n",
       "        vertical-align: middle;\n",
       "    }\n",
       "\n",
       "    .dataframe tbody tr th {\n",
       "        vertical-align: top;\n",
       "    }\n",
       "\n",
       "    .dataframe thead th {\n",
       "        text-align: right;\n",
       "    }\n",
       "</style>\n",
       "<table border=\"1\" class=\"dataframe\">\n",
       "  <thead>\n",
       "    <tr style=\"text-align: right;\">\n",
       "      <th></th>\n",
       "      <th>att1</th>\n",
       "      <th>att2</th>\n",
       "      <th>att3</th>\n",
       "      <th>att4</th>\n",
       "      <th>att5</th>\n",
       "      <th>att6</th>\n",
       "      <th>att7</th>\n",
       "      <th>att8a</th>\n",
       "      <th>att8b</th>\n",
       "      <th>att8c</th>\n",
       "      <th>att8d</th>\n",
       "      <th>att8e</th>\n",
       "      <th>att8f</th>\n",
       "      <th>att8g</th>\n",
       "      <th>att8h</th>\n",
       "      <th>att8i</th>\n",
       "      <th>att8j</th>\n",
       "      <th>att9a</th>\n",
       "      <th>att9b</th>\n",
       "      <th>att9c</th>\n",
       "    </tr>\n",
       "  </thead>\n",
       "  <tbody>\n",
       "    <tr>\n",
       "      <th>0</th>\n",
       "      <td>0.66</td>\n",
       "      <td>0.62</td>\n",
       "      <td>4</td>\n",
       "      <td>250</td>\n",
       "      <td>2</td>\n",
       "      <td>0</td>\n",
       "      <td>0</td>\n",
       "      <td>0</td>\n",
       "      <td>1</td>\n",
       "      <td>0</td>\n",
       "      <td>0</td>\n",
       "      <td>0</td>\n",
       "      <td>0</td>\n",
       "      <td>0</td>\n",
       "      <td>0</td>\n",
       "      <td>0</td>\n",
       "      <td>0</td>\n",
       "      <td>0</td>\n",
       "      <td>0</td>\n",
       "      <td>1</td>\n",
       "    </tr>\n",
       "    <tr>\n",
       "      <th>1</th>\n",
       "      <td>0.66</td>\n",
       "      <td>0.50</td>\n",
       "      <td>4</td>\n",
       "      <td>263</td>\n",
       "      <td>3</td>\n",
       "      <td>0</td>\n",
       "      <td>0</td>\n",
       "      <td>0</td>\n",
       "      <td>0</td>\n",
       "      <td>0</td>\n",
       "      <td>0</td>\n",
       "      <td>0</td>\n",
       "      <td>0</td>\n",
       "      <td>0</td>\n",
       "      <td>1</td>\n",
       "      <td>0</td>\n",
       "      <td>0</td>\n",
       "      <td>1</td>\n",
       "      <td>0</td>\n",
       "      <td>0</td>\n",
       "    </tr>\n",
       "    <tr>\n",
       "      <th>2</th>\n",
       "      <td>0.32</td>\n",
       "      <td>0.74</td>\n",
       "      <td>3</td>\n",
       "      <td>211</td>\n",
       "      <td>3</td>\n",
       "      <td>0</td>\n",
       "      <td>0</td>\n",
       "      <td>0</td>\n",
       "      <td>0</td>\n",
       "      <td>0</td>\n",
       "      <td>0</td>\n",
       "      <td>0</td>\n",
       "      <td>0</td>\n",
       "      <td>0</td>\n",
       "      <td>0</td>\n",
       "      <td>0</td>\n",
       "      <td>1</td>\n",
       "      <td>0</td>\n",
       "      <td>1</td>\n",
       "      <td>0</td>\n",
       "    </tr>\n",
       "    <tr>\n",
       "      <th>3</th>\n",
       "      <td>0.37</td>\n",
       "      <td>0.57</td>\n",
       "      <td>2</td>\n",
       "      <td>155</td>\n",
       "      <td>3</td>\n",
       "      <td>0</td>\n",
       "      <td>0</td>\n",
       "      <td>0</td>\n",
       "      <td>0</td>\n",
       "      <td>0</td>\n",
       "      <td>0</td>\n",
       "      <td>0</td>\n",
       "      <td>0</td>\n",
       "      <td>0</td>\n",
       "      <td>0</td>\n",
       "      <td>1</td>\n",
       "      <td>0</td>\n",
       "      <td>0</td>\n",
       "      <td>1</td>\n",
       "      <td>0</td>\n",
       "    </tr>\n",
       "    <tr>\n",
       "      <th>4</th>\n",
       "      <td>0.41</td>\n",
       "      <td>0.49</td>\n",
       "      <td>2</td>\n",
       "      <td>130</td>\n",
       "      <td>3</td>\n",
       "      <td>0</td>\n",
       "      <td>0</td>\n",
       "      <td>0</td>\n",
       "      <td>0</td>\n",
       "      <td>0</td>\n",
       "      <td>0</td>\n",
       "      <td>0</td>\n",
       "      <td>1</td>\n",
       "      <td>0</td>\n",
       "      <td>0</td>\n",
       "      <td>0</td>\n",
       "      <td>0</td>\n",
       "      <td>0</td>\n",
       "      <td>1</td>\n",
       "      <td>0</td>\n",
       "    </tr>\n",
       "  </tbody>\n",
       "</table>\n",
       "</div>"
      ],
      "text/plain": [
       "   att1  att2  att3  att4  att5  att6  att7  att8a  att8b  att8c  att8d  \\\n",
       "0  0.66  0.62     4   250     2     0     0      0      1      0      0   \n",
       "1  0.66  0.50     4   263     3     0     0      0      0      0      0   \n",
       "2  0.32  0.74     3   211     3     0     0      0      0      0      0   \n",
       "3  0.37  0.57     2   155     3     0     0      0      0      0      0   \n",
       "4  0.41  0.49     2   130     3     0     0      0      0      0      0   \n",
       "\n",
       "   att8e  att8f  att8g  att8h  att8i  att8j  att9a  att9b  att9c  \n",
       "0      0      0      0      0      0      0      0      0      1  \n",
       "1      0      0      0      1      0      0      1      0      0  \n",
       "2      0      0      0      0      0      1      0      1      0  \n",
       "3      0      0      0      0      1      0      0      1      0  \n",
       "4      0      1      0      0      0      0      0      1      0  "
      ]
     },
     "execution_count": 42,
     "metadata": {},
     "output_type": "execute_result"
    }
   ],
   "source": [
    "d_test.head()"
   ]
  },
  {
   "cell_type": "code",
   "execution_count": 43,
   "metadata": {
    "ExecuteTime": {
     "end_time": "2019-11-17T10:13:53.138000Z",
     "start_time": "2019-11-17T10:13:53.028000Z"
    }
   },
   "outputs": [
    {
     "data": {
      "text/html": [
       "<div>\n",
       "<style scoped>\n",
       "    .dataframe tbody tr th:only-of-type {\n",
       "        vertical-align: middle;\n",
       "    }\n",
       "\n",
       "    .dataframe tbody tr th {\n",
       "        vertical-align: top;\n",
       "    }\n",
       "\n",
       "    .dataframe thead th {\n",
       "        text-align: right;\n",
       "    }\n",
       "</style>\n",
       "<table border=\"1\" class=\"dataframe\">\n",
       "  <thead>\n",
       "    <tr style=\"text-align: right;\">\n",
       "      <th></th>\n",
       "      <th>att10</th>\n",
       "    </tr>\n",
       "  </thead>\n",
       "  <tbody>\n",
       "    <tr>\n",
       "      <th>0</th>\n",
       "      <td>0.0</td>\n",
       "    </tr>\n",
       "    <tr>\n",
       "      <th>1</th>\n",
       "      <td>0.0</td>\n",
       "    </tr>\n",
       "    <tr>\n",
       "      <th>2</th>\n",
       "      <td>0.2</td>\n",
       "    </tr>\n",
       "    <tr>\n",
       "      <th>3</th>\n",
       "      <td>1.0</td>\n",
       "    </tr>\n",
       "    <tr>\n",
       "      <th>4</th>\n",
       "      <td>1.0</td>\n",
       "    </tr>\n",
       "    <tr>\n",
       "      <th>5</th>\n",
       "      <td>0.0</td>\n",
       "    </tr>\n",
       "    <tr>\n",
       "      <th>6</th>\n",
       "      <td>0.0</td>\n",
       "    </tr>\n",
       "    <tr>\n",
       "      <th>7</th>\n",
       "      <td>0.1</td>\n",
       "    </tr>\n",
       "    <tr>\n",
       "      <th>8</th>\n",
       "      <td>0.0</td>\n",
       "    </tr>\n",
       "    <tr>\n",
       "      <th>9</th>\n",
       "      <td>0.0</td>\n",
       "    </tr>\n",
       "  </tbody>\n",
       "</table>\n",
       "</div>"
      ],
      "text/plain": [
       "   att10\n",
       "0    0.0\n",
       "1    0.0\n",
       "2    0.2\n",
       "3    1.0\n",
       "4    1.0\n",
       "5    0.0\n",
       "6    0.0\n",
       "7    0.1\n",
       "8    0.0\n",
       "9    0.0"
      ]
     },
     "execution_count": 43,
     "metadata": {},
     "output_type": "execute_result"
    }
   ],
   "source": [
    "predict = model_rf.predict_proba(d_test)\n",
    "d_predict = pd.DataFrame(predict[:, 1], columns = ['att10'])\n",
    "d_predict.head(10)"
   ]
  },
  {
   "cell_type": "code",
   "execution_count": 44,
   "metadata": {
    "ExecuteTime": {
     "end_time": "2019-11-17T10:13:53.313000Z",
     "start_time": "2019-11-17T10:13:53.140500Z"
    }
   },
   "outputs": [],
   "source": [
    "d_predict.to_csv('answer.csv')"
   ]
  },
  {
   "cell_type": "code",
   "execution_count": 45,
   "metadata": {
    "ExecuteTime": {
     "end_time": "2019-11-17T10:13:53.435500Z",
     "start_time": "2019-11-17T10:13:53.315500Z"
    }
   },
   "outputs": [
    {
     "data": {
      "text/html": [
       "<div>\n",
       "<style scoped>\n",
       "    .dataframe tbody tr th:only-of-type {\n",
       "        vertical-align: middle;\n",
       "    }\n",
       "\n",
       "    .dataframe tbody tr th {\n",
       "        vertical-align: top;\n",
       "    }\n",
       "\n",
       "    .dataframe thead th {\n",
       "        text-align: right;\n",
       "    }\n",
       "</style>\n",
       "<table border=\"1\" class=\"dataframe\">\n",
       "  <thead>\n",
       "    <tr style=\"text-align: right;\">\n",
       "      <th></th>\n",
       "      <th>att1</th>\n",
       "      <th>att2</th>\n",
       "      <th>att3</th>\n",
       "      <th>att4</th>\n",
       "      <th>att5</th>\n",
       "      <th>att6</th>\n",
       "      <th>att7</th>\n",
       "      <th>att8a</th>\n",
       "      <th>att8b</th>\n",
       "      <th>att8c</th>\n",
       "      <th>...</th>\n",
       "      <th>att8e</th>\n",
       "      <th>att8f</th>\n",
       "      <th>att8g</th>\n",
       "      <th>att8h</th>\n",
       "      <th>att8i</th>\n",
       "      <th>att8j</th>\n",
       "      <th>att9a</th>\n",
       "      <th>att9b</th>\n",
       "      <th>att9c</th>\n",
       "      <th>att10</th>\n",
       "    </tr>\n",
       "  </thead>\n",
       "  <tbody>\n",
       "    <tr>\n",
       "      <th>0</th>\n",
       "      <td>0.66</td>\n",
       "      <td>0.62</td>\n",
       "      <td>4</td>\n",
       "      <td>250</td>\n",
       "      <td>2</td>\n",
       "      <td>0</td>\n",
       "      <td>0</td>\n",
       "      <td>0</td>\n",
       "      <td>1</td>\n",
       "      <td>0</td>\n",
       "      <td>...</td>\n",
       "      <td>0</td>\n",
       "      <td>0</td>\n",
       "      <td>0</td>\n",
       "      <td>0</td>\n",
       "      <td>0</td>\n",
       "      <td>0</td>\n",
       "      <td>0</td>\n",
       "      <td>0</td>\n",
       "      <td>1</td>\n",
       "      <td>0.0</td>\n",
       "    </tr>\n",
       "    <tr>\n",
       "      <th>1</th>\n",
       "      <td>0.66</td>\n",
       "      <td>0.50</td>\n",
       "      <td>4</td>\n",
       "      <td>263</td>\n",
       "      <td>3</td>\n",
       "      <td>0</td>\n",
       "      <td>0</td>\n",
       "      <td>0</td>\n",
       "      <td>0</td>\n",
       "      <td>0</td>\n",
       "      <td>...</td>\n",
       "      <td>0</td>\n",
       "      <td>0</td>\n",
       "      <td>0</td>\n",
       "      <td>1</td>\n",
       "      <td>0</td>\n",
       "      <td>0</td>\n",
       "      <td>1</td>\n",
       "      <td>0</td>\n",
       "      <td>0</td>\n",
       "      <td>0.0</td>\n",
       "    </tr>\n",
       "    <tr>\n",
       "      <th>2</th>\n",
       "      <td>0.32</td>\n",
       "      <td>0.74</td>\n",
       "      <td>3</td>\n",
       "      <td>211</td>\n",
       "      <td>3</td>\n",
       "      <td>0</td>\n",
       "      <td>0</td>\n",
       "      <td>0</td>\n",
       "      <td>0</td>\n",
       "      <td>0</td>\n",
       "      <td>...</td>\n",
       "      <td>0</td>\n",
       "      <td>0</td>\n",
       "      <td>0</td>\n",
       "      <td>0</td>\n",
       "      <td>0</td>\n",
       "      <td>1</td>\n",
       "      <td>0</td>\n",
       "      <td>1</td>\n",
       "      <td>0</td>\n",
       "      <td>0.2</td>\n",
       "    </tr>\n",
       "    <tr>\n",
       "      <th>3</th>\n",
       "      <td>0.37</td>\n",
       "      <td>0.57</td>\n",
       "      <td>2</td>\n",
       "      <td>155</td>\n",
       "      <td>3</td>\n",
       "      <td>0</td>\n",
       "      <td>0</td>\n",
       "      <td>0</td>\n",
       "      <td>0</td>\n",
       "      <td>0</td>\n",
       "      <td>...</td>\n",
       "      <td>0</td>\n",
       "      <td>0</td>\n",
       "      <td>0</td>\n",
       "      <td>0</td>\n",
       "      <td>1</td>\n",
       "      <td>0</td>\n",
       "      <td>0</td>\n",
       "      <td>1</td>\n",
       "      <td>0</td>\n",
       "      <td>1.0</td>\n",
       "    </tr>\n",
       "    <tr>\n",
       "      <th>4</th>\n",
       "      <td>0.41</td>\n",
       "      <td>0.49</td>\n",
       "      <td>2</td>\n",
       "      <td>130</td>\n",
       "      <td>3</td>\n",
       "      <td>0</td>\n",
       "      <td>0</td>\n",
       "      <td>0</td>\n",
       "      <td>0</td>\n",
       "      <td>0</td>\n",
       "      <td>...</td>\n",
       "      <td>0</td>\n",
       "      <td>1</td>\n",
       "      <td>0</td>\n",
       "      <td>0</td>\n",
       "      <td>0</td>\n",
       "      <td>0</td>\n",
       "      <td>0</td>\n",
       "      <td>1</td>\n",
       "      <td>0</td>\n",
       "      <td>1.0</td>\n",
       "    </tr>\n",
       "  </tbody>\n",
       "</table>\n",
       "<p>5 rows × 21 columns</p>\n",
       "</div>"
      ],
      "text/plain": [
       "   att1  att2  att3  att4  att5  att6  att7  att8a  att8b  att8c  ...  att8e  \\\n",
       "0  0.66  0.62     4   250     2     0     0      0      1      0  ...      0   \n",
       "1  0.66  0.50     4   263     3     0     0      0      0      0  ...      0   \n",
       "2  0.32  0.74     3   211     3     0     0      0      0      0  ...      0   \n",
       "3  0.37  0.57     2   155     3     0     0      0      0      0  ...      0   \n",
       "4  0.41  0.49     2   130     3     0     0      0      0      0  ...      0   \n",
       "\n",
       "   att8f  att8g  att8h  att8i  att8j  att9a  att9b  att9c  att10  \n",
       "0      0      0      0      0      0      0      0      1    0.0  \n",
       "1      0      0      1      0      0      1      0      0    0.0  \n",
       "2      0      0      0      0      1      0      1      0    0.2  \n",
       "3      0      0      0      1      0      0      1      0    1.0  \n",
       "4      1      0      0      0      0      0      1      0    1.0  \n",
       "\n",
       "[5 rows x 21 columns]"
      ]
     },
     "execution_count": 45,
     "metadata": {},
     "output_type": "execute_result"
    }
   ],
   "source": [
    "d_result_test = pd.concat([d_test, d_predict], axis = 1)\n",
    "d_result_test.head()"
   ]
  }
 ],
 "metadata": {
  "kernelspec": {
   "display_name": "Python 3",
   "language": "python",
   "name": "python3"
  },
  "language_info": {
   "codemirror_mode": {
    "name": "ipython",
    "version": 3
   },
   "file_extension": ".py",
   "mimetype": "text/x-python",
   "name": "python",
   "nbconvert_exporter": "python",
   "pygments_lexer": "ipython3",
   "version": "3.7.3"
  },
  "toc": {
   "base_numbering": 1,
   "nav_menu": {},
   "number_sections": true,
   "sideBar": true,
   "skip_h1_title": false,
   "title_cell": "Table of Contents",
   "title_sidebar": "Contents",
   "toc_cell": false,
   "toc_position": {
    "height": "calc(100% - 180px)",
    "left": "10px",
    "top": "150px",
    "width": "303.542px"
   },
   "toc_section_display": true,
   "toc_window_display": true
  }
 },
 "nbformat": 4,
 "nbformat_minor": 2
}
