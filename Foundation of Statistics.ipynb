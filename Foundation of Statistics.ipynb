{
 "cells": [
  {
   "cell_type": "markdown",
   "metadata": {},
   "source": [
    "# Statistics - HCI IYKRA"
   ]
  },
  {
   "cell_type": "markdown",
   "metadata": {},
   "source": [
    "Author: Nirta Ika Yunita\n",
    "<br> Date: 2019, October 25 </br>"
   ]
  },
  {
   "cell_type": "markdown",
   "metadata": {},
   "source": [
    "## Import library"
   ]
  },
  {
   "cell_type": "code",
   "execution_count": 1,
   "metadata": {
    "collapsed": true
   },
   "outputs": [],
   "source": [
    "import numpy as np\n",
    "import pandas as pd\n",
    "class color:\n",
    "   BLUE = '\\033[94m'\n",
    "   END = '\\033[0m'"
   ]
  },
  {
   "cell_type": "markdown",
   "metadata": {},
   "source": [
    "## Load Data"
   ]
  },
  {
   "cell_type": "markdown",
   "metadata": {},
   "source": [
    "Kontrak \t\t: nomor kontrak\n",
    "<br>Tipe_Kendaraan \t\t: tipe kendaraan yang dibeli\n",
    "<br>Pekerjaan \t\t: jenis pekerjaan\n",
    "<br>Area \t\t\t: area kantor tempat kredit diberikan\n",
    "<br>Tenor \t\t\t: jangka waktu hutang yang diajukan (bulan)\n",
    "<br>Bucket_Collectability \t: keterlambatan membayar hutang (hari)\n",
    "<br>NPF\t\t\t: non performing financing\n",
    "<br>Total_AR \t\t: jumlah pinjaman yang diterima (juta rupiah)\n",
    "<br>LTV \t\t\t: loan to value (%)\n",
    "<br>OTR \t\t\t: harga beli mobil setelah ditambahkan dengan seluruh pajak dan berbagai dokumen lainnya (puluh juta rupiah)\n",
    "<br>Age \t\t\t: usia (tahun)\n",
    "<br>Interest_Rate \t\t: suku bunga bank indonesia (%)\n",
    "<br>Income \t\t\t: pendapatan (juta rupiah)\n",
    "<br>DP \t\t\t: uang muka (juta rupiah)\n",
    "<br>AF \t\t\t: amount financed (juta rupiah)\n",
    "<br>Tujuan \t\t\t: tujuan pembelian\n",
    "<br>Pendidikan \t\t: tingkat pendidikan\n",
    "<br>Tanggungan \t\t: jumlah tanggungan keluarga\n",
    "<br>Status \t\t\t: status pernikahan peminjam\n",
    "<br>Gender \t\t\t: gender peminjam\n",
    "<br>Paket \t\t\t: paket kredit\n",
    "<br>Inflasi \t\t: tingkat inflasi (%)\n",
    "<br>Segmen \t\t\t: segmentasi transaksi"
   ]
  },
  {
   "cell_type": "code",
   "execution_count": 2,
   "metadata": {
    "collapsed": true
   },
   "outputs": [],
   "source": [
    "df = pd.read_excel(\"data loan.xlsx\")"
   ]
  },
  {
   "cell_type": "code",
   "execution_count": 3,
   "metadata": {},
   "outputs": [
    {
     "data": {
      "text/html": [
       "<div>\n",
       "<style>\n",
       "    .dataframe thead tr:only-child th {\n",
       "        text-align: right;\n",
       "    }\n",
       "\n",
       "    .dataframe thead th {\n",
       "        text-align: left;\n",
       "    }\n",
       "\n",
       "    .dataframe tbody tr th {\n",
       "        vertical-align: top;\n",
       "    }\n",
       "</style>\n",
       "<table border=\"1\" class=\"dataframe\">\n",
       "  <thead>\n",
       "    <tr style=\"text-align: right;\">\n",
       "      <th></th>\n",
       "      <th>Kontrak</th>\n",
       "      <th>Tipe_Kendaraan</th>\n",
       "      <th>Pekerjaan</th>\n",
       "      <th>Area</th>\n",
       "      <th>Tenor</th>\n",
       "      <th>Bucket_Collectability</th>\n",
       "      <th>NPF</th>\n",
       "      <th>Total_AR</th>\n",
       "      <th>LTV</th>\n",
       "      <th>OTR</th>\n",
       "      <th>...</th>\n",
       "      <th>DP</th>\n",
       "      <th>AF</th>\n",
       "      <th>Tujuan</th>\n",
       "      <th>Pendidikan</th>\n",
       "      <th>Tanggungan</th>\n",
       "      <th>Status</th>\n",
       "      <th>Gender</th>\n",
       "      <th>Paket</th>\n",
       "      <th>Inflasi</th>\n",
       "      <th>Segmen</th>\n",
       "    </tr>\n",
       "  </thead>\n",
       "  <tbody>\n",
       "    <tr>\n",
       "      <th>0</th>\n",
       "      <td>1</td>\n",
       "      <td>OTHERS</td>\n",
       "      <td>Karyawan</td>\n",
       "      <td>Jawa</td>\n",
       "      <td>12</td>\n",
       "      <td>&gt;90 - 120 hari</td>\n",
       "      <td>Ya</td>\n",
       "      <td>2.763126</td>\n",
       "      <td>100.00</td>\n",
       "      <td>2.76</td>\n",
       "      <td>...</td>\n",
       "      <td>0.0</td>\n",
       "      <td>2.76</td>\n",
       "      <td>Private</td>\n",
       "      <td>Sarjana</td>\n",
       "      <td>Tidak ada</td>\n",
       "      <td>OTHERS</td>\n",
       "      <td>Laki-laki</td>\n",
       "      <td>Ya</td>\n",
       "      <td>3.58</td>\n",
       "      <td>Jasa &amp; Perdagangan</td>\n",
       "    </tr>\n",
       "    <tr>\n",
       "      <th>1</th>\n",
       "      <td>2</td>\n",
       "      <td>OTHERS</td>\n",
       "      <td>Wiraswasta</td>\n",
       "      <td>Jawa</td>\n",
       "      <td>12</td>\n",
       "      <td>0 - 30 hari</td>\n",
       "      <td>Tidak</td>\n",
       "      <td>2.805000</td>\n",
       "      <td>103.70</td>\n",
       "      <td>2.71</td>\n",
       "      <td>...</td>\n",
       "      <td>0.0</td>\n",
       "      <td>2.81</td>\n",
       "      <td>Private</td>\n",
       "      <td>Others</td>\n",
       "      <td>Tidak ada</td>\n",
       "      <td>MENIKAH</td>\n",
       "      <td>Laki-laki</td>\n",
       "      <td>Ya</td>\n",
       "      <td>3.58</td>\n",
       "      <td>Others</td>\n",
       "    </tr>\n",
       "    <tr>\n",
       "      <th>2</th>\n",
       "      <td>3</td>\n",
       "      <td>OTHERS</td>\n",
       "      <td>Wiraswasta</td>\n",
       "      <td>Jawa</td>\n",
       "      <td>12</td>\n",
       "      <td>0 - 30 hari</td>\n",
       "      <td>Tidak</td>\n",
       "      <td>3.104000</td>\n",
       "      <td>103.33</td>\n",
       "      <td>3.00</td>\n",
       "      <td>...</td>\n",
       "      <td>0.0</td>\n",
       "      <td>3.10</td>\n",
       "      <td>Private</td>\n",
       "      <td>Sarjana</td>\n",
       "      <td>Tidak ada</td>\n",
       "      <td>OTHERS</td>\n",
       "      <td>Perempuan</td>\n",
       "      <td>Ya</td>\n",
       "      <td>4.17</td>\n",
       "      <td>Others</td>\n",
       "    </tr>\n",
       "    <tr>\n",
       "      <th>3</th>\n",
       "      <td>4</td>\n",
       "      <td>OTHERS</td>\n",
       "      <td>Karyawan</td>\n",
       "      <td>Jawa</td>\n",
       "      <td>12</td>\n",
       "      <td>0 - 30 hari</td>\n",
       "      <td>Tidak</td>\n",
       "      <td>4.088100</td>\n",
       "      <td>102.51</td>\n",
       "      <td>3.98</td>\n",
       "      <td>...</td>\n",
       "      <td>0.0</td>\n",
       "      <td>4.08</td>\n",
       "      <td>Private</td>\n",
       "      <td>Sarjana</td>\n",
       "      <td>Ada</td>\n",
       "      <td>OTHERS</td>\n",
       "      <td>Laki-laki</td>\n",
       "      <td>Ya</td>\n",
       "      <td>3.61</td>\n",
       "      <td>Jasa &amp; Perdagangan</td>\n",
       "    </tr>\n",
       "    <tr>\n",
       "      <th>4</th>\n",
       "      <td>5</td>\n",
       "      <td>OTHERS</td>\n",
       "      <td>Karyawan</td>\n",
       "      <td>Jawa</td>\n",
       "      <td>12</td>\n",
       "      <td>0 - 30 hari</td>\n",
       "      <td>Tidak</td>\n",
       "      <td>4.607100</td>\n",
       "      <td>102.22</td>\n",
       "      <td>4.50</td>\n",
       "      <td>...</td>\n",
       "      <td>0.0</td>\n",
       "      <td>4.60</td>\n",
       "      <td>Private</td>\n",
       "      <td>Sarjana</td>\n",
       "      <td>Tidak ada</td>\n",
       "      <td>OTHERS</td>\n",
       "      <td>Perempuan</td>\n",
       "      <td>Ya</td>\n",
       "      <td>3.30</td>\n",
       "      <td>Jasa &amp; Perdagangan</td>\n",
       "    </tr>\n",
       "  </tbody>\n",
       "</table>\n",
       "<p>5 rows × 23 columns</p>\n",
       "</div>"
      ],
      "text/plain": [
       "   Kontrak Tipe_Kendaraan   Pekerjaan  Area  Tenor Bucket_Collectability  \\\n",
       "0        1         OTHERS    Karyawan  Jawa     12        >90 - 120 hari   \n",
       "1        2         OTHERS  Wiraswasta  Jawa     12           0 - 30 hari   \n",
       "2        3         OTHERS  Wiraswasta  Jawa     12           0 - 30 hari   \n",
       "3        4         OTHERS    Karyawan  Jawa     12           0 - 30 hari   \n",
       "4        5         OTHERS    Karyawan  Jawa     12           0 - 30 hari   \n",
       "\n",
       "     NPF  Total_AR     LTV   OTR         ...           DP    AF   Tujuan  \\\n",
       "0     Ya  2.763126  100.00  2.76         ...          0.0  2.76  Private   \n",
       "1  Tidak  2.805000  103.70  2.71         ...          0.0  2.81  Private   \n",
       "2  Tidak  3.104000  103.33  3.00         ...          0.0  3.10  Private   \n",
       "3  Tidak  4.088100  102.51  3.98         ...          0.0  4.08  Private   \n",
       "4  Tidak  4.607100  102.22  4.50         ...          0.0  4.60  Private   \n",
       "\n",
       "   Pendidikan  Tanggungan   Status     Gender Paket Inflasi  \\\n",
       "0     Sarjana   Tidak ada   OTHERS  Laki-laki    Ya    3.58   \n",
       "1      Others   Tidak ada  MENIKAH  Laki-laki    Ya    3.58   \n",
       "2     Sarjana   Tidak ada   OTHERS  Perempuan    Ya    4.17   \n",
       "3     Sarjana         Ada   OTHERS  Laki-laki    Ya    3.61   \n",
       "4     Sarjana   Tidak ada   OTHERS  Perempuan    Ya    3.30   \n",
       "\n",
       "               Segmen  \n",
       "0  Jasa & Perdagangan  \n",
       "1              Others  \n",
       "2              Others  \n",
       "3  Jasa & Perdagangan  \n",
       "4  Jasa & Perdagangan  \n",
       "\n",
       "[5 rows x 23 columns]"
      ]
     },
     "execution_count": 3,
     "metadata": {},
     "output_type": "execute_result"
    }
   ],
   "source": [
    "df.head()"
   ]
  },
  {
   "cell_type": "code",
   "execution_count": 4,
   "metadata": {},
   "outputs": [
    {
     "name": "stdout",
     "output_type": "stream",
     "text": [
      "<class 'pandas.core.frame.DataFrame'>\n",
      "RangeIndex: 28293 entries, 0 to 28292\n",
      "Data columns (total 23 columns):\n",
      "Kontrak                  28293 non-null int64\n",
      "Tipe_Kendaraan           28293 non-null object\n",
      "Pekerjaan                28293 non-null object\n",
      "Area                     28293 non-null object\n",
      "Tenor                    28293 non-null int64\n",
      "Bucket_Collectability    28293 non-null object\n",
      "NPF                      28293 non-null object\n",
      "Total_AR                 28293 non-null float64\n",
      "LTV                      28293 non-null float64\n",
      "OTR                      28293 non-null float64\n",
      "Age                      28293 non-null int64\n",
      "Interest_Rate            28293 non-null float64\n",
      "Income                   28293 non-null int64\n",
      "DP                       28293 non-null float64\n",
      "AF                       28293 non-null float64\n",
      "Tujuan                   28293 non-null object\n",
      "Pendidikan               28293 non-null object\n",
      "Tanggungan               28293 non-null object\n",
      "Status                   28293 non-null object\n",
      "Gender                   28293 non-null object\n",
      "Paket                    28293 non-null object\n",
      "Inflasi                  28293 non-null float64\n",
      "Segmen                   28293 non-null object\n",
      "dtypes: float64(7), int64(4), object(12)\n",
      "memory usage: 5.0+ MB\n"
     ]
    }
   ],
   "source": [
    "df.info()"
   ]
  },
  {
   "cell_type": "code",
   "execution_count": 5,
   "metadata": {},
   "outputs": [
    {
     "data": {
      "text/plain": [
       "(28293, 23)"
      ]
     },
     "execution_count": 5,
     "metadata": {},
     "output_type": "execute_result"
    }
   ],
   "source": [
    "df.shape"
   ]
  },
  {
   "cell_type": "code",
   "execution_count": 6,
   "metadata": {
    "collapsed": true
   },
   "outputs": [],
   "source": [
    "numeric_data = df.select_dtypes(include = [np.number]).columns\n",
    "categorical_data = df.select_dtypes(exclude = [np.number]).columns"
   ]
  },
  {
   "cell_type": "code",
   "execution_count": 7,
   "metadata": {},
   "outputs": [
    {
     "data": {
      "text/plain": [
       "Index(['Kontrak', 'Tenor', 'Total_AR', 'LTV', 'OTR', 'Age', 'Interest_Rate',\n",
       "       'Income', 'DP', 'AF', 'Inflasi'],\n",
       "      dtype='object')"
      ]
     },
     "execution_count": 7,
     "metadata": {},
     "output_type": "execute_result"
    }
   ],
   "source": [
    "numeric_data"
   ]
  },
  {
   "cell_type": "code",
   "execution_count": 8,
   "metadata": {},
   "outputs": [
    {
     "data": {
      "text/plain": [
       "Index(['Tipe_Kendaraan', 'Pekerjaan', 'Area', 'Bucket_Collectability', 'NPF',\n",
       "       'Tujuan', 'Pendidikan', 'Tanggungan', 'Status', 'Gender', 'Paket',\n",
       "       'Segmen'],\n",
       "      dtype='object')"
      ]
     },
     "execution_count": 8,
     "metadata": {},
     "output_type": "execute_result"
    }
   ],
   "source": [
    "categorical_data"
   ]
  },
  {
   "cell_type": "markdown",
   "metadata": {},
   "source": [
    "## Transformasi Tipe_Kendaraan: Recording"
   ]
  },
  {
   "cell_type": "code",
   "execution_count": 9,
   "metadata": {},
   "outputs": [
    {
     "data": {
      "text/plain": [
       "MINIBUS            14440\n",
       "LCGC                6078\n",
       "OTHERS              5657\n",
       "TRUCK & PICK UP     2118\n",
       "Name: Tipe_Kendaraan, dtype: int64"
      ]
     },
     "execution_count": 9,
     "metadata": {},
     "output_type": "execute_result"
    }
   ],
   "source": [
    "df['Tipe_Kendaraan'].value_counts()"
   ]
  },
  {
   "cell_type": "code",
   "execution_count": 10,
   "metadata": {
    "collapsed": true
   },
   "outputs": [],
   "source": [
    "import copy"
   ]
  },
  {
   "cell_type": "code",
   "execution_count": 11,
   "metadata": {
    "collapsed": true
   },
   "outputs": [],
   "source": [
    "df_edit = copy.deepcopy(df)\n",
    "\n",
    "# df.copy()"
   ]
  },
  {
   "cell_type": "code",
   "execution_count": 12,
   "metadata": {
    "collapsed": true
   },
   "outputs": [],
   "source": [
    "df_edit['Tipe_Kendaraan'] = df_edit.Tipe_Kendaraan.map({'MINIBUS' : 'MINIBUS',\n",
    "                                                        'LGC' : 'NONMINIBUS',\n",
    "                                                        'OTHERS' : 'NONMINIBUS',\n",
    "                                                        'TRUCK & PICK UP' : 'NONMINIBUS'})\n",
    "\n",
    "# df_edit['Tipe_Kendaraan'] = df_edit['Tipe_Kendaraan'].apply(lambda x: 'MINIBUS' if x == 'MINIBUS' else 'NONMINIBUS')"
   ]
  },
  {
   "cell_type": "code",
   "execution_count": 13,
   "metadata": {},
   "outputs": [
    {
     "data": {
      "text/plain": [
       "MINIBUS       14440\n",
       "NONMINIBUS     7775\n",
       "Name: Tipe_Kendaraan, dtype: int64"
      ]
     },
     "execution_count": 13,
     "metadata": {},
     "output_type": "execute_result"
    }
   ],
   "source": [
    "df_edit['Tipe_Kendaraan'].value_counts()"
   ]
  },
  {
   "cell_type": "code",
   "execution_count": 14,
   "metadata": {},
   "outputs": [
    {
     "data": {
      "text/html": [
       "<div>\n",
       "<style>\n",
       "    .dataframe thead tr:only-child th {\n",
       "        text-align: right;\n",
       "    }\n",
       "\n",
       "    .dataframe thead th {\n",
       "        text-align: left;\n",
       "    }\n",
       "\n",
       "    .dataframe tbody tr th {\n",
       "        vertical-align: top;\n",
       "    }\n",
       "</style>\n",
       "<table border=\"1\" class=\"dataframe\">\n",
       "  <thead>\n",
       "    <tr style=\"text-align: right;\">\n",
       "      <th></th>\n",
       "      <th>Kontrak</th>\n",
       "      <th>Tipe_Kendaraan</th>\n",
       "      <th>Pekerjaan</th>\n",
       "      <th>Area</th>\n",
       "      <th>Tenor</th>\n",
       "      <th>Bucket_Collectability</th>\n",
       "      <th>NPF</th>\n",
       "      <th>Total_AR</th>\n",
       "      <th>LTV</th>\n",
       "      <th>OTR</th>\n",
       "      <th>...</th>\n",
       "      <th>DP</th>\n",
       "      <th>AF</th>\n",
       "      <th>Tujuan</th>\n",
       "      <th>Pendidikan</th>\n",
       "      <th>Tanggungan</th>\n",
       "      <th>Status</th>\n",
       "      <th>Gender</th>\n",
       "      <th>Paket</th>\n",
       "      <th>Inflasi</th>\n",
       "      <th>Segmen</th>\n",
       "    </tr>\n",
       "  </thead>\n",
       "  <tbody>\n",
       "    <tr>\n",
       "      <th>0</th>\n",
       "      <td>1</td>\n",
       "      <td>NONMINIBUS</td>\n",
       "      <td>Karyawan</td>\n",
       "      <td>Jawa</td>\n",
       "      <td>12</td>\n",
       "      <td>&gt;90 - 120 hari</td>\n",
       "      <td>Ya</td>\n",
       "      <td>2.763126</td>\n",
       "      <td>100.00</td>\n",
       "      <td>2.76</td>\n",
       "      <td>...</td>\n",
       "      <td>0.0</td>\n",
       "      <td>2.76</td>\n",
       "      <td>Private</td>\n",
       "      <td>Sarjana</td>\n",
       "      <td>Tidak ada</td>\n",
       "      <td>OTHERS</td>\n",
       "      <td>Laki-laki</td>\n",
       "      <td>Ya</td>\n",
       "      <td>3.58</td>\n",
       "      <td>Jasa &amp; Perdagangan</td>\n",
       "    </tr>\n",
       "    <tr>\n",
       "      <th>1</th>\n",
       "      <td>2</td>\n",
       "      <td>NONMINIBUS</td>\n",
       "      <td>Wiraswasta</td>\n",
       "      <td>Jawa</td>\n",
       "      <td>12</td>\n",
       "      <td>0 - 30 hari</td>\n",
       "      <td>Tidak</td>\n",
       "      <td>2.805000</td>\n",
       "      <td>103.70</td>\n",
       "      <td>2.71</td>\n",
       "      <td>...</td>\n",
       "      <td>0.0</td>\n",
       "      <td>2.81</td>\n",
       "      <td>Private</td>\n",
       "      <td>Others</td>\n",
       "      <td>Tidak ada</td>\n",
       "      <td>MENIKAH</td>\n",
       "      <td>Laki-laki</td>\n",
       "      <td>Ya</td>\n",
       "      <td>3.58</td>\n",
       "      <td>Others</td>\n",
       "    </tr>\n",
       "    <tr>\n",
       "      <th>2</th>\n",
       "      <td>3</td>\n",
       "      <td>NONMINIBUS</td>\n",
       "      <td>Wiraswasta</td>\n",
       "      <td>Jawa</td>\n",
       "      <td>12</td>\n",
       "      <td>0 - 30 hari</td>\n",
       "      <td>Tidak</td>\n",
       "      <td>3.104000</td>\n",
       "      <td>103.33</td>\n",
       "      <td>3.00</td>\n",
       "      <td>...</td>\n",
       "      <td>0.0</td>\n",
       "      <td>3.10</td>\n",
       "      <td>Private</td>\n",
       "      <td>Sarjana</td>\n",
       "      <td>Tidak ada</td>\n",
       "      <td>OTHERS</td>\n",
       "      <td>Perempuan</td>\n",
       "      <td>Ya</td>\n",
       "      <td>4.17</td>\n",
       "      <td>Others</td>\n",
       "    </tr>\n",
       "    <tr>\n",
       "      <th>3</th>\n",
       "      <td>4</td>\n",
       "      <td>NONMINIBUS</td>\n",
       "      <td>Karyawan</td>\n",
       "      <td>Jawa</td>\n",
       "      <td>12</td>\n",
       "      <td>0 - 30 hari</td>\n",
       "      <td>Tidak</td>\n",
       "      <td>4.088100</td>\n",
       "      <td>102.51</td>\n",
       "      <td>3.98</td>\n",
       "      <td>...</td>\n",
       "      <td>0.0</td>\n",
       "      <td>4.08</td>\n",
       "      <td>Private</td>\n",
       "      <td>Sarjana</td>\n",
       "      <td>Ada</td>\n",
       "      <td>OTHERS</td>\n",
       "      <td>Laki-laki</td>\n",
       "      <td>Ya</td>\n",
       "      <td>3.61</td>\n",
       "      <td>Jasa &amp; Perdagangan</td>\n",
       "    </tr>\n",
       "    <tr>\n",
       "      <th>4</th>\n",
       "      <td>5</td>\n",
       "      <td>NONMINIBUS</td>\n",
       "      <td>Karyawan</td>\n",
       "      <td>Jawa</td>\n",
       "      <td>12</td>\n",
       "      <td>0 - 30 hari</td>\n",
       "      <td>Tidak</td>\n",
       "      <td>4.607100</td>\n",
       "      <td>102.22</td>\n",
       "      <td>4.50</td>\n",
       "      <td>...</td>\n",
       "      <td>0.0</td>\n",
       "      <td>4.60</td>\n",
       "      <td>Private</td>\n",
       "      <td>Sarjana</td>\n",
       "      <td>Tidak ada</td>\n",
       "      <td>OTHERS</td>\n",
       "      <td>Perempuan</td>\n",
       "      <td>Ya</td>\n",
       "      <td>3.30</td>\n",
       "      <td>Jasa &amp; Perdagangan</td>\n",
       "    </tr>\n",
       "  </tbody>\n",
       "</table>\n",
       "<p>5 rows × 23 columns</p>\n",
       "</div>"
      ],
      "text/plain": [
       "   Kontrak Tipe_Kendaraan   Pekerjaan  Area  Tenor Bucket_Collectability  \\\n",
       "0        1     NONMINIBUS    Karyawan  Jawa     12        >90 - 120 hari   \n",
       "1        2     NONMINIBUS  Wiraswasta  Jawa     12           0 - 30 hari   \n",
       "2        3     NONMINIBUS  Wiraswasta  Jawa     12           0 - 30 hari   \n",
       "3        4     NONMINIBUS    Karyawan  Jawa     12           0 - 30 hari   \n",
       "4        5     NONMINIBUS    Karyawan  Jawa     12           0 - 30 hari   \n",
       "\n",
       "     NPF  Total_AR     LTV   OTR         ...           DP    AF   Tujuan  \\\n",
       "0     Ya  2.763126  100.00  2.76         ...          0.0  2.76  Private   \n",
       "1  Tidak  2.805000  103.70  2.71         ...          0.0  2.81  Private   \n",
       "2  Tidak  3.104000  103.33  3.00         ...          0.0  3.10  Private   \n",
       "3  Tidak  4.088100  102.51  3.98         ...          0.0  4.08  Private   \n",
       "4  Tidak  4.607100  102.22  4.50         ...          0.0  4.60  Private   \n",
       "\n",
       "   Pendidikan  Tanggungan   Status     Gender Paket Inflasi  \\\n",
       "0     Sarjana   Tidak ada   OTHERS  Laki-laki    Ya    3.58   \n",
       "1      Others   Tidak ada  MENIKAH  Laki-laki    Ya    3.58   \n",
       "2     Sarjana   Tidak ada   OTHERS  Perempuan    Ya    4.17   \n",
       "3     Sarjana         Ada   OTHERS  Laki-laki    Ya    3.61   \n",
       "4     Sarjana   Tidak ada   OTHERS  Perempuan    Ya    3.30   \n",
       "\n",
       "               Segmen  \n",
       "0  Jasa & Perdagangan  \n",
       "1              Others  \n",
       "2              Others  \n",
       "3  Jasa & Perdagangan  \n",
       "4  Jasa & Perdagangan  \n",
       "\n",
       "[5 rows x 23 columns]"
      ]
     },
     "execution_count": 14,
     "metadata": {},
     "output_type": "execute_result"
    }
   ],
   "source": [
    "df_edit.head()"
   ]
  },
  {
   "cell_type": "code",
   "execution_count": 15,
   "metadata": {},
   "outputs": [
    {
     "data": {
      "text/html": [
       "<div>\n",
       "<style>\n",
       "    .dataframe thead tr:only-child th {\n",
       "        text-align: right;\n",
       "    }\n",
       "\n",
       "    .dataframe thead th {\n",
       "        text-align: left;\n",
       "    }\n",
       "\n",
       "    .dataframe tbody tr th {\n",
       "        vertical-align: top;\n",
       "    }\n",
       "</style>\n",
       "<table border=\"1\" class=\"dataframe\">\n",
       "  <thead>\n",
       "    <tr style=\"text-align: right;\">\n",
       "      <th></th>\n",
       "      <th>Kontrak</th>\n",
       "      <th>Tenor</th>\n",
       "      <th>Total_AR</th>\n",
       "      <th>LTV</th>\n",
       "      <th>OTR</th>\n",
       "      <th>Age</th>\n",
       "      <th>Interest_Rate</th>\n",
       "      <th>Income</th>\n",
       "      <th>DP</th>\n",
       "      <th>AF</th>\n",
       "      <th>Inflasi</th>\n",
       "    </tr>\n",
       "  </thead>\n",
       "  <tbody>\n",
       "    <tr>\n",
       "      <th>count</th>\n",
       "      <td>28293.000000</td>\n",
       "      <td>28293.000000</td>\n",
       "      <td>28293.000000</td>\n",
       "      <td>28293.000000</td>\n",
       "      <td>28293.000000</td>\n",
       "      <td>28293.000000</td>\n",
       "      <td>28293.000000</td>\n",
       "      <td>28293.000000</td>\n",
       "      <td>28293.000000</td>\n",
       "      <td>28293.000000</td>\n",
       "      <td>28293.000000</td>\n",
       "    </tr>\n",
       "    <tr>\n",
       "      <th>mean</th>\n",
       "      <td>14147.000000</td>\n",
       "      <td>45.104867</td>\n",
       "      <td>214.777125</td>\n",
       "      <td>81.146981</td>\n",
       "      <td>204.385958</td>\n",
       "      <td>40.680133</td>\n",
       "      <td>13.741759</td>\n",
       "      <td>20.449334</td>\n",
       "      <td>59.117309</td>\n",
       "      <td>163.551610</td>\n",
       "      <td>5.531061</td>\n",
       "    </tr>\n",
       "    <tr>\n",
       "      <th>std</th>\n",
       "      <td>8167.629919</td>\n",
       "      <td>13.281078</td>\n",
       "      <td>88.386433</td>\n",
       "      <td>14.986763</td>\n",
       "      <td>79.938138</td>\n",
       "      <td>9.564789</td>\n",
       "      <td>3.517159</td>\n",
       "      <td>115.608090</td>\n",
       "      <td>40.830083</td>\n",
       "      <td>64.204471</td>\n",
       "      <td>1.797010</td>\n",
       "    </tr>\n",
       "    <tr>\n",
       "      <th>min</th>\n",
       "      <td>1.000000</td>\n",
       "      <td>12.000000</td>\n",
       "      <td>1.401000</td>\n",
       "      <td>5.110000</td>\n",
       "      <td>1.690000</td>\n",
       "      <td>19.000000</td>\n",
       "      <td>0.000000</td>\n",
       "      <td>1.000000</td>\n",
       "      <td>0.000000</td>\n",
       "      <td>1.390000</td>\n",
       "      <td>3.210000</td>\n",
       "    </tr>\n",
       "    <tr>\n",
       "      <th>25%</th>\n",
       "      <td>7074.000000</td>\n",
       "      <td>36.000000</td>\n",
       "      <td>156.321600</td>\n",
       "      <td>77.870000</td>\n",
       "      <td>157.800000</td>\n",
       "      <td>34.000000</td>\n",
       "      <td>11.190000</td>\n",
       "      <td>9.000000</td>\n",
       "      <td>37.670000</td>\n",
       "      <td>122.480000</td>\n",
       "      <td>3.830000</td>\n",
       "    </tr>\n",
       "    <tr>\n",
       "      <th>50%</th>\n",
       "      <td>14147.000000</td>\n",
       "      <td>48.000000</td>\n",
       "      <td>201.120000</td>\n",
       "      <td>83.830000</td>\n",
       "      <td>187.700000</td>\n",
       "      <td>40.000000</td>\n",
       "      <td>13.450000</td>\n",
       "      <td>15.000000</td>\n",
       "      <td>47.700000</td>\n",
       "      <td>153.230000</td>\n",
       "      <td>5.310000</td>\n",
       "    </tr>\n",
       "    <tr>\n",
       "      <th>75%</th>\n",
       "      <td>21220.000000</td>\n",
       "      <td>60.000000</td>\n",
       "      <td>266.207999</td>\n",
       "      <td>89.360000</td>\n",
       "      <td>231.050000</td>\n",
       "      <td>48.000000</td>\n",
       "      <td>16.210000</td>\n",
       "      <td>20.000000</td>\n",
       "      <td>67.960000</td>\n",
       "      <td>193.310000</td>\n",
       "      <td>7.250000</td>\n",
       "    </tr>\n",
       "    <tr>\n",
       "      <th>max</th>\n",
       "      <td>28293.000000</td>\n",
       "      <td>60.000000</td>\n",
       "      <td>1854.341300</td>\n",
       "      <td>111.830000</td>\n",
       "      <td>1508.400000</td>\n",
       "      <td>82.000000</td>\n",
       "      <td>27.400000</td>\n",
       "      <td>10000.000000</td>\n",
       "      <td>721.350000</td>\n",
       "      <td>1312.810000</td>\n",
       "      <td>8.790000</td>\n",
       "    </tr>\n",
       "  </tbody>\n",
       "</table>\n",
       "</div>"
      ],
      "text/plain": [
       "            Kontrak         Tenor      Total_AR           LTV           OTR  \\\n",
       "count  28293.000000  28293.000000  28293.000000  28293.000000  28293.000000   \n",
       "mean   14147.000000     45.104867    214.777125     81.146981    204.385958   \n",
       "std     8167.629919     13.281078     88.386433     14.986763     79.938138   \n",
       "min        1.000000     12.000000      1.401000      5.110000      1.690000   \n",
       "25%     7074.000000     36.000000    156.321600     77.870000    157.800000   \n",
       "50%    14147.000000     48.000000    201.120000     83.830000    187.700000   \n",
       "75%    21220.000000     60.000000    266.207999     89.360000    231.050000   \n",
       "max    28293.000000     60.000000   1854.341300    111.830000   1508.400000   \n",
       "\n",
       "                Age  Interest_Rate        Income            DP            AF  \\\n",
       "count  28293.000000   28293.000000  28293.000000  28293.000000  28293.000000   \n",
       "mean      40.680133      13.741759     20.449334     59.117309    163.551610   \n",
       "std        9.564789       3.517159    115.608090     40.830083     64.204471   \n",
       "min       19.000000       0.000000      1.000000      0.000000      1.390000   \n",
       "25%       34.000000      11.190000      9.000000     37.670000    122.480000   \n",
       "50%       40.000000      13.450000     15.000000     47.700000    153.230000   \n",
       "75%       48.000000      16.210000     20.000000     67.960000    193.310000   \n",
       "max       82.000000      27.400000  10000.000000    721.350000   1312.810000   \n",
       "\n",
       "            Inflasi  \n",
       "count  28293.000000  \n",
       "mean       5.531061  \n",
       "std        1.797010  \n",
       "min        3.210000  \n",
       "25%        3.830000  \n",
       "50%        5.310000  \n",
       "75%        7.250000  \n",
       "max        8.790000  "
      ]
     },
     "execution_count": 15,
     "metadata": {},
     "output_type": "execute_result"
    }
   ],
   "source": [
    "df_edit.describe()"
   ]
  },
  {
   "cell_type": "code",
   "execution_count": 16,
   "metadata": {},
   "outputs": [
    {
     "data": {
      "text/html": [
       "<div>\n",
       "<style>\n",
       "    .dataframe thead tr:only-child th {\n",
       "        text-align: right;\n",
       "    }\n",
       "\n",
       "    .dataframe thead th {\n",
       "        text-align: left;\n",
       "    }\n",
       "\n",
       "    .dataframe tbody tr th {\n",
       "        vertical-align: top;\n",
       "    }\n",
       "</style>\n",
       "<table border=\"1\" class=\"dataframe\">\n",
       "  <thead>\n",
       "    <tr style=\"text-align: right;\">\n",
       "      <th></th>\n",
       "      <th>Tipe_Kendaraan</th>\n",
       "      <th>Pekerjaan</th>\n",
       "      <th>Area</th>\n",
       "      <th>Bucket_Collectability</th>\n",
       "      <th>NPF</th>\n",
       "      <th>Tujuan</th>\n",
       "      <th>Pendidikan</th>\n",
       "      <th>Tanggungan</th>\n",
       "      <th>Status</th>\n",
       "      <th>Gender</th>\n",
       "      <th>Paket</th>\n",
       "      <th>Segmen</th>\n",
       "    </tr>\n",
       "  </thead>\n",
       "  <tbody>\n",
       "    <tr>\n",
       "      <th>count</th>\n",
       "      <td>22215</td>\n",
       "      <td>28293</td>\n",
       "      <td>28293</td>\n",
       "      <td>28293</td>\n",
       "      <td>28293</td>\n",
       "      <td>28293</td>\n",
       "      <td>28293</td>\n",
       "      <td>28293</td>\n",
       "      <td>28293</td>\n",
       "      <td>28293</td>\n",
       "      <td>28293</td>\n",
       "      <td>28293</td>\n",
       "    </tr>\n",
       "    <tr>\n",
       "      <th>unique</th>\n",
       "      <td>2</td>\n",
       "      <td>3</td>\n",
       "      <td>3</td>\n",
       "      <td>5</td>\n",
       "      <td>2</td>\n",
       "      <td>2</td>\n",
       "      <td>2</td>\n",
       "      <td>2</td>\n",
       "      <td>2</td>\n",
       "      <td>2</td>\n",
       "      <td>2</td>\n",
       "      <td>2</td>\n",
       "    </tr>\n",
       "    <tr>\n",
       "      <th>top</th>\n",
       "      <td>MINIBUS</td>\n",
       "      <td>Karyawan</td>\n",
       "      <td>Jawa</td>\n",
       "      <td>0 - 30 hari</td>\n",
       "      <td>Tidak</td>\n",
       "      <td>Private</td>\n",
       "      <td>Others</td>\n",
       "      <td>Tidak ada</td>\n",
       "      <td>OTHERS</td>\n",
       "      <td>Laki-laki</td>\n",
       "      <td>Tidak</td>\n",
       "      <td>Jasa &amp; Perdagangan</td>\n",
       "    </tr>\n",
       "    <tr>\n",
       "      <th>freq</th>\n",
       "      <td>14440</td>\n",
       "      <td>13717</td>\n",
       "      <td>15677</td>\n",
       "      <td>12432</td>\n",
       "      <td>14373</td>\n",
       "      <td>24877</td>\n",
       "      <td>16033</td>\n",
       "      <td>15765</td>\n",
       "      <td>14255</td>\n",
       "      <td>20904</td>\n",
       "      <td>15961</td>\n",
       "      <td>16020</td>\n",
       "    </tr>\n",
       "  </tbody>\n",
       "</table>\n",
       "</div>"
      ],
      "text/plain": [
       "       Tipe_Kendaraan Pekerjaan   Area Bucket_Collectability    NPF   Tujuan  \\\n",
       "count           22215     28293  28293                 28293  28293    28293   \n",
       "unique              2         3      3                     5      2        2   \n",
       "top           MINIBUS  Karyawan   Jawa           0 - 30 hari  Tidak  Private   \n",
       "freq            14440     13717  15677                 12432  14373    24877   \n",
       "\n",
       "       Pendidikan Tanggungan  Status     Gender  Paket              Segmen  \n",
       "count       28293      28293   28293      28293  28293               28293  \n",
       "unique          2          2       2          2      2                   2  \n",
       "top        Others  Tidak ada  OTHERS  Laki-laki  Tidak  Jasa & Perdagangan  \n",
       "freq        16033      15765   14255      20904  15961               16020  "
      ]
     },
     "execution_count": 16,
     "metadata": {},
     "output_type": "execute_result"
    }
   ],
   "source": [
    "df_edit[categorical_data].describe()"
   ]
  },
  {
   "cell_type": "markdown",
   "metadata": {},
   "source": [
    "## Transformasi Area : Dummy"
   ]
  },
  {
   "cell_type": "code",
   "execution_count": 17,
   "metadata": {},
   "outputs": [
    {
     "data": {
      "text/plain": [
       "Jawa        15677\n",
       "Sumatera     9872\n",
       "Others       2744\n",
       "Name: Area, dtype: int64"
      ]
     },
     "execution_count": 17,
     "metadata": {},
     "output_type": "execute_result"
    }
   ],
   "source": [
    "df_edit['Area'].value_counts()"
   ]
  },
  {
   "cell_type": "code",
   "execution_count": 18,
   "metadata": {
    "collapsed": true
   },
   "outputs": [],
   "source": [
    "D_Area = pd.get_dummies(df_edit['Area'], prefix = 'Area')"
   ]
  },
  {
   "cell_type": "code",
   "execution_count": 19,
   "metadata": {},
   "outputs": [
    {
     "data": {
      "text/html": [
       "<div>\n",
       "<style>\n",
       "    .dataframe thead tr:only-child th {\n",
       "        text-align: right;\n",
       "    }\n",
       "\n",
       "    .dataframe thead th {\n",
       "        text-align: left;\n",
       "    }\n",
       "\n",
       "    .dataframe tbody tr th {\n",
       "        vertical-align: top;\n",
       "    }\n",
       "</style>\n",
       "<table border=\"1\" class=\"dataframe\">\n",
       "  <thead>\n",
       "    <tr style=\"text-align: right;\">\n",
       "      <th></th>\n",
       "      <th>Area_Jawa</th>\n",
       "      <th>Area_Others</th>\n",
       "      <th>Area_Sumatera</th>\n",
       "    </tr>\n",
       "  </thead>\n",
       "  <tbody>\n",
       "    <tr>\n",
       "      <th>0</th>\n",
       "      <td>1</td>\n",
       "      <td>0</td>\n",
       "      <td>0</td>\n",
       "    </tr>\n",
       "    <tr>\n",
       "      <th>1</th>\n",
       "      <td>1</td>\n",
       "      <td>0</td>\n",
       "      <td>0</td>\n",
       "    </tr>\n",
       "    <tr>\n",
       "      <th>2</th>\n",
       "      <td>1</td>\n",
       "      <td>0</td>\n",
       "      <td>0</td>\n",
       "    </tr>\n",
       "    <tr>\n",
       "      <th>3</th>\n",
       "      <td>1</td>\n",
       "      <td>0</td>\n",
       "      <td>0</td>\n",
       "    </tr>\n",
       "    <tr>\n",
       "      <th>4</th>\n",
       "      <td>1</td>\n",
       "      <td>0</td>\n",
       "      <td>0</td>\n",
       "    </tr>\n",
       "  </tbody>\n",
       "</table>\n",
       "</div>"
      ],
      "text/plain": [
       "   Area_Jawa  Area_Others  Area_Sumatera\n",
       "0          1            0              0\n",
       "1          1            0              0\n",
       "2          1            0              0\n",
       "3          1            0              0\n",
       "4          1            0              0"
      ]
     },
     "execution_count": 19,
     "metadata": {},
     "output_type": "execute_result"
    }
   ],
   "source": [
    "D_Area.head()"
   ]
  },
  {
   "cell_type": "code",
   "execution_count": 20,
   "metadata": {
    "collapsed": true
   },
   "outputs": [],
   "source": [
    "D_Area_Jawa = D_Area.drop('Area_Jawa', axis = 1)"
   ]
  },
  {
   "cell_type": "code",
   "execution_count": 21,
   "metadata": {},
   "outputs": [
    {
     "data": {
      "text/html": [
       "<div>\n",
       "<style>\n",
       "    .dataframe thead tr:only-child th {\n",
       "        text-align: right;\n",
       "    }\n",
       "\n",
       "    .dataframe thead th {\n",
       "        text-align: left;\n",
       "    }\n",
       "\n",
       "    .dataframe tbody tr th {\n",
       "        vertical-align: top;\n",
       "    }\n",
       "</style>\n",
       "<table border=\"1\" class=\"dataframe\">\n",
       "  <thead>\n",
       "    <tr style=\"text-align: right;\">\n",
       "      <th></th>\n",
       "      <th>Area_Others</th>\n",
       "      <th>Area_Sumatera</th>\n",
       "    </tr>\n",
       "  </thead>\n",
       "  <tbody>\n",
       "    <tr>\n",
       "      <th>0</th>\n",
       "      <td>0</td>\n",
       "      <td>0</td>\n",
       "    </tr>\n",
       "    <tr>\n",
       "      <th>1</th>\n",
       "      <td>0</td>\n",
       "      <td>0</td>\n",
       "    </tr>\n",
       "    <tr>\n",
       "      <th>2</th>\n",
       "      <td>0</td>\n",
       "      <td>0</td>\n",
       "    </tr>\n",
       "    <tr>\n",
       "      <th>3</th>\n",
       "      <td>0</td>\n",
       "      <td>0</td>\n",
       "    </tr>\n",
       "    <tr>\n",
       "      <th>4</th>\n",
       "      <td>0</td>\n",
       "      <td>0</td>\n",
       "    </tr>\n",
       "  </tbody>\n",
       "</table>\n",
       "</div>"
      ],
      "text/plain": [
       "   Area_Others  Area_Sumatera\n",
       "0            0              0\n",
       "1            0              0\n",
       "2            0              0\n",
       "3            0              0\n",
       "4            0              0"
      ]
     },
     "execution_count": 21,
     "metadata": {},
     "output_type": "execute_result"
    }
   ],
   "source": [
    "D_Area_Jawa.head()"
   ]
  },
  {
   "cell_type": "code",
   "execution_count": 22,
   "metadata": {
    "collapsed": true
   },
   "outputs": [],
   "source": [
    "df_edit = pd.concat([df_edit, D_Area_Jawa], axis = 1)"
   ]
  },
  {
   "cell_type": "code",
   "execution_count": 23,
   "metadata": {},
   "outputs": [
    {
     "data": {
      "text/html": [
       "<div>\n",
       "<style>\n",
       "    .dataframe thead tr:only-child th {\n",
       "        text-align: right;\n",
       "    }\n",
       "\n",
       "    .dataframe thead th {\n",
       "        text-align: left;\n",
       "    }\n",
       "\n",
       "    .dataframe tbody tr th {\n",
       "        vertical-align: top;\n",
       "    }\n",
       "</style>\n",
       "<table border=\"1\" class=\"dataframe\">\n",
       "  <thead>\n",
       "    <tr style=\"text-align: right;\">\n",
       "      <th></th>\n",
       "      <th>Kontrak</th>\n",
       "      <th>Tipe_Kendaraan</th>\n",
       "      <th>Pekerjaan</th>\n",
       "      <th>Area</th>\n",
       "      <th>Tenor</th>\n",
       "      <th>Bucket_Collectability</th>\n",
       "      <th>NPF</th>\n",
       "      <th>Total_AR</th>\n",
       "      <th>LTV</th>\n",
       "      <th>OTR</th>\n",
       "      <th>...</th>\n",
       "      <th>Tujuan</th>\n",
       "      <th>Pendidikan</th>\n",
       "      <th>Tanggungan</th>\n",
       "      <th>Status</th>\n",
       "      <th>Gender</th>\n",
       "      <th>Paket</th>\n",
       "      <th>Inflasi</th>\n",
       "      <th>Segmen</th>\n",
       "      <th>Area_Others</th>\n",
       "      <th>Area_Sumatera</th>\n",
       "    </tr>\n",
       "  </thead>\n",
       "  <tbody>\n",
       "    <tr>\n",
       "      <th>0</th>\n",
       "      <td>1</td>\n",
       "      <td>NONMINIBUS</td>\n",
       "      <td>Karyawan</td>\n",
       "      <td>Jawa</td>\n",
       "      <td>12</td>\n",
       "      <td>&gt;90 - 120 hari</td>\n",
       "      <td>Ya</td>\n",
       "      <td>2.763126</td>\n",
       "      <td>100.00</td>\n",
       "      <td>2.76</td>\n",
       "      <td>...</td>\n",
       "      <td>Private</td>\n",
       "      <td>Sarjana</td>\n",
       "      <td>Tidak ada</td>\n",
       "      <td>OTHERS</td>\n",
       "      <td>Laki-laki</td>\n",
       "      <td>Ya</td>\n",
       "      <td>3.58</td>\n",
       "      <td>Jasa &amp; Perdagangan</td>\n",
       "      <td>0</td>\n",
       "      <td>0</td>\n",
       "    </tr>\n",
       "    <tr>\n",
       "      <th>1</th>\n",
       "      <td>2</td>\n",
       "      <td>NONMINIBUS</td>\n",
       "      <td>Wiraswasta</td>\n",
       "      <td>Jawa</td>\n",
       "      <td>12</td>\n",
       "      <td>0 - 30 hari</td>\n",
       "      <td>Tidak</td>\n",
       "      <td>2.805000</td>\n",
       "      <td>103.70</td>\n",
       "      <td>2.71</td>\n",
       "      <td>...</td>\n",
       "      <td>Private</td>\n",
       "      <td>Others</td>\n",
       "      <td>Tidak ada</td>\n",
       "      <td>MENIKAH</td>\n",
       "      <td>Laki-laki</td>\n",
       "      <td>Ya</td>\n",
       "      <td>3.58</td>\n",
       "      <td>Others</td>\n",
       "      <td>0</td>\n",
       "      <td>0</td>\n",
       "    </tr>\n",
       "    <tr>\n",
       "      <th>2</th>\n",
       "      <td>3</td>\n",
       "      <td>NONMINIBUS</td>\n",
       "      <td>Wiraswasta</td>\n",
       "      <td>Jawa</td>\n",
       "      <td>12</td>\n",
       "      <td>0 - 30 hari</td>\n",
       "      <td>Tidak</td>\n",
       "      <td>3.104000</td>\n",
       "      <td>103.33</td>\n",
       "      <td>3.00</td>\n",
       "      <td>...</td>\n",
       "      <td>Private</td>\n",
       "      <td>Sarjana</td>\n",
       "      <td>Tidak ada</td>\n",
       "      <td>OTHERS</td>\n",
       "      <td>Perempuan</td>\n",
       "      <td>Ya</td>\n",
       "      <td>4.17</td>\n",
       "      <td>Others</td>\n",
       "      <td>0</td>\n",
       "      <td>0</td>\n",
       "    </tr>\n",
       "    <tr>\n",
       "      <th>3</th>\n",
       "      <td>4</td>\n",
       "      <td>NONMINIBUS</td>\n",
       "      <td>Karyawan</td>\n",
       "      <td>Jawa</td>\n",
       "      <td>12</td>\n",
       "      <td>0 - 30 hari</td>\n",
       "      <td>Tidak</td>\n",
       "      <td>4.088100</td>\n",
       "      <td>102.51</td>\n",
       "      <td>3.98</td>\n",
       "      <td>...</td>\n",
       "      <td>Private</td>\n",
       "      <td>Sarjana</td>\n",
       "      <td>Ada</td>\n",
       "      <td>OTHERS</td>\n",
       "      <td>Laki-laki</td>\n",
       "      <td>Ya</td>\n",
       "      <td>3.61</td>\n",
       "      <td>Jasa &amp; Perdagangan</td>\n",
       "      <td>0</td>\n",
       "      <td>0</td>\n",
       "    </tr>\n",
       "    <tr>\n",
       "      <th>4</th>\n",
       "      <td>5</td>\n",
       "      <td>NONMINIBUS</td>\n",
       "      <td>Karyawan</td>\n",
       "      <td>Jawa</td>\n",
       "      <td>12</td>\n",
       "      <td>0 - 30 hari</td>\n",
       "      <td>Tidak</td>\n",
       "      <td>4.607100</td>\n",
       "      <td>102.22</td>\n",
       "      <td>4.50</td>\n",
       "      <td>...</td>\n",
       "      <td>Private</td>\n",
       "      <td>Sarjana</td>\n",
       "      <td>Tidak ada</td>\n",
       "      <td>OTHERS</td>\n",
       "      <td>Perempuan</td>\n",
       "      <td>Ya</td>\n",
       "      <td>3.30</td>\n",
       "      <td>Jasa &amp; Perdagangan</td>\n",
       "      <td>0</td>\n",
       "      <td>0</td>\n",
       "    </tr>\n",
       "  </tbody>\n",
       "</table>\n",
       "<p>5 rows × 25 columns</p>\n",
       "</div>"
      ],
      "text/plain": [
       "   Kontrak Tipe_Kendaraan   Pekerjaan  Area  Tenor Bucket_Collectability  \\\n",
       "0        1     NONMINIBUS    Karyawan  Jawa     12        >90 - 120 hari   \n",
       "1        2     NONMINIBUS  Wiraswasta  Jawa     12           0 - 30 hari   \n",
       "2        3     NONMINIBUS  Wiraswasta  Jawa     12           0 - 30 hari   \n",
       "3        4     NONMINIBUS    Karyawan  Jawa     12           0 - 30 hari   \n",
       "4        5     NONMINIBUS    Karyawan  Jawa     12           0 - 30 hari   \n",
       "\n",
       "     NPF  Total_AR     LTV   OTR      ...        Tujuan  Pendidikan  \\\n",
       "0     Ya  2.763126  100.00  2.76      ...       Private     Sarjana   \n",
       "1  Tidak  2.805000  103.70  2.71      ...       Private      Others   \n",
       "2  Tidak  3.104000  103.33  3.00      ...       Private     Sarjana   \n",
       "3  Tidak  4.088100  102.51  3.98      ...       Private     Sarjana   \n",
       "4  Tidak  4.607100  102.22  4.50      ...       Private     Sarjana   \n",
       "\n",
       "   Tanggungan   Status     Gender Paket Inflasi              Segmen  \\\n",
       "0   Tidak ada   OTHERS  Laki-laki    Ya    3.58  Jasa & Perdagangan   \n",
       "1   Tidak ada  MENIKAH  Laki-laki    Ya    3.58              Others   \n",
       "2   Tidak ada   OTHERS  Perempuan    Ya    4.17              Others   \n",
       "3         Ada   OTHERS  Laki-laki    Ya    3.61  Jasa & Perdagangan   \n",
       "4   Tidak ada   OTHERS  Perempuan    Ya    3.30  Jasa & Perdagangan   \n",
       "\n",
       "  Area_Others Area_Sumatera  \n",
       "0           0             0  \n",
       "1           0             0  \n",
       "2           0             0  \n",
       "3           0             0  \n",
       "4           0             0  \n",
       "\n",
       "[5 rows x 25 columns]"
      ]
     },
     "execution_count": 23,
     "metadata": {},
     "output_type": "execute_result"
    }
   ],
   "source": [
    "df_edit.head()"
   ]
  },
  {
   "cell_type": "markdown",
   "metadata": {},
   "source": [
    "## Sisipan: Merubah nilai dengan fungsi numpy.where()"
   ]
  },
  {
   "cell_type": "code",
   "execution_count": 24,
   "metadata": {},
   "outputs": [
    {
     "data": {
      "text/plain": [
       "(array([    0,     1,     2, ..., 28286, 28287, 28292], dtype=int64),)"
      ]
     },
     "execution_count": 24,
     "metadata": {},
     "output_type": "execute_result"
    }
   ],
   "source": [
    "np.where(df_edit['Area'] == 'Jawa', )"
   ]
  },
  {
   "cell_type": "code",
   "execution_count": 25,
   "metadata": {},
   "outputs": [
    {
     "data": {
      "text/plain": [
       "array(['Jawa', 'Jawa', 'Jawa', ..., 'Luar Jawa', 'Luar Jawa', 'Jawa'],\n",
       "      dtype='<U9')"
      ]
     },
     "execution_count": 25,
     "metadata": {},
     "output_type": "execute_result"
    }
   ],
   "source": [
    "np.where(df_edit['Area'] == 'Jawa', 'Jawa', 'Luar Jawa')"
   ]
  },
  {
   "cell_type": "markdown",
   "metadata": {},
   "source": [
    "## Diskretisasi LTV\n",
    "\n",
    "LTV is Loan to Value (%)"
   ]
  },
  {
   "cell_type": "code",
   "execution_count": 26,
   "metadata": {
    "collapsed": true
   },
   "outputs": [],
   "source": [
    "diskret_LTV = pd.cut(df_edit.LTV, 5)\n",
    "\n",
    "# Ini artinya dibagi menjadi 5, binning = diskretisasi"
   ]
  },
  {
   "cell_type": "code",
   "execution_count": 27,
   "metadata": {
    "scrolled": true
   },
   "outputs": [
    {
     "data": {
      "text/plain": [
       "0    (90.486, 111.83]\n",
       "1    (90.486, 111.83]\n",
       "2    (90.486, 111.83]\n",
       "3    (90.486, 111.83]\n",
       "4    (90.486, 111.83]\n",
       "Name: LTV, dtype: category\n",
       "Categories (5, interval[float64]): [(5.003, 26.454] < (26.454, 47.798] < (47.798, 69.142] < (69.142, 90.486] < (90.486, 111.83]]"
      ]
     },
     "execution_count": 27,
     "metadata": {},
     "output_type": "execute_result"
    }
   ],
   "source": [
    "diskret_LTV.head()"
   ]
  },
  {
   "cell_type": "markdown",
   "metadata": {},
   "source": [
    "## Transformasi Income: Standardisasi"
   ]
  },
  {
   "cell_type": "code",
   "execution_count": 28,
   "metadata": {},
   "outputs": [
    {
     "data": {
      "text/plain": [
       "count    28293.000000\n",
       "mean        20.449334\n",
       "std        115.608090\n",
       "min          1.000000\n",
       "25%          9.000000\n",
       "50%         15.000000\n",
       "75%         20.000000\n",
       "max      10000.000000\n",
       "Name: Income, dtype: float64"
      ]
     },
     "execution_count": 28,
     "metadata": {},
     "output_type": "execute_result"
    }
   ],
   "source": [
    "df_edit.describe()['Income']"
   ]
  },
  {
   "cell_type": "code",
   "execution_count": 29,
   "metadata": {
    "collapsed": true
   },
   "outputs": [],
   "source": [
    "standardized_Income = (df_edit['Income'] - df_edit['Income'].mean()) / df_edit['Income'].std()"
   ]
  },
  {
   "cell_type": "code",
   "execution_count": 30,
   "metadata": {},
   "outputs": [
    {
     "data": {
      "text/plain": [
       "0   -0.090386\n",
       "1   -0.047136\n",
       "2   -0.003887\n",
       "3   -0.047136\n",
       "4   -0.003887\n",
       "Name: Income, dtype: float64"
      ]
     },
     "execution_count": 30,
     "metadata": {},
     "output_type": "execute_result"
    }
   ],
   "source": [
    "standardized_Income.head()"
   ]
  },
  {
   "cell_type": "code",
   "execution_count": 31,
   "metadata": {},
   "outputs": [
    {
     "data": {
      "text/plain": [
       "0    10\n",
       "1    15\n",
       "2    20\n",
       "3    15\n",
       "4    20\n",
       "Name: Income, dtype: int64"
      ]
     },
     "execution_count": 31,
     "metadata": {},
     "output_type": "execute_result"
    }
   ],
   "source": [
    "df.Income.head()"
   ]
  },
  {
   "cell_type": "code",
   "execution_count": 32,
   "metadata": {},
   "outputs": [
    {
     "data": {
      "text/plain": [
       "0.9999999999999594"
      ]
     },
     "execution_count": 32,
     "metadata": {},
     "output_type": "execute_result"
    }
   ],
   "source": [
    "standardized_Income.std()"
   ]
  },
  {
   "cell_type": "code",
   "execution_count": 33,
   "metadata": {},
   "outputs": [
    {
     "data": {
      "text/plain": [
       "115.60808970422566"
      ]
     },
     "execution_count": 33,
     "metadata": {},
     "output_type": "execute_result"
    }
   ],
   "source": [
    "df.Income.std()"
   ]
  },
  {
   "cell_type": "code",
   "execution_count": 34,
   "metadata": {
    "collapsed": true
   },
   "outputs": [],
   "source": [
    "from matplotlib import pyplot as plt"
   ]
  },
  {
   "cell_type": "code",
   "execution_count": 35,
   "metadata": {},
   "outputs": [
    {
     "data": {
      "image/png": "[encoded data removed]",
      "text/plain": [
       "<matplotlib.figure.Figure at 0xc93d470>"
      ]
     },
     "metadata": {},
     "output_type": "display_data"
    }
   ],
   "source": [
    "# Visualisasi\n",
    "fig, (ax1, ax2) = plt.subplots(1, 2, figsize = (15, 4))\n",
    "\n",
    "ax1.hist(df_edit['Income'])\n",
    "ax1.set_title('Income')\n",
    "\n",
    "ax2.hist(standardized_Income)\n",
    "ax2.set_title('Standardized Income')\n",
    "\n",
    "plt.show()"
   ]
  },
  {
   "cell_type": "code",
   "execution_count": 36,
   "metadata": {},
   "outputs": [
    {
     "data": {
      "text/plain": [
       "0    2.302585\n",
       "1    2.708050\n",
       "2    2.995732\n",
       "3    2.708050\n",
       "4    2.995732\n",
       "Name: Income, dtype: float64"
      ]
     },
     "execution_count": 36,
     "metadata": {},
     "output_type": "execute_result"
    }
   ],
   "source": [
    "ln_Income = np.log(df_edit.Income)\n",
    "ln_Income.head()"
   ]
  },
  {
   "cell_type": "code",
   "execution_count": 37,
   "metadata": {},
   "outputs": [
    {
     "data": {
      "image/png": "[encoded data removed]",
      "text/plain": [
       "<matplotlib.figure.Figure at 0xcb15f28>"
      ]
     },
     "metadata": {},
     "output_type": "display_data"
    }
   ],
   "source": [
    "# Visualisasi\n",
    "fig, (ax1, ax2) = plt.subplots(1, 2, figsize = (15, 4))\n",
    "\n",
    "ax1.hist(df_edit['Income'])\n",
    "ax1.set_title('Income')\n",
    "\n",
    "ax2.hist(ln_Income)\n",
    "ax2.set_title('Log Natural Income')\n",
    "\n",
    "plt.show()"
   ]
  },
  {
   "cell_type": "markdown",
   "metadata": {},
   "source": [
    "## Normalisasi Income"
   ]
  },
  {
   "cell_type": "code",
   "execution_count": 38,
   "metadata": {},
   "outputs": [
    {
     "data": {
      "text/plain": [
       "0    0.0009\n",
       "1    0.0014\n",
       "2    0.0019\n",
       "3    0.0014\n",
       "4    0.0019\n",
       "Name: Income, dtype: float64"
      ]
     },
     "execution_count": 38,
     "metadata": {},
     "output_type": "execute_result"
    }
   ],
   "source": [
    "normalized_Income = (df_edit['Income'] - df_edit['Income'].min()) / (df_edit['Income'].max() - df_edit['Income'].min())\n",
    "normalized_Income.head()"
   ]
  },
  {
   "cell_type": "code",
   "execution_count": 39,
   "metadata": {},
   "outputs": [
    {
     "data": {
      "text/plain": [
       "count    28293.000000\n",
       "mean         0.001945\n",
       "std          0.011562\n",
       "min          0.000000\n",
       "25%          0.000800\n",
       "50%          0.001400\n",
       "75%          0.001900\n",
       "max          1.000000\n",
       "Name: Income, dtype: float64"
      ]
     },
     "execution_count": 39,
     "metadata": {},
     "output_type": "execute_result"
    }
   ],
   "source": [
    "normalized_Income.describe()"
   ]
  },
  {
   "cell_type": "code",
   "execution_count": 40,
   "metadata": {},
   "outputs": [
    {
     "data": {
      "image/png": "[encoded data removed]",
      "text/plain": [
       "<matplotlib.figure.Figure at 0xd2a8358>"
      ]
     },
     "metadata": {},
     "output_type": "display_data"
    }
   ],
   "source": [
    "# Visualisasi\n",
    "fig, (ax1, ax2) = plt.subplots(1, 2, figsize = (15, 4))\n",
    "\n",
    "ax1.hist(df_edit['Income'])\n",
    "ax1.set_title('Income')\n",
    "\n",
    "ax2.hist(normalized_Income)\n",
    "ax2.set_title('Normalized Income')\n",
    "\n",
    "plt.show()"
   ]
  },
  {
   "cell_type": "markdown",
   "metadata": {},
   "source": [
    "## Mendeteksi Outliers"
   ]
  },
  {
   "cell_type": "markdown",
   "metadata": {},
   "source": [
    "### Z-Score"
   ]
  },
  {
   "cell_type": "code",
   "execution_count": 41,
   "metadata": {
    "collapsed": true
   },
   "outputs": [],
   "source": [
    "z_Income = copy.deepcopy(standardized_Income)"
   ]
  },
  {
   "cell_type": "code",
   "execution_count": 42,
   "metadata": {},
   "outputs": [
    {
     "data": {
      "text/plain": [
       "[0        False\n",
       " 1        False\n",
       " 2        False\n",
       " 3        False\n",
       " 4        False\n",
       " 5        False\n",
       " 6        False\n",
       " 7        False\n",
       " 8        False\n",
       " 9        False\n",
       " 10       False\n",
       " 11       False\n",
       " 12       False\n",
       " 13       False\n",
       " 14       False\n",
       " 15       False\n",
       " 16       False\n",
       " 17       False\n",
       " 18       False\n",
       " 19       False\n",
       " 20       False\n",
       " 21       False\n",
       " 22       False\n",
       " 23       False\n",
       " 24       False\n",
       " 25       False\n",
       " 26       False\n",
       " 27       False\n",
       " 28       False\n",
       " 29       False\n",
       "          ...  \n",
       " 28263    False\n",
       " 28264    False\n",
       " 28265    False\n",
       " 28266    False\n",
       " 28267    False\n",
       " 28268    False\n",
       " 28269    False\n",
       " 28270    False\n",
       " 28271    False\n",
       " 28272    False\n",
       " 28273    False\n",
       " 28274    False\n",
       " 28275    False\n",
       " 28276    False\n",
       " 28277    False\n",
       " 28278    False\n",
       " 28279    False\n",
       " 28280    False\n",
       " 28281    False\n",
       " 28282    False\n",
       " 28283    False\n",
       " 28284    False\n",
       " 28285    False\n",
       " 28286    False\n",
       " 28287    False\n",
       " 28288    False\n",
       " 28289    False\n",
       " 28290    False\n",
       " 28291    False\n",
       " 28292    False\n",
       " Name: Income, Length: 28293, dtype: bool]"
      ]
     },
     "execution_count": 42,
     "metadata": {},
     "output_type": "execute_result"
    }
   ],
   "source": [
    "[np.abs(z_Income) > 3]"
   ]
  },
  {
   "cell_type": "code",
   "execution_count": 43,
   "metadata": {},
   "outputs": [
    {
     "data": {
      "text/html": [
       "<div>\n",
       "<style>\n",
       "    .dataframe thead tr:only-child th {\n",
       "        text-align: right;\n",
       "    }\n",
       "\n",
       "    .dataframe thead th {\n",
       "        text-align: left;\n",
       "    }\n",
       "\n",
       "    .dataframe tbody tr th {\n",
       "        vertical-align: top;\n",
       "    }\n",
       "</style>\n",
       "<table border=\"1\" class=\"dataframe\">\n",
       "  <thead>\n",
       "    <tr style=\"text-align: right;\">\n",
       "      <th></th>\n",
       "      <th>Kontrak</th>\n",
       "      <th>Income</th>\n",
       "    </tr>\n",
       "  </thead>\n",
       "  <tbody>\n",
       "    <tr>\n",
       "      <th>4559</th>\n",
       "      <td>4560</td>\n",
       "      <td>1500</td>\n",
       "    </tr>\n",
       "    <tr>\n",
       "      <th>4611</th>\n",
       "      <td>4612</td>\n",
       "      <td>1000</td>\n",
       "    </tr>\n",
       "    <tr>\n",
       "      <th>4898</th>\n",
       "      <td>4899</td>\n",
       "      <td>500</td>\n",
       "    </tr>\n",
       "    <tr>\n",
       "      <th>4899</th>\n",
       "      <td>4900</td>\n",
       "      <td>500</td>\n",
       "    </tr>\n",
       "    <tr>\n",
       "      <th>4943</th>\n",
       "      <td>4944</td>\n",
       "      <td>500</td>\n",
       "    </tr>\n",
       "  </tbody>\n",
       "</table>\n",
       "</div>"
      ],
      "text/plain": [
       "      Kontrak  Income\n",
       "4559     4560    1500\n",
       "4611     4612    1000\n",
       "4898     4899     500\n",
       "4899     4900     500\n",
       "4943     4944     500"
      ]
     },
     "execution_count": 43,
     "metadata": {},
     "output_type": "execute_result"
    }
   ],
   "source": [
    "df_edit[['Kontrak', 'Income']][np.abs(z_Income) > 3].head()"
   ]
  },
  {
   "cell_type": "code",
   "execution_count": 44,
   "metadata": {
    "collapsed": true
   },
   "outputs": [],
   "source": [
    "Q1_Income = df_edit['Income'].quantile(0.25)\n",
    "Q3_Income = df_edit['Income'].quantile(0.75)\n",
    "IQR_Income = Q3_Income - Q1_Income"
   ]
  },
  {
   "cell_type": "code",
   "execution_count": 45,
   "metadata": {},
   "outputs": [
    {
     "data": {
      "text/html": [
       "<div>\n",
       "<style>\n",
       "    .dataframe thead tr:only-child th {\n",
       "        text-align: right;\n",
       "    }\n",
       "\n",
       "    .dataframe thead th {\n",
       "        text-align: left;\n",
       "    }\n",
       "\n",
       "    .dataframe tbody tr th {\n",
       "        vertical-align: top;\n",
       "    }\n",
       "</style>\n",
       "<table border=\"1\" class=\"dataframe\">\n",
       "  <thead>\n",
       "    <tr style=\"text-align: right;\">\n",
       "      <th></th>\n",
       "      <th>Kontrak</th>\n",
       "      <th>Income</th>\n",
       "    </tr>\n",
       "  </thead>\n",
       "  <tbody>\n",
       "    <tr>\n",
       "      <th>86</th>\n",
       "      <td>87</td>\n",
       "      <td>50</td>\n",
       "    </tr>\n",
       "    <tr>\n",
       "      <th>126</th>\n",
       "      <td>127</td>\n",
       "      <td>100</td>\n",
       "    </tr>\n",
       "    <tr>\n",
       "      <th>127</th>\n",
       "      <td>128</td>\n",
       "      <td>60</td>\n",
       "    </tr>\n",
       "    <tr>\n",
       "      <th>187</th>\n",
       "      <td>188</td>\n",
       "      <td>50</td>\n",
       "    </tr>\n",
       "    <tr>\n",
       "      <th>204</th>\n",
       "      <td>205</td>\n",
       "      <td>40</td>\n",
       "    </tr>\n",
       "  </tbody>\n",
       "</table>\n",
       "</div>"
      ],
      "text/plain": [
       "     Kontrak  Income\n",
       "86        87      50\n",
       "126      127     100\n",
       "127      128      60\n",
       "187      188      50\n",
       "204      205      40"
      ]
     },
     "execution_count": 45,
     "metadata": {},
     "output_type": "execute_result"
    }
   ],
   "source": [
    "df_edit[['Kontrak', 'Income']][(df_edit.Income < (Q1_Income - 1.5 * IQR_Income)) |\n",
    "                               (df_edit.Income > (Q3_Income + 1.5 * IQR_Income))].head()"
   ]
  },
  {
   "cell_type": "code",
   "execution_count": 46,
   "metadata": {},
   "outputs": [
    {
     "data": {
      "image/png": "[encoded data removed]",
      "text/plain": [
       "<matplotlib.figure.Figure at 0xcb25a20>"
      ]
     },
     "metadata": {},
     "output_type": "display_data"
    }
   ],
   "source": [
    "df_edit.boxplot(column = 'Income')\n",
    "plt.show()"
   ]
  },
  {
   "cell_type": "markdown",
   "metadata": {},
   "source": [
    "## Hypothesis Testing"
   ]
  },
  {
   "cell_type": "markdown",
   "metadata": {},
   "source": [
    "Menguji perbedaan rata-rata income antara kelompok NPF dan tidak NPF. Gunakan level signifikansi sebesar 5%."
   ]
  },
  {
   "cell_type": "code",
   "execution_count": 47,
   "metadata": {
    "collapsed": true
   },
   "outputs": [],
   "source": [
    "from scipy.stats import ttest_ind"
   ]
  },
  {
   "cell_type": "code",
   "execution_count": 48,
   "metadata": {
    "collapsed": true
   },
   "outputs": [],
   "source": [
    "x1 = df_edit['Income'][df_edit['NPF'] == 'Ya']\n",
    "x2 = df_edit['Income'][df_edit['NPF'] != 'Ya']"
   ]
  },
  {
   "cell_type": "code",
   "execution_count": 49,
   "metadata": {},
   "outputs": [
    {
     "data": {
      "text/plain": [
       "Ttest_indResult(statistic=1.1605323548958912, pvalue=0.2458419213508887)"
      ]
     },
     "execution_count": 49,
     "metadata": {},
     "output_type": "execute_result"
    }
   ],
   "source": [
    "ttest_ind(x1, x2, equal_var = True) # asumsinya varians sama"
   ]
  },
  {
   "cell_type": "markdown",
   "metadata": {},
   "source": [
    "### Interpretasi\n",
    "Karena pvalue > 0,05 maka H0 gagal ditolak, sehingga dapat disimpulkan bahwa rata-rata income kelompok NPF dan tidak NPF tidak berbeda secara signifikan."
   ]
  },
  {
   "cell_type": "code",
   "execution_count": 50,
   "metadata": {},
   "outputs": [
    {
     "name": "stdout",
     "output_type": "stream",
     "text": [
      "Deviasi standar x1 = 160.307 dan x2 = 37.691\n"
     ]
    }
   ],
   "source": [
    "print('Deviasi standar x1 = %.3f dan x2 = %.3f' %(x1.std(), x2.std()))"
   ]
  },
  {
   "cell_type": "markdown",
   "metadata": {},
   "source": [
    "Karena deviasi standar x1 dua kali lebih besar daripada x2 maka kita tidak bisa mengansumsikan variance sama, sehingga perlu diasumsikan variance antara Income NPF dan tidak NPF berbeda."
   ]
  },
  {
   "cell_type": "code",
   "execution_count": 51,
   "metadata": {},
   "outputs": [
    {
     "data": {
      "text/plain": [
       "Ttest_indResult(statistic=1.1440147059898442, pvalue=0.25263531221651053)"
      ]
     },
     "execution_count": 51,
     "metadata": {},
     "output_type": "execute_result"
    }
   ],
   "source": [
    "ttest_ind(x1, x2, equal_var = False) # asumsinya varians beda"
   ]
  },
  {
   "cell_type": "markdown",
   "metadata": {},
   "source": [
    "Meskipun kesimpulan yang dihasilkan sama, tetapi asumsi yang digunakan pada pengujian kedua (varians berbeda) lebih tepat."
   ]
  },
  {
   "cell_type": "markdown",
   "metadata": {},
   "source": [
    "## Regresi Linear Sederhana"
   ]
  },
  {
   "cell_type": "code",
   "execution_count": 52,
   "metadata": {
    "collapsed": true
   },
   "outputs": [],
   "source": [
    "from sklearn.model_selection import train_test_split\n",
    "from sklearn.linear_model import LinearRegression\n",
    "from sklearn import metrics"
   ]
  },
  {
   "cell_type": "code",
   "execution_count": 53,
   "metadata": {
    "collapsed": true
   },
   "outputs": [],
   "source": [
    "# input dataset\n",
    "x = df_edit['Income']\n",
    "y = df_edit['Total_AR']"
   ]
  },
  {
   "cell_type": "code",
   "execution_count": 54,
   "metadata": {
    "collapsed": true
   },
   "outputs": [],
   "source": [
    "# change data structure\n",
    "x = x.values.reshape(-1, 1)\n",
    "y = y.values.reshape(-1, 1)"
   ]
  },
  {
   "cell_type": "code",
   "execution_count": 55,
   "metadata": {},
   "outputs": [
    {
     "data": {
      "text/plain": [
       "LinearRegression(copy_X=True, fit_intercept=True, n_jobs=1, normalize=False)"
      ]
     },
     "execution_count": 55,
     "metadata": {},
     "output_type": "execute_result"
    }
   ],
   "source": [
    "regressor = LinearRegression()\n",
    "regressor.fit(x, y) # training the algorithm"
   ]
  },
  {
   "cell_type": "code",
   "execution_count": 56,
   "metadata": {},
   "outputs": [
    {
     "name": "stdout",
     "output_type": "stream",
     "text": [
      "y = 213.955 + 0.040 X\n"
     ]
    }
   ],
   "source": [
    "# regression equation\n",
    "print('y = %.3f + %.3f X' %(regressor.intercept_, regressor.coef_))"
   ]
  },
  {
   "cell_type": "code",
   "execution_count": 57,
   "metadata": {},
   "outputs": [
    {
     "name": "stdout",
     "output_type": "stream",
     "text": [
      "R2 = 0.003\n",
      "RMSE = 88.263\n"
     ]
    }
   ],
   "source": [
    "# regression equation\n",
    "y_pred = regressor.predict(x)\n",
    "print('R2 = %.3f' %metrics.r2_score(y, y_pred))\n",
    "rmse = np.sqrt(metrics.mean_squared_error(y, y_pred))\n",
    "print('RMSE = %.3f' %rmse)"
   ]
  },
  {
   "cell_type": "markdown",
   "metadata": {},
   "source": [
    "## Pemodelan dengan Statsmodels"
   ]
  },
  {
   "cell_type": "code",
   "execution_count": 58,
   "metadata": {
    "collapsed": true
   },
   "outputs": [],
   "source": [
    "mc = pd.read_excel('data microchip.xlsx')"
   ]
  },
  {
   "cell_type": "code",
   "execution_count": 59,
   "metadata": {
    "collapsed": true
   },
   "outputs": [],
   "source": [
    "import statsmodels.formula.api as smf"
   ]
  },
  {
   "cell_type": "markdown",
   "metadata": {},
   "source": [
    "### Regresi Pengaruh Waktu terhadap Number of Component"
   ]
  },
  {
   "cell_type": "code",
   "execution_count": 60,
   "metadata": {},
   "outputs": [
    {
     "name": "stdout",
     "output_type": "stream",
     "text": [
      "                            OLS Regression Results                            \n",
      "==============================================================================\n",
      "Dep. Variable:               Total_AR   R-squared:                       0.003\n",
      "Model:                            OLS   Adj. R-squared:                  0.003\n",
      "Method:                 Least Squares   F-statistic:                     78.35\n",
      "Date:                Fri, 25 Oct 2019   Prob (F-statistic):           9.10e-19\n",
      "Time:                        23:02:05   Log-Likelihood:            -1.6691e+05\n",
      "No. Observations:               28293   AIC:                         3.338e+05\n",
      "Df Residuals:                   28291   BIC:                         3.338e+05\n",
      "Df Model:                           1                                         \n",
      "Covariance Type:            nonrobust                                         \n",
      "==============================================================================\n",
      "                 coef    std err          t      P>|t|      [0.025      0.975]\n",
      "------------------------------------------------------------------------------\n",
      "Intercept    213.9555      0.533    401.495      0.000     212.911     215.000\n",
      "Income         0.0402      0.005      8.852      0.000       0.031       0.049\n",
      "==============================================================================\n",
      "Omnibus:                    11123.377   Durbin-Watson:                   0.123\n",
      "Prob(Omnibus):                  0.000   Jarque-Bera (JB):           142335.490\n",
      "Skew:                           1.533   Prob(JB):                         0.00\n",
      "Kurtosis:                      13.552   Cond. No.                         119.\n",
      "==============================================================================\n",
      "\n",
      "Warnings:\n",
      "[1] Standard Errors assume that the covariance matrix of the errors is correctly specified.\n"
     ]
    }
   ],
   "source": [
    "ols_df_edit = smf.ols('Total_AR ~ Income', data = df_edit).fit()\n",
    "print(ols_df_edit.summary())"
   ]
  },
  {
   "cell_type": "code",
   "execution_count": 61,
   "metadata": {
    "collapsed": true
   },
   "outputs": [],
   "source": [
    "ols_1_mc = smf.ols('number_of_component ~ year_since_1959', data = mc).fit()"
   ]
  },
  {
   "cell_type": "code",
   "execution_count": 62,
   "metadata": {},
   "outputs": [
    {
     "name": "stdout",
     "output_type": "stream",
     "text": [
      "                             OLS Regression Results                            \n",
      "===============================================================================\n",
      "Dep. Variable:     number_of_component   R-squared:                       0.719\n",
      "Model:                             OLS   Adj. R-squared:                  0.626\n",
      "Method:                  Least Squares   F-statistic:                     7.688\n",
      "Date:                 Fri, 25 Oct 2019   Prob (F-statistic):             0.0694\n",
      "Time:                         23:02:05   Log-Likelihood:                -19.423\n",
      "No. Observations:                    5   AIC:                             42.85\n",
      "Df Residuals:                        3   BIC:                             42.06\n",
      "Df Model:                            1                                         \n",
      "Covariance Type:             nonrobust                                         \n",
      "===================================================================================\n",
      "                      coef    std err          t      P>|t|      [0.025      0.975]\n",
      "-----------------------------------------------------------------------------------\n",
      "Intercept          -8.9434     13.687     -0.653      0.560     -52.502      34.615\n",
      "year_since_1959     9.1509      3.300      2.773      0.069      -1.352      19.654\n",
      "==============================================================================\n",
      "Omnibus:                          nan   Durbin-Watson:                   1.642\n",
      "Prob(Omnibus):                    nan   Jarque-Bera (JB):                0.699\n",
      "Skew:                           0.515   Prob(JB):                        0.705\n",
      "Kurtosis:                       1.485   Cond. No.                         8.72\n",
      "==============================================================================\n",
      "\n",
      "Warnings:\n",
      "[1] Standard Errors assume that the covariance matrix of the errors is correctly specified.\n"
     ]
    },
    {
     "name": "stderr",
     "output_type": "stream",
     "text": [
      "D:\\Anaconda\\lib\\site-packages\\statsmodels\\stats\\stattools.py:72: ValueWarning: omni_normtest is not valid with less than 8 observations; 5 samples were given.\n",
      "  \"samples were given.\" % int(n), ValueWarning)\n"
     ]
    }
   ],
   "source": [
    "print(ols_1_mc.summary())"
   ]
  },
  {
   "cell_type": "markdown",
   "metadata": {},
   "source": [
    "### rmse dari Statsmodels"
   ]
  },
  {
   "cell_type": "code",
   "execution_count": 63,
   "metadata": {
    "collapsed": true
   },
   "outputs": [],
   "source": [
    "from statsmodels.tools.eval_measures import rmse"
   ]
  },
  {
   "cell_type": "code",
   "execution_count": 64,
   "metadata": {},
   "outputs": [
    {
     "data": {
      "text/plain": [
       "11.770445880527003"
      ]
     },
     "execution_count": 64,
     "metadata": {},
     "output_type": "execute_result"
    }
   ],
   "source": [
    "rmse(mc.number_of_component, ols_1_mc.predict(mc.year_since_1959))"
   ]
  },
  {
   "cell_type": "code",
   "execution_count": 65,
   "metadata": {},
   "outputs": [
    {
     "data": {
      "text/plain": [
       "88.26273035970209"
      ]
     },
     "execution_count": 65,
     "metadata": {},
     "output_type": "execute_result"
    }
   ],
   "source": [
    "rmse(df_edit.Total_AR, ols_df_edit.predict(df_edit.Income))"
   ]
  },
  {
   "cell_type": "markdown",
   "metadata": {},
   "source": [
    "# Exercise 2"
   ]
  },
  {
   "cell_type": "markdown",
   "metadata": {},
   "source": [
    "**1. Ambil sampel secara acak dari data loan sebanyak 80% dari banyaknya data.**"
   ]
  },
  {
   "cell_type": "code",
   "execution_count": 66,
   "metadata": {
    "collapsed": true
   },
   "outputs": [],
   "source": [
    "# Sample 80% data\n",
    "data = pd.read_excel(\"data loan.xlsx\")\n",
    "sample = data.sample(int(0.8 * data.shape[0]))"
   ]
  },
  {
   "cell_type": "code",
   "execution_count": 67,
   "metadata": {},
   "outputs": [
    {
     "name": "stdout",
     "output_type": "stream",
     "text": [
      "(22634, 23)\n"
     ]
    },
    {
     "data": {
      "text/html": [
       "<div>\n",
       "<style>\n",
       "    .dataframe thead tr:only-child th {\n",
       "        text-align: right;\n",
       "    }\n",
       "\n",
       "    .dataframe thead th {\n",
       "        text-align: left;\n",
       "    }\n",
       "\n",
       "    .dataframe tbody tr th {\n",
       "        vertical-align: top;\n",
       "    }\n",
       "</style>\n",
       "<table border=\"1\" class=\"dataframe\">\n",
       "  <thead>\n",
       "    <tr style=\"text-align: right;\">\n",
       "      <th></th>\n",
       "      <th>Kontrak</th>\n",
       "      <th>Tipe_Kendaraan</th>\n",
       "      <th>Pekerjaan</th>\n",
       "      <th>Area</th>\n",
       "      <th>Tenor</th>\n",
       "      <th>Bucket_Collectability</th>\n",
       "      <th>NPF</th>\n",
       "      <th>Total_AR</th>\n",
       "      <th>LTV</th>\n",
       "      <th>OTR</th>\n",
       "      <th>...</th>\n",
       "      <th>DP</th>\n",
       "      <th>AF</th>\n",
       "      <th>Tujuan</th>\n",
       "      <th>Pendidikan</th>\n",
       "      <th>Tanggungan</th>\n",
       "      <th>Status</th>\n",
       "      <th>Gender</th>\n",
       "      <th>Paket</th>\n",
       "      <th>Inflasi</th>\n",
       "      <th>Segmen</th>\n",
       "    </tr>\n",
       "  </thead>\n",
       "  <tbody>\n",
       "    <tr>\n",
       "      <th>15249</th>\n",
       "      <td>15250</td>\n",
       "      <td>MINIBUS</td>\n",
       "      <td>Wiraswasta</td>\n",
       "      <td>Jawa</td>\n",
       "      <td>36</td>\n",
       "      <td>&gt; 150 hari</td>\n",
       "      <td>Ya</td>\n",
       "      <td>188.459999</td>\n",
       "      <td>81.72</td>\n",
       "      <td>198.70</td>\n",
       "      <td>...</td>\n",
       "      <td>51.96</td>\n",
       "      <td>162.38</td>\n",
       "      <td>Private</td>\n",
       "      <td>Sarjana</td>\n",
       "      <td>Tidak ada</td>\n",
       "      <td>OTHERS</td>\n",
       "      <td>Laki-laki</td>\n",
       "      <td>Tidak</td>\n",
       "      <td>4.42</td>\n",
       "      <td>Jasa &amp; Perdagangan</td>\n",
       "    </tr>\n",
       "    <tr>\n",
       "      <th>14437</th>\n",
       "      <td>14438</td>\n",
       "      <td>LCGC</td>\n",
       "      <td>Karyawan</td>\n",
       "      <td>Jawa</td>\n",
       "      <td>36</td>\n",
       "      <td>&gt; 150 hari</td>\n",
       "      <td>Ya</td>\n",
       "      <td>181.924001</td>\n",
       "      <td>82.62</td>\n",
       "      <td>165.20</td>\n",
       "      <td>...</td>\n",
       "      <td>41.30</td>\n",
       "      <td>136.50</td>\n",
       "      <td>Private</td>\n",
       "      <td>Sarjana</td>\n",
       "      <td>Ada</td>\n",
       "      <td>MENIKAH</td>\n",
       "      <td>Laki-laki</td>\n",
       "      <td>Ya</td>\n",
       "      <td>7.32</td>\n",
       "      <td>Others</td>\n",
       "    </tr>\n",
       "    <tr>\n",
       "      <th>24826</th>\n",
       "      <td>24827</td>\n",
       "      <td>TRUCK &amp; PICK UP</td>\n",
       "      <td>Lainnya</td>\n",
       "      <td>Sumatera</td>\n",
       "      <td>48</td>\n",
       "      <td>&gt; 150 hari</td>\n",
       "      <td>Ya</td>\n",
       "      <td>308.714554</td>\n",
       "      <td>79.58</td>\n",
       "      <td>277.10</td>\n",
       "      <td>...</td>\n",
       "      <td>69.42</td>\n",
       "      <td>220.51</td>\n",
       "      <td>Others</td>\n",
       "      <td>Others</td>\n",
       "      <td>Ada</td>\n",
       "      <td>OTHERS</td>\n",
       "      <td>Laki-laki</td>\n",
       "      <td>Tidak</td>\n",
       "      <td>5.31</td>\n",
       "      <td>Others</td>\n",
       "    </tr>\n",
       "    <tr>\n",
       "      <th>20552</th>\n",
       "      <td>20553</td>\n",
       "      <td>LCGC</td>\n",
       "      <td>Wiraswasta</td>\n",
       "      <td>Jawa</td>\n",
       "      <td>60</td>\n",
       "      <td>&gt;30 - 90 hari</td>\n",
       "      <td>Tidak</td>\n",
       "      <td>236.640004</td>\n",
       "      <td>105.58</td>\n",
       "      <td>146.12</td>\n",
       "      <td>...</td>\n",
       "      <td>14.61</td>\n",
       "      <td>154.28</td>\n",
       "      <td>Private</td>\n",
       "      <td>Others</td>\n",
       "      <td>Tidak ada</td>\n",
       "      <td>OTHERS</td>\n",
       "      <td>Laki-laki</td>\n",
       "      <td>Ya</td>\n",
       "      <td>3.88</td>\n",
       "      <td>Jasa &amp; Perdagangan</td>\n",
       "    </tr>\n",
       "    <tr>\n",
       "      <th>19169</th>\n",
       "      <td>19170</td>\n",
       "      <td>OTHERS</td>\n",
       "      <td>Karyawan</td>\n",
       "      <td>Sumatera</td>\n",
       "      <td>36</td>\n",
       "      <td>0 - 30 hari</td>\n",
       "      <td>Tidak</td>\n",
       "      <td>221.381895</td>\n",
       "      <td>79.17</td>\n",
       "      <td>238.85</td>\n",
       "      <td>...</td>\n",
       "      <td>72.05</td>\n",
       "      <td>189.10</td>\n",
       "      <td>Private</td>\n",
       "      <td>Sarjana</td>\n",
       "      <td>Ada</td>\n",
       "      <td>MENIKAH</td>\n",
       "      <td>Laki-laki</td>\n",
       "      <td>Ya</td>\n",
       "      <td>4.53</td>\n",
       "      <td>Others</td>\n",
       "    </tr>\n",
       "  </tbody>\n",
       "</table>\n",
       "<p>5 rows × 23 columns</p>\n",
       "</div>"
      ],
      "text/plain": [
       "       Kontrak   Tipe_Kendaraan   Pekerjaan      Area  Tenor  \\\n",
       "15249    15250          MINIBUS  Wiraswasta      Jawa     36   \n",
       "14437    14438             LCGC    Karyawan      Jawa     36   \n",
       "24826    24827  TRUCK & PICK UP     Lainnya  Sumatera     48   \n",
       "20552    20553             LCGC  Wiraswasta      Jawa     60   \n",
       "19169    19170           OTHERS    Karyawan  Sumatera     36   \n",
       "\n",
       "      Bucket_Collectability    NPF    Total_AR     LTV     OTR  \\\n",
       "15249            > 150 hari     Ya  188.459999   81.72  198.70   \n",
       "14437            > 150 hari     Ya  181.924001   82.62  165.20   \n",
       "24826            > 150 hari     Ya  308.714554   79.58  277.10   \n",
       "20552         >30 - 90 hari  Tidak  236.640004  105.58  146.12   \n",
       "19169           0 - 30 hari  Tidak  221.381895   79.17  238.85   \n",
       "\n",
       "              ...             DP      AF   Tujuan  Pendidikan  Tanggungan  \\\n",
       "15249         ...          51.96  162.38  Private     Sarjana   Tidak ada   \n",
       "14437         ...          41.30  136.50  Private     Sarjana         Ada   \n",
       "24826         ...          69.42  220.51   Others      Others         Ada   \n",
       "20552         ...          14.61  154.28  Private      Others   Tidak ada   \n",
       "19169         ...          72.05  189.10  Private     Sarjana         Ada   \n",
       "\n",
       "        Status     Gender  Paket Inflasi              Segmen  \n",
       "15249   OTHERS  Laki-laki  Tidak    4.42  Jasa & Perdagangan  \n",
       "14437  MENIKAH  Laki-laki     Ya    7.32              Others  \n",
       "24826   OTHERS  Laki-laki  Tidak    5.31              Others  \n",
       "20552   OTHERS  Laki-laki     Ya    3.88  Jasa & Perdagangan  \n",
       "19169  MENIKAH  Laki-laki     Ya    4.53              Others  \n",
       "\n",
       "[5 rows x 23 columns]"
      ]
     },
     "execution_count": 67,
     "metadata": {},
     "output_type": "execute_result"
    }
   ],
   "source": [
    "print(sample.shape)\n",
    "sample.head()"
   ]
  },
  {
   "cell_type": "code",
   "execution_count": 68,
   "metadata": {},
   "outputs": [
    {
     "data": {
      "text/plain": [
       "Kontrak                    int64\n",
       "Tipe_Kendaraan            object\n",
       "Pekerjaan                 object\n",
       "Area                      object\n",
       "Tenor                      int64\n",
       "Bucket_Collectability     object\n",
       "NPF                       object\n",
       "Total_AR                 float64\n",
       "LTV                      float64\n",
       "OTR                      float64\n",
       "Age                        int64\n",
       "Interest_Rate            float64\n",
       "Income                     int64\n",
       "DP                       float64\n",
       "AF                       float64\n",
       "Tujuan                    object\n",
       "Pendidikan                object\n",
       "Tanggungan                object\n",
       "Status                    object\n",
       "Gender                    object\n",
       "Paket                     object\n",
       "Inflasi                  float64\n",
       "Segmen                    object\n",
       "dtype: object"
      ]
     },
     "execution_count": 68,
     "metadata": {},
     "output_type": "execute_result"
    }
   ],
   "source": [
    "sample.dtypes"
   ]
  },
  {
   "cell_type": "code",
   "execution_count": 69,
   "metadata": {},
   "outputs": [
    {
     "name": "stdout",
     "output_type": "stream",
     "text": [
      "<class 'pandas.core.frame.DataFrame'>\n",
      "Int64Index: 22634 entries, 15249 to 27029\n",
      "Data columns (total 23 columns):\n",
      "Kontrak                  22634 non-null int64\n",
      "Tipe_Kendaraan           22634 non-null object\n",
      "Pekerjaan                22634 non-null object\n",
      "Area                     22634 non-null object\n",
      "Tenor                    22634 non-null int64\n",
      "Bucket_Collectability    22634 non-null object\n",
      "NPF                      22634 non-null object\n",
      "Total_AR                 22634 non-null float64\n",
      "LTV                      22634 non-null float64\n",
      "OTR                      22634 non-null float64\n",
      "Age                      22634 non-null int64\n",
      "Interest_Rate            22634 non-null float64\n",
      "Income                   22634 non-null int64\n",
      "DP                       22634 non-null float64\n",
      "AF                       22634 non-null float64\n",
      "Tujuan                   22634 non-null object\n",
      "Pendidikan               22634 non-null object\n",
      "Tanggungan               22634 non-null object\n",
      "Status                   22634 non-null object\n",
      "Gender                   22634 non-null object\n",
      "Paket                    22634 non-null object\n",
      "Inflasi                  22634 non-null float64\n",
      "Segmen                   22634 non-null object\n",
      "dtypes: float64(7), int64(4), object(12)\n",
      "memory usage: 4.1+ MB\n"
     ]
    }
   ],
   "source": [
    "sample.info()"
   ]
  },
  {
   "cell_type": "markdown",
   "metadata": {},
   "source": [
    "**2. Lakukan analisis statistik menggunakan metode-metode yang telah dipelajari di kelas ini.**"
   ]
  },
  {
   "cell_type": "code",
   "execution_count": 70,
   "metadata": {},
   "outputs": [
    {
     "name": "stdout",
     "output_type": "stream",
     "text": [
      "Number of rows reflected on dataset are \u001b[94m22634\u001b[0m.\n",
      "\n",
      "Number of columns reflected on dataset are \u001b[94m23\u001b[0m.\n"
     ]
    }
   ],
   "source": [
    "row = sample.shape[0]\n",
    "column = sample.shape[1]\n",
    "\n",
    "print(\"Number of rows reflected on dataset are \" + color.BLUE + str(row) + color.END + \".\") \n",
    "print(\"\\nNumber of columns reflected on dataset are \" + color.BLUE + str(column) + color.END + \".\") "
   ]
  },
  {
   "cell_type": "code",
   "execution_count": 71,
   "metadata": {},
   "outputs": [
    {
     "name": "stdout",
     "output_type": "stream",
     "text": [
      "The minimum of customer's age is \u001b[94m19\u001b[0m.\n",
      "\n",
      "The maximum of customer's age is \u001b[94m82\u001b[0m.\n",
      "\n",
      "The mean of customer's age is \u001b[94m40\u001b[0m.\n"
     ]
    }
   ],
   "source": [
    "min_age = sample[\"Age\"].min()\n",
    "max_age = sample[\"Age\"].max()\n",
    "mean_age = int(sample[\"Age\"].mean())\n",
    "\n",
    "print(\"The minimum of customer's age is \" + color.BLUE + str(min_age) + color.END + \".\")\n",
    "print(\"\\nThe maximum of customer's age is \" + color.BLUE + str(max_age) + color.END + \".\")\n",
    "print(\"\\nThe mean of customer's age is \" + color.BLUE + str(mean_age) + color.END + \".\")"
   ]
  },
  {
   "cell_type": "code",
   "execution_count": 72,
   "metadata": {},
   "outputs": [
    {
     "name": "stdout",
     "output_type": "stream",
     "text": [
      "There are \u001b[94m16725\u001b[0m male customers and \u001b[94m5909\u001b[0m female customers.\n"
     ]
    }
   ],
   "source": [
    "male = sample[sample.Gender == 'Laki-laki']\n",
    "female = sample[sample.Gender == 'Perempuan']\n",
    "\n",
    "print(\"There are \" + color.BLUE + str(male.shape[0]) + color.END + \" male customers and \" + color.BLUE + str(female.shape[0]) + color.END + \" female customers.\")"
   ]
  },
  {
   "cell_type": "code",
   "execution_count": 73,
   "metadata": {},
   "outputs": [
    {
     "name": "stdout",
     "output_type": "stream",
     "text": [
      "There are \u001b[94m9842\u001b[0m bachelors customers reflected in the dataset.\n"
     ]
    }
   ],
   "source": [
    "school = sample[sample.Pendidikan == \"Sarjana\"]\n",
    "\n",
    "print(\"There are \" + color.BLUE + str(school.shape[0]) + color.END + \" bachelors customers reflected in the dataset.\")"
   ]
  },
  {
   "cell_type": "code",
   "execution_count": 74,
   "metadata": {},
   "outputs": [
    {
     "name": "stdout",
     "output_type": "stream",
     "text": [
      "There are \u001b[94m11207\u001b[0m customers have married.\n"
     ]
    }
   ],
   "source": [
    "mariage = sample[sample.Status == 'MENIKAH']\n",
    "\n",
    "print(\"There are \" + color.BLUE + str(mariage.shape[0]) + color.END + \" customers have married.\")"
   ]
  },
  {
   "cell_type": "code",
   "execution_count": 75,
   "metadata": {},
   "outputs": [
    {
     "name": "stdout",
     "output_type": "stream",
     "text": [
      "There are \u001b[94m16735\u001b[0m customer who have income >= 10 mio Rupiahs.\n"
     ]
    }
   ],
   "source": [
    "rich = sample[sample[\"Income\"] >= 10]\n",
    "\n",
    "print(\"There are \" + color.BLUE + str(rich.shape[0]) + color.END + \" customer who have income >= 10 mio Rupiahs.\")"
   ]
  },
  {
   "cell_type": "code",
   "execution_count": 76,
   "metadata": {},
   "outputs": [
    {
     "name": "stdout",
     "output_type": "stream",
     "text": [
      "The profile of customer who has the highest credit amount (\u001b[94m1854\u001b[0m mio Rupiahs) is shown below.\n",
      "Tipe_Kendaraan  : \u001b[94mOTHERS\u001b[0m\n",
      "Pekerjaan  : \u001b[94mLainnya\u001b[0m\n",
      "Area  : \u001b[94mJawa\u001b[0m\n",
      "Tenor   : \u001b[94m60\u001b[0m\n",
      "Bucket_Collectability  : \u001b[94m>30 - 90 hari\u001b[0m\n",
      "NPF  : \u001b[94mTidak\u001b[0m\n",
      "LTV  : \u001b[94m87.03\u001b[0m\n",
      "OTR  : \u001b[94m1508.4\u001b[0m\n",
      "Age  : \u001b[94m33\u001b[0m\n",
      "Interest_Rate  : \u001b[94m15.09\u001b[0m\n",
      "Income  : \u001b[94m30\u001b[0m\n",
      "DP  : \u001b[94m301.68\u001b[0m\n",
      "AF  : \u001b[94m1312.81\u001b[0m\n",
      "Tujuan  : \u001b[94mPrivate\u001b[0m\n",
      "Pendidikan  : \u001b[94mSarjana\u001b[0m\n",
      "Tanggungan  : \u001b[94mTidak ada\u001b[0m\n",
      "Status  : \u001b[94mOTHERS\u001b[0m\n",
      "Gender  : \u001b[94mLaki-laki\u001b[0m\n",
      "Paket  : \u001b[94mTidak\u001b[0m\n",
      "Inflasi  : \u001b[94m5.31\u001b[0m\n",
      "Segmen  : \u001b[94mOthers\u001b[0m\n"
     ]
    }
   ],
   "source": [
    "highest_credit = sample.sort_values(by =[\"Total_AR\"], ascending = False).head(1)\n",
    "tipe_kendaraan_hc = highest_credit.iloc[0][1]\n",
    "pekerjaan_hc = highest_credit.iloc[0][2]\n",
    "area_hc = highest_credit.iloc[0][3]\n",
    "tenor_hc = highest_credit.iloc[0][4]\n",
    "bucket_hc = highest_credit.iloc[0][5]\n",
    "npf_hc = highest_credit.iloc[0][6]\n",
    "t_ar_hc = int(highest_credit.iloc[0][7])\n",
    "ltv_hc = highest_credit.iloc[0][8]\n",
    "otr_hc = highest_credit.iloc[0][9]\n",
    "age_hc = highest_credit.iloc[0][10]\n",
    "ir_hc = highest_credit.iloc[0][11]\n",
    "income_hc = highest_credit.iloc[0][12]\n",
    "dp_hc = highest_credit.iloc[0][13]\n",
    "af_hc = highest_credit.iloc[0][14]\n",
    "tujuan_hc = highest_credit.iloc[0][15]\n",
    "pendidikan_hc = highest_credit.iloc[0][16]\n",
    "tanggungan_hc = highest_credit.iloc[0][17]\n",
    "status_hc = highest_credit.iloc[0][18]\n",
    "gender_hc = highest_credit.iloc[0][19]\n",
    "paket_hc = highest_credit.iloc[0][20]\n",
    "inflasi_hc = highest_credit.iloc[0][21]\n",
    "segmen_hc = highest_credit.iloc[0][22]\n",
    "\n",
    "print(\"The profile of customer who has the highest credit amount (\" + color.BLUE + str(t_ar_hc) + color.END + \" mio Rupiahs) is shown below.\")\n",
    "print(\"Tipe_Kendaraan  : \" + color.BLUE + str(tipe_kendaraan_hc) + color.END)\n",
    "print(\"Pekerjaan  : \" + color.BLUE + str(pekerjaan_hc) + color.END)\n",
    "print(\"Area  : \" + color.BLUE + str(area_hc) + color.END)\n",
    "print(\"Tenor   : \" + color.BLUE + str(tenor_hc) + color.END)\n",
    "print(\"Bucket_Collectability  : \" + color.BLUE + str(bucket_hc) + color.END)\n",
    "print(\"NPF  : \" + color.BLUE + str(npf_hc) + color.END)\n",
    "print(\"LTV  : \" + color.BLUE + str(ltv_hc) + color.END)\n",
    "print(\"OTR  : \" + color.BLUE + str(otr_hc) + color.END)\n",
    "print(\"Age  : \" + color.BLUE + str(age_hc) + color.END)\n",
    "print(\"Interest_Rate  : \" + color.BLUE + str(ir_hc) + color.END)\n",
    "print(\"Income  : \" + color.BLUE + str(income_hc) + color.END)\n",
    "print(\"DP  : \" + color.BLUE + str(dp_hc) + color.END)\n",
    "print(\"AF  : \" + color.BLUE + str(af_hc) + color.END)\n",
    "print(\"Tujuan  : \" + color.BLUE + str(tujuan_hc) + color.END)\n",
    "print(\"Pendidikan  : \" + color.BLUE + str(pendidikan_hc) + color.END)\n",
    "print(\"Tanggungan  : \" + color.BLUE + str(tanggungan_hc) + color.END)\n",
    "print(\"Status  : \" + color.BLUE + str(status_hc) + color.END)\n",
    "print(\"Gender  : \" + color.BLUE + str(gender_hc) + color.END)\n",
    "print(\"Paket  : \" + color.BLUE + str(paket_hc) + color.END)\n",
    "print(\"Inflasi  : \" + color.BLUE + str(inflasi_hc) + color.END)\n",
    "print(\"Segmen  : \" + color.BLUE + str(segmen_hc) + color.END)\n"
   ]
  },
  {
   "cell_type": "code",
   "execution_count": 77,
   "metadata": {},
   "outputs": [
    {
     "data": {
      "text/plain": [
       "Index(['Kontrak', 'Tenor', 'Total_AR', 'LTV', 'OTR', 'Age', 'Interest_Rate',\n",
       "       'Income', 'DP', 'AF', 'Inflasi'],\n",
       "      dtype='object')"
      ]
     },
     "execution_count": 77,
     "metadata": {},
     "output_type": "execute_result"
    }
   ],
   "source": [
    "numeric_sample = sample.select_dtypes(include = [np.number]).columns\n",
    "numeric_data"
   ]
  },
  {
   "cell_type": "code",
   "execution_count": 78,
   "metadata": {},
   "outputs": [
    {
     "data": {
      "text/plain": [
       "Index(['Tipe_Kendaraan', 'Pekerjaan', 'Area', 'Bucket_Collectability', 'NPF',\n",
       "       'Tujuan', 'Pendidikan', 'Tanggungan', 'Status', 'Gender', 'Paket',\n",
       "       'Segmen'],\n",
       "      dtype='object')"
      ]
     },
     "execution_count": 78,
     "metadata": {},
     "output_type": "execute_result"
    }
   ],
   "source": [
    "categorical_data = sample.select_dtypes(exclude = [np.number]).columns\n",
    "categorical_data"
   ]
  },
  {
   "cell_type": "markdown",
   "metadata": {
    "collapsed": true
   },
   "source": [
    "### Transformasi Bucket_Collectability: Recording"
   ]
  },
  {
   "cell_type": "code",
   "execution_count": 79,
   "metadata": {},
   "outputs": [
    {
     "data": {
      "text/plain": [
       "0 - 30 hari        9974\n",
       "> 150 hari         8516\n",
       ">90 - 120 hari     1622\n",
       ">30 - 90 hari      1529\n",
       ">120 - 150 hari     993\n",
       "Name: Bucket_Collectability, dtype: int64"
      ]
     },
     "execution_count": 79,
     "metadata": {},
     "output_type": "execute_result"
    }
   ],
   "source": [
    "sample['Bucket_Collectability'].value_counts()"
   ]
  },
  {
   "cell_type": "code",
   "execution_count": 80,
   "metadata": {
    "collapsed": true
   },
   "outputs": [],
   "source": [
    "sample_edit = sample.copy()"
   ]
  },
  {
   "cell_type": "code",
   "execution_count": 81,
   "metadata": {
    "collapsed": true
   },
   "outputs": [],
   "source": [
    "sample_edit['Bucket_Collectability'] = sample_edit['Bucket_Collectability'].apply(lambda x: 'Early Collection' if x == '0 - 30 hari' else 'Late Collection')"
   ]
  },
  {
   "cell_type": "code",
   "execution_count": 82,
   "metadata": {},
   "outputs": [
    {
     "data": {
      "text/plain": [
       "Late Collection     12660\n",
       "Early Collection     9974\n",
       "Name: Bucket_Collectability, dtype: int64"
      ]
     },
     "execution_count": 82,
     "metadata": {},
     "output_type": "execute_result"
    }
   ],
   "source": [
    "sample_edit['Bucket_Collectability'].value_counts()"
   ]
  },
  {
   "cell_type": "code",
   "execution_count": 83,
   "metadata": {},
   "outputs": [
    {
     "data": {
      "text/html": [
       "<div>\n",
       "<style>\n",
       "    .dataframe thead tr:only-child th {\n",
       "        text-align: right;\n",
       "    }\n",
       "\n",
       "    .dataframe thead th {\n",
       "        text-align: left;\n",
       "    }\n",
       "\n",
       "    .dataframe tbody tr th {\n",
       "        vertical-align: top;\n",
       "    }\n",
       "</style>\n",
       "<table border=\"1\" class=\"dataframe\">\n",
       "  <thead>\n",
       "    <tr style=\"text-align: right;\">\n",
       "      <th></th>\n",
       "      <th>Kontrak</th>\n",
       "      <th>Tipe_Kendaraan</th>\n",
       "      <th>Pekerjaan</th>\n",
       "      <th>Area</th>\n",
       "      <th>Tenor</th>\n",
       "      <th>Bucket_Collectability</th>\n",
       "      <th>NPF</th>\n",
       "      <th>Total_AR</th>\n",
       "      <th>LTV</th>\n",
       "      <th>OTR</th>\n",
       "      <th>...</th>\n",
       "      <th>DP</th>\n",
       "      <th>AF</th>\n",
       "      <th>Tujuan</th>\n",
       "      <th>Pendidikan</th>\n",
       "      <th>Tanggungan</th>\n",
       "      <th>Status</th>\n",
       "      <th>Gender</th>\n",
       "      <th>Paket</th>\n",
       "      <th>Inflasi</th>\n",
       "      <th>Segmen</th>\n",
       "    </tr>\n",
       "  </thead>\n",
       "  <tbody>\n",
       "    <tr>\n",
       "      <th>15249</th>\n",
       "      <td>15250</td>\n",
       "      <td>MINIBUS</td>\n",
       "      <td>Wiraswasta</td>\n",
       "      <td>Jawa</td>\n",
       "      <td>36</td>\n",
       "      <td>Late Collection</td>\n",
       "      <td>Ya</td>\n",
       "      <td>188.459999</td>\n",
       "      <td>81.72</td>\n",
       "      <td>198.70</td>\n",
       "      <td>...</td>\n",
       "      <td>51.96</td>\n",
       "      <td>162.38</td>\n",
       "      <td>Private</td>\n",
       "      <td>Sarjana</td>\n",
       "      <td>Tidak ada</td>\n",
       "      <td>OTHERS</td>\n",
       "      <td>Laki-laki</td>\n",
       "      <td>Tidak</td>\n",
       "      <td>4.42</td>\n",
       "      <td>Jasa &amp; Perdagangan</td>\n",
       "    </tr>\n",
       "    <tr>\n",
       "      <th>14437</th>\n",
       "      <td>14438</td>\n",
       "      <td>LCGC</td>\n",
       "      <td>Karyawan</td>\n",
       "      <td>Jawa</td>\n",
       "      <td>36</td>\n",
       "      <td>Late Collection</td>\n",
       "      <td>Ya</td>\n",
       "      <td>181.924001</td>\n",
       "      <td>82.62</td>\n",
       "      <td>165.20</td>\n",
       "      <td>...</td>\n",
       "      <td>41.30</td>\n",
       "      <td>136.50</td>\n",
       "      <td>Private</td>\n",
       "      <td>Sarjana</td>\n",
       "      <td>Ada</td>\n",
       "      <td>MENIKAH</td>\n",
       "      <td>Laki-laki</td>\n",
       "      <td>Ya</td>\n",
       "      <td>7.32</td>\n",
       "      <td>Others</td>\n",
       "    </tr>\n",
       "    <tr>\n",
       "      <th>24826</th>\n",
       "      <td>24827</td>\n",
       "      <td>TRUCK &amp; PICK UP</td>\n",
       "      <td>Lainnya</td>\n",
       "      <td>Sumatera</td>\n",
       "      <td>48</td>\n",
       "      <td>Late Collection</td>\n",
       "      <td>Ya</td>\n",
       "      <td>308.714554</td>\n",
       "      <td>79.58</td>\n",
       "      <td>277.10</td>\n",
       "      <td>...</td>\n",
       "      <td>69.42</td>\n",
       "      <td>220.51</td>\n",
       "      <td>Others</td>\n",
       "      <td>Others</td>\n",
       "      <td>Ada</td>\n",
       "      <td>OTHERS</td>\n",
       "      <td>Laki-laki</td>\n",
       "      <td>Tidak</td>\n",
       "      <td>5.31</td>\n",
       "      <td>Others</td>\n",
       "    </tr>\n",
       "    <tr>\n",
       "      <th>20552</th>\n",
       "      <td>20553</td>\n",
       "      <td>LCGC</td>\n",
       "      <td>Wiraswasta</td>\n",
       "      <td>Jawa</td>\n",
       "      <td>60</td>\n",
       "      <td>Late Collection</td>\n",
       "      <td>Tidak</td>\n",
       "      <td>236.640004</td>\n",
       "      <td>105.58</td>\n",
       "      <td>146.12</td>\n",
       "      <td>...</td>\n",
       "      <td>14.61</td>\n",
       "      <td>154.28</td>\n",
       "      <td>Private</td>\n",
       "      <td>Others</td>\n",
       "      <td>Tidak ada</td>\n",
       "      <td>OTHERS</td>\n",
       "      <td>Laki-laki</td>\n",
       "      <td>Ya</td>\n",
       "      <td>3.88</td>\n",
       "      <td>Jasa &amp; Perdagangan</td>\n",
       "    </tr>\n",
       "    <tr>\n",
       "      <th>19169</th>\n",
       "      <td>19170</td>\n",
       "      <td>OTHERS</td>\n",
       "      <td>Karyawan</td>\n",
       "      <td>Sumatera</td>\n",
       "      <td>36</td>\n",
       "      <td>Early Collection</td>\n",
       "      <td>Tidak</td>\n",
       "      <td>221.381895</td>\n",
       "      <td>79.17</td>\n",
       "      <td>238.85</td>\n",
       "      <td>...</td>\n",
       "      <td>72.05</td>\n",
       "      <td>189.10</td>\n",
       "      <td>Private</td>\n",
       "      <td>Sarjana</td>\n",
       "      <td>Ada</td>\n",
       "      <td>MENIKAH</td>\n",
       "      <td>Laki-laki</td>\n",
       "      <td>Ya</td>\n",
       "      <td>4.53</td>\n",
       "      <td>Others</td>\n",
       "    </tr>\n",
       "  </tbody>\n",
       "</table>\n",
       "<p>5 rows × 23 columns</p>\n",
       "</div>"
      ],
      "text/plain": [
       "       Kontrak   Tipe_Kendaraan   Pekerjaan      Area  Tenor  \\\n",
       "15249    15250          MINIBUS  Wiraswasta      Jawa     36   \n",
       "14437    14438             LCGC    Karyawan      Jawa     36   \n",
       "24826    24827  TRUCK & PICK UP     Lainnya  Sumatera     48   \n",
       "20552    20553             LCGC  Wiraswasta      Jawa     60   \n",
       "19169    19170           OTHERS    Karyawan  Sumatera     36   \n",
       "\n",
       "      Bucket_Collectability    NPF    Total_AR     LTV     OTR  \\\n",
       "15249       Late Collection     Ya  188.459999   81.72  198.70   \n",
       "14437       Late Collection     Ya  181.924001   82.62  165.20   \n",
       "24826       Late Collection     Ya  308.714554   79.58  277.10   \n",
       "20552       Late Collection  Tidak  236.640004  105.58  146.12   \n",
       "19169      Early Collection  Tidak  221.381895   79.17  238.85   \n",
       "\n",
       "              ...             DP      AF   Tujuan  Pendidikan  Tanggungan  \\\n",
       "15249         ...          51.96  162.38  Private     Sarjana   Tidak ada   \n",
       "14437         ...          41.30  136.50  Private     Sarjana         Ada   \n",
       "24826         ...          69.42  220.51   Others      Others         Ada   \n",
       "20552         ...          14.61  154.28  Private      Others   Tidak ada   \n",
       "19169         ...          72.05  189.10  Private     Sarjana         Ada   \n",
       "\n",
       "        Status     Gender  Paket Inflasi              Segmen  \n",
       "15249   OTHERS  Laki-laki  Tidak    4.42  Jasa & Perdagangan  \n",
       "14437  MENIKAH  Laki-laki     Ya    7.32              Others  \n",
       "24826   OTHERS  Laki-laki  Tidak    5.31              Others  \n",
       "20552   OTHERS  Laki-laki     Ya    3.88  Jasa & Perdagangan  \n",
       "19169  MENIKAH  Laki-laki     Ya    4.53              Others  \n",
       "\n",
       "[5 rows x 23 columns]"
      ]
     },
     "execution_count": 83,
     "metadata": {},
     "output_type": "execute_result"
    }
   ],
   "source": [
    "sample_edit.head()"
   ]
  },
  {
   "cell_type": "code",
   "execution_count": 84,
   "metadata": {},
   "outputs": [
    {
     "data": {
      "text/html": [
       "<div>\n",
       "<style>\n",
       "    .dataframe thead tr:only-child th {\n",
       "        text-align: right;\n",
       "    }\n",
       "\n",
       "    .dataframe thead th {\n",
       "        text-align: left;\n",
       "    }\n",
       "\n",
       "    .dataframe tbody tr th {\n",
       "        vertical-align: top;\n",
       "    }\n",
       "</style>\n",
       "<table border=\"1\" class=\"dataframe\">\n",
       "  <thead>\n",
       "    <tr style=\"text-align: right;\">\n",
       "      <th></th>\n",
       "      <th>Kontrak</th>\n",
       "      <th>Tenor</th>\n",
       "      <th>Total_AR</th>\n",
       "      <th>LTV</th>\n",
       "      <th>OTR</th>\n",
       "      <th>Age</th>\n",
       "      <th>Interest_Rate</th>\n",
       "      <th>Income</th>\n",
       "      <th>DP</th>\n",
       "      <th>AF</th>\n",
       "      <th>Inflasi</th>\n",
       "    </tr>\n",
       "  </thead>\n",
       "  <tbody>\n",
       "    <tr>\n",
       "      <th>count</th>\n",
       "      <td>22634.000000</td>\n",
       "      <td>22634.000000</td>\n",
       "      <td>22634.000000</td>\n",
       "      <td>22634.000000</td>\n",
       "      <td>22634.000000</td>\n",
       "      <td>22634.000000</td>\n",
       "      <td>22634.000000</td>\n",
       "      <td>22634.000000</td>\n",
       "      <td>22634.000000</td>\n",
       "      <td>22634.000000</td>\n",
       "      <td>22634.000000</td>\n",
       "    </tr>\n",
       "    <tr>\n",
       "      <th>mean</th>\n",
       "      <td>14148.255766</td>\n",
       "      <td>45.076610</td>\n",
       "      <td>214.726625</td>\n",
       "      <td>81.163841</td>\n",
       "      <td>204.422582</td>\n",
       "      <td>40.684104</td>\n",
       "      <td>13.718743</td>\n",
       "      <td>19.878722</td>\n",
       "      <td>59.080038</td>\n",
       "      <td>163.613457</td>\n",
       "      <td>5.530809</td>\n",
       "    </tr>\n",
       "    <tr>\n",
       "      <th>std</th>\n",
       "      <td>8168.319978</td>\n",
       "      <td>13.321095</td>\n",
       "      <td>88.333775</td>\n",
       "      <td>14.960355</td>\n",
       "      <td>79.968324</td>\n",
       "      <td>9.601473</td>\n",
       "      <td>3.524312</td>\n",
       "      <td>92.249127</td>\n",
       "      <td>40.690015</td>\n",
       "      <td>64.306119</td>\n",
       "      <td>1.795475</td>\n",
       "    </tr>\n",
       "    <tr>\n",
       "      <th>min</th>\n",
       "      <td>1.000000</td>\n",
       "      <td>12.000000</td>\n",
       "      <td>1.401000</td>\n",
       "      <td>5.110000</td>\n",
       "      <td>1.690000</td>\n",
       "      <td>19.000000</td>\n",
       "      <td>0.000000</td>\n",
       "      <td>1.000000</td>\n",
       "      <td>0.000000</td>\n",
       "      <td>1.390000</td>\n",
       "      <td>3.210000</td>\n",
       "    </tr>\n",
       "    <tr>\n",
       "      <th>25%</th>\n",
       "      <td>7093.250000</td>\n",
       "      <td>36.000000</td>\n",
       "      <td>156.609593</td>\n",
       "      <td>77.900000</td>\n",
       "      <td>157.750000</td>\n",
       "      <td>34.000000</td>\n",
       "      <td>11.180000</td>\n",
       "      <td>9.000000</td>\n",
       "      <td>37.670000</td>\n",
       "      <td>122.562500</td>\n",
       "      <td>3.830000</td>\n",
       "    </tr>\n",
       "    <tr>\n",
       "      <th>50%</th>\n",
       "      <td>14157.500000</td>\n",
       "      <td>48.000000</td>\n",
       "      <td>201.070703</td>\n",
       "      <td>83.800000</td>\n",
       "      <td>187.710000</td>\n",
       "      <td>40.000000</td>\n",
       "      <td>13.440000</td>\n",
       "      <td>15.000000</td>\n",
       "      <td>47.700000</td>\n",
       "      <td>153.190000</td>\n",
       "      <td>5.310000</td>\n",
       "    </tr>\n",
       "    <tr>\n",
       "      <th>75%</th>\n",
       "      <td>21204.500000</td>\n",
       "      <td>60.000000</td>\n",
       "      <td>265.794001</td>\n",
       "      <td>89.320000</td>\n",
       "      <td>231.050000</td>\n",
       "      <td>48.000000</td>\n",
       "      <td>16.200000</td>\n",
       "      <td>20.000000</td>\n",
       "      <td>67.960000</td>\n",
       "      <td>193.327500</td>\n",
       "      <td>7.250000</td>\n",
       "    </tr>\n",
       "    <tr>\n",
       "      <th>max</th>\n",
       "      <td>28293.000000</td>\n",
       "      <td>60.000000</td>\n",
       "      <td>1854.341300</td>\n",
       "      <td>111.830000</td>\n",
       "      <td>1508.400000</td>\n",
       "      <td>82.000000</td>\n",
       "      <td>27.400000</td>\n",
       "      <td>10000.000000</td>\n",
       "      <td>615.010000</td>\n",
       "      <td>1312.810000</td>\n",
       "      <td>8.790000</td>\n",
       "    </tr>\n",
       "  </tbody>\n",
       "</table>\n",
       "</div>"
      ],
      "text/plain": [
       "            Kontrak         Tenor      Total_AR           LTV           OTR  \\\n",
       "count  22634.000000  22634.000000  22634.000000  22634.000000  22634.000000   \n",
       "mean   14148.255766     45.076610    214.726625     81.163841    204.422582   \n",
       "std     8168.319978     13.321095     88.333775     14.960355     79.968324   \n",
       "min        1.000000     12.000000      1.401000      5.110000      1.690000   \n",
       "25%     7093.250000     36.000000    156.609593     77.900000    157.750000   \n",
       "50%    14157.500000     48.000000    201.070703     83.800000    187.710000   \n",
       "75%    21204.500000     60.000000    265.794001     89.320000    231.050000   \n",
       "max    28293.000000     60.000000   1854.341300    111.830000   1508.400000   \n",
       "\n",
       "                Age  Interest_Rate        Income            DP            AF  \\\n",
       "count  22634.000000   22634.000000  22634.000000  22634.000000  22634.000000   \n",
       "mean      40.684104      13.718743     19.878722     59.080038    163.613457   \n",
       "std        9.601473       3.524312     92.249127     40.690015     64.306119   \n",
       "min       19.000000       0.000000      1.000000      0.000000      1.390000   \n",
       "25%       34.000000      11.180000      9.000000     37.670000    122.562500   \n",
       "50%       40.000000      13.440000     15.000000     47.700000    153.190000   \n",
       "75%       48.000000      16.200000     20.000000     67.960000    193.327500   \n",
       "max       82.000000      27.400000  10000.000000    615.010000   1312.810000   \n",
       "\n",
       "            Inflasi  \n",
       "count  22634.000000  \n",
       "mean       5.530809  \n",
       "std        1.795475  \n",
       "min        3.210000  \n",
       "25%        3.830000  \n",
       "50%        5.310000  \n",
       "75%        7.250000  \n",
       "max        8.790000  "
      ]
     },
     "execution_count": 84,
     "metadata": {},
     "output_type": "execute_result"
    }
   ],
   "source": [
    "sample_edit.describe()"
   ]
  },
  {
   "cell_type": "code",
   "execution_count": 85,
   "metadata": {},
   "outputs": [
    {
     "data": {
      "text/html": [
       "<div>\n",
       "<style>\n",
       "    .dataframe thead tr:only-child th {\n",
       "        text-align: right;\n",
       "    }\n",
       "\n",
       "    .dataframe thead th {\n",
       "        text-align: left;\n",
       "    }\n",
       "\n",
       "    .dataframe tbody tr th {\n",
       "        vertical-align: top;\n",
       "    }\n",
       "</style>\n",
       "<table border=\"1\" class=\"dataframe\">\n",
       "  <thead>\n",
       "    <tr style=\"text-align: right;\">\n",
       "      <th></th>\n",
       "      <th>Tipe_Kendaraan</th>\n",
       "      <th>Pekerjaan</th>\n",
       "      <th>Area</th>\n",
       "      <th>Bucket_Collectability</th>\n",
       "      <th>NPF</th>\n",
       "      <th>Tujuan</th>\n",
       "      <th>Pendidikan</th>\n",
       "      <th>Tanggungan</th>\n",
       "      <th>Status</th>\n",
       "      <th>Gender</th>\n",
       "      <th>Paket</th>\n",
       "      <th>Segmen</th>\n",
       "    </tr>\n",
       "  </thead>\n",
       "  <tbody>\n",
       "    <tr>\n",
       "      <th>count</th>\n",
       "      <td>22634</td>\n",
       "      <td>22634</td>\n",
       "      <td>22634</td>\n",
       "      <td>22634</td>\n",
       "      <td>22634</td>\n",
       "      <td>22634</td>\n",
       "      <td>22634</td>\n",
       "      <td>22634</td>\n",
       "      <td>22634</td>\n",
       "      <td>22634</td>\n",
       "      <td>22634</td>\n",
       "      <td>22634</td>\n",
       "    </tr>\n",
       "    <tr>\n",
       "      <th>unique</th>\n",
       "      <td>4</td>\n",
       "      <td>3</td>\n",
       "      <td>3</td>\n",
       "      <td>2</td>\n",
       "      <td>2</td>\n",
       "      <td>2</td>\n",
       "      <td>2</td>\n",
       "      <td>2</td>\n",
       "      <td>2</td>\n",
       "      <td>2</td>\n",
       "      <td>2</td>\n",
       "      <td>2</td>\n",
       "    </tr>\n",
       "    <tr>\n",
       "      <th>top</th>\n",
       "      <td>MINIBUS</td>\n",
       "      <td>Karyawan</td>\n",
       "      <td>Jawa</td>\n",
       "      <td>Late Collection</td>\n",
       "      <td>Tidak</td>\n",
       "      <td>Private</td>\n",
       "      <td>Others</td>\n",
       "      <td>Tidak ada</td>\n",
       "      <td>OTHERS</td>\n",
       "      <td>Laki-laki</td>\n",
       "      <td>Tidak</td>\n",
       "      <td>Jasa &amp; Perdagangan</td>\n",
       "    </tr>\n",
       "    <tr>\n",
       "      <th>freq</th>\n",
       "      <td>11513</td>\n",
       "      <td>10998</td>\n",
       "      <td>12565</td>\n",
       "      <td>12660</td>\n",
       "      <td>11503</td>\n",
       "      <td>19924</td>\n",
       "      <td>12792</td>\n",
       "      <td>12597</td>\n",
       "      <td>11427</td>\n",
       "      <td>16725</td>\n",
       "      <td>12778</td>\n",
       "      <td>12766</td>\n",
       "    </tr>\n",
       "  </tbody>\n",
       "</table>\n",
       "</div>"
      ],
      "text/plain": [
       "       Tipe_Kendaraan Pekerjaan   Area Bucket_Collectability    NPF   Tujuan  \\\n",
       "count           22634     22634  22634                 22634  22634    22634   \n",
       "unique              4         3      3                     2      2        2   \n",
       "top           MINIBUS  Karyawan   Jawa       Late Collection  Tidak  Private   \n",
       "freq            11513     10998  12565                 12660  11503    19924   \n",
       "\n",
       "       Pendidikan Tanggungan  Status     Gender  Paket              Segmen  \n",
       "count       22634      22634   22634      22634  22634               22634  \n",
       "unique          2          2       2          2      2                   2  \n",
       "top        Others  Tidak ada  OTHERS  Laki-laki  Tidak  Jasa & Perdagangan  \n",
       "freq        12792      12597   11427      16725  12778               12766  "
      ]
     },
     "execution_count": 85,
     "metadata": {},
     "output_type": "execute_result"
    }
   ],
   "source": [
    "sample_edit[categorical_data].describe()"
   ]
  },
  {
   "cell_type": "markdown",
   "metadata": {},
   "source": [
    "### Transformasi Area : Dummy"
   ]
  },
  {
   "cell_type": "code",
   "execution_count": 86,
   "metadata": {},
   "outputs": [
    {
     "data": {
      "text/plain": [
       "Karyawan      10998\n",
       "Wiraswasta    10166\n",
       "Lainnya        1470\n",
       "Name: Pekerjaan, dtype: int64"
      ]
     },
     "execution_count": 86,
     "metadata": {},
     "output_type": "execute_result"
    }
   ],
   "source": [
    "sample_edit['Pekerjaan'].value_counts()"
   ]
  },
  {
   "cell_type": "code",
   "execution_count": 87,
   "metadata": {
    "collapsed": true
   },
   "outputs": [],
   "source": [
    "s_kerja = pd.get_dummies(sample_edit['Pekerjaan'], prefix = 'Pekerjaan')"
   ]
  },
  {
   "cell_type": "code",
   "execution_count": 88,
   "metadata": {},
   "outputs": [
    {
     "data": {
      "text/html": [
       "<div>\n",
       "<style>\n",
       "    .dataframe thead tr:only-child th {\n",
       "        text-align: right;\n",
       "    }\n",
       "\n",
       "    .dataframe thead th {\n",
       "        text-align: left;\n",
       "    }\n",
       "\n",
       "    .dataframe tbody tr th {\n",
       "        vertical-align: top;\n",
       "    }\n",
       "</style>\n",
       "<table border=\"1\" class=\"dataframe\">\n",
       "  <thead>\n",
       "    <tr style=\"text-align: right;\">\n",
       "      <th></th>\n",
       "      <th>Pekerjaan_Karyawan</th>\n",
       "      <th>Pekerjaan_Lainnya</th>\n",
       "      <th>Pekerjaan_Wiraswasta</th>\n",
       "    </tr>\n",
       "  </thead>\n",
       "  <tbody>\n",
       "    <tr>\n",
       "      <th>15249</th>\n",
       "      <td>0</td>\n",
       "      <td>0</td>\n",
       "      <td>1</td>\n",
       "    </tr>\n",
       "    <tr>\n",
       "      <th>14437</th>\n",
       "      <td>1</td>\n",
       "      <td>0</td>\n",
       "      <td>0</td>\n",
       "    </tr>\n",
       "    <tr>\n",
       "      <th>24826</th>\n",
       "      <td>0</td>\n",
       "      <td>1</td>\n",
       "      <td>0</td>\n",
       "    </tr>\n",
       "    <tr>\n",
       "      <th>20552</th>\n",
       "      <td>0</td>\n",
       "      <td>0</td>\n",
       "      <td>1</td>\n",
       "    </tr>\n",
       "    <tr>\n",
       "      <th>19169</th>\n",
       "      <td>1</td>\n",
       "      <td>0</td>\n",
       "      <td>0</td>\n",
       "    </tr>\n",
       "  </tbody>\n",
       "</table>\n",
       "</div>"
      ],
      "text/plain": [
       "       Pekerjaan_Karyawan  Pekerjaan_Lainnya  Pekerjaan_Wiraswasta\n",
       "15249                   0                  0                     1\n",
       "14437                   1                  0                     0\n",
       "24826                   0                  1                     0\n",
       "20552                   0                  0                     1\n",
       "19169                   1                  0                     0"
      ]
     },
     "execution_count": 88,
     "metadata": {},
     "output_type": "execute_result"
    }
   ],
   "source": [
    "s_kerja.head()"
   ]
  },
  {
   "cell_type": "code",
   "execution_count": 89,
   "metadata": {
    "collapsed": true
   },
   "outputs": [],
   "source": [
    "s_kerja_karyawan = s_kerja.drop('Pekerjaan_Karyawan', axis = 1)"
   ]
  },
  {
   "cell_type": "code",
   "execution_count": 90,
   "metadata": {},
   "outputs": [
    {
     "data": {
      "text/html": [
       "<div>\n",
       "<style>\n",
       "    .dataframe thead tr:only-child th {\n",
       "        text-align: right;\n",
       "    }\n",
       "\n",
       "    .dataframe thead th {\n",
       "        text-align: left;\n",
       "    }\n",
       "\n",
       "    .dataframe tbody tr th {\n",
       "        vertical-align: top;\n",
       "    }\n",
       "</style>\n",
       "<table border=\"1\" class=\"dataframe\">\n",
       "  <thead>\n",
       "    <tr style=\"text-align: right;\">\n",
       "      <th></th>\n",
       "      <th>Pekerjaan_Lainnya</th>\n",
       "      <th>Pekerjaan_Wiraswasta</th>\n",
       "    </tr>\n",
       "  </thead>\n",
       "  <tbody>\n",
       "    <tr>\n",
       "      <th>15249</th>\n",
       "      <td>0</td>\n",
       "      <td>1</td>\n",
       "    </tr>\n",
       "    <tr>\n",
       "      <th>14437</th>\n",
       "      <td>0</td>\n",
       "      <td>0</td>\n",
       "    </tr>\n",
       "    <tr>\n",
       "      <th>24826</th>\n",
       "      <td>1</td>\n",
       "      <td>0</td>\n",
       "    </tr>\n",
       "    <tr>\n",
       "      <th>20552</th>\n",
       "      <td>0</td>\n",
       "      <td>1</td>\n",
       "    </tr>\n",
       "    <tr>\n",
       "      <th>19169</th>\n",
       "      <td>0</td>\n",
       "      <td>0</td>\n",
       "    </tr>\n",
       "  </tbody>\n",
       "</table>\n",
       "</div>"
      ],
      "text/plain": [
       "       Pekerjaan_Lainnya  Pekerjaan_Wiraswasta\n",
       "15249                  0                     1\n",
       "14437                  0                     0\n",
       "24826                  1                     0\n",
       "20552                  0                     1\n",
       "19169                  0                     0"
      ]
     },
     "execution_count": 90,
     "metadata": {},
     "output_type": "execute_result"
    }
   ],
   "source": [
    "s_kerja_karyawan.head()"
   ]
  },
  {
   "cell_type": "code",
   "execution_count": 91,
   "metadata": {
    "collapsed": true
   },
   "outputs": [],
   "source": [
    "sample_edit = pd.concat([sample_edit, s_kerja_karyawan], axis = 1)"
   ]
  },
  {
   "cell_type": "code",
   "execution_count": 92,
   "metadata": {},
   "outputs": [
    {
     "data": {
      "text/html": [
       "<div>\n",
       "<style>\n",
       "    .dataframe thead tr:only-child th {\n",
       "        text-align: right;\n",
       "    }\n",
       "\n",
       "    .dataframe thead th {\n",
       "        text-align: left;\n",
       "    }\n",
       "\n",
       "    .dataframe tbody tr th {\n",
       "        vertical-align: top;\n",
       "    }\n",
       "</style>\n",
       "<table border=\"1\" class=\"dataframe\">\n",
       "  <thead>\n",
       "    <tr style=\"text-align: right;\">\n",
       "      <th></th>\n",
       "      <th>Kontrak</th>\n",
       "      <th>Tipe_Kendaraan</th>\n",
       "      <th>Pekerjaan</th>\n",
       "      <th>Area</th>\n",
       "      <th>Tenor</th>\n",
       "      <th>Bucket_Collectability</th>\n",
       "      <th>NPF</th>\n",
       "      <th>Total_AR</th>\n",
       "      <th>LTV</th>\n",
       "      <th>OTR</th>\n",
       "      <th>...</th>\n",
       "      <th>Tujuan</th>\n",
       "      <th>Pendidikan</th>\n",
       "      <th>Tanggungan</th>\n",
       "      <th>Status</th>\n",
       "      <th>Gender</th>\n",
       "      <th>Paket</th>\n",
       "      <th>Inflasi</th>\n",
       "      <th>Segmen</th>\n",
       "      <th>Pekerjaan_Lainnya</th>\n",
       "      <th>Pekerjaan_Wiraswasta</th>\n",
       "    </tr>\n",
       "  </thead>\n",
       "  <tbody>\n",
       "    <tr>\n",
       "      <th>15249</th>\n",
       "      <td>15250</td>\n",
       "      <td>MINIBUS</td>\n",
       "      <td>Wiraswasta</td>\n",
       "      <td>Jawa</td>\n",
       "      <td>36</td>\n",
       "      <td>Late Collection</td>\n",
       "      <td>Ya</td>\n",
       "      <td>188.459999</td>\n",
       "      <td>81.72</td>\n",
       "      <td>198.70</td>\n",
       "      <td>...</td>\n",
       "      <td>Private</td>\n",
       "      <td>Sarjana</td>\n",
       "      <td>Tidak ada</td>\n",
       "      <td>OTHERS</td>\n",
       "      <td>Laki-laki</td>\n",
       "      <td>Tidak</td>\n",
       "      <td>4.42</td>\n",
       "      <td>Jasa &amp; Perdagangan</td>\n",
       "      <td>0</td>\n",
       "      <td>1</td>\n",
       "    </tr>\n",
       "    <tr>\n",
       "      <th>14437</th>\n",
       "      <td>14438</td>\n",
       "      <td>LCGC</td>\n",
       "      <td>Karyawan</td>\n",
       "      <td>Jawa</td>\n",
       "      <td>36</td>\n",
       "      <td>Late Collection</td>\n",
       "      <td>Ya</td>\n",
       "      <td>181.924001</td>\n",
       "      <td>82.62</td>\n",
       "      <td>165.20</td>\n",
       "      <td>...</td>\n",
       "      <td>Private</td>\n",
       "      <td>Sarjana</td>\n",
       "      <td>Ada</td>\n",
       "      <td>MENIKAH</td>\n",
       "      <td>Laki-laki</td>\n",
       "      <td>Ya</td>\n",
       "      <td>7.32</td>\n",
       "      <td>Others</td>\n",
       "      <td>0</td>\n",
       "      <td>0</td>\n",
       "    </tr>\n",
       "    <tr>\n",
       "      <th>24826</th>\n",
       "      <td>24827</td>\n",
       "      <td>TRUCK &amp; PICK UP</td>\n",
       "      <td>Lainnya</td>\n",
       "      <td>Sumatera</td>\n",
       "      <td>48</td>\n",
       "      <td>Late Collection</td>\n",
       "      <td>Ya</td>\n",
       "      <td>308.714554</td>\n",
       "      <td>79.58</td>\n",
       "      <td>277.10</td>\n",
       "      <td>...</td>\n",
       "      <td>Others</td>\n",
       "      <td>Others</td>\n",
       "      <td>Ada</td>\n",
       "      <td>OTHERS</td>\n",
       "      <td>Laki-laki</td>\n",
       "      <td>Tidak</td>\n",
       "      <td>5.31</td>\n",
       "      <td>Others</td>\n",
       "      <td>1</td>\n",
       "      <td>0</td>\n",
       "    </tr>\n",
       "    <tr>\n",
       "      <th>20552</th>\n",
       "      <td>20553</td>\n",
       "      <td>LCGC</td>\n",
       "      <td>Wiraswasta</td>\n",
       "      <td>Jawa</td>\n",
       "      <td>60</td>\n",
       "      <td>Late Collection</td>\n",
       "      <td>Tidak</td>\n",
       "      <td>236.640004</td>\n",
       "      <td>105.58</td>\n",
       "      <td>146.12</td>\n",
       "      <td>...</td>\n",
       "      <td>Private</td>\n",
       "      <td>Others</td>\n",
       "      <td>Tidak ada</td>\n",
       "      <td>OTHERS</td>\n",
       "      <td>Laki-laki</td>\n",
       "      <td>Ya</td>\n",
       "      <td>3.88</td>\n",
       "      <td>Jasa &amp; Perdagangan</td>\n",
       "      <td>0</td>\n",
       "      <td>1</td>\n",
       "    </tr>\n",
       "    <tr>\n",
       "      <th>19169</th>\n",
       "      <td>19170</td>\n",
       "      <td>OTHERS</td>\n",
       "      <td>Karyawan</td>\n",
       "      <td>Sumatera</td>\n",
       "      <td>36</td>\n",
       "      <td>Early Collection</td>\n",
       "      <td>Tidak</td>\n",
       "      <td>221.381895</td>\n",
       "      <td>79.17</td>\n",
       "      <td>238.85</td>\n",
       "      <td>...</td>\n",
       "      <td>Private</td>\n",
       "      <td>Sarjana</td>\n",
       "      <td>Ada</td>\n",
       "      <td>MENIKAH</td>\n",
       "      <td>Laki-laki</td>\n",
       "      <td>Ya</td>\n",
       "      <td>4.53</td>\n",
       "      <td>Others</td>\n",
       "      <td>0</td>\n",
       "      <td>0</td>\n",
       "    </tr>\n",
       "  </tbody>\n",
       "</table>\n",
       "<p>5 rows × 25 columns</p>\n",
       "</div>"
      ],
      "text/plain": [
       "       Kontrak   Tipe_Kendaraan   Pekerjaan      Area  Tenor  \\\n",
       "15249    15250          MINIBUS  Wiraswasta      Jawa     36   \n",
       "14437    14438             LCGC    Karyawan      Jawa     36   \n",
       "24826    24827  TRUCK & PICK UP     Lainnya  Sumatera     48   \n",
       "20552    20553             LCGC  Wiraswasta      Jawa     60   \n",
       "19169    19170           OTHERS    Karyawan  Sumatera     36   \n",
       "\n",
       "      Bucket_Collectability    NPF    Total_AR     LTV     OTR  \\\n",
       "15249       Late Collection     Ya  188.459999   81.72  198.70   \n",
       "14437       Late Collection     Ya  181.924001   82.62  165.20   \n",
       "24826       Late Collection     Ya  308.714554   79.58  277.10   \n",
       "20552       Late Collection  Tidak  236.640004  105.58  146.12   \n",
       "19169      Early Collection  Tidak  221.381895   79.17  238.85   \n",
       "\n",
       "              ...            Tujuan  Pendidikan  Tanggungan   Status  \\\n",
       "15249         ...           Private     Sarjana   Tidak ada   OTHERS   \n",
       "14437         ...           Private     Sarjana         Ada  MENIKAH   \n",
       "24826         ...            Others      Others         Ada   OTHERS   \n",
       "20552         ...           Private      Others   Tidak ada   OTHERS   \n",
       "19169         ...           Private     Sarjana         Ada  MENIKAH   \n",
       "\n",
       "          Gender  Paket Inflasi              Segmen Pekerjaan_Lainnya  \\\n",
       "15249  Laki-laki  Tidak    4.42  Jasa & Perdagangan                 0   \n",
       "14437  Laki-laki     Ya    7.32              Others                 0   \n",
       "24826  Laki-laki  Tidak    5.31              Others                 1   \n",
       "20552  Laki-laki     Ya    3.88  Jasa & Perdagangan                 0   \n",
       "19169  Laki-laki     Ya    4.53              Others                 0   \n",
       "\n",
       "      Pekerjaan_Wiraswasta  \n",
       "15249                    1  \n",
       "14437                    0  \n",
       "24826                    0  \n",
       "20552                    1  \n",
       "19169                    0  \n",
       "\n",
       "[5 rows x 25 columns]"
      ]
     },
     "execution_count": 92,
     "metadata": {},
     "output_type": "execute_result"
    }
   ],
   "source": [
    "sample_edit.head()"
   ]
  },
  {
   "cell_type": "markdown",
   "metadata": {},
   "source": [
    "### Sisipan: Merubah nilai dengan fungsi numpy.where()"
   ]
  },
  {
   "cell_type": "code",
   "execution_count": 93,
   "metadata": {},
   "outputs": [
    {
     "data": {
      "text/plain": [
       "array(['Non Karyawan', 'Karyawan', 'Non Karyawan', ..., 'Karyawan',\n",
       "       'Karyawan', 'Non Karyawan'],\n",
       "      dtype='<U12')"
      ]
     },
     "execution_count": 93,
     "metadata": {},
     "output_type": "execute_result"
    }
   ],
   "source": [
    "np.where(sample_edit['Pekerjaan'] == 'Karyawan', 'Karyawan', 'Non Karyawan')"
   ]
  },
  {
   "cell_type": "markdown",
   "metadata": {},
   "source": [
    "### Diskretisasi Interest Rate (%)"
   ]
  },
  {
   "cell_type": "code",
   "execution_count": 94,
   "metadata": {
    "collapsed": true
   },
   "outputs": [],
   "source": [
    "diskret_IR = pd.cut(sample_edit.Interest_Rate, 5)\n",
    "\n",
    "# Ini artinya dibagi menjadi 5, binning = diskretisasi"
   ]
  },
  {
   "cell_type": "code",
   "execution_count": 95,
   "metadata": {},
   "outputs": [
    {
     "data": {
      "text/plain": [
       "15249     (5.48, 10.96]\n",
       "14437    (10.96, 16.44]\n",
       "24826    (16.44, 21.92]\n",
       "20552    (16.44, 21.92]\n",
       "19169    (10.96, 16.44]\n",
       "Name: Interest_Rate, dtype: category\n",
       "Categories (5, interval[float64]): [(-0.0274, 5.48] < (5.48, 10.96] < (10.96, 16.44] < (16.44, 21.92] < (21.92, 27.4]]"
      ]
     },
     "execution_count": 95,
     "metadata": {},
     "output_type": "execute_result"
    }
   ],
   "source": [
    "diskret_IR.head()"
   ]
  },
  {
   "cell_type": "markdown",
   "metadata": {},
   "source": [
    "### Transformasi OTR : Standardisasi"
   ]
  },
  {
   "cell_type": "markdown",
   "metadata": {},
   "source": [
    "OTR : harga beli mobil setelah ditambahkan dengan seluruh pajak dan berbagai dokumen lainnya (puluh juta rupiah)"
   ]
  },
  {
   "cell_type": "code",
   "execution_count": 96,
   "metadata": {},
   "outputs": [
    {
     "data": {
      "text/plain": [
       "count    22634.000000\n",
       "mean       204.422582\n",
       "std         79.968324\n",
       "min          1.690000\n",
       "25%        157.750000\n",
       "50%        187.710000\n",
       "75%        231.050000\n",
       "max       1508.400000\n",
       "Name: OTR, dtype: float64"
      ]
     },
     "execution_count": 96,
     "metadata": {},
     "output_type": "execute_result"
    }
   ],
   "source": [
    "sample_edit.describe()['OTR']"
   ]
  },
  {
   "cell_type": "code",
   "execution_count": 97,
   "metadata": {
    "collapsed": true
   },
   "outputs": [],
   "source": [
    "standardized_OTR = (sample_edit['OTR'] - sample_edit['OTR'].mean()) / sample_edit['OTR'].std()"
   ]
  },
  {
   "cell_type": "code",
   "execution_count": 98,
   "metadata": {},
   "outputs": [
    {
     "data": {
      "text/plain": [
       "15249   -0.071561\n",
       "14437   -0.490476\n",
       "24826    0.908828\n",
       "20552   -0.729071\n",
       "19169    0.430513\n",
       "Name: OTR, dtype: float64"
      ]
     },
     "execution_count": 98,
     "metadata": {},
     "output_type": "execute_result"
    }
   ],
   "source": [
    "standardized_OTR.head()"
   ]
  },
  {
   "cell_type": "code",
   "execution_count": 99,
   "metadata": {},
   "outputs": [
    {
     "data": {
      "text/plain": [
       "15249    198.70\n",
       "14437    165.20\n",
       "24826    277.10\n",
       "20552    146.12\n",
       "19169    238.85\n",
       "Name: OTR, dtype: float64"
      ]
     },
     "execution_count": 99,
     "metadata": {},
     "output_type": "execute_result"
    }
   ],
   "source": [
    "sample_edit.OTR.head()"
   ]
  },
  {
   "cell_type": "code",
   "execution_count": 100,
   "metadata": {},
   "outputs": [
    {
     "data": {
      "text/plain": [
       "1.000000000000003"
      ]
     },
     "execution_count": 100,
     "metadata": {},
     "output_type": "execute_result"
    }
   ],
   "source": [
    "standardized_OTR.std()"
   ]
  },
  {
   "cell_type": "code",
   "execution_count": 101,
   "metadata": {},
   "outputs": [
    {
     "data": {
      "text/plain": [
       "79.96832387660795"
      ]
     },
     "execution_count": 101,
     "metadata": {},
     "output_type": "execute_result"
    }
   ],
   "source": [
    "sample_edit.OTR.std()"
   ]
  },
  {
   "cell_type": "code",
   "execution_count": 102,
   "metadata": {
    "collapsed": true
   },
   "outputs": [],
   "source": [
    "from matplotlib import pyplot as plt"
   ]
  },
  {
   "cell_type": "code",
   "execution_count": 103,
   "metadata": {},
   "outputs": [
    {
     "data": {
      "image/png": "[encoded data removed]",
      "text/plain": [
       "<matplotlib.figure.Figure at 0xa444358>"
      ]
     },
     "metadata": {},
     "output_type": "display_data"
    }
   ],
   "source": [
    "# Visualisasi\n",
    "fig, (ax1, ax2) = plt.subplots(1, 2, figsize = (15, 4))\n",
    "\n",
    "ax1.hist(sample_edit['OTR'])\n",
    "ax1.set_title('OTR')\n",
    "\n",
    "ax2.hist(standardized_OTR)\n",
    "ax2.set_title('Standardized OTR')\n",
    "\n",
    "plt.show()"
   ]
  },
  {
   "cell_type": "code",
   "execution_count": 104,
   "metadata": {},
   "outputs": [
    {
     "data": {
      "text/plain": [
       "15249    5.291796\n",
       "14437    5.107157\n",
       "24826    5.624378\n",
       "20552    4.984428\n",
       "19169    5.475836\n",
       "Name: OTR, dtype: float64"
      ]
     },
     "execution_count": 104,
     "metadata": {},
     "output_type": "execute_result"
    }
   ],
   "source": [
    "ln_OTR = np.log(sample_edit.OTR)\n",
    "ln_OTR.head()"
   ]
  },
  {
   "cell_type": "code",
   "execution_count": 105,
   "metadata": {},
   "outputs": [
    {
     "data": {
      "image/png": "[encoded data removed]",
      "text/plain": [
       "<matplotlib.figure.Figure at 0x9a8cc18>"
      ]
     },
     "metadata": {},
     "output_type": "display_data"
    }
   ],
   "source": [
    "# Visualisasi\n",
    "fig, (ax1, ax2) = plt.subplots(1, 2, figsize = (15, 4))\n",
    "\n",
    "ax1.hist(sample_edit['OTR'])\n",
    "ax1.set_title('OTR')\n",
    "\n",
    "ax2.hist(ln_OTR)\n",
    "ax2.set_title('Log Natural OTR')\n",
    "\n",
    "plt.show()"
   ]
  },
  {
   "cell_type": "markdown",
   "metadata": {},
   "source": [
    "### Mendeteksi Outliers"
   ]
  },
  {
   "cell_type": "markdown",
   "metadata": {},
   "source": [
    "#### Z-Score"
   ]
  },
  {
   "cell_type": "code",
   "execution_count": 106,
   "metadata": {
    "collapsed": true
   },
   "outputs": [],
   "source": [
    "z_OTR = copy.deepcopy(standardized_OTR)"
   ]
  },
  {
   "cell_type": "code",
   "execution_count": 107,
   "metadata": {},
   "outputs": [
    {
     "data": {
      "text/plain": [
       "[15249    False\n",
       " 14437    False\n",
       " 24826    False\n",
       " 20552    False\n",
       " 19169    False\n",
       " 5201     False\n",
       " 19970    False\n",
       " 27166    False\n",
       " 22538    False\n",
       " 7409     False\n",
       " 18002     True\n",
       " 2708     False\n",
       " 17910    False\n",
       " 97       False\n",
       " 6468     False\n",
       " 19268    False\n",
       " 7191     False\n",
       " 2099     False\n",
       " 17078    False\n",
       " 12585    False\n",
       " 16051    False\n",
       " 24801    False\n",
       " 4270     False\n",
       " 5514      True\n",
       " 15530    False\n",
       " 1192     False\n",
       " 24616    False\n",
       " 17602    False\n",
       " 16453    False\n",
       " 6086     False\n",
       "          ...  \n",
       " 7003     False\n",
       " 26256    False\n",
       " 23700    False\n",
       " 10290    False\n",
       " 5653     False\n",
       " 25780    False\n",
       " 1960     False\n",
       " 11142    False\n",
       " 25695    False\n",
       " 6651     False\n",
       " 25027    False\n",
       " 3023     False\n",
       " 7396     False\n",
       " 20465    False\n",
       " 5105     False\n",
       " 515      False\n",
       " 5727     False\n",
       " 10433    False\n",
       " 20927    False\n",
       " 3287     False\n",
       " 10539    False\n",
       " 21931    False\n",
       " 96       False\n",
       " 15947    False\n",
       " 12775    False\n",
       " 15593    False\n",
       " 5304     False\n",
       " 11350    False\n",
       " 16683    False\n",
       " 27029    False\n",
       " Name: OTR, Length: 22634, dtype: bool]"
      ]
     },
     "execution_count": 107,
     "metadata": {},
     "output_type": "execute_result"
    }
   ],
   "source": [
    "[np.abs(z_OTR) > 3]"
   ]
  },
  {
   "cell_type": "code",
   "execution_count": 108,
   "metadata": {},
   "outputs": [
    {
     "data": {
      "text/html": [
       "<div>\n",
       "<style>\n",
       "    .dataframe thead tr:only-child th {\n",
       "        text-align: right;\n",
       "    }\n",
       "\n",
       "    .dataframe thead th {\n",
       "        text-align: left;\n",
       "    }\n",
       "\n",
       "    .dataframe tbody tr th {\n",
       "        vertical-align: top;\n",
       "    }\n",
       "</style>\n",
       "<table border=\"1\" class=\"dataframe\">\n",
       "  <thead>\n",
       "    <tr style=\"text-align: right;\">\n",
       "      <th></th>\n",
       "      <th>Kontrak</th>\n",
       "      <th>OTR</th>\n",
       "    </tr>\n",
       "  </thead>\n",
       "  <tbody>\n",
       "    <tr>\n",
       "      <th>18002</th>\n",
       "      <td>18003</td>\n",
       "      <td>482.60</td>\n",
       "    </tr>\n",
       "    <tr>\n",
       "      <th>5514</th>\n",
       "      <td>5515</td>\n",
       "      <td>504.20</td>\n",
       "    </tr>\n",
       "    <tr>\n",
       "      <th>27481</th>\n",
       "      <td>27482</td>\n",
       "      <td>481.80</td>\n",
       "    </tr>\n",
       "    <tr>\n",
       "      <th>5335</th>\n",
       "      <td>5336</td>\n",
       "      <td>516.24</td>\n",
       "    </tr>\n",
       "    <tr>\n",
       "      <th>27392</th>\n",
       "      <td>27393</td>\n",
       "      <td>455.00</td>\n",
       "    </tr>\n",
       "  </tbody>\n",
       "</table>\n",
       "</div>"
      ],
      "text/plain": [
       "       Kontrak     OTR\n",
       "18002    18003  482.60\n",
       "5514      5515  504.20\n",
       "27481    27482  481.80\n",
       "5335      5336  516.24\n",
       "27392    27393  455.00"
      ]
     },
     "execution_count": 108,
     "metadata": {},
     "output_type": "execute_result"
    }
   ],
   "source": [
    "sample_edit[['Kontrak', 'OTR']][np.abs(z_OTR) > 3].head()"
   ]
  },
  {
   "cell_type": "code",
   "execution_count": 109,
   "metadata": {
    "collapsed": true
   },
   "outputs": [],
   "source": [
    "Q1_OTR = sample_edit['OTR'].quantile(0.25)\n",
    "Q3_OTR = sample_edit['OTR'].quantile(0.75)\n",
    "IQR_OTR = Q3_OTR - Q1_OTR"
   ]
  },
  {
   "cell_type": "code",
   "execution_count": 110,
   "metadata": {},
   "outputs": [
    {
     "data": {
      "text/html": [
       "<div>\n",
       "<style>\n",
       "    .dataframe thead tr:only-child th {\n",
       "        text-align: right;\n",
       "    }\n",
       "\n",
       "    .dataframe thead th {\n",
       "        text-align: left;\n",
       "    }\n",
       "\n",
       "    .dataframe tbody tr th {\n",
       "        vertical-align: top;\n",
       "    }\n",
       "</style>\n",
       "<table border=\"1\" class=\"dataframe\">\n",
       "  <thead>\n",
       "    <tr style=\"text-align: right;\">\n",
       "      <th></th>\n",
       "      <th>Kontrak</th>\n",
       "      <th>OTR</th>\n",
       "    </tr>\n",
       "  </thead>\n",
       "  <tbody>\n",
       "    <tr>\n",
       "      <th>18002</th>\n",
       "      <td>18003</td>\n",
       "      <td>482.60</td>\n",
       "    </tr>\n",
       "    <tr>\n",
       "      <th>5514</th>\n",
       "      <td>5515</td>\n",
       "      <td>504.20</td>\n",
       "    </tr>\n",
       "    <tr>\n",
       "      <th>27481</th>\n",
       "      <td>27482</td>\n",
       "      <td>481.80</td>\n",
       "    </tr>\n",
       "    <tr>\n",
       "      <th>5335</th>\n",
       "      <td>5336</td>\n",
       "      <td>516.24</td>\n",
       "    </tr>\n",
       "    <tr>\n",
       "      <th>27392</th>\n",
       "      <td>27393</td>\n",
       "      <td>455.00</td>\n",
       "    </tr>\n",
       "  </tbody>\n",
       "</table>\n",
       "</div>"
      ],
      "text/plain": [
       "       Kontrak     OTR\n",
       "18002    18003  482.60\n",
       "5514      5515  504.20\n",
       "27481    27482  481.80\n",
       "5335      5336  516.24\n",
       "27392    27393  455.00"
      ]
     },
     "execution_count": 110,
     "metadata": {},
     "output_type": "execute_result"
    }
   ],
   "source": [
    "sample_edit[['Kontrak', 'OTR']][(sample_edit.OTR < (Q1_OTR - 1.5 * IQR_OTR)) |\n",
    "                               (sample_edit.OTR > (Q3_OTR + 1.5 * IQR_OTR))].head()"
   ]
  },
  {
   "cell_type": "code",
   "execution_count": 111,
   "metadata": {},
   "outputs": [
    {
     "data": {
      "image/png": "[encoded data removed]",
      "text/plain": [
       "<matplotlib.figure.Figure at 0x9eebcf8>"
      ]
     },
     "metadata": {},
     "output_type": "display_data"
    }
   ],
   "source": [
    "sample_edit.boxplot(column = 'OTR')\n",
    "plt.show()"
   ]
  },
  {
   "cell_type": "markdown",
   "metadata": {},
   "source": [
    "### Hypothesis Testing"
   ]
  },
  {
   "cell_type": "markdown",
   "metadata": {},
   "source": [
    "Menguji perbedaan rata-rata OTR antara kelompok NPF dan tidak NPF. Gunakan level signifikansi sebesar 5%."
   ]
  },
  {
   "cell_type": "code",
   "execution_count": 112,
   "metadata": {
    "collapsed": true
   },
   "outputs": [],
   "source": [
    "from scipy.stats import ttest_ind"
   ]
  },
  {
   "cell_type": "code",
   "execution_count": 113,
   "metadata": {
    "collapsed": true
   },
   "outputs": [],
   "source": [
    "x1 = sample_edit['OTR'][sample_edit['NPF'] == 'Ya']\n",
    "x2 = sample_edit['OTR'][sample_edit['NPF'] != 'Ya']"
   ]
  },
  {
   "cell_type": "code",
   "execution_count": 114,
   "metadata": {},
   "outputs": [
    {
     "data": {
      "text/plain": [
       "Ttest_indResult(statistic=-1.2793470231313475, pvalue=0.20078799629773078)"
      ]
     },
     "execution_count": 114,
     "metadata": {},
     "output_type": "execute_result"
    }
   ],
   "source": [
    "ttest_ind(x1, x2, equal_var = True) # asumsinya varians sama"
   ]
  },
  {
   "cell_type": "markdown",
   "metadata": {},
   "source": [
    "#### Interpretasi"
   ]
  },
  {
   "cell_type": "markdown",
   "metadata": {},
   "source": [
    "Karena pvalue > 0,05 maka H0 gagal ditolak, sehingga dapat disimpulkan bahwa rata-rata income kelompok NPF dan tidak NPF tidak berbeda secara signifikan."
   ]
  },
  {
   "cell_type": "code",
   "execution_count": 115,
   "metadata": {},
   "outputs": [
    {
     "name": "stdout",
     "output_type": "stream",
     "text": [
      "Deviasi standar x1 = 72.470 dan x2 = 86.607\n"
     ]
    }
   ],
   "source": [
    "print('Deviasi standar x1 = %.3f dan x2 = %.3f' %(x1.std(), x2.std()))"
   ]
  },
  {
   "cell_type": "markdown",
   "metadata": {},
   "source": [
    "Karena deviasi standar x1 lebih kecil daripada x2 maka kita dapat mengansumsikan variance sama, sehingga diasumsikan variance antara OTR NPF dan tidak NPF sama."
   ]
  },
  {
   "cell_type": "markdown",
   "metadata": {},
   "source": [
    "### Grafik Heat Map Total_AR"
   ]
  },
  {
   "cell_type": "code",
   "execution_count": 116,
   "metadata": {},
   "outputs": [
    {
     "data": {
      "image/png": "[encoded data removed]",
      "text/plain": [
       "<matplotlib.figure.Figure at 0x10486b00>"
      ]
     },
     "metadata": {},
     "output_type": "display_data"
    }
   ],
   "source": [
    "import seaborn as sns\n",
    "\n",
    "corr = sample_edit.corr(method = 'pearson')\n",
    "mask = np.array(corr)\n",
    "mask[np.tril_indices_from(mask)] = False\n",
    "fig, ax = plt.subplots(figsize = (15,12))\n",
    "fig.set_size_inches(20,20)\n",
    "sns.heatmap(corr, mask = mask, vmax = 0.9, square = True, annot = True)\n",
    "plt.show()"
   ]
  },
  {
   "cell_type": "markdown",
   "metadata": {},
   "source": [
    "Pada grafik heatmap Total AR memiliki korelasi yang tinggi dengan AF (0.96) dan OTR (0.74)."
   ]
  },
  {
   "cell_type": "markdown",
   "metadata": {},
   "source": [
    "### Regresi Linear Sederhana"
   ]
  },
  {
   "cell_type": "markdown",
   "metadata": {},
   "source": [
    "#### Pengaruh AF terhadap Total_AR"
   ]
  },
  {
   "cell_type": "code",
   "execution_count": 117,
   "metadata": {
    "collapsed": true
   },
   "outputs": [],
   "source": [
    "from sklearn.model_selection import train_test_split\n",
    "from sklearn.linear_model import LinearRegression\n",
    "from sklearn import metrics"
   ]
  },
  {
   "cell_type": "code",
   "execution_count": 118,
   "metadata": {
    "collapsed": true
   },
   "outputs": [],
   "source": [
    "# input dataset\n",
    "x = sample_edit['AF']\n",
    "y = sample_edit['Total_AR']"
   ]
  },
  {
   "cell_type": "code",
   "execution_count": 119,
   "metadata": {
    "collapsed": true
   },
   "outputs": [],
   "source": [
    "# change data structure\n",
    "x = x.values.reshape(-1, 1)\n",
    "y = y.values.reshape(-1, 1)"
   ]
  },
  {
   "cell_type": "code",
   "execution_count": 120,
   "metadata": {},
   "outputs": [
    {
     "data": {
      "text/plain": [
       "LinearRegression(copy_X=True, fit_intercept=True, n_jobs=1, normalize=False)"
      ]
     },
     "execution_count": 120,
     "metadata": {},
     "output_type": "execute_result"
    }
   ],
   "source": [
    "regressor = LinearRegression()\n",
    "regressor.fit(x, y) # training the algorithm"
   ]
  },
  {
   "cell_type": "code",
   "execution_count": 121,
   "metadata": {},
   "outputs": [
    {
     "name": "stdout",
     "output_type": "stream",
     "text": [
      "y = 0.053 + 1.312 X\n"
     ]
    }
   ],
   "source": [
    "# regression equation\n",
    "print('y = %.3f + %.3f X' %(regressor.intercept_, regressor.coef_))"
   ]
  },
  {
   "cell_type": "code",
   "execution_count": 122,
   "metadata": {},
   "outputs": [
    {
     "name": "stdout",
     "output_type": "stream",
     "text": [
      "R2 = 0.912\n",
      "RMSE = 26.149\n"
     ]
    }
   ],
   "source": [
    "# regression equation\n",
    "y_pred = regressor.predict(x)\n",
    "print('R2 = %.3f' %metrics.r2_score(y, y_pred))\n",
    "rmse = np.sqrt(metrics.mean_squared_error(y, y_pred))\n",
    "print('RMSE = %.3f' %rmse)"
   ]
  },
  {
   "cell_type": "markdown",
   "metadata": {},
   "source": [
    "R2 yang kecil dan RMSE yang besar menandakan bahwa tidak adanya korelasi pada kedua variable."
   ]
  },
  {
   "cell_type": "markdown",
   "metadata": {},
   "source": [
    "#### Pengaruh OTR terhadap Total_AR"
   ]
  },
  {
   "cell_type": "code",
   "execution_count": 123,
   "metadata": {
    "collapsed": true
   },
   "outputs": [],
   "source": [
    "# input dataset\n",
    "x = sample_edit['OTR']\n",
    "y = sample_edit['Total_AR']"
   ]
  },
  {
   "cell_type": "code",
   "execution_count": 124,
   "metadata": {
    "collapsed": true
   },
   "outputs": [],
   "source": [
    "# change data structure\n",
    "x = x.values.reshape(-1, 1)\n",
    "y = y.values.reshape(-1, 1)"
   ]
  },
  {
   "cell_type": "code",
   "execution_count": 125,
   "metadata": {},
   "outputs": [
    {
     "data": {
      "text/plain": [
       "LinearRegression(copy_X=True, fit_intercept=True, n_jobs=1, normalize=False)"
      ]
     },
     "execution_count": 125,
     "metadata": {},
     "output_type": "execute_result"
    }
   ],
   "source": [
    "regressor = LinearRegression()\n",
    "regressor.fit(x, y) # training the algorithm"
   ]
  },
  {
   "cell_type": "code",
   "execution_count": 126,
   "metadata": {},
   "outputs": [
    {
     "name": "stdout",
     "output_type": "stream",
     "text": [
      "y = 48.004 + 0.816 X\n"
     ]
    }
   ],
   "source": [
    "# regression equation\n",
    "print('y = %.3f + %.3f X' %(regressor.intercept_, regressor.coef_))"
   ]
  },
  {
   "cell_type": "code",
   "execution_count": 127,
   "metadata": {},
   "outputs": [
    {
     "name": "stdout",
     "output_type": "stream",
     "text": [
      "R2 = 0.545\n",
      "RMSE = 59.573\n"
     ]
    }
   ],
   "source": [
    "# regression equation\n",
    "y_pred = regressor.predict(x)\n",
    "print('R2 = %.3f' %metrics.r2_score(y, y_pred))\n",
    "rmse = np.sqrt(metrics.mean_squared_error(y, y_pred))\n",
    "print('RMSE = %.3f' %rmse)"
   ]
  },
  {
   "cell_type": "markdown",
   "metadata": {},
   "source": [
    "R2 yang kecil dan RMSE yang besar menandakan bahwa tidak adanya korelasi pada kedua variable."
   ]
  },
  {
   "cell_type": "markdown",
   "metadata": {},
   "source": [
    "#### Pengaruh Umur terhadap Income"
   ]
  },
  {
   "cell_type": "code",
   "execution_count": 128,
   "metadata": {
    "collapsed": true
   },
   "outputs": [],
   "source": [
    "# input dataset\n",
    "x = sample_edit['Age']\n",
    "y = sample_edit['Income']"
   ]
  },
  {
   "cell_type": "code",
   "execution_count": 129,
   "metadata": {
    "collapsed": true
   },
   "outputs": [],
   "source": [
    "# change data structure\n",
    "x = x.values.reshape(-1, 1)\n",
    "y = y.values.reshape(-1, 1)"
   ]
  },
  {
   "cell_type": "code",
   "execution_count": 130,
   "metadata": {},
   "outputs": [
    {
     "data": {
      "text/plain": [
       "LinearRegression(copy_X=True, fit_intercept=True, n_jobs=1, normalize=False)"
      ]
     },
     "execution_count": 130,
     "metadata": {},
     "output_type": "execute_result"
    }
   ],
   "source": [
    "regressor = LinearRegression()\n",
    "regressor.fit(x, y) # training the algorithm"
   ]
  },
  {
   "cell_type": "code",
   "execution_count": 131,
   "metadata": {},
   "outputs": [
    {
     "name": "stdout",
     "output_type": "stream",
     "text": [
      "y = 6.775 + 0.322 X\n"
     ]
    }
   ],
   "source": [
    "# regression equation\n",
    "print('y = %.3f + %.3f X' %(regressor.intercept_, regressor.coef_))"
   ]
  },
  {
   "cell_type": "code",
   "execution_count": 132,
   "metadata": {},
   "outputs": [
    {
     "name": "stdout",
     "output_type": "stream",
     "text": [
      "R2 = 0.001\n",
      "RMSE = 92.195\n"
     ]
    }
   ],
   "source": [
    "# regression equation\n",
    "y_pred = regressor.predict(x)\n",
    "print('R2 = %.3f' %metrics.r2_score(y, y_pred))\n",
    "rmse = np.sqrt(metrics.mean_squared_error(y, y_pred))\n",
    "print('RMSE = %.3f' %rmse)"
   ]
  },
  {
   "cell_type": "markdown",
   "metadata": {},
   "source": [
    "R2 yang kecil dan RMSE yang besar menandakan bahwa tidak adanya korelasi pada kedua variable."
   ]
  },
  {
   "cell_type": "markdown",
   "metadata": {},
   "source": [
    "### Pemodelan dengan Statsmodels"
   ]
  },
  {
   "cell_type": "code",
   "execution_count": 133,
   "metadata": {
    "collapsed": true
   },
   "outputs": [],
   "source": [
    "dmc = pd.read_excel('data microchip.xlsx')"
   ]
  },
  {
   "cell_type": "markdown",
   "metadata": {},
   "source": [
    "#### Regresi Pengaruh Waktu terhadap Number of Component"
   ]
  },
  {
   "cell_type": "code",
   "execution_count": 134,
   "metadata": {},
   "outputs": [
    {
     "name": "stdout",
     "output_type": "stream",
     "text": [
      "                            OLS Regression Results                            \n",
      "==============================================================================\n",
      "Dep. Variable:               Total_AR   R-squared:                       0.003\n",
      "Model:                            OLS   Adj. R-squared:                  0.003\n",
      "Method:                 Least Squares   F-statistic:                     69.15\n",
      "Date:                Fri, 25 Oct 2019   Prob (F-statistic):           9.65e-17\n",
      "Time:                        23:02:24   Log-Likelihood:            -1.3351e+05\n",
      "No. Observations:               22634   AIC:                         2.670e+05\n",
      "Df Residuals:                   22632   BIC:                         2.670e+05\n",
      "Df Model:                           1                                         \n",
      "Covariance Type:            nonrobust                                         \n",
      "==============================================================================\n",
      "                 coef    std err          t      P>|t|      [0.025      0.975]\n",
      "------------------------------------------------------------------------------\n",
      "Intercept    213.6761      0.600    356.292      0.000     212.501     214.852\n",
      "Income         0.0528      0.006      8.315      0.000       0.040       0.065\n",
      "==============================================================================\n",
      "Omnibus:                     9314.579   Durbin-Watson:                   1.991\n",
      "Prob(Omnibus):                  0.000   Jarque-Bera (JB):           137978.669\n",
      "Skew:                           1.579   Prob(JB):                         0.00\n",
      "Kurtosis:                      14.676   Cond. No.                         96.5\n",
      "==============================================================================\n",
      "\n",
      "Warnings:\n",
      "[1] Standard Errors assume that the covariance matrix of the errors is correctly specified.\n"
     ]
    }
   ],
   "source": [
    "ols_sample_edit = smf.ols('Total_AR ~ Income', data = sample_edit).fit()\n",
    "print(ols_sample_edit.summary())"
   ]
  },
  {
   "cell_type": "code",
   "execution_count": 135,
   "metadata": {},
   "outputs": [
    {
     "name": "stdout",
     "output_type": "stream",
     "text": [
      "                             OLS Regression Results                            \n",
      "===============================================================================\n",
      "Dep. Variable:     number_of_component   R-squared:                       0.719\n",
      "Model:                             OLS   Adj. R-squared:                  0.626\n",
      "Method:                  Least Squares   F-statistic:                     7.688\n",
      "Date:                 Fri, 25 Oct 2019   Prob (F-statistic):             0.0694\n",
      "Time:                         23:02:24   Log-Likelihood:                -19.423\n",
      "No. Observations:                    5   AIC:                             42.85\n",
      "Df Residuals:                        3   BIC:                             42.06\n",
      "Df Model:                            1                                         \n",
      "Covariance Type:             nonrobust                                         \n",
      "===================================================================================\n",
      "                      coef    std err          t      P>|t|      [0.025      0.975]\n",
      "-----------------------------------------------------------------------------------\n",
      "Intercept          -8.9434     13.687     -0.653      0.560     -52.502      34.615\n",
      "year_since_1959     9.1509      3.300      2.773      0.069      -1.352      19.654\n",
      "==============================================================================\n",
      "Omnibus:                          nan   Durbin-Watson:                   1.642\n",
      "Prob(Omnibus):                    nan   Jarque-Bera (JB):                0.699\n",
      "Skew:                           0.515   Prob(JB):                        0.705\n",
      "Kurtosis:                       1.485   Cond. No.                         8.72\n",
      "==============================================================================\n",
      "\n",
      "Warnings:\n",
      "[1] Standard Errors assume that the covariance matrix of the errors is correctly specified.\n"
     ]
    },
    {
     "name": "stderr",
     "output_type": "stream",
     "text": [
      "D:\\Anaconda\\lib\\site-packages\\statsmodels\\stats\\stattools.py:72: ValueWarning: omni_normtest is not valid with less than 8 observations; 5 samples were given.\n",
      "  \"samples were given.\" % int(n), ValueWarning)\n"
     ]
    }
   ],
   "source": [
    "ols_dmc = smf.ols('number_of_component ~ year_since_1959', data = dmc).fit()\n",
    "print(ols_dmc.summary())"
   ]
  },
  {
   "cell_type": "markdown",
   "metadata": {},
   "source": [
    "#### rmse dari Statsmodels"
   ]
  },
  {
   "cell_type": "code",
   "execution_count": 136,
   "metadata": {
    "collapsed": true
   },
   "outputs": [],
   "source": [
    "from statsmodels.tools.eval_measures import rmse"
   ]
  },
  {
   "cell_type": "code",
   "execution_count": 137,
   "metadata": {},
   "outputs": [
    {
     "data": {
      "text/plain": [
       "11.770445880527003"
      ]
     },
     "execution_count": 137,
     "metadata": {},
     "output_type": "execute_result"
    }
   ],
   "source": [
    "rmse(dmc.number_of_component, ols_dmc.predict(dmc.year_since_1959))"
   ]
  },
  {
   "cell_type": "code",
   "execution_count": 138,
   "metadata": {},
   "outputs": [
    {
     "data": {
      "text/plain": [
       "88.197194891166717"
      ]
     },
     "execution_count": 138,
     "metadata": {},
     "output_type": "execute_result"
    }
   ],
   "source": [
    "rmse(sample_edit.Total_AR, ols_sample_edit.predict(sample_edit.Income))"
   ]
  }
 ],
 "metadata": {
  "kernelspec": {
   "display_name": "Python 3",
   "language": "python",
   "name": "python3"
  },
  "language_info": {
   "codemirror_mode": {
    "name": "ipython",
    "version": 3
   },
   "file_extension": ".py",
   "mimetype": "text/x-python",
   "name": "python",
   "nbconvert_exporter": "python",
   "pygments_lexer": "ipython3",
   "version": "3.6.3"
  }
 },
 "nbformat": 4,
 "nbformat_minor": 2
}
