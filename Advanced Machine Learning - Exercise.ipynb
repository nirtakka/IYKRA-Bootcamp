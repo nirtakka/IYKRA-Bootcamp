{
 "cells": [
  {
   "cell_type": "markdown",
   "metadata": {},
   "source": [
    "# Advanced Machine Learning "
   ]
  },
  {
   "cell_type": "code",
   "execution_count": 1,
   "metadata": {
    "ExecuteTime": {
     "end_time": "2019-11-08T03:09:18.565000Z",
     "start_time": "2019-11-08T03:09:13.357000Z"
    }
   },
   "outputs": [],
   "source": [
    "# Load library that we need\n",
    "import numpy as np\n",
    "import pandas as pd\n",
    "import matplotlib.pyplot as plt\n",
    "from sklearn import datasets\n",
    "from sklearn.model_selection import train_test_split\n",
    "\n",
    "# Load dataset (iris), split into X_train, y_train, X_test, y_test!\n",
    "# Write your code here \n",
    "iris = datasets.load_iris()\n",
    "X = iris.data\n",
    "y = iris.target\n",
    "\n",
    "X_train, X_test, y_train, y_test = train_test_split(X, y, test_size = 0.3, random_state = 42)"
   ]
  },
  {
   "cell_type": "markdown",
   "metadata": {},
   "source": [
    "## 1. Voting "
   ]
  },
  {
   "cell_type": "code",
   "execution_count": 2,
   "metadata": {
    "ExecuteTime": {
     "end_time": "2019-11-08T03:09:19.274000Z",
     "start_time": "2019-11-08T03:09:18.569000Z"
    }
   },
   "outputs": [
    {
     "name": "stderr",
     "output_type": "stream",
     "text": [
      "D:\\anaconda3\\lib\\site-packages\\sklearn\\linear_model\\logistic.py:433: FutureWarning: Default solver will be changed to 'lbfgs' in 0.22. Specify a solver to silence this warning.\n",
      "  FutureWarning)\n",
      "D:\\anaconda3\\lib\\site-packages\\sklearn\\linear_model\\logistic.py:460: FutureWarning: Default multi_class will be changed to 'auto' in 0.22. Specify the multi_class option to silence this warning.\n",
      "  \"this warning.\", FutureWarning)\n"
     ]
    },
    {
     "name": "stdout",
     "output_type": "stream",
     "text": [
      "Accuracy Voting: 95.56%\n"
     ]
    }
   ],
   "source": [
    "from sklearn.ensemble import VotingClassifier\n",
    "from sklearn.neighbors import KNeighborsClassifier\n",
    "from sklearn.tree import DecisionTreeClassifier\n",
    "from sklearn.linear_model import LogisticRegression\n",
    "import sklearn.metrics as metrics\n",
    "\n",
    "# Hint: \n",
    "# clf_voting = VotingClassifier( estimators=[('label1', clf_1),\n",
    "#('label2', clf_2),\n",
    "#('labelN', clf_N)]) \n",
    "\n",
    "# Create the individual models\n",
    "clf_knn = KNeighborsClassifier(50)\n",
    "clf_dt = DecisionTreeClassifier(max_depth = 1)\n",
    "clf_lr = LogisticRegression()\n",
    "\n",
    "# Create voting classifier\n",
    "clf_voting = VotingClassifier(estimators = [\n",
    "('knn', clf_knn),\n",
    "('dt', clf_dt),\n",
    "('lr', clf_lr)])\n",
    "\n",
    "# Fit it to the training set and predict\n",
    "clf_voting.fit(X_train, y_train)\n",
    "y_pred = clf_voting.predict(X_test)\n",
    "\n",
    "# Get the accuracy score\n",
    "acc_voting = metrics.accuracy_score(y_test, y_pred)\n",
    "print(\"Accuracy Voting: {:0.2f}%\".format(acc_voting*100))"
   ]
  },
  {
   "cell_type": "code",
   "execution_count": 3,
   "metadata": {
    "ExecuteTime": {
     "end_time": "2019-11-08T03:09:19.309000Z",
     "start_time": "2019-11-08T03:09:19.280000Z"
    }
   },
   "outputs": [
    {
     "name": "stdout",
     "output_type": "stream",
     "text": [
      "Accuracy K-Nearest Neighbour: 95.56%\n",
      "Accuracy Decision Tree: 71.11%\n",
      "Accuracy Logistic Regression: 97.78%\n"
     ]
    },
    {
     "name": "stderr",
     "output_type": "stream",
     "text": [
      "D:\\anaconda3\\lib\\site-packages\\sklearn\\linear_model\\logistic.py:433: FutureWarning: Default solver will be changed to 'lbfgs' in 0.22. Specify a solver to silence this warning.\n",
      "  FutureWarning)\n",
      "D:\\anaconda3\\lib\\site-packages\\sklearn\\linear_model\\logistic.py:460: FutureWarning: Default multi_class will be changed to 'auto' in 0.22. Specify the multi_class option to silence this warning.\n",
      "  \"this warning.\", FutureWarning)\n"
     ]
    }
   ],
   "source": [
    "# Let us compare the accuracy of each base models!\n",
    "\n",
    "# K-NN (k = 50)\n",
    "clf_knn.fit(X_train, y_train)\n",
    "y_pred = clf_knn.predict(X_test)\n",
    "acc_knn = metrics.accuracy_score(y_test, y_pred)\n",
    "print(\"Accuracy K-Nearest Neighbour: {:0.2f}%\".format(acc_knn*100))\n",
    "\n",
    "# Decision Tree\n",
    "clf_dt.fit(X_train, y_train)\n",
    "y_pred = clf_dt.predict(X_test)\n",
    "acc_dt = metrics.accuracy_score(y_test, y_pred)\n",
    "print(\"Accuracy Decision Tree: {:0.2f}%\".format(acc_dt*100))\n",
    "\n",
    "# Logistic Regression\n",
    "clf_lr.fit(X_train, y_train)\n",
    "y_pred = clf_lr.predict(X_test)\n",
    "acc_lr = metrics.accuracy_score(y_test, y_pred)\n",
    "print(\"Accuracy Logistic Regression: {:0.2f}%\".format(acc_lr*100))"
   ]
  },
  {
   "cell_type": "markdown",
   "metadata": {},
   "source": [
    "## 2. Averaging "
   ]
  },
  {
   "cell_type": "code",
   "execution_count": 4,
   "metadata": {
    "ExecuteTime": {
     "end_time": "2019-11-08T03:09:19.399000Z",
     "start_time": "2019-11-08T03:09:19.323000Z"
    }
   },
   "outputs": [
    {
     "name": "stdout",
     "output_type": "stream",
     "text": [
      "Accuracy Averaging: 100.00%\n"
     ]
    },
    {
     "name": "stderr",
     "output_type": "stream",
     "text": [
      "D:\\anaconda3\\lib\\site-packages\\sklearn\\linear_model\\logistic.py:433: FutureWarning: Default solver will be changed to 'lbfgs' in 0.22. Specify a solver to silence this warning.\n",
      "  FutureWarning)\n",
      "D:\\anaconda3\\lib\\site-packages\\sklearn\\linear_model\\logistic.py:460: FutureWarning: Default multi_class will be changed to 'auto' in 0.22. Specify the multi_class option to silence this warning.\n",
      "  \"this warning.\", FutureWarning)\n"
     ]
    }
   ],
   "source": [
    "# Template for averaging Classifier \n",
    "\n",
    "from sklearn.ensemble import VotingClassifier\n",
    "                       \n",
    "# clf_voting = VotingClassifier(\n",
    "# estimators=[\n",
    "#('label1', clf_1),\n",
    "#('label2', clf_2),\n",
    "#...\n",
    "#('labelN', clf_N)],\n",
    "#voting='soft',\n",
    "#weights=[w_1, w_2, ..., w_N]\n",
    "#)\n",
    "\n",
    "clf_avg = VotingClassifier(estimators = [\n",
    "('knn', clf_knn),\n",
    "('dt', clf_dt),\n",
    "('lr', clf_lr)],\n",
    "voting = 'soft')\n",
    "\n",
    "# Fit it to the training set and predict\n",
    "clf_avg.fit(X_train, y_train)\n",
    "y_pred = clf_avg.predict(X_test)\n",
    "\n",
    "# Get the accuracy score\n",
    "acc_avg = metrics.accuracy_score(y_test, y_pred)\n",
    "print(\"Accuracy Averaging: {:0.2f}%\".format(acc_avg*100))"
   ]
  },
  {
   "cell_type": "code",
   "execution_count": null,
   "metadata": {},
   "outputs": [],
   "source": [
    "# Initiate the individual models \n",
    "\n",
    "# Write your code here! \n",
    "\n",
    "# Create averaging classifier\n",
    "\n",
    "# Write your code here! "
   ]
  },
  {
   "cell_type": "markdown",
   "metadata": {},
   "source": [
    "## 3. Bagging"
   ]
  },
  {
   "cell_type": "code",
   "execution_count": 15,
   "metadata": {
    "ExecuteTime": {
     "end_time": "2019-11-08T04:19:45.750000Z",
     "start_time": "2019-11-08T04:19:45.676000Z"
    }
   },
   "outputs": [
    {
     "name": "stdout",
     "output_type": "stream",
     "text": [
      "Accuracy Bagging with K-Neighbour: 95.91%\n"
     ]
    }
   ],
   "source": [
    "from sklearn.ensemble import BaggingClassifier\n",
    "from sklearn.neighbors import KNeighborsClassifier\n",
    "\n",
    "cancer = datasets.load_breast_cancer()\n",
    "\n",
    "X = cancer.data\n",
    "y = cancer.target\n",
    "\n",
    "X_train, X_test, y_train, y_test = train_test_split(X, y, test_size = 0.3, random_state = 42)\n",
    "\n",
    "clf_bagging = BaggingClassifier(KNeighborsClassifier(), max_samples = 0.5, max_features = 0.5)\n",
    "\n",
    "# Fit it to the training set and predict\n",
    "clf_bagging.fit(X_train, y_train)\n",
    "y_pred = clf_bagging.predict(X_test)\n",
    "\n",
    "# Get the accuracy score\n",
    "acc_bagging = metrics.accuracy_score(y_test, y_pred)\n",
    "print(\"Accuracy Bagging with K-Neighbour: {:0.2f}%\".format(acc_bagging*100))"
   ]
  },
  {
   "cell_type": "code",
   "execution_count": 16,
   "metadata": {
    "ExecuteTime": {
     "end_time": "2019-11-08T04:21:46.306000Z",
     "start_time": "2019-11-08T04:21:46.239000Z"
    }
   },
   "outputs": [
    {
     "name": "stdout",
     "output_type": "stream",
     "text": [
      "Accuracy Bagging with Decision Tree: 96.49%\n"
     ]
    }
   ],
   "source": [
    "# Write your code here if base classifier = decision tree!\n",
    "from sklearn.tree import DecisionTreeClassifier\n",
    "\n",
    "clf_bagging = BaggingClassifier(DecisionTreeClassifier(), max_samples = 0.5, max_features = 0.5)\n",
    "\n",
    "# Fit it to the training set and predict\n",
    "clf_bagging.fit(X_train, y_train)\n",
    "y_pred = clf_bagging.predict(X_test)\n",
    "\n",
    "# Get the accuracy score\n",
    "acc_bagging = metrics.accuracy_score(y_test, y_pred)\n",
    "print(\"Accuracy Bagging with Decision Tree: {:0.2f}%\".format(acc_bagging*100))"
   ]
  },
  {
   "cell_type": "code",
   "execution_count": 17,
   "metadata": {
    "ExecuteTime": {
     "end_time": "2019-11-08T04:22:49.693000Z",
     "start_time": "2019-11-08T04:22:49.508000Z"
    }
   },
   "outputs": [
    {
     "name": "stdout",
     "output_type": "stream",
     "text": [
      "Accuracy Bagging with Random Forest: 95.91%\n"
     ]
    },
    {
     "name": "stderr",
     "output_type": "stream",
     "text": [
      "D:\\anaconda3\\lib\\site-packages\\sklearn\\ensemble\\forest.py:246: FutureWarning: The default value of n_estimators will change from 10 in version 0.20 to 100 in 0.22.\n",
      "  \"10 in version 0.20 to 100 in 0.22.\", FutureWarning)\n",
      "D:\\anaconda3\\lib\\site-packages\\sklearn\\ensemble\\forest.py:246: FutureWarning: The default value of n_estimators will change from 10 in version 0.20 to 100 in 0.22.\n",
      "  \"10 in version 0.20 to 100 in 0.22.\", FutureWarning)\n",
      "D:\\anaconda3\\lib\\site-packages\\sklearn\\ensemble\\forest.py:246: FutureWarning: The default value of n_estimators will change from 10 in version 0.20 to 100 in 0.22.\n",
      "  \"10 in version 0.20 to 100 in 0.22.\", FutureWarning)\n",
      "D:\\anaconda3\\lib\\site-packages\\sklearn\\ensemble\\forest.py:246: FutureWarning: The default value of n_estimators will change from 10 in version 0.20 to 100 in 0.22.\n",
      "  \"10 in version 0.20 to 100 in 0.22.\", FutureWarning)\n",
      "D:\\anaconda3\\lib\\site-packages\\sklearn\\ensemble\\forest.py:246: FutureWarning: The default value of n_estimators will change from 10 in version 0.20 to 100 in 0.22.\n",
      "  \"10 in version 0.20 to 100 in 0.22.\", FutureWarning)\n",
      "D:\\anaconda3\\lib\\site-packages\\sklearn\\ensemble\\forest.py:246: FutureWarning: The default value of n_estimators will change from 10 in version 0.20 to 100 in 0.22.\n",
      "  \"10 in version 0.20 to 100 in 0.22.\", FutureWarning)\n",
      "D:\\anaconda3\\lib\\site-packages\\sklearn\\ensemble\\forest.py:246: FutureWarning: The default value of n_estimators will change from 10 in version 0.20 to 100 in 0.22.\n",
      "  \"10 in version 0.20 to 100 in 0.22.\", FutureWarning)\n",
      "D:\\anaconda3\\lib\\site-packages\\sklearn\\ensemble\\forest.py:246: FutureWarning: The default value of n_estimators will change from 10 in version 0.20 to 100 in 0.22.\n",
      "  \"10 in version 0.20 to 100 in 0.22.\", FutureWarning)\n",
      "D:\\anaconda3\\lib\\site-packages\\sklearn\\ensemble\\forest.py:246: FutureWarning: The default value of n_estimators will change from 10 in version 0.20 to 100 in 0.22.\n",
      "  \"10 in version 0.20 to 100 in 0.22.\", FutureWarning)\n",
      "D:\\anaconda3\\lib\\site-packages\\sklearn\\ensemble\\forest.py:246: FutureWarning: The default value of n_estimators will change from 10 in version 0.20 to 100 in 0.22.\n",
      "  \"10 in version 0.20 to 100 in 0.22.\", FutureWarning)\n"
     ]
    }
   ],
   "source": [
    "# Write your code here if you use RandomForest, compare with above!\n",
    "from sklearn.ensemble import RandomForestClassifier\n",
    "\n",
    "clf_bagging = BaggingClassifier(RandomForestClassifier(), max_samples = 0.5, max_features = 0.5)\n",
    "\n",
    "# Fit it to the training set and predict\n",
    "clf_bagging.fit(X_train, y_train)\n",
    "y_pred = clf_bagging.predict(X_test)\n",
    "\n",
    "# Get the accuracy score\n",
    "acc_bagging = metrics.accuracy_score(y_test, y_pred)\n",
    "print(\"Accuracy Bagging with Random Forest: {:0.2f}%\".format(acc_bagging*100))"
   ]
  },
  {
   "cell_type": "markdown",
   "metadata": {},
   "source": [
    "## 4. Boosting\n",
    "Source: https://scikit-learn.org/stable/modules/ensemble.html"
   ]
  },
  {
   "cell_type": "code",
   "execution_count": 39,
   "metadata": {
    "ExecuteTime": {
     "end_time": "2019-11-08T06:49:51.662000Z",
     "start_time": "2019-11-08T06:49:51.363000Z"
    }
   },
   "outputs": [],
   "source": [
    "from sklearn.ensemble import AdaBoostClassifier\n",
    "# clf_ada = AdaBoostClassifier(\n",
    "# base_estimator,\n",
    "# n_estimators,\n",
    "# learning_rate\n",
    "# )\n",
    "\n",
    "# base_estimator\n",
    "# Default: Decision Tree (max_depth=1)\n",
    "# n_estimators\n",
    "# Default: 50\n",
    "# learning_rate\n",
    "# Default: 1.0\n",
    "# Trade-off between n_estimators and\n",
    "# learning_rate\n",
    "clf_ada = AdaBoostClassifier(base_estimator = DecisionTreeClassifier(max_depth = 1), n_estimators = 100, learning_rate = 1.0)\n",
    "clf_ada.fit(X_train, y_train)\n",
    "y_pred = clf_ada.predict(X_test)"
   ]
  },
  {
   "cell_type": "code",
   "execution_count": 40,
   "metadata": {
    "ExecuteTime": {
     "end_time": "2019-11-08T06:49:52.853000Z",
     "start_time": "2019-11-08T06:49:51.938000Z"
    }
   },
   "outputs": [],
   "source": [
    "def plot_confusion_matrix(y_true, y_pred, classes,\n",
    "                          normalize=False,\n",
    "                          title=None,\n",
    "                          cmap=plt.cm.Blues):\n",
    "    \"\"\"\n",
    "    This function prints and plots the confusion matrix.\n",
    "    Normalization can be applied by setting `normalize=True`.\n",
    "    \"\"\"\n",
    "    if not title:\n",
    "        if normalize:\n",
    "            title = 'Normalized confusion matrix'\n",
    "        else:\n",
    "            title = 'Confusion matrix, without normalization'\n",
    "\n",
    "    # Compute confusion matrix\n",
    "    cm = confusion_matrix(y_true, y_pred)\n",
    "    # Only use the labels that appear in the data\n",
    "    classes = classes[unique_labels(y_true, y_pred)]\n",
    "    if normalize:\n",
    "        cm = cm.astype('float') / cm.sum(axis=1)[:, np.newaxis]\n",
    "        print(\"Normalized confusion matrix\")\n",
    "    else:\n",
    "        print('Confusion matrix, without normalization')\n",
    "\n",
    "    print(cm)\n",
    "\n",
    "    fig, ax = plt.subplots()\n",
    "    im = ax.imshow(cm, interpolation='nearest', cmap=cmap)\n",
    "    ax.figure.colorbar(im, ax=ax)\n",
    "    # We want to show all ticks...\n",
    "    ax.set(xticks=np.arange(cm.shape[1]),\n",
    "           yticks=np.arange(cm.shape[0]),\n",
    "           # ... and label them with the respective list entries\n",
    "           xticklabels=classes, yticklabels=classes,\n",
    "           title=title,\n",
    "           ylabel='True label',\n",
    "           xlabel='Predicted label') \n",
    "\n",
    "    # Rotate the tick labels and set their alignment.\n",
    "    plt.setp(ax.get_xticklabels(), rotation=45, ha=\"right\",\n",
    "             rotation_mode=\"anchor\")\n",
    "\n",
    "    # Loop over data dimensions and create text annotations.\n",
    "    fmt = '.2f' if normalize else 'd'\n",
    "    thresh = cm.max() / 2.\n",
    "    for i in range(cm.shape[0]):\n",
    "        for j in range(cm.shape[1]):\n",
    "            ax.text(j, i, format(cm[i, j], fmt),\n",
    "                    ha=\"center\", va=\"center\",\n",
    "                    color=\"white\" if cm[i, j] > thresh else \"black\")\n",
    "    fig.tight_layout()\n",
    "    return ax"
   ]
  },
  {
   "cell_type": "code",
   "execution_count": 41,
   "metadata": {
    "ExecuteTime": {
     "end_time": "2019-11-08T06:49:53.067000Z",
     "start_time": "2019-11-08T06:49:52.858000Z"
    }
   },
   "outputs": [],
   "source": [
    "from sklearn.metrics import confusion_matrix\n",
    "from sklearn.utils.multiclass import unique_labels"
   ]
  },
  {
   "cell_type": "code",
   "execution_count": 42,
   "metadata": {
    "ExecuteTime": {
     "end_time": "2019-11-08T06:49:53.235000Z",
     "start_time": "2019-11-08T06:49:53.073000Z"
    }
   },
   "outputs": [],
   "source": [
    "cname = cancer.target_names"
   ]
  },
  {
   "cell_type": "code",
   "execution_count": 43,
   "metadata": {
    "ExecuteTime": {
     "end_time": "2019-11-08T06:49:53.678000Z",
     "start_time": "2019-11-08T06:49:53.240000Z"
    }
   },
   "outputs": [
    {
     "name": "stdout",
     "output_type": "stream",
     "text": [
      "Confusion matrix, without normalization\n",
      "[[ 62   1]\n",
      " [  2 106]]\n"
     ]
    },
    {
     "data": {
      "image/png": "[encoded data removed]",
      "text/plain": [
       "<Figure size 432x288 with 2 Axes>"
      ]
     },
     "metadata": {
      "needs_background": "light"
     },
     "output_type": "display_data"
    }
   ],
   "source": [
    "plot_confusion_matrix(y_test, y_pred, cname)\n",
    "plt.show()"
   ]
  },
  {
   "cell_type": "markdown",
   "metadata": {},
   "source": [
    "### Create AdaBoost Classifier for iris dataset!"
   ]
  },
  {
   "cell_type": "code",
   "execution_count": null,
   "metadata": {},
   "outputs": [],
   "source": [
    "# Write your code here!"
   ]
  },
  {
   "cell_type": "code",
   "execution_count": null,
   "metadata": {},
   "outputs": [],
   "source": [
    "from sklearn.ensemble import AdaBoostRegressor\n",
    "\n",
    "# reg_ada = AdaBoostRegressor(\n",
    "# base_estimator,\n",
    "# n_estimators,\n",
    "# learning_rate,\n",
    "# loss\n",
    "# )\n",
    "\n",
    "# base_estimator\n",
    "# Default: Decision Tree (max_depth=3)\n",
    "# loss\n",
    "# linear (default)\n",
    "# square\n",
    "# exponential"
   ]
  },
  {
   "cell_type": "code",
   "execution_count": 44,
   "metadata": {
    "ExecuteTime": {
     "end_time": "2019-11-08T07:10:54.754000Z",
     "start_time": "2019-11-08T07:10:54.352000Z"
    }
   },
   "outputs": [],
   "source": [
    "from sklearn.ensemble import GradientBoostingClassifier\n",
    "\n",
    "clf_gbc = GradientBoostingClassifier()\n",
    "clf_gbc.fit(X_train, y_train)\n",
    "y_pred = clf_gbc.predict(X_test)"
   ]
  },
  {
   "cell_type": "code",
   "execution_count": 45,
   "metadata": {
    "ExecuteTime": {
     "end_time": "2019-11-08T07:11:10.847000Z",
     "start_time": "2019-11-08T07:11:10.613000Z"
    }
   },
   "outputs": [
    {
     "name": "stdout",
     "output_type": "stream",
     "text": [
      "Confusion matrix, without normalization\n",
      "[[ 59   4]\n",
      " [  3 105]]\n"
     ]
    },
    {
     "data": {
      "image/png": "[encoded data removed]",
      "text/plain": [
       "<Figure size 432x288 with 2 Axes>"
      ]
     },
     "metadata": {
      "needs_background": "light"
     },
     "output_type": "display_data"
    }
   ],
   "source": [
    "plot_confusion_matrix(y_test, y_pred, cname)\n",
    "plt.show()"
   ]
  },
  {
   "cell_type": "markdown",
   "metadata": {},
   "source": [
    "### Create GradientBoostingClassifier for iris Dataset!"
   ]
  },
  {
   "cell_type": "code",
   "execution_count": 5,
   "metadata": {},
   "outputs": [],
   "source": [
    "# Write your code here!"
   ]
  },
  {
   "cell_type": "code",
   "execution_count": 50,
   "metadata": {
    "ExecuteTime": {
     "end_time": "2019-11-08T08:28:32.937000Z",
     "start_time": "2019-11-08T08:28:26.639000Z"
    }
   },
   "outputs": [],
   "source": [
    "# import xgboost as xgb => ini mesti install dulu \n",
    "# import lightgbm as lgb\n",
    "# import catboost as cb\n",
    "# Cek di sini: \n",
    "# https://stackoverflow.com/questions/35139108/how-to-install-xgboost-in-anaconda-python-windows-platform\n",
    "\n",
    "import xgboost as xgb\n",
    "import lightgbm as lgb\n",
    "import catboost as cb"
   ]
  },
  {
   "cell_type": "markdown",
   "metadata": {},
   "source": [
    "### Create XGBoost, lightgbm, catboost for iris Dataset"
   ]
  },
  {
   "cell_type": "code",
   "execution_count": 51,
   "metadata": {
    "ExecuteTime": {
     "end_time": "2019-11-08T08:30:32.302000Z",
     "start_time": "2019-11-08T08:30:32.064000Z"
    }
   },
   "outputs": [],
   "source": [
    "clf_xgb = xgb.XGBClassifier()\n",
    "clf_xgb.fit(X_train, y_train)\n",
    "y_pred = clf_xgb.predict(X_test)"
   ]
  },
  {
   "cell_type": "code",
   "execution_count": 52,
   "metadata": {
    "ExecuteTime": {
     "end_time": "2019-11-08T08:30:53.188000Z",
     "start_time": "2019-11-08T08:30:52.940000Z"
    }
   },
   "outputs": [
    {
     "name": "stdout",
     "output_type": "stream",
     "text": [
      "Confusion matrix, without normalization\n",
      "[[ 59   4]\n",
      " [  2 106]]\n"
     ]
    },
    {
     "data": {
      "text/plain": [
       "<matplotlib.axes._subplots.AxesSubplot at 0xc9e5978>"
      ]
     },
     "execution_count": 52,
     "metadata": {},
     "output_type": "execute_result"
    },
    {
     "data": {
      "image/png": "[encoded data removed]",
      "text/plain": [
       "<Figure size 432x288 with 2 Axes>"
      ]
     },
     "metadata": {
      "needs_background": "light"
     },
     "output_type": "display_data"
    }
   ],
   "source": [
    "plot_confusion_matrix(y_test, y_pred, cname)"
   ]
  },
  {
   "cell_type": "code",
   "execution_count": 54,
   "metadata": {
    "ExecuteTime": {
     "end_time": "2019-11-08T08:31:53.032000Z",
     "start_time": "2019-11-08T08:31:53.020000Z"
    }
   },
   "outputs": [
    {
     "name": "stdout",
     "output_type": "stream",
     "text": [
      "Accuracy XGBoost: 96.49%\n"
     ]
    }
   ],
   "source": [
    "# Get the accuracy score\n",
    "acc_xgb = metrics.accuracy_score(y_test, y_pred)\n",
    "print(\"Accuracy XGBoost: {:0.2f}%\".format(acc_xgb*100))"
   ]
  },
  {
   "cell_type": "markdown",
   "metadata": {},
   "source": [
    "## 5. Stacking  "
   ]
  },
  {
   "cell_type": "code",
   "execution_count": null,
   "metadata": {},
   "outputs": [],
   "source": [
    "# from mlxtend.classifier import StackingClassifier => ini mesti install dulu "
   ]
  },
  {
   "cell_type": "code",
   "execution_count": null,
   "metadata": {},
   "outputs": [],
   "source": [
    "# Instantiate the 1st-layer classifiers\n",
    "# clf1 = Classifier1(params1)\n",
    "# clf2 = Classifier2(params2)\n",
    "# ...\n",
    "# clfN = ClassifierN(paramsN)\n",
    "\n",
    "# Instantiate the 2nd-layer classifier\n",
    "# clf_meta = ClassifierMeta(paramsMeta)\n",
    "\n",
    "# Build the Stacking classifier\n",
    "# clf_stack = StackingClassifier(\n",
    "# classifiers=[clf1, clf2, ... clfN],\n",
    "# meta_classifier=clf_meta,\n",
    "# use_probas=False,\n",
    "# use_features_in_secondary=False)\n",
    "\n",
    "# Use the fit and predict methods\n",
    "# like with scikit-learn estimators\n",
    "# clf_stack.fit(X_train, y_train)\n",
    "# pred = clf_stack.predict(X_test)"
   ]
  },
  {
   "cell_type": "code",
   "execution_count": 57,
   "metadata": {
    "ExecuteTime": {
     "end_time": "2019-11-08T08:39:00.496000Z",
     "start_time": "2019-11-08T08:38:48.740000Z"
    }
   },
   "outputs": [
    {
     "name": "stdout",
     "output_type": "stream",
     "text": [
      "0:\tlearn: 0.5483316\ttotal: 143ms\tremaining: 2m 22s\n",
      "1:\tlearn: 0.4410834\ttotal: 154ms\tremaining: 1m 16s\n",
      "2:\tlearn: 0.3652964\ttotal: 164ms\tremaining: 54.5s\n",
      "3:\tlearn: 0.3017461\ttotal: 174ms\tremaining: 43.3s\n",
      "4:\tlearn: 0.2601620\ttotal: 184ms\tremaining: 36.7s\n",
      "5:\tlearn: 0.2294997\ttotal: 196ms\tremaining: 32.5s\n",
      "6:\tlearn: 0.1973244\ttotal: 206ms\tremaining: 29.3s\n",
      "7:\tlearn: 0.1716186\ttotal: 219ms\tremaining: 27.1s\n",
      "8:\tlearn: 0.1494674\ttotal: 231ms\tremaining: 25.4s\n",
      "9:\tlearn: 0.1385052\ttotal: 240ms\tremaining: 23.8s\n",
      "10:\tlearn: 0.1245621\ttotal: 250ms\tremaining: 22.4s\n",
      "11:\tlearn: 0.1121033\ttotal: 259ms\tremaining: 21.3s\n",
      "12:\tlearn: 0.1022647\ttotal: 268ms\tremaining: 20.4s\n",
      "13:\tlearn: 0.0922438\ttotal: 277ms\tremaining: 19.5s\n",
      "14:\tlearn: 0.0841177\ttotal: 288ms\tremaining: 18.9s\n",
      "15:\tlearn: 0.0783853\ttotal: 299ms\tremaining: 18.4s\n",
      "16:\tlearn: 0.0715867\ttotal: 310ms\tremaining: 17.9s\n",
      "17:\tlearn: 0.0676322\ttotal: 323ms\tremaining: 17.6s\n",
      "18:\tlearn: 0.0624413\ttotal: 335ms\tremaining: 17.3s\n",
      "19:\tlearn: 0.0578093\ttotal: 348ms\tremaining: 17.1s\n",
      "20:\tlearn: 0.0554241\ttotal: 376ms\tremaining: 17.5s\n",
      "21:\tlearn: 0.0518697\ttotal: 394ms\tremaining: 17.5s\n",
      "22:\tlearn: 0.0494283\ttotal: 406ms\tremaining: 17.2s\n",
      "23:\tlearn: 0.0466332\ttotal: 417ms\tremaining: 17s\n",
      "24:\tlearn: 0.0441388\ttotal: 428ms\tremaining: 16.7s\n",
      "25:\tlearn: 0.0413536\ttotal: 439ms\tremaining: 16.4s\n",
      "26:\tlearn: 0.0393494\ttotal: 451ms\tremaining: 16.3s\n",
      "27:\tlearn: 0.0377048\ttotal: 466ms\tremaining: 16.2s\n",
      "28:\tlearn: 0.0359557\ttotal: 476ms\tremaining: 15.9s\n",
      "29:\tlearn: 0.0345333\ttotal: 486ms\tremaining: 15.7s\n",
      "30:\tlearn: 0.0328911\ttotal: 496ms\tremaining: 15.5s\n",
      "31:\tlearn: 0.0315759\ttotal: 508ms\tremaining: 15.4s\n",
      "32:\tlearn: 0.0305308\ttotal: 519ms\tremaining: 15.2s\n",
      "33:\tlearn: 0.0290846\ttotal: 533ms\tremaining: 15.1s\n",
      "34:\tlearn: 0.0276426\ttotal: 542ms\tremaining: 14.9s\n",
      "35:\tlearn: 0.0266721\ttotal: 551ms\tremaining: 14.8s\n",
      "36:\tlearn: 0.0250058\ttotal: 561ms\tremaining: 14.6s\n",
      "37:\tlearn: 0.0243926\ttotal: 569ms\tremaining: 14.4s\n",
      "38:\tlearn: 0.0236704\ttotal: 578ms\tremaining: 14.3s\n",
      "39:\tlearn: 0.0228370\ttotal: 587ms\tremaining: 14.1s\n",
      "40:\tlearn: 0.0217874\ttotal: 597ms\tremaining: 14s\n",
      "41:\tlearn: 0.0210885\ttotal: 606ms\tremaining: 13.8s\n",
      "42:\tlearn: 0.0204336\ttotal: 614ms\tremaining: 13.7s\n",
      "43:\tlearn: 0.0196228\ttotal: 624ms\tremaining: 13.6s\n",
      "44:\tlearn: 0.0191768\ttotal: 633ms\tremaining: 13.4s\n",
      "45:\tlearn: 0.0183699\ttotal: 643ms\tremaining: 13.3s\n",
      "46:\tlearn: 0.0179670\ttotal: 652ms\tremaining: 13.2s\n",
      "47:\tlearn: 0.0176145\ttotal: 663ms\tremaining: 13.2s\n",
      "48:\tlearn: 0.0173834\ttotal: 673ms\tremaining: 13.1s\n",
      "49:\tlearn: 0.0169227\ttotal: 684ms\tremaining: 13s\n",
      "50:\tlearn: 0.0165174\ttotal: 696ms\tremaining: 12.9s\n",
      "51:\tlearn: 0.0157331\ttotal: 708ms\tremaining: 12.9s\n",
      "52:\tlearn: 0.0152939\ttotal: 719ms\tremaining: 12.9s\n",
      "53:\tlearn: 0.0149190\ttotal: 730ms\tremaining: 12.8s\n",
      "54:\tlearn: 0.0144263\ttotal: 742ms\tremaining: 12.7s\n",
      "55:\tlearn: 0.0140318\ttotal: 752ms\tremaining: 12.7s\n",
      "56:\tlearn: 0.0138063\ttotal: 764ms\tremaining: 12.6s\n",
      "57:\tlearn: 0.0134421\ttotal: 775ms\tremaining: 12.6s\n",
      "58:\tlearn: 0.0130977\ttotal: 786ms\tremaining: 12.5s\n",
      "59:\tlearn: 0.0128459\ttotal: 799ms\tremaining: 12.5s\n",
      "60:\tlearn: 0.0125866\ttotal: 810ms\tremaining: 12.5s\n",
      "61:\tlearn: 0.0122729\ttotal: 819ms\tremaining: 12.4s\n",
      "62:\tlearn: 0.0119257\ttotal: 829ms\tremaining: 12.3s\n",
      "63:\tlearn: 0.0116218\ttotal: 840ms\tremaining: 12.3s\n",
      "64:\tlearn: 0.0114093\ttotal: 851ms\tremaining: 12.2s\n",
      "65:\tlearn: 0.0111274\ttotal: 867ms\tremaining: 12.3s\n",
      "66:\tlearn: 0.0109045\ttotal: 879ms\tremaining: 12.2s\n",
      "67:\tlearn: 0.0107089\ttotal: 893ms\tremaining: 12.2s\n",
      "68:\tlearn: 0.0104524\ttotal: 908ms\tremaining: 12.3s\n",
      "69:\tlearn: 0.0101177\ttotal: 918ms\tremaining: 12.2s\n",
      "70:\tlearn: 0.0099278\ttotal: 928ms\tremaining: 12.1s\n",
      "71:\tlearn: 0.0097437\ttotal: 938ms\tremaining: 12.1s\n",
      "72:\tlearn: 0.0095115\ttotal: 949ms\tremaining: 12.1s\n",
      "73:\tlearn: 0.0094113\ttotal: 960ms\tremaining: 12s\n",
      "74:\tlearn: 0.0090343\ttotal: 972ms\tremaining: 12s\n",
      "75:\tlearn: 0.0087539\ttotal: 982ms\tremaining: 11.9s\n",
      "76:\tlearn: 0.0085554\ttotal: 993ms\tremaining: 11.9s\n",
      "77:\tlearn: 0.0082906\ttotal: 1.01s\tremaining: 11.9s\n",
      "78:\tlearn: 0.0082676\ttotal: 1.02s\tremaining: 11.9s\n",
      "79:\tlearn: 0.0080013\ttotal: 1.03s\tremaining: 11.8s\n",
      "80:\tlearn: 0.0077929\ttotal: 1.04s\tremaining: 11.8s\n",
      "81:\tlearn: 0.0075886\ttotal: 1.05s\tremaining: 11.8s\n",
      "82:\tlearn: 0.0074606\ttotal: 1.06s\tremaining: 11.7s\n",
      "83:\tlearn: 0.0073345\ttotal: 1.07s\tremaining: 11.7s\n",
      "84:\tlearn: 0.0071207\ttotal: 1.08s\tremaining: 11.7s\n",
      "85:\tlearn: 0.0069880\ttotal: 1.1s\tremaining: 11.7s\n",
      "86:\tlearn: 0.0069208\ttotal: 1.11s\tremaining: 11.6s\n",
      "87:\tlearn: 0.0069073\ttotal: 1.12s\tremaining: 11.6s\n",
      "88:\tlearn: 0.0067637\ttotal: 1.13s\tremaining: 11.6s\n",
      "89:\tlearn: 0.0067276\ttotal: 1.14s\tremaining: 11.5s\n",
      "90:\tlearn: 0.0066700\ttotal: 1.15s\tremaining: 11.5s\n",
      "91:\tlearn: 0.0066300\ttotal: 1.16s\tremaining: 11.5s\n",
      "92:\tlearn: 0.0064951\ttotal: 1.17s\tremaining: 11.4s\n",
      "93:\tlearn: 0.0063448\ttotal: 1.18s\tremaining: 11.4s\n",
      "94:\tlearn: 0.0061981\ttotal: 1.19s\tremaining: 11.4s\n",
      "95:\tlearn: 0.0061905\ttotal: 1.2s\tremaining: 11.3s\n",
      "96:\tlearn: 0.0061563\ttotal: 1.21s\tremaining: 11.3s\n",
      "97:\tlearn: 0.0060548\ttotal: 1.22s\tremaining: 11.3s\n",
      "98:\tlearn: 0.0060480\ttotal: 1.24s\tremaining: 11.3s\n",
      "99:\tlearn: 0.0059238\ttotal: 1.25s\tremaining: 11.3s\n",
      "100:\tlearn: 0.0058608\ttotal: 1.26s\tremaining: 11.3s\n",
      "101:\tlearn: 0.0057616\ttotal: 1.28s\tremaining: 11.3s\n",
      "102:\tlearn: 0.0056758\ttotal: 1.29s\tremaining: 11.3s\n",
      "103:\tlearn: 0.0056639\ttotal: 1.3s\tremaining: 11.2s\n",
      "104:\tlearn: 0.0056558\ttotal: 1.31s\tremaining: 11.2s\n",
      "105:\tlearn: 0.0055550\ttotal: 1.33s\tremaining: 11.2s\n",
      "106:\tlearn: 0.0055476\ttotal: 1.34s\tremaining: 11.2s\n",
      "107:\tlearn: 0.0055409\ttotal: 1.35s\tremaining: 11.1s\n",
      "108:\tlearn: 0.0055142\ttotal: 1.36s\tremaining: 11.1s\n",
      "109:\tlearn: 0.0054136\ttotal: 1.37s\tremaining: 11.1s\n",
      "110:\tlearn: 0.0053670\ttotal: 1.38s\tremaining: 11s\n",
      "111:\tlearn: 0.0053588\ttotal: 1.39s\tremaining: 11s\n",
      "112:\tlearn: 0.0053400\ttotal: 1.4s\tremaining: 11s\n",
      "113:\tlearn: 0.0053326\ttotal: 1.41s\tremaining: 11s\n",
      "114:\tlearn: 0.0053238\ttotal: 1.42s\tremaining: 10.9s\n",
      "115:\tlearn: 0.0052549\ttotal: 1.43s\tremaining: 10.9s\n",
      "116:\tlearn: 0.0052452\ttotal: 1.44s\tremaining: 10.9s\n",
      "117:\tlearn: 0.0052123\ttotal: 1.46s\tremaining: 10.9s\n",
      "118:\tlearn: 0.0051370\ttotal: 1.47s\tremaining: 10.9s\n",
      "119:\tlearn: 0.0051307\ttotal: 1.48s\tremaining: 10.8s\n",
      "120:\tlearn: 0.0051096\ttotal: 1.49s\tremaining: 10.8s\n",
      "121:\tlearn: 0.0050941\ttotal: 1.5s\tremaining: 10.8s\n",
      "122:\tlearn: 0.0050772\ttotal: 1.51s\tremaining: 10.8s\n",
      "123:\tlearn: 0.0049776\ttotal: 1.53s\tremaining: 10.8s\n",
      "124:\tlearn: 0.0048793\ttotal: 1.54s\tremaining: 10.8s\n",
      "125:\tlearn: 0.0048130\ttotal: 1.55s\tremaining: 10.7s\n",
      "126:\tlearn: 0.0048083\ttotal: 1.55s\tremaining: 10.7s\n",
      "127:\tlearn: 0.0047420\ttotal: 1.56s\tremaining: 10.7s\n",
      "128:\tlearn: 0.0047149\ttotal: 1.57s\tremaining: 10.6s\n",
      "129:\tlearn: 0.0046557\ttotal: 1.58s\tremaining: 10.6s\n",
      "130:\tlearn: 0.0046079\ttotal: 1.59s\tremaining: 10.6s\n",
      "131:\tlearn: 0.0045725\ttotal: 1.61s\tremaining: 10.6s\n",
      "132:\tlearn: 0.0045063\ttotal: 1.62s\tremaining: 10.5s\n",
      "133:\tlearn: 0.0044999\ttotal: 1.63s\tremaining: 10.5s\n",
      "134:\tlearn: 0.0044807\ttotal: 1.64s\tremaining: 10.5s\n",
      "135:\tlearn: 0.0044043\ttotal: 1.65s\tremaining: 10.5s\n",
      "136:\tlearn: 0.0043966\ttotal: 1.66s\tremaining: 10.5s\n",
      "137:\tlearn: 0.0043233\ttotal: 1.67s\tremaining: 10.4s\n",
      "138:\tlearn: 0.0042601\ttotal: 1.68s\tremaining: 10.4s\n",
      "139:\tlearn: 0.0042559\ttotal: 1.69s\tremaining: 10.4s\n",
      "140:\tlearn: 0.0042449\ttotal: 1.7s\tremaining: 10.4s\n",
      "141:\tlearn: 0.0042347\ttotal: 1.71s\tremaining: 10.3s\n",
      "142:\tlearn: 0.0042300\ttotal: 1.72s\tremaining: 10.3s\n",
      "143:\tlearn: 0.0042017\ttotal: 1.73s\tremaining: 10.3s\n",
      "144:\tlearn: 0.0041969\ttotal: 1.74s\tremaining: 10.3s\n",
      "145:\tlearn: 0.0041538\ttotal: 1.75s\tremaining: 10.3s\n",
      "146:\tlearn: 0.0041376\ttotal: 1.77s\tremaining: 10.3s\n",
      "147:\tlearn: 0.0040918\ttotal: 1.78s\tremaining: 10.2s\n",
      "148:\tlearn: 0.0040478\ttotal: 1.79s\tremaining: 10.2s\n",
      "149:\tlearn: 0.0040102\ttotal: 1.8s\tremaining: 10.2s\n",
      "150:\tlearn: 0.0040064\ttotal: 1.81s\tremaining: 10.2s\n",
      "151:\tlearn: 0.0039480\ttotal: 1.83s\tremaining: 10.2s\n",
      "152:\tlearn: 0.0038994\ttotal: 1.84s\tremaining: 10.2s\n",
      "153:\tlearn: 0.0038500\ttotal: 1.85s\tremaining: 10.2s\n",
      "154:\tlearn: 0.0038453\ttotal: 1.86s\tremaining: 10.2s\n",
      "155:\tlearn: 0.0038093\ttotal: 1.88s\tremaining: 10.2s\n",
      "156:\tlearn: 0.0037723\ttotal: 1.89s\tremaining: 10.2s\n",
      "157:\tlearn: 0.0037294\ttotal: 1.9s\tremaining: 10.1s\n",
      "158:\tlearn: 0.0037263\ttotal: 1.91s\tremaining: 10.1s\n",
      "159:\tlearn: 0.0037216\ttotal: 1.92s\tremaining: 10.1s\n",
      "160:\tlearn: 0.0036878\ttotal: 1.93s\tremaining: 10.1s\n",
      "161:\tlearn: 0.0036356\ttotal: 1.94s\tremaining: 10s\n",
      "162:\tlearn: 0.0035857\ttotal: 1.96s\tremaining: 10s\n"
     ]
    },
    {
     "name": "stdout",
     "output_type": "stream",
     "text": [
      "163:\tlearn: 0.0035750\ttotal: 1.97s\tremaining: 10s\n",
      "164:\tlearn: 0.0035710\ttotal: 1.98s\tremaining: 10s\n",
      "165:\tlearn: 0.0035298\ttotal: 2s\tremaining: 10.1s\n",
      "166:\tlearn: 0.0035266\ttotal: 2.02s\tremaining: 10.1s\n",
      "167:\tlearn: 0.0035099\ttotal: 2.03s\tremaining: 10s\n",
      "168:\tlearn: 0.0034898\ttotal: 2.04s\tremaining: 10s\n",
      "169:\tlearn: 0.0034834\ttotal: 2.05s\tremaining: 9.99s\n",
      "170:\tlearn: 0.0034461\ttotal: 2.06s\tremaining: 9.97s\n",
      "171:\tlearn: 0.0034144\ttotal: 2.06s\tremaining: 9.94s\n",
      "172:\tlearn: 0.0033587\ttotal: 2.07s\tremaining: 9.92s\n",
      "173:\tlearn: 0.0033308\ttotal: 2.08s\tremaining: 9.89s\n",
      "174:\tlearn: 0.0033154\ttotal: 2.09s\tremaining: 9.87s\n",
      "175:\tlearn: 0.0033019\ttotal: 2.1s\tremaining: 9.84s\n",
      "176:\tlearn: 0.0032492\ttotal: 2.11s\tremaining: 9.81s\n",
      "177:\tlearn: 0.0032158\ttotal: 2.12s\tremaining: 9.79s\n",
      "178:\tlearn: 0.0032131\ttotal: 2.13s\tremaining: 9.76s\n",
      "179:\tlearn: 0.0031766\ttotal: 2.14s\tremaining: 9.74s\n",
      "180:\tlearn: 0.0031747\ttotal: 2.15s\tremaining: 9.72s\n",
      "181:\tlearn: 0.0031661\ttotal: 2.16s\tremaining: 9.7s\n",
      "182:\tlearn: 0.0031643\ttotal: 2.17s\tremaining: 9.67s\n",
      "183:\tlearn: 0.0031559\ttotal: 2.17s\tremaining: 9.64s\n",
      "184:\tlearn: 0.0031470\ttotal: 2.18s\tremaining: 9.61s\n",
      "185:\tlearn: 0.0031447\ttotal: 2.19s\tremaining: 9.59s\n",
      "186:\tlearn: 0.0031431\ttotal: 2.2s\tremaining: 9.57s\n",
      "187:\tlearn: 0.0031310\ttotal: 2.21s\tremaining: 9.55s\n",
      "188:\tlearn: 0.0030918\ttotal: 2.22s\tremaining: 9.53s\n",
      "189:\tlearn: 0.0030483\ttotal: 2.23s\tremaining: 9.51s\n",
      "190:\tlearn: 0.0030156\ttotal: 2.24s\tremaining: 9.49s\n",
      "191:\tlearn: 0.0029874\ttotal: 2.25s\tremaining: 9.47s\n",
      "192:\tlearn: 0.0029852\ttotal: 2.26s\tremaining: 9.45s\n",
      "193:\tlearn: 0.0029588\ttotal: 2.27s\tremaining: 9.42s\n",
      "194:\tlearn: 0.0029349\ttotal: 2.27s\tremaining: 9.39s\n",
      "195:\tlearn: 0.0029120\ttotal: 2.28s\tremaining: 9.37s\n",
      "196:\tlearn: 0.0028796\ttotal: 2.29s\tremaining: 9.35s\n",
      "197:\tlearn: 0.0028409\ttotal: 2.3s\tremaining: 9.32s\n",
      "198:\tlearn: 0.0028165\ttotal: 2.31s\tremaining: 9.3s\n",
      "199:\tlearn: 0.0028147\ttotal: 2.32s\tremaining: 9.28s\n",
      "200:\tlearn: 0.0028130\ttotal: 2.33s\tremaining: 9.26s\n",
      "201:\tlearn: 0.0028103\ttotal: 2.34s\tremaining: 9.25s\n",
      "202:\tlearn: 0.0028088\ttotal: 2.35s\tremaining: 9.23s\n",
      "203:\tlearn: 0.0028071\ttotal: 2.36s\tremaining: 9.21s\n",
      "204:\tlearn: 0.0027726\ttotal: 2.37s\tremaining: 9.2s\n",
      "205:\tlearn: 0.0027537\ttotal: 2.38s\tremaining: 9.17s\n",
      "206:\tlearn: 0.0027512\ttotal: 2.39s\tremaining: 9.15s\n",
      "207:\tlearn: 0.0027496\ttotal: 2.4s\tremaining: 9.13s\n",
      "208:\tlearn: 0.0027481\ttotal: 2.4s\tremaining: 9.1s\n",
      "209:\tlearn: 0.0027463\ttotal: 2.41s\tremaining: 9.08s\n",
      "210:\tlearn: 0.0027442\ttotal: 2.42s\tremaining: 9.05s\n",
      "211:\tlearn: 0.0027353\ttotal: 2.43s\tremaining: 9.03s\n",
      "212:\tlearn: 0.0027336\ttotal: 2.44s\tremaining: 9.01s\n",
      "213:\tlearn: 0.0027321\ttotal: 2.45s\tremaining: 8.99s\n",
      "214:\tlearn: 0.0027305\ttotal: 2.46s\tremaining: 8.97s\n",
      "215:\tlearn: 0.0027290\ttotal: 2.46s\tremaining: 8.94s\n",
      "216:\tlearn: 0.0027102\ttotal: 2.47s\tremaining: 8.92s\n",
      "217:\tlearn: 0.0027087\ttotal: 2.48s\tremaining: 8.9s\n",
      "218:\tlearn: 0.0027023\ttotal: 2.49s\tremaining: 8.88s\n",
      "219:\tlearn: 0.0027007\ttotal: 2.5s\tremaining: 8.86s\n",
      "220:\tlearn: 0.0026951\ttotal: 2.51s\tremaining: 8.84s\n",
      "221:\tlearn: 0.0026940\ttotal: 2.52s\tremaining: 8.82s\n",
      "222:\tlearn: 0.0026922\ttotal: 2.52s\tremaining: 8.8s\n",
      "223:\tlearn: 0.0026905\ttotal: 2.53s\tremaining: 8.78s\n",
      "224:\tlearn: 0.0026561\ttotal: 2.54s\tremaining: 8.76s\n",
      "225:\tlearn: 0.0026547\ttotal: 2.55s\tremaining: 8.74s\n",
      "226:\tlearn: 0.0026527\ttotal: 2.56s\tremaining: 8.72s\n",
      "227:\tlearn: 0.0026514\ttotal: 2.57s\tremaining: 8.7s\n",
      "228:\tlearn: 0.0026490\ttotal: 2.58s\tremaining: 8.68s\n",
      "229:\tlearn: 0.0026480\ttotal: 2.58s\tremaining: 8.65s\n",
      "230:\tlearn: 0.0026467\ttotal: 2.6s\tremaining: 8.64s\n",
      "231:\tlearn: 0.0026430\ttotal: 2.61s\tremaining: 8.64s\n",
      "232:\tlearn: 0.0026254\ttotal: 2.62s\tremaining: 8.62s\n",
      "233:\tlearn: 0.0026161\ttotal: 2.63s\tremaining: 8.6s\n",
      "234:\tlearn: 0.0026141\ttotal: 2.64s\tremaining: 8.6s\n",
      "235:\tlearn: 0.0025976\ttotal: 2.65s\tremaining: 8.58s\n",
      "236:\tlearn: 0.0025821\ttotal: 2.66s\tremaining: 8.56s\n",
      "237:\tlearn: 0.0025791\ttotal: 2.67s\tremaining: 8.55s\n",
      "238:\tlearn: 0.0025779\ttotal: 2.68s\tremaining: 8.54s\n",
      "239:\tlearn: 0.0025767\ttotal: 2.69s\tremaining: 8.52s\n",
      "240:\tlearn: 0.0025755\ttotal: 2.7s\tremaining: 8.5s\n",
      "241:\tlearn: 0.0025743\ttotal: 2.71s\tremaining: 8.49s\n",
      "242:\tlearn: 0.0025730\ttotal: 2.72s\tremaining: 8.48s\n",
      "243:\tlearn: 0.0025710\ttotal: 2.73s\tremaining: 8.46s\n",
      "244:\tlearn: 0.0025543\ttotal: 2.74s\tremaining: 8.45s\n",
      "245:\tlearn: 0.0025376\ttotal: 2.75s\tremaining: 8.44s\n",
      "246:\tlearn: 0.0025365\ttotal: 2.76s\tremaining: 8.42s\n",
      "247:\tlearn: 0.0025093\ttotal: 2.77s\tremaining: 8.41s\n",
      "248:\tlearn: 0.0025081\ttotal: 2.78s\tremaining: 8.39s\n",
      "249:\tlearn: 0.0025054\ttotal: 2.79s\tremaining: 8.38s\n",
      "250:\tlearn: 0.0025003\ttotal: 2.8s\tremaining: 8.36s\n",
      "251:\tlearn: 0.0024992\ttotal: 2.81s\tremaining: 8.34s\n",
      "252:\tlearn: 0.0024945\ttotal: 2.82s\tremaining: 8.32s\n",
      "253:\tlearn: 0.0024809\ttotal: 2.83s\tremaining: 8.3s\n",
      "254:\tlearn: 0.0024796\ttotal: 2.85s\tremaining: 8.33s\n",
      "255:\tlearn: 0.0024747\ttotal: 2.87s\tremaining: 8.34s\n",
      "256:\tlearn: 0.0024735\ttotal: 2.88s\tremaining: 8.33s\n",
      "257:\tlearn: 0.0024598\ttotal: 2.89s\tremaining: 8.31s\n",
      "258:\tlearn: 0.0024552\ttotal: 2.91s\tremaining: 8.32s\n",
      "259:\tlearn: 0.0024542\ttotal: 2.92s\tremaining: 8.31s\n",
      "260:\tlearn: 0.0024525\ttotal: 2.93s\tremaining: 8.29s\n",
      "261:\tlearn: 0.0024393\ttotal: 2.94s\tremaining: 8.28s\n",
      "262:\tlearn: 0.0024383\ttotal: 2.95s\tremaining: 8.26s\n",
      "263:\tlearn: 0.0024243\ttotal: 2.96s\tremaining: 8.25s\n",
      "264:\tlearn: 0.0024227\ttotal: 2.97s\tremaining: 8.23s\n",
      "265:\tlearn: 0.0024047\ttotal: 2.98s\tremaining: 8.21s\n",
      "266:\tlearn: 0.0023896\ttotal: 2.99s\tremaining: 8.2s\n",
      "267:\tlearn: 0.0023886\ttotal: 3s\tremaining: 8.19s\n",
      "268:\tlearn: 0.0023862\ttotal: 3.01s\tremaining: 8.17s\n",
      "269:\tlearn: 0.0023851\ttotal: 3.02s\tremaining: 8.15s\n",
      "270:\tlearn: 0.0023803\ttotal: 3.02s\tremaining: 8.14s\n",
      "271:\tlearn: 0.0023786\ttotal: 3.03s\tremaining: 8.12s\n",
      "272:\tlearn: 0.0023778\ttotal: 3.04s\tremaining: 8.1s\n",
      "273:\tlearn: 0.0023717\ttotal: 3.05s\tremaining: 8.08s\n",
      "274:\tlearn: 0.0023702\ttotal: 3.06s\tremaining: 8.06s\n",
      "275:\tlearn: 0.0023693\ttotal: 3.07s\tremaining: 8.04s\n",
      "276:\tlearn: 0.0023643\ttotal: 3.07s\tremaining: 8.02s\n",
      "277:\tlearn: 0.0023634\ttotal: 3.08s\tremaining: 8.01s\n",
      "278:\tlearn: 0.0023624\ttotal: 3.09s\tremaining: 7.99s\n",
      "279:\tlearn: 0.0023608\ttotal: 3.1s\tremaining: 7.97s\n",
      "280:\tlearn: 0.0023600\ttotal: 3.11s\tremaining: 7.97s\n",
      "281:\tlearn: 0.0023589\ttotal: 3.12s\tremaining: 7.95s\n",
      "282:\tlearn: 0.0023544\ttotal: 3.13s\tremaining: 7.93s\n",
      "283:\tlearn: 0.0023309\ttotal: 3.14s\tremaining: 7.92s\n",
      "284:\tlearn: 0.0023295\ttotal: 3.15s\tremaining: 7.9s\n",
      "285:\tlearn: 0.0023103\ttotal: 3.16s\tremaining: 7.88s\n",
      "286:\tlearn: 0.0023094\ttotal: 3.17s\tremaining: 7.86s\n",
      "287:\tlearn: 0.0023086\ttotal: 3.17s\tremaining: 7.85s\n",
      "288:\tlearn: 0.0023079\ttotal: 3.18s\tremaining: 7.83s\n",
      "289:\tlearn: 0.0023071\ttotal: 3.19s\tremaining: 7.82s\n",
      "290:\tlearn: 0.0023032\ttotal: 3.2s\tremaining: 7.8s\n",
      "291:\tlearn: 0.0023023\ttotal: 3.21s\tremaining: 7.78s\n",
      "292:\tlearn: 0.0022853\ttotal: 3.22s\tremaining: 7.77s\n",
      "293:\tlearn: 0.0022845\ttotal: 3.23s\tremaining: 7.75s\n",
      "294:\tlearn: 0.0022823\ttotal: 3.24s\tremaining: 7.74s\n",
      "295:\tlearn: 0.0022814\ttotal: 3.25s\tremaining: 7.72s\n",
      "296:\tlearn: 0.0022685\ttotal: 3.25s\tremaining: 7.7s\n",
      "297:\tlearn: 0.0022522\ttotal: 3.26s\tremaining: 7.69s\n",
      "298:\tlearn: 0.0022313\ttotal: 3.27s\tremaining: 7.67s\n",
      "299:\tlearn: 0.0022257\ttotal: 3.28s\tremaining: 7.66s\n",
      "300:\tlearn: 0.0022245\ttotal: 3.29s\tremaining: 7.64s\n",
      "301:\tlearn: 0.0022238\ttotal: 3.3s\tremaining: 7.62s\n",
      "302:\tlearn: 0.0022128\ttotal: 3.31s\tremaining: 7.61s\n",
      "303:\tlearn: 0.0022100\ttotal: 3.32s\tremaining: 7.59s\n",
      "304:\tlearn: 0.0022072\ttotal: 3.32s\tremaining: 7.58s\n",
      "305:\tlearn: 0.0021982\ttotal: 3.33s\tremaining: 7.56s\n",
      "306:\tlearn: 0.0021891\ttotal: 3.34s\tremaining: 7.54s\n",
      "307:\tlearn: 0.0021878\ttotal: 3.35s\tremaining: 7.53s\n",
      "308:\tlearn: 0.0021871\ttotal: 3.36s\tremaining: 7.51s\n",
      "309:\tlearn: 0.0021864\ttotal: 3.37s\tremaining: 7.49s\n",
      "310:\tlearn: 0.0021831\ttotal: 3.38s\tremaining: 7.48s\n",
      "311:\tlearn: 0.0021611\ttotal: 3.39s\tremaining: 7.47s\n",
      "312:\tlearn: 0.0021552\ttotal: 3.4s\tremaining: 7.45s\n",
      "313:\tlearn: 0.0021470\ttotal: 3.4s\tremaining: 7.44s\n",
      "314:\tlearn: 0.0021440\ttotal: 3.41s\tremaining: 7.42s\n",
      "315:\tlearn: 0.0021432\ttotal: 3.42s\tremaining: 7.41s\n",
      "316:\tlearn: 0.0021426\ttotal: 3.43s\tremaining: 7.39s\n",
      "317:\tlearn: 0.0021398\ttotal: 3.44s\tremaining: 7.38s\n",
      "318:\tlearn: 0.0021391\ttotal: 3.45s\tremaining: 7.36s\n",
      "319:\tlearn: 0.0021262\ttotal: 3.46s\tremaining: 7.35s\n",
      "320:\tlearn: 0.0021179\ttotal: 3.47s\tremaining: 7.33s\n",
      "321:\tlearn: 0.0021170\ttotal: 3.47s\tremaining: 7.32s\n",
      "322:\tlearn: 0.0021163\ttotal: 3.48s\tremaining: 7.3s\n",
      "323:\tlearn: 0.0021157\ttotal: 3.49s\tremaining: 7.28s\n",
      "324:\tlearn: 0.0021131\ttotal: 3.5s\tremaining: 7.27s\n",
      "325:\tlearn: 0.0021107\ttotal: 3.51s\tremaining: 7.25s\n",
      "326:\tlearn: 0.0021100\ttotal: 3.52s\tremaining: 7.24s\n",
      "327:\tlearn: 0.0021093\ttotal: 3.53s\tremaining: 7.23s\n"
     ]
    },
    {
     "name": "stdout",
     "output_type": "stream",
     "text": [
      "328:\tlearn: 0.0020992\ttotal: 3.54s\tremaining: 7.22s\n",
      "329:\tlearn: 0.0020982\ttotal: 3.55s\tremaining: 7.21s\n",
      "330:\tlearn: 0.0020918\ttotal: 3.56s\tremaining: 7.2s\n",
      "331:\tlearn: 0.0020743\ttotal: 3.58s\tremaining: 7.19s\n",
      "332:\tlearn: 0.0020734\ttotal: 3.59s\tremaining: 7.19s\n",
      "333:\tlearn: 0.0020726\ttotal: 3.6s\tremaining: 7.17s\n",
      "334:\tlearn: 0.0020550\ttotal: 3.61s\tremaining: 7.16s\n",
      "335:\tlearn: 0.0020445\ttotal: 3.62s\tremaining: 7.15s\n",
      "336:\tlearn: 0.0020304\ttotal: 3.63s\tremaining: 7.13s\n",
      "337:\tlearn: 0.0020204\ttotal: 3.64s\tremaining: 7.12s\n",
      "338:\tlearn: 0.0020197\ttotal: 3.65s\tremaining: 7.11s\n",
      "339:\tlearn: 0.0020174\ttotal: 3.66s\tremaining: 7.1s\n",
      "340:\tlearn: 0.0020163\ttotal: 3.67s\tremaining: 7.09s\n",
      "341:\tlearn: 0.0020141\ttotal: 3.68s\tremaining: 7.08s\n",
      "342:\tlearn: 0.0019992\ttotal: 3.69s\tremaining: 7.07s\n",
      "343:\tlearn: 0.0019985\ttotal: 3.7s\tremaining: 7.06s\n",
      "344:\tlearn: 0.0019979\ttotal: 3.71s\tremaining: 7.05s\n",
      "345:\tlearn: 0.0019942\ttotal: 3.73s\tremaining: 7.05s\n",
      "346:\tlearn: 0.0019936\ttotal: 3.75s\tremaining: 7.05s\n",
      "347:\tlearn: 0.0019931\ttotal: 3.76s\tremaining: 7.05s\n",
      "348:\tlearn: 0.0019842\ttotal: 3.78s\tremaining: 7.05s\n",
      "349:\tlearn: 0.0019758\ttotal: 3.79s\tremaining: 7.04s\n",
      "350:\tlearn: 0.0019752\ttotal: 3.81s\tremaining: 7.04s\n",
      "351:\tlearn: 0.0019746\ttotal: 3.82s\tremaining: 7.03s\n",
      "352:\tlearn: 0.0019738\ttotal: 3.83s\tremaining: 7.02s\n",
      "353:\tlearn: 0.0019730\ttotal: 3.85s\tremaining: 7.02s\n",
      "354:\tlearn: 0.0019587\ttotal: 3.86s\tremaining: 7.01s\n",
      "355:\tlearn: 0.0019564\ttotal: 3.87s\tremaining: 7s\n",
      "356:\tlearn: 0.0019557\ttotal: 3.88s\tremaining: 6.98s\n",
      "357:\tlearn: 0.0019410\ttotal: 3.89s\tremaining: 6.97s\n",
      "358:\tlearn: 0.0019189\ttotal: 3.9s\tremaining: 6.96s\n",
      "359:\tlearn: 0.0019080\ttotal: 3.91s\tremaining: 6.96s\n",
      "360:\tlearn: 0.0019071\ttotal: 3.92s\tremaining: 6.94s\n",
      "361:\tlearn: 0.0019066\ttotal: 3.93s\tremaining: 6.93s\n",
      "362:\tlearn: 0.0018973\ttotal: 3.94s\tremaining: 6.92s\n",
      "363:\tlearn: 0.0018969\ttotal: 3.96s\tremaining: 6.91s\n",
      "364:\tlearn: 0.0018959\ttotal: 3.96s\tremaining: 6.89s\n",
      "365:\tlearn: 0.0018955\ttotal: 3.97s\tremaining: 6.88s\n",
      "366:\tlearn: 0.0018946\ttotal: 3.98s\tremaining: 6.87s\n",
      "367:\tlearn: 0.0018819\ttotal: 3.99s\tremaining: 6.86s\n",
      "368:\tlearn: 0.0018797\ttotal: 4s\tremaining: 6.84s\n",
      "369:\tlearn: 0.0018671\ttotal: 4.02s\tremaining: 6.84s\n",
      "370:\tlearn: 0.0018595\ttotal: 4.03s\tremaining: 6.83s\n",
      "371:\tlearn: 0.0018522\ttotal: 4.04s\tremaining: 6.82s\n",
      "372:\tlearn: 0.0018454\ttotal: 4.05s\tremaining: 6.81s\n",
      "373:\tlearn: 0.0018449\ttotal: 4.06s\tremaining: 6.8s\n",
      "374:\tlearn: 0.0018426\ttotal: 4.07s\tremaining: 6.79s\n",
      "375:\tlearn: 0.0018418\ttotal: 4.08s\tremaining: 6.78s\n",
      "376:\tlearn: 0.0018384\ttotal: 4.1s\tremaining: 6.77s\n",
      "377:\tlearn: 0.0018376\ttotal: 4.11s\tremaining: 6.76s\n",
      "378:\tlearn: 0.0018356\ttotal: 4.12s\tremaining: 6.75s\n",
      "379:\tlearn: 0.0018343\ttotal: 4.13s\tremaining: 6.74s\n",
      "380:\tlearn: 0.0018339\ttotal: 4.14s\tremaining: 6.73s\n",
      "381:\tlearn: 0.0018334\ttotal: 4.15s\tremaining: 6.72s\n",
      "382:\tlearn: 0.0018330\ttotal: 4.16s\tremaining: 6.7s\n",
      "383:\tlearn: 0.0018158\ttotal: 4.17s\tremaining: 6.69s\n",
      "384:\tlearn: 0.0018154\ttotal: 4.18s\tremaining: 6.68s\n",
      "385:\tlearn: 0.0018135\ttotal: 4.19s\tremaining: 6.66s\n",
      "386:\tlearn: 0.0018127\ttotal: 4.2s\tremaining: 6.65s\n",
      "387:\tlearn: 0.0018110\ttotal: 4.21s\tremaining: 6.64s\n",
      "388:\tlearn: 0.0018106\ttotal: 4.22s\tremaining: 6.63s\n",
      "389:\tlearn: 0.0018076\ttotal: 4.23s\tremaining: 6.61s\n",
      "390:\tlearn: 0.0017878\ttotal: 4.24s\tremaining: 6.6s\n",
      "391:\tlearn: 0.0017862\ttotal: 4.25s\tremaining: 6.59s\n",
      "392:\tlearn: 0.0017858\ttotal: 4.26s\tremaining: 6.58s\n",
      "393:\tlearn: 0.0017842\ttotal: 4.27s\tremaining: 6.57s\n",
      "394:\tlearn: 0.0017836\ttotal: 4.28s\tremaining: 6.55s\n",
      "395:\tlearn: 0.0017830\ttotal: 4.29s\tremaining: 6.54s\n",
      "396:\tlearn: 0.0017814\ttotal: 4.3s\tremaining: 6.53s\n",
      "397:\tlearn: 0.0017770\ttotal: 4.31s\tremaining: 6.52s\n",
      "398:\tlearn: 0.0017758\ttotal: 4.32s\tremaining: 6.5s\n",
      "399:\tlearn: 0.0017743\ttotal: 4.33s\tremaining: 6.49s\n",
      "400:\tlearn: 0.0017701\ttotal: 4.34s\tremaining: 6.48s\n",
      "401:\tlearn: 0.0017696\ttotal: 4.34s\tremaining: 6.46s\n",
      "402:\tlearn: 0.0017688\ttotal: 4.35s\tremaining: 6.45s\n",
      "403:\tlearn: 0.0017641\ttotal: 4.36s\tremaining: 6.43s\n",
      "404:\tlearn: 0.0017572\ttotal: 4.37s\tremaining: 6.42s\n",
      "405:\tlearn: 0.0017565\ttotal: 4.38s\tremaining: 6.4s\n",
      "406:\tlearn: 0.0017500\ttotal: 4.38s\tremaining: 6.39s\n",
      "407:\tlearn: 0.0017435\ttotal: 4.39s\tremaining: 6.38s\n",
      "408:\tlearn: 0.0017346\ttotal: 4.4s\tremaining: 6.36s\n",
      "409:\tlearn: 0.0017342\ttotal: 4.41s\tremaining: 6.35s\n",
      "410:\tlearn: 0.0017338\ttotal: 4.42s\tremaining: 6.33s\n",
      "411:\tlearn: 0.0017316\ttotal: 4.43s\tremaining: 6.32s\n",
      "412:\tlearn: 0.0017243\ttotal: 4.44s\tremaining: 6.31s\n",
      "413:\tlearn: 0.0017238\ttotal: 4.45s\tremaining: 6.29s\n",
      "414:\tlearn: 0.0017145\ttotal: 4.46s\tremaining: 6.28s\n",
      "415:\tlearn: 0.0017140\ttotal: 4.46s\tremaining: 6.27s\n",
      "416:\tlearn: 0.0017057\ttotal: 4.47s\tremaining: 6.25s\n",
      "417:\tlearn: 0.0017052\ttotal: 4.48s\tremaining: 6.24s\n",
      "418:\tlearn: 0.0017044\ttotal: 4.49s\tremaining: 6.23s\n",
      "419:\tlearn: 0.0016927\ttotal: 4.5s\tremaining: 6.21s\n",
      "420:\tlearn: 0.0016922\ttotal: 4.51s\tremaining: 6.2s\n",
      "421:\tlearn: 0.0016903\ttotal: 4.51s\tremaining: 6.18s\n",
      "422:\tlearn: 0.0016896\ttotal: 4.52s\tremaining: 6.17s\n",
      "423:\tlearn: 0.0016887\ttotal: 4.53s\tremaining: 6.16s\n",
      "424:\tlearn: 0.0016880\ttotal: 4.54s\tremaining: 6.14s\n",
      "425:\tlearn: 0.0016863\ttotal: 4.55s\tremaining: 6.13s\n",
      "426:\tlearn: 0.0016724\ttotal: 4.56s\tremaining: 6.11s\n",
      "427:\tlearn: 0.0016710\ttotal: 4.56s\tremaining: 6.1s\n",
      "428:\tlearn: 0.0016701\ttotal: 4.57s\tremaining: 6.09s\n",
      "429:\tlearn: 0.0016695\ttotal: 4.58s\tremaining: 6.07s\n",
      "430:\tlearn: 0.0016682\ttotal: 4.59s\tremaining: 6.06s\n",
      "431:\tlearn: 0.0016638\ttotal: 4.6s\tremaining: 6.04s\n",
      "432:\tlearn: 0.0016598\ttotal: 4.61s\tremaining: 6.03s\n",
      "433:\tlearn: 0.0016570\ttotal: 4.62s\tremaining: 6.02s\n",
      "434:\tlearn: 0.0016473\ttotal: 4.63s\tremaining: 6.01s\n",
      "435:\tlearn: 0.0016460\ttotal: 4.63s\tremaining: 5.99s\n",
      "436:\tlearn: 0.0016453\ttotal: 4.64s\tremaining: 5.98s\n",
      "437:\tlearn: 0.0016445\ttotal: 4.65s\tremaining: 5.97s\n",
      "438:\tlearn: 0.0016385\ttotal: 4.66s\tremaining: 5.96s\n",
      "439:\tlearn: 0.0016379\ttotal: 4.67s\tremaining: 5.94s\n",
      "440:\tlearn: 0.0016364\ttotal: 4.68s\tremaining: 5.93s\n",
      "441:\tlearn: 0.0016201\ttotal: 4.68s\tremaining: 5.92s\n",
      "442:\tlearn: 0.0016196\ttotal: 4.69s\tremaining: 5.9s\n",
      "443:\tlearn: 0.0016171\ttotal: 4.71s\tremaining: 5.9s\n",
      "444:\tlearn: 0.0016165\ttotal: 4.73s\tremaining: 5.9s\n",
      "445:\tlearn: 0.0016108\ttotal: 4.74s\tremaining: 5.88s\n",
      "446:\tlearn: 0.0016106\ttotal: 4.75s\tremaining: 5.87s\n",
      "447:\tlearn: 0.0016052\ttotal: 4.76s\tremaining: 5.86s\n",
      "448:\tlearn: 0.0016031\ttotal: 4.77s\tremaining: 5.85s\n",
      "449:\tlearn: 0.0015967\ttotal: 4.78s\tremaining: 5.84s\n",
      "450:\tlearn: 0.0015958\ttotal: 4.79s\tremaining: 5.83s\n",
      "451:\tlearn: 0.0015940\ttotal: 4.8s\tremaining: 5.82s\n",
      "452:\tlearn: 0.0015876\ttotal: 4.81s\tremaining: 5.8s\n",
      "453:\tlearn: 0.0015867\ttotal: 4.82s\tremaining: 5.79s\n",
      "454:\tlearn: 0.0015816\ttotal: 4.82s\tremaining: 5.78s\n",
      "455:\tlearn: 0.0015811\ttotal: 4.83s\tremaining: 5.77s\n",
      "456:\tlearn: 0.0015735\ttotal: 4.84s\tremaining: 5.75s\n",
      "457:\tlearn: 0.0015651\ttotal: 4.85s\tremaining: 5.74s\n",
      "458:\tlearn: 0.0015566\ttotal: 4.86s\tremaining: 5.73s\n",
      "459:\tlearn: 0.0015554\ttotal: 4.87s\tremaining: 5.71s\n",
      "460:\tlearn: 0.0015539\ttotal: 4.88s\tremaining: 5.7s\n",
      "461:\tlearn: 0.0015535\ttotal: 4.88s\tremaining: 5.69s\n",
      "462:\tlearn: 0.0015533\ttotal: 4.89s\tremaining: 5.68s\n",
      "463:\tlearn: 0.0015492\ttotal: 4.91s\tremaining: 5.67s\n",
      "464:\tlearn: 0.0015382\ttotal: 4.92s\tremaining: 5.66s\n",
      "465:\tlearn: 0.0015378\ttotal: 4.92s\tremaining: 5.64s\n",
      "466:\tlearn: 0.0015374\ttotal: 4.93s\tremaining: 5.63s\n",
      "467:\tlearn: 0.0015371\ttotal: 4.94s\tremaining: 5.62s\n",
      "468:\tlearn: 0.0015303\ttotal: 4.95s\tremaining: 5.6s\n",
      "469:\tlearn: 0.0015241\ttotal: 4.96s\tremaining: 5.59s\n",
      "470:\tlearn: 0.0015238\ttotal: 4.97s\tremaining: 5.58s\n",
      "471:\tlearn: 0.0015176\ttotal: 4.97s\tremaining: 5.57s\n",
      "472:\tlearn: 0.0015160\ttotal: 4.98s\tremaining: 5.55s\n",
      "473:\tlearn: 0.0015157\ttotal: 4.99s\tremaining: 5.54s\n",
      "474:\tlearn: 0.0015065\ttotal: 5s\tremaining: 5.53s\n",
      "475:\tlearn: 0.0014944\ttotal: 5.01s\tremaining: 5.51s\n",
      "476:\tlearn: 0.0014894\ttotal: 5.02s\tremaining: 5.5s\n",
      "477:\tlearn: 0.0014801\ttotal: 5.03s\tremaining: 5.49s\n",
      "478:\tlearn: 0.0014714\ttotal: 5.04s\tremaining: 5.48s\n",
      "479:\tlearn: 0.0014712\ttotal: 5.04s\tremaining: 5.46s\n",
      "480:\tlearn: 0.0014709\ttotal: 5.05s\tremaining: 5.45s\n",
      "481:\tlearn: 0.0014619\ttotal: 5.06s\tremaining: 5.44s\n",
      "482:\tlearn: 0.0014550\ttotal: 5.07s\tremaining: 5.43s\n",
      "483:\tlearn: 0.0014547\ttotal: 5.08s\tremaining: 5.42s\n",
      "484:\tlearn: 0.0014545\ttotal: 5.09s\tremaining: 5.4s\n",
      "485:\tlearn: 0.0014541\ttotal: 5.1s\tremaining: 5.39s\n",
      "486:\tlearn: 0.0014470\ttotal: 5.11s\tremaining: 5.38s\n",
      "487:\tlearn: 0.0014467\ttotal: 5.11s\tremaining: 5.37s\n",
      "488:\tlearn: 0.0014381\ttotal: 5.12s\tremaining: 5.35s\n",
      "489:\tlearn: 0.0014285\ttotal: 5.13s\tremaining: 5.34s\n",
      "490:\tlearn: 0.0014163\ttotal: 5.14s\tremaining: 5.33s\n",
      "491:\tlearn: 0.0014161\ttotal: 5.15s\tremaining: 5.32s\n",
      "492:\tlearn: 0.0014091\ttotal: 5.16s\tremaining: 5.3s\n",
      "493:\tlearn: 0.0014037\ttotal: 5.17s\tremaining: 5.29s\n",
      "494:\tlearn: 0.0014035\ttotal: 5.17s\tremaining: 5.28s\n",
      "495:\tlearn: 0.0013969\ttotal: 5.18s\tremaining: 5.26s\n",
      "496:\tlearn: 0.0013966\ttotal: 5.19s\tremaining: 5.25s\n",
      "497:\tlearn: 0.0013883\ttotal: 5.2s\tremaining: 5.24s\n",
      "498:\tlearn: 0.0013774\ttotal: 5.21s\tremaining: 5.23s\n",
      "499:\tlearn: 0.0013696\ttotal: 5.22s\tremaining: 5.22s\n",
      "500:\tlearn: 0.0013673\ttotal: 5.22s\tremaining: 5.2s\n",
      "501:\tlearn: 0.0013645\ttotal: 5.23s\tremaining: 5.19s\n",
      "502:\tlearn: 0.0013642\ttotal: 5.24s\tremaining: 5.18s\n"
     ]
    },
    {
     "name": "stdout",
     "output_type": "stream",
     "text": [
      "503:\tlearn: 0.0013594\ttotal: 5.25s\tremaining: 5.17s\n",
      "504:\tlearn: 0.0013591\ttotal: 5.26s\tremaining: 5.16s\n",
      "505:\tlearn: 0.0013589\ttotal: 5.27s\tremaining: 5.14s\n",
      "506:\tlearn: 0.0013537\ttotal: 5.28s\tremaining: 5.13s\n",
      "507:\tlearn: 0.0013471\ttotal: 5.29s\tremaining: 5.12s\n",
      "508:\tlearn: 0.0013469\ttotal: 5.29s\tremaining: 5.11s\n",
      "509:\tlearn: 0.0013410\ttotal: 5.3s\tremaining: 5.1s\n",
      "510:\tlearn: 0.0013314\ttotal: 5.31s\tremaining: 5.08s\n",
      "511:\tlearn: 0.0013254\ttotal: 5.32s\tremaining: 5.07s\n",
      "512:\tlearn: 0.0013200\ttotal: 5.33s\tremaining: 5.06s\n",
      "513:\tlearn: 0.0013133\ttotal: 5.34s\tremaining: 5.05s\n",
      "514:\tlearn: 0.0013118\ttotal: 5.35s\tremaining: 5.04s\n",
      "515:\tlearn: 0.0013061\ttotal: 5.36s\tremaining: 5.03s\n",
      "516:\tlearn: 0.0013014\ttotal: 5.37s\tremaining: 5.01s\n",
      "517:\tlearn: 0.0012939\ttotal: 5.38s\tremaining: 5s\n",
      "518:\tlearn: 0.0012848\ttotal: 5.39s\tremaining: 4.99s\n",
      "519:\tlearn: 0.0012806\ttotal: 5.39s\tremaining: 4.98s\n",
      "520:\tlearn: 0.0012743\ttotal: 5.4s\tremaining: 4.97s\n",
      "521:\tlearn: 0.0012689\ttotal: 5.41s\tremaining: 4.95s\n",
      "522:\tlearn: 0.0012637\ttotal: 5.42s\tremaining: 4.94s\n",
      "523:\tlearn: 0.0012558\ttotal: 5.43s\tremaining: 4.93s\n",
      "524:\tlearn: 0.0012478\ttotal: 5.44s\tremaining: 4.92s\n",
      "525:\tlearn: 0.0012475\ttotal: 5.45s\tremaining: 4.91s\n",
      "526:\tlearn: 0.0012391\ttotal: 5.46s\tremaining: 4.9s\n",
      "527:\tlearn: 0.0012317\ttotal: 5.46s\tremaining: 4.88s\n",
      "528:\tlearn: 0.0012306\ttotal: 5.47s\tremaining: 4.87s\n",
      "529:\tlearn: 0.0012302\ttotal: 5.48s\tremaining: 4.86s\n",
      "530:\tlearn: 0.0012254\ttotal: 5.49s\tremaining: 4.85s\n",
      "531:\tlearn: 0.0012251\ttotal: 5.5s\tremaining: 4.83s\n",
      "532:\tlearn: 0.0012199\ttotal: 5.5s\tremaining: 4.82s\n",
      "533:\tlearn: 0.0012196\ttotal: 5.51s\tremaining: 4.81s\n",
      "534:\tlearn: 0.0012125\ttotal: 5.52s\tremaining: 4.8s\n",
      "535:\tlearn: 0.0012072\ttotal: 5.53s\tremaining: 4.79s\n",
      "536:\tlearn: 0.0012028\ttotal: 5.54s\tremaining: 4.78s\n",
      "537:\tlearn: 0.0011965\ttotal: 5.55s\tremaining: 4.76s\n",
      "538:\tlearn: 0.0011910\ttotal: 5.56s\tremaining: 4.75s\n",
      "539:\tlearn: 0.0011908\ttotal: 5.56s\tremaining: 4.74s\n",
      "540:\tlearn: 0.0011905\ttotal: 5.57s\tremaining: 4.73s\n",
      "541:\tlearn: 0.0011811\ttotal: 5.58s\tremaining: 4.72s\n",
      "542:\tlearn: 0.0011746\ttotal: 5.59s\tremaining: 4.7s\n",
      "543:\tlearn: 0.0011679\ttotal: 5.6s\tremaining: 4.69s\n",
      "544:\tlearn: 0.0011645\ttotal: 5.61s\tremaining: 4.68s\n",
      "545:\tlearn: 0.0011559\ttotal: 5.62s\tremaining: 4.67s\n",
      "546:\tlearn: 0.0011518\ttotal: 5.63s\tremaining: 4.66s\n",
      "547:\tlearn: 0.0011483\ttotal: 5.63s\tremaining: 4.65s\n",
      "548:\tlearn: 0.0011482\ttotal: 5.64s\tremaining: 4.64s\n",
      "549:\tlearn: 0.0011438\ttotal: 5.65s\tremaining: 4.62s\n",
      "550:\tlearn: 0.0011436\ttotal: 5.66s\tremaining: 4.61s\n",
      "551:\tlearn: 0.0011399\ttotal: 5.67s\tremaining: 4.6s\n",
      "552:\tlearn: 0.0011397\ttotal: 5.68s\tremaining: 4.59s\n",
      "553:\tlearn: 0.0011348\ttotal: 5.69s\tremaining: 4.58s\n",
      "554:\tlearn: 0.0011316\ttotal: 5.69s\tremaining: 4.57s\n",
      "555:\tlearn: 0.0011268\ttotal: 5.7s\tremaining: 4.55s\n",
      "556:\tlearn: 0.0011227\ttotal: 5.71s\tremaining: 4.54s\n",
      "557:\tlearn: 0.0011224\ttotal: 5.72s\tremaining: 4.53s\n",
      "558:\tlearn: 0.0011192\ttotal: 5.73s\tremaining: 4.52s\n",
      "559:\tlearn: 0.0011124\ttotal: 5.74s\tremaining: 4.51s\n",
      "560:\tlearn: 0.0011122\ttotal: 5.74s\tremaining: 4.5s\n",
      "561:\tlearn: 0.0011084\ttotal: 5.75s\tremaining: 4.48s\n",
      "562:\tlearn: 0.0011030\ttotal: 5.76s\tremaining: 4.47s\n",
      "563:\tlearn: 0.0010986\ttotal: 5.77s\tremaining: 4.46s\n",
      "564:\tlearn: 0.0010948\ttotal: 5.78s\tremaining: 4.45s\n",
      "565:\tlearn: 0.0010901\ttotal: 5.79s\tremaining: 4.44s\n",
      "566:\tlearn: 0.0010854\ttotal: 5.8s\tremaining: 4.43s\n",
      "567:\tlearn: 0.0010815\ttotal: 5.81s\tremaining: 4.42s\n",
      "568:\tlearn: 0.0010761\ttotal: 5.82s\tremaining: 4.41s\n",
      "569:\tlearn: 0.0010719\ttotal: 5.83s\tremaining: 4.4s\n",
      "570:\tlearn: 0.0010712\ttotal: 5.84s\tremaining: 4.39s\n",
      "571:\tlearn: 0.0010695\ttotal: 5.85s\tremaining: 4.38s\n",
      "572:\tlearn: 0.0010649\ttotal: 5.86s\tremaining: 4.37s\n",
      "573:\tlearn: 0.0010602\ttotal: 5.87s\tremaining: 4.35s\n",
      "574:\tlearn: 0.0010548\ttotal: 5.88s\tremaining: 4.34s\n",
      "575:\tlearn: 0.0010514\ttotal: 5.88s\tremaining: 4.33s\n",
      "576:\tlearn: 0.0010480\ttotal: 5.89s\tremaining: 4.32s\n",
      "577:\tlearn: 0.0010478\ttotal: 5.9s\tremaining: 4.31s\n",
      "578:\tlearn: 0.0010442\ttotal: 5.91s\tremaining: 4.3s\n",
      "579:\tlearn: 0.0010393\ttotal: 5.92s\tremaining: 4.29s\n",
      "580:\tlearn: 0.0010389\ttotal: 5.92s\tremaining: 4.27s\n",
      "581:\tlearn: 0.0010323\ttotal: 5.93s\tremaining: 4.26s\n",
      "582:\tlearn: 0.0010322\ttotal: 5.94s\tremaining: 4.25s\n",
      "583:\tlearn: 0.0010284\ttotal: 5.95s\tremaining: 4.24s\n",
      "584:\tlearn: 0.0010246\ttotal: 5.96s\tremaining: 4.23s\n",
      "585:\tlearn: 0.0010214\ttotal: 5.97s\tremaining: 4.22s\n",
      "586:\tlearn: 0.0010213\ttotal: 5.98s\tremaining: 4.21s\n",
      "587:\tlearn: 0.0010181\ttotal: 5.99s\tremaining: 4.2s\n",
      "588:\tlearn: 0.0010149\ttotal: 6s\tremaining: 4.18s\n",
      "589:\tlearn: 0.0010147\ttotal: 6s\tremaining: 4.17s\n",
      "590:\tlearn: 0.0010094\ttotal: 6.01s\tremaining: 4.16s\n",
      "591:\tlearn: 0.0010055\ttotal: 6.02s\tremaining: 4.15s\n",
      "592:\tlearn: 0.0009999\ttotal: 6.03s\tremaining: 4.14s\n",
      "593:\tlearn: 0.0009952\ttotal: 6.04s\tremaining: 4.13s\n",
      "594:\tlearn: 0.0009951\ttotal: 6.05s\tremaining: 4.12s\n",
      "595:\tlearn: 0.0009925\ttotal: 6.05s\tremaining: 4.11s\n",
      "596:\tlearn: 0.0009901\ttotal: 6.06s\tremaining: 4.09s\n",
      "597:\tlearn: 0.0009849\ttotal: 6.07s\tremaining: 4.08s\n",
      "598:\tlearn: 0.0009819\ttotal: 6.08s\tremaining: 4.07s\n",
      "599:\tlearn: 0.0009781\ttotal: 6.09s\tremaining: 4.06s\n",
      "600:\tlearn: 0.0009764\ttotal: 6.1s\tremaining: 4.05s\n",
      "601:\tlearn: 0.0009714\ttotal: 6.11s\tremaining: 4.04s\n",
      "602:\tlearn: 0.0009709\ttotal: 6.11s\tremaining: 4.02s\n",
      "603:\tlearn: 0.0009677\ttotal: 6.12s\tremaining: 4.01s\n",
      "604:\tlearn: 0.0009608\ttotal: 6.13s\tremaining: 4s\n",
      "605:\tlearn: 0.0009607\ttotal: 6.14s\tremaining: 3.99s\n",
      "606:\tlearn: 0.0009576\ttotal: 6.15s\tremaining: 3.98s\n",
      "607:\tlearn: 0.0009557\ttotal: 6.16s\tremaining: 3.97s\n",
      "608:\tlearn: 0.0009533\ttotal: 6.17s\tremaining: 3.96s\n",
      "609:\tlearn: 0.0009510\ttotal: 6.17s\tremaining: 3.95s\n",
      "610:\tlearn: 0.0009477\ttotal: 6.18s\tremaining: 3.94s\n",
      "611:\tlearn: 0.0009457\ttotal: 6.19s\tremaining: 3.93s\n",
      "612:\tlearn: 0.0009418\ttotal: 6.2s\tremaining: 3.91s\n",
      "613:\tlearn: 0.0009384\ttotal: 6.21s\tremaining: 3.9s\n",
      "614:\tlearn: 0.0009383\ttotal: 6.22s\tremaining: 3.89s\n",
      "615:\tlearn: 0.0009352\ttotal: 6.22s\tremaining: 3.88s\n",
      "616:\tlearn: 0.0009315\ttotal: 6.23s\tremaining: 3.87s\n",
      "617:\tlearn: 0.0009293\ttotal: 6.24s\tremaining: 3.86s\n",
      "618:\tlearn: 0.0009255\ttotal: 6.25s\tremaining: 3.85s\n",
      "619:\tlearn: 0.0009214\ttotal: 6.26s\tremaining: 3.84s\n",
      "620:\tlearn: 0.0009212\ttotal: 6.27s\tremaining: 3.83s\n",
      "621:\tlearn: 0.0009162\ttotal: 6.28s\tremaining: 3.81s\n",
      "622:\tlearn: 0.0009120\ttotal: 6.29s\tremaining: 3.8s\n",
      "623:\tlearn: 0.0009078\ttotal: 6.29s\tremaining: 3.79s\n",
      "624:\tlearn: 0.0009077\ttotal: 6.3s\tremaining: 3.78s\n",
      "625:\tlearn: 0.0009056\ttotal: 6.31s\tremaining: 3.77s\n",
      "626:\tlearn: 0.0009054\ttotal: 6.32s\tremaining: 3.76s\n",
      "627:\tlearn: 0.0009053\ttotal: 6.33s\tremaining: 3.75s\n",
      "628:\tlearn: 0.0009032\ttotal: 6.34s\tremaining: 3.74s\n",
      "629:\tlearn: 0.0009012\ttotal: 6.35s\tremaining: 3.73s\n",
      "630:\tlearn: 0.0009011\ttotal: 6.35s\tremaining: 3.71s\n",
      "631:\tlearn: 0.0008992\ttotal: 6.36s\tremaining: 3.7s\n",
      "632:\tlearn: 0.0008991\ttotal: 6.37s\tremaining: 3.69s\n",
      "633:\tlearn: 0.0008949\ttotal: 6.38s\tremaining: 3.68s\n",
      "634:\tlearn: 0.0008946\ttotal: 6.39s\tremaining: 3.67s\n",
      "635:\tlearn: 0.0008919\ttotal: 6.39s\tremaining: 3.66s\n",
      "636:\tlearn: 0.0008897\ttotal: 6.4s\tremaining: 3.65s\n",
      "637:\tlearn: 0.0008867\ttotal: 6.41s\tremaining: 3.64s\n",
      "638:\tlearn: 0.0008845\ttotal: 6.42s\tremaining: 3.63s\n",
      "639:\tlearn: 0.0008818\ttotal: 6.43s\tremaining: 3.62s\n",
      "640:\tlearn: 0.0008817\ttotal: 6.44s\tremaining: 3.6s\n",
      "641:\tlearn: 0.0008780\ttotal: 6.45s\tremaining: 3.59s\n",
      "642:\tlearn: 0.0008745\ttotal: 6.45s\tremaining: 3.58s\n",
      "643:\tlearn: 0.0008718\ttotal: 6.46s\tremaining: 3.57s\n",
      "644:\tlearn: 0.0008716\ttotal: 6.47s\tremaining: 3.56s\n",
      "645:\tlearn: 0.0008700\ttotal: 6.48s\tremaining: 3.55s\n",
      "646:\tlearn: 0.0008679\ttotal: 6.49s\tremaining: 3.54s\n",
      "647:\tlearn: 0.0008653\ttotal: 6.49s\tremaining: 3.53s\n",
      "648:\tlearn: 0.0008653\ttotal: 6.5s\tremaining: 3.52s\n",
      "649:\tlearn: 0.0008614\ttotal: 6.51s\tremaining: 3.51s\n",
      "650:\tlearn: 0.0008586\ttotal: 6.52s\tremaining: 3.5s\n",
      "651:\tlearn: 0.0008570\ttotal: 6.53s\tremaining: 3.49s\n",
      "652:\tlearn: 0.0008543\ttotal: 6.54s\tremaining: 3.48s\n",
      "653:\tlearn: 0.0008506\ttotal: 6.55s\tremaining: 3.46s\n",
      "654:\tlearn: 0.0008472\ttotal: 6.56s\tremaining: 3.45s\n",
      "655:\tlearn: 0.0008462\ttotal: 6.56s\tremaining: 3.44s\n",
      "656:\tlearn: 0.0008426\ttotal: 6.57s\tremaining: 3.43s\n",
      "657:\tlearn: 0.0008403\ttotal: 6.58s\tremaining: 3.42s\n",
      "658:\tlearn: 0.0008374\ttotal: 6.59s\tremaining: 3.41s\n",
      "659:\tlearn: 0.0008336\ttotal: 6.6s\tremaining: 3.4s\n",
      "660:\tlearn: 0.0008321\ttotal: 6.61s\tremaining: 3.39s\n",
      "661:\tlearn: 0.0008320\ttotal: 6.61s\tremaining: 3.38s\n",
      "662:\tlearn: 0.0008285\ttotal: 6.62s\tremaining: 3.37s\n",
      "663:\tlearn: 0.0008250\ttotal: 6.63s\tremaining: 3.35s\n",
      "664:\tlearn: 0.0008249\ttotal: 6.64s\tremaining: 3.34s\n",
      "665:\tlearn: 0.0008231\ttotal: 6.65s\tremaining: 3.33s\n",
      "666:\tlearn: 0.0008230\ttotal: 6.66s\tremaining: 3.32s\n",
      "667:\tlearn: 0.0008213\ttotal: 6.66s\tremaining: 3.31s\n"
     ]
    },
    {
     "name": "stdout",
     "output_type": "stream",
     "text": [
      "668:\tlearn: 0.0008179\ttotal: 6.67s\tremaining: 3.3s\n",
      "669:\tlearn: 0.0008147\ttotal: 6.68s\tremaining: 3.29s\n",
      "670:\tlearn: 0.0008145\ttotal: 6.69s\tremaining: 3.28s\n",
      "671:\tlearn: 0.0008123\ttotal: 6.7s\tremaining: 3.27s\n",
      "672:\tlearn: 0.0008097\ttotal: 6.71s\tremaining: 3.26s\n",
      "673:\tlearn: 0.0008062\ttotal: 6.72s\tremaining: 3.25s\n",
      "674:\tlearn: 0.0008028\ttotal: 6.73s\tremaining: 3.24s\n",
      "675:\tlearn: 0.0008027\ttotal: 6.74s\tremaining: 3.23s\n",
      "676:\tlearn: 0.0008025\ttotal: 6.75s\tremaining: 3.22s\n",
      "677:\tlearn: 0.0007996\ttotal: 6.75s\tremaining: 3.21s\n",
      "678:\tlearn: 0.0007975\ttotal: 6.76s\tremaining: 3.2s\n",
      "679:\tlearn: 0.0007955\ttotal: 6.77s\tremaining: 3.19s\n",
      "680:\tlearn: 0.0007954\ttotal: 6.78s\tremaining: 3.18s\n",
      "681:\tlearn: 0.0007953\ttotal: 6.79s\tremaining: 3.17s\n",
      "682:\tlearn: 0.0007938\ttotal: 6.8s\tremaining: 3.15s\n",
      "683:\tlearn: 0.0007913\ttotal: 6.8s\tremaining: 3.14s\n",
      "684:\tlearn: 0.0007900\ttotal: 6.81s\tremaining: 3.13s\n",
      "685:\tlearn: 0.0007868\ttotal: 6.82s\tremaining: 3.12s\n",
      "686:\tlearn: 0.0007867\ttotal: 6.83s\tremaining: 3.11s\n",
      "687:\tlearn: 0.0007854\ttotal: 6.84s\tremaining: 3.1s\n",
      "688:\tlearn: 0.0007837\ttotal: 6.85s\tremaining: 3.09s\n",
      "689:\tlearn: 0.0007835\ttotal: 6.86s\tremaining: 3.08s\n",
      "690:\tlearn: 0.0007834\ttotal: 6.87s\tremaining: 3.07s\n",
      "691:\tlearn: 0.0007795\ttotal: 6.87s\tremaining: 3.06s\n",
      "692:\tlearn: 0.0007770\ttotal: 6.88s\tremaining: 3.05s\n",
      "693:\tlearn: 0.0007745\ttotal: 6.89s\tremaining: 3.04s\n",
      "694:\tlearn: 0.0007744\ttotal: 6.9s\tremaining: 3.03s\n",
      "695:\tlearn: 0.0007725\ttotal: 6.91s\tremaining: 3.02s\n",
      "696:\tlearn: 0.0007708\ttotal: 6.92s\tremaining: 3.01s\n",
      "697:\tlearn: 0.0007707\ttotal: 6.92s\tremaining: 3s\n",
      "698:\tlearn: 0.0007688\ttotal: 6.93s\tremaining: 2.98s\n",
      "699:\tlearn: 0.0007687\ttotal: 6.94s\tremaining: 2.97s\n",
      "700:\tlearn: 0.0007667\ttotal: 6.95s\tremaining: 2.96s\n",
      "701:\tlearn: 0.0007641\ttotal: 6.96s\tremaining: 2.95s\n",
      "702:\tlearn: 0.0007622\ttotal: 6.96s\tremaining: 2.94s\n",
      "703:\tlearn: 0.0007603\ttotal: 6.97s\tremaining: 2.93s\n",
      "704:\tlearn: 0.0007602\ttotal: 6.98s\tremaining: 2.92s\n",
      "705:\tlearn: 0.0007586\ttotal: 6.99s\tremaining: 2.91s\n",
      "706:\tlearn: 0.0007566\ttotal: 7s\tremaining: 2.9s\n",
      "707:\tlearn: 0.0007565\ttotal: 7.01s\tremaining: 2.89s\n",
      "708:\tlearn: 0.0007534\ttotal: 7.01s\tremaining: 2.88s\n",
      "709:\tlearn: 0.0007498\ttotal: 7.02s\tremaining: 2.87s\n",
      "710:\tlearn: 0.0007462\ttotal: 7.03s\tremaining: 2.86s\n",
      "711:\tlearn: 0.0007442\ttotal: 7.04s\tremaining: 2.85s\n",
      "712:\tlearn: 0.0007441\ttotal: 7.05s\tremaining: 2.84s\n",
      "713:\tlearn: 0.0007441\ttotal: 7.06s\tremaining: 2.83s\n",
      "714:\tlearn: 0.0007424\ttotal: 7.07s\tremaining: 2.82s\n",
      "715:\tlearn: 0.0007401\ttotal: 7.08s\tremaining: 2.81s\n",
      "716:\tlearn: 0.0007399\ttotal: 7.08s\tremaining: 2.8s\n",
      "717:\tlearn: 0.0007380\ttotal: 7.09s\tremaining: 2.79s\n",
      "718:\tlearn: 0.0007364\ttotal: 7.1s\tremaining: 2.77s\n",
      "719:\tlearn: 0.0007363\ttotal: 7.11s\tremaining: 2.76s\n",
      "720:\tlearn: 0.0007336\ttotal: 7.12s\tremaining: 2.75s\n",
      "721:\tlearn: 0.0007335\ttotal: 7.12s\tremaining: 2.74s\n",
      "722:\tlearn: 0.0007322\ttotal: 7.13s\tremaining: 2.73s\n",
      "723:\tlearn: 0.0007318\ttotal: 7.14s\tremaining: 2.72s\n",
      "724:\tlearn: 0.0007300\ttotal: 7.15s\tremaining: 2.71s\n",
      "725:\tlearn: 0.0007288\ttotal: 7.16s\tremaining: 2.7s\n",
      "726:\tlearn: 0.0007287\ttotal: 7.17s\tremaining: 2.69s\n",
      "727:\tlearn: 0.0007277\ttotal: 7.17s\tremaining: 2.68s\n",
      "728:\tlearn: 0.0007256\ttotal: 7.18s\tremaining: 2.67s\n",
      "729:\tlearn: 0.0007255\ttotal: 7.19s\tremaining: 2.66s\n",
      "730:\tlearn: 0.0007238\ttotal: 7.2s\tremaining: 2.65s\n",
      "731:\tlearn: 0.0007209\ttotal: 7.21s\tremaining: 2.64s\n",
      "732:\tlearn: 0.0007197\ttotal: 7.22s\tremaining: 2.63s\n",
      "733:\tlearn: 0.0007184\ttotal: 7.23s\tremaining: 2.62s\n",
      "734:\tlearn: 0.0007184\ttotal: 7.23s\tremaining: 2.61s\n",
      "735:\tlearn: 0.0007167\ttotal: 7.24s\tremaining: 2.6s\n",
      "736:\tlearn: 0.0007167\ttotal: 7.25s\tremaining: 2.59s\n",
      "737:\tlearn: 0.0007157\ttotal: 7.26s\tremaining: 2.58s\n",
      "738:\tlearn: 0.0007140\ttotal: 7.27s\tremaining: 2.57s\n",
      "739:\tlearn: 0.0007124\ttotal: 7.28s\tremaining: 2.56s\n",
      "740:\tlearn: 0.0007107\ttotal: 7.28s\tremaining: 2.54s\n",
      "741:\tlearn: 0.0007088\ttotal: 7.29s\tremaining: 2.54s\n",
      "742:\tlearn: 0.0007067\ttotal: 7.3s\tremaining: 2.52s\n",
      "743:\tlearn: 0.0007041\ttotal: 7.31s\tremaining: 2.51s\n",
      "744:\tlearn: 0.0007031\ttotal: 7.32s\tremaining: 2.5s\n",
      "745:\tlearn: 0.0007022\ttotal: 7.33s\tremaining: 2.49s\n",
      "746:\tlearn: 0.0007021\ttotal: 7.33s\tremaining: 2.48s\n",
      "747:\tlearn: 0.0007020\ttotal: 7.34s\tremaining: 2.47s\n",
      "748:\tlearn: 0.0007010\ttotal: 7.35s\tremaining: 2.46s\n",
      "749:\tlearn: 0.0006997\ttotal: 7.36s\tremaining: 2.45s\n",
      "750:\tlearn: 0.0006974\ttotal: 7.37s\tremaining: 2.44s\n",
      "751:\tlearn: 0.0006949\ttotal: 7.37s\tremaining: 2.43s\n",
      "752:\tlearn: 0.0006931\ttotal: 7.38s\tremaining: 2.42s\n",
      "753:\tlearn: 0.0006930\ttotal: 7.39s\tremaining: 2.41s\n",
      "754:\tlearn: 0.0006901\ttotal: 7.4s\tremaining: 2.4s\n",
      "755:\tlearn: 0.0006900\ttotal: 7.41s\tremaining: 2.39s\n",
      "756:\tlearn: 0.0006889\ttotal: 7.42s\tremaining: 2.38s\n",
      "757:\tlearn: 0.0006865\ttotal: 7.43s\tremaining: 2.37s\n",
      "758:\tlearn: 0.0006841\ttotal: 7.44s\tremaining: 2.36s\n",
      "759:\tlearn: 0.0006830\ttotal: 7.45s\tremaining: 2.35s\n",
      "760:\tlearn: 0.0006830\ttotal: 7.45s\tremaining: 2.34s\n",
      "761:\tlearn: 0.0006813\ttotal: 7.46s\tremaining: 2.33s\n",
      "762:\tlearn: 0.0006795\ttotal: 7.47s\tremaining: 2.32s\n",
      "763:\tlearn: 0.0006794\ttotal: 7.48s\tremaining: 2.31s\n",
      "764:\tlearn: 0.0006781\ttotal: 7.49s\tremaining: 2.3s\n",
      "765:\tlearn: 0.0006780\ttotal: 7.49s\tremaining: 2.29s\n",
      "766:\tlearn: 0.0006757\ttotal: 7.5s\tremaining: 2.28s\n",
      "767:\tlearn: 0.0006723\ttotal: 7.51s\tremaining: 2.27s\n",
      "768:\tlearn: 0.0006723\ttotal: 7.52s\tremaining: 2.26s\n",
      "769:\tlearn: 0.0006714\ttotal: 7.53s\tremaining: 2.25s\n",
      "770:\tlearn: 0.0006706\ttotal: 7.54s\tremaining: 2.24s\n",
      "771:\tlearn: 0.0006684\ttotal: 7.54s\tremaining: 2.23s\n",
      "772:\tlearn: 0.0006662\ttotal: 7.55s\tremaining: 2.22s\n",
      "773:\tlearn: 0.0006641\ttotal: 7.56s\tremaining: 2.21s\n",
      "774:\tlearn: 0.0006641\ttotal: 7.57s\tremaining: 2.2s\n",
      "775:\tlearn: 0.0006633\ttotal: 7.58s\tremaining: 2.19s\n",
      "776:\tlearn: 0.0006621\ttotal: 7.59s\tremaining: 2.18s\n",
      "777:\tlearn: 0.0006612\ttotal: 7.6s\tremaining: 2.17s\n",
      "778:\tlearn: 0.0006601\ttotal: 7.61s\tremaining: 2.16s\n",
      "779:\tlearn: 0.0006584\ttotal: 7.62s\tremaining: 2.15s\n",
      "780:\tlearn: 0.0006573\ttotal: 7.63s\tremaining: 2.14s\n",
      "781:\tlearn: 0.0006562\ttotal: 7.64s\tremaining: 2.13s\n",
      "782:\tlearn: 0.0006543\ttotal: 7.64s\tremaining: 2.12s\n",
      "783:\tlearn: 0.0006533\ttotal: 7.65s\tremaining: 2.11s\n",
      "784:\tlearn: 0.0006533\ttotal: 7.66s\tremaining: 2.1s\n",
      "785:\tlearn: 0.0006519\ttotal: 7.67s\tremaining: 2.09s\n",
      "786:\tlearn: 0.0006509\ttotal: 7.68s\tremaining: 2.08s\n",
      "787:\tlearn: 0.0006495\ttotal: 7.69s\tremaining: 2.07s\n",
      "788:\tlearn: 0.0006494\ttotal: 7.7s\tremaining: 2.06s\n",
      "789:\tlearn: 0.0006477\ttotal: 7.71s\tremaining: 2.05s\n",
      "790:\tlearn: 0.0006477\ttotal: 7.71s\tremaining: 2.04s\n",
      "791:\tlearn: 0.0006464\ttotal: 7.72s\tremaining: 2.03s\n",
      "792:\tlearn: 0.0006452\ttotal: 7.73s\tremaining: 2.02s\n",
      "793:\tlearn: 0.0006424\ttotal: 7.74s\tremaining: 2.01s\n",
      "794:\tlearn: 0.0006414\ttotal: 7.75s\tremaining: 2s\n",
      "795:\tlearn: 0.0006405\ttotal: 7.76s\tremaining: 1.99s\n",
      "796:\tlearn: 0.0006395\ttotal: 7.77s\tremaining: 1.98s\n",
      "797:\tlearn: 0.0006383\ttotal: 7.78s\tremaining: 1.97s\n",
      "798:\tlearn: 0.0006383\ttotal: 7.79s\tremaining: 1.96s\n",
      "799:\tlearn: 0.0006362\ttotal: 7.79s\tremaining: 1.95s\n",
      "800:\tlearn: 0.0006361\ttotal: 7.8s\tremaining: 1.94s\n",
      "801:\tlearn: 0.0006341\ttotal: 7.81s\tremaining: 1.93s\n",
      "802:\tlearn: 0.0006322\ttotal: 7.82s\tremaining: 1.92s\n",
      "803:\tlearn: 0.0006296\ttotal: 7.83s\tremaining: 1.91s\n",
      "804:\tlearn: 0.0006276\ttotal: 7.83s\tremaining: 1.9s\n",
      "805:\tlearn: 0.0006270\ttotal: 7.84s\tremaining: 1.89s\n",
      "806:\tlearn: 0.0006261\ttotal: 7.85s\tremaining: 1.88s\n",
      "807:\tlearn: 0.0006252\ttotal: 7.86s\tremaining: 1.87s\n",
      "808:\tlearn: 0.0006251\ttotal: 7.87s\tremaining: 1.86s\n",
      "809:\tlearn: 0.0006232\ttotal: 7.88s\tremaining: 1.85s\n",
      "810:\tlearn: 0.0006213\ttotal: 7.88s\tremaining: 1.84s\n",
      "811:\tlearn: 0.0006212\ttotal: 7.89s\tremaining: 1.83s\n",
      "812:\tlearn: 0.0006199\ttotal: 7.9s\tremaining: 1.82s\n",
      "813:\tlearn: 0.0006180\ttotal: 7.91s\tremaining: 1.81s\n",
      "814:\tlearn: 0.0006161\ttotal: 7.92s\tremaining: 1.8s\n",
      "815:\tlearn: 0.0006145\ttotal: 7.93s\tremaining: 1.79s\n",
      "816:\tlearn: 0.0006137\ttotal: 7.94s\tremaining: 1.78s\n",
      "817:\tlearn: 0.0006136\ttotal: 7.95s\tremaining: 1.77s\n",
      "818:\tlearn: 0.0006118\ttotal: 7.95s\tremaining: 1.76s\n",
      "819:\tlearn: 0.0006102\ttotal: 7.96s\tremaining: 1.75s\n",
      "820:\tlearn: 0.0006101\ttotal: 7.97s\tremaining: 1.74s\n",
      "821:\tlearn: 0.0006084\ttotal: 7.98s\tremaining: 1.73s\n",
      "822:\tlearn: 0.0006083\ttotal: 7.99s\tremaining: 1.72s\n",
      "823:\tlearn: 0.0006071\ttotal: 8s\tremaining: 1.71s\n",
      "824:\tlearn: 0.0006045\ttotal: 8s\tremaining: 1.7s\n",
      "825:\tlearn: 0.0006044\ttotal: 8.01s\tremaining: 1.69s\n",
      "826:\tlearn: 0.0006027\ttotal: 8.02s\tremaining: 1.68s\n",
      "827:\tlearn: 0.0006010\ttotal: 8.03s\tremaining: 1.67s\n",
      "828:\tlearn: 0.0006001\ttotal: 8.04s\tremaining: 1.66s\n",
      "829:\tlearn: 0.0005986\ttotal: 8.04s\tremaining: 1.65s\n",
      "830:\tlearn: 0.0005975\ttotal: 8.05s\tremaining: 1.64s\n",
      "831:\tlearn: 0.0005958\ttotal: 8.06s\tremaining: 1.63s\n",
      "832:\tlearn: 0.0005946\ttotal: 8.07s\tremaining: 1.62s\n",
      "833:\tlearn: 0.0005945\ttotal: 8.08s\tremaining: 1.61s\n",
      "834:\tlearn: 0.0005937\ttotal: 8.08s\tremaining: 1.6s\n"
     ]
    },
    {
     "name": "stdout",
     "output_type": "stream",
     "text": [
      "835:\tlearn: 0.0005920\ttotal: 8.09s\tremaining: 1.59s\n",
      "836:\tlearn: 0.0005912\ttotal: 8.1s\tremaining: 1.58s\n",
      "837:\tlearn: 0.0005902\ttotal: 8.11s\tremaining: 1.57s\n",
      "838:\tlearn: 0.0005888\ttotal: 8.12s\tremaining: 1.56s\n",
      "839:\tlearn: 0.0005874\ttotal: 8.13s\tremaining: 1.55s\n",
      "840:\tlearn: 0.0005858\ttotal: 8.14s\tremaining: 1.54s\n",
      "841:\tlearn: 0.0005850\ttotal: 8.15s\tremaining: 1.53s\n",
      "842:\tlearn: 0.0005826\ttotal: 8.15s\tremaining: 1.52s\n",
      "843:\tlearn: 0.0005813\ttotal: 8.16s\tremaining: 1.51s\n",
      "844:\tlearn: 0.0005805\ttotal: 8.17s\tremaining: 1.5s\n",
      "845:\tlearn: 0.0005795\ttotal: 8.18s\tremaining: 1.49s\n",
      "846:\tlearn: 0.0005782\ttotal: 8.19s\tremaining: 1.48s\n",
      "847:\tlearn: 0.0005775\ttotal: 8.2s\tremaining: 1.47s\n",
      "848:\tlearn: 0.0005764\ttotal: 8.21s\tremaining: 1.46s\n",
      "849:\tlearn: 0.0005755\ttotal: 8.21s\tremaining: 1.45s\n",
      "850:\tlearn: 0.0005748\ttotal: 8.22s\tremaining: 1.44s\n",
      "851:\tlearn: 0.0005747\ttotal: 8.23s\tremaining: 1.43s\n",
      "852:\tlearn: 0.0005742\ttotal: 8.24s\tremaining: 1.42s\n",
      "853:\tlearn: 0.0005735\ttotal: 8.25s\tremaining: 1.41s\n",
      "854:\tlearn: 0.0005720\ttotal: 8.26s\tremaining: 1.4s\n",
      "855:\tlearn: 0.0005706\ttotal: 8.26s\tremaining: 1.39s\n",
      "856:\tlearn: 0.0005699\ttotal: 8.27s\tremaining: 1.38s\n",
      "857:\tlearn: 0.0005685\ttotal: 8.28s\tremaining: 1.37s\n",
      "858:\tlearn: 0.0005675\ttotal: 8.29s\tremaining: 1.36s\n",
      "859:\tlearn: 0.0005669\ttotal: 8.3s\tremaining: 1.35s\n",
      "860:\tlearn: 0.0005668\ttotal: 8.31s\tremaining: 1.34s\n",
      "861:\tlearn: 0.0005663\ttotal: 8.32s\tremaining: 1.33s\n",
      "862:\tlearn: 0.0005655\ttotal: 8.32s\tremaining: 1.32s\n",
      "863:\tlearn: 0.0005640\ttotal: 8.33s\tremaining: 1.31s\n",
      "864:\tlearn: 0.0005630\ttotal: 8.34s\tremaining: 1.3s\n",
      "865:\tlearn: 0.0005608\ttotal: 8.35s\tremaining: 1.29s\n",
      "866:\tlearn: 0.0005601\ttotal: 8.36s\tremaining: 1.28s\n",
      "867:\tlearn: 0.0005593\ttotal: 8.37s\tremaining: 1.27s\n",
      "868:\tlearn: 0.0005583\ttotal: 8.37s\tremaining: 1.26s\n",
      "869:\tlearn: 0.0005583\ttotal: 8.38s\tremaining: 1.25s\n",
      "870:\tlearn: 0.0005576\ttotal: 8.39s\tremaining: 1.24s\n",
      "871:\tlearn: 0.0005561\ttotal: 8.4s\tremaining: 1.23s\n",
      "872:\tlearn: 0.0005551\ttotal: 8.41s\tremaining: 1.22s\n",
      "873:\tlearn: 0.0005551\ttotal: 8.41s\tremaining: 1.21s\n",
      "874:\tlearn: 0.0005536\ttotal: 8.42s\tremaining: 1.2s\n",
      "875:\tlearn: 0.0005536\ttotal: 8.43s\tremaining: 1.19s\n",
      "876:\tlearn: 0.0005520\ttotal: 8.44s\tremaining: 1.18s\n",
      "877:\tlearn: 0.0005505\ttotal: 8.45s\tremaining: 1.17s\n",
      "878:\tlearn: 0.0005491\ttotal: 8.46s\tremaining: 1.16s\n",
      "879:\tlearn: 0.0005484\ttotal: 8.47s\tremaining: 1.15s\n",
      "880:\tlearn: 0.0005470\ttotal: 8.47s\tremaining: 1.14s\n",
      "881:\tlearn: 0.0005456\ttotal: 8.48s\tremaining: 1.13s\n",
      "882:\tlearn: 0.0005451\ttotal: 8.49s\tremaining: 1.13s\n",
      "883:\tlearn: 0.0005438\ttotal: 8.5s\tremaining: 1.11s\n",
      "884:\tlearn: 0.0005418\ttotal: 8.51s\tremaining: 1.1s\n",
      "885:\tlearn: 0.0005410\ttotal: 8.52s\tremaining: 1.09s\n",
      "886:\tlearn: 0.0005404\ttotal: 8.52s\tremaining: 1.08s\n",
      "887:\tlearn: 0.0005398\ttotal: 8.53s\tremaining: 1.08s\n",
      "888:\tlearn: 0.0005397\ttotal: 8.54s\tremaining: 1.07s\n",
      "889:\tlearn: 0.0005393\ttotal: 8.55s\tremaining: 1.06s\n",
      "890:\tlearn: 0.0005393\ttotal: 8.56s\tremaining: 1.05s\n",
      "891:\tlearn: 0.0005388\ttotal: 8.56s\tremaining: 1.04s\n",
      "892:\tlearn: 0.0005384\ttotal: 8.57s\tremaining: 1.03s\n",
      "893:\tlearn: 0.0005378\ttotal: 8.58s\tremaining: 1.02s\n",
      "894:\tlearn: 0.0005377\ttotal: 8.59s\tremaining: 1.01s\n",
      "895:\tlearn: 0.0005373\ttotal: 8.6s\tremaining: 998ms\n",
      "896:\tlearn: 0.0005367\ttotal: 8.61s\tremaining: 988ms\n",
      "897:\tlearn: 0.0005354\ttotal: 8.61s\tremaining: 978ms\n",
      "898:\tlearn: 0.0005340\ttotal: 8.62s\tremaining: 969ms\n",
      "899:\tlearn: 0.0005327\ttotal: 8.64s\tremaining: 960ms\n",
      "900:\tlearn: 0.0005314\ttotal: 8.65s\tremaining: 950ms\n",
      "901:\tlearn: 0.0005303\ttotal: 8.65s\tremaining: 940ms\n",
      "902:\tlearn: 0.0005295\ttotal: 8.66s\tremaining: 931ms\n",
      "903:\tlearn: 0.0005282\ttotal: 8.67s\tremaining: 921ms\n",
      "904:\tlearn: 0.0005276\ttotal: 8.68s\tremaining: 911ms\n",
      "905:\tlearn: 0.0005262\ttotal: 8.69s\tremaining: 902ms\n",
      "906:\tlearn: 0.0005256\ttotal: 8.7s\tremaining: 892ms\n",
      "907:\tlearn: 0.0005249\ttotal: 8.71s\tremaining: 882ms\n",
      "908:\tlearn: 0.0005239\ttotal: 8.72s\tremaining: 873ms\n",
      "909:\tlearn: 0.0005225\ttotal: 8.73s\tremaining: 863ms\n",
      "910:\tlearn: 0.0005219\ttotal: 8.73s\tremaining: 853ms\n",
      "911:\tlearn: 0.0005219\ttotal: 8.74s\tremaining: 844ms\n",
      "912:\tlearn: 0.0005219\ttotal: 8.75s\tremaining: 834ms\n",
      "913:\tlearn: 0.0005218\ttotal: 8.76s\tremaining: 824ms\n",
      "914:\tlearn: 0.0005204\ttotal: 8.77s\tremaining: 814ms\n",
      "915:\tlearn: 0.0005193\ttotal: 8.77s\tremaining: 805ms\n",
      "916:\tlearn: 0.0005192\ttotal: 8.78s\tremaining: 795ms\n",
      "917:\tlearn: 0.0005188\ttotal: 8.79s\tremaining: 785ms\n",
      "918:\tlearn: 0.0005184\ttotal: 8.8s\tremaining: 776ms\n",
      "919:\tlearn: 0.0005184\ttotal: 8.81s\tremaining: 766ms\n",
      "920:\tlearn: 0.0005171\ttotal: 8.82s\tremaining: 757ms\n",
      "921:\tlearn: 0.0005163\ttotal: 8.83s\tremaining: 747ms\n",
      "922:\tlearn: 0.0005162\ttotal: 8.84s\tremaining: 737ms\n",
      "923:\tlearn: 0.0005150\ttotal: 8.84s\tremaining: 727ms\n",
      "924:\tlearn: 0.0005150\ttotal: 8.85s\tremaining: 718ms\n",
      "925:\tlearn: 0.0005136\ttotal: 8.86s\tremaining: 708ms\n",
      "926:\tlearn: 0.0005136\ttotal: 8.87s\tremaining: 698ms\n",
      "927:\tlearn: 0.0005136\ttotal: 8.88s\tremaining: 689ms\n",
      "928:\tlearn: 0.0005118\ttotal: 8.88s\tremaining: 679ms\n",
      "929:\tlearn: 0.0005105\ttotal: 8.89s\tremaining: 669ms\n",
      "930:\tlearn: 0.0005093\ttotal: 8.9s\tremaining: 660ms\n",
      "931:\tlearn: 0.0005080\ttotal: 8.91s\tremaining: 650ms\n",
      "932:\tlearn: 0.0005075\ttotal: 8.91s\tremaining: 640ms\n",
      "933:\tlearn: 0.0005074\ttotal: 8.92s\tremaining: 631ms\n",
      "934:\tlearn: 0.0005072\ttotal: 8.93s\tremaining: 621ms\n",
      "935:\tlearn: 0.0005072\ttotal: 8.94s\tremaining: 611ms\n",
      "936:\tlearn: 0.0005064\ttotal: 8.95s\tremaining: 602ms\n",
      "937:\tlearn: 0.0005054\ttotal: 8.96s\tremaining: 592ms\n",
      "938:\tlearn: 0.0005053\ttotal: 8.96s\tremaining: 582ms\n",
      "939:\tlearn: 0.0005041\ttotal: 8.97s\tremaining: 573ms\n",
      "940:\tlearn: 0.0005030\ttotal: 8.98s\tremaining: 563ms\n",
      "941:\tlearn: 0.0005022\ttotal: 8.99s\tremaining: 554ms\n",
      "942:\tlearn: 0.0005022\ttotal: 9s\tremaining: 544ms\n",
      "943:\tlearn: 0.0005009\ttotal: 9.01s\tremaining: 534ms\n",
      "944:\tlearn: 0.0005008\ttotal: 9.02s\tremaining: 525ms\n",
      "945:\tlearn: 0.0005002\ttotal: 9.02s\tremaining: 515ms\n",
      "946:\tlearn: 0.0005002\ttotal: 9.03s\tremaining: 506ms\n",
      "947:\tlearn: 0.0005002\ttotal: 9.04s\tremaining: 496ms\n",
      "948:\tlearn: 0.0005001\ttotal: 9.05s\tremaining: 486ms\n",
      "949:\tlearn: 0.0004989\ttotal: 9.06s\tremaining: 477ms\n",
      "950:\tlearn: 0.0004978\ttotal: 9.06s\tremaining: 467ms\n",
      "951:\tlearn: 0.0004975\ttotal: 9.07s\tremaining: 457ms\n",
      "952:\tlearn: 0.0004973\ttotal: 9.08s\tremaining: 448ms\n",
      "953:\tlearn: 0.0004973\ttotal: 9.09s\tremaining: 438ms\n",
      "954:\tlearn: 0.0004971\ttotal: 9.1s\tremaining: 429ms\n",
      "955:\tlearn: 0.0004964\ttotal: 9.11s\tremaining: 419ms\n",
      "956:\tlearn: 0.0004962\ttotal: 9.11s\tremaining: 409ms\n",
      "957:\tlearn: 0.0004951\ttotal: 9.12s\tremaining: 400ms\n",
      "958:\tlearn: 0.0004951\ttotal: 9.13s\tremaining: 390ms\n",
      "959:\tlearn: 0.0004951\ttotal: 9.14s\tremaining: 381ms\n",
      "960:\tlearn: 0.0004947\ttotal: 9.14s\tremaining: 371ms\n",
      "961:\tlearn: 0.0004947\ttotal: 9.15s\tremaining: 362ms\n",
      "962:\tlearn: 0.0004944\ttotal: 9.16s\tremaining: 352ms\n",
      "963:\tlearn: 0.0004939\ttotal: 9.17s\tremaining: 343ms\n",
      "964:\tlearn: 0.0004939\ttotal: 9.18s\tremaining: 333ms\n",
      "965:\tlearn: 0.0004937\ttotal: 9.19s\tremaining: 323ms\n",
      "966:\tlearn: 0.0004929\ttotal: 9.2s\tremaining: 314ms\n",
      "967:\tlearn: 0.0004925\ttotal: 9.2s\tremaining: 304ms\n",
      "968:\tlearn: 0.0004921\ttotal: 9.21s\tremaining: 295ms\n",
      "969:\tlearn: 0.0004915\ttotal: 9.22s\tremaining: 285ms\n",
      "970:\tlearn: 0.0004910\ttotal: 9.23s\tremaining: 276ms\n",
      "971:\tlearn: 0.0004906\ttotal: 9.24s\tremaining: 266ms\n",
      "972:\tlearn: 0.0004906\ttotal: 9.24s\tremaining: 257ms\n",
      "973:\tlearn: 0.0004902\ttotal: 9.25s\tremaining: 247ms\n",
      "974:\tlearn: 0.0004893\ttotal: 9.26s\tremaining: 237ms\n",
      "975:\tlearn: 0.0004882\ttotal: 9.27s\tremaining: 228ms\n",
      "976:\tlearn: 0.0004871\ttotal: 9.28s\tremaining: 218ms\n",
      "977:\tlearn: 0.0004862\ttotal: 9.29s\tremaining: 209ms\n",
      "978:\tlearn: 0.0004861\ttotal: 9.29s\tremaining: 199ms\n",
      "979:\tlearn: 0.0004856\ttotal: 9.3s\tremaining: 190ms\n",
      "980:\tlearn: 0.0004852\ttotal: 9.31s\tremaining: 180ms\n",
      "981:\tlearn: 0.0004851\ttotal: 9.32s\tremaining: 171ms\n",
      "982:\tlearn: 0.0004841\ttotal: 9.33s\tremaining: 161ms\n",
      "983:\tlearn: 0.0004839\ttotal: 9.34s\tremaining: 152ms\n",
      "984:\tlearn: 0.0004839\ttotal: 9.35s\tremaining: 142ms\n",
      "985:\tlearn: 0.0004831\ttotal: 9.36s\tremaining: 133ms\n",
      "986:\tlearn: 0.0004824\ttotal: 9.36s\tremaining: 123ms\n",
      "987:\tlearn: 0.0004820\ttotal: 9.37s\tremaining: 114ms\n",
      "988:\tlearn: 0.0004817\ttotal: 9.38s\tremaining: 104ms\n",
      "989:\tlearn: 0.0004812\ttotal: 9.39s\tremaining: 94.8ms\n",
      "990:\tlearn: 0.0004802\ttotal: 9.4s\tremaining: 85.3ms\n",
      "991:\tlearn: 0.0004798\ttotal: 9.4s\tremaining: 75.8ms\n",
      "992:\tlearn: 0.0004793\ttotal: 9.41s\tremaining: 66.4ms\n",
      "993:\tlearn: 0.0004787\ttotal: 9.42s\tremaining: 56.9ms\n",
      "994:\tlearn: 0.0004783\ttotal: 9.43s\tremaining: 47.4ms\n",
      "995:\tlearn: 0.0004781\ttotal: 9.44s\tremaining: 37.9ms\n",
      "996:\tlearn: 0.0004772\ttotal: 9.45s\tremaining: 28.4ms\n",
      "997:\tlearn: 0.0004769\ttotal: 9.45s\tremaining: 18.9ms\n",
      "998:\tlearn: 0.0004763\ttotal: 9.46s\tremaining: 9.47ms\n",
      "999:\tlearn: 0.0004751\ttotal: 9.47s\tremaining: 0us\n"
     ]
    },
    {
     "name": "stderr",
     "output_type": "stream",
     "text": [
      "D:\\anaconda3\\lib\\site-packages\\sklearn\\linear_model\\logistic.py:433: FutureWarning: Default solver will be changed to 'lbfgs' in 0.22. Specify a solver to silence this warning.\n",
      "  FutureWarning)\n"
     ]
    }
   ],
   "source": [
    "from mlxtend.classifier import StackingClassifier\n",
    "import lightgbm as lgb\n",
    "import catboost as cb\n",
    "import xgboost as xgb\n",
    "from sklearn.linear_model import LogisticRegression\n",
    "\n",
    "clf_stack1 = lgb.LGBMClassifier(learning_rate = 0.1)\n",
    "clf_stack2 = cb.CatBoostClassifier(learning_rate = 0.1)\n",
    "clf_stack3 = xgb.XGBClassifier(learning_rate = 0.1)\n",
    "lr = LogisticRegression()\n",
    "\n",
    "clf_stack = StackingClassifier(classifiers = [clf_stack1, clf_stack2, clf_stack3], meta_classifier = lr)\n",
    "clf_stack.fit(X_train, y_train)\n",
    "y_pred = clf_stack.predict(X_test)"
   ]
  },
  {
   "cell_type": "code",
   "execution_count": 60,
   "metadata": {
    "ExecuteTime": {
     "end_time": "2019-11-08T08:45:27.548000Z",
     "start_time": "2019-11-08T08:45:27.304000Z"
    }
   },
   "outputs": [
    {
     "name": "stdout",
     "output_type": "stream",
     "text": [
      "Confusion matrix, without normalization\n",
      "[[ 60   3]\n",
      " [  2 106]]\n"
     ]
    },
    {
     "data": {
      "image/png": "[encoded data removed]",
      "text/plain": [
       "<Figure size 432x288 with 2 Axes>"
      ]
     },
     "metadata": {
      "needs_background": "light"
     },
     "output_type": "display_data"
    }
   ],
   "source": [
    "plot_confusion_matrix(y_test, y_pred, cname)\n",
    "plt.show()"
   ]
  },
  {
   "cell_type": "code",
   "execution_count": 61,
   "metadata": {
    "ExecuteTime": {
     "end_time": "2019-11-08T08:45:29.706000Z",
     "start_time": "2019-11-08T08:45:29.695000Z"
    }
   },
   "outputs": [
    {
     "name": "stdout",
     "output_type": "stream",
     "text": [
      "Accuracy Stack Classifier: 97.08%\n"
     ]
    }
   ],
   "source": [
    "# Get the accuracy score\n",
    "acc_stack = metrics.accuracy_score(y_test, y_pred)\n",
    "print(\"Accuracy Stack Classifier: {:0.2f}%\".format(acc_stack*100))"
   ]
  }
 ],
 "metadata": {
  "kernelspec": {
   "display_name": "Python 3",
   "language": "python",
   "name": "python3"
  },
  "language_info": {
   "codemirror_mode": {
    "name": "ipython",
    "version": 3
   },
   "file_extension": ".py",
   "mimetype": "text/x-python",
   "name": "python",
   "nbconvert_exporter": "python",
   "pygments_lexer": "ipython3",
   "version": "3.7.3"
  },
  "toc": {
   "base_numbering": 1,
   "nav_menu": {},
   "number_sections": true,
   "sideBar": true,
   "skip_h1_title": false,
   "title_cell": "Table of Contents",
   "title_sidebar": "Contents",
   "toc_cell": false,
   "toc_position": {},
   "toc_section_display": true,
   "toc_window_display": false
  }
 },
 "nbformat": 4,
 "nbformat_minor": 2
}
